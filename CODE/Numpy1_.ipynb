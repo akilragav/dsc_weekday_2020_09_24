{
 "cells": [
  {
   "cell_type": "code",
   "execution_count": null,
   "metadata": {},
   "outputs": [],
   "source": [
    "# What is numpy?\n",
    "# Why numpy?"
   ]
  },
  {
   "cell_type": "code",
   "execution_count": null,
   "metadata": {},
   "outputs": [],
   "source": [
    "# c-array vs python list\n",
    "# c \n",
    "# - size of data type is fixed ex: int=>4 bytes\n",
    "# - array elements are  of same type\n",
    "\n",
    "# a = [10,20]\n",
    "# a: 0x1100\n",
    "#     [ 10, 20, 30]\n",
    "#    10 : 0x1100\n",
    "#    20 : 0x1104\n",
    "\n",
    "# python\n",
    "# - types don't have a fixed size\n",
    "# - list elements can be of different type\n",
    "\n",
    "a = [ 10, \"abcd\"]\n",
    "# a:0x1000  \n",
    "#   [ 0x1100,  0x1200 ]\n",
    "\n",
    "# 0x1100 10\n",
    "# 0x1200 \"abcd\""
   ]
  },
  {
   "cell_type": "code",
   "execution_count": 2,
   "metadata": {},
   "outputs": [],
   "source": [
    "# imports go here\n",
    "import numpy as np"
   ]
  },
  {
   "cell_type": "code",
   "execution_count": 3,
   "metadata": {},
   "outputs": [
    {
     "name": "stdout",
     "output_type": "stream",
     "text": [
      "['ALLOW_THREADS', 'AxisError', 'BUFSIZE', 'CLIP', 'ComplexWarning', 'DataSource', 'ERR_CALL', 'ERR_DEFAULT', 'ERR_IGNORE', 'ERR_LOG', 'ERR_PRINT', 'ERR_RAISE', 'ERR_WARN', 'FLOATING_POINT_SUPPORT', 'FPE_DIVIDEBYZERO', 'FPE_INVALID', 'FPE_OVERFLOW', 'FPE_UNDERFLOW', 'False_', 'Inf', 'Infinity', 'MAXDIMS', 'MAY_SHARE_BOUNDS', 'MAY_SHARE_EXACT', 'MachAr', 'ModuleDeprecationWarning', 'NAN', 'NINF', 'NZERO', 'NaN', 'PINF', 'PZERO', 'RAISE', 'RankWarning', 'SHIFT_DIVIDEBYZERO', 'SHIFT_INVALID', 'SHIFT_OVERFLOW', 'SHIFT_UNDERFLOW', 'ScalarType', 'Tester', 'TooHardError', 'True_', 'UFUNC_BUFSIZE_DEFAULT', 'UFUNC_PYVALS_NAME', 'VisibleDeprecationWarning', 'WRAP', '_NoValue', '_UFUNC_API', '__NUMPY_SETUP__', '__all__', '__builtins__', '__cached__', '__config__', '__doc__', '__file__', '__git_revision__', '__loader__', '__mkl_version__', '__name__', '__package__', '__path__', '__spec__', '__version__', '_add_newdoc_ufunc', '_arg', '_distributor_init', '_globals', '_mat', '_mklinit', '_pytesttester', 'abs', 'absolute', 'absolute_import', 'add', 'add_docstring', 'add_newdoc', 'add_newdoc_ufunc', 'alen', 'all', 'allclose', 'alltrue', 'amax', 'amin', 'angle', 'any', 'append', 'apply_along_axis', 'apply_over_axes', 'arange', 'arccos', 'arccosh', 'arcsin', 'arcsinh', 'arctan', 'arctan2', 'arctanh', 'argmax', 'argmin', 'argpartition', 'argsort', 'argwhere', 'around', 'array', 'array2string', 'array_equal', 'array_equiv', 'array_repr', 'array_split', 'array_str', 'asanyarray', 'asarray', 'asarray_chkfinite', 'ascontiguousarray', 'asfarray', 'asfortranarray', 'asmatrix', 'asscalar', 'atleast_1d', 'atleast_2d', 'atleast_3d', 'average', 'bartlett', 'base_repr', 'binary_repr', 'bincount', 'bitwise_and', 'bitwise_not', 'bitwise_or', 'bitwise_xor', 'blackman', 'block', 'bmat', 'bool', 'bool8', 'bool_', 'broadcast', 'broadcast_arrays', 'broadcast_to', 'busday_count', 'busday_offset', 'busdaycalendar', 'byte', 'byte_bounds', 'bytes0', 'bytes_', 'c_', 'can_cast', 'cast', 'cbrt', 'cdouble', 'ceil', 'cfloat', 'char', 'character', 'chararray', 'choose', 'clip', 'clongdouble', 'clongfloat', 'column_stack', 'common_type', 'compare_chararrays', 'compat', 'complex', 'complex128', 'complex64', 'complex_', 'complexfloating', 'compress', 'concatenate', 'conj', 'conjugate', 'convolve', 'copy', 'copysign', 'copyto', 'core', 'corrcoef', 'correlate', 'cos', 'cosh', 'count_nonzero', 'cov', 'cross', 'csingle', 'ctypeslib', 'cumprod', 'cumproduct', 'cumsum', 'datetime64', 'datetime_as_string', 'datetime_data', 'deg2rad', 'degrees', 'delete', 'deprecate', 'deprecate_with_doc', 'diag', 'diag_indices', 'diag_indices_from', 'diagflat', 'diagonal', 'diff', 'digitize', 'disp', 'divide', 'division', 'divmod', 'dot', 'double', 'dsplit', 'dstack', 'dtype', 'e', 'ediff1d', 'einsum', 'einsum_path', 'emath', 'empty', 'empty_like', 'equal', 'errstate', 'euler_gamma', 'exp', 'exp2', 'expand_dims', 'expm1', 'extract', 'eye', 'fabs', 'fastCopyAndTranspose', 'fft', 'fill_diagonal', 'find_common_type', 'finfo', 'fix', 'flatiter', 'flatnonzero', 'flexible', 'flip', 'fliplr', 'flipud', 'float', 'float16', 'float32', 'float64', 'float_', 'float_power', 'floating', 'floor', 'floor_divide', 'fmax', 'fmin', 'fmod', 'format_float_positional', 'format_float_scientific', 'format_parser', 'frexp', 'frombuffer', 'fromfile', 'fromfunction', 'fromiter', 'frompyfunc', 'fromregex', 'fromstring', 'full', 'full_like', 'fv', 'gcd', 'generic', 'genfromtxt', 'geomspace', 'get_array_wrap', 'get_include', 'get_printoptions', 'getbufsize', 'geterr', 'geterrcall', 'geterrobj', 'gradient', 'greater', 'greater_equal', 'half', 'hamming', 'hanning', 'heaviside', 'histogram', 'histogram2d', 'histogram_bin_edges', 'histogramdd', 'hsplit', 'hstack', 'hypot', 'i0', 'identity', 'iinfo', 'imag', 'in1d', 'index_exp', 'indices', 'inexact', 'inf', 'info', 'infty', 'inner', 'insert', 'int', 'int0', 'int16', 'int32', 'int64', 'int8', 'int_', 'int_asbuffer', 'intc', 'integer', 'interp', 'intersect1d', 'intp', 'invert', 'ipmt', 'irr', 'is_busday', 'isclose', 'iscomplex', 'iscomplexobj', 'isfinite', 'isfortran', 'isin', 'isinf', 'isnan', 'isnat', 'isneginf', 'isposinf', 'isreal', 'isrealobj', 'isscalar', 'issctype', 'issubclass_', 'issubdtype', 'issubsctype', 'iterable', 'ix_', 'kaiser', 'kron', 'lcm', 'ldexp', 'left_shift', 'less', 'less_equal', 'lexsort', 'lib', 'linalg', 'linspace', 'little_endian', 'load', 'loads', 'loadtxt', 'log', 'log10', 'log1p', 'log2', 'logaddexp', 'logaddexp2', 'logical_and', 'logical_not', 'logical_or', 'logical_xor', 'logspace', 'long', 'longcomplex', 'longdouble', 'longfloat', 'longlong', 'lookfor', 'ma', 'mafromtxt', 'mask_indices', 'mat', 'math', 'matmul', 'matrix', 'matrixlib', 'max', 'maximum', 'maximum_sctype', 'may_share_memory', 'mean', 'median', 'memmap', 'meshgrid', 'mgrid', 'min', 'min_scalar_type', 'minimum', 'mintypecode', 'mirr', 'mod', 'modf', 'moveaxis', 'msort', 'multiply', 'nan', 'nan_to_num', 'nanargmax', 'nanargmin', 'nancumprod', 'nancumsum', 'nanmax', 'nanmean', 'nanmedian', 'nanmin', 'nanpercentile', 'nanprod', 'nanquantile', 'nanstd', 'nansum', 'nanvar', 'nbytes', 'ndarray', 'ndenumerate', 'ndfromtxt', 'ndim', 'ndindex', 'nditer', 'negative', 'nested_iters', 'newaxis', 'nextafter', 'nonzero', 'not_equal', 'nper', 'npv', 'numarray', 'number', 'obj2sctype', 'object', 'object0', 'object_', 'ogrid', 'oldnumeric', 'ones', 'ones_like', 'outer', 'packbits', 'pad', 'partition', 'percentile', 'pi', 'piecewise', 'place', 'pmt', 'poly', 'poly1d', 'polyadd', 'polyder', 'polydiv', 'polyfit', 'polyint', 'polymul', 'polynomial', 'polysub', 'polyval', 'positive', 'power', 'ppmt', 'print_function', 'printoptions', 'prod', 'product', 'promote_types', 'ptp', 'put', 'put_along_axis', 'putmask', 'pv', 'quantile', 'r_', 'rad2deg', 'radians', 'random', 'rank', 'rate', 'ravel', 'ravel_multi_index', 'real', 'real_if_close', 'rec', 'recarray', 'recfromcsv', 'recfromtxt', 'reciprocal', 'record', 'remainder', 'repeat', 'require', 'reshape', 'resize', 'result_type', 'right_shift', 'rint', 'roll', 'rollaxis', 'roots', 'rot90', 'round', 'round_', 'row_stack', 's_', 'safe_eval', 'save', 'savetxt', 'savez', 'savez_compressed', 'sctype2char', 'sctypeDict', 'sctypeNA', 'sctypes', 'searchsorted', 'select', 'set_numeric_ops', 'set_printoptions', 'set_string_function', 'setbufsize', 'setdiff1d', 'seterr', 'seterrcall', 'seterrobj', 'setxor1d', 'shape', 'shares_memory', 'short', 'show_config', 'sign', 'signbit', 'signedinteger', 'sin', 'sinc', 'single', 'singlecomplex', 'sinh', 'size', 'sometrue', 'sort', 'sort_complex', 'source', 'spacing', 'split', 'sqrt', 'square', 'squeeze', 'stack', 'std', 'str', 'str0', 'str_', 'string_', 'subtract', 'sum', 'swapaxes', 'sys', 'take', 'take_along_axis', 'tan', 'tanh', 'tensordot', 'test', 'testing', 'tile', 'timedelta64', 'trace', 'tracemalloc_domain', 'transpose', 'trapz', 'tri', 'tril', 'tril_indices', 'tril_indices_from', 'trim_zeros', 'triu', 'triu_indices', 'triu_indices_from', 'true_divide', 'trunc', 'typeDict', 'typeNA', 'typecodes', 'typename', 'ubyte', 'ufunc', 'uint', 'uint0', 'uint16', 'uint32', 'uint64', 'uint8', 'uintc', 'uintp', 'ulonglong', 'unicode', 'unicode_', 'union1d', 'unique', 'unpackbits', 'unravel_index', 'unsignedinteger', 'unwrap', 'ushort', 'vander', 'var', 'vdot', 'vectorize', 'version', 'void', 'void0', 'vsplit', 'vstack', 'warnings', 'where', 'who', 'zeros', 'zeros_like']\n"
     ]
    }
   ],
   "source": [
    "# what's inside numpy module\n",
    "print(dir(np))"
   ]
  },
  {
   "cell_type": "code",
   "execution_count": null,
   "metadata": {},
   "outputs": [],
   "source": [
    "# ndarray\n",
    "# n dimensional array :vectors, matrices.. or even higher dimensional data"
   ]
  },
  {
   "cell_type": "code",
   "execution_count": 23,
   "metadata": {},
   "outputs": [
    {
     "name": "stdout",
     "output_type": "stream",
     "text": [
      "0 <class 'numpy.int8'>\n",
      "19 <class 'numpy.int8'>\n",
      "127 <class 'numpy.int8'>\n",
      "-128 <class 'numpy.int8'>\n",
      "-24 <class 'numpy.int8'>\n",
      "\n",
      "1000 <class 'numpy.int16'>\n",
      "-25536 <class 'numpy.int16'>\n",
      "\n",
      "40000 <class 'numpy.int32'>\n",
      "2000000000 <class 'numpy.int32'>\n",
      "4000000000 <class 'numpy.int64'>\n"
     ]
    }
   ],
   "source": [
    "# numpy int and float types\n",
    "i = np.int8()\n",
    "print(i, type(i))\n",
    "i = np.int8(19)\n",
    "print(i, type(i))\n",
    "i = np.int8(127)\n",
    "print(i, type(i))\n",
    "i = np.int8(128)\n",
    "print(i, type(i))\n",
    "i = np.int8(1000)\n",
    "print(i, type(i))\n",
    "\n",
    "print()\n",
    "i = np.int16(1000)\n",
    "print(i, type(i))\n",
    "i = np.int16(40000)\n",
    "print(i, type(i))\n",
    "\n",
    "print()\n",
    "i = np.int32(40000)\n",
    "print(i, type(i))\n",
    "i = np.int32(2000000000)\n",
    "print(i, type(i))\n",
    "i = np.int64(4000000000)\n",
    "print(i, type(i))"
   ]
  },
  {
   "cell_type": "code",
   "execution_count": 25,
   "metadata": {},
   "outputs": [
    {
     "name": "stdout",
     "output_type": "stream",
     "text": [
      "[] <class 'numpy.ndarray'>\n"
     ]
    }
   ],
   "source": [
    "d = np.array( [] )\n",
    "print(d, type(d))"
   ]
  },
  {
   "cell_type": "code",
   "execution_count": 30,
   "metadata": {},
   "outputs": [
    {
     "name": "stdout",
     "output_type": "stream",
     "text": [
      "[ 10 -56] <class 'numpy.ndarray'> int8\n"
     ]
    }
   ],
   "source": [
    "d = np.array( [10,200], dtype=np.int8 )\n",
    "print(d, type(d), d.dtype)"
   ]
  },
  {
   "cell_type": "code",
   "execution_count": 31,
   "metadata": {},
   "outputs": [
    {
     "name": "stdout",
     "output_type": "stream",
     "text": [
      "[ 10 200] <class 'numpy.ndarray'> int32\n"
     ]
    }
   ],
   "source": [
    "d = np.array( [10,200] )\n",
    "print(d, type(d), d.dtype)"
   ]
  },
  {
   "cell_type": "code",
   "execution_count": 32,
   "metadata": {},
   "outputs": [
    {
     "name": "stdout",
     "output_type": "stream",
     "text": [
      "[        10        200 4000000000] <class 'numpy.ndarray'> int64\n"
     ]
    }
   ],
   "source": [
    "d = np.array( [10,200, 4000000000] )\n",
    "print(d, type(d), d.dtype)"
   ]
  },
  {
   "cell_type": "code",
   "execution_count": 42,
   "metadata": {},
   "outputs": [
    {
     "name": "stdout",
     "output_type": "stream",
     "text": [
      "[1.e+01 2.e+02 4.e+09] <class 'numpy.ndarray'> float64\n"
     ]
    }
   ],
   "source": [
    "d = np.array( [10,200, 4000000000], dtype='float64' )\n",
    "print(d, type(d), d.dtype)\n",
    "\n",
    "# 4000 = 4*(10^3)\n",
    "# 4e+3\n",
    "\n",
    "# 0.0004 = 4.0 * (10^-4)\n",
    "# 4e-4"
   ]
  },
  {
   "cell_type": "code",
   "execution_count": 41,
   "metadata": {},
   "outputs": [
    {
     "name": "stdout",
     "output_type": "stream",
     "text": [
      "[10 200 400000000000000000000000000000000000000000000000000000000] <class 'numpy.ndarray'> object\n"
     ]
    }
   ],
   "source": [
    "d = np.array( [10,200, 400000000000000000000000000000000000000000000000000000000]  )\n",
    "print(d, type(d), d.dtype)"
   ]
  },
  {
   "cell_type": "code",
   "execution_count": 43,
   "metadata": {},
   "outputs": [
    {
     "name": "stdout",
     "output_type": "stream",
     "text": [
      "[ 10.  200.    4.1] float64\n"
     ]
    }
   ],
   "source": [
    "d = np.array( [10,200, 4.1])\n",
    "print(d, d.dtype)"
   ]
  },
  {
   "cell_type": "code",
   "execution_count": 44,
   "metadata": {},
   "outputs": [
    {
     "name": "stdout",
     "output_type": "stream",
     "text": [
      "['10' '200' '4.1' 'abcd'] <U32\n"
     ]
    }
   ],
   "source": [
    "d = np.array( [10,200, 4.1, \"abcd\"])\n",
    "print(d, d.dtype)b\n"
   ]
  },
  {
   "cell_type": "code",
   "execution_count": 57,
   "metadata": {},
   "outputs": [
    {
     "name": "stdout",
     "output_type": "stream",
     "text": [
      "['abcd' 'ab' '123456'] <U6\n",
      "<U6\n",
      "(3,)\n",
      "3\n",
      "(3,)\n"
     ]
    }
   ],
   "source": [
    "d = np.array( [\"abcd\", \"ab\", \"123456\"])\n",
    "print(d, d.dtype)\n",
    "\n",
    "print(d.dtype)\n",
    "print(d.shape)\n",
    "print(d.size)\n",
    "print(d.T.shape)"
   ]
  },
  {
   "cell_type": "code",
   "execution_count": 7,
   "metadata": {},
   "outputs": [
    {
     "name": "stdout",
     "output_type": "stream",
     "text": [
      "10\n",
      "[10, 203, 40, 50]\n",
      "[[1, 2, 3], [4, 5, 6]]\n",
      "6\n"
     ]
    }
   ],
   "source": [
    "# What's a scalar, vector and matrix\n",
    "print(10) # scalar\n",
    "print( [10,203,40,50 ]) # vector :1-d array\n",
    "\n",
    "a = [[1,2,3],\n",
    "     [4,5,6]]\n",
    "print(  a ) # marix : 2-d array\n",
    "print(a[1][2])\n"
   ]
  },
  {
   "cell_type": "code",
   "execution_count": 65,
   "metadata": {},
   "outputs": [
    {
     "name": "stdout",
     "output_type": "stream",
     "text": [
      "[[1 2 3]\n",
      " [4 5 6]] <class 'numpy.ndarray'>\n",
      "type int32\n",
      "shape (2, 3)\n",
      "size 6\n",
      "ndim 2\n",
      "[[1 4]\n",
      " [2 5]\n",
      " [3 6]]\n",
      "\n",
      "[[1]\n",
      " [2]\n",
      " [3]] (3, 1)\n"
     ]
    }
   ],
   "source": [
    "# ndarray type and array function\n",
    "a = np.array([ [1,2,3], [4,5,6]])\n",
    "print(a, type(a))\n",
    "print(\"type\", a.dtype)\n",
    "print(\"shape\", a.shape)\n",
    "print(\"size\", a.size)\n",
    "print(\"ndim\", a.ndim)\n",
    "print(a.T) # Transpose\n",
    "\n",
    "print()\n",
    "a = np.array([ [1],[2],[3]])\n",
    "print(a, a.shape)"
   ]
  },
  {
   "cell_type": "code",
   "execution_count": null,
   "metadata": {},
   "outputs": [],
   "source": [
    "\n"
   ]
  },
  {
   "cell_type": "code",
   "execution_count": 66,
   "metadata": {},
   "outputs": [],
   "source": [
    "# 2d arrays/ matrices\n",
    "mat1 = np.array( [\n",
    "    [10,20,30], \n",
    "    [60,50,40],\n",
    "])"
   ]
  },
  {
   "cell_type": "code",
   "execution_count": 70,
   "metadata": {},
   "outputs": [
    {
     "name": "stdout",
     "output_type": "stream",
     "text": [
      "int32\n",
      "[[10. 20. 30.]\n",
      " [60. 50. 40.]]\n",
      "[[10 20 30]\n",
      " [60 50 40]]\n"
     ]
    }
   ],
   "source": [
    "# customizing data types of arrays\n",
    "print(mat1.dtype)\n",
    "r = mat1.astype(\"float32\")\n",
    "print(r)\n",
    "print(mat1)"
   ]
  },
  {
   "cell_type": "code",
   "execution_count": 71,
   "metadata": {},
   "outputs": [],
   "source": [
    "# narray attributes: dtype, size, shape, T, itemsize, ndim\n",
    "# itemsize tell size of an item of an element in num of bytes\n",
    "# itemsize is dependent on dtype/data type"
   ]
  },
  {
   "cell_type": "code",
   "execution_count": 86,
   "metadata": {},
   "outputs": [
    {
     "name": "stdout",
     "output_type": "stream",
     "text": [
      "nan\n",
      "<class 'float'>\n",
      "nan\n",
      "nan\n",
      "nan\n",
      "False\n",
      "False\n",
      "False\n",
      "True\n",
      "1\n"
     ]
    }
   ],
   "source": [
    "# nan and operations on nan with scalar\n",
    "print(np.nan)\n",
    "print(type(np.nan))\n",
    "\n",
    "print(np.nan + np.nan)\n",
    "print(np.nan + 1)\n",
    "print(np.nan + 1 * 20)\n",
    "print(np.nan > 1)\n",
    "print(np.nan < 1)\n",
    "print(np.nan == np.nan)\n",
    "print(np.nan != np.nan)\n",
    "print(np.nan and np.int(1))"
   ]
  },
  {
   "cell_type": "code",
   "execution_count": 6,
   "metadata": {},
   "outputs": [
    {
     "name": "stdout",
     "output_type": "stream",
     "text": [
      "[0. 0. 0. 0. 0. 0. 0. 0. 0. 0.]\n",
      "\n",
      "[[0. 0.]\n",
      " [0. 0.]\n",
      " [0. 0.]]\n",
      "\n",
      "[[[0. 0. 0. 0.]\n",
      "  [0. 0. 0. 0.]]\n",
      "\n",
      " [[0. 0. 0. 0.]\n",
      "  [0. 0. 0. 0.]]\n",
      "\n",
      " [[0. 0. 0. 0.]\n",
      "  [0. 0. 0. 0.]]]\n"
     ]
    }
   ],
   "source": [
    "# creating numpy arrays: ones, zeros, arange, linspace\n",
    "print(np.zeros(10))\n",
    "print()\n",
    "print(np.zeros((3,2)))\n",
    "print()\n",
    "print(np.zeros((3,2,4)))"
   ]
  },
  {
   "cell_type": "code",
   "execution_count": 12,
   "metadata": {},
   "outputs": [
    {
     "name": "stdout",
     "output_type": "stream",
     "text": [
      "[0 1 2 3 4 5 6 7 8 9]\n",
      "[10 11 12 13 14 15 16 17 18 19]\n",
      "[10. 12. 14. 16. 18.]\n"
     ]
    }
   ],
   "source": [
    "# arange generates an array, which is  different from python range function\n",
    "print(np.arange(10))\n",
    "print(np.arange(10,20))\n",
    "print(np.arange(10,20,2, dtype=\"float\"))"
   ]
  },
  {
   "cell_type": "code",
   "execution_count": 16,
   "metadata": {},
   "outputs": [
    {
     "name": "stdout",
     "output_type": "stream",
     "text": [
      "[10. 12. 14. 16. 18. 20.]\n"
     ]
    }
   ],
   "source": [
    "# linspace generates  step based on no. of elements\n",
    "print(np.linspace(10,20, 6)) # linear space:6 here is no. of elements"
   ]
  },
  {
   "cell_type": "code",
   "execution_count": null,
   "metadata": {},
   "outputs": [],
   "source": [
    "# reshaping and resizing"
   ]
  },
  {
   "cell_type": "code",
   "execution_count": 20,
   "metadata": {},
   "outputs": [
    {
     "name": "stdout",
     "output_type": "stream",
     "text": [
      "[10 11 12 13 14 15 16 17 18 19 20 21] 12\n",
      "[[10 11 12 13]\n",
      " [14 15 16 17]\n",
      " [18 19 20 21]]\n",
      "\n",
      "[10 11 12 13 14 15 16 17 18 19 20 21]\n"
     ]
    },
    {
     "ename": "ValueError",
     "evalue": "cannot reshape array of size 12 into shape (4,4)",
     "output_type": "error",
     "traceback": [
      "\u001b[1;31m---------------------------------------------------------------------------\u001b[0m",
      "\u001b[1;31mValueError\u001b[0m                                Traceback (most recent call last)",
      "\u001b[1;32m<ipython-input-20-3b8accfbc0d5>\u001b[0m in \u001b[0;36m<module>\u001b[1;34m\u001b[0m\n\u001b[0;32m      8\u001b[0m \u001b[0mprint\u001b[0m\u001b[1;33m(\u001b[0m\u001b[0ma\u001b[0m\u001b[1;33m)\u001b[0m\u001b[1;33m\u001b[0m\u001b[1;33m\u001b[0m\u001b[0m\n\u001b[0;32m      9\u001b[0m \u001b[1;33m\u001b[0m\u001b[0m\n\u001b[1;32m---> 10\u001b[1;33m \u001b[0mr\u001b[0m\u001b[1;33m=\u001b[0m\u001b[0ma\u001b[0m\u001b[1;33m.\u001b[0m\u001b[0mreshape\u001b[0m\u001b[1;33m(\u001b[0m\u001b[1;36m4\u001b[0m\u001b[1;33m,\u001b[0m\u001b[1;36m4\u001b[0m\u001b[1;33m)\u001b[0m \u001b[1;31m# this fails as a has  only 16 elements\u001b[0m\u001b[1;33m\u001b[0m\u001b[1;33m\u001b[0m\u001b[0m\n\u001b[0m",
      "\u001b[1;31mValueError\u001b[0m: cannot reshape array of size 12 into shape (4,4)"
     ]
    }
   ],
   "source": [
    "# reshape: doesn't alter  memory\n",
    "a = np.arange(10,22)\n",
    "print(a, len(a))\n",
    "\n",
    "r=a.reshape(3,4)\n",
    "print(r) # 'r' is a view of 'a'\n",
    "print()\n",
    "print(a)\n",
    "\n",
    "r=a.reshape(4,4) # this fails as a has  only 16 elements"
   ]
  },
  {
   "cell_type": "code",
   "execution_count": 23,
   "metadata": {},
   "outputs": [
    {
     "name": "stdout",
     "output_type": "stream",
     "text": [
      "[10 11 12 13 14 15 16 17 18 19 20 21] 12\n",
      "None\n",
      "\n",
      "[[10 11 12 13]\n",
      " [14 15 16 17]\n",
      " [18 19 20 21]]\n",
      "\n",
      "[[10 11]\n",
      " [12 13]\n",
      " [14 15]\n",
      " [16 17]]\n",
      "\n",
      "[[10 11 12 13 14]\n",
      " [15 16 17  0  0]\n",
      " [ 0  0  0  0  0]\n",
      " [ 0  0  0  0  0]]\n"
     ]
    }
   ],
   "source": [
    "# resize: alters  memory\n",
    "a = np.arange(10,22)\n",
    "print(a, len(a))\n",
    "\n",
    "r=a.resize(3,4) # modifies original\n",
    "print(r) # 'r' is None\n",
    "print()\n",
    "print(a)\n",
    "\n",
    "a.resize(4,2)\n",
    "print()\n",
    "print(a)\n",
    "\n",
    "a.resize(4,5)\n",
    "print()\n",
    "print(a)"
   ]
  },
  {
   "cell_type": "code",
   "execution_count": 27,
   "metadata": {},
   "outputs": [
    {
     "name": "stdout",
     "output_type": "stream",
     "text": [
      "[[10 11 12 13]\n",
      " [14 15 16 17]\n",
      " [18 19 20 21]]\n",
      "\n",
      "[14 15 16 17]\n",
      "\n",
      "17\n",
      "\n",
      "15\n"
     ]
    }
   ],
   "source": [
    "# indexing\n",
    "a = np.arange(10,22).reshape(3,4)\n",
    "print(a)\n",
    "\n",
    "print()\n",
    "print(a[1])\n",
    "print()\n",
    "print(a[1,3])\n",
    "\n",
    "print()\n",
    "print(a[1,-3])"
   ]
  },
  {
   "cell_type": "code",
   "execution_count": 151,
   "metadata": {},
   "outputs": [
    {
     "name": "stdout",
     "output_type": "stream",
     "text": [
      "[10, 11, 12, 13, 14, 15, 16, 17, 18, 19]\n",
      "\n",
      "[11, 12]\n",
      "\n",
      "[10, 11]\n",
      "\n"
     ]
    },
    {
     "ename": "TypeError",
     "evalue": "list indices must be integers or slices, not tuple",
     "output_type": "error",
     "traceback": [
      "\u001b[1;31m---------------------------------------------------------------------------\u001b[0m",
      "\u001b[1;31mTypeError\u001b[0m                                 Traceback (most recent call last)",
      "\u001b[1;32m<ipython-input-151-c1f15e8064f4>\u001b[0m in \u001b[0;36m<module>\u001b[1;34m\u001b[0m\n\u001b[0;32m      6\u001b[0m \u001b[0mprint\u001b[0m\u001b[1;33m(\u001b[0m\u001b[0ma\u001b[0m\u001b[1;33m[\u001b[0m\u001b[1;33m:\u001b[0m\u001b[1;36m2\u001b[0m\u001b[1;33m]\u001b[0m\u001b[1;33m)\u001b[0m\u001b[1;33m\u001b[0m\u001b[1;33m\u001b[0m\u001b[0m\n\u001b[0;32m      7\u001b[0m \u001b[0mprint\u001b[0m\u001b[1;33m(\u001b[0m\u001b[1;33m)\u001b[0m\u001b[1;33m\u001b[0m\u001b[1;33m\u001b[0m\u001b[0m\n\u001b[1;32m----> 8\u001b[1;33m \u001b[0mprint\u001b[0m\u001b[1;33m(\u001b[0m\u001b[0ma\u001b[0m\u001b[1;33m[\u001b[0m\u001b[1;33m:\u001b[0m\u001b[1;33m,\u001b[0m\u001b[1;36m1\u001b[0m\u001b[1;33m:\u001b[0m\u001b[1;36m3\u001b[0m\u001b[1;33m]\u001b[0m\u001b[1;33m)\u001b[0m\u001b[1;33m\u001b[0m\u001b[1;33m\u001b[0m\u001b[0m\n\u001b[0m\u001b[0;32m      9\u001b[0m \u001b[0mprint\u001b[0m\u001b[1;33m(\u001b[0m\u001b[1;33m)\u001b[0m\u001b[1;33m\u001b[0m\u001b[1;33m\u001b[0m\u001b[0m\n\u001b[0;32m     10\u001b[0m \u001b[0mprint\u001b[0m\u001b[1;33m(\u001b[0m\u001b[0ma\u001b[0m\u001b[1;33m[\u001b[0m\u001b[1;33m:\u001b[0m\u001b[1;33m,\u001b[0m\u001b[1;36m1\u001b[0m\u001b[1;33m]\u001b[0m\u001b[1;33m)\u001b[0m\u001b[1;33m\u001b[0m\u001b[1;33m\u001b[0m\u001b[0m\n",
      "\u001b[1;31mTypeError\u001b[0m: list indices must be integers or slices, not tuple"
     ]
    }
   ],
   "source": [
    "# slicing\n",
    "print(a)\n",
    "print()\n",
    "print(a[1:3]) # row, col\n",
    "print()\n",
    "print(a[:2])\n",
    "print()\n",
    "print(a[:,1:3])\n",
    "print()\n",
    "print(a[:,1])\n",
    "print()\n",
    "print(a[1,::-1])\n",
    "print()\n",
    "print(a[1,::-1][1:2])"
   ]
  },
  {
   "cell_type": "code",
   "execution_count": 39,
   "metadata": {},
   "outputs": [
    {
     "name": "stdout",
     "output_type": "stream",
     "text": [
      "[11 15 19]\n",
      "\n",
      "[[11]\n",
      " [15]\n",
      " [19]]\n"
     ]
    }
   ],
   "source": [
    "print(a[:,1])\n",
    "\n",
    "print()\n",
    "print(a[:,1:2])"
   ]
  },
  {
   "cell_type": "code",
   "execution_count": 52,
   "metadata": {},
   "outputs": [
    {
     "name": "stdout",
     "output_type": "stream",
     "text": [
      "[[10 11 12 13]\n",
      " [14 15 16 17]\n",
      " [18 19 20 21]]\n",
      "\n",
      "[[ 10  11  12  13]\n",
      " [ 14 100  16  17]\n",
      " [ 18  19  20  21]]\n",
      "\n",
      "[[ 10  11  12  13]\n",
      " [100 100 100 100]\n",
      " [ 18  19  20  21]]\n",
      "\n",
      "[[10 11 12 13]\n",
      " [ 0  1  2  3]\n",
      " [18 19 20 21]]\n"
     ]
    },
    {
     "ename": "ValueError",
     "evalue": "could not broadcast input array from shape (4) into shape (3)",
     "output_type": "error",
     "traceback": [
      "\u001b[1;31m---------------------------------------------------------------------------\u001b[0m",
      "\u001b[1;31mValueError\u001b[0m                                Traceback (most recent call last)",
      "\u001b[1;32m<ipython-input-52-a2978f779027>\u001b[0m in \u001b[0;36m<module>\u001b[1;34m\u001b[0m\n\u001b[0;32m     16\u001b[0m \u001b[0mprint\u001b[0m\u001b[1;33m(\u001b[0m\u001b[0ma\u001b[0m\u001b[1;33m)\u001b[0m\u001b[1;33m\u001b[0m\u001b[1;33m\u001b[0m\u001b[0m\n\u001b[0;32m     17\u001b[0m \u001b[1;33m\u001b[0m\u001b[0m\n\u001b[1;32m---> 18\u001b[1;33m \u001b[0ma\u001b[0m\u001b[1;33m[\u001b[0m\u001b[1;33m:\u001b[0m\u001b[1;33m,\u001b[0m\u001b[1;36m1\u001b[0m\u001b[1;33m]\u001b[0m \u001b[1;33m=\u001b[0m \u001b[0ma2\u001b[0m \u001b[1;31m# assign array a2  (size4)  to col[1] (size 3)\u001b[0m\u001b[1;33m\u001b[0m\u001b[1;33m\u001b[0m\u001b[0m\n\u001b[0m",
      "\u001b[1;31mValueError\u001b[0m: could not broadcast input array from shape (4) into shape (3)"
     ]
    }
   ],
   "source": [
    "# updating data via indexing and slicing\n",
    "a = np.arange(10,22).reshape(3,4)\n",
    "print(a)\n",
    "\n",
    "print()\n",
    "a[1,1] = 100\n",
    "print(a)\n",
    "\n",
    "print()\n",
    "a[1,:] = 100 # assign scalar to slice\n",
    "print(a)\n",
    "\n",
    "print()\n",
    "a2 = np.arange(4)\n",
    "a[1] = a2 # assign array a2  (size4)  to row[1] (size 4) \n",
    "print(a)\n",
    "\n",
    "a[:,1] = a2 # assign array a2  (size4)  to col[1] (size 3) "
   ]
  },
  {
   "cell_type": "code",
   "execution_count": null,
   "metadata": {},
   "outputs": [],
   "source": [
    "import copy \n",
    "class Mat:\n",
    "    def __init__(self, seq, copy=True):\n",
    "        self.__mat = copy.deepcopy(seq)\n",
    "        \n",
    "    def reshape(self, size):\n",
    "        if size == len(self.__mat):\n",
    "            return Mat(self.__mat, copy=False)\n",
    "        \n",
    "        if size > len(self.__mat):\n",
    "            self.__mat.append(0)\n",
    "            ret\n",
    "            \n",
    "        if size < len(self.__mat):\n",
    "            \n",
    "        "
   ]
  },
  {
   "cell_type": "code",
   "execution_count": 146,
   "metadata": {},
   "outputs": [
    {
     "name": "stdout",
     "output_type": "stream",
     "text": [
      "[10 11 12 13 14 15 16 17 18 19 20 21]\n"
     ]
    },
    {
     "ename": "ValueError",
     "evalue": "cannot resize an array that references or is referenced\nby another array in this way.\nUse the np.resize function or refcheck=False",
     "output_type": "error",
     "traceback": [
      "\u001b[1;31m---------------------------------------------------------------------------\u001b[0m",
      "\u001b[1;31mValueError\u001b[0m                                Traceback (most recent call last)",
      "\u001b[1;32m<ipython-input-146-945035ab3aaa>\u001b[0m in \u001b[0;36m<module>\u001b[1;34m\u001b[0m\n\u001b[0;32m      4\u001b[0m \u001b[1;33m\u001b[0m\u001b[0m\n\u001b[0;32m      5\u001b[0m \u001b[1;31m#a1.resize(2,3)\u001b[0m\u001b[1;33m\u001b[0m\u001b[1;33m\u001b[0m\u001b[1;33m\u001b[0m\u001b[0m\n\u001b[1;32m----> 6\u001b[1;33m \u001b[0ma\u001b[0m\u001b[1;33m.\u001b[0m\u001b[0mresize\u001b[0m\u001b[1;33m(\u001b[0m\u001b[1;36m2\u001b[0m\u001b[1;33m,\u001b[0m\u001b[1;36m2\u001b[0m\u001b[1;33m)\u001b[0m\u001b[1;33m\u001b[0m\u001b[1;33m\u001b[0m\u001b[0m\n\u001b[0m",
      "\u001b[1;31mValueError\u001b[0m: cannot resize an array that references or is referenced\nby another array in this way.\nUse the np.resize function or refcheck=False"
     ]
    }
   ],
   "source": [
    "a = np.arange(10,22)\n",
    "print(a)\n",
    "a1 = a.reshape(3,4) # a1 is a view, not  copy\n",
    "a2 = a.reshape(4,3) # a1 is a view, not  copy\n",
    "\n",
    "#a1.resize(2,3)\n",
    "a.resize(2,2)"
   ]
  },
  {
   "cell_type": "code",
   "execution_count": 71,
   "metadata": {},
   "outputs": [
    {
     "name": "stdout",
     "output_type": "stream",
     "text": [
      "[[10 11 12 13]\n",
      " [14 15 16 17]\n",
      " [18 19 20 21]]\n",
      "\n",
      "[[10 11 12 13]\n",
      " [18 19 20 21]]\n",
      "\n",
      "[[18 19 20 21]\n",
      " [10 11 12 13]\n",
      " [14 15 16 17]]\n",
      "\n",
      "[19 11 15]\n",
      "\n",
      "[[10 11 12 13]\n",
      " [14 15 16 17]\n",
      " [18 19 20 21]]\n"
     ]
    }
   ],
   "source": [
    "# indexing via lists\n",
    "a = np.arange(10,22).reshape(3,4)\n",
    "print(a)\n",
    "\n",
    "print()\n",
    "print(a[ [0,2] ])\n",
    "\n",
    "print()\n",
    "print(a[ (2,0,1), ])\n",
    "\n",
    "print()\n",
    "print(a[ (2,0,1), 1 ])\n",
    "\n",
    "print()\n",
    "print(a)"
   ]
  },
  {
   "cell_type": "code",
   "execution_count": 72,
   "metadata": {},
   "outputs": [
    {
     "name": "stdout",
     "output_type": "stream",
     "text": [
      "['Lock', 'RandomState', '__RandomState_ctor', '__all__', '__builtins__', '__cached__', '__doc__', '__file__', '__loader__', '__name__', '__package__', '__path__', '__spec__', 'absolute_import', 'beta', 'binomial', 'bytes', 'chisquare', 'choice', 'dirichlet', 'division', 'exponential', 'f', 'gamma', 'geometric', 'get_state', 'gumbel', 'hypergeometric', 'laplace', 'logistic', 'lognormal', 'logseries', 'mtrand', 'multinomial', 'multivariate_normal', 'negative_binomial', 'noncentral_chisquare', 'noncentral_f', 'normal', 'np', 'operator', 'pareto', 'permutation', 'poisson', 'power', 'print_function', 'rand', 'randint', 'randn', 'random', 'random_integers', 'random_sample', 'ranf', 'rayleigh', 'sample', 'seed', 'set_state', 'shuffle', 'standard_cauchy', 'standard_exponential', 'standard_gamma', 'standard_normal', 'standard_t', 'test', 'triangular', 'uniform', 'vonmises', 'wald', 'warnings', 'weibull', 'zipf']\n"
     ]
    }
   ],
   "source": [
    "# generating random numbers\n",
    "\n",
    "print(dir(np.random))"
   ]
  },
  {
   "cell_type": "code",
   "execution_count": 80,
   "metadata": {},
   "outputs": [
    {
     "name": "stdout",
     "output_type": "stream",
     "text": [
      "[-0.1733578   0.24373781 -0.03068834  2.1057976  -1.26625619 -0.91928817\n",
      " -0.21827554 -1.20078845  0.57925568 -0.44031686]\n"
     ]
    }
   ],
   "source": [
    "r = np.random.randn(10) # picks 10 nums from std. normal dist.\n",
    "print(r)"
   ]
  },
  {
   "cell_type": "code",
   "execution_count": 86,
   "metadata": {},
   "outputs": [
    {
     "name": "stdout",
     "output_type": "stream",
     "text": [
      "14\n",
      "29\n",
      "[[20 27]\n",
      " [29 26]\n",
      " [28 25]]\n"
     ]
    }
   ],
   "source": [
    "r  = np.random.randint(20) # 0-19\n",
    "print(r)\n",
    "r  = np.random.randint(20,30) # 0-19\n",
    "print(r)\n",
    "r  = np.random.randint(20,30, size=(3,2))\n",
    "print(r)"
   ]
  },
  {
   "cell_type": "code",
   "execution_count": null,
   "metadata": {},
   "outputs": [],
   "source": []
  },
  {
   "cell_type": "code",
   "execution_count": 90,
   "metadata": {},
   "outputs": [
    {
     "name": "stdout",
     "output_type": "stream",
     "text": [
      "[[4 6 6 9]\n",
      " [6 4 9 8]\n",
      " [8 7 7 8]]\n"
     ]
    }
   ],
   "source": [
    "# logical ops\n",
    "r  = np.random.randint(1,10, size=(3,4))\n",
    "print(r)\n"
   ]
  },
  {
   "cell_type": "code",
   "execution_count": 100,
   "metadata": {},
   "outputs": [
    {
     "name": "stdout",
     "output_type": "stream",
     "text": [
      "[[ True  True False  True]\n",
      " [False False False False]\n",
      " [ True  True  True False]]\n",
      "\n",
      "[[ True False False  True]\n",
      " [False False False False]\n",
      " [ True  True  True False]]\n",
      "\n",
      "[[ True False False  True]\n",
      " [ True  True False  True]\n",
      " [ True False False False]]\n"
     ]
    }
   ],
   "source": [
    "# no. > 5\n",
    "a = r > 5\n",
    "print(a)\n",
    "\n",
    "# no. between 4-8\n",
    "\n",
    "print()\n",
    "a =  (r >= 4) & (r <= 8)\n",
    "print(a)\n",
    "\n",
    "print()\n",
    "print( r % 2 == 0)"
   ]
  },
  {
   "cell_type": "code",
   "execution_count": 101,
   "metadata": {},
   "outputs": [
    {
     "name": "stdout",
     "output_type": "stream",
     "text": [
      "[[8 2 3 5]\n",
      " [5 8 5 2]\n",
      " [5 5 5 7]]\n",
      "\n",
      "[[ True  True False False]\n",
      " [False  True False  True]\n",
      " [False False False False]]\n",
      "\n",
      "[8 2 8 2]\n"
     ]
    }
   ],
   "source": [
    "# boolean indexing and updating values\n",
    "r  = np.random.randint(1,10, size=(3,4))\n",
    "print(r)\n",
    "\n",
    "idx = r % 2 == 0\n",
    "print()\n",
    "print(idx)\n",
    "\n",
    "print()\n",
    "print(r[idx])"
   ]
  },
  {
   "cell_type": "code",
   "execution_count": 58,
   "metadata": {},
   "outputs": [
    {
     "name": "stdout",
     "output_type": "stream",
     "text": [
      "[[10 11 12 13]\n",
      " [14 15 16 17]\n",
      " [18 19 20 21]]\n",
      "\n",
      "[[110 111 112 113]\n",
      " [114 115 116 117]\n",
      " [118 119 120 121]]\n"
     ]
    }
   ],
   "source": [
    "# arithmetic and broadcasting\n",
    "\n",
    "a = np.arange(10,22).reshape(3,4)\n",
    "print(a)\n",
    "\n",
    "print()\n",
    "print(a + 100)"
   ]
  },
  {
   "cell_type": "code",
   "execution_count": 59,
   "metadata": {},
   "outputs": [
    {
     "name": "stdout",
     "output_type": "stream",
     "text": [
      "[[10 11 12 13]\n",
      " [14 15 16 17]\n",
      " [18 19 20 21]]\n",
      "\n",
      "[0 1 2 3]\n",
      "\n",
      "[[10 12 14 16]\n",
      " [14 16 18 20]\n",
      " [18 20 22 24]]\n",
      "\n",
      "[0 1 2]\n",
      "\n",
      "[[10 11 12 13]\n",
      " [15 16 17 18]\n",
      " [20 21 22 23]]\n"
     ]
    }
   ],
   "source": [
    "a = np.arange(10,22).reshape(3,4)\n",
    "print(a)\n",
    "\n",
    "print()\n",
    "a2 = np.arange(4)\n",
    "print(a2)\n",
    "\n",
    "# add to rows\n",
    "print()\n",
    "r = a + a2\n",
    "print(r)\n",
    "\n",
    "print()\n",
    "a3 = np.arange(3)\n",
    "print(a3)\n",
    "\n",
    "# add to cols\n",
    "print()\n",
    "r = a.T + a3\n",
    "print(r.T)"
   ]
  },
  {
   "cell_type": "code",
   "execution_count": 102,
   "metadata": {},
   "outputs": [
    {
     "name": "stdout",
     "output_type": "stream",
     "text": [
      "[[6 8 4 4]\n",
      " [4 4 1 9]\n",
      " [4 8 5 3]]\n",
      "\n",
      "[[ True  True  True  True]\n",
      " [ True  True False False]\n",
      " [ True  True False False]]\n",
      "[[False False False False]\n",
      " [False False  True  True]\n",
      " [False False  True  True]]\n",
      "\n",
      "[1 9 5 3]\n"
     ]
    }
   ],
   "source": [
    "# logical operations: &, | , ~\n",
    "r  = np.random.randint(1,10, size=(3,4))\n",
    "print(r)\n",
    "\n",
    "idx = r % 2 == 0\n",
    "print()\n",
    "print(idx)\n",
    "print(~idx)\n",
    "\n",
    "print()\n",
    "print(r[~idx])"
   ]
  },
  {
   "cell_type": "code",
   "execution_count": 108,
   "metadata": {},
   "outputs": [
    {
     "name": "stdout",
     "output_type": "stream",
     "text": [
      "[[10 11 12 13]\n",
      " [14 15 16 17]\n",
      " [18 19 20 21]]\n",
      "\n",
      "[[100   5 144   6]\n",
      " [196   7 256   8]\n",
      " [324   9 400  10]]\n"
     ]
    }
   ],
   "source": [
    "# Exercise:\n",
    "# given below a 2-darray 'mat'. \n",
    "# Replace all even values with square and odd values with their half\n",
    "mat = np.arange(10,22).reshape(3,4)\n",
    "print(mat)\n",
    "\n",
    "e = mat%2 ==  0\n",
    "mat[e] = mat[e] **2\n",
    "mat[~e] = mat[~e] / 2\n",
    "\n",
    "# print(mat[~e] / 2)\n",
    "print()\n",
    "print(mat)"
   ]
  },
  {
   "cell_type": "code",
   "execution_count": 114,
   "metadata": {},
   "outputs": [
    {
     "name": "stdout",
     "output_type": "stream",
     "text": [
      "[[10 11 12 13]\n",
      " [14 15 16 17]\n",
      " [18 19 20 21]]\n",
      "\n",
      "186\n",
      "\n",
      "[42 45 48 51]\n",
      "\n",
      "[46 62 78]\n",
      "\n",
      "[10 11 12 13]\n",
      "\n",
      "[14. 15. 16. 17.]\n"
     ]
    }
   ],
   "source": [
    "# aggregate operations\n",
    "mat = np.arange(10,22).reshape(3,4)\n",
    "print(mat)\n",
    "\n",
    "print()\n",
    "print(mat.sum())\n",
    "\n",
    "print()\n",
    "print(mat.sum(axis=0))\n",
    "\n",
    "print()\n",
    "print(mat.sum(axis=1))\n",
    "\n",
    "print()\n",
    "print(mat.min(axis=0))\n",
    "\n",
    "print()\n",
    "print(mat.mean(axis=0))"
   ]
  },
  {
   "cell_type": "code",
   "execution_count": 116,
   "metadata": {},
   "outputs": [
    {
     "name": "stdout",
     "output_type": "stream",
     "text": [
      "[[nan 11. 12. 13.]\n",
      " [14. 15. 16. 17.]\n",
      " [18. 19. 20. 21.]]\n",
      "\n",
      "nan\n",
      "\n",
      "[nan 45. 48. 51.]\n",
      "\n",
      "[nan 62. 78.]\n",
      "\n",
      "[nan 11. 12. 13.]\n",
      "\n",
      "[nan 15. 16. 17.]\n"
     ]
    }
   ],
   "source": [
    "# aggregate functions with Nan data\n",
    "# aggregate operations\n",
    "mat = np.arange(10,22, dtype=\"float\").reshape(3,4)\n",
    "mat[0,0] = np.nan\n",
    "print(mat)\n",
    "\n",
    "print()\n",
    "print(mat.sum())\n",
    "\n",
    "print()\n",
    "print(mat.sum(axis=0))\n",
    "\n",
    "print()\n",
    "print(mat.sum(axis=1))\n",
    "\n",
    "print()\n",
    "print(mat.min(axis=0))\n",
    "\n",
    "print()\n",
    "print(mat.mean(axis=0))"
   ]
  },
  {
   "cell_type": "code",
   "execution_count": 128,
   "metadata": {},
   "outputs": [
    {
     "name": "stdout",
     "output_type": "stream",
     "text": [
      "[[10. 11. 12. 13.]\n",
      " [nan 15. nan 17.]\n",
      " [18. nan 20. 21.]]\n",
      "\n",
      "[[False False False False]\n",
      " [False False False False]\n",
      " [False False False False]]\n",
      "\n",
      "[[False False False False]\n",
      " [ True False  True False]\n",
      " [False  True False False]]\n",
      "\n",
      "137.0\n"
     ]
    }
   ],
   "source": [
    "# checking nans: np.isna()\n",
    "\n",
    "mat = np.arange(10,22, dtype=\"float\").reshape(3,4)\n",
    "mat[ [1,2,1],[0,1,2] ] = np.nan # mapping of rows and columns\n",
    "print(mat)\n",
    "\n",
    "print()\n",
    "print(mat == np.nan)\n",
    "\n",
    "print()\n",
    "print(np.isnan(mat))\n",
    "\n",
    "print()\n",
    "print(mat[~np.isnan(mat)].sum())"
   ]
  },
  {
   "cell_type": "code",
   "execution_count": 131,
   "metadata": {},
   "outputs": [
    {
     "name": "stdout",
     "output_type": "stream",
     "text": [
      "[[10. 11. 12. 13.]\n",
      " [14. 15. 16. 17.]\n",
      " [18. 19. 20. 21.]]\n",
      "\n",
      "True\n",
      "True\n",
      "\n",
      "True\n",
      "False\n"
     ]
    }
   ],
   "source": [
    "# any, all\n",
    "mat = np.arange(10,22, dtype=\"float\").reshape(3,4)\n",
    "print(mat)\n",
    "\n",
    "print()\n",
    "print(mat.any())\n",
    "print(mat.all())\n",
    "\n",
    "print()\n",
    "r = mat%2 == 0\n",
    "print(r.any())\n",
    "print(r.all()) # any([1 2])"
   ]
  },
  {
   "cell_type": "code",
   "execution_count": 154,
   "metadata": {},
   "outputs": [
    {
     "name": "stdout",
     "output_type": "stream",
     "text": [
      "[[10 11 12 13]\n",
      " [14 15 16 17]\n",
      " [18 19 20 21]]\n",
      "\n",
      "[[ True False  True False]\n",
      " [ True False  True False]\n",
      " [ True False  True False]]\n",
      "\n",
      "(array([0, 0, 1, 1, 2, 2], dtype=int64), array([0, 2, 0, 2, 0, 2], dtype=int64))\n",
      "\n",
      "[['even' 'odd' 'even' 'odd']\n",
      " ['even' 'odd' 'even' 'odd']\n",
      " ['even' 'odd' 'even' 'odd']]\n",
      "\n",
      "[['10' 'odd' '12' 'odd']\n",
      " ['14' 'odd' '16' 'odd']\n",
      " ['18' 'odd' '20' 'odd']]\n",
      "\n",
      "[[10  1 12  1]\n",
      " [14  1 16  1]\n",
      " [18  1 20  1]]\n",
      "\n",
      "[[10.   1.5 12.   1.5]\n",
      " [14.   1.5 16.   1.5]\n",
      " [18.   1.5 20.   1.5]]\n"
     ]
    }
   ],
   "source": [
    "# using where\n",
    "mat = np.arange(10,22).reshape(3,4)\n",
    "print(mat)\n",
    "\n",
    "r = mat % 2 == 0\n",
    "print()\n",
    "print(r)\n",
    "\n",
    "w = np.where(r)\n",
    "print()\n",
    "print(w)\n",
    "\n",
    "# where (bools, scalar, scalar)\n",
    "w = np.where(r, \"even\", \"odd\")\n",
    "print()\n",
    "print(w)\n",
    "\n",
    "# where (bools, mat, scalar)\n",
    "w = np.where(r, mat, \"odd\")\n",
    "print()\n",
    "print(w)\n",
    "\n",
    "w = np.where(r, mat, 1)\n",
    "print()\n",
    "print(w)\n",
    "\n",
    "\n",
    "w = np.where(r, mat, 1.5)\n",
    "print()\n",
    "print(w)\n",
    "\n",
    "# where (bools, scalar, mat)"
   ]
  },
  {
   "cell_type": "code",
   "execution_count": null,
   "metadata": {},
   "outputs": [],
   "source": [
    "# Exercise:\n",
    "# given below a 2-darray 'mat'. \n",
    "# Create a new matrix which contains all even values from mat as it is\n",
    "# but odd values reduced to their half (as integers)\n",
    "mat = np.arange(10,22).reshape(3,4)\n",
    "print(mat)"
   ]
  }
 ],
 "metadata": {
  "kernelspec": {
   "display_name": "Python 3",
   "language": "python",
   "name": "python3"
  },
  "language_info": {
   "codemirror_mode": {
    "name": "ipython",
    "version": 3
   },
   "file_extension": ".py",
   "mimetype": "text/x-python",
   "name": "python",
   "nbconvert_exporter": "python",
   "pygments_lexer": "ipython3",
   "version": "3.7.4"
  }
 },
 "nbformat": 4,
 "nbformat_minor": 2
}
