{
 "cells": [
  {
   "cell_type": "code",
   "execution_count": null,
   "metadata": {},
   "outputs": [],
   "source": [
    "# doc string"
   ]
  },
  {
   "cell_type": "code",
   "execution_count": 1,
   "metadata": {},
   "outputs": [],
   "source": [
    "def f():\n",
    "    pass\n",
    "\n"
   ]
  },
  {
   "cell_type": "code",
   "execution_count": 5,
   "metadata": {},
   "outputs": [
    {
     "name": "stdout",
     "output_type": "stream",
     "text": [
      "Help on function f in module __main__:\n",
      "\n",
      "f()\n",
      "\n",
      "\n",
      "\n",
      "\n",
      "None\n"
     ]
    }
   ],
   "source": [
    "help(f)\n",
    "\n",
    "print(\"\\n\\n\")\n",
    "print(f.__doc__)\n"
   ]
  },
  {
   "cell_type": "code",
   "execution_count": 9,
   "metadata": {},
   "outputs": [
    {
     "name": "stdout",
     "output_type": "stream",
     "text": [
      "Help on function f in module __main__:\n",
      "\n",
      "f()\n",
      "    noww this si some doc\n",
      "\n",
      "\n",
      "\n",
      "\n",
      "noww this si some doc\n"
     ]
    }
   ],
   "source": [
    "def f():\n",
    "    \"noww this si some doc\"\n",
    "    x = 1\n",
    "\n",
    "help(f)\n",
    "\n",
    "print(\"\\n\\n\")\n",
    "print(f.__doc__)\n"
   ]
  },
  {
   "cell_type": "code",
   "execution_count": 8,
   "metadata": {},
   "outputs": [
    {
     "name": "stdout",
     "output_type": "stream",
     "text": [
      "Help on function f in module __main__:\n",
      "\n",
      "f()\n",
      "\n",
      "\n",
      "\n",
      "\n",
      "None\n"
     ]
    }
   ],
   "source": [
    "def f():\n",
    "    x =1 \n",
    "    \"noww this si some doc\"\n",
    "    pass\n",
    "\n",
    "help(f)\n",
    "\n",
    "print(\"\\n\\n\")\n",
    "print(f.__doc__)\n"
   ]
  },
  {
   "cell_type": "code",
   "execution_count": null,
   "metadata": {},
   "outputs": [],
   "source": [
    "# var length args\n"
   ]
  },
  {
   "cell_type": "code",
   "execution_count": 12,
   "metadata": {},
   "outputs": [
    {
     "name": "stdout",
     "output_type": "stream",
     "text": [
      "10 <class 'int'>\n",
      "(10, 20) <class 'tuple'>\n"
     ]
    }
   ],
   "source": [
    "\n",
    "def f(x):\n",
    "    print(x, type(x))\n",
    "    \n",
    "f(10)\n",
    "#f(10,20)\n",
    "f( (10,20) )"
   ]
  },
  {
   "cell_type": "code",
   "execution_count": 16,
   "metadata": {},
   "outputs": [
    {
     "name": "stdout",
     "output_type": "stream",
     "text": [
      "() <class 'tuple'>\n",
      "(10,) <class 'tuple'>\n",
      "(10, 20, 'abcd') <class 'tuple'>\n"
     ]
    }
   ],
   "source": [
    "def f(*x): # var length args\n",
    "    print(x, type(x))\n",
    "    \n",
    "f()\n",
    "f(10)\n",
    "f(10,20, \"abcd\")"
   ]
  },
  {
   "cell_type": "code",
   "execution_count": 17,
   "metadata": {},
   "outputs": [
    {
     "name": "stdout",
     "output_type": "stream",
     "text": [
      "() <class 'tuple'>\n",
      "(10,) <class 'tuple'>\n",
      "(10, 20, 'abcd') <class 'tuple'>\n"
     ]
    }
   ],
   "source": [
    "def f(*args): # var length args\n",
    "    print(args, type(args))\n",
    "    \n",
    "f()\n",
    "f(10)\n",
    "f(10,20, \"abcd\")"
   ]
  },
  {
   "cell_type": "code",
   "execution_count": 20,
   "metadata": {},
   "outputs": [
    {
     "name": "stdout",
     "output_type": "stream",
     "text": [
      "10 20 () <class 'tuple'>\n",
      "10 20 ('abcd',) <class 'tuple'>\n"
     ]
    }
   ],
   "source": [
    "# positinal + vairablee lenghth args\n",
    "def f(x, y, *args): # x and y are mandatory positinal args\n",
    "    print(x,y,args, type(args))\n",
    "    \n",
    "# f()\n",
    "# f(10)missing 1 required positional argument: 'y'\n",
    "f(10,20)\n",
    "f(10,20, \"abcd\")"
   ]
  },
  {
   "cell_type": "code",
   "execution_count": 24,
   "metadata": {},
   "outputs": [
    {
     "name": "stdout",
     "output_type": "stream",
     "text": [
      "30\n",
      "1\n",
      "56\n",
      "144\n"
     ]
    }
   ],
   "source": [
    "def sum_nums(*args):\n",
    "    return sum(args)\n",
    "\n",
    "print(sum( [10 ,20 ]))\n",
    "print(sum_nums(1))\n",
    "print(sum_nums(1,22,33))\n",
    "print(sum_nums(111,33))"
   ]
  },
  {
   "cell_type": "code",
   "execution_count": 32,
   "metadata": {},
   "outputs": [
    {
     "name": "stdout",
     "output_type": "stream",
     "text": [
      "gaurav () <class 'tuple'> -10\n",
      "10 (20,) <class 'tuple'> -10\n",
      "10 (20, 'abcd') <class 'tuple'> -10\n",
      "10 (20, 'abcd') <class 'tuple'> True\n"
     ]
    }
   ],
   "source": [
    "# positinal + vairable lenghth args + default\n",
    "def f(x, *args, y = -10): # x and y are mandatory positinal args\n",
    "    print(x,args, type(args), y)\n",
    "    \n",
    "# f() missing 1 required positional argument: 'x'\n",
    "f(\"gaurav\")\n",
    "f(10,20)\n",
    "f(10,20, \"abcd\")\n",
    "f(10,20, \"abcd\", y=True)"
   ]
  },
  {
   "cell_type": "code",
   "execution_count": 36,
   "metadata": {},
   "outputs": [
    {
     "ename": "TypeError",
     "evalue": "unsupported operand type(s) for +: 'float' and 'str'",
     "output_type": "error",
     "traceback": [
      "\u001b[0;31m---------------------------------------------------------------------------\u001b[0m",
      "\u001b[0;31mTypeError\u001b[0m                                 Traceback (most recent call last)",
      "\u001b[0;32m<ipython-input-36-dac787bdc0e8>\u001b[0m in \u001b[0;36m<module>\u001b[0;34m\u001b[0m\n\u001b[1;32m      2\u001b[0m     \u001b[0;32mreturn\u001b[0m \u001b[0mfunct\u001b[0m\u001b[0;34m(\u001b[0m\u001b[0margs\u001b[0m\u001b[0;34m)\u001b[0m\u001b[0;34m\u001b[0m\u001b[0;34m\u001b[0m\u001b[0m\n\u001b[1;32m      3\u001b[0m \u001b[0;34m\u001b[0m\u001b[0m\n\u001b[0;32m----> 4\u001b[0;31m \u001b[0mprint\u001b[0m\u001b[0;34m(\u001b[0m\u001b[0mapply_funct\u001b[0m\u001b[0;34m(\u001b[0m\u001b[0msum\u001b[0m\u001b[0;34m,\u001b[0m \u001b[0;36m10\u001b[0m\u001b[0;34m,\u001b[0m\u001b[0;36m20\u001b[0m\u001b[0;34m,\u001b[0m\u001b[0;36m30\u001b[0m\u001b[0;34m,\u001b[0m\u001b[0;36m40\u001b[0m\u001b[0;34m,\u001b[0m\u001b[0;36m10.5\u001b[0m\u001b[0;34m,\u001b[0m \u001b[0;32mTrue\u001b[0m\u001b[0;34m,\u001b[0m \u001b[0;34m\"abcd\"\u001b[0m\u001b[0;34m)\u001b[0m\u001b[0;34m)\u001b[0m\u001b[0;34m\u001b[0m\u001b[0;34m\u001b[0m\u001b[0m\n\u001b[0m\u001b[1;32m      5\u001b[0m \u001b[0;34m\u001b[0m\u001b[0m\n\u001b[1;32m      6\u001b[0m \u001b[0;32mdef\u001b[0m \u001b[0mmul\u001b[0m\u001b[0;34m(\u001b[0m\u001b[0mseq\u001b[0m\u001b[0;34m)\u001b[0m\u001b[0;34m:\u001b[0m\u001b[0;34m\u001b[0m\u001b[0;34m\u001b[0m\u001b[0m\n",
      "\u001b[0;32m<ipython-input-36-dac787bdc0e8>\u001b[0m in \u001b[0;36mapply_funct\u001b[0;34m(funct, *args)\u001b[0m\n\u001b[1;32m      1\u001b[0m \u001b[0;32mdef\u001b[0m \u001b[0mapply_funct\u001b[0m\u001b[0;34m(\u001b[0m\u001b[0mfunct\u001b[0m\u001b[0;34m,\u001b[0m \u001b[0;34m*\u001b[0m\u001b[0margs\u001b[0m\u001b[0;34m)\u001b[0m\u001b[0;34m:\u001b[0m\u001b[0;34m\u001b[0m\u001b[0;34m\u001b[0m\u001b[0m\n\u001b[0;32m----> 2\u001b[0;31m     \u001b[0;32mreturn\u001b[0m \u001b[0mfunct\u001b[0m\u001b[0;34m(\u001b[0m\u001b[0margs\u001b[0m\u001b[0;34m)\u001b[0m\u001b[0;34m\u001b[0m\u001b[0;34m\u001b[0m\u001b[0m\n\u001b[0m\u001b[1;32m      3\u001b[0m \u001b[0;34m\u001b[0m\u001b[0m\n\u001b[1;32m      4\u001b[0m \u001b[0mprint\u001b[0m\u001b[0;34m(\u001b[0m\u001b[0mapply_funct\u001b[0m\u001b[0;34m(\u001b[0m\u001b[0msum\u001b[0m\u001b[0;34m,\u001b[0m \u001b[0;36m10\u001b[0m\u001b[0;34m,\u001b[0m\u001b[0;36m20\u001b[0m\u001b[0;34m,\u001b[0m\u001b[0;36m30\u001b[0m\u001b[0;34m,\u001b[0m\u001b[0;36m40\u001b[0m\u001b[0;34m,\u001b[0m\u001b[0;36m10.5\u001b[0m\u001b[0;34m,\u001b[0m \u001b[0;32mTrue\u001b[0m\u001b[0;34m,\u001b[0m \u001b[0;34m\"abcd\"\u001b[0m\u001b[0;34m)\u001b[0m\u001b[0;34m)\u001b[0m\u001b[0;34m\u001b[0m\u001b[0;34m\u001b[0m\u001b[0m\n\u001b[1;32m      5\u001b[0m \u001b[0;34m\u001b[0m\u001b[0m\n",
      "\u001b[0;31mTypeError\u001b[0m: unsupported operand type(s) for +: 'float' and 'str'"
     ]
    }
   ],
   "source": [
    "def apply_funct(funct, *args):\n",
    "    return funct(args)\n",
    "\n",
    "print(apply_funct(sum, 10,20,30,40,10.5, True))\n",
    "# print(apply_funct(sum, 10,20,30,40,10.5, True, \"abcd\"))\n",
    "\n",
    "def mul(seq):\n",
    "    p = 1\n",
    "    for v in seq:\n",
    "        p *= v\n",
    "    return p\n",
    "\n",
    "def sum_str(seq):\n",
    "    return \"\".join(seq)\n",
    "\n",
    "print(apply_funct(mul, 10,20,30))"
   ]
  }
 ],
 "metadata": {
  "kernelspec": {
   "display_name": "Python 3",
   "language": "python",
   "name": "python3"
  },
  "language_info": {
   "codemirror_mode": {
    "name": "ipython",
    "version": 3
   },
   "file_extension": ".py",
   "mimetype": "text/x-python",
   "name": "python",
   "nbconvert_exporter": "python",
   "pygments_lexer": "ipython3",
   "version": "3.8.3"
  }
 },
 "nbformat": 4,
 "nbformat_minor": 4
}
