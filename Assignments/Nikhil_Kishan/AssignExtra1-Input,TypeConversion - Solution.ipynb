{
 "cells": [
  {
   "cell_type": "markdown",
   "metadata": {},
   "source": [
    "#### 1. Input temperature in Fahrenheit in print in Celsius."
   ]
  },
  {
   "cell_type": "code",
   "execution_count": 14,
   "metadata": {},
   "outputs": [
    {
     "name": "stdout",
     "output_type": "stream",
     "text": [
      "Enter Temperature in Fahrenheit: 7\n",
      "Temperature in Celcius is:  -13.88888888888889\n"
     ]
    }
   ],
   "source": [
    "f = float(input(\"Enter Temperature in Fahrenheit: \"))\n",
    "c = (f-32) * 5/9\n",
    "print(\"Temperature in Celcius is: \",c)"
   ]
  },
  {
   "cell_type": "markdown",
   "metadata": {},
   "source": [
    "#### 2. Write a program to input a number and print its square and cube."
   ]
  },
  {
   "cell_type": "code",
   "execution_count": 16,
   "metadata": {},
   "outputs": [
    {
     "name": "stdout",
     "output_type": "stream",
     "text": [
      "Enter a number: 6\n",
      "Square of 6 is 36\n",
      "Cube of 6 is 216\n"
     ]
    }
   ],
   "source": [
    "a = int(input(\"Enter a number: \"))\n",
    "print(\"Square of {} is {}\".format(a,a**2))\n",
    "print(\"Cube of {} is {}\".format(a,a**3))"
   ]
  },
  {
   "cell_type": "markdown",
   "metadata": {},
   "source": [
    "#### 3. WAP to input a number n and a number m and print the result of following\n",
    "     n2 + m2"
   ]
  },
  {
   "cell_type": "code",
   "execution_count": 30,
   "metadata": {},
   "outputs": [
    {
     "name": "stdout",
     "output_type": "stream",
     "text": [
      "Enter 1st number: 3\n",
      "Enter 2nd number: 4\n",
      "The result is:  25\n"
     ]
    }
   ],
   "source": [
    "n = input(\"Enter 1st number: \")\n",
    "m = input(\"Enter 2nd number: \")\n",
    "i = int(n)**2 + int(m)**2\n",
    "\n",
    "print(\"The result is: \",i)"
   ]
  },
  {
   "cell_type": "markdown",
   "metadata": {},
   "source": [
    "#### 4. WAP to input a numbers M and N and print result of MN. (use both ** and pow)"
   ]
  },
  {
   "cell_type": "code",
   "execution_count": 43,
   "metadata": {},
   "outputs": [
    {
     "name": "stdout",
     "output_type": "stream",
     "text": [
      "Enter the value for M: 5\n",
      "Enter the value for N: 4\n",
      "The result using M**N is:  625\n",
      "The result using pow(M,N) is:  625\n"
     ]
    }
   ],
   "source": [
    "M = input(\"Enter the value for M: \")\n",
    "N = input(\"Enter the value for N: \")\n",
    "a1 = int(M)**int(N)\n",
    "a2 = pow(int(M),int(N))\n",
    "print(\"The result using M**N is: \",a1)\n",
    "print(\"The result using pow(M,N) is: \",a2)"
   ]
  },
  {
   "cell_type": "markdown",
   "metadata": {},
   "source": [
    "#### 5. Write a simple interest calculator."
   ]
  },
  {
   "cell_type": "code",
   "execution_count": 44,
   "metadata": {},
   "outputs": [
    {
     "name": "stdout",
     "output_type": "stream",
     "text": [
      "Enter the principle amount: 20000\n",
      "Enter the rate of interest: 5\n",
      "Enter time period: 5\n",
      "Simple interest =  5000.0\n"
     ]
    }
   ],
   "source": [
    "p = float(input(\"Enter the principle amount: \"))\n",
    "r = float(input(\"Enter the rate of interest: \"))\n",
    "t = float(input(\"Enter time period: \"))\n",
    "SI = p*r*t/100\n",
    "print(\"Simple interest = \",SI)"
   ]
  },
  {
   "cell_type": "markdown",
   "metadata": {},
   "source": [
    "#### 6. Input Principal, Rate, Time and print Compound Interest and Amount."
   ]
  },
  {
   "cell_type": "code",
   "execution_count": 47,
   "metadata": {},
   "outputs": [
    {
     "name": "stdout",
     "output_type": "stream",
     "text": [
      "Enter the principle amount: 30000\n",
      "Enter the rate of interest: 5.5\n",
      "Enter the time period: 4\n",
      "The amount is:  37164.73951874999\n",
      "The Counpound Interest is:  7164.739518749993\n"
     ]
    }
   ],
   "source": [
    "pr = float(input(\"Enter the principle amount: \"))\n",
    "rt = float(input(\"Enter the rate of interest: \"))\n",
    "ti = float(input(\"Enter the time period: \"))\n",
    "Amt = pr*(pow((1+rt/100),ti))\n",
    "CI = Amt - pr\n",
    "print(\"The amount is: \",Amt)\n",
    "print(\"The Counpound Interest is: \",CI)"
   ]
  },
  {
   "cell_type": "markdown",
   "metadata": {},
   "source": [
    "#### 7. WAP to print sum of first n natural numbers. (n needs to be taken as input)."
   ]
  },
  {
   "cell_type": "code",
   "execution_count": 51,
   "metadata": {},
   "outputs": [
    {
     "name": "stdout",
     "output_type": "stream",
     "text": [
      "Enter a natural number: 69\n",
      "The sum of first n natural number is : 2415.0\n"
     ]
    }
   ],
   "source": [
    "n = int(input(\"Enter a natural number: \"))\n",
    "sum_n = (n*(n+1))/2\n",
    "print(\"The sum of first n natural number is :\",sum_n)"
   ]
  },
  {
   "cell_type": "markdown",
   "metadata": {},
   "source": [
    "#### 8. WAP to input 2 numbers and swap them. (write using both normal logic with temp variable and also the pythonic way)."
   ]
  },
  {
   "cell_type": "code",
   "execution_count": 57,
   "metadata": {},
   "outputs": [
    {
     "name": "stdout",
     "output_type": "stream",
     "text": [
      "Enter 1st number: 3\n",
      "Enter 2nd number: 4\n",
      "\n",
      "Swap using normal logic:  4 3\n",
      "\n",
      "Swap using pythonic way:  3 4\n"
     ]
    }
   ],
   "source": [
    "r = int(input(\"Enter 1st number: \"))\n",
    "s = int(input(\"Enter 2nd number: \"))\n",
    "temp = r\n",
    "r = s\n",
    "s = temp\n",
    "print()\n",
    "print(\"Swap using normal logic: \",r,s)\n",
    "print()\n",
    "r,s = s,r\n",
    "print(\"Swap using pythonic way: \",r,s)\n"
   ]
  },
  {
   "cell_type": "markdown",
   "metadata": {},
   "source": [
    "#### 9. WAP to print ascii value of all white-space characters present in python."
   ]
  },
  {
   "cell_type": "code",
   "execution_count": 65,
   "metadata": {},
   "outputs": [
    {
     "name": "stdout",
     "output_type": "stream",
     "text": [
      "The Ascii value of all white-space characters are : \n",
      "Blank Space:  32 \n",
      "New Line:  10 \n",
      "Tab Space:  9 \n",
      "Vertical tab:  11 \n",
      "Feed:  12 \n",
      "Carriage Return:  13\n"
     ]
    }
   ],
   "source": [
    "print(\"The Ascii value of all white-space characters are : \")\n",
    "print(\"Blank Space: \",ord(' '),\"\\nNew Line: \",ord(\"\\n\"),\"\\nTab Space: \",ord(\"\\t\"),\"\\nVertical tab: \",ord(\"\\v\"),\"\\nFeed: \",ord(\"\\f\"),\"\\nCarriage Return: \",ord(\"\\r\"))"
   ]
  },
  {
   "cell_type": "markdown",
   "metadata": {},
   "source": [
    "#### 10. Input a single character and print its ascii values."
   ]
  },
  {
   "cell_type": "code",
   "execution_count": 69,
   "metadata": {},
   "outputs": [
    {
     "name": "stdout",
     "output_type": "stream",
     "text": [
      "Enter a Character: N\n",
      "The Ascii value of N is 78\n"
     ]
    }
   ],
   "source": [
    "i = input(\"Enter a Character: \")\n",
    "print(\"The Ascii value of {} is {}\".format(i,ord(i)))"
   ]
  },
  {
   "cell_type": "markdown",
   "metadata": {},
   "source": [
    "#### 11. WAP that takes area of a circle and gives back the radius and circumference."
   ]
  },
  {
   "cell_type": "code",
   "execution_count": 78,
   "metadata": {},
   "outputs": [
    {
     "name": "stdout",
     "output_type": "stream",
     "text": [
      "Entet the area of a circle: 7\n",
      "The radius of the circle is : 1.4927053303604616\n",
      "The circumference of the circle is : 9.378944199669503\n"
     ]
    }
   ],
   "source": [
    "import math\n",
    "a = float(input(\"Entet the area of a circle: \"))\n",
    "Pi = math.pi\n",
    "sqrt = math.sqrt\n",
    "r = sqrt(a/Pi)\n",
    "c = 2*Pi*r\n",
    "print(\"The radius of the circle is :\", r)\n",
    "print(\"The circumference of the circle is :\", c)\n",
    "# print(\"The area of the circle is: \",Pi*r*r)"
   ]
  },
  {
   "cell_type": "markdown",
   "metadata": {},
   "source": [
    "#### 12. We need to input marks in 5 subjects out of 100 and print percentage."
   ]
  },
  {
   "cell_type": "code",
   "execution_count": 89,
   "metadata": {},
   "outputs": [
    {
     "name": "stdout",
     "output_type": "stream",
     "text": [
      "Enter the marks of 1st Subject: 89\n",
      "Enter the marks of 2nd Subject: 98\n",
      "Enter the marks of 3rd Subject: 78\n",
      "Enter the marks of 4th Subject: 65\n",
      "Enter the marks of 5th Subject: 90\n",
      "The Percentage is:  84.0\n"
     ]
    }
   ],
   "source": [
    "s1 = float(input(\"Enter the marks of 1st Subject: \"))\n",
    "s2 = float(input(\"Enter the marks of 2nd Subject: \"))\n",
    "s3 = float(input(\"Enter the marks of 3rd Subject: \"))\n",
    "s4 = float(input(\"Enter the marks of 4th Subject: \"))\n",
    "s5 = float(input(\"Enter the marks of 5th Subject: \"))\n",
    "\n",
    "p = ((s1+s2+s3+s4+s5)/500)*100\n",
    "print(\"The Percentage is: \",p)"
   ]
  },
  {
   "cell_type": "code",
   "execution_count": null,
   "metadata": {},
   "outputs": [],
   "source": []
  }
 ],
 "metadata": {
  "kernelspec": {
   "display_name": "Python 3",
   "language": "python",
   "name": "python3"
  },
  "language_info": {
   "codemirror_mode": {
    "name": "ipython",
    "version": 3
   },
   "file_extension": ".py",
   "mimetype": "text/x-python",
   "name": "python",
   "nbconvert_exporter": "python",
   "pygments_lexer": "ipython3",
   "version": "3.7.4"
  }
 },
 "nbformat": 4,
 "nbformat_minor": 2
}
