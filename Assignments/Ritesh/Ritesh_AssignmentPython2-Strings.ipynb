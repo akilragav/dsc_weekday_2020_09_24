{
 "cells": [
  {
   "cell_type": "code",
   "execution_count": 5,
   "metadata": {},
   "outputs": [
    {
     "name": "stdout",
     "output_type": "stream",
     "text": [
      "d\n",
      "detneirO tcejbO si nohtyP\n",
      "Python is Object Oriente\n",
      "''\n",
      "'on is '\n"
     ]
    }
   ],
   "source": [
    "#Q1 - Guess output of each slice:\n",
    "s='Python is Object Oriented'\n",
    "\n",
    "print(s[-1]) # Last Charater iin specified string\n",
    "print(s[::-1]) # prints string in reverse order\n",
    "print(s[:-1]) # prints given string except for last character\n",
    "print(repr(s[1:1])) #Blank string\n",
    "print(repr(s[4:10])) # slice starting from pos 4 to pos 9"
   ]
  },
  {
   "cell_type": "code",
   "execution_count": 6,
   "metadata": {},
   "outputs": [
    {
     "ename": "IndexError",
     "evalue": "string index out of range",
     "output_type": "error",
     "traceback": [
      "\u001b[1;31m---------------------------------------------------------------------------\u001b[0m",
      "\u001b[1;31mIndexError\u001b[0m                                Traceback (most recent call last)",
      "\u001b[1;32m<ipython-input-6-ff28f275a4f5>\u001b[0m in \u001b[0;36m<module>\u001b[1;34m\u001b[0m\n\u001b[0;32m      1\u001b[0m \u001b[1;31m###Q2. What error do you see for following statements:\u001b[0m\u001b[1;33m\u001b[0m\u001b[1;33m\u001b[0m\u001b[1;33m\u001b[0m\u001b[0m\n\u001b[0;32m      2\u001b[0m \u001b[0ms\u001b[0m\u001b[1;33m=\u001b[0m \u001b[1;34m''\u001b[0m\u001b[1;33m\u001b[0m\u001b[1;33m\u001b[0m\u001b[0m\n\u001b[1;32m----> 3\u001b[1;33m \u001b[0mprint\u001b[0m\u001b[1;33m(\u001b[0m\u001b[0ms\u001b[0m\u001b[1;33m[\u001b[0m\u001b[1;36m1\u001b[0m\u001b[1;33m]\u001b[0m\u001b[1;33m)\u001b[0m\u001b[1;33m\u001b[0m\u001b[1;33m\u001b[0m\u001b[0m\n\u001b[0m",
      "\u001b[1;31mIndexError\u001b[0m: string index out of range"
     ]
    }
   ],
   "source": [
    "###Q2. What error do you see for following statements:\n",
    "s= ''\n",
    "print(s[1])\n",
    "\n",
    "###Ans:IndexError: string index out of range"
   ]
  },
  {
   "cell_type": "code",
   "execution_count": 8,
   "metadata": {},
   "outputs": [
    {
     "name": "stdout",
     "output_type": "stream",
     "text": [
      "a\n"
     ]
    }
   ],
   "source": [
    "### Q3. Do you get any error for the following code, if not give the output:\n",
    "s='Gaurav'\n",
    "print(s[1])\n",
    "\n",
    "##Ans: No\n"
   ]
  },
  {
   "cell_type": "code",
   "execution_count": 19,
   "metadata": {},
   "outputs": [
    {
     "name": "stdout",
     "output_type": "stream",
     "text": [
      "\n",
      "#### a ####\n",
      "\n",
      "6\n",
      "abc\n",
      "3\n",
      "\n",
      "#### b ####\n",
      "\n",
      "['a#b#c#d#']\n",
      "['a', 'b', 'c', 'd', '']\n",
      "a$b$c$d$\n",
      "\n",
      "#### c ####\n",
      "\n",
      "av\n",
      "\n",
      "#### d ####\n",
      "\n",
      "False\n",
      "\n",
      "#### e ####\n",
      "\n",
      "0, 1, 2\n",
      "\n",
      "#### f ####\n",
      "\n",
      "abcba\n",
      "0 ,0 ,0 ,"
     ]
    }
   ],
   "source": [
    "### Q4. Find output of the following:\n",
    "print('\\n#### a ####\\n')\n",
    "s='a b cd'\n",
    "print(len(s))\n",
    "print(s[::2])\n",
    "print(len(s[::2]))\n",
    "\n",
    "print('\\n#### b ####\\n')\n",
    "s='a#b#c#d#'\n",
    "print(s.split())\n",
    "print(s.split('#'))\n",
    "l=s.split('#')\n",
    "s='$'.join(l)\n",
    "print(s)\n",
    "\n",
    "###c\n",
    "print('\\n#### c ####\\n')\n",
    "S='Gaurav'\n",
    "S=S[::-2][::-2]\n",
    "print(S)\n",
    "\n",
    "##d\n",
    "print('\\n#### d ####\\n')\n",
    "print(1>2)\n",
    "\n",
    "##e\n",
    "print('\\n#### e ####\\n')\n",
    "print(4%2, 5%2, 2%5, sep=', ')\n",
    "\n",
    "##f\n",
    "print('\\n#### f ####\\n')\n",
    "s='abcba'\n",
    "s.upper()\n",
    "print(s)\n",
    "print(s.count('A'), end = ' ,')\n",
    "print(s.count('A', 2,4) , end = ' ,')\n",
    "print(s.count('a', 2,4) , end = ' ,')"
   ]
  },
  {
   "cell_type": "code",
   "execution_count": 1,
   "metadata": {},
   "outputs": [
    {
     "name": "stdout",
     "output_type": "stream",
     "text": [
      "Enter Sting: t t t\n",
      "ttt\n"
     ]
    }
   ],
   "source": [
    "###Q5. WAP to input a string and remove all spaces from it.\n",
    "s = input('Enter Sting: ')\n",
    "print(s.replace(' ',''))"
   ]
  },
  {
   "cell_type": "code",
   "execution_count": null,
   "metadata": {},
   "outputs": [],
   "source": [
    "###Q6. What does this symbol denote:\n",
    "##Ans: Slicing brackets"
   ]
  },
  {
   "cell_type": "code",
   "execution_count": 2,
   "metadata": {},
   "outputs": [
    {
     "name": "stdout",
     "output_type": "stream",
     "text": [
      "['__add__', '__class__', '__contains__', '__delattr__', '__dir__', '__doc__', '__eq__', '__format__', '__ge__', '__getattribute__', '__getitem__', '__getnewargs__', '__gt__', '__hash__', '__init__', '__init_subclass__', '__iter__', '__le__', '__len__', '__lt__', '__mod__', '__mul__', '__ne__', '__new__', '__reduce__', '__reduce_ex__', '__repr__', '__rmod__', '__rmul__', '__setattr__', '__sizeof__', '__str__', '__subclasshook__', 'capitalize', 'casefold', 'center', 'count', 'encode', 'endswith', 'expandtabs', 'find', 'format', 'format_map', 'index', 'isalnum', 'isalpha', 'isascii', 'isdecimal', 'isdigit', 'isidentifier', 'islower', 'isnumeric', 'isprintable', 'isspace', 'istitle', 'isupper', 'join', 'ljust', 'lower', 'lstrip', 'maketrans', 'partition', 'replace', 'rfind', 'rindex', 'rjust', 'rpartition', 'rsplit', 'rstrip', 'split', 'splitlines', 'startswith', 'strip', 'swapcase', 'title', 'translate', 'upper', 'zfill']\n"
     ]
    }
   ],
   "source": [
    "###Q7. WAP to print all methods(functions/operations) available in a string (Hint : dir())\n",
    "\n",
    "print(dir(str))"
   ]
  },
  {
   "cell_type": "code",
   "execution_count": 5,
   "metadata": {},
   "outputs": [
    {
     "name": "stdout",
     "output_type": "stream",
     "text": [
      "True\n"
     ]
    }
   ],
   "source": [
    "###Q8. Write statement to check if rstrip method is available in the str class.(Hint : Use the find function or in)\n",
    "print('rstrip' in dir(str))"
   ]
  },
  {
   "cell_type": "code",
   "execution_count": 1,
   "metadata": {},
   "outputs": [
    {
     "name": "stdout",
     "output_type": "stream",
     "text": [
      "Enter Sting: t t t\n",
      "t\n",
      "t\n",
      "t\n"
     ]
    }
   ],
   "source": [
    "##Q10. WAP to input a string and replace all space with new lines (\\n) and print again.\n",
    "s = input('Enter Sting: ')\n",
    "s = s.replace(' ','\\n')\n",
    "print(s)\n"
   ]
  },
  {
   "cell_type": "code",
   "execution_count": 3,
   "metadata": {},
   "outputs": [
    {
     "name": "stdout",
     "output_type": "stream",
     "text": [
      "Enter Name:\n",
      "Ritesh CHandan\n",
      "First Name: RITESH. Length: 6\n",
      "Last Name: CHANDAN. Length: 7\n"
     ]
    }
   ],
   "source": [
    "###Q11. input complete name(first and last name separated by space) and print first and last name separately along with their length in upper case.\n",
    "name = input('Enter Name:\\n')\n",
    "name = name.split(' ')\n",
    "print(f'First Name: {name[0].upper()}. Length: {len(name[0])}')\n",
    "print(f'Last Name: {name[1].upper()}. Length: {len(name[1])}')"
   ]
  },
  {
   "cell_type": "code",
   "execution_count": 23,
   "metadata": {},
   "outputs": [
    {
     "data": {
      "text/plain": [
       "['__abs__',\n",
       " '__add__',\n",
       " '__bool__',\n",
       " '__class__',\n",
       " '__delattr__',\n",
       " '__dir__',\n",
       " '__divmod__',\n",
       " '__doc__',\n",
       " '__eq__',\n",
       " '__float__',\n",
       " '__floordiv__',\n",
       " '__format__',\n",
       " '__ge__',\n",
       " '__getattribute__',\n",
       " '__getformat__',\n",
       " '__getnewargs__',\n",
       " '__gt__',\n",
       " '__hash__',\n",
       " '__init__',\n",
       " '__init_subclass__',\n",
       " '__int__',\n",
       " '__le__',\n",
       " '__lt__',\n",
       " '__mod__',\n",
       " '__mul__',\n",
       " '__ne__',\n",
       " '__neg__',\n",
       " '__new__',\n",
       " '__pos__',\n",
       " '__pow__',\n",
       " '__radd__',\n",
       " '__rdivmod__',\n",
       " '__reduce__',\n",
       " '__reduce_ex__',\n",
       " '__repr__',\n",
       " '__rfloordiv__',\n",
       " '__rmod__',\n",
       " '__rmul__',\n",
       " '__round__',\n",
       " '__rpow__',\n",
       " '__rsub__',\n",
       " '__rtruediv__',\n",
       " '__set_format__',\n",
       " '__setattr__',\n",
       " '__sizeof__',\n",
       " '__str__',\n",
       " '__sub__',\n",
       " '__subclasshook__',\n",
       " '__truediv__',\n",
       " '__trunc__',\n",
       " 'as_integer_ratio',\n",
       " 'conjugate',\n",
       " 'fromhex',\n",
       " 'hex',\n",
       " 'imag',\n",
       " 'is_integer',\n",
       " 'real']"
      ]
     },
     "execution_count": 23,
     "metadata": {},
     "output_type": "execute_result"
    }
   ],
   "source": [
    "dir(float)\n",
    "#print(round(2.5))"
   ]
  },
  {
   "cell_type": "code",
   "execution_count": 29,
   "metadata": {},
   "outputs": [
    {
     "name": "stdout",
     "output_type": "stream",
     "text": [
      "Enter Stringwords\n",
      "2\n",
      "First part wo\n",
      "Second part rds\n"
     ]
    }
   ],
   "source": [
    "##Q12. WAP to input a string and split it into 2 halves. The string can be of any length\n",
    "\n",
    "s = input('Enter String')\n",
    "l = len(s)//2\n",
    "print('First part', s[:l])\n",
    "print('Second part', s[l:])"
   ]
  }
 ],
 "metadata": {
  "kernelspec": {
   "display_name": "Python 3",
   "language": "python",
   "name": "python3"
  },
  "language_info": {
   "codemirror_mode": {
    "name": "ipython",
    "version": 3
   },
   "file_extension": ".py",
   "mimetype": "text/x-python",
   "name": "python",
   "nbconvert_exporter": "python",
   "pygments_lexer": "ipython3",
   "version": "3.7.3"
  }
 },
 "nbformat": 4,
 "nbformat_minor": 2
}
