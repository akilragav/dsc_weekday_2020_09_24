{
 "cells": [
  {
   "cell_type": "code",
   "execution_count": 7,
   "metadata": {},
   "outputs": [
    {
     "name": "stdout",
     "output_type": "stream",
     "text": [
      "Enter Number: 6.6\n",
      "Enter an Integer\n",
      "Enter Number: 6\n",
      "1\n",
      "2\n",
      "3\n",
      "4\n",
      "5\n",
      "6\n"
     ]
    }
   ],
   "source": [
    "###Q1. WAP to print first n natural numbers (input n from user).\n",
    "while True:\n",
    "    n = input('Enter Number: ')\n",
    "    if(n.isnumeric()):\n",
    "        n = int(n)\n",
    "        break\n",
    "    else:\n",
    "        print('Enter an Integer')\n",
    "for i in range(1,n+1):\n",
    "    print(i)   "
   ]
  },
  {
   "cell_type": "code",
   "execution_count": 8,
   "metadata": {},
   "outputs": [
    {
     "name": "stdout",
     "output_type": "stream",
     "text": [
      "Enter Number: 10\n",
      "55\n"
     ]
    }
   ],
   "source": [
    "###Q2. WAP to find sum of first n natural numbers\n",
    "res=0\n",
    "while True:\n",
    "    n = input('Enter Number: ')\n",
    "    if(n.isnumeric()):\n",
    "        n = int(n)\n",
    "        break\n",
    "    else:\n",
    "        print('Enter an Integer')\n",
    "for i in range(1,n+1):\n",
    "    res+=i\n",
    "print(res)"
   ]
  },
  {
   "cell_type": "code",
   "execution_count": 10,
   "metadata": {},
   "outputs": [
    {
     "name": "stdout",
     "output_type": "stream",
     "text": [
      "Enter Number: 7\n",
      "7\n",
      "6\n",
      "5\n",
      "4\n",
      "3\n",
      "2\n",
      "1\n"
     ]
    }
   ],
   "source": [
    "###Q3. WAP to print first n natural numbers in reverse order.\n",
    "while True:\n",
    "    n = input('Enter Number: ')\n",
    "    if(n.isnumeric()):\n",
    "        n = int(n)\n",
    "        break\n",
    "    else:\n",
    "        print('Enter an Integer')\n",
    "for i in range(n, 0, -1):\n",
    "    print(i) "
   ]
  },
  {
   "cell_type": "code",
   "execution_count": 11,
   "metadata": {},
   "outputs": [
    {
     "name": "stdout",
     "output_type": "stream",
     "text": [
      "Enter Number: 5\n",
      "120\n"
     ]
    }
   ],
   "source": [
    "###Q4. WAP to input a number and print its factorial.\n",
    "res =1\n",
    "while True:\n",
    "    n = input('Enter Number: ')\n",
    "    if(n.isnumeric()):\n",
    "        n = int(n)\n",
    "        break\n",
    "    else:\n",
    "        print('Enter an Integer')\n",
    "for i in range(1,n+1):\n",
    "    res *= i\n",
    "print(res)"
   ]
  },
  {
   "cell_type": "code",
   "execution_count": 15,
   "metadata": {},
   "outputs": [
    {
     "name": "stdout",
     "output_type": "stream",
     "text": [
      "Enter Number: 6\n",
      "[0, 1, 1, 2, 3, 5]\n"
     ]
    }
   ],
   "source": [
    "###Q5. WAP to print Fibonacci sequence till n.\n",
    "n = int(input('Enter Number: '))\n",
    "lst = [0,1]\n",
    "for i in range(1,n-1):\n",
    "    lst.append(lst[i-1]+lst[i])\n",
    "print(lst)    "
   ]
  },
  {
   "cell_type": "code",
   "execution_count": 19,
   "metadata": {},
   "outputs": [
    {
     "name": "stdout",
     "output_type": "stream",
     "text": [
      "Enter Number: 12345\n",
      "5\n",
      "4\n",
      "3\n",
      "2\n",
      "1\n"
     ]
    }
   ],
   "source": [
    "###Q6. WAP to print all digits of a number input from user.\n",
    "n = int(input('Enter Number: '))\n",
    "while(n>0):\n",
    "    s = n%10\n",
    "    n = n//10\n",
    "    print(s)"
   ]
  },
  {
   "cell_type": "code",
   "execution_count": 20,
   "metadata": {},
   "outputs": [
    {
     "name": "stdout",
     "output_type": "stream",
     "text": [
      "Enter Number: 12345\n",
      "15\n"
     ]
    }
   ],
   "source": [
    "###Q7. WAP to find sum of all digits of a number.\n",
    "n = int(input('Enter Number: '))\n",
    "res = 0\n",
    "while(n>0):\n",
    "    s = n%10\n",
    "    n = n//10\n",
    "    res += s\n",
    "print(res)"
   ]
  },
  {
   "cell_type": "code",
   "execution_count": 27,
   "metadata": {},
   "outputs": [
    {
     "name": "stdout",
     "output_type": "stream",
     "text": [
      "Enter Number: 5\n",
      "Factorial of 1: 1\n",
      "Factorial of 2: 2\n",
      "Factorial of 3: 6\n",
      "Factorial of 4: 24\n",
      "Factorial of 5: 120\n",
      "153\n"
     ]
    }
   ],
   "source": [
    "'''Q8. WAP to find sum of following series given n as input from user\n",
    "1 + 2! + 3! + 4! + 5! + ….n!\n",
    "Where n! denotes the factorial of number n.'''\n",
    "res =0\n",
    "while True:\n",
    "    n = input('Enter Number: ')\n",
    "    if(n.isnumeric()):\n",
    "        n = int(n)\n",
    "        break\n",
    "    else:\n",
    "        print('Enter an Integer')\n",
    "for i in range(1,n+1):\n",
    "    res1 = 1\n",
    "    for j in range(1,i+1):\n",
    "        res1 *= j\n",
    "    print(f'Factorial of {i}: {res1}')\n",
    "    res +=res1   \n",
    "print(res)\n"
   ]
  },
  {
   "cell_type": "code",
   "execution_count": 1,
   "metadata": {},
   "outputs": [
    {
     "name": "stdout",
     "output_type": "stream",
     "text": [
      "Base: 4\n",
      "Exponential: 5\n",
      "Using For loop:  1024\n",
      "Using While loop:  1024\n"
     ]
    }
   ],
   "source": [
    "###Q9. WAP to input base and exponent and print result without using inbuilt function pow(use for or while loop).\n",
    "base = int(input('Base: '))\n",
    "expo = int(input('Exponential: '))\n",
    "res = 1\n",
    "res1 = 1\n",
    "for i in range(1, expo+1):\n",
    "    res *= base\n",
    "print('Using For loop: ', res)\n",
    "\n",
    "i=1\n",
    "while(i<=expo):\n",
    "    res1 *= base\n",
    "    i+=1\n",
    "print('Using While loop: ', res1)\n"
   ]
  },
  {
   "cell_type": "code",
   "execution_count": 30,
   "metadata": {},
   "outputs": [
    {
     "name": "stdout",
     "output_type": "stream",
     "text": [
      "Enter num: 5\n",
      "*\n",
      "**\n",
      "***\n",
      "****\n",
      "*****\n",
      "\n",
      "Pattern 2\n",
      "*****\n",
      "****\n",
      "***\n",
      "**\n",
      "*\n",
      "\n",
      "Pattern 3\n",
      "    *\n",
      "   **\n",
      "  ***\n",
      " ****\n",
      "*****\n",
      "\n",
      "Pattern 4\n",
      "     * \n",
      "    * * \n",
      "   * * * \n",
      "  * * * * \n",
      " * * * * * \n"
     ]
    }
   ],
   "source": [
    "###Q10. Print patterns\n",
    "'''*\n",
    "   **\n",
    "   ***\n",
    "   ****\n",
    "   *****'''\n",
    "n=int(input('Enter num: '))\n",
    "for i in range(1, n+1):\n",
    "    print('*'*i)\n",
    "print('\\nPattern 2')\n",
    "for i in range(n, 0, -1):\n",
    "    print('*'*i)\n",
    "print('\\nPattern 3')\n",
    "k = n-1\n",
    "for i in range(1,n+1):\n",
    "    print(' '*k, end= '')\n",
    "    print('*'*i)\n",
    "    k-=1\n",
    "\n",
    "print('\\nPattern 4')\n",
    "k = n\n",
    "for i in range(1,n+1):\n",
    "    print(' '*k, end='')\n",
    "    for j in range(1,i+1):\n",
    "        print('*', end=' ')\n",
    "    k -=1\n",
    "    print()"
   ]
  },
  {
   "cell_type": "code",
   "execution_count": 32,
   "metadata": {},
   "outputs": [
    {
     "name": "stdout",
     "output_type": "stream",
     "text": [
      "Pattern 1\n",
      "Enter the number5\n",
      "*\n",
      "**\n",
      "***\n",
      "****\n",
      "*****\n",
      "\n",
      "Pattern 2\n",
      "*****\n",
      "****\n",
      "***\n",
      "**\n",
      "*\n",
      "\n",
      "Pattern 3\n",
      "    *\n",
      "   **\n",
      "  ***\n",
      " ****\n",
      "*****\n",
      "\n",
      "Pattern 4\n",
      "     * \n",
      "    * * \n",
      "   * * * \n",
      "  * * * * \n",
      " * * * * * \n"
     ]
    }
   ],
   "source": [
    "n = int(input('Enter the number'))\n",
    "print('Pattern 1')\n",
    "for i in range(1,n+1):\n",
    "  for j in range(1,i+1):  \n",
    "    print('*', end='')\n",
    "  print('\\n', end='')\n",
    "\n",
    "print('\\nPattern 2')\n",
    "for i in range(n,0,-1):\n",
    "  for j in range(1,i+1):  \n",
    "    print('*', end='')\n",
    "  print('\\n', end='')\n",
    "\n",
    "print('\\nPattern 3')\n",
    "m=n-1\n",
    "for i in range(1,n+1):\n",
    "  for k in range(m):\n",
    "    print(' ', end='')\n",
    "  for j in range(1,i+1): \n",
    "    print('*', end='')\n",
    "  m-=1\n",
    "  print('\\n', end='')\n",
    "\n",
    "print('\\nPattern 4')\n",
    "m=n\n",
    "for i in range(n):\n",
    "  for k in range(m):\n",
    "    print(' ', end='')\n",
    "  for j in range(i+1):\n",
    "    print('*', end=' ')\n",
    "  m-=1  \n",
    "  print('\\n', end='')"
   ]
  },
  {
   "cell_type": "code",
   "execution_count": 30,
   "metadata": {},
   "outputs": [
    {
     "name": "stdout",
     "output_type": "stream",
     "text": [
      "Enter num: 5\n",
      "1\n",
      "22\n",
      "333\n",
      "4444\n",
      "55555\n",
      "\n",
      "Pattern 2\n",
      "1\n",
      "12\n",
      "123\n",
      "1234\n",
      "12345\n",
      "\n",
      "Pattern 3\n",
      "5\n",
      "44\n",
      "333\n",
      "2222\n",
      "11111\n",
      "\n",
      "Pattern 4\n",
      "    1\n",
      "   22\n",
      "  333\n",
      " 4444\n",
      "55555\n"
     ]
    }
   ],
   "source": [
    "###Q11. Print patterns\n",
    "'''1\n",
    "   22\n",
    "   333\n",
    "   4444\n",
    "   55555'''\n",
    "n=int(input('Enter num: '))\n",
    "for i in range(1,n+1):\n",
    "    for j in range(1, i+1):\n",
    "        print(i, end=\"\")\n",
    "    print()\n",
    "print('\\nPattern 2')\n",
    "for i in range(1, n+1):\n",
    "    for j in range(1, i+1):\n",
    "        print(j, end=\"\")\n",
    "    print()\n",
    "print('\\nPattern 3')\n",
    "k=1\n",
    "for i in range(n, 0, -1):\n",
    "    for j in range(k):\n",
    "        print(i,end='')\n",
    "    k+=1\n",
    "    print()\n",
    "print('\\nPattern 4')\n",
    "k=n-1\n",
    "for i in range(1, n+1):\n",
    "    print(' '*k, end='')\n",
    "    for j in range(1, i+1):\n",
    "        print(i, end=\"\")\n",
    "    k-=1\n",
    "    print()"
   ]
  },
  {
   "cell_type": "code",
   "execution_count": 23,
   "metadata": {},
   "outputs": [
    {
     "name": "stdout",
     "output_type": "stream",
     "text": [
      "Enter num: 5\n",
      "Pattern 1\n",
      "A\n",
      "AB\n",
      "ABC\n",
      "ABCD\n",
      "ABCDE\n",
      "\n",
      "Pattern 2\n",
      "A\n",
      "BC\n",
      "DEF\n",
      "GHIJ\n",
      "KLMNO\n",
      "\n",
      "Pattern 3\n",
      "A\n",
      "BB\n",
      "CCC\n",
      "DDDD\n",
      "EEEEE\n",
      "\n",
      "Pattern 4\n",
      "      A\n",
      "     ABA\n",
      "    ABCBA\n",
      "   ABCDCBA\n",
      "  ABCDEDCBA\n"
     ]
    }
   ],
   "source": [
    "n=int(input('Enter num: '))\n",
    "ascstr = 65\n",
    "print('Pattern 1')\n",
    "for i in range(n):\n",
    "    for j in range(i+1):\n",
    "        print(chr(ascstr+j), end='')\n",
    "    print()\n",
    "print('\\nPattern 2')\n",
    "k=0\n",
    "for i in range(n):\n",
    "    for j in range(i+1):\n",
    "        print(chr(ascstr+k+j), end='')\n",
    "    k += j +1\n",
    "    print()\n",
    "    \n",
    "print('\\nPattern 3')\n",
    "for i in range(n):\n",
    "    for j in range(i+1):\n",
    "        print(chr(ascstr+i), end='')\n",
    "    print()\n",
    "\n",
    "print('\\nPattern 4')\n",
    "k=n\n",
    "for i in range(n):\n",
    "    print(' '*k, end=' ')\n",
    "    for j in range(i+1):\n",
    "        print(chr(ascstr+j), end='')\n",
    "    for j in range(i-1,-1,-1):\n",
    "        print(chr(ascstr+j), end='')\n",
    "    k-=1\n",
    "    print()"
   ]
  }
 ],
 "metadata": {
  "kernelspec": {
   "display_name": "Python 3",
   "language": "python",
   "name": "python3"
  },
  "language_info": {
   "codemirror_mode": {
    "name": "ipython",
    "version": 3
   },
   "file_extension": ".py",
   "mimetype": "text/x-python",
   "name": "python",
   "nbconvert_exporter": "python",
   "pygments_lexer": "ipython3",
   "version": "3.7.3"
  }
 },
 "nbformat": 4,
 "nbformat_minor": 2
}
