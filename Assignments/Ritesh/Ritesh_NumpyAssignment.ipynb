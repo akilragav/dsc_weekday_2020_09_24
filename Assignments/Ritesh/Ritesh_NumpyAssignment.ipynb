{
 "cells": [
  {
   "cell_type": "code",
   "execution_count": 1,
   "metadata": {},
   "outputs": [],
   "source": [
    "import numpy as np"
   ]
  },
  {
   "cell_type": "code",
   "execution_count": 7,
   "metadata": {},
   "outputs": [
    {
     "name": "stdout",
     "output_type": "stream",
     "text": [
      "[0. 0. 0. 0. 0.]\n",
      "Datatype:  float64\n",
      "Item Size: 8\n",
      "Shape:  (5,)\n"
     ]
    }
   ],
   "source": [
    "##- create a numpy array of 5 zeros.\n",
    "ze=np.zeros(5)\n",
    "print(ze)\n",
    "##- check datatype, itemsize and shape of above\n",
    "print('Datatype: ', ze.dtype)\n",
    "print('Item Size:', ze.itemsize)\n",
    "print('Shape: ', ze.shape)"
   ]
  },
  {
   "cell_type": "code",
   "execution_count": 9,
   "metadata": {},
   "outputs": [
    {
     "name": "stdout",
     "output_type": "stream",
     "text": [
      "[[1. 1. 1. 1.]\n",
      " [1. 1. 1. 1.]\n",
      " [1. 1. 1. 1.]\n",
      " [1. 1. 1. 1.]\n",
      " [1. 1. 1. 1.]]\n"
     ]
    }
   ],
   "source": [
    "###- create a numpy array of ones of shape (5,4)\n",
    "arr = np.ones((5,4))\n",
    "print(arr)"
   ]
  },
  {
   "cell_type": "code",
   "execution_count": 15,
   "metadata": {},
   "outputs": [
    {
     "name": "stdout",
     "output_type": "stream",
     "text": [
      "[[ 1  2  3  4  5]\n",
      " [ 6  7  8  9 10]\n",
      " [11 12 13 14 15]\n",
      " [16 17 18 19 20]]\n"
     ]
    }
   ],
   "source": [
    "###- create a matrix of shape 4,5 with numbers from 1-20\n",
    "arr = np.arange(1,21)\n",
    "arr.resize(4,5)\n",
    "print(arr)"
   ]
  },
  {
   "cell_type": "code",
   "execution_count": 16,
   "metadata": {},
   "outputs": [
    {
     "name": "stdout",
     "output_type": "stream",
     "text": [
      "[[ 10  20  30  40  50]\n",
      " [ 60  70  80  90 100]\n",
      " [110 120 130 140 150]\n",
      " [160 170 180 190 200]]\n"
     ]
    }
   ],
   "source": [
    "###- multiply all elements of above array by 10\n",
    "arr1 = arr*10\n",
    "print(arr1)"
   ]
  },
  {
   "cell_type": "code",
   "execution_count": 13,
   "metadata": {},
   "outputs": [
    {
     "name": "stdout",
     "output_type": "stream",
     "text": [
      "[ 1  3  5  7  9 11 13 15 17 19]\n"
     ]
    }
   ],
   "source": [
    "###- print odd elements from array\n",
    "print(arr[arr%2!=0])"
   ]
  },
  {
   "cell_type": "code",
   "execution_count": 24,
   "metadata": {},
   "outputs": [
    {
     "name": "stdout",
     "output_type": "stream",
     "text": [
      "[[ 1  2  3  4  5]\n",
      " [ 6  7  8  9 10]\n",
      " [11 12 13 14 15]\n",
      " [16 17 18 19 20]]\n",
      "[[  1  -2   3  -4   5]\n",
      " [ -6   7  -8   9 -10]\n",
      " [ 11 -12  13 -14  15]\n",
      " [-16  17 -18  19 -20]]\n"
     ]
    }
   ],
   "source": [
    "###- replace all even elements by their negative\n",
    "print(arr)\n",
    "c = arr%2==0\n",
    "arr3 = np.where(c, -arr, arr)\n",
    "print(arr3)"
   ]
  },
  {
   "cell_type": "code",
   "execution_count": 11,
   "metadata": {},
   "outputs": [
    {
     "name": "stdout",
     "output_type": "stream",
     "text": [
      "[[ 1.  2.  3.  4.]\n",
      " [ 5.  6.  7.  8.]\n",
      " [ 9. 10. 11. 12.]\n",
      " [13. 14. 15. 16.]]\n",
      "[[ 1.  5.  9. 13.]\n",
      " [ 2.  6. 10. 14.]\n",
      " [ 3.  7. 11. 15.]\n",
      " [ 4.  8. 12. 16.]]\n",
      "[[ 2.  7. 12. 17.]\n",
      " [ 7. 12. 17. 22.]\n",
      " [12. 17. 22. 27.]\n",
      " [17. 22. 27. 32.]]\n",
      "Matrix Equal\n",
      "[[ 0. -3. -6. -9.]\n",
      " [ 3.  0. -3. -6.]\n",
      " [ 6.  3.  0. -3.]\n",
      " [ 9.  6.  3.  0.]]\n",
      "[[ 0.  3.  6.  9.]\n",
      " [-3.  0.  3.  6.]\n",
      " [-6. -3.  0.  3.]\n",
      " [-9. -6. -3.  0.]]\n",
      "Matrix Equal\n",
      "Matrix Equal\n"
     ]
    }
   ],
   "source": [
    "''' create a linearly spaced matrix M1 of size 4x4 having values in range 1-16\n",
    "- create a transpose of above matrix call it M2\n",
    "- find sum of above matrix M3 = (M1 + M2)\n",
    "- Find Transpose of M3, Call it MT1. Check if M3 == MT1\n",
    "- find diffrence of M4 = (M1 - M2)\n",
    "- Find Transpose of M4, Call it MT2. Check if M4 == MT2. Also check if M4 == -MT2'''\n",
    "\n",
    "M1 = np.linspace(1,16,16).reshape(4,4)\n",
    "print(M1)\n",
    "M2 = M1.T\n",
    "print(M2)\n",
    "\n",
    "M3 = M1+M2\n",
    "print(M3)\n",
    "\n",
    "MT1 = M3.T\n",
    "if(M3==MT1).all:\n",
    "    print('Matrix Equal')\n",
    "else:\n",
    "    print('Matrix different')\n",
    "    \n",
    "M4 = M1 - M2\n",
    "print(M4)\n",
    "MT2 = M4.T\n",
    "print(MT2)\n",
    "\n",
    "if(M4==MT2).all:\n",
    "    print('Matrix Equal')\n",
    "else:\n",
    "    print('Matrix different')\n",
    "    \n",
    "if(M4==-MT2).all:\n",
    "    print('Matrix Equal')\n",
    "else:\n",
    "    print('Matrix different')"
   ]
  },
  {
   "cell_type": "code",
   "execution_count": 24,
   "metadata": {},
   "outputs": [
    {
     "name": "stdout",
     "output_type": "stream",
     "text": [
      "[[14 19 22 20]\n",
      " [10 25 27 20]\n",
      " [10 26 10 13]]\n",
      "[10 19 10 13]\n",
      "[14 26 27 20]\n"
     ]
    }
   ],
   "source": [
    "'''- create a matrix (3x4) R1 of random numbers between 10-40\n",
    "- find min and max column wise\n",
    "- replace the last column with sum of all the columns'''\n",
    "\n",
    "ran=np.random.randint(10,40,(3,4))\n",
    "print(ran)\n",
    "\n",
    "print(ran.min(axis=0))\n",
    "print(ran.max(axis=0))\n",
    "\n",
    "#ran = ran[]\n",
    "#print(dir(np.random))"
   ]
  },
  {
   "cell_type": "code",
   "execution_count": 34,
   "metadata": {},
   "outputs": [
    {
     "name": "stdout",
     "output_type": "stream",
     "text": [
      "[[29. 25. nan 27.]\n",
      " [13. 35. nan 29.]\n",
      " [nan 23. 15. 17.]]\n",
      "213.0\n"
     ]
    }
   ],
   "source": [
    "'''- create a matrix (3x4) R1 of random numbers between 10-40\n",
    "- replace all even elements with nan in R1\n",
    "- count number of nan in R1'''\n",
    "\n",
    "R1 = np.random.randint(10,40, (3,4)).astype('float32')\n",
    "R1[R1%2==0] = np.nan\n",
    "print(R1)\n",
    "print(R1[~np.isnan(R1)].sum())"
   ]
  },
  {
   "cell_type": "code",
   "execution_count": 25,
   "metadata": {},
   "outputs": [
    {
     "name": "stdout",
     "output_type": "stream",
     "text": [
      "[ 1  2  3  4  5  6  7  8  9 11 12 13 14 15 16 17 18 19]\n",
      "[[ 1  2  3]\n",
      " [ 4  5  6]\n",
      " [ 7  8  9]\n",
      " [11 12 13]\n",
      " [14 15 16]\n",
      " [17 18 19]]\n",
      "[[ 1  2  3 11 12 13]\n",
      " [ 4  5  6 14 15 16]\n",
      " [ 7  8  9 17 18 19]]\n"
     ]
    }
   ],
   "source": [
    "'''- check output of this code ''' \n",
    "a1 = np.arange(1,10).reshape(3,3)\n",
    "a2 = np.arange(11,20).reshape(3,3)\n",
    "a3 = np.append(a1,a2)\n",
    "print(a3)\n",
    "a3 = np.append(a1,a2, axis = 0)\n",
    "print(a3)\n",
    "a3 = np.append(a1,a2, axis = 1)\n",
    "print(a3)\n",
    "\n"
   ]
  }
 ],
 "metadata": {
  "kernelspec": {
   "display_name": "Python 3",
   "language": "python",
   "name": "python3"
  },
  "language_info": {
   "codemirror_mode": {
    "name": "ipython",
    "version": 3
   },
   "file_extension": ".py",
   "mimetype": "text/x-python",
   "name": "python",
   "nbconvert_exporter": "python",
   "pygments_lexer": "ipython3",
   "version": "3.7.3"
  }
 },
 "nbformat": 4,
 "nbformat_minor": 2
}
