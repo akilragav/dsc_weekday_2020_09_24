{
 "cells": [
  {
   "cell_type": "code",
   "execution_count": 5,
   "metadata": {},
   "outputs": [
    {
     "name": "stdout",
     "output_type": "stream",
     "text": [
      "Enter Number: 5\n",
      "25\n",
      "0.2\n",
      "-5\n"
     ]
    }
   ],
   "source": [
    "'''Q1.Write lambdas to:\n",
    "a. Square a number x2\n",
    "b. Inverse a number 1/x\n",
    "c. Negate a number'''\n",
    "\n",
    "x = int(input('Enter Number: '))\n",
    "sq = lambda x:x**2\n",
    "inv = lambda x:1/x\n",
    "neg = lambda x:-1*x\n",
    "\n",
    "print(sq(x))\n",
    "print(inv(x))\n",
    "print((lambda x:-1*x)(x))"
   ]
  },
  {
   "cell_type": "code",
   "execution_count": 7,
   "metadata": {},
   "outputs": [
    {
     "name": "stdout",
     "output_type": "stream",
     "text": [
      "Enter Num5\n",
      "Enter Integer Number: 10\n",
      "Enter Integer Number: 30\n",
      "Enter Integer Number: 20\n",
      "Enter Integer Number: 40\n",
      "Enter Integer Number: 3\n",
      "3\n"
     ]
    }
   ],
   "source": [
    "###Q2. Use reduce function and an appropriate lambda to find the maximum number in a list.\n",
    "from functools import reduce\n",
    "n=int(input('Enter Num'))\n",
    "lst = []\n",
    "for i in range(n):\n",
    "    lst.append(int(input('Enter Integer Number: ')))\n",
    "min = reduce(lambda x,y:x if x<y else y, lst)\n",
    "print(min)"
   ]
  },
  {
   "cell_type": "code",
   "execution_count": 17,
   "metadata": {},
   "outputs": [
    {
     "name": "stdout",
     "output_type": "stream",
     "text": [
      "[1, 4, 9, 16]\n",
      "[1.0, 0.5, 0.3333333333333333, 0.25]\n",
      "[-1, -2, -3, -4]\n"
     ]
    }
   ],
   "source": [
    "####Q3. \n",
    "lst_f = [lambda x:x**2, lambda x:1/x, lambda x:-1*x]\n",
    "seq = [1,2,3,4]\n",
    "final = []\n",
    "def map_multiple(functs, seq):\n",
    "    for func in functs:\n",
    "        r=map(func,seq)\n",
    "        final.append(list(r))\n",
    "    return final\n",
    "r2 = map_multiple(lst_f,seq)\n",
    "print(*list(r2), sep='\\n')"
   ]
  },
  {
   "cell_type": "code",
   "execution_count": 19,
   "metadata": {},
   "outputs": [
    {
     "name": "stdout",
     "output_type": "stream",
     "text": [
      "Largest Number in list:  50\n"
     ]
    }
   ],
   "source": [
    "###Q4. Predict the output of following code:\n",
    "from functools import reduce\n",
    "f = lambda x,y:x if x>y else y\n",
    "l = [10,20,50,20,10]\n",
    "num = reduce(f,l)\n",
    "print('Largest Number in list: ', num)"
   ]
  },
  {
   "cell_type": "code",
   "execution_count": 20,
   "metadata": {},
   "outputs": [
    {
     "name": "stdout",
     "output_type": "stream",
     "text": [
      "[1.0, 0.5, 0.25, 0.125]\n"
     ]
    }
   ],
   "source": [
    "###Q5. Predict the output of following code:\n",
    "functs = [lambda x: x**0.5, lambda x: 1/x]\n",
    "l = [1,4,16,64]\n",
    "ans = []\n",
    "for num in l:\n",
    "    res = num\n",
    "    for funct in functs:\n",
    "        res = funct(res)\n",
    "    ans.append(res)\n",
    "print(ans)"
   ]
  },
  {
   "cell_type": "code",
   "execution_count": 31,
   "metadata": {},
   "outputs": [
    {
     "name": "stdout",
     "output_type": "stream",
     "text": [
      "[1, 2, 3]\n"
     ]
    }
   ],
   "source": [
    "###Q6. Use filter function to filter a list of numbers and strings such that the result contains only numbers. (Hint : Use isinstance method)\n",
    "#help(isinstance)\n",
    "\n",
    "s = [1,'a',2, 'b', 3, 'c'] #input('Enter String:')\n",
    "r = list(filter(lambda i: isinstance(i, int), s))\n",
    "print(r)"
   ]
  },
  {
   "cell_type": "code",
   "execution_count": 44,
   "metadata": {},
   "outputs": [
    {
     "name": "stdout",
     "output_type": "stream",
     "text": [
      "['1.778m', '1.4986m', '1.0668m', '0.15239999999999998m', '1.524m']\n"
     ]
    }
   ],
   "source": [
    "'''Q7. Assume a list containing heights ft and inches in the form of a list of string\n",
    "Example : l = [‘5ft10in’, ‘5ft’, ….]\n",
    "Write a function to convert the heights to meter. Use map function along with your function to\n",
    "convert everything to m.'''\n",
    "heights = ['5ft10in', '4ft11in', '3ft6in', '6in', '5ft']\n",
    "def convert_heighttometer(h):\n",
    "    if(h.find('ft')>0):\n",
    "        sp = h.split('ft')\n",
    "        ft = int(sp[0])\n",
    "        h = sp[1]\n",
    "    else:\n",
    "        ft =0\n",
    "    if(h.find('in')>0):\n",
    "        inc = int(h.split('in')[0])\n",
    "    else:\n",
    "        inc = 0\n",
    "    h = ft*12 + inc\n",
    "    h_in_m = h*0.0254\n",
    "    return (f'{h_in_m}m')\n",
    "r = list(map(convert_heighttometer, heights))\n",
    "print(r)"
   ]
  },
  {
   "cell_type": "code",
   "execution_count": 2,
   "metadata": {},
   "outputs": [
    {
     "name": "stdout",
     "output_type": "stream",
     "text": [
      "[1, 4, 9, 16]\n"
     ]
    }
   ],
   "source": [
    "###Q8. Write the implementation for the map function yourself by the name my_map()\n",
    "\n",
    "def my_map(f, a):\n",
    "    res = []\n",
    "    for i in a:\n",
    "        res.append(f(i))\n",
    "    return res\n",
    "def fun(x):\n",
    "    return x**2\n",
    "a = [1,2,3,4]\n",
    "r = my_map(fun, a)\n",
    "print(r)\n"
   ]
  },
  {
   "cell_type": "code",
   "execution_count": null,
   "metadata": {},
   "outputs": [],
   "source": []
  }
 ],
 "metadata": {
  "kernelspec": {
   "display_name": "Python 3",
   "language": "python",
   "name": "python3"
  },
  "language_info": {
   "codemirror_mode": {
    "name": "ipython",
    "version": 3
   },
   "file_extension": ".py",
   "mimetype": "text/x-python",
   "name": "python",
   "nbconvert_exporter": "python",
   "pygments_lexer": "ipython3",
   "version": "3.5.6"
  }
 },
 "nbformat": 4,
 "nbformat_minor": 2
}
