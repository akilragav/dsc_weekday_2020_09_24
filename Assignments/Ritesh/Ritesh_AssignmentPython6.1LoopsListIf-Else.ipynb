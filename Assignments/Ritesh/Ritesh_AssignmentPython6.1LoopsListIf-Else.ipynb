{
 "cells": [
  {
   "cell_type": "code",
   "execution_count": 1,
   "metadata": {},
   "outputs": [
    {
     "name": "stdout",
     "output_type": "stream",
     "text": [
      "ENter String: Ritesh\n",
      "R\n",
      "i\n",
      "t\n",
      "e\n",
      "s\n",
      "h\n"
     ]
    }
   ],
   "source": [
    "###Q1. WAP to input a string and print individual characters in the string using for loop.\n",
    "\n",
    "s = input('Enter String: ')\n",
    "for c in s:\n",
    "    print(c)"
   ]
  },
  {
   "cell_type": "code",
   "execution_count": 3,
   "metadata": {},
   "outputs": [
    {
     "name": "stdout",
     "output_type": "stream",
     "text": [
      "ENter String: Ritesh\n",
      "ASCII value of \"R\" is 82\n",
      "ASCII value of \"i\" is 105\n",
      "ASCII value of \"t\" is 116\n",
      "ASCII value of \"e\" is 101\n",
      "ASCII value of \"s\" is 115\n",
      "ASCII value of \"h\" is 104\n"
     ]
    }
   ],
   "source": [
    "###Q2. WAP to input a string and print the ASCII value of each character in the string.\n",
    "s = input('Enter String: ')\n",
    "for c in s:\n",
    "    print(f'ASCII value of \"{c}\" is {ord(c)}')"
   ]
  },
  {
   "cell_type": "code",
   "execution_count": 8,
   "metadata": {},
   "outputs": [
    {
     "name": "stdout",
     "output_type": "stream",
     "text": [
      "Enter the length of list: 5\n",
      "Enter Number: 1\n",
      "Enter Number: 2\n",
      "Enter Number: 3\n",
      "Enter Number: 4\n",
      "Enter Number: 5\n",
      "9\n"
     ]
    }
   ],
   "source": [
    "###Q3. Write a function that takes a list of numbers from user as argument and returns the sum of only\n",
    "###odd numbers (Use only for loop. No need to use if statement).\n",
    "n = int(input('Enter the length of list: '))\n",
    "def sum_lst(n):\n",
    "    lst = []\n",
    "    for i in range(n):\n",
    "        num1 = int(input('Enter Number: '))\n",
    "        lst.append(num1)\n",
    "    res =0\n",
    "    for item in lst:\n",
    "       if(item%2):\n",
    "        res += item\n",
    "    return res\n",
    "print(sum_lst(n))"
   ]
  },
  {
   "cell_type": "code",
   "execution_count": 15,
   "metadata": {},
   "outputs": [
    {
     "name": "stdout",
     "output_type": "stream",
     "text": [
      "Enter the length of list: 3\n",
      "Enter Number: 1\n",
      "Enter Number: 2\n",
      "Enter Number: 3\n",
      "Enter number 2\n",
      "1\n"
     ]
    }
   ],
   "source": [
    "###Q4. WAP to input a list of numbers and store in a tuple. Now input another number and print the \n",
    "###index of this number in the tuple. [Use index function]\n",
    "n = int(input('Enter the length of list: '))\n",
    "lst = []\n",
    "for i in range(n):\n",
    "    num1 = int(input('Enter Number: '))\n",
    "    lst.append(num1)\n",
    "t = tuple(lst)\n",
    "nu = int(input('Enter number '))\n",
    "print(t.index(nu))"
   ]
  },
  {
   "cell_type": "code",
   "execution_count": 18,
   "metadata": {},
   "outputs": [
    {
     "name": "stdout",
     "output_type": "stream",
     "text": [
      "[49, 47, 49, 3, 27, 87, 56, 52, 43, 58]\n",
      "Sum of element:  471\n",
      "Average of Elements in list 47.1\n",
      "Sum of element:  471\n",
      "Average of Elements in list 47.1\n"
     ]
    }
   ],
   "source": [
    "##Q5. Create a list of 10 random numbers and then print the list, sum of all numbers and average. \n",
    "## Use a for loop. Also print elements at only even indexes in the list.\n",
    "from random import randint\n",
    "lst = []\n",
    "for i in range(10):\n",
    "    lst.append(randint(1,100))\n",
    "print(lst)\n",
    "print('Sum of element: ' , sum(lst))\n",
    "print('Average of Elements in list' , sum(lst)/len(lst))\n",
    "res = 0\n",
    "for i in lst:\n",
    "    res+=i\n",
    "print('Sum of element: ' , res)\n",
    "print('Average of Elements in list' , res/len(lst))"
   ]
  },
  {
   "cell_type": "code",
   "execution_count": 19,
   "metadata": {},
   "outputs": [
    {
     "name": "stdout",
     "output_type": "stream",
     "text": [
      "Enter Number: 4\n",
      "Enter Number: 2\n",
      "Enter Number: 3\n",
      "Enter Number: 4\n",
      "Enter Number: 5\n",
      "Enter Number: 6\n",
      "Enter Number: 7\n",
      "Enter Number: 8\n",
      "Enter Number: 9\n",
      "Enter Number: 9\n",
      "4\n",
      "2\n",
      "3\n",
      "4\n",
      "5\n",
      "6\n",
      "7\n",
      "8\n",
      "9\n",
      "9\n",
      "Sum of elements:  57\n"
     ]
    }
   ],
   "source": [
    "##Q6. WAP to input 10 numbers repeatedly (using range based for loop) and store them in a list. Print the list and sum of numbers in the list.\n",
    "lst = []\n",
    "res = 0\n",
    "for i in range(10):\n",
    "    num1 = int(input('Enter Number: '))\n",
    "    lst.append(num1)\n",
    "for i in lst:\n",
    "    print(i)\n",
    "    res+=i\n",
    "print('Sum of elements: ', res)\n",
    "    "
   ]
  },
  {
   "cell_type": "code",
   "execution_count": 20,
   "metadata": {},
   "outputs": [
    {
     "name": "stdout",
     "output_type": "stream",
     "text": [
      "Enter the number: 7\n",
      "7 x 1 = 7\n",
      "7 x 2 = 14\n",
      "7 x 3 = 21\n",
      "7 x 4 = 28\n",
      "7 x 5 = 35\n",
      "7 x 6 = 42\n",
      "7 x 7 = 49\n",
      "7 x 8 = 56\n",
      "7 x 9 = 63\n",
      "7 x 10 = 70\n"
     ]
    }
   ],
   "source": [
    "###Q7. WAP to input a number and print its table\n",
    "n = int(input('Enter the number: '))\n",
    "for i in range(1,11):\n",
    "    print(f'{n} x {i} = {n*i}')"
   ]
  },
  {
   "cell_type": "code",
   "execution_count": 21,
   "metadata": {},
   "outputs": [
    {
     "name": "stdout",
     "output_type": "stream",
     "text": [
      "Enter String: This is a Class\n",
      "Number of \" \" spaces 3\n"
     ]
    }
   ],
   "source": [
    "###Q8. WAP to print total number of spaces in a string (Use for loop to iterate over the string. Don’t use count function).\n",
    "s = input('Enter String: ')\n",
    "intCount = 0\n",
    "for c in s:\n",
    "    if(c ==' '):\n",
    "        intCount +=1\n",
    "print('Number of \" \":', intCount)"
   ]
  },
  {
   "cell_type": "code",
   "execution_count": 22,
   "metadata": {},
   "outputs": [
    {
     "name": "stdout",
     "output_type": "stream",
     "text": [
      "Enter String: Ritesh CHandan\n",
      "Number of Vowels: 4\n"
     ]
    }
   ],
   "source": [
    "##Q9. WAP to input a string and count number of vowels in the string. [Note: it should work for both capital and small alphabets]\n",
    "s = input('Enter String: ')\n",
    "vow = ['A', 'E', 'I', 'O', 'U']\n",
    "intCount = 0\n",
    "for c in s:\n",
    "    if(c.upper() in vow):\n",
    "        intCount +=1\n",
    "print('Number of Vowels:', intCount)"
   ]
  },
  {
   "cell_type": "code",
   "execution_count": 25,
   "metadata": {},
   "outputs": [
    {
     "name": "stdout",
     "output_type": "stream",
     "text": [
      "Enter String: Ritesh\n",
      "R_t_sh\n"
     ]
    }
   ],
   "source": [
    "##Q10. WAP to input a string and replace all vowels with ‘_’.\n",
    "s = list(input('Enter String: '))\n",
    "vow = ['A', 'E', 'I', 'O', 'U']\n",
    "for c in range(len(s)):\n",
    "    if(s[c].upper() in vow):\n",
    "        s[c] = '_'\n",
    "print(\"\".join(s))\n"
   ]
  },
  {
   "cell_type": "code",
   "execution_count": 28,
   "metadata": {},
   "outputs": [
    {
     "name": "stdout",
     "output_type": "stream",
     "text": [
      "Num:  0\n",
      "Loop Ends\n",
      "Num:  0\n"
     ]
    },
    {
     "ename": "SystemExit",
     "evalue": "",
     "output_type": "error",
     "traceback": [
      "An exception has occurred, use %tb to see the full traceback.\n",
      "\u001b[1;31mSystemExit\u001b[0m\n"
     ]
    },
    {
     "name": "stderr",
     "output_type": "stream",
     "text": [
      "C:\\Users\\hp\\Anaconda3\\lib\\site-packages\\IPython\\core\\interactiveshell.py:3333: UserWarning: To exit: use 'exit', 'quit', or Ctrl-D.\n",
      "  warn(\"To exit: use 'exit', 'quit', or Ctrl-D.\", stacklevel=1)\n"
     ]
    }
   ],
   "source": [
    "##Q11. Find output:\n",
    "for num in range(10):\n",
    "    print('Num: ', num)\n",
    "    if(num%4==0):\n",
    "        break\n",
    "print('Loop Ends')\n",
    "\n",
    "import sys\n",
    "for num in range(10):\n",
    "    print('Num: ', num)\n",
    "    if(num%4==0):\n",
    "        sys.exit()\n",
    "print('Loop Ends')"
   ]
  },
  {
   "cell_type": "code",
   "execution_count": 1,
   "metadata": {},
   "outputs": [
    {
     "name": "stdout",
     "output_type": "stream",
     "text": [
      "*****\n",
      "*****\n",
      "*****\n",
      "*****\n",
      "*****\n",
      "1\n",
      "22\n",
      "333\n",
      "4444\n",
      "55555\n",
      "1\n",
      "22\n",
      "333\n",
      "4444\n",
      "55555\n",
      "**\n",
      "***\n",
      "****\n",
      "*****\n",
      "******\n"
     ]
    }
   ],
   "source": [
    "for i1 in range(1,6):\n",
    "    for i2 in range(5):\n",
    "        print('*', end='')\n",
    "    print()\n",
    "\n",
    "    \n",
    "for i1 in range(1,6):\n",
    "    print(str(i1)*i1)\n",
    "    \n",
    "for i1 in range(1,6):\n",
    "    for i2 in range(i1):\n",
    "        print(i1, end='')\n",
    "    print()\n",
    "\n",
    "for i1 in range(1,6):\n",
    "    for i2 in range(i1+1):\n",
    "        print('*', end='')\n",
    "    print()"
   ]
  }
 ],
 "metadata": {
  "kernelspec": {
   "display_name": "Python 3",
   "language": "python",
   "name": "python3"
  },
  "language_info": {
   "codemirror_mode": {
    "name": "ipython",
    "version": 3
   },
   "file_extension": ".py",
   "mimetype": "text/x-python",
   "name": "python",
   "nbconvert_exporter": "python",
   "pygments_lexer": "ipython3",
   "version": "3.7.3"
  }
 },
 "nbformat": 4,
 "nbformat_minor": 2
}
