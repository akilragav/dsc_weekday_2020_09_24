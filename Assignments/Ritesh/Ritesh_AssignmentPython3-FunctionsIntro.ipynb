{
 "cells": [
  {
   "cell_type": "code",
   "execution_count": 1,
   "metadata": {},
   "outputs": [
    {
     "name": "stdout",
     "output_type": "stream",
     "text": [
      "Enter First StringRitesh\n",
      "Enter Second StringChandan\n",
      "Strings Before swap. \n",
      " First String: Ritesh, Second String: Chandan\n",
      "\n",
      "Strings After swap. \n",
      " First String: Chandan, Second String: Ritesh\n"
     ]
    }
   ],
   "source": [
    "###Q1. input 2 strings and swap the strings\n",
    "str1 = input(\"Enter First String\")\n",
    "str2 = input('Enter Second String')\n",
    "\n",
    "print(f'Strings Before swap. \\n First String: {str1}, Second String: {str2}\\n')\n",
    "\n",
    "str1, str2 = str2, str1\n",
    "print(f'Strings After swap. \\n First String: {str1}, Second String: {str2}')\n",
    "      "
   ]
  },
  {
   "cell_type": "code",
   "execution_count": 6,
   "metadata": {},
   "outputs": [
    {
     "name": "stdout",
     "output_type": "stream",
     "text": [
      "Input nos: 16, 4, 13, 23\n",
      "Avarage of input random nos:  14.0\n"
     ]
    }
   ],
   "source": [
    "###Q2. generate 4 random numbers in the range 0-26 and print their average\n",
    "from random import randint\n",
    "x1 = randint(0,26)\n",
    "x2 = randint(0,26)\n",
    "x3 = randint(0,26)\n",
    "x4 = randint(0,26)\n",
    "avg = (x1+x2+x3+x4)/4\n",
    "print(f'Input nos: {x1}, {x2}, {x3}, {x4}')\n",
    "print('Avarage of input random nos: ', avg)"
   ]
  },
  {
   "cell_type": "code",
   "execution_count": 20,
   "metadata": {},
   "outputs": [
    {
     "name": "stdout",
     "output_type": "stream",
     "text": [
      "J\n",
      "c\n",
      "Enter String: Alankrita\n",
      "l\n"
     ]
    }
   ],
   "source": [
    "'''###Q3. to generate and print a random uppercase or lowercase alphabet. Try these:\n",
    "• Create a string containing all alphabets and then select a random alphabet.\n",
    "• Check the module string'''\n",
    "import random as ran\n",
    "import string as st\n",
    "print(ran.choice(st.ascii_uppercase))\n",
    "print(ran.choice(st.ascii_lowercase))\n",
    "\n",
    "str1 = input('Enter String: ')\n",
    "print(ran.choice(str1))"
   ]
  },
  {
   "cell_type": "code",
   "execution_count": 3,
   "metadata": {},
   "outputs": [
    {
     "name": "stdout",
     "output_type": "stream",
     "text": [
      "Enter Principal: 1000\n",
      "Enter Rate of Interest: 4\n",
      "Enter Time in Years9\n",
      "Simple Interest: 40.0\n"
     ]
    }
   ],
   "source": [
    "##4. WAF get_si() that takes Principle, Rate and Time as arguments and returns the Simple Interest.\n",
    "def get_si(p, r, t):\n",
    "    si = (p*r*t)/100\n",
    "    return si\n",
    "\n",
    "principal = int(input('Enter Principal: '))\n",
    "rate = float(input('Enter Rate of Interest: '))\n",
    "t = float(input('Enter Time in Years: '))\n",
    "\n",
    "si = get_si(principal, rate, t)\n",
    "print(f'Simple Interest: {si}')\n"
   ]
  },
  {
   "cell_type": "code",
   "execution_count": 6,
   "metadata": {},
   "outputs": [
    {
     "name": "stdout",
     "output_type": "stream",
     "text": [
      "Enter Principal: 10000\n",
      "Enter Rate of Interest: 2\n",
      "Enter Time in Years: 3\n",
      "11000.0\n"
     ]
    }
   ],
   "source": [
    "'''Q5. WAF get_amount() that takes Principle, Rate and Time as arguments and returns the\n",
    "Total amount using the get_si() function from above to calculate the SI. Also provide\n",
    "Rate = 10 and Time = 1 as default arguments.'''\n",
    "\n",
    "def get_amt(p,r=10, t=1):\n",
    "    si = get_si(p,r,t)\n",
    "    amt = p + si\n",
    "    return amt\n",
    "principal = int(input('Enter Principal: '))\n",
    "rate = float(input('Enter Rate of Interest: '))\n",
    "t = float(input('Enter Time in Years: '))\n",
    "\n",
    "print(get_amt(principal))"
   ]
  },
  {
   "cell_type": "code",
   "execution_count": 9,
   "metadata": {},
   "outputs": [
    {
     "name": "stdout",
     "output_type": "stream",
     "text": [
      "Enter Principal: 1000\n",
      "Enter Rate of Interest: 2\n",
      "Enter Time in Years: 3\n",
      "61.208000000000084\n"
     ]
    }
   ],
   "source": [
    "###Q6. WAP get_ci() that takes Principle, Rate and Time as arguments and returns the Compound Interest.\n",
    "def get_ci(p,r,t):\n",
    "    ci = (p*(1+(r/100))**t) - p\n",
    "    return ci\n",
    "principal = int(input('Enter Principal: '))\n",
    "rate = float(input('Enter Rate of Interest: '))\n",
    "t = float(input('Enter Time in Years: '))\n",
    "\n",
    "print(get_ci(principal, rate, t))"
   ]
  },
  {
   "cell_type": "code",
   "execution_count": 10,
   "metadata": {},
   "outputs": [
    {
     "name": "stdout",
     "output_type": "stream",
     "text": [
      "ENter num1: 10\n",
      "Enter num2: 3\n",
      "(3, 1)\n"
     ]
    }
   ],
   "source": [
    "###Q7. WAP get_q_r() taking 2 numbers as parameters and returns the quotient and remainder in the form of a tuple.\n",
    "def get_q_r(x,y):\n",
    "    q = x//y\n",
    "    r = x%y\n",
    "    return(q, r)\n",
    "\n",
    "x = int(input('ENter num1: '))\n",
    "y = int(input('Enter num2: '))\n",
    "print(get_q_r(x,y))\n"
   ]
  },
  {
   "cell_type": "code",
   "execution_count": 12,
   "metadata": {},
   "outputs": [
    {
     "name": "stdout",
     "output_type": "stream",
     "text": [
      "Enter height of triangle3\n",
      "Enter base of triangle4\n",
      "Length of hypotenous: 5.0\n"
     ]
    }
   ],
   "source": [
    "##Q8. WAP to find the length of hypotenuse of a right angled triangle, input the height and base from user.\n",
    "\n",
    "def get_hypo(h,b):\n",
    "    return((pow(h,2)+pow(b,2))**0.5)\n",
    "\n",
    "h = float(input('Enter height of triangle'))\n",
    "b = float(input('Enter base of triangle'))\n",
    "\n",
    "print(f'Length of hypotenous: {get_hypo(h,b)}')\n",
    "          "
   ]
  },
  {
   "cell_type": "code",
   "execution_count": 46,
   "metadata": {},
   "outputs": [
    {
     "name": "stdout",
     "output_type": "stream",
     "text": [
      "Enter seconds to be converted: 12345\n",
      "0 days 3 hours 25 minutes 45 seconds\n"
     ]
    }
   ],
   "source": [
    "###Q9. WAP to input number of seconds and print in days, hours, minutes and seconds\n",
    "def converttime(sec):\n",
    "    days, hrs, mins = 0,0,0\n",
    "    if(sec>=(24*60*60)):\n",
    "        days = sec//(24*60*60)\n",
    "        sec -=(24*60*60)\n",
    "        #print(days, sec)\n",
    "    if(sec>=(60*60)):\n",
    "        hrs = sec//(60*60)\n",
    "        sec -= hrs*(60*60)\n",
    "        #print(hrs, sec)\n",
    "    if(sec>=60):\n",
    "        mins= sec//60\n",
    "        sec-= mins*60\n",
    "        #print(mins, sec)\n",
    "    return(days, hrs, mins, sec)\n",
    "sec = int(input('Enter seconds to be converted: '))\n",
    "days, hrs, mins, sec = (converttime(sec))\n",
    "print(f'{days} days {hrs} hours {mins} minutes {sec} seconds')"
   ]
  },
  {
   "cell_type": "code",
   "execution_count": 6,
   "metadata": {},
   "outputs": [
    {
     "name": "stdout",
     "output_type": "stream",
     "text": [
      "3.7.3 (default, Apr 24 2019, 15:29:51) [MSC v.1915 64 bit (AMD64)]\n"
     ]
    }
   ],
   "source": [
    "##Q10. Check your version of python interpreter without opening the interpreter (Which command needs to be used on the command line).\n",
    "import sys\n",
    "print(sys.version)"
   ]
  },
  {
   "cell_type": "code",
   "execution_count": 10,
   "metadata": {},
   "outputs": [
    {
     "name": "stdout",
     "output_type": "stream",
     "text": [
      "2 -2\n"
     ]
    }
   ],
   "source": [
    "###Q11. Find Output\n",
    "x=2\n",
    "x *= 3\n",
    "x = x % 4\n",
    "y = - x\n",
    "print(x, y)"
   ]
  },
  {
   "cell_type": "code",
   "execution_count": 11,
   "metadata": {},
   "outputs": [
    {
     "name": "stdout",
     "output_type": "stream",
     "text": [
      "None\n"
     ]
    }
   ],
   "source": [
    "###Q12. Find Output\n",
    "def funct():\n",
    "    pass\n",
    "print(funct())"
   ]
  }
 ],
 "metadata": {
  "kernelspec": {
   "display_name": "Python 3",
   "language": "python",
   "name": "python3"
  },
  "language_info": {
   "codemirror_mode": {
    "name": "ipython",
    "version": 3
   },
   "file_extension": ".py",
   "mimetype": "text/x-python",
   "name": "python",
   "nbconvert_exporter": "python",
   "pygments_lexer": "ipython3",
   "version": "3.7.3"
  }
 },
 "nbformat": 4,
 "nbformat_minor": 2
}
