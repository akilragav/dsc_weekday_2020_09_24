{
 "cells": [
  {
   "cell_type": "code",
   "execution_count": 1,
   "metadata": {},
   "outputs": [
    {
     "name": "stdout",
     "output_type": "stream",
     "text": [
      "(1, 2, 3, 4, 5)\n",
      "[1, 2, 3, 4, 5]\n"
     ]
    }
   ],
   "source": [
    "###Q1. Convert a Tuple t = (1,2,3,4,5) to a list\n",
    "t = (1,2,3,4,5)\n",
    "print(t)\n",
    "lst = list(t)\n",
    "print(lst)"
   ]
  },
  {
   "cell_type": "code",
   "execution_count": 9,
   "metadata": {},
   "outputs": [
    {
     "name": "stdout",
     "output_type": "stream",
     "text": [
      "[1, 3, 5, 7, 2, 4, 6, 8]\n"
     ]
    }
   ],
   "source": [
    "###Q2. WAP to join a list and a tuple:\n",
    "lst = [1,3,5,7]\n",
    "t = (2,4,6,8)\n",
    "#lst.append(t)\n",
    "lst.extend(list(t))\n",
    "LS = lst\n",
    "print(LS)"
   ]
  },
  {
   "cell_type": "code",
   "execution_count": null,
   "metadata": {},
   "outputs": [],
   "source": [
    "'''Q3. What is difference between list and tuple.\n",
    "1. List is mutable while tuple is immutable.\n",
    "2. List is denoted by[], Tuple is denoted in ()'''"
   ]
  },
  {
   "cell_type": "code",
   "execution_count": 27,
   "metadata": {},
   "outputs": [
    {
     "name": "stdout",
     "output_type": "stream",
     "text": [
      "Using reverse method\n",
      " ['C', 'A', 'c', 'd', 'a']\n",
      "Using Slicing\n",
      " ['C', 'A', 'c', 'd', 'a']\n",
      "By using loop\n",
      " ['C', 'A', 'c', 'd', 'a']\n"
     ]
    }
   ],
   "source": [
    "###Q4. Print the list in reverse order\n",
    "l = ['a', 'd', 'c', 'A', 'C']\n",
    "l1 = []\n",
    "l.reverse()\n",
    "print('Using reverse method\\n', l)\n",
    "\n",
    "l.reverse()\n",
    "print('Using Slicing\\n', l[::-1])\n",
    "\n",
    "for x in range(len(l),0,-1):\n",
    "    l1.append(l[x-1])\n",
    "print('By using loop\\n',l1)"
   ]
  },
  {
   "cell_type": "code",
   "execution_count": 28,
   "metadata": {},
   "outputs": [
    {
     "name": "stdout",
     "output_type": "stream",
     "text": [
      "[10, 20, 30, 40]\n"
     ]
    }
   ],
   "source": [
    "##Q5. Print Elements at Odd indexes from a list (Do not use loop)\n",
    "l = [10,11,20, 21,30, 31, 40, 41]\n",
    "print(l[::2])"
   ]
  },
  {
   "cell_type": "code",
   "execution_count": null,
   "metadata": {},
   "outputs": [],
   "source": [
    "##Q6. How many ways you can copy a list.\n",
    "'''Ans. 1. Using copy method (eg.: l2 = l1.copy())\n",
    "        2. Using assignment (eg. l2 = l1)"
   ]
  },
  {
   "cell_type": "code",
   "execution_count": 29,
   "metadata": {},
   "outputs": [
    {
     "name": "stdout",
     "output_type": "stream",
     "text": [
      "a\n",
      "5\n"
     ]
    }
   ],
   "source": [
    "##Q7. Predict output\n",
    "n_list = [\"Happy\", [2,0,1,5]]\n",
    "print(n_list[0][1])\n",
    "print(n_list[1][3])"
   ]
  },
  {
   "cell_type": "code",
   "execution_count": 30,
   "metadata": {},
   "outputs": [
    {
     "name": "stdout",
     "output_type": "stream",
     "text": [
      "[1, 4, 6, 8]\n",
      "[1, 3, 5, 7]\n"
     ]
    }
   ],
   "source": [
    "##8. Predict output\n",
    "odd = [2,4,6,8]\n",
    "odd[0] = 1\n",
    "print(odd)\n",
    "odd[1:4] = [3,5,7]\n",
    "print(odd)"
   ]
  },
  {
   "cell_type": "code",
   "execution_count": 31,
   "metadata": {},
   "outputs": [
    {
     "name": "stdout",
     "output_type": "stream",
     "text": [
      "[1, 3, 5, [7, 9]]\n",
      "[1, 3, 5, [7, 9], 11, 13]\n"
     ]
    }
   ],
   "source": [
    "###Q9. Predict Output\n",
    "odd = [1,3,5]\n",
    "odd.append([7,9])\n",
    "print(odd)\n",
    "odd.extend([11,13])\n",
    "print(odd)"
   ]
  },
  {
   "cell_type": "code",
   "execution_count": 39,
   "metadata": {},
   "outputs": [
    {
     "name": "stdout",
     "output_type": "stream",
     "text": [
      "<class 'tuple'>\n",
      "<class 'int'>\n",
      "<class 'int'>\n",
      "<class 'tuple'>\n"
     ]
    }
   ],
   "source": [
    "###Q10. Predict Output\n",
    "x = 1,2,3;print(type(x))\n",
    "x = (1);print(type(x))\n",
    "x=1;print(type(x))\n",
    "x=1,;print(type(x))"
   ]
  },
  {
   "cell_type": "code",
   "execution_count": 41,
   "metadata": {},
   "outputs": [
    {
     "name": "stdout",
     "output_type": "stream",
     "text": [
      "1\t2\t3\n",
      "4\t5\t6\n",
      "7\t8\t9\n"
     ]
    }
   ],
   "source": [
    "###Q11. Try to represent a matrix with following data in python:\n",
    "'''1   2  3\n",
    "   4   5  6\n",
    "   7   8  9'''\n",
    "lst=[]\n",
    "k=1\n",
    "for i in range(1,10,3):\n",
    "    for j in range(i,i+3 ):\n",
    "        lst.append(j)\n",
    "#print(*lst)\n",
    "\n",
    "for i in range(0,len(lst),3):\n",
    "    print(lst[i], lst[i+1], lst[i+2], sep='\\t')\n"
   ]
  },
  {
   "cell_type": "code",
   "execution_count": 43,
   "metadata": {},
   "outputs": [
    {
     "name": "stdout",
     "output_type": "stream",
     "text": [
      "('S', 't', 'r', 'i', 'n', 'g')\n",
      "('g', 'n', 'i', 'r', 't', 'S')\n",
      "('n', 'S')\n"
     ]
    }
   ],
   "source": [
    "###Q12. Predict output\n",
    "t=tuple('String')\n",
    "print(t)\n",
    "print(t[::-1])\n",
    "print(t[::2][::-2])"
   ]
  },
  {
   "cell_type": "code",
   "execution_count": 44,
   "metadata": {},
   "outputs": [
    {
     "name": "stdout",
     "output_type": "stream",
     "text": [
      "True\n",
      "False\n",
      "1\n",
      "3\n"
     ]
    }
   ],
   "source": [
    "###Q13. Predict Output\n",
    "t = tuple([10,20,30,40,50,60])\n",
    "print(60 in t)\n",
    "print('60' in t)\n",
    "print(t.count(10))\n",
    "print(t.index(40))"
   ]
  },
  {
   "cell_type": "code",
   "execution_count": 48,
   "metadata": {},
   "outputs": [
    {
     "name": "stdout",
     "output_type": "stream",
     "text": [
      "Enter the string: asdd\n",
      "\"asdd\" is Not Palindrome\n"
     ]
    }
   ],
   "source": [
    "###Q14. Write a program to input a string and print if it is palindrome or not.\n",
    "str1 = input('Enter the string: ')\n",
    "str2 = str1[::-1]\n",
    "if(str1==str2):\n",
    "    print(f'\"{str1}\" is Palindrome')\n",
    "else:\n",
    "    print(f'\"{str1}\" is Not Palindrome')"
   ]
  },
  {
   "cell_type": "code",
   "execution_count": 49,
   "metadata": {},
   "outputs": [
    {
     "name": "stdout",
     "output_type": "stream",
     "text": [
      "(20, 15, 10, 5)\n"
     ]
    }
   ],
   "source": [
    "###Q15. Use the range method and create a tuple containing the following values:(20, 15, 10, 5)\n",
    "\n",
    "t = tuple(range(20,1,-5))\n",
    "print(t)"
   ]
  },
  {
   "cell_type": "code",
   "execution_count": 50,
   "metadata": {},
   "outputs": [
    {
     "name": "stdout",
     "output_type": "stream",
     "text": [
      "Enter String: asdf\n",
      "['a', 's', 'd', 'f']\n"
     ]
    }
   ],
   "source": [
    "###Q16. WAP to convert string to list of characters.\n",
    "str1 = input('Enter String: ')\n",
    "lst = list(str1)\n",
    "print(lst)"
   ]
  },
  {
   "cell_type": "code",
   "execution_count": 51,
   "metadata": {},
   "outputs": [
    {
     "name": "stdout",
     "output_type": "stream",
     "text": [
      "<class 'list'>\n",
      "<class 'NoneType'>\n",
      "<class 'str'>\n",
      "<class 'bool'>\n"
     ]
    }
   ],
   "source": [
    "###Q17. What is the return type of:\n",
    "print(type('1 2'.split()))\n",
    "print(type([1,2,3].sort()))\n",
    "print(type('abc'.upper()))\n",
    "print(type(1 in [1,2]))"
   ]
  }
 ],
 "metadata": {
  "kernelspec": {
   "display_name": "Python 3",
   "language": "python",
   "name": "python3"
  },
  "language_info": {
   "codemirror_mode": {
    "name": "ipython",
    "version": 3
   },
   "file_extension": ".py",
   "mimetype": "text/x-python",
   "name": "python",
   "nbconvert_exporter": "python",
   "pygments_lexer": "ipython3",
   "version": "3.7.3"
  }
 },
 "nbformat": 4,
 "nbformat_minor": 2
}
