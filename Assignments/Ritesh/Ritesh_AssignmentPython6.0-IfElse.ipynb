{
 "cells": [
  {
   "cell_type": "code",
   "execution_count": 2,
   "metadata": {},
   "outputs": [
    {
     "name": "stdout",
     "output_type": "stream",
     "text": [
      "Number1: 14\n",
      "Number2: 3\n",
      "False\n"
     ]
    }
   ],
   "source": [
    "###Q1. WAP to input 2 numbers and check whether the first is divisible by the second and print true or false depending on the divisibility.\n",
    "n1 = int(input('Number1: '))\n",
    "n2 = int(input('Number2: '))\n",
    "res = True\n",
    "if(n1%n2):\n",
    "    res = False\n",
    "print(res)"
   ]
  },
  {
   "cell_type": "code",
   "execution_count": 4,
   "metadata": {},
   "outputs": [
    {
     "name": "stdout",
     "output_type": "stream",
     "text": [
      "Enter StringNaman\n",
      "NAMAN is Palindrome\n"
     ]
    }
   ],
   "source": [
    "###Q2. In the palindrome example, make the code case insensitive.\n",
    "s = input('Enter String').upper()\n",
    "s1 = s[::-1]\n",
    "if(s==s1):\n",
    "    print(s, 'is Palindrome')\n",
    "else:\n",
    "    print(s, 'is not a Palindrome')\n"
   ]
  },
  {
   "cell_type": "code",
   "execution_count": 10,
   "metadata": {},
   "outputs": [
    {
     "name": "stdout",
     "output_type": "stream",
     "text": [
      "Sides of Triangle2\n",
      "Sides of Triangle3\n",
      "Sides of Triangle4\n",
      "Scalene\n"
     ]
    }
   ],
   "source": [
    "##Q3. WAP to input the sides of a triangle and print whether equilateral(all sides equal), isosceles (2 sides equal), or scalene (no sides equal).\n",
    "a = input('Sides of Triangle')\n",
    "b = input('Sides of Triangle')\n",
    "c = input('Sides of Triangle')\n",
    "if(a==b and a==c):\n",
    "    print('Equilateral')\n",
    "elif(a==b or a==c or b==c):\n",
    "    print('Isosceles')\n",
    "else:\n",
    "    print('Scalene')"
   ]
  },
  {
   "cell_type": "code",
   "execution_count": 11,
   "metadata": {},
   "outputs": [
    {
     "name": "stdout",
     "output_type": "stream",
     "text": [
      "Enter Number: 3\n",
      "Odd\n"
     ]
    }
   ],
   "source": [
    "###Q4. WAP to input a number and print if it is even or odd.\n",
    "num = int(input('Enter Number: '))\n",
    "\n",
    "if(num%2):\n",
    "    print('Odd')\n",
    "else:\n",
    "    print('Even')"
   ]
  },
  {
   "cell_type": "code",
   "execution_count": 15,
   "metadata": {},
   "outputs": [
    {
     "name": "stdout",
     "output_type": "stream",
     "text": [
      "Enter Age: 13\n",
      "Teen\n"
     ]
    }
   ],
   "source": [
    "##Q5. WAP to input age and print the respective text depending on the age ranges as present in the table.\n",
    "age = int(input('Enter Age: '))\n",
    "if(age<0):\n",
    "    print('Invalid')\n",
    "elif(age<=12):\n",
    "    print('Child')\n",
    "elif(age<=17):\n",
    "    print('Teen')\n",
    "elif(age<=50):\n",
    "    print('Adult')\n",
    "elif(age<=100):\n",
    "    print('Senior Citizens')\n",
    "else:\n",
    "    print('Congratulations')"
   ]
  },
  {
   "cell_type": "code",
   "execution_count": 17,
   "metadata": {},
   "outputs": [
    {
     "name": "stdout",
     "output_type": "stream",
     "text": [
      "Input Year: 1900\n",
      "Not a Leap Year\n"
     ]
    }
   ],
   "source": [
    "###Q6. WAP to input year (check if user enters valid year. Should be 4-digit number and should not be negative) and print whether leap year or not.\n",
    "year = input('Input Year: ')\n",
    "if(len(year)!=4 and year.isnumeric()):\n",
    "    print('Invalid Year ')\n",
    "else:\n",
    "    year = int(year)\n",
    "    if(year<0):\n",
    "        print('Invalid Year. Year Cannot be Negative')\n",
    "    else:\n",
    "        if(year%4==0 and (year%100!=0 or year%400==0)):\n",
    "            print('Leap Year')\n",
    "        else:\n",
    "            print('Not a Leap Year')"
   ]
  },
  {
   "cell_type": "code",
   "execution_count": 19,
   "metadata": {},
   "outputs": [
    {
     "name": "stdout",
     "output_type": "stream",
     "text": [
      "Enter String: Chandan\n",
      "CHANDAN\n"
     ]
    }
   ],
   "source": [
    "###Q7. WAP to input a string and convert it to Upper Case if number of characters is odd and convert to lower case otherwise.(s)\n",
    "s = input('Enter String: ')\n",
    "if(len(s)%2==0):\n",
    "    print(s.lower())\n",
    "else:\n",
    "    print(s.upper())"
   ]
  },
  {
   "cell_type": "code",
   "execution_count": 30,
   "metadata": {},
   "outputs": [
    {
     "name": "stdout",
     "output_type": "stream",
     "text": [
      "Enter Food: Curry on Egg\n",
      "Non Veg\n"
     ]
    }
   ],
   "source": [
    "###Q8. WAP to input a string and print Veg if the string doesn’t contain the word egg. Otherwise print Non-Veg. As usual eggs can be both big and small.\n",
    "s = input('Enter Food: ')\n",
    "if(s.lower().find('egg')>=0):\n",
    "    print('Non Veg')\n",
    "else:\n",
    "    print('Veg')"
   ]
  },
  {
   "cell_type": "code",
   "execution_count": 37,
   "metadata": {},
   "outputs": [
    {
     "name": "stdout",
     "output_type": "stream",
     "text": [
      "True\n",
      "True\n",
      "Wierd\n",
      "[4, 3, 2, 1]\n"
     ]
    }
   ],
   "source": [
    "###Q9 Predict Output\n",
    "if(not 1):\n",
    "    print('False')\n",
    "else:\n",
    "    print('True')\n",
    "    \n",
    "if 1:\n",
    "    print('True')\n",
    "else:\n",
    "    print('False')\n",
    "\n",
    "if 'a'> 'A':\n",
    "    print('Wierd')\n",
    "else:\n",
    "    print('Makes sense')\n",
    "\n",
    "a=[1,2,3,4]\n",
    "if(1>1):\n",
    "    a=a[::-1]\n",
    "else:\n",
    "    a=a[-1::-1]\n",
    "print(a)"
   ]
  },
  {
   "cell_type": "code",
   "execution_count": 38,
   "metadata": {},
   "outputs": [
    {
     "name": "stdout",
     "output_type": "stream",
     "text": [
      "Marks in sub 1: 30\n",
      "Marks in sub 2: 80\n",
      "Marks in sub 3: 90\n",
      "Marks in sub 4: 92\n",
      "Marks in sub 5: 70\n",
      "Grade F\n",
      "Grade B\n",
      "Grade A\n",
      "Grade A\n",
      "Grade C\n"
     ]
    }
   ],
   "source": [
    "'''Q10. WAP to input marks in 5 subjects and print the grade as per following logic:\n",
    "% between 90-100 Grade-A\n",
    "% between 80 - 89 Grade-B\n",
    "% between 60 - 79 Grade-C\n",
    "% < 60 Grade-F'''\n",
    "\n",
    "marks = []\n",
    "for i in range(5):\n",
    "    marks.append(int(input(f'Marks in sub {i+1}: ')))\n",
    "\n",
    "for mark in marks:\n",
    "    if(mark<60):\n",
    "        print('Grade F')\n",
    "    elif(mark<80):\n",
    "        print('Grade C')\n",
    "    elif(mark<90):\n",
    "        print('Grade B')\n",
    "    else:\n",
    "        print('Grade A')"
   ]
  },
  {
   "cell_type": "code",
   "execution_count": 39,
   "metadata": {},
   "outputs": [
    {
     "name": "stdout",
     "output_type": "stream",
     "text": [
      "Age: 35\n",
      "Enter Salary: 1200000\n",
      "180000.0\n"
     ]
    }
   ],
   "source": [
    "'''Q11. WAP to input age and salary and calculate Tax as per tax rates if following table:\n",
    "Salary Range                  Age < 60       Age >= 60\n",
    "0-2,50,000                      0                0\n",
    "2,50,001-5,00,000              5%                3%\n",
    "5,00,001-10,00,000             10%               8%\n",
    "Salary>10,00,001               15%               12%'''\n",
    "age = int(input('Age: '))\n",
    "Salary = int(input('Enter Salary: '))\n",
    "if(Salary < 250000):\n",
    "    taxRate = 0\n",
    "elif(Salary<500000):\n",
    "    taxRate=5\n",
    "    if(age>60):\n",
    "        taxRate = 3\n",
    "elif(Salary<1000000):\n",
    "    taxRate=10\n",
    "    if(age>60):\n",
    "        taxRate = 8\n",
    "else:\n",
    "    taxRate=15\n",
    "    if(age>60):\n",
    "        taxRate = 12    \n",
    "\n",
    "tax = Salary*taxRate/100\n",
    "print(tax)"
   ]
  },
  {
   "cell_type": "code",
   "execution_count": 46,
   "metadata": {},
   "outputs": [
    {
     "name": "stdout",
     "output_type": "stream",
     "text": [
      "10\n",
      "10\n",
      "10\n",
      "OMG\n"
     ]
    }
   ],
   "source": [
    "###Q12\n",
    "print(20 if not 1==1 else 10)\n",
    "print(30 if not 1==1 else 20 if 'a'<'A' else 10)\n",
    "print(40 if not 1==1 else 30 if 'a'<'A' else 20 if \"\" else 10)\n",
    "print('No' if not 1==1 else('No' if 'a'<'A' else ('OMG' if 'oh!!' else 'No')))"
   ]
  },
  {
   "cell_type": "code",
   "execution_count": 50,
   "metadata": {},
   "outputs": [
    {
     "name": "stdout",
     "output_type": "stream",
     "text": [
      "Enter age First: 10\n",
      "Enter age Second: 20\n",
      "Enter age Third: 30\n",
      "Max Age:  30\n",
      "Min Age:  10\n"
     ]
    }
   ],
   "source": [
    "###Q14. Take input of age of 3 people by user and determine oldest and youngest among them.\n",
    "s1 = int(input('Enter age First: '))\n",
    "s2 = int(input('Enter age Second: '))\n",
    "s3 = int(input('Enter age Third: '))\n",
    "maxage = s1\n",
    "if(s2>s1 and s2>s3):\n",
    "    maxage = s2\n",
    "elif(s3>s1):\n",
    "    maxage = s3\n",
    "minage = s1\n",
    "if(s2<s1 and s2<s3):\n",
    "    minage = s2\n",
    "elif(s3<s1):\n",
    "    minage = s3\n",
    "print('Max Age: ', maxage, sep=' ')\n",
    "print('Min Age: ', minage, sep=' ')"
   ]
  },
  {
   "cell_type": "code",
   "execution_count": 51,
   "metadata": {},
   "outputs": [
    {
     "name": "stdout",
     "output_type": "stream",
     "text": [
      "Enter Number: 23\n",
      "Not Divisible by 5 and 7\n"
     ]
    }
   ],
   "source": [
    "###Q15. WAP to input a number and check if number is divisible by both 5 and 7.\n",
    "n = int(input('Enter Number: '))\n",
    "if(n%5==0 and n%7==0):\n",
    "    print('Divisible by 5 and 7')\n",
    "else:\n",
    "    print('Not Divisible by 5 and 7')"
   ]
  }
 ],
 "metadata": {
  "kernelspec": {
   "display_name": "Python 3",
   "language": "python",
   "name": "python3"
  },
  "language_info": {
   "codemirror_mode": {
    "name": "ipython",
    "version": 3
   },
   "file_extension": ".py",
   "mimetype": "text/x-python",
   "name": "python",
   "nbconvert_exporter": "python",
   "pygments_lexer": "ipython3",
   "version": "3.7.3"
  }
 },
 "nbformat": 4,
 "nbformat_minor": 2
}
