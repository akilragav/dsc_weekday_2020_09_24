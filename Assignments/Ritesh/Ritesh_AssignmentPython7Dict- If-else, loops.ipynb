{
 "cells": [
  {
   "cell_type": "code",
   "execution_count": 1,
   "metadata": {},
   "outputs": [
    {
     "name": "stdout",
     "output_type": "stream",
     "text": [
      "Enter Range of num: 5\n",
      "{1: -1, 2: -2, 3: -3, 4: -4, 5: -5}\n"
     ]
    }
   ],
   "source": [
    "###Q1. WAP to create a dictionary of numbers mapped to their negative value for numbers from 1-5.\n",
    "n = int(input('Enter Range of num: '))\n",
    "dict1 = {}\n",
    "for i in range(1,n+1):\n",
    "    dict1[i]= -1*i\n",
    "print(dict1)"
   ]
  },
  {
   "cell_type": "code",
   "execution_count": 29,
   "metadata": {},
   "outputs": [
    {
     "ename": "SyntaxError",
     "evalue": "keyword can't be an expression (<ipython-input-29-5ee455b49d15>, line 13)",
     "output_type": "error",
     "traceback": [
      "\u001b[1;36m  File \u001b[1;32m\"<ipython-input-29-5ee455b49d15>\"\u001b[1;36m, line \u001b[1;32m13\u001b[0m\n\u001b[1;33m    d = dict(1=2, 2=3)\u001b[0m\n\u001b[1;37m            ^\u001b[0m\n\u001b[1;31mSyntaxError\u001b[0m\u001b[1;31m:\u001b[0m keyword can't be an expression\n"
     ]
    }
   ],
   "source": [
    "###Q2. Check which of the following declarations will work\n",
    "#1. d = {1=2, 2=3}\n",
    "#2. d = {1:2, 2:3}\n",
    "#3. d = {1,2; 2,3}\n",
    "#4. d = {(1,2),(2,3)}\n",
    "#5. d = {'a':'A', 'b':'B',c:[1234]}\n",
    "#6. d = {'a':'A', 'b':'B','c':[1234]}\n",
    "#7. d = dict([(1,2),(2,3)])\n",
    "#8. d = dict(((1,2),(2,3)))\n",
    "#9. d = dict([(1,2),(2,3)])\n",
    "#10. d = dict(x=2,y=3)\n",
    "#11. d = dict('x'=2,'y'=3)\n",
    "#12. d = dict(1=2, 2=3)\n",
    "print(d)"
   ]
  },
  {
   "cell_type": "code",
   "execution_count": 32,
   "metadata": {},
   "outputs": [
    {
     "name": "stdout",
     "output_type": "stream",
     "text": [
      "{1: 10, 2: 20, 3: 30, 4: 40}\n"
     ]
    }
   ],
   "source": [
    "###Q3. Read help for zip and write a program that has two lists\n",
    "l1 = [1,2,3,4]\n",
    "l2 = [10,20,30,40]\n",
    "d=dict(zip(l1,l2))\n",
    "print(d)\n",
    "#print(help(zip))"
   ]
  },
  {
   "cell_type": "code",
   "execution_count": 34,
   "metadata": {},
   "outputs": [
    {
     "name": "stdout",
     "output_type": "stream",
     "text": [
      "{'Z': 90, 'A': 65, 'B': 66, 'C': 67, 'D': 68, 'E': 69, 'F': 70, 'G': 71, 'H': 72, 'I': 73, 'J': 74, 'K': 75, 'L': 76, 'M': 77, 'N': 78, 'O': 79, 'P': 80, 'Q': 81, 'R': 82, 'S': 83, 'T': 84, 'U': 85, 'V': 86, 'W': 87, 'X': 88, 'Y': 89}\n"
     ]
    }
   ],
   "source": [
    "##Q4. Use range based for loop to store all upper case alphabets and their corresponding ASCII values in the dictionary d.\n",
    "##########The result should be d = {‘A’: 65, ‘B’:66,…..}\n",
    "for i in range(65, 91):\n",
    "    d[chr(i)] = i\n",
    "print(d)"
   ]
  },
  {
   "cell_type": "code",
   "execution_count": 42,
   "metadata": {},
   "outputs": [
    {
     "name": "stdout",
     "output_type": "stream",
     "text": [
      "['__class__', '__contains__', '__delattr__', '__delitem__', '__dir__', '__doc__', '__eq__', '__format__', '__ge__', '__getattribute__', '__getitem__', '__gt__', '__hash__', '__init__', '__init_subclass__', '__iter__', '__le__', '__len__', '__lt__', '__ne__', '__new__', '__reduce__', '__reduce_ex__', '__repr__', '__setattr__', '__setitem__', '__sizeof__', '__str__', '__subclasshook__', 'clear', 'copy', 'fromkeys', 'get', 'items', 'keys', 'pop', 'popitem', 'setdefault', 'update', 'values']\n"
     ]
    }
   ],
   "source": [
    "print(dir(dict))"
   ]
  },
  {
   "cell_type": "code",
   "execution_count": 51,
   "metadata": {},
   "outputs": [
    {
     "name": "stdout",
     "output_type": "stream",
     "text": [
      "Enter Single digit number: 4\n",
      "4 in words: four\n",
      "\n",
      "dict_keys([0, 1, 2, 3, 4, 5, 6, 7, 8, 9])\n",
      "\n",
      "dict_values(['zero', 'one', 'two', 'three', 'four', 'five', 'six', 'seven', 'eight', 'nine'])\n",
      "\n",
      "{0: 'zero', 1: 'one', 2: 'two', 3: 'three', 4: 'four', 5: 'five', 6: 'six', 7: 'seven', 8: 'eight', 9: 'nine'}\n"
     ]
    }
   ],
   "source": [
    "'''5. Create a mapping of number to word from 0-9. (0:’zero’……)\n",
    "• Ask user for a single digit number and print the corresponding word format.\n",
    "• Print all keys of above dictionary\n",
    "• Print all Values of a dictionary\n",
    "• Print all Key and Value pairs of above dictionary'''\n",
    "d = {0:'zero', 1:'one', 2:'two', 3:'three', 4:'four', 5:'five', 6:'six', 7:'seven', 8:'eight', 9:'nine'}\n",
    "n = int(input('Enter Single digit number: '))\n",
    "print(f'{n} in words: {d[n]}')\n",
    "print()\n",
    "print(d.keys())\n",
    "print('\\n',d.values(), sep='')\n",
    "print('\\n', d, sep='')"
   ]
  },
  {
   "cell_type": "code",
   "execution_count": 55,
   "metadata": {},
   "outputs": [
    {
     "name": "stdout",
     "output_type": "stream",
     "text": [
      "{'A': 'Apple', 'B': 'Ball', 'C': 'Cat', 'D': 'Dog'}\n",
      "[('A', 'Apple'), ('B', 'Ball'), ('C', 'Cat'), ('D', 'Dog')]\n",
      "{'A': 'Apple', 'C': 'Cat'}\n"
     ]
    }
   ],
   "source": [
    "###Q6 Predict Output\n",
    "l1 = ['A', 'B', 'C', 'D']\n",
    "l2 = ['Apple', 'Ball', 'Cat', 'Dog']\n",
    "d1 = dict(zip(l1,l2))\n",
    "print(d1)\n",
    "d2 = dict(list(d1.items())[::2])\n",
    "print(d2)"
   ]
  },
  {
   "cell_type": "code",
   "execution_count": 68,
   "metadata": {},
   "outputs": [
    {
     "name": "stdout",
     "output_type": "stream",
     "text": [
      "Enter a String: Beautiful Day\n",
      "{'a': 2, 'e': 1, 'i': 1, 'o': 0, 'u': 2}\n"
     ]
    }
   ],
   "source": [
    "###Q7. WAP to input a string and count occurrence of each vowel in a string.\n",
    "st = input('Enter a String: ').lower()\n",
    "d = {'a':0,'e':0,'i':0,'o':0,'u':0}\n",
    "for i in st:\n",
    "    if(i in list(d.keys())):\n",
    "        d[i] = d[i] + 1\n",
    "print(d)"
   ]
  },
  {
   "cell_type": "code",
   "execution_count": 72,
   "metadata": {},
   "outputs": [
    {
     "name": "stdout",
     "output_type": "stream",
     "text": [
      "Enter a String: This is a string\n",
      "{'t': 2, 'h': 1, 'i': 3, 's': 3, ' ': 3, 'a': 1, 'r': 1, 'n': 1, 'g': 1}\n"
     ]
    }
   ],
   "source": [
    "###Q8. Update above program to print frequency of each alphabet present in string.\n",
    "st = input('Enter a String: ').lower()\n",
    "d = {}\n",
    "for i in st:\n",
    "    if(i not in d):\n",
    "        d[i] = 1\n",
    "    else:\n",
    "        d[i] = d[i]+1\n",
    "print(d)"
   ]
  },
  {
   "cell_type": "code",
   "execution_count": 77,
   "metadata": {},
   "outputs": [
    {
     "name": "stdout",
     "output_type": "stream",
     "text": [
      "Enter a String: count the words in the sentence in\n",
      "{'count': 1, 'the': 2, 'words': 1, 'in': 2, 'sentence': 1}\n"
     ]
    }
   ],
   "source": [
    "###Q9. WAP that takes a string as input and prints frequency of each word.\n",
    "st = input('Enter a String: ')\n",
    "s = st.split()\n",
    "d = {}\n",
    "for i in s:\n",
    "    if(i not in d):\n",
    "        d[i] = 1\n",
    "    else:\n",
    "        d[i] = d[i]+1\n",
    "print(d)\n"
   ]
  }
 ],
 "metadata": {
  "kernelspec": {
   "display_name": "Python 3",
   "language": "python",
   "name": "python3"
  },
  "language_info": {
   "codemirror_mode": {
    "name": "ipython",
    "version": 3
   },
   "file_extension": ".py",
   "mimetype": "text/x-python",
   "name": "python",
   "nbconvert_exporter": "python",
   "pygments_lexer": "ipython3",
   "version": "3.7.3"
  }
 },
 "nbformat": 4,
 "nbformat_minor": 2
}
