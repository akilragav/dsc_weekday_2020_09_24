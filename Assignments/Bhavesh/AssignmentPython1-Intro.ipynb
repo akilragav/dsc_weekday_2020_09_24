{
 "cells": [
  {
   "cell_type": "code",
   "execution_count": 11,
   "metadata": {},
   "outputs": [
    {
     "name": "stdout",
     "output_type": "stream",
     "text": [
      "7 16\n"
     ]
    }
   ],
   "source": [
    "# 1. Predict Output:\n",
    "\n",
    "s1 = 'Bhavesh'\n",
    "s2 = 'google@gmail.com'\n",
    "\n",
    "print(len(s1), len(s2))"
   ]
  },
  {
   "cell_type": "code",
   "execution_count": 2,
   "metadata": {},
   "outputs": [
    {
     "name": "stdout",
     "output_type": "stream",
     "text": [
      "Please enter any string: Bhavesh\n",
      "7\n"
     ]
    }
   ],
   "source": [
    "# 2. WAP to input a string and print its length.\n",
    "\n",
    "input_str = input(\"Please enter any string: \")\n",
    "\n",
    "print(len(input_str))"
   ]
  },
  {
   "cell_type": "code",
   "execution_count": 4,
   "metadata": {},
   "outputs": [
    {
     "name": "stdout",
     "output_type": "stream",
     "text": [
      "Please enter number one: 21\n",
      "Please enter number two: 35\n",
      "Sum: 56\n",
      "Difference: 14\n"
     ]
    }
   ],
   "source": [
    "# 3. WAP to input 2 numbers and print their sum and difference.\n",
    "\n",
    "number_one = int(input(\"Please enter number one: \"))\n",
    "number_two = int(input(\"Please enter number two: \"))\n",
    "\n",
    "print(\"Sum:\", number_one + number_two)\n",
    "print(\"Difference:\", abs(number_one - number_two))"
   ]
  },
  {
   "cell_type": "code",
   "execution_count": 5,
   "metadata": {},
   "outputs": [
    {
     "name": "stdout",
     "output_type": "stream",
     "text": [
      "abde\n"
     ]
    }
   ],
   "source": [
    "# 4. Predict output: \n",
    "\n",
    "s1 = 'ab'\n",
    "s2 = 'de'\n",
    "s3 = s1 + s2\n",
    "\n",
    "print(s3)"
   ]
  },
  {
   "cell_type": "code",
   "execution_count": 7,
   "metadata": {},
   "outputs": [
    {
     "name": "stdout",
     "output_type": "stream",
     "text": [
      "abde\n"
     ]
    }
   ],
   "source": [
    "# 5. Predict output: \n",
    "\n",
    "s1 = 'ab'\n",
    "s2 = 'de'\n",
    "s3 = s1 + s2\n",
    "\n",
    "print(s3)"
   ]
  },
  {
   "cell_type": "code",
   "execution_count": 8,
   "metadata": {},
   "outputs": [
    {
     "name": "stdout",
     "output_type": "stream",
     "text": [
      "abababab\n"
     ]
    }
   ],
   "source": [
    "# 6. Predict output: \n",
    "\n",
    "s1 = 'ab'*4\n",
    "\n",
    "print(s1)"
   ]
  },
  {
   "cell_type": "code",
   "execution_count": 9,
   "metadata": {},
   "outputs": [
    {
     "name": "stdout",
     "output_type": "stream",
     "text": [
      "ab\n",
      "ab\n",
      "ab\n",
      "ab\n",
      "\n"
     ]
    }
   ],
   "source": [
    "# 7. Predict output: \n",
    "\n",
    "s1 = 'ab\\n'*4\n",
    "\n",
    "print(s1)"
   ]
  },
  {
   "cell_type": "code",
   "execution_count": 10,
   "metadata": {},
   "outputs": [
    {
     "name": "stdout",
     "output_type": "stream",
     "text": [
      "Please enter a string: Python\n",
      "Please enter a number: 3\n",
      "Python\n",
      "Python\n",
      "Python\n",
      "\n"
     ]
    }
   ],
   "source": [
    "# 8. WAP to input a string s and a number n. Print the string n times on the screen, each should appear in a separate line (do not use any kind of loops, use the multiplication operator). \n",
    "\n",
    "s = input(\"Please enter a string: \")\n",
    "n = int(input(\"Please enter a number: \"))\n",
    "\n",
    "prn = (s + '\\n')*n\n",
    "print(prn)"
   ]
  },
  {
   "cell_type": "code",
   "execution_count": 13,
   "metadata": {},
   "outputs": [
    {
     "name": "stdout",
     "output_type": "stream",
     "text": [
      "Bhavesh\n",
      "None\n"
     ]
    }
   ],
   "source": [
    "# 9. Predict Output:\n",
    "\n",
    "res = print(\"Bhavesh\")\n",
    "print(res)"
   ]
  },
  {
   "cell_type": "code",
   "execution_count": 15,
   "metadata": {},
   "outputs": [
    {
     "name": "stdout",
     "output_type": "stream",
     "text": [
      "<class 'int'>\n"
     ]
    }
   ],
   "source": [
    "# 10. Predict Output: \n",
    "\n",
    "res = len(\"google@gmail.com\")\n",
    "print(type(res))"
   ]
  },
  {
   "cell_type": "code",
   "execution_count": 16,
   "metadata": {},
   "outputs": [
    {
     "name": "stdout",
     "output_type": "stream",
     "text": [
      "<class 'str'>\n",
      "24\n"
     ]
    }
   ],
   "source": [
    "# 11. Predict Output: \n",
    "\n",
    "s1 = 'Bhavesh'\n",
    "s2 = 'google@gmail.com'\n",
    "\n",
    "s3 = s1 + '\\n' + s2\n",
    "print(type(s3))\n",
    "print(len(s3))"
   ]
  },
  {
   "cell_type": "code",
   "execution_count": 18,
   "metadata": {},
   "outputs": [
    {
     "name": "stdout",
     "output_type": "stream",
     "text": [
      "['In', 'Out', '_', '__', '___', '__builtin__', '__builtins__', '__doc__', '__loader__', '__name__', '__package__', '__spec__', '_dh', '_i', '_i1', '_i10', '_i11', '_i12', '_i13', '_i14', '_i15', '_i16', '_i17', '_i18', '_i2', '_i3', '_i4', '_i5', '_i6', '_i7', '_i8', '_i9', '_ih', '_ii', '_iii', '_oh', 'exit', 'get_ipython', 'input_str', 'math', 'n', 'number_one', 'number_two', 'prn', 'quit', 'res', 's', 's1', 's2', 's3']\n"
     ]
    }
   ],
   "source": [
    "# 12. Find the name of function to find the square root. (see all the options available in dir() of math) \n",
    "\n",
    "import math\n",
    "\n",
    "print(dir())"
   ]
  },
  {
   "cell_type": "code",
   "execution_count": 19,
   "metadata": {},
   "outputs": [
    {
     "name": "stdout",
     "output_type": "stream",
     "text": [
      "Please enter a number: 81\n",
      "Square root of 81 is: 9.0\n"
     ]
    }
   ],
   "source": [
    "# 13. WAP to input a number and print its square root (). \n",
    "\n",
    "import math\n",
    "number = int(input(\"Please enter a number: \"))\n",
    "\n",
    "print(\"Square root of\", number, \"is:\", math.sqrt(number))"
   ]
  },
  {
   "cell_type": "code",
   "execution_count": 20,
   "metadata": {},
   "outputs": [
    {
     "name": "stdout",
     "output_type": "stream",
     "text": [
      "Please enter number 1: 75\n",
      "Please enter number 2: 85\n",
      "Please enter number 3: 65\n",
      "Please enter number 4: 75\n",
      "Average is: 75.0\n"
     ]
    }
   ],
   "source": [
    "# 14. WAP to input 4 numbers from user and print their average \n",
    "\n",
    "total = 0\n",
    "\n",
    "for number in range(1, 5):\n",
    "    total += int(input(f\"Please enter number {number}: \"))\n",
    "    \n",
    "print(\"Average is:\", total / 4)"
   ]
  },
  {
   "cell_type": "code",
   "execution_count": 22,
   "metadata": {},
   "outputs": [
    {
     "name": "stdout",
     "output_type": "stream",
     "text": [
      "Help on built-in function abs in module builtins:\n",
      "\n",
      "abs(x, /)\n",
      "    Return the absolute value of the argument.\n",
      "\n"
     ]
    }
   ],
   "source": [
    "# 15. Use the help function to check what the abs function in python does. \n",
    "\n",
    "help(abs)"
   ]
  },
  {
   "cell_type": "code",
   "execution_count": 24,
   "metadata": {},
   "outputs": [
    {
     "name": "stdout",
     "output_type": "stream",
     "text": [
      "__main__\n"
     ]
    }
   ],
   "source": [
    "# 16. What is the output of this code when run from python interpreter. \n",
    "\n",
    "print(__name__)"
   ]
  },
  {
   "cell_type": "code",
   "execution_count": 26,
   "metadata": {},
   "outputs": [],
   "source": [
    "# 18. Does the dir of int class contain an attribute __name__ (Y/N).\n",
    "\n",
    "# No"
   ]
  },
  {
   "cell_type": "code",
   "execution_count": 27,
   "metadata": {},
   "outputs": [
    {
     "name": "stdout",
     "output_type": "stream",
     "text": [
      "__main__\n",
      "builtins\n",
      "int\n"
     ]
    }
   ],
   "source": [
    "# 19. Predict the output of:\n",
    "\n",
    "print(__name__)\n",
    "print(__builtins__.__name__)\n",
    "print(int.__name__)"
   ]
  }
 ],
 "metadata": {
  "kernelspec": {
   "display_name": "Python 3",
   "language": "python",
   "name": "python3"
  },
  "language_info": {
   "codemirror_mode": {
    "name": "ipython",
    "version": 3
   },
   "file_extension": ".py",
   "mimetype": "text/x-python",
   "name": "python",
   "nbconvert_exporter": "python",
   "pygments_lexer": "ipython3",
   "version": "3.7.6"
  }
 },
 "nbformat": 4,
 "nbformat_minor": 4
}
