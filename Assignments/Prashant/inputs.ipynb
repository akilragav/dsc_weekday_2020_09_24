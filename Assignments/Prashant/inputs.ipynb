{
 "cells": [
  {
   "cell_type": "code",
   "execution_count": 7,
   "metadata": {},
   "outputs": [
    {
     "name": "stdout",
     "output_type": "stream",
     "text": [
      "Enter temperature in Fahrenheit=150\n",
      "Fahrenheit: 150   In Celsius =  65.55555555555556 C\n"
     ]
    }
   ],
   "source": [
    "#Input temperature in Fahrenheit in print in Celsius\n",
    "\n",
    "Fah=int(input(\"Enter temperature in Fahrenheit=\"))\n",
    "\n",
    "Celsius = (Fah - 32) * 5/9\n",
    "\n",
    "print (\"Fahrenheit:\",Fah,\"  \" \"In Celsius = \",Celsius, \"C\")\n"
   ]
  },
  {
   "cell_type": "code",
   "execution_count": 3,
   "metadata": {},
   "outputs": [
    {
     "name": "stdout",
     "output_type": "stream",
     "text": [
      "Enter a number:5\n",
      "The square is: 25   The cube is: 125\n"
     ]
    }
   ],
   "source": [
    "# Write a program to input a number and print its square and cube.\n",
    "\n",
    "num=int(input(\"Enter a number:\"))\n",
    "\n",
    "s=num**2\n",
    "c=num**3\n",
    "\n",
    "print (\"The square is:\",s,\" \",\"The cube is:\",c)"
   ]
  },
  {
   "cell_type": "code",
   "execution_count": 6,
   "metadata": {},
   "outputs": [
    {
     "name": "stdout",
     "output_type": "stream",
     "text": [
      "Enter a number n:1\n",
      "Enter a number m:1\n",
      "The output is: 2\n"
     ]
    }
   ],
   "source": [
    "# WAP to input a number n and a number m and print the result of following\n",
    "#n2 + m2\n",
    "\n",
    "n=int(input(\"Enter a number n:\"))\n",
    "m=int(input(\"Enter a number m:\"))\n",
    "\n",
    "s=n**2+m**2\n",
    "print(\"The output is:\",s)\n"
   ]
  },
  {
   "cell_type": "code",
   "execution_count": 11,
   "metadata": {
    "scrolled": false
   },
   "outputs": [
    {
     "name": "stdout",
     "output_type": "stream",
     "text": [
      "Enter a number n:5\n",
      "Enter a number m:3\n",
      "The output Mul: 243 The output pow: 243\n"
     ]
    }
   ],
   "source": [
    "# WAP to input a numbers M and N and print result of MN. (use both ** and pow)\n",
    "\n",
    "n=int(input(\"Enter a number n:\"))\n",
    "m=int(input(\"Enter a number m:\"))\n",
    "\n",
    "s=m**n\n",
    "x=pow(m,n)\n",
    "\n",
    "print(\"The output Mul:\",s,\"The output pow:\",x)\n"
   ]
  },
  {
   "cell_type": "code",
   "execution_count": 7,
   "metadata": {},
   "outputs": [
    {
     "name": "stdout",
     "output_type": "stream",
     "text": [
      "Enter a principal amount :10\n",
      "Enter a rate of interest :9\n",
      "Enter a time :1\n",
      "Interest is: 0.9\n"
     ]
    }
   ],
   "source": [
    "# Write a simple interest calculator.\n",
    "\n",
    "p=float(input(\"Enter a principal amount :\"))\n",
    "r=float(input(\"Enter a rate of interest :\"))\n",
    "t=float(input(\"Enter a time :\"))\n",
    "\n",
    "si = (p * t * r)/100\n",
    "\n",
    "print(\"Interest is:\",si)"
   ]
  },
  {
   "cell_type": "code",
   "execution_count": 17,
   "metadata": {},
   "outputs": [
    {
     "name": "stdout",
     "output_type": "stream",
     "text": [
      "Enter a principal amount :10000\n",
      "Enter a rate of interest :7.9\n",
      "Enter a time :10\n",
      "total amount is: 21390.180375351658\n",
      "compound Interest is: 11390.180375351658\n"
     ]
    }
   ],
   "source": [
    "# Input Principal, Rate, Time and print Compound Interest and Amount.\n",
    "#A = P(1 + R/100) t\n",
    "\n",
    "p=float(input(\"Enter a principal amount :\"))\n",
    "r=float(input(\"Enter a rate of interest :\"))\n",
    "t=float(input(\"Enter a time :\"))\n",
    "\n",
    "a=p*(pow((1+r/100),t))\n",
    "ci=a-p\n",
    "\n",
    "print(\"total amount is:\",a)\n",
    "print(\"compound Interest is:\",ci)"
   ]
  },
  {
   "cell_type": "code",
   "execution_count": 26,
   "metadata": {},
   "outputs": [
    {
     "name": "stdout",
     "output_type": "stream",
     "text": [
      "Enter a number:3\n",
      "6\n"
     ]
    }
   ],
   "source": [
    "# WAP to print sum of first n natural numbers. (n needs to be taken as input).\n",
    "\n",
    "n1=int(input(\"Enter a number:\"))\n",
    "\n",
    "i=0\n",
    "\n",
    "while n1>0:\n",
    "    i+=n1\n",
    "    n1-=1\n",
    "print(i)\n"
   ]
  },
  {
   "cell_type": "code",
   "execution_count": 33,
   "metadata": {},
   "outputs": [
    {
     "name": "stdout",
     "output_type": "stream",
     "text": [
      "Enter a first number:1\n",
      "Enter a second number:2\n",
      "2 1\n"
     ]
    }
   ],
   "source": [
    "# WAP to input 2 numbers and swap them. (write using both normal logic with temp variable and #also the pythonic way).\n",
    "\n",
    "n1=int(input(\"Enter a first number:\"))\n",
    "n2=int(input(\"Enter a second number:\"))\n",
    "\n",
    "n1,n2 = n2,n1\n",
    "\n",
    "print(n1,n2)\n"
   ]
  },
  {
   "cell_type": "code",
   "execution_count": 12,
   "metadata": {},
   "outputs": [
    {
     "name": "stdout",
     "output_type": "stream",
     "text": [
      "ascii value of entered string is : 32\n"
     ]
    }
   ],
   "source": [
    "#WAP to print ascii value of all white-space characters present in python\n",
    "\n",
    "print(\"ascii value of entered string is :\",ord(\" \"))"
   ]
  },
  {
   "cell_type": "code",
   "execution_count": 13,
   "metadata": {},
   "outputs": [
    {
     "name": "stdout",
     "output_type": "stream",
     "text": [
      "Enter a character:a\n",
      "The ascii value of a is: 97\n"
     ]
    }
   ],
   "source": [
    "#Input a single character and print its ascii values.\n",
    "\n",
    "ch=input(\"Enter a character:\")\n",
    "\n",
    "print(f\"The ascii value of {ch} is:\",ord(ch))"
   ]
  },
  {
   "cell_type": "code",
   "execution_count": 2,
   "metadata": {},
   "outputs": [
    {
     "name": "stdout",
     "output_type": "stream",
     "text": [
      "Enter a area of circle:100\n",
      "The radius of circle is: 5.641530100196176\n",
      "The circumference of circle is 35.45137514963277\n"
     ]
    }
   ],
   "source": [
    "# WAP that takes area of a circle and gives back the radius and circumference.\n",
    "#A = π r²\n",
    "\n",
    "area=float(input(\"Enter a area of circle:\"))\n",
    "\n",
    "x=area/3.142\n",
    "\n",
    "radius=x**0.5\n",
    "circum=2*3.142*radius\n",
    "\n",
    "print(\"The radius of circle is:\",radius)\n",
    "print(\"The circumference of circle is\", circum)"
   ]
  },
  {
   "cell_type": "code",
   "execution_count": 17,
   "metadata": {},
   "outputs": [
    {
     "name": "stdout",
     "output_type": "stream",
     "text": [
      "Enter the marks out of 100 : 50\n",
      "Enter the marks out of 100 : 50\n",
      "Enter the marks out of 100 : 50\n",
      "Enter the marks out of 100 : 50\n",
      "Enter the marks out of 100 : 50\n",
      "Percentage is  50.0 %.\n"
     ]
    }
   ],
   "source": [
    "# We need to input marks in 5 subjects out of 100 and print percentage.\n",
    "\n",
    "a = int(input(\"Enter the marks out of 100 : \"))\n",
    "b = int(input(\"Enter the marks out of 100 : \"))\n",
    "c = int(input(\"Enter the marks out of 100 : \"))\n",
    "d = int(input(\"Enter the marks out of 100 : \"))\n",
    "e = int(input(\"Enter the marks out of 100 : \"))\n",
    "\n",
    "total = a+ b + c + d + e\n",
    "percent = total/500*100\n",
    "\n",
    "print(\"Percentage is \", percent, \"%.\")\n"
   ]
  }
 ],
 "metadata": {
  "kernelspec": {
   "display_name": "Python 3",
   "language": "python",
   "name": "python3"
  },
  "language_info": {
   "codemirror_mode": {
    "name": "ipython",
    "version": 3
   },
   "file_extension": ".py",
   "mimetype": "text/x-python",
   "name": "python",
   "nbconvert_exporter": "python",
   "pygments_lexer": "ipython3",
   "version": "3.8.3"
  }
 },
 "nbformat": 4,
 "nbformat_minor": 4
}
