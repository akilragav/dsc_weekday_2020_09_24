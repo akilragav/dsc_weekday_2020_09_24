{
 "cells": [
  {
   "cell_type": "code",
   "execution_count": 4,
   "metadata": {},
   "outputs": [
    {
     "name": "stdout",
     "output_type": "stream",
     "text": [
      "Enter a string :\tAkilan R\n",
      "A\n",
      "k\n",
      "i\n",
      "l\n",
      "a\n",
      "n\n",
      " \n",
      "R\n"
     ]
    }
   ],
   "source": [
    "#1 print individual character of a string\n",
    "s=input('Enter a string :\\t')\n",
    "for n in s:\n",
    "    print(n)"
   ]
  },
  {
   "cell_type": "code",
   "execution_count": 5,
   "metadata": {},
   "outputs": [
    {
     "name": "stdout",
     "output_type": "stream",
     "text": [
      "Enter a string :\tAkilan R\n",
      "Ascii of A : 65\n",
      "Ascii of k : 107\n",
      "Ascii of i : 105\n",
      "Ascii of l : 108\n",
      "Ascii of a : 97\n",
      "Ascii of n : 110\n",
      "Ascii of   : 32\n",
      "Ascii of R : 82\n"
     ]
    }
   ],
   "source": [
    "#2 print ascii value of character in a string\n",
    "s=input('Enter a string :\\t')\n",
    "for n in s:\n",
    "    print('Ascii of',n,':',ord(n))"
   ]
  },
  {
   "cell_type": "code",
   "execution_count": 10,
   "metadata": {},
   "outputs": [
    {
     "name": "stdout",
     "output_type": "stream",
     "text": [
      "Enter a Value :\t12\n",
      "Enter a Value :\t13\n",
      "Enter a Value :\t14\n",
      "Enter a Value :\t15\n",
      "Enter a Value :\t16\n",
      "Enter a Value :\t17\n",
      "Enter a Value :\t19\n",
      "Enter a Value :\t\n",
      "64\n"
     ]
    }
   ],
   "source": [
    "#3 list of numbers from user as argument\n",
    "a=0\n",
    "b=1\n",
    "while True:\n",
    "    s=(input('Enter a Value :\\t'))\n",
    "    if (s) == '':\n",
    "        break\n",
    "    if int(s)%2 != 0:\n",
    "        a+=int(s)\n",
    "print(a)\n",
    "    \n",
    "    \n",
    "    "
   ]
  },
  {
   "cell_type": "markdown",
   "metadata": {},
   "source": [
    "print(dir([]))"
   ]
  },
  {
   "cell_type": "code",
   "execution_count": 12,
   "metadata": {},
   "outputs": [
    {
     "name": "stdout",
     "output_type": "stream",
     "text": [
      "Enter a Number :\t12\n",
      "Enter a Number :\t13\n",
      "Enter a Number :\t14\n",
      "Enter a Number :\t15\n",
      "Enter a Number :\t16\n",
      "Enter a Number :\t17\n",
      "Enter a Number :\t18\n",
      "Enter a Number :\t\n",
      "Enter to find a number :\t15\n",
      "3\n"
     ]
    }
   ],
   "source": [
    "#4. Index of value in tuple\n",
    "l=[]\n",
    "while True:\n",
    "    s=input('Enter a Number :\\t')\n",
    "    if s == '':\n",
    "        break\n",
    "    l.append(int(s))\n",
    "t=tuple(l)\n",
    "n=int(input('Enter to find a number :\\t'))\n",
    "print(t.index(n))"
   ]
  },
  {
   "cell_type": "code",
   "execution_count": 23,
   "metadata": {},
   "outputs": [
    {
     "name": "stdout",
     "output_type": "stream",
     "text": [
      "[52, 24, 89, 27, 78, 5, 93, 17, 38, 64]\n",
      "52\t89\t78\t93\t38\t\n",
      "Sum of 10 randoms : 487\n",
      "Average of 10 randoms : 48.7\n"
     ]
    }
   ],
   "source": [
    "#5. Create 10 random number, sum of even index\n",
    "import random\n",
    "\n",
    "r= (random.sample(range(1,101),10))\n",
    "print(r)\n",
    "a=0\n",
    "for n in range(0,10):\n",
    "    a+=r[n]\n",
    "    if n%2 == 0:\n",
    "        print(r[n],end= '\\t')\n",
    "print()\n",
    "print('Sum of 10 randoms :',a)\n",
    "print('Average of 10 randoms :',a/10)\n",
    "\n"
   ]
  },
  {
   "cell_type": "code",
   "execution_count": 16,
   "metadata": {},
   "outputs": [
    {
     "name": "stdout",
     "output_type": "stream",
     "text": [
      "['BPF', 'LOG4', 'NV_MAGICCONST', 'RECIP_BPF', 'Random', 'SG_MAGICCONST', 'SystemRandom', 'TWOPI', '_Sequence', '_Set', '__all__', '__builtins__', '__cached__', '__doc__', '__file__', '__loader__', '__name__', '__package__', '__spec__', '_accumulate', '_acos', '_bisect', '_ceil', '_cos', '_e', '_exp', '_inst', '_log', '_os', '_pi', '_random', '_repeat', '_sha512', '_sin', '_sqrt', '_test', '_test_generator', '_urandom', '_warn', 'betavariate', 'choice', 'choices', 'expovariate', 'gammavariate', 'gauss', 'getrandbits', 'getstate', 'lognormvariate', 'normalvariate', 'paretovariate', 'randint', 'random', 'randrange', 'sample', 'seed', 'setstate', 'shuffle', 'triangular', 'uniform', 'vonmisesvariate', 'weibullvariate']\n",
      "Help on method sample in module random:\n",
      "\n",
      "sample(population, k) method of random.Random instance\n",
      "    Chooses k unique random elements from a population sequence or set.\n",
      "    \n",
      "    Returns a new list containing elements from the population while\n",
      "    leaving the original population unchanged.  The resulting list is\n",
      "    in selection order so that all sub-slices will also be valid random\n",
      "    samples.  This allows raffle winners (the sample) to be partitioned\n",
      "    into grand prize and second place winners (the subslices).\n",
      "    \n",
      "    Members of the population need not be hashable or unique.  If the\n",
      "    population contains repeats, then each occurrence is a possible\n",
      "    selection in the sample.\n",
      "    \n",
      "    To choose a sample in a range of integers, use range as an argument.\n",
      "    This is especially fast and space efficient for sampling from a\n",
      "    large population:   sample(range(10000000), 60)\n",
      "\n"
     ]
    }
   ],
   "source": [
    "print(dir(random))\n",
    "help(random.sample)"
   ]
  },
  {
   "cell_type": "code",
   "execution_count": null,
   "metadata": {},
   "outputs": [],
   "source": []
  }
 ],
 "metadata": {
  "kernelspec": {
   "display_name": "Python 3",
   "language": "python",
   "name": "python3"
  },
  "language_info": {
   "codemirror_mode": {
    "name": "ipython",
    "version": 3
   },
   "file_extension": ".py",
   "mimetype": "text/x-python",
   "name": "python",
   "nbconvert_exporter": "python",
   "pygments_lexer": "ipython3",
   "version": "3.8.3"
  }
 },
 "nbformat": 4,
 "nbformat_minor": 4
}
