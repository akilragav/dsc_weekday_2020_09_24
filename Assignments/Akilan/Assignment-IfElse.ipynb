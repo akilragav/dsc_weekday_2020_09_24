{
 "cells": [
  {
   "cell_type": "code",
   "execution_count": 8,
   "metadata": {},
   "outputs": [
    {
     "name": "stdout",
     "output_type": "stream",
     "text": [
      "Enter First Number :\t3\n",
      "Enter Second number :\t2\n",
      "False\n"
     ]
    }
   ],
   "source": [
    "#1. Input two number, check if first is divisible by second\n",
    "n1=int(input('Enter First Number :\\t'))\n",
    "n2=int(input('Enter Second number :\\t'))\n",
    "print(False if n1%n2  else True )"
   ]
  },
  {
   "cell_type": "code",
   "execution_count": 18,
   "metadata": {},
   "outputs": [
    {
     "name": "stdout",
     "output_type": "stream",
     "text": [
      "Enter a String :\tAkilan\n",
      "Not Palindrome\n"
     ]
    }
   ],
   "source": [
    "#2. CHeck String is Palindrome\n",
    "s=input('Enter a String :\\t')\n",
    "t=s[::-1]\n",
    "if s.upper()== t.upper():\n",
    "    print('Palindrome')\n",
    "else:\n",
    "    print('Not Palindrome')    "
   ]
  },
  {
   "cell_type": "code",
   "execution_count": 26,
   "metadata": {},
   "outputs": [
    {
     "name": "stdout",
     "output_type": "stream",
     "text": [
      "Enter Side1 :\t3\n",
      "Enter Side2 :\t3\n",
      "Enter Side3 :\t3\n",
      "Equilateral Triangle\n"
     ]
    }
   ],
   "source": [
    "#3. Sides of Triangle\n",
    "x=int(input('Enter Side1 :\\t'))\n",
    "y=int(input('Enter Side2 :\\t'))\n",
    "z=int(input('Enter Side3 :\\t'))\n",
    "if x==y==z:\n",
    "    print('Equilateral Triangle')\n",
    "elif not(x==y==z) and (x==y or y==z or z==x):\n",
    "    print('Iscoceles Triangle')\n",
    "else:\n",
    "    print('Scalene Triangle')"
   ]
  },
  {
   "cell_type": "code",
   "execution_count": 3,
   "metadata": {},
   "outputs": [
    {
     "name": "stdout",
     "output_type": "stream",
     "text": [
      "Enter a number :\t0\n",
      "Even\n"
     ]
    }
   ],
   "source": [
    "#4. Even or Odd\n",
    "n=int(input('Enter a number :\\t'))\n",
    "print('Odd' if n%2 else 'Even')"
   ]
  },
  {
   "cell_type": "code",
   "execution_count": 17,
   "metadata": {},
   "outputs": [
    {
     "name": "stdout",
     "output_type": "stream",
     "text": [
      "Enter the Age :\t13\n",
      "Teen\n"
     ]
    }
   ],
   "source": [
    "#5. Range of Age\n",
    "def Age():\n",
    "    if n in range(0,13):\n",
    "        return 'Child'\n",
    "    elif n in range(13,18):\n",
    "        return 'Teen'\n",
    "    elif n in range(18,51):\n",
    "        return 'Adult'\n",
    "    elif n in range(51,101):\n",
    "        return 'Senior Citizen'\n",
    "    else:\n",
    "        return 'Contratulations'\n",
    "\n",
    "n=int(input('Enter the Age :\\t'))\n",
    "print(Age())\n"
   ]
  },
  {
   "cell_type": "code",
   "execution_count": 26,
   "metadata": {},
   "outputs": [
    {
     "name": "stdout",
     "output_type": "stream",
     "text": [
      "Enter year in four digit:\t1900\n",
      "1900 is not a leap year\n"
     ]
    }
   ],
   "source": [
    "#6. Leap Year\n",
    "year=input('Enter year in four digit:\\t')\n",
    "if int(year) <=0:\n",
    "    print('Enter year in Positive')\n",
    "elif len(year) !=4:\n",
    "    print('Enter year in four digits')\n",
    "elif int(year)%400 ==0:\n",
    "    print(year, 'is a leap year')\n",
    "elif int(year)%100 ==0:\n",
    "    print(year, 'is not a leap year')\n",
    "elif int(year)%4 ==0:\n",
    "    print(year,'is a leap year')\n",
    "else:\n",
    "    print(year,'is not a leap year')\n"
   ]
  },
  {
   "cell_type": "code",
   "execution_count": 28,
   "metadata": {},
   "outputs": [
    {
     "name": "stdout",
     "output_type": "stream",
     "text": [
      "Enter a String :\tAkilan\n",
      "akilan\n"
     ]
    }
   ],
   "source": [
    "#7. String uppercase and lower case\n",
    "s=input('Enter a String :\\t')\n",
    "print(s.upper() if len(s)%2 else s.lower())"
   ]
  },
  {
   "cell_type": "code",
   "execution_count": 38,
   "metadata": {},
   "outputs": [
    {
     "name": "stdout",
     "output_type": "stream",
     "text": [
      "Enter a Food Item :\tChiken Biryani\n",
      "Chiken Biryani is a Veg Item\n"
     ]
    }
   ],
   "source": [
    "#8. Veg and Non-Veg\n",
    "s=input('Enter a Food Item :\\t')\n",
    "t=s.upper()\n",
    "if t.find('EGG') == -1:\n",
    "    print(s,'is a Veg Item')\n",
    "else:\n",
    "    print(s, 'is a Non-Veg Item')"
   ]
  },
  {
   "cell_type": "code",
   "execution_count": 41,
   "metadata": {},
   "outputs": [
    {
     "name": "stdout",
     "output_type": "stream",
     "text": [
      "True\n",
      "True\n",
      "Weird!!\n",
      "[4, 3, 2, 1]\n"
     ]
    }
   ],
   "source": [
    "#9. give Output of\n",
    "if not 1:\n",
    "    print(\"False\")\n",
    "else:\n",
    "    print(\"True\")  #True\n",
    "\n",
    "if 1:\n",
    "    print(\"True\")\n",
    "else:\n",
    "    print(\"False\") #True\n",
    "\n",
    "if 'a' > 'A':\n",
    "    print('Weird!!')\n",
    "else:\n",
    "    print('Make Sense') # Weird!!\n",
    "    \n",
    "a=[1,2,3,4]\n",
    "if 1>1:\n",
    "    a=a[::-1]\n",
    "else:\n",
    "    a=a[-1::-1]\n",
    "print(a) # [4,3,2,1]"
   ]
  },
  {
   "cell_type": "code",
   "execution_count": 44,
   "metadata": {},
   "outputs": [
    {
     "name": "stdout",
     "output_type": "stream",
     "text": [
      "Subject S1 :\t92\n",
      "Subject S2 :\t98\n",
      "Subject S3 :\t97\n",
      "Subject S4 :\t94\n",
      "Subject S5 :\t60\n",
      "Grade : B\n"
     ]
    }
   ],
   "source": [
    "#10. Avg of 5 Subjects\n",
    "def get_grade():\n",
    "    if pct >=90 and pct <=100:\n",
    "        return 'A'\n",
    "    elif pct >= 80 and pct <=89:\n",
    "        return 'B'\n",
    "    elif pct >=60 and pct <=79:\n",
    "        return 'C'\n",
    "    else:\n",
    "        return 'F'\n",
    "\n",
    "s1=int(input('Subject S1 :\\t'))\n",
    "s2=int(input('Subject S2 :\\t'))\n",
    "s3=int(input('Subject S3 :\\t'))\n",
    "s4=int(input('Subject S4 :\\t'))\n",
    "s5=int(input('Subject S5 :\\t'))\n",
    "pct=(s1+s2+s3+s4+s5)//5\n",
    "print('Grade :',get_grade())"
   ]
  },
  {
   "cell_type": "code",
   "execution_count": 46,
   "metadata": {},
   "outputs": [
    {
     "name": "stdout",
     "output_type": "stream",
     "text": [
      "Enter your yearly salary :\t250002\n",
      "Enter your Age :\t60\n",
      "Tax Amount : 7500.06\n"
     ]
    }
   ],
   "source": [
    "#11. calculate Tax\n",
    "def sr(sal,age):\n",
    "    if sal >=0 and sal <=250000:\n",
    "        if age < 60:\n",
    "            tax=sal * 0 /100\n",
    "        else:\n",
    "            tax=sal * 0 /100\n",
    "    elif sal > 250000 and sal <= 500000:\n",
    "        if age < 60:\n",
    "            tax=sal * 5 /100\n",
    "        else:\n",
    "            tax=sal * 3 /100\n",
    "    elif sal > 500000 and sal <=1000000:\n",
    "        if age < 60:\n",
    "            tax = sal * 10 /100\n",
    "        else:\n",
    "            tax = sal * 8 /100\n",
    "    else:\n",
    "        if age < 60:\n",
    "            tax = sal * 15/100\n",
    "        else:\n",
    "            tax = sal * 12 /100\n",
    "    return tax\n",
    "\n",
    "salary=int(input('Enter your yearly salary :\\t'))\n",
    "age=int(input('Enter your Age :\\t'))\n",
    "print('Tax Amount :',sr(salary,age))\n",
    "    "
   ]
  },
  {
   "cell_type": "code",
   "execution_count": 57,
   "metadata": {},
   "outputs": [
    {
     "name": "stdout",
     "output_type": "stream",
     "text": [
      "Enter Weight in Kgs :\t85\n",
      "Enter Height in cm :\t171\n",
      "1.71\n",
      "BMI : 29.06877329776684\n"
     ]
    }
   ],
   "source": [
    "#13. BMI calculator\n",
    "def cal_BMI():\n",
    "    BMI = we / (hg * hg)\n",
    "    return BMI\n",
    "we= int(input('Enter Weight in Kgs :\\t'))\n",
    "hg= int(input('Enter Height in cm :\\t'))/100\n",
    "print('BMI :',cal_BMI())"
   ]
  },
  {
   "cell_type": "code",
   "execution_count": 74,
   "metadata": {},
   "outputs": [
    {
     "name": "stdout",
     "output_type": "stream",
     "text": [
      "Enter Age of Sam : \t34\n",
      "Enter Age of Ram : \t5\n",
      "Enter Age of Pam : \t34\n",
      "34 5\n",
      "Both Pam and Sam are twins Oldest\n",
      "Ram Youngest\n"
     ]
    }
   ],
   "source": [
    "#14. Age of 3 People:\n",
    "def oldest(sam,ram,pam):\n",
    "    x=max(sam,ram,pam)\n",
    "    return x\n",
    "        \n",
    "\n",
    "def youngest(sam,ram,pam):\n",
    "    x=min(sam,ram,pam)\n",
    "    return x\n",
    "\n",
    "sam=int(input('Enter Age of Sam : \\t'))\n",
    "ram=int(input('Enter Age of Ram : \\t'))\n",
    "pam=int(input('Enter Age of Pam : \\t'))\n",
    "old=oldest(sam,ram,pam)\n",
    "young=youngest(sam,ram,pam)\n",
    "print(old,young)\n",
    "if ram==sam==pam:\n",
    "    print('All are triplets',ram)\n",
    "elif ram==sam:\n",
    "    print('Both Ram and Sam are twins','Oldest' if old==ram else 'Youngest')\n",
    "    print('Pam','Oldest' if old==pam else 'Youngest')\n",
    "elif pam==sam:\n",
    "    print('Both Pam and Sam are twins','Oldest' if old==sam else 'Youngest')\n",
    "    print('Ram','Oldest' if old==ram else 'Youngest')\n",
    "elif ram==pam:\n",
    "    print('Both Ram and Pam are twins','Oldest' if old==pam else 'Youngest')\n",
    "    print('Sam','Oldest' if old==sam else 'Youngest')\n",
    "else:\n",
    "    print('Ram is Oldest' if old==ram else ('Sam is Oldest' if old==sam else 'Pam is Oldest'))\n",
    "    print('Ram is Youngest' if young==ram else ('Sam is Youngest' if young==sam else 'Pam is Youngest'))\n"
   ]
  },
  {
   "cell_type": "code",
   "execution_count": 78,
   "metadata": {},
   "outputs": [
    {
     "name": "stdout",
     "output_type": "stream",
     "text": [
      "Enter a Number :\t22\n",
      "22 is not divisible by either 5 or 7\n"
     ]
    }
   ],
   "source": [
    "#15. Divisibe by 5 and 7\n",
    "n=int(input('Enter a Number :\\t'))\n",
    "if n%5 == 0 and n%7 == 0:\n",
    "    print(n,'is divisible by 5 and 7')\n",
    "elif n%5 == 0:\n",
    "    print(n,'is divisible only by 5')\n",
    "elif n%7 == 0:\n",
    "    print(n,'is divisible only by 7')\n",
    "else:\n",
    "    print(n,'is not divisible by either 5 or 7')\n",
    "    \n",
    "    "
   ]
  },
  {
   "cell_type": "code",
   "execution_count": 80,
   "metadata": {},
   "outputs": [
    {
     "name": "stdout",
     "output_type": "stream",
     "text": [
      "Enter a Base Value :\t5\n",
      "Enter an Exponent Value :\t3\n",
      "Answer 125\n"
     ]
    }
   ],
   "source": [
    "#9. Base and exponent\n",
    "\n",
    "b=int(input('Enter a Base Value :\\t'))\n",
    "e=int(input('Enter an Exponent Value :\\t'))\n",
    "s=1\n",
    "for n in range(1,e+1):\n",
    "   s*=b\n",
    "print('Answer',s)"
   ]
  },
  {
   "cell_type": "code",
   "execution_count": 89,
   "metadata": {},
   "outputs": [
    {
     "name": "stdout",
     "output_type": "stream",
     "text": [
      "*\n",
      "**\n",
      "***\n",
      "****\n",
      "*****\n",
      "         \n",
      "*****\n",
      "****\n",
      "***\n",
      "**\n",
      "*\n",
      "         \n",
      "    *\n",
      "   **\n",
      "  ***\n",
      " ****\n",
      "*****\n",
      "         \n",
      "   *   \n",
      "  ***  \n",
      " ***** \n",
      "*******\n"
     ]
    }
   ],
   "source": [
    "#10. print following pattern\n",
    "for n in range(1,6):\n",
    "    print('*'*n)\n",
    "print('         ')\n",
    "for n in range(5,0,-1):\n",
    "    print('*'*n)\n",
    "print('         ')\n",
    "for n in range(1,6):\n",
    "    a=5-n\n",
    "    print(' '*a,'*'*n,sep='')\n",
    "print('         ')\n",
    "for n in range(1,8,2):\n",
    "    a=(7-n)//2\n",
    "    print(' '*a,'*'*n,' '*a,sep='')"
   ]
  },
  {
   "cell_type": "code",
   "execution_count": 94,
   "metadata": {},
   "outputs": [
    {
     "name": "stdout",
     "output_type": "stream",
     "text": [
      "1\n",
      "22\n",
      "333\n",
      "4444\n",
      "55555\n",
      "       \n",
      "1\n",
      "12\n",
      "123\n",
      "1234\n",
      "12345\n",
      "       \n",
      "5\n",
      "44\n",
      "333\n",
      "2222\n",
      "11111\n",
      "        \n",
      "    1\n",
      "   22\n",
      "  333\n",
      " 4444\n",
      "55555\n"
     ]
    }
   ],
   "source": [
    "#11. Print number patterns:\n",
    "\n",
    "for n in range(1,6):\n",
    "    print(str(n)*n,sep='')\n",
    "print('       ')\n",
    "for n in range(1,6):\n",
    "    print(*range(1,n+1),sep='')\n",
    "print('       ')\n",
    "for n in range(5,0,-1):\n",
    "    a=5-n+1\n",
    "    print(str(n)*a,sep='')\n",
    "print('        ')\n",
    "for n in range(1,6):\n",
    "    print(' '*(5-n),str(n)*n,sep='')"
   ]
  },
  {
   "cell_type": "code",
   "execution_count": 115,
   "metadata": {},
   "outputs": [
    {
     "name": "stdout",
     "output_type": "stream",
     "text": [
      "\n",
      "A\n",
      "AB\n",
      "ABC\n",
      "ABCD\n",
      "ABCDE\n",
      "      \n",
      "\n",
      "A\n",
      "BC\n",
      "DEF\n",
      "GHIJ\n",
      "KLMNO\n",
      "        \n",
      "A\n",
      "BB\n",
      "CCC\n",
      "DDDD\n",
      "EEEEE\n",
      "        \n",
      "    A\n",
      "   ABA\n",
      "  ABCBA\n",
      " ABCDCBA\n",
      "ABCDEDCBA\n"
     ]
    }
   ],
   "source": [
    "#12. print a following character patterns:\n",
    "\n",
    "for a in range(0,6):\n",
    "    o=ord('A')\n",
    "    for b in range(0,a):\n",
    "        print(chr(o+b),sep='',end='')\n",
    "    print()\n",
    "print('      ')  \n",
    "\n",
    "o=ord('A')\n",
    "for a in range(0,6):\n",
    "    for b in range(0,a):\n",
    "        print(chr(o),sep='',end='')\n",
    "        o=o+1\n",
    "    print()\n",
    "\n",
    "print('        ')\n",
    "\n",
    "for a in range(0,5):\n",
    "    s=ord('A')+a\n",
    "    print(chr(s)*(a+1))\n",
    "print('        ')\n",
    "\n",
    "for n in range(1,6):\n",
    "    a=ord('A')\n",
    "    s=5-n\n",
    "    print(' '*s,end='')\n",
    "    for m in range(0,n):\n",
    "        print(chr(a+m),sep='',end='')\n",
    "    for p in range(n,1,-1):\n",
    "        print(chr(a+p-2),sep='',end='')\n",
    "    print()"
   ]
  },
  {
   "cell_type": "code",
   "execution_count": null,
   "metadata": {},
   "outputs": [],
   "source": []
  }
 ],
 "metadata": {
  "kernelspec": {
   "display_name": "Python 3",
   "language": "python",
   "name": "python3"
  },
  "language_info": {
   "codemirror_mode": {
    "name": "ipython",
    "version": 3
   },
   "file_extension": ".py",
   "mimetype": "text/x-python",
   "name": "python",
   "nbconvert_exporter": "python",
   "pygments_lexer": "ipython3",
   "version": "3.8.3"
  }
 },
 "nbformat": 4,
 "nbformat_minor": 4
}
