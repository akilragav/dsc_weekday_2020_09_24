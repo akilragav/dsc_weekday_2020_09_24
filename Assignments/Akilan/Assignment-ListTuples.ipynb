{
 "cells": [
  {
   "cell_type": "code",
   "execution_count": 1,
   "metadata": {},
   "outputs": [
    {
     "name": "stdout",
     "output_type": "stream",
     "text": [
      "[1, 2, 3, 4, 5]\n"
     ]
    }
   ],
   "source": [
    "#1. Convert Tuples to List\n",
    "t=(1,2,3,4,5)\n",
    "print(list(t))"
   ]
  },
  {
   "cell_type": "code",
   "execution_count": 13,
   "metadata": {},
   "outputs": [
    {
     "name": "stdout",
     "output_type": "stream",
     "text": [
      "[1, 3, 5, 7, (8, 6, 4, 2)] [1, 3, 5, 7, 8, 6, 4, 2]\n"
     ]
    }
   ],
   "source": [
    "#2. WAp to join List and Tuple\n",
    "l=[1,3,5,7]\n",
    "l1=l.copy()\n",
    "t=(8,6,4,2)\n",
    "l.append(t) ##add tuple to list\n",
    "l1.extend(t) ## add tuple value as seperate item in list\n",
    "la=l\n",
    "le=l1\n",
    "print(la,le)"
   ]
  },
  {
   "cell_type": "code",
   "execution_count": 5,
   "metadata": {},
   "outputs": [
    {
     "name": "stdout",
     "output_type": "stream",
     "text": [
      "['__add__', '__class__', '__contains__', '__delattr__', '__delitem__', '__dir__', '__doc__', '__eq__', '__format__', '__ge__', '__getattribute__', '__getitem__', '__gt__', '__hash__', '__iadd__', '__imul__', '__init__', '__init_subclass__', '__iter__', '__le__', '__len__', '__lt__', '__mul__', '__ne__', '__new__', '__reduce__', '__reduce_ex__', '__repr__', '__reversed__', '__rmul__', '__setattr__', '__setitem__', '__sizeof__', '__str__', '__subclasshook__', 'append', 'clear', 'copy', 'count', 'extend', 'index', 'insert', 'pop', 'remove', 'reverse', 'sort']\n"
     ]
    }
   ],
   "source": [
    "print(dir(list))"
   ]
  },
  {
   "cell_type": "code",
   "execution_count": 15,
   "metadata": {},
   "outputs": [],
   "source": [
    "#3.difference between list and type\n",
    "\n",
    "#a. list uses [], tuple uses ()\n",
    "#b. list are mutable but tuples are immutable\n",
    "\n"
   ]
  },
  {
   "cell_type": "code",
   "execution_count": 23,
   "metadata": {},
   "outputs": [
    {
     "name": "stdout",
     "output_type": "stream",
     "text": [
      "['d', 'c', 'a', 'C', 'A']\n"
     ]
    }
   ],
   "source": [
    "#4. Reverse the list\n",
    "l=['a','d','c','A','C']\n",
    "l.sort(reverse=True)\n",
    "print(l)"
   ]
  },
  {
   "cell_type": "code",
   "execution_count": 25,
   "metadata": {},
   "outputs": [
    {
     "name": "stdout",
     "output_type": "stream",
     "text": [
      "[11, 21, 31, 41]\n"
     ]
    }
   ],
   "source": [
    "#5. print elements at Odd index\n",
    "l=[10,11,20,21,30,31,40,41]\n",
    "s=l[1:len(l):2]\n",
    "print(s)"
   ]
  },
  {
   "cell_type": "code",
   "execution_count": 26,
   "metadata": {},
   "outputs": [],
   "source": [
    "#6 Deep Copy aand Shallow Copy\n"
   ]
  },
  {
   "cell_type": "code",
   "execution_count": 27,
   "metadata": {},
   "outputs": [
    {
     "name": "stdout",
     "output_type": "stream",
     "text": [
      "a\n",
      "5\n"
     ]
    }
   ],
   "source": [
    "#7 Predict Output\n",
    "n_list = [\"Happy\",[2,0,1,5]]\n",
    "print(n_list[0][1])\n",
    "print(n_list[1][3])\n",
    "#predicted output\n",
    "#a\n",
    "#5"
   ]
  },
  {
   "cell_type": "code",
   "execution_count": 28,
   "metadata": {},
   "outputs": [
    {
     "name": "stdout",
     "output_type": "stream",
     "text": [
      "[1, 4, 6, 8]\n",
      "[1, 3, 5, 7]\n"
     ]
    }
   ],
   "source": [
    "#8 Predict Output\n",
    "odd=[2,4,6,8]\n",
    "odd[0]=1\n",
    "print(odd)\n",
    "odd[1:4]=[3,5,7]\n",
    "print(odd)\n",
    "#predicted output\n",
    "#[1,4,6,8]\n",
    "#[1,3,5,7]"
   ]
  },
  {
   "cell_type": "code",
   "execution_count": 29,
   "metadata": {},
   "outputs": [
    {
     "name": "stdout",
     "output_type": "stream",
     "text": [
      "[1, 3, 5, [7, 9]]\n",
      "[1, 3, 5, [7, 9], 11, 13]\n"
     ]
    }
   ],
   "source": [
    "#9 Predict Output\n",
    "odd=[1,3,5]\n",
    "odd.append([7,9])\n",
    "print(odd)\n",
    "odd.extend([11,13])\n",
    "print(odd)\n",
    "#preditced output\n",
    "#[1,3,5,[7,9]]\n",
    "#[1,3,5,[7,9],11,13]"
   ]
  },
  {
   "cell_type": "code",
   "execution_count": 30,
   "metadata": {},
   "outputs": [
    {
     "name": "stdout",
     "output_type": "stream",
     "text": [
      "<class 'tuple'>\n",
      "<class 'int'>\n",
      "<class 'int'>\n",
      "<class 'tuple'>\n"
     ]
    }
   ],
   "source": [
    "x=1,2,3\n",
    "print(type(x))\n",
    "x=(1)\n",
    "print(type(x))\n",
    "x=1\n",
    "print(type(x))\n",
    "x=1,\n",
    "print(type(x))\n",
    "#predicted output\n",
    "#tuple\n",
    "#int\n",
    "#int\n",
    "#tuple"
   ]
  },
  {
   "cell_type": "code",
   "execution_count": 35,
   "metadata": {},
   "outputs": [
    {
     "name": "stdout",
     "output_type": "stream",
     "text": [
      "[[1 2 3]\n",
      " [4 5 6]\n",
      " [7 8 9]]\n"
     ]
    }
   ],
   "source": [
    "#11 \n",
    "from numpy import matrix\n",
    "a=matrix([[1,2,3], [4,5,6], [7,8,9]])\n",
    "print(a)"
   ]
  },
  {
   "cell_type": "code",
   "execution_count": 36,
   "metadata": {},
   "outputs": [
    {
     "name": "stdout",
     "output_type": "stream",
     "text": [
      "('S', 't', 'r', 'i', 'n', 'g')\n",
      "('g', 'n', 'i', 'r', 't', 'S')\n",
      "('n', 'S')\n"
     ]
    }
   ],
   "source": [
    "#12 predict output\n",
    "t=tuple('String')\n",
    "print(t)\n",
    "print(t[::-1])\n",
    "print(t[::2][::-2])\n",
    "#predicted output\n",
    "#('S','t','r','i','n','g')\n",
    "#('g','n','i','r','t','S')\n",
    "#('n','S')"
   ]
  },
  {
   "cell_type": "code",
   "execution_count": 37,
   "metadata": {},
   "outputs": [
    {
     "name": "stdout",
     "output_type": "stream",
     "text": [
      "True\n",
      "False\n",
      "1\n",
      "3\n"
     ]
    }
   ],
   "source": [
    "#13 predict output\n",
    "t=tuple([10,20,30,40,50,60])\n",
    "print(60 in t)\n",
    "print('60' in t)\n",
    "print(t.count(10))\n",
    "print(t.index(40))\n",
    "#predicted output\n",
    "#True\n",
    "#False\n",
    "#1\n",
    "#3"
   ]
  },
  {
   "cell_type": "code",
   "execution_count": 3,
   "metadata": {},
   "outputs": [
    {
     "name": "stdout",
     "output_type": "stream",
     "text": [
      "Enter a String :\tMalayalam\n",
      "String Palindrome\n"
     ]
    }
   ],
   "source": [
    "#14 Palindrome\n",
    "s=list(input('Enter a String :\\t'))\n",
    "d=s.copy()\n",
    "s.reverse()\n",
    "if str(d).upper()==str(s).upper():\n",
    "    print('String Palindrome')\n",
    "else:\n",
    "    print('Not a Palindrome')"
   ]
  },
  {
   "cell_type": "code",
   "execution_count": 19,
   "metadata": {},
   "outputs": [
    {
     "name": "stdout",
     "output_type": "stream",
     "text": [
      "(20, 15, 10, 5)\n"
     ]
    }
   ],
   "source": [
    "#15\n",
    "s=[]\n",
    "for a in range(1,5):\n",
    "    a=a*5\n",
    "    s.append((a))\n",
    "    s.sort(reverse=True)\n",
    "print(tuple(s))\n"
   ]
  },
  {
   "cell_type": "code",
   "execution_count": 20,
   "metadata": {},
   "outputs": [
    {
     "name": "stdout",
     "output_type": "stream",
     "text": [
      "Enter a String :\tAll is Well\n",
      "['A', 'l', 'l', ' ', 'i', 's', ' ', 'W', 'e', 'l', 'l']\n"
     ]
    }
   ],
   "source": [
    "#16\n",
    "s=input('Enter a String :\\t')\n",
    "print(list(s))"
   ]
  },
  {
   "cell_type": "code",
   "execution_count": 22,
   "metadata": {},
   "outputs": [
    {
     "name": "stdout",
     "output_type": "stream",
     "text": [
      "['1', '2']\n",
      "None\n",
      "ABC\n",
      "True\n"
     ]
    }
   ],
   "source": [
    "#17\n",
    "print('1 2'.split())\n",
    "print([1,3,2].sort())\n",
    "print('abc'.upper())\n",
    "print(1 in [1,2])\n",
    "#predicted output\n",
    "#List\n",
    "#None\n",
    "#Str\n",
    "#Boolean"
   ]
  },
  {
   "cell_type": "code",
   "execution_count": null,
   "metadata": {},
   "outputs": [],
   "source": []
  }
 ],
 "metadata": {
  "kernelspec": {
   "display_name": "Python 3",
   "language": "python",
   "name": "python3"
  },
  "language_info": {
   "codemirror_mode": {
    "name": "ipython",
    "version": 3
   },
   "file_extension": ".py",
   "mimetype": "text/x-python",
   "name": "python",
   "nbconvert_exporter": "python",
   "pygments_lexer": "ipython3",
   "version": "3.8.3"
  }
 },
 "nbformat": 4,
 "nbformat_minor": 4
}
