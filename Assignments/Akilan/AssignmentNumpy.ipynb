{
 "cells": [
  {
   "cell_type": "markdown",
   "metadata": {},
   "source": [
    "## NUMPY\n",
    "- create a numpy array of 5 zeros.\n",
    "    - check datatype, itemsize and shape of above\n",
    "- create a numpy array of ones of shape (5,4)\n",
    "- create a matrix of shape 4,5 with numbers from 1-20\n",
    "- multiply all elements of above array by 10\n",
    "- print odd elements from array\n",
    "- replace all even elements by their negative\n",
    "  \n",
    "  \n",
    "  \n",
    "- create a linearly spaced matrix M1 of size 4x4 having values in range 1-16\n",
    "- create a transpose of above matrix call it M2\n",
    "- find sum of above matrix M3 = (M1 + M2)\n",
    "- Find Transpose of M3, Call it MT1. Check if M3 == MT1\n",
    "- find diffrence of M4 = (M1 - M2)\n",
    "- Find Transpose of M4, Call it MT2. Check if M4 == MT2. Also check if M4 == -MT2\n",
    "  \n",
    "\n",
    "- create a matrix (3x4) R1 of random numbers between 10-40\n",
    "- find min and max column wise\n",
    "- replace the last column with sum of all the columns\n",
    "\n",
    "\n",
    "- create a matrix (3x4) R1 of random numbers between 10-40\n",
    "- replace all even elements with nan in R1\n",
    "- count number of nan in R1\n",
    "\n",
    "\n",
    "\n",
    "- check output of this code  \n",
    "`a1 = np.arange(1,10).reshape(3,3)\n",
    "a2 = np.arange(11,20).reshape(3,3)\n",
    "a3 = np.append(a1,a2)\n",
    "print(a3)\n",
    "a3 = np.append(a1,a2, axis = 0)\n",
    "print(a3)\n",
    "a3 = np.append(a1,a2, axis = 1)\n",
    "print(a3)\n",
    "`\n"
   ]
  },
  {
   "cell_type": "code",
   "execution_count": 1,
   "metadata": {},
   "outputs": [],
   "source": [
    "import numpy as np"
   ]
  },
  {
   "cell_type": "code",
   "execution_count": 2,
   "metadata": {},
   "outputs": [
    {
     "name": "stdout",
     "output_type": "stream",
     "text": [
      "[0. 0. 0. 0. 0.] <class 'numpy.ndarray'> float64 8 (5,)\n"
     ]
    }
   ],
   "source": [
    "#1. create a numpy array of 5 zero\n",
    "a=np.zeros(5)\n",
    "print(a,type(a),a.dtype,a.itemsize,a.shape)"
   ]
  },
  {
   "cell_type": "code",
   "execution_count": 5,
   "metadata": {},
   "outputs": [
    {
     "name": "stdout",
     "output_type": "stream",
     "text": [
      "[[1. 1. 1. 1.]\n",
      " [1. 1. 1. 1.]\n",
      " [1. 1. 1. 1.]\n",
      " [1. 1. 1. 1.]\n",
      " [1. 1. 1. 1.]]\n"
     ]
    }
   ],
   "source": [
    "#2. create a numpy array of ones of shape (5,4)\n",
    "a1=np.ones((5,4))\n",
    "print(a1)"
   ]
  },
  {
   "cell_type": "code",
   "execution_count": 15,
   "metadata": {},
   "outputs": [
    {
     "name": "stdout",
     "output_type": "stream",
     "text": [
      "[[ 1  2  3  4  5]\n",
      " [ 6  7  8  9 10]\n",
      " [11 12 13 14 15]\n",
      " [16 17 18 19 20]]\n"
     ]
    }
   ],
   "source": [
    "#3. create a matrix of shape 4,5 with numbers from 1-20\n",
    "a2=np.arange(1,21).reshape(4,5)\n",
    "print(a2)"
   ]
  },
  {
   "cell_type": "code",
   "execution_count": 16,
   "metadata": {},
   "outputs": [
    {
     "name": "stdout",
     "output_type": "stream",
     "text": [
      "[[ 10  20  30  40  50]\n",
      " [ 60  70  80  90 100]\n",
      " [110 120 130 140 150]\n",
      " [160 170 180 190 200]]\n"
     ]
    }
   ],
   "source": [
    "#4.multiply all elements of above array by 10\n",
    "a3=a2*10\n",
    "print(a3)"
   ]
  },
  {
   "cell_type": "code",
   "execution_count": 21,
   "metadata": {},
   "outputs": [
    {
     "name": "stdout",
     "output_type": "stream",
     "text": [
      "[[ 5  9  4  4]\n",
      " [ 5  4  5  1]\n",
      " [ 5  1  5  6]\n",
      " [ 1  5  4 10]]\n",
      "[5 9 5 5 1 5 1 5 1 5]\n"
     ]
    }
   ],
   "source": [
    "#5. print odd elements from array\n",
    "a=np.random.randint(1,11,size=(4,4))\n",
    "print(a)\n",
    "idx= a%2 !=0\n",
    "print(a[idx])"
   ]
  },
  {
   "cell_type": "code",
   "execution_count": 22,
   "metadata": {},
   "outputs": [
    {
     "name": "stdout",
     "output_type": "stream",
     "text": [
      "[[ 5  9  4  4]\n",
      " [ 5  4  5  1]\n",
      " [ 5  1  5  6]\n",
      " [ 1  5  4 10]]\n",
      "\n",
      "[ -4  -4  -4  -6  -4 -10]\n"
     ]
    }
   ],
   "source": [
    "#6. replace all even elements by their negative\n",
    "print(a)\n",
    "print()\n",
    "print(a[~idx]*-1)"
   ]
  },
  {
   "cell_type": "code",
   "execution_count": 34,
   "metadata": {},
   "outputs": [
    {
     "name": "stdout",
     "output_type": "stream",
     "text": [
      "[[ 1  2  3  4]\n",
      " [ 5  6  7  8]\n",
      " [ 9 10 11 12]\n",
      " [13 14 15 16]]\n",
      "\n",
      "[[ 1  5  9 13]\n",
      " [ 2  6 10 14]\n",
      " [ 3  7 11 15]\n",
      " [ 4  8 12 16]]\n",
      "\n",
      "[[ 2  7 12 17]\n",
      " [ 7 12 17 22]\n",
      " [12 17 22 27]\n",
      " [17 22 27 32]]\n",
      "\n",
      "[[ 2  7 12 17]\n",
      " [ 7 12 17 22]\n",
      " [12 17 22 27]\n",
      " [17 22 27 32]]\n",
      "Both M3 and MT1 is same\n",
      "\n",
      "[[ 0 -3 -6 -9]\n",
      " [ 3  0 -3 -6]\n",
      " [ 6  3  0 -3]\n",
      " [ 9  6  3  0]]\n",
      "\n",
      "[[ 2  7 12 17]\n",
      " [ 7 12 17 22]\n",
      " [12 17 22 27]\n",
      " [17 22 27 32]]\n",
      "Both M4 and MT2 is not same\n",
      "Both M4 and -MT2 is same\n"
     ]
    }
   ],
   "source": [
    "##7\n",
    "'''- create a linearly spaced matrix M1 of size 4x4 having values in range 1-16\n",
    "- create a transpose of above matrix call it M2\n",
    "- find sum of above matrix M3 = (M1 + M2)\n",
    "- Find Transpose of M3, Call it MT1. Check if M3 == MT1\n",
    "- find diffrence of M4 = (M1 - M2)\n",
    "- Find Transpose of M4, Call it MT2. Check if M4 == MT2. Also check if M4 == -MT2'''\n",
    "\n",
    "M1=np.arange(1,17).reshape(4,4)\n",
    "print(M1)\n",
    "M2= M1.T\n",
    "print()\n",
    "print(M2)\n",
    "M3=M1+M2\n",
    "print()\n",
    "print(M3)\n",
    "MT1 = M3.T\n",
    "print()\n",
    "print(MT1)\n",
    "a=M3 == MT1\n",
    "if a.all():\n",
    "    print('Both M3 and MT1 is same')\n",
    "else:\n",
    "    print('Both M3 and MT1 is not same')\n",
    "M4=M1-M2\n",
    "print()\n",
    "print(M4)\n",
    "MT2 = M4.T\n",
    "print()\n",
    "print(MT1)\n",
    "b=M4 == MT2\n",
    "if b.all():\n",
    "    print('Both M4 and MT2 is same')\n",
    "else:\n",
    "    print('Both M4 and MT2 is not same')\n",
    "c=M4 == -MT2\n",
    "if c.all():\n",
    "    print('Both M4 and -MT2 is same')\n",
    "else:\n",
    "    print('Both M4 and -MT2 is not same')\n",
    "    "
   ]
  },
  {
   "cell_type": "code",
   "execution_count": 38,
   "metadata": {},
   "outputs": [
    {
     "name": "stdout",
     "output_type": "stream",
     "text": [
      "[[10 39 32 31]\n",
      " [17 20 37 32]\n",
      " [32 14 11 35]]\n",
      "[10 14 11 31]\n",
      "[32 39 37 35]\n",
      "[[ 10  39  32 112]\n",
      " [ 17  20  37 106]\n",
      " [ 32  14  11  92]]\n"
     ]
    }
   ],
   "source": [
    "##8.\n",
    "'''- create a matrix (3x4) R1 of random numbers between 10-40\n",
    "- find min and max column wise\n",
    "- replace the last column with sum of all the columns'''\n",
    "R1=np.random.randint(10,40,size=(3,4))\n",
    "print(R1)\n",
    "print(R1.min(axis=0))\n",
    "print(R1.max(axis=0))\n",
    "R1[:,3]= R1.sum(axis=1)\n",
    "print(R1)"
   ]
  },
  {
   "cell_type": "code",
   "execution_count": 44,
   "metadata": {},
   "outputs": [
    {
     "name": "stdout",
     "output_type": "stream",
     "text": [
      "[[25 28 30 13]\n",
      " [22 11 35 11]\n",
      " [36 11 23 24]]\n",
      "[[25. nan nan 13.]\n",
      " [nan 11. 35. 11.]\n",
      " [nan 11. 23. nan]]\n",
      "5\n"
     ]
    }
   ],
   "source": [
    "##9.\n",
    "'''- create a matrix (3x4) R1 of random numbers between 10-40\n",
    "- replace all even elements with nan in R1\n",
    "- count number of nan in R1'''\n",
    "R1=np.random.randint(10,40,size=(3,4))\n",
    "print(R1)\n",
    "r=R1%2 ==0\n",
    "w=np.where(r,np.nan,R1)\n",
    "print(w)\n",
    "print(np.isnan(w).sum())\n"
   ]
  },
  {
   "cell_type": "code",
   "execution_count": 47,
   "metadata": {},
   "outputs": [
    {
     "name": "stdout",
     "output_type": "stream",
     "text": [
      "[[1 2 3]\n",
      " [4 5 6]\n",
      " [7 8 9]]\n",
      "[[11 12 13]\n",
      " [14 15 16]\n",
      " [17 18 19]]\n",
      "[ 1  2  3  4  5  6  7  8  9 11 12 13 14 15 16 17 18 19]\n",
      "[[ 1  2  3]\n",
      " [ 4  5  6]\n",
      " [ 7  8  9]\n",
      " [11 12 13]\n",
      " [14 15 16]\n",
      " [17 18 19]]\n",
      "[[ 1  2  3 11 12 13]\n",
      " [ 4  5  6 14 15 16]\n",
      " [ 7  8  9 17 18 19]]\n"
     ]
    }
   ],
   "source": [
    "##10.\n",
    "\n",
    "'''- check output of this code  \n",
    "`a1 = np.arange(1,10).reshape(3,3)\n",
    "a2 = np.arange(11,20).reshape(3,3)\n",
    "a3 = np.append(a1,a2)\n",
    "print(a3)\n",
    "a3 = np.append(a1,a2, axis = 0)\n",
    "print(a3)\n",
    "a3 = np.append(a1,a2, axis = 1)\n",
    "print(a3)\n",
    "`'''\n",
    "#[[1 2 3]\n",
    "# [4 5 6]\n",
    "#  [7 8 9]]\n",
    "\n",
    "#[[11 12 13]\n",
    "# [14 15 16]\n",
    "# [17 18 19]]\n",
    "\n",
    "a1 = np.arange(1,10).reshape(3,3)\n",
    "print(a1)\n",
    "a2 = np.arange(11,20).reshape(3,3)\n",
    "print(a2)\n",
    "a3 = np.append(a1,a2)\n",
    "print(a3)\n",
    "a3 = np.append(a1,a2, axis = 0)\n",
    "print(a3)\n",
    "a3 = np.append(a1,a2, axis = 1)\n",
    "print(a3)"
   ]
  },
  {
   "cell_type": "code",
   "execution_count": null,
   "metadata": {},
   "outputs": [],
   "source": []
  }
 ],
 "metadata": {
  "kernelspec": {
   "display_name": "Python 3",
   "language": "python",
   "name": "python3"
  },
  "language_info": {
   "codemirror_mode": {
    "name": "ipython",
    "version": 3
   },
   "file_extension": ".py",
   "mimetype": "text/x-python",
   "name": "python",
   "nbconvert_exporter": "python",
   "pygments_lexer": "ipython3",
   "version": "3.8.3"
  }
 },
 "nbformat": 4,
 "nbformat_minor": 2
}
