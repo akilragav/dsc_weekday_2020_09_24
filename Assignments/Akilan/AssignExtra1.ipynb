{
 "cells": [
  {
   "cell_type": "code",
   "execution_count": 3,
   "metadata": {},
   "outputs": [
    {
     "name": "stdout",
     "output_type": "stream",
     "text": [
      "Enter a temperature in degree Farenheit :\t100\n",
      "Equivalent in Celsius: 37.77777777777778\n"
     ]
    }
   ],
   "source": [
    "#1 Fareheit to Celsius\n",
    "f=int(input('Enter a temperature in degree Farenheit :\\t'))\n",
    "print('Equivalent in Celsius:',(f-32)*(5/9))\n"
   ]
  },
  {
   "cell_type": "code",
   "execution_count": 4,
   "metadata": {},
   "outputs": [
    {
     "name": "stdout",
     "output_type": "stream",
     "text": [
      "Enter a number :\t2\n",
      "Square of 2 is : 4\n",
      "Cube of 2 is : 8\n"
     ]
    }
   ],
   "source": [
    "#2 square and cube of a number\n",
    "n= int(input('Enter a number :\\t'))\n",
    "print('Square of',n,'is :',pow(n,2))\n",
    "print('Cube of',n,'is :',pow(n,3))"
   ]
  },
  {
   "cell_type": "code",
   "execution_count": 6,
   "metadata": {},
   "outputs": [
    {
     "name": "stdout",
     "output_type": "stream",
     "text": [
      "Enter a number :\t3\n",
      "Enter a number :\t4\n",
      "25\n"
     ]
    }
   ],
   "source": [
    "#3 n^2 + m^2\n",
    "n=int(input('Enter a number :\\t'))\n",
    "m=int(input('Enter a number :\\t'))\n",
    "print(n**2+m**2)"
   ]
  },
  {
   "cell_type": "code",
   "execution_count": 7,
   "metadata": {},
   "outputs": [
    {
     "name": "stdout",
     "output_type": "stream",
     "text": [
      "Enter a base number :\t3\n",
      "Enter a power number :\t2\n",
      "Using **: 9\n",
      "Using pow: 9\n"
     ]
    }
   ],
   "source": [
    "#4  M to tye power N\n",
    "m=int(input('Enter a base number :\\t'))\n",
    "n=int(input('Enter a power number :\\t'))\n",
    "print('Using **:',m**n)\n",
    "print('Using pow:',pow(m,n))\n"
   ]
  },
  {
   "cell_type": "code",
   "execution_count": 13,
   "metadata": {},
   "outputs": [
    {
     "name": "stdout",
     "output_type": "stream",
     "text": [
      "Enter a Principal:\t1000\n",
      "Enter number of years:\t0.5\n",
      "Enter rate of interest:\t5.6\n",
      "Simple Interest : 28.0\n"
     ]
    }
   ],
   "source": [
    "#5 SI calculator\n",
    "p=float(input('Enter a Principal:\\t'))\n",
    "n=float(input('Enter number of years:\\t'))\n",
    "r=float(input('Enter rate of interest:\\t'))\n",
    "print('Simple Interest :',(p*n*r)/100)"
   ]
  },
  {
   "cell_type": "code",
   "execution_count": 14,
   "metadata": {},
   "outputs": [
    {
     "name": "stdout",
     "output_type": "stream",
     "text": [
      "Enter a Principal:\t1000\n",
      "Enter number of years:\t1\n",
      "Enter rate of interest:\t1\n",
      "Compound Interest : 20.0\n",
      "Amount : 1020.0\n"
     ]
    }
   ],
   "source": [
    "#6 CI calculator\n",
    "p=float(input('Enter a Principal:\\t'))\n",
    "n=float(input('Enter number of years:\\t'))\n",
    "r=float(input('Enter rate of interest:\\t'))\n",
    "print('Compound Interest :',(p* pow((1+r),n)/100))\n",
    "print('Amount :',  (p*n)+ ((p* pow((1+r),n)/100)))\n"
   ]
  },
  {
   "cell_type": "code",
   "execution_count": 15,
   "metadata": {},
   "outputs": [
    {
     "name": "stdout",
     "output_type": "stream",
     "text": [
      "Enter a Number :\t10\n",
      "Sum of natural numbers till 10 : 55.0\n"
     ]
    }
   ],
   "source": [
    "#7 Sum of Natural Number\n",
    "n=int(input('Enter a Number :\\t'))\n",
    "print('Sum of natural numbers till', n,':', n*(n+1)/2)"
   ]
  },
  {
   "cell_type": "code",
   "execution_count": 16,
   "metadata": {},
   "outputs": [
    {
     "name": "stdout",
     "output_type": "stream",
     "text": [
      "Enter first Number :\t5\n",
      "Enter second Number :\t6\n",
      "With Temp Variable : x = 6 y = 5\n"
     ]
    }
   ],
   "source": [
    "#8 swap using temp\n",
    "\n",
    "x=int(input('Enter first Number :\\t'))\n",
    "y=int(input('Enter second Number :\\t'))\n",
    "a=x\n",
    "x=y\n",
    "y=a\n",
    "print('With Temp Variable : x =',x,'y =',y)\n",
    "\n",
    "\n"
   ]
  },
  {
   "cell_type": "code",
   "execution_count": 21,
   "metadata": {},
   "outputs": [
    {
     "name": "stdout",
     "output_type": "stream",
     "text": [
      "Enter first Number :\t1\n",
      "Enter second Number :\t2\n",
      "With Temp Variable : x = 2 y = 1\n"
     ]
    }
   ],
   "source": [
    "#8 swap without temp\n",
    "\n",
    "x=int(input('Enter first Number :\\t'))\n",
    "y=int(input('Enter second Number :\\t'))\n",
    "x+=y\n",
    "y=x-y\n",
    "x-=y\n",
    "print('With Normal Variable : x =',x,'y =',y)"
   ]
  },
  {
   "cell_type": "code",
   "execution_count": 22,
   "metadata": {},
   "outputs": [
    {
     "name": "stdout",
     "output_type": "stream",
     "text": [
      "32\n"
     ]
    }
   ],
   "source": [
    "#9 ascii of white space\n",
    "print(ord(' '))\n"
   ]
  },
  {
   "cell_type": "code",
   "execution_count": 23,
   "metadata": {},
   "outputs": [
    {
     "name": "stdout",
     "output_type": "stream",
     "text": [
      "Enter a single character :\tA\n",
      "ascii value of A : 65\n"
     ]
    }
   ],
   "source": [
    "#10 ascii of a single character\n",
    "s=input('Enter a single character :\\t')\n",
    "print('ascii value of',s,':',ord(s))"
   ]
  },
  {
   "cell_type": "code",
   "execution_count": 24,
   "metadata": {},
   "outputs": [
    {
     "name": "stdout",
     "output_type": "stream",
     "text": [
      "Enter an area of circle :\t49\n",
      "Radius : 3.9485325237243636\n",
      "Circumference : 24.81934729198171\n"
     ]
    }
   ],
   "source": [
    "#11 radius and circumference of circle\n",
    "import math\n",
    "a=int(input('Enter an area of circle :\\t'))\n",
    "r=math.sqrt(a*7/22)\n",
    "c=2*22*r/7\n",
    "print('Radius :',r)\n",
    "print('Circumference :',c)"
   ]
  },
  {
   "cell_type": "code",
   "execution_count": 25,
   "metadata": {},
   "outputs": [
    {
     "name": "stdout",
     "output_type": "stream",
     "text": [
      "Enter English Mark :\t80\n",
      "Enter Tamil Mark :\t90\n",
      "Enter Maths Mark :\t80\n",
      "Enter Science Mark :\t80\n",
      "Enter Social Mark :\t80\n",
      "Percentage : 82.0\n"
     ]
    }
   ],
   "source": [
    "#12 Percentage of Marks\n",
    "eng=int(input('Enter English Mark :\\t'))\n",
    "tam=int(input('Enter Tamil Mark :\\t'))\n",
    "mat=int(input('Enter Maths Mark :\\t'))\n",
    "sci=int(input('Enter Science Mark :\\t'))\n",
    "soc=int(input('Enter Social Mark :\\t'))\n",
    "print('Percentage :', (eng+tam+mat+sci+soc)/5)"
   ]
  },
  {
   "cell_type": "code",
   "execution_count": null,
   "metadata": {},
   "outputs": [],
   "source": []
  }
 ],
 "metadata": {
  "kernelspec": {
   "display_name": "Python 3",
   "language": "python",
   "name": "python3"
  },
  "language_info": {
   "codemirror_mode": {
    "name": "ipython",
    "version": 3
   },
   "file_extension": ".py",
   "mimetype": "text/x-python",
   "name": "python",
   "nbconvert_exporter": "python",
   "pygments_lexer": "ipython3",
   "version": "3.8.3"
  }
 },
 "nbformat": 4,
 "nbformat_minor": 4
}
