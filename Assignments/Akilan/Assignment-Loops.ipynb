{
 "cells": [
  {
   "cell_type": "code",
   "execution_count": 2,
   "metadata": {},
   "outputs": [
    {
     "name": "stdout",
     "output_type": "stream",
     "text": [
      "Enter a Number :\t10\n",
      "1 2 3 4 5 6 7 8 9 10\n"
     ]
    }
   ],
   "source": [
    "#1 n natural number\n",
    "n=int(input('Enter a Number :\\t'))\n",
    "print(*range(1,n+1))\n"
   ]
  },
  {
   "cell_type": "code",
   "execution_count": 3,
   "metadata": {},
   "outputs": [
    {
     "name": "stdout",
     "output_type": "stream",
     "text": [
      "Enter a Number :\t9\n",
      "Sum of first 9 Natural Numbers 45\n"
     ]
    }
   ],
   "source": [
    "#2.sum of n natural numbers\n",
    "n=int(input('Enter a Number :\\t'))\n",
    "s=0\n",
    "for a in range(1,n+1):\n",
    "    s+=a\n",
    "print('Sum of first',n,'Natural Numbers',s)"
   ]
  },
  {
   "cell_type": "code",
   "execution_count": 6,
   "metadata": {},
   "outputs": [
    {
     "name": "stdout",
     "output_type": "stream",
     "text": [
      "Enter a Number :\t5\n",
      "5 4 3 2 1\n"
     ]
    }
   ],
   "source": [
    "#3. revers natural numbers:\n",
    "n=int(input('Enter a Number :\\t'))\n",
    "print(*range(n,0,-1))"
   ]
  },
  {
   "cell_type": "code",
   "execution_count": 7,
   "metadata": {},
   "outputs": [
    {
     "name": "stdout",
     "output_type": "stream",
     "text": [
      "Enter a Number :\t5\n",
      "Factorial of 5 is : 120\n"
     ]
    }
   ],
   "source": [
    "#4. factorial of number\n",
    "n=int(input('Enter a Number :\\t'))\n",
    "f=1\n",
    "for a in range(1,n+1):\n",
    "    f=f*a\n",
    "print('Factorial of',n,'is :',f)"
   ]
  },
  {
   "cell_type": "code",
   "execution_count": 15,
   "metadata": {},
   "outputs": [
    {
     "name": "stdout",
     "output_type": "stream",
     "text": [
      "Enter a Number :\t10\n",
      "0\t1\t1\t2\t3\t5\t8\t13\t21\t34\t"
     ]
    }
   ],
   "source": [
    "#5. fibnoacci series:\n",
    "n=int(input('Enter a Number :\\t'))\n",
    "a=0\n",
    "b=1\n",
    "print(a ,end='\\t')\n",
    "for r in range(1,n):\n",
    "    print(b,end='\\t')\n",
    "    c=a+b\n",
    "    a=b\n",
    "    b=c\n",
    "    \n",
    "    "
   ]
  },
  {
   "cell_type": "code",
   "execution_count": 18,
   "metadata": {},
   "outputs": [
    {
     "name": "stdout",
     "output_type": "stream",
     "text": [
      "Enter a Number :\t120\n",
      "3\n"
     ]
    }
   ],
   "source": [
    "#6. Sun of all digits in a number\n",
    "n=input('Enter a Number :\\t')\n",
    "i=0\n",
    "s=0\n",
    "while i < len(n):\n",
    "    s+= int(n[i])\n",
    "    i+=1\n",
    "print(s)"
   ]
  },
  {
   "cell_type": "code",
   "execution_count": 23,
   "metadata": {},
   "outputs": [
    {
     "name": "stdout",
     "output_type": "stream",
     "text": [
      "Enter a Number :\t5\n",
      "153\n"
     ]
    }
   ],
   "source": [
    "def factorial(m):\n",
    "    f=1\n",
    "    for a in range(1,m+1):\n",
    "        f=f*a\n",
    "    return f\n",
    "\n",
    "n=int(input('Enter a Number :\\t'))\n",
    "s=0\n",
    "for b in range(1,n+1):\n",
    "    s+=factorial(b)\n",
    "print(s)"
   ]
  },
  {
   "cell_type": "markdown",
   "metadata": {},
   "source": []
  }
 ],
 "metadata": {
  "kernelspec": {
   "display_name": "Python 3",
   "language": "python",
   "name": "python3"
  },
  "language_info": {
   "codemirror_mode": {
    "name": "ipython",
    "version": 3
   },
   "file_extension": ".py",
   "mimetype": "text/x-python",
   "name": "python",
   "nbconvert_exporter": "python",
   "pygments_lexer": "ipython3",
   "version": "3.8.3"
  }
 },
 "nbformat": 4,
 "nbformat_minor": 4
}
