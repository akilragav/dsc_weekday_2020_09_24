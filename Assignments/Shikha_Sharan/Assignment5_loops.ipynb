{
 "cells": [
  {
   "cell_type": "code",
   "execution_count": 8,
   "metadata": {},
   "outputs": [
    {
     "name": "stdout",
     "output_type": "stream",
     "text": [
      "Enter a number: 10\n",
      "0\n",
      "1\n",
      "2\n",
      "3\n",
      "4\n",
      "5\n",
      "6\n",
      "7\n",
      "8\n",
      "9\n",
      "10\n",
      "sum of first n natural number is 55\n"
     ]
    }
   ],
   "source": [
    "#1,2. WAP to print first n natural numbers (input n from user). \n",
    "n = int(input(\"Enter a number: \"))\n",
    "i=0\n",
    "sm=0\n",
    "while i <= n:\n",
    "    sm=sm+i\n",
    "    print(i)\n",
    "    i+=1\n",
    "print(\"sum of first n natural number is\",sm)\n"
   ]
  },
  {
   "cell_type": "code",
   "execution_count": 14,
   "metadata": {},
   "outputs": [
    {
     "name": "stdout",
     "output_type": "stream",
     "text": [
      "Enter a number: 10\n",
      "[1, 2, 3, 4, 5, 6, 7, 8, 9, 10]\n",
      "[10, 9, 8, 7, 6, 5, 4, 3, 2, 1]\n"
     ]
    }
   ],
   "source": [
    "#3. WAP to print first n natural numbers in reverse order\n",
    "n = int(input(\"Enter a number: \"))\n",
    "l=list(range(1,(n+1)))\n",
    "print(l)\n",
    "print(l[-1::-1])\n",
    "    \n",
    "       "
   ]
  },
  {
   "cell_type": "code",
   "execution_count": 19,
   "metadata": {},
   "outputs": [
    {
     "name": "stdout",
     "output_type": "stream",
     "text": [
      "Enter a number: 4\n",
      "24\n"
     ]
    }
   ],
   "source": [
    "#4. WAP to input a number and print its factorial. \n",
    "n = int(input(\"Enter a number: \"))\n",
    "l=list(range(1,(n+1)))\n",
    "mul=1\n",
    "for i in l:\n",
    "    mul=mul*i\n",
    "print(mul)\n"
   ]
  },
  {
   "cell_type": "code",
   "execution_count": 25,
   "metadata": {},
   "outputs": [
    {
     "name": "stdout",
     "output_type": "stream",
     "text": [
      "Enter a number: 10\n",
      "0\n",
      "1\n",
      "1\n",
      "2\n",
      "3\n",
      "5\n",
      "8\n",
      "13\n"
     ]
    }
   ],
   "source": [
    "#5. WAP to print Fibonacci sequence till n. \n",
    "n = int(input(\"Enter a number: \"))\n",
    "res=0\n",
    "num1=0\n",
    "num2=1\n",
    "print(num1,num2,sep='\\n')\n",
    "while res<n:\n",
    "    res=num1+num2\n",
    "    num1=num2\n",
    "    num2=res\n",
    "    print(res)\n"
   ]
  },
  {
   "cell_type": "code",
   "execution_count": 28,
   "metadata": {},
   "outputs": [
    {
     "name": "stdout",
     "output_type": "stream",
     "text": [
      "Enter a number1234\n",
      "['1', '2', '3', '4']\n",
      "1\n",
      "2\n",
      "3\n",
      "4\n"
     ]
    }
   ],
   "source": [
    "#6. WAP to print all digits of a number input from user\n",
    "num = input(\"Enter a number\")\n",
    "l=list(num)\n",
    "print(l)\n",
    "for i in num:\n",
    "    print(i)"
   ]
  },
  {
   "cell_type": "code",
   "execution_count": 30,
   "metadata": {},
   "outputs": [
    {
     "name": "stdout",
     "output_type": "stream",
     "text": [
      "Enter a number1234\n",
      "['1', '2', '3', '4']\n",
      "10\n"
     ]
    }
   ],
   "source": [
    "#7. WAP to find sum of all digits of a number. \n",
    "num = input(\"Enter a number\")\n",
    "l=list(num)\n",
    "print(l)\n",
    "sm = 0\n",
    "for i in num:\n",
    "    sm=sm+int(i)\n",
    "print(sm)\n",
    "    "
   ]
  },
  {
   "cell_type": "code",
   "execution_count": 35,
   "metadata": {},
   "outputs": [
    {
     "name": "stdout",
     "output_type": "stream",
     "text": [
      "Enter a number: 4\n",
      "33\n"
     ]
    }
   ],
   "source": [
    "#8. WAP to find sum of following series given n as input from user\n",
    "#1 + 2! + 3! + 4! + 5! + ….n! \n",
    "\n",
    "def fact(num):\n",
    "    n = int(num)\n",
    "    l=list(range(1,(n+1)))\n",
    "    mul=1\n",
    "    for i in l:\n",
    "        mul=mul*i\n",
    "    return mul\n",
    "    \n",
    "n=int(input(\"Enter a number: \"))\n",
    "i = 0\n",
    "sm = 0\n",
    "for i in range(1,n+1):\n",
    "    sm = sm+fact(i)\n",
    "    \n",
    "print(sm)\n",
    "    "
   ]
  },
  {
   "cell_type": "code",
   "execution_count": 37,
   "metadata": {},
   "outputs": [
    {
     "name": "stdout",
     "output_type": "stream",
     "text": [
      "Enter a base: 2\n",
      "Enter an exponent: 3\n",
      "8\n"
     ]
    }
   ],
   "source": [
    "#9. WAP to input base and exponent and print result without using inbuilt function pow(use for or\n",
    "#while loop).\n",
    "b=int(input(\"Enter a base: \"))\n",
    "e=int(input(\"Enter an exponent: \"))\n",
    "i=1\n",
    "res=1\n",
    "while i <= e:\n",
    "    res = res*b\n",
    "    i+=1\n",
    "print(res)"
   ]
  },
  {
   "cell_type": "code",
   "execution_count": 39,
   "metadata": {},
   "outputs": [
    {
     "name": "stdout",
     "output_type": "stream",
     "text": [
      "*\n",
      "**\n",
      "***\n",
      "****\n",
      "*****\n"
     ]
    }
   ],
   "source": [
    "#10. Print following patterns: \n",
    "for i in range(5):\n",
    "    for j in range(i+1):\n",
    "        print(\"*\",end=\"\")\n",
    "    print()"
   ]
  },
  {
   "cell_type": "code",
   "execution_count": 43,
   "metadata": {},
   "outputs": [
    {
     "name": "stdout",
     "output_type": "stream",
     "text": [
      "*****\n",
      "****\n",
      "***\n",
      "**\n",
      "*\n"
     ]
    }
   ],
   "source": [
    "#10. Print following patterns: \n",
    "for i in range(5):\n",
    "    for j in range(5-i):\n",
    "        print(\"*\",end=\"\")\n",
    "    print()"
   ]
  },
  {
   "cell_type": "code",
   "execution_count": 78,
   "metadata": {},
   "outputs": [
    {
     "name": "stdout",
     "output_type": "stream",
     "text": [
      "     *\n",
      "    **\n",
      "   ***\n",
      "  ****\n"
     ]
    }
   ],
   "source": [
    "#10. Print following patterns: \n",
    "for i in range(1,5):\n",
    "    print((5-i)*\" \",\"*\"*i)\n",
    "    \n",
    "    "
   ]
  },
  {
   "cell_type": "code",
   "execution_count": 93,
   "metadata": {},
   "outputs": [
    {
     "name": "stdout",
     "output_type": "stream",
     "text": [
      "1\n",
      "22\n",
      "333\n",
      "4444\n",
      "55555\n"
     ]
    }
   ],
   "source": [
    "#11. Print following number patterns: \n",
    "for i in range(1,6):\n",
    "    for j in range(1,i+1):\n",
    "        print(i,end=\"\")\n",
    "    print()\n"
   ]
  },
  {
   "cell_type": "code",
   "execution_count": 180,
   "metadata": {},
   "outputs": [
    {
     "name": "stdout",
     "output_type": "stream",
     "text": [
      "1\n",
      "2\n",
      "3\n",
      "4\n",
      "5\n"
     ]
    }
   ],
   "source": [
    "for i in range(1,6):\n",
    "        print(i,end=\"\")\n",
    "    print()"
   ]
  },
  {
   "cell_type": "code",
   "execution_count": 193,
   "metadata": {},
   "outputs": [
    {
     "name": "stdout",
     "output_type": "stream",
     "text": [
      "1\n",
      "12\n",
      "123\n",
      "1234\n",
      "12345\n"
     ]
    }
   ],
   "source": [
    "#11. Print following number patterns: \n",
    "for i in range(1,6):\n",
    "    for j in range(1,i+1):\n",
    "        print(j,end=\"\")\n",
    "    print()"
   ]
  },
  {
   "cell_type": "code",
   "execution_count": 107,
   "metadata": {},
   "outputs": [
    {
     "name": "stdout",
     "output_type": "stream",
     "text": [
      "[5, 4, 3, 2, 1]\n",
      "5\n",
      "44\n",
      "333\n",
      "2222\n",
      "11111\n"
     ]
    }
   ],
   "source": [
    "n=list(range(1,6))\n",
    "print(n[-1::-1])\n",
    "for i in n[-1::-1]:\n",
    "    for j in range(1,7-i):\n",
    "        print(i,end=\"\")\n",
    "    print()"
   ]
  },
  {
   "cell_type": "code",
   "execution_count": 187,
   "metadata": {},
   "outputs": [
    {
     "name": "stdout",
     "output_type": "stream",
     "text": [
      "kkkkkk 1\n",
      "kkkkk 22\n",
      "kkkk 333\n",
      "kkk 4444\n",
      "kk 55555\n"
     ]
    }
   ],
   "source": [
    "for i in range(1,6):\n",
    "    print((7-(i))*\"k\",str(i)*i)\n",
    "    "
   ]
  },
  {
   "cell_type": "code",
   "execution_count": 191,
   "metadata": {},
   "outputs": [
    {
     "name": "stdout",
     "output_type": "stream",
     "text": [
      "kkkkkk 1\n",
      "kkkkk 22\n",
      "kkkk 333\n",
      "kkk 4444\n",
      "kk 55555\n"
     ]
    }
   ],
   "source": [
    "for i in range(1,6):\n",
    "    for j in range(i,i+1):\n",
    "        print((7-(i))*\"k\",str(i)*i,end=\"\")\n",
    "    print()"
   ]
  },
  {
   "cell_type": "code",
   "execution_count": 166,
   "metadata": {},
   "outputs": [
    {
     "name": "stdout",
     "output_type": "stream",
     "text": [
      "kkkkkk 1\n",
      "1\n",
      "kkkkk 22\n",
      "2\n",
      "kkkk 333\n",
      "3\n",
      "kkk 4444\n",
      "4\n",
      "kk 55555\n",
      "5\n",
      "k 666666\n",
      "6\n"
     ]
    }
   ],
   "source": [
    "i=1\n",
    "j=1\n",
    "while i <= 6:\n",
    "    while j <= i:\n",
    "        print((7-(i))*\"k\",str(i)*i)\n",
    "        print(j)\n",
    "        j+=1\n",
    "    i+=1"
   ]
  },
  {
   "cell_type": "code",
   "execution_count": 198,
   "metadata": {},
   "outputs": [
    {
     "name": "stdout",
     "output_type": "stream",
     "text": [
      "A\n",
      "AB\n",
      "ABC\n",
      "ABCD\n",
      "ABCDE\n"
     ]
    }
   ],
   "source": [
    "#12. Print following character patterns: \n",
    "for i in range(65,70):\n",
    "    for j in range(65,i+1):\n",
    "        print(chr(j),end=\"\")\n",
    "    print()"
   ]
  },
  {
   "cell_type": "code",
   "execution_count": 234,
   "metadata": {},
   "outputs": [
    {
     "name": "stdout",
     "output_type": "stream",
     "text": [
      "AB\n",
      "BC\n",
      "CD\n",
      "DE\n",
      "EF\n"
     ]
    }
   ],
   "source": [
    "for i in range(65,70):\n",
    "    for j in range(i,i+1):\n",
    "        print(str(chr(j))+str(chr(j+1)),end=\"\")\n",
    "    print()"
   ]
  },
  {
   "cell_type": "code",
   "execution_count": 233,
   "metadata": {},
   "outputs": [
    {
     "name": "stdout",
     "output_type": "stream",
     "text": [
      "abcd\n"
     ]
    }
   ],
   "source": [
    "str1=\"ab\"\n",
    "str2=\"cd\"\n",
    "print(str1+str2)"
   ]
  },
  {
   "cell_type": "code",
   "execution_count": null,
   "metadata": {},
   "outputs": [],
   "source": []
  }
 ],
 "metadata": {
  "kernelspec": {
   "display_name": "Python 3",
   "language": "python",
   "name": "python3"
  },
  "language_info": {
   "codemirror_mode": {
    "name": "ipython",
    "version": 3
   },
   "file_extension": ".py",
   "mimetype": "text/x-python",
   "name": "python",
   "nbconvert_exporter": "python",
   "pygments_lexer": "ipython3",
   "version": "3.8.3"
  }
 },
 "nbformat": 4,
 "nbformat_minor": 4
}
