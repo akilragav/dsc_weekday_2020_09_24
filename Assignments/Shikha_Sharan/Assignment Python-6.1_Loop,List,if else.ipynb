{
 "cells": [
  {
   "cell_type": "code",
   "execution_count": 1,
   "metadata": {},
   "outputs": [
    {
     "name": "stdout",
     "output_type": "stream",
     "text": [
      "Enter a stringShikha \n",
      "S\n",
      "h\n",
      "i\n",
      "k\n",
      "h\n",
      "a\n",
      " \n"
     ]
    }
   ],
   "source": [
    "#1. WAP to input a string and print individual characters in the string using for loop.\n",
    "string = input(\"Enter a string\")\n",
    "for s in string:\n",
    "    print(s)"
   ]
  },
  {
   "cell_type": "code",
   "execution_count": 3,
   "metadata": {},
   "outputs": [
    {
     "name": "stdout",
     "output_type": "stream",
     "text": [
      "Enter a stringshikha\n",
      "s     115\n",
      "h     104\n",
      "i     105\n",
      "k     107\n",
      "h     104\n",
      "a     97\n"
     ]
    }
   ],
   "source": [
    "#2. WAP to input a string and print the ASCII value of each character in the string.\n",
    "string = input(\"Enter a string\")\n",
    "for s in string:\n",
    "    print(f\"{s:5} {ord(s)}\")"
   ]
  },
  {
   "cell_type": "code",
   "execution_count": 29,
   "metadata": {},
   "outputs": [
    {
     "name": "stdout",
     "output_type": "stream",
     "text": [
      "Enter a list of numbers:12 13 14 15 17\n",
      "['12', '13', '14', '15', '17']\n",
      "45\n"
     ]
    }
   ],
   "source": [
    "#Write a function that takes a list of numbers from user as argument and returns the sum of only\n",
    "#odd numbers (Use only for loop. No need to use if statement).\n",
    "def add_list(seq):\n",
    "    odd_obj=filter(lambda i:i%2!=0,seq)\n",
    "    sm=0\n",
    "    for i in odd_obj:\n",
    "        sm=sm+i\n",
    "    return sm\n",
    "seq=input(\"Enter a list of numbers:\")\n",
    "seq1=seq.split()\n",
    "print(seq1)\n",
    "seq2=[int(i) for i in seq1]\n",
    "print(add_list(seq2))"
   ]
  },
  {
   "cell_type": "code",
   "execution_count": 34,
   "metadata": {},
   "outputs": [
    {
     "name": "stdout",
     "output_type": "stream",
     "text": [
      "Enter the list of numbers:11 12 13 14\n",
      "[11, 12, 13, 14]\n",
      "(11, 12, 13, 14)\n"
     ]
    }
   ],
   "source": [
    "#4. WAP to input a list of numbers and store in a tuple. Now input another number and print the\n",
    "#index of this number in the tuple.\n",
    "lst = input(\"Enter the list of numbers:\")\n",
    "lst1=lst.split() \n",
    "lst2 = [int(i) for i in lst1]\n",
    "print(lst2)\n",
    "tup=tuple(lst2)\n",
    "print(tup)"
   ]
  },
  {
   "cell_type": "code",
   "execution_count": 16,
   "metadata": {},
   "outputs": [
    {
     "name": "stdout",
     "output_type": "stream",
     "text": [
      "ABC\n",
      "WHAT\n"
     ]
    }
   ],
   "source": [
    "y=[\"abc\",\"what\"]\n",
    "r=map(str.upper,y)\n",
    "for i in r:\n",
    "    print(i)"
   ]
  },
  {
   "cell_type": "code",
   "execution_count": 13,
   "metadata": {},
   "outputs": [
    {
     "name": "stdout",
     "output_type": "stream",
     "text": [
      "Help on class map in module builtins:\n",
      "\n",
      "class map(object)\n",
      " |  map(func, *iterables) --> map object\n",
      " |  \n",
      " |  Make an iterator that computes the function using arguments from\n",
      " |  each of the iterables.  Stops when the shortest iterable is exhausted.\n",
      " |  \n",
      " |  Methods defined here:\n",
      " |  \n",
      " |  __getattribute__(self, name, /)\n",
      " |      Return getattr(self, name).\n",
      " |  \n",
      " |  __iter__(self, /)\n",
      " |      Implement iter(self).\n",
      " |  \n",
      " |  __next__(self, /)\n",
      " |      Implement next(self).\n",
      " |  \n",
      " |  __reduce__(...)\n",
      " |      Return state information for pickling.\n",
      " |  \n",
      " |  ----------------------------------------------------------------------\n",
      " |  Static methods defined here:\n",
      " |  \n",
      " |  __new__(*args, **kwargs) from builtins.type\n",
      " |      Create and return a new object.  See help(type) for accurate signature.\n",
      "\n"
     ]
    }
   ],
   "source": [
    "help(map)"
   ]
  },
  {
   "cell_type": "code",
   "execution_count": null,
   "metadata": {},
   "outputs": [],
   "source": []
  }
 ],
 "metadata": {
  "kernelspec": {
   "display_name": "Python 3",
   "language": "python",
   "name": "python3"
  },
  "language_info": {
   "codemirror_mode": {
    "name": "ipython",
    "version": 3
   },
   "file_extension": ".py",
   "mimetype": "text/x-python",
   "name": "python",
   "nbconvert_exporter": "python",
   "pygments_lexer": "ipython3",
   "version": "3.8.3"
  }
 },
 "nbformat": 4,
 "nbformat_minor": 4
}
