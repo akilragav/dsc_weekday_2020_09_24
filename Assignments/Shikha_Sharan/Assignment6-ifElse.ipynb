{
 "cells": [
  {
   "cell_type": "code",
   "execution_count": 1,
   "metadata": {},
   "outputs": [
    {
     "name": "stdout",
     "output_type": "stream",
     "text": [
      "Enter first number:42\n",
      "Enter first number:3\n",
      "True\n"
     ]
    }
   ],
   "source": [
    "#1WAP to input 2 numbers and check whether the first is divisible by the second and print true or\n",
    "#false depending on the divisibility.\n",
    "num1 = int(input(\"Enter first number:\"))\n",
    "num2= int(input(\"Enter first number:\"))\n",
    "if num1%num2==0:\n",
    "    print(\"True\")\n",
    "else:\n",
    "    print(\"False\")"
   ]
  },
  {
   "cell_type": "code",
   "execution_count": 4,
   "metadata": {},
   "outputs": [
    {
     "name": "stdout",
     "output_type": "stream",
     "text": [
      "Enter a string: Shikha\n",
      "NA\n"
     ]
    }
   ],
   "source": [
    "#2. In the palindrome example, make the code case insensitive.\n",
    "#i.e. Naman should also be treated as a palindrome (HINT: first convert to either upper or\n",
    "#lower case).\n",
    "string = input(\"Enter a string: \")\n",
    "if string[::-1].upper()==string[:].upper():\n",
    "    print(f\"{string} is a palindrome\")\n",
    "else:\n",
    "    print(\"Not a palindrome\")\n",
    "    \n"
   ]
  },
  {
   "cell_type": "code",
   "execution_count": 9,
   "metadata": {},
   "outputs": [
    {
     "name": "stdout",
     "output_type": "stream",
     "text": [
      "Enter the base of triangle:11\n",
      "Enter the height of triangle:13\n",
      "Enter the 3rd side of triangle:11\n",
      "Isosceles Triangle\n"
     ]
    }
   ],
   "source": [
    "#3. WAP to input the sides of a triangle and print whether equilateral(all sides equal), isosceles (2\n",
    "#sides equal), or scalene (no sides equal).\n",
    "b=int(input(\"Enter the base of triangle:\"))\n",
    "h=int(input(\"Enter the height of triangle:\"))\n",
    "p=int(input(\"Enter the 3rd side of triangle:\"))\n",
    "if b==h and h==p:\n",
    "    print(\"Equilateral Triangle\")\n",
    "elif b==h or h==p or b==p:\n",
    "    print(\"Isosceles Triangle\")\n",
    "else:\n",
    "    print(\"Scalene Triangle\")\n",
    "    "
   ]
  },
  {
   "cell_type": "code",
   "execution_count": 13,
   "metadata": {},
   "outputs": [
    {
     "name": "stdout",
     "output_type": "stream",
     "text": [
      "Enter a number: 31\n",
      "Odd\n"
     ]
    }
   ],
   "source": [
    "#4. WAP to input a number and print if it is even or odd.\n",
    "num1= int(input(\"Enter a number: \"))\n",
    "if num1%2:\n",
    "    print(\"Odd\")\n",
    "else:\n",
    "    print(\"Even\")"
   ]
  },
  {
   "cell_type": "code",
   "execution_count": 17,
   "metadata": {},
   "outputs": [
    {
     "name": "stdout",
     "output_type": "stream",
     "text": [
      "Enter age:46\n",
      "Adult\n"
     ]
    }
   ],
   "source": [
    "#5. WAP to input age and print the respective text\n",
    "#depending on the age ranges as present in the table.\n",
    "#Age Text to be displayed\n",
    "#0-12 Child\n",
    "#13-17 Teen\n",
    "#18-50 Adult\n",
    "#51-100 Senior Citizen\n",
    "#age > 100 Contratulations\n",
    "Age = int((input(\"Enter age:\")))\n",
    "if Age>0 and Age <=12:\n",
    "    print(\"Child\")\n",
    "elif Age>=13 and Age <=17:\n",
    "    print(\"Teen\")\n",
    "elif Age>=18 and Age <=50:\n",
    "    print(\"Adult\")\n",
    "elif Age>=51 and Age <=100:\n",
    "    print(\"Senior Citizen\")\n",
    "elif Age>100:\n",
    "    print(\"Congratulations\")"
   ]
  },
  {
   "cell_type": "code",
   "execution_count": 35,
   "metadata": {},
   "outputs": [
    {
     "name": "stdout",
     "output_type": "stream",
     "text": [
      "Enter a year:1997\n",
      "1997 is not a leap year\n"
     ]
    }
   ],
   "source": [
    "#6. WAP to input year (check if user enters valid year. Should be 4-digit number and should not be\n",
    "#negative) and print whether leap year or not. (If really interested in why you also have to check\n",
    "#the divisibility by 400 just google the exact time it takes for the earth to revolve around the sub)\n",
    "\n",
    "year= input(\"Enter a year:\")\n",
    "if len(year)==4 and int(year)>0:\n",
    "    if int(year)%4==0:\n",
    "        print(f\"{year} is a leap year\")\n",
    "    else:\n",
    "        print(f\"{year} is not a leap year\")\n",
    "else:\n",
    "    print(\"Please enter a valid year\")"
   ]
  },
  {
   "cell_type": "code",
   "execution_count": 38,
   "metadata": {},
   "outputs": [
    {
     "name": "stdout",
     "output_type": "stream",
     "text": [
      "Enter a string:NaMAn\n",
      "NAMAN\n"
     ]
    }
   ],
   "source": [
    "#7. WAP to input a string and convert it to Upper Case if number of characters is odd and convert to\n",
    "#lower case otherwise.\n",
    "string=input(\"Enter a string:\")\n",
    "if len(string)%2:\n",
    "    print(string.upper())\n",
    "else:\n",
    "    print(string.lower())"
   ]
  },
  {
   "cell_type": "code",
   "execution_count": 43,
   "metadata": {},
   "outputs": [
    {
     "name": "stdout",
     "output_type": "stream",
     "text": [
      "Enter a string:EGG\n",
      "Non-Veg\n"
     ]
    }
   ],
   "source": [
    "#8. WAP to input a string and print Veg if the string doesn’t contain the word egg. Otherwise print\n",
    "#Non-Veg. As usual eggs can be both big and small.\n",
    "string=input(\"Enter a string:\")\n",
    "if \"EGG\" in string.upper():\n",
    "    print(\"Non-Veg\")\n",
    "else:\n",
    "    print(\"Veg\")"
   ]
  },
  {
   "cell_type": "code",
   "execution_count": 49,
   "metadata": {},
   "outputs": [
    {
     "name": "stdout",
     "output_type": "stream",
     "text": [
      "True\n"
     ]
    }
   ],
   "source": [
    "if not 1:\n",
    "    print(\"False\")\n",
    "else:\n",
    "    print(\"True\")"
   ]
  },
  {
   "cell_type": "code",
   "execution_count": 46,
   "metadata": {},
   "outputs": [
    {
     "name": "stdout",
     "output_type": "stream",
     "text": [
      "True\n"
     ]
    }
   ],
   "source": [
    "if 1:\n",
    "    print(\"True\")\n",
    "else:\n",
    "    print(\"False\")"
   ]
  },
  {
   "cell_type": "code",
   "execution_count": 52,
   "metadata": {},
   "outputs": [
    {
     "name": "stdout",
     "output_type": "stream",
     "text": [
      "weired\n"
     ]
    }
   ],
   "source": [
    "if 'a' > 'A':\n",
    "    print(\"weired\")\n",
    "else:\n",
    "    print(\"make sense\")"
   ]
  },
  {
   "cell_type": "code",
   "execution_count": 55,
   "metadata": {},
   "outputs": [
    {
     "name": "stdout",
     "output_type": "stream",
     "text": [
      "[4, 3, 2, 1]\n"
     ]
    }
   ],
   "source": [
    "a=[1,2,3,4]\n",
    "if 1>1:\n",
    "    a=a[::-1]\n",
    "else:\n",
    "    a=a[-1::-1]\n",
    "print(a)"
   ]
  },
  {
   "cell_type": "code",
   "execution_count": 68,
   "metadata": {},
   "outputs": [
    {
     "name": "stdout",
     "output_type": "stream",
     "text": [
      "Enter the marks of 5 subjects:79,79,79,79,79\n",
      "79.0\n",
      "Grade C\n"
     ]
    }
   ],
   "source": [
    "#10. WAP to input marks in 5 subjects and print the grade as per following logic:\n",
    "#% between 90-100 Grade-A\n",
    "#% between 80 - 89 Grade-B\n",
    "#% between 60 - 79 Grade-C\n",
    "#% < 60 Grade-F\n",
    "marks = input(\"Enter the marks of 5 subjects:\")\n",
    "marks=marks.split(\",\")\n",
    "tot = 0\n",
    "for i in marks:\n",
    "    tot = tot+int(i)\n",
    "per= tot/5\n",
    "print(per)\n",
    "if per in range(90,101):\n",
    "    print(\"Grade A\")\n",
    "elif per in range(80,90):\n",
    "    print(\"Grade B\")\n",
    "elif per in range(60,80):\n",
    "    print(\"Grade C\")\n",
    "elif per in range(0,60):\n",
    "    print(\"Grade F\")"
   ]
  },
  {
   "cell_type": "code",
   "execution_count": 72,
   "metadata": {},
   "outputs": [
    {
     "name": "stdout",
     "output_type": "stream",
     "text": [
      "Enter a number:70\n",
      "70 is divisible by both 5 and 7\n"
     ]
    }
   ],
   "source": [
    "#15. WAP to input a number and check if number is divisible by both 5 and 7.\n",
    "num = input(\"Enter a number:\")\n",
    "if int(num)%35==0:\n",
    "    print(f\"{num} is divisible by both 5 and 7\")\n",
    "else:\n",
    "    print(\"not divisible by both 5 and 7.\")"
   ]
  },
  {
   "cell_type": "code",
   "execution_count": 78,
   "metadata": {},
   "outputs": [
    {
     "name": "stdout",
     "output_type": "stream",
     "text": [
      "Enter the age of 3 people:11,89,12\n",
      "Oldest is 89\n",
      "youngest is 11\n"
     ]
    }
   ],
   "source": [
    "#14. Take input of age of 3 people by user and determine oldest and youngest among them.\n",
    "Age = input(\"Enter the age of 3 people:\")\n",
    "Age=Age.split(\",\")\n",
    "Ag=[]\n",
    "for i in Age:\n",
    "    Ag.append(int(i))\n",
    "Ag.sort()\n",
    "print(f\"Oldest is {Ag[2]}\")\n",
    "print(f\"youngest is {Ag[0]}\")"
   ]
  },
  {
   "cell_type": "code",
   "execution_count": null,
   "metadata": {},
   "outputs": [],
   "source": []
  }
 ],
 "metadata": {
  "kernelspec": {
   "display_name": "Python 3",
   "language": "python",
   "name": "python3"
  },
  "language_info": {
   "codemirror_mode": {
    "name": "ipython",
    "version": 3
   },
   "file_extension": ".py",
   "mimetype": "text/x-python",
   "name": "python",
   "nbconvert_exporter": "python",
   "pygments_lexer": "ipython3",
   "version": "3.8.3"
  }
 },
 "nbformat": 4,
 "nbformat_minor": 4
}
