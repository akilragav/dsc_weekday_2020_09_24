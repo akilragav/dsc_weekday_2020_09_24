{
 "cells": [
  {
   "cell_type": "code",
   "execution_count": 5,
   "metadata": {},
   "outputs": [
    {
     "name": "stdout",
     "output_type": "stream",
     "text": [
      "Enter temperature in fahrenheit: 32\n",
      "Temperature in celcius is 0.0\n"
     ]
    }
   ],
   "source": [
    "Temp=int(input(\"Enter temperature in fahrenheit: \"))\n",
    "temp_celc = (Temp-32)*5/9\n",
    "print(f\"Temperature in celcius is {temp_celc}\")"
   ]
  },
  {
   "cell_type": "code",
   "execution_count": 8,
   "metadata": {},
   "outputs": [
    {
     "name": "stdout",
     "output_type": "stream",
     "text": [
      "Enter a number: 4\n",
      "Square of 4 is 16 \n",
      "Cube of 4 is 64\n"
     ]
    }
   ],
   "source": [
    "num= int(input(\"Enter a number: \"))\n",
    "sqr = pow(num,2)\n",
    "print(f\"Square of {num} is {sqr} \")\n",
    "cube = pow(num,3)\n",
    "print(f\"Cube of {num} is {cube}\")"
   ]
  },
  {
   "cell_type": "code",
   "execution_count": 11,
   "metadata": {},
   "outputs": [
    {
     "name": "stdout",
     "output_type": "stream",
     "text": [
      "Enter a number: 2\n",
      "Enter second number: 2\n",
      "The solution is 8\n"
     ]
    }
   ],
   "source": [
    "n=int(input(\"Enter a number: \"))\n",
    "m=int(input(\"Enter second number: \"))\n",
    "sol = pow(n,2)+pow(m,2)\n",
    "print(f\"The solution is {sol}\")"
   ]
  },
  {
   "cell_type": "code",
   "execution_count": 14,
   "metadata": {},
   "outputs": [
    {
     "name": "stdout",
     "output_type": "stream",
     "text": [
      "Enter a number: 2\n",
      "Enter second number: 3\n",
      "solution is 9,9\n"
     ]
    }
   ],
   "source": [
    "n=int(input(\"Enter a number: \"))\n",
    "m=int(input(\"Enter second number: \"))\n",
    "sol = m**n\n",
    "sol1 = pow(m,n)\n",
    "print(f\"solution is {sol},{sol1}\")"
   ]
  },
  {
   "cell_type": "code",
   "execution_count": 17,
   "metadata": {},
   "outputs": [
    {
     "name": "stdout",
     "output_type": "stream",
     "text": [
      "Enter the Principal Amount : 2000\n",
      "Enter the rate of interest per annum : 2.5\n",
      "Enter the tenure(in years) : 2.5\n",
      "The SI for Input values are 125.0\n"
     ]
    }
   ],
   "source": [
    "P=int(input(\"Enter the Principal Amount : \"))\n",
    "R=float(input(\"Enter the rate of interest per annum : \"))\n",
    "T=float(input(\"Enter the tenure(in years) : \"))\n",
    "SI = P*R*T/100\n",
    "print(f\"The SI for Input values are {SI}\")\n"
   ]
  },
  {
   "cell_type": "code",
   "execution_count": 18,
   "metadata": {},
   "outputs": [
    {
     "name": "stdout",
     "output_type": "stream",
     "text": [
      "Enter the Principal Amount : 2000\n",
      "Enter the rate of interest per annum : 2.5\n",
      "Enter the tenure(in years) : 2\n",
      "The Amount calculated is 2101.25 and Compound interest calculated is 101.25\n"
     ]
    }
   ],
   "source": [
    "#Input Principal, Rate, Time and print Compound Interest and Amount.\n",
    "P=int(input(\"Enter the Principal Amount : \"))\n",
    "R=float(input(\"Enter the rate of interest per annum : \"))\n",
    "T=float(input(\"Enter the tenure(in years) : \"))\n",
    "Amount = P*pow((1+R/100),T)\n",
    "CI=Amount-P\n",
    "print(f\"The Amount calculated is {Amount} and Compound interest calculated is {CI}\")"
   ]
  },
  {
   "cell_type": "code",
   "execution_count": null,
   "metadata": {},
   "outputs": [],
   "source": [
    "n=int(input(\"Enter the natural number:\"))\n"
   ]
  }
 ],
 "metadata": {
  "kernelspec": {
   "display_name": "Python 3",
   "language": "python",
   "name": "python3"
  },
  "language_info": {
   "codemirror_mode": {
    "name": "ipython",
    "version": 3
   },
   "file_extension": ".py",
   "mimetype": "text/x-python",
   "name": "python",
   "nbconvert_exporter": "python",
   "pygments_lexer": "ipython3",
   "version": "3.8.3"
  }
 },
 "nbformat": 4,
 "nbformat_minor": 4
}
