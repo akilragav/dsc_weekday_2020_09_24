{
 "cells": [
  {
   "cell_type": "code",
   "execution_count": 4,
   "metadata": {},
   "outputs": [
    {
     "name": "stdout",
     "output_type": "stream",
     "text": [
      "Enter 1st strings:shikha \n",
      "Enter 2nd string: sharan\n",
      "shikha  sharan\n",
      "sharan shikha \n"
     ]
    }
   ],
   "source": [
    "#1.WAP to input 2 strings and swap the strings\n",
    "str1 = input(\"Enter 1st strings:\")\n",
    "str2 = input(\"Enter 2nd string: \")\n",
    "print(str1,str2)\n",
    "def swap_string(x,y):\n",
    "    x,y=y,x\n",
    "    return x,y\n",
    "str1,str2 = swap_string(str1,str2)\n",
    "print(str1,str2)"
   ]
  },
  {
   "cell_type": "code",
   "execution_count": 27,
   "metadata": {},
   "outputs": [
    {
     "name": "stdout",
     "output_type": "stream",
     "text": [
      "[7, 5, 14, 3]\n",
      "7.25\n"
     ]
    }
   ],
   "source": [
    "#WAP to generate 4 random numbers in the range 0-26 and print their average\n",
    "import random\n",
    "def avrg(seq):\n",
    "    return sum(seq)/len(seq)\n",
    "a=[]\n",
    "for i in random.sample(range(0,27),4):\n",
    "    a.append(i)\n",
    "print(a)\n",
    "\n",
    "average = avrg(a)\n",
    "print(average)\n",
    "\n"
   ]
  },
  {
   "cell_type": "code",
   "execution_count": 80,
   "metadata": {},
   "outputs": [
    {
     "name": "stdout",
     "output_type": "stream",
     "text": [
      "y\n",
      "121\n"
     ]
    }
   ],
   "source": [
    "#3. WAP to generate and print a random uppercase or lowercase alphabet. Try these:\n",
    "#• Create a string containing all alphabets and then select a random alphabet.\n",
    "#• Check the module string \n",
    "\n",
    "def random_alpha(i):\n",
    "    if i in range(65,91):\n",
    "        alpha = chr(i)\n",
    "    elif i in range(97,123):\n",
    "        alpha = chr(i)\n",
    "        print(alpha)\n",
    "a=random.randint(65,123)\n",
    "random_alpha(a)\n",
    "print(a)\n",
    "\n",
    "def string():\n",
    "    \n",
    "        \n",
    "        "
   ]
  },
  {
   "cell_type": "code",
   "execution_count": 82,
   "metadata": {},
   "outputs": [
    {
     "name": "stdout",
     "output_type": "stream",
     "text": [
      "Enter the principal amount in Rs. :250000\n",
      "Enter rate in percentage per annum :2.5\n",
      "Enter the time in years: 2.5\n",
      "15625.0\n"
     ]
    }
   ],
   "source": [
    "#WAF get_si() that takes Principle, Rate and Time as arguments and returns the Simple\n",
    "#Interest.\n",
    "\n",
    "def get_si(p,r,t):\n",
    "    return p*r*t/100\n",
    "\n",
    "principal = float(input(\"Enter the principal amount in Rs. :\"))\n",
    "rate = float(input(\"Enter rate in percentage per annum :\"))\n",
    "time = float(input(\"Enter the time in years: \"))\n",
    "si = get_si(principal,rate,time)\n",
    "print(si)\n",
    "    "
   ]
  },
  {
   "cell_type": "code",
   "execution_count": 89,
   "metadata": {},
   "outputs": [
    {
     "name": "stdout",
     "output_type": "stream",
     "text": [
      "Enter the principal amount in Rs. :2000\n",
      "Enter rate in percentage per annum :20\n",
      "Enter the time in years: 2\n",
      "principal:= 2000.0\n",
      "rate - : 20.0\n",
      "time - : 2.0\n",
      "2800.0\n"
     ]
    }
   ],
   "source": [
    "#WAF get_amount() that takes Principle, Rate and Time as arguments and returns the\n",
    "#Total amount using the get_si() function from above to calculate the SI. Also provide\n",
    "#Rate = 10 and Time = 1 as default arguments.\n",
    "def amount(p,r=10,t=1):\n",
    "    print(\"principal:=\",p)\n",
    "    print(\"rate - :\",r)\n",
    "    print(\"time - :\",t)\n",
    "    return get_si(p,r,t)+p\n",
    "    \n",
    "principal = float(input(\"Enter the principal amount in Rs. :\"))\n",
    "rate = float(input(\"Enter rate in percentage per annum :\"))\n",
    "time = float(input(\"Enter the time in years: \"))\n",
    "    \n",
    "print(amount(principal,rate,time))"
   ]
  },
  {
   "cell_type": "code",
   "execution_count": 93,
   "metadata": {},
   "outputs": [
    {
     "name": "stdout",
     "output_type": "stream",
     "text": [
      "Enter the first number: 32\n",
      "Enter the second number: 3\n",
      "The quotient and remainder for the numbers are :  (10.666666666666666, 2) <class 'tuple'>\n"
     ]
    }
   ],
   "source": [
    "#7. WAP get_q_r() taking 2 numbers as parameters and returns the quotient and\n",
    "#remainder in the form of a tuple\n",
    "\n",
    "def get_q_r(num1,num2):\n",
    "    return num1/num2,num1%num2\n",
    "\n",
    "a=int(input(\"Enter the first number: \"))\n",
    "b=int(input(\"Enter the second number: \"))\n",
    "r=get_q_r(a,b)\n",
    "print(\"The quotient and remainder for the numbers are : \",r,type(r))"
   ]
  },
  {
   "cell_type": "code",
   "execution_count": 95,
   "metadata": {},
   "outputs": [
    {
     "name": "stdout",
     "output_type": "stream",
     "text": [
      "Enter the base of triangle: 2\n",
      "Enter the height of triangle: 3\n",
      "3.605551275463989\n"
     ]
    }
   ],
   "source": [
    "#8.WAP to find the length of hypotenuse of a right angled triangle, input the height and\n",
    "#base from user.\n",
    "import math\n",
    "def hypotenuse(b,h):\n",
    "    return math.sqrt(pow(b,2)+pow(h,2))\n",
    "\n",
    "b = float(input(\"Enter the base of triangle: \"))\n",
    "h = float(input(\"Enter the height of triangle: \"))\n",
    "\n",
    "print(hypotenuse(b,h))\n",
    "\n",
    "    "
   ]
  },
  {
   "cell_type": "code",
   "execution_count": 96,
   "metadata": {},
   "outputs": [
    {
     "ename": "NameError",
     "evalue": "name 'python' is not defined",
     "output_type": "error",
     "traceback": [
      "\u001b[1;31m---------------------------------------------------------------------------\u001b[0m",
      "\u001b[1;31mNameError\u001b[0m                                 Traceback (most recent call last)",
      "\u001b[1;32m<ipython-input-96-a4637bbefc43>\u001b[0m in \u001b[0;36m<module>\u001b[1;34m\u001b[0m\n\u001b[1;32m----> 1\u001b[1;33m \u001b[0mpython\u001b[0m \u001b[1;33m-\u001b[0m\u001b[1;33m-\u001b[0m\u001b[0mversion\u001b[0m\u001b[1;33m\u001b[0m\u001b[1;33m\u001b[0m\u001b[0m\n\u001b[0m",
      "\u001b[1;31mNameError\u001b[0m: name 'python' is not defined"
     ]
    }
   ],
   "source": [
    "#10. Check your version of python interpreter without opening the interpreter (Which\n",
    "#command needs to be used on the command line).\n",
    "#python --version"
   ]
  },
  {
   "cell_type": "code",
   "execution_count": 97,
   "metadata": {},
   "outputs": [
    {
     "name": "stdout",
     "output_type": "stream",
     "text": [
      "2 -2\n"
     ]
    }
   ],
   "source": [
    "x=2\n",
    "x *= 3\n",
    "x = x%4\n",
    "y=-x\n",
    "print(x,y)"
   ]
  },
  {
   "cell_type": "code",
   "execution_count": 98,
   "metadata": {},
   "outputs": [
    {
     "name": "stdout",
     "output_type": "stream",
     "text": [
      "None\n"
     ]
    }
   ],
   "source": [
    "def funct():\n",
    "    pass\n",
    "\n",
    "print(funct())"
   ]
  },
  {
   "cell_type": "code",
   "execution_count": null,
   "metadata": {},
   "outputs": [],
   "source": []
  }
 ],
 "metadata": {
  "kernelspec": {
   "display_name": "Python 3",
   "language": "python",
   "name": "python3"
  },
  "language_info": {
   "codemirror_mode": {
    "name": "ipython",
    "version": 3
   },
   "file_extension": ".py",
   "mimetype": "text/x-python",
   "name": "python",
   "nbconvert_exporter": "python",
   "pygments_lexer": "ipython3",
   "version": "3.8.3"
  }
 },
 "nbformat": 4,
 "nbformat_minor": 4
}
