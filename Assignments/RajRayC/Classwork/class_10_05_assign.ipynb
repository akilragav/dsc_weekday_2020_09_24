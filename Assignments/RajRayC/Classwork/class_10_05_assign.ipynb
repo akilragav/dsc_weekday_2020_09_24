{
 "cells": [
  {
   "cell_type": "code",
   "execution_count": 7,
   "metadata": {},
   "outputs": [
    {
     "name": "stdout",
     "output_type": "stream",
     "text": [
      "[130, 183, 139, 145, 152]\n"
     ]
    }
   ],
   "source": [
    "import random\n",
    "n=5\n",
    "i=1\n",
    "res=[]\n",
    "while i<=5:\n",
    "    r=random.randint(100,200)\n",
    "    res.append(r)\n",
    "    i+=1\n",
    "    #return res\n",
    "print(res)"
   ]
  },
  {
   "cell_type": "code",
   "execution_count": null,
   "metadata": {},
   "outputs": [],
   "source": [
    "s=input(\"Enter a string: \")\n",
    "sum=0\n",
    "for i in s:\n",
    "    print(i)"
   ]
  },
  {
   "cell_type": "code",
   "execution_count": 6,
   "metadata": {},
   "outputs": [
    {
     "name": "stdout",
     "output_type": "stream",
     "text": [
      "Enter a string: 5\n",
      "53\n"
     ]
    }
   ],
   "source": [
    "s=input(\"Enter a string: \")\n",
    "sum=0\n",
    "for i in s:\n",
    "    sum+=ord(i)\n",
    "print(sum)"
   ]
  },
  {
   "cell_type": "code",
   "execution_count": 13,
   "metadata": {},
   "outputs": [
    {
     "name": "stdout",
     "output_type": "stream",
     "text": [
      "[0, 3, 5]\n",
      "[]\n"
     ]
    }
   ],
   "source": [
    "\n",
    "# WAF find(seq, val). Returns all positions of val inside seq as  a list of indexes\n",
    "# if nothingg is found, return empty list\n",
    "def find(seq, val):\n",
    "    res = []\n",
    "    i  = 0\n",
    "    while i < len(seq):\n",
    "        if  seq[i] == val:\n",
    "            res.append(i)\n",
    "        i  += 1\n",
    "        \n",
    "    return res\n",
    "\n",
    "r  = find([10,20,44,10,20,10], 10)\n",
    "print(r)\n",
    "\n",
    "r  = find([10,20,44,10,20,10], 100)\n",
    "print(r)\n"
   ]
  },
  {
   "cell_type": "code",
   "execution_count": 16,
   "metadata": {},
   "outputs": [
    {
     "name": "stdout",
     "output_type": "stream",
     "text": [
      "[0, 3, 5]\n",
      "[]\n"
     ]
    }
   ],
   "source": [
    "\n",
    "def find(seq, val):\n",
    "    res = []\n",
    "    #i  = 0\n",
    "    for i in range(len(seq)):\n",
    "        if  seq[i] == val:\n",
    "            res.append(i)\n",
    "        #i  += 1\n",
    "        \n",
    "    return res\n",
    "\n",
    "r  = find([10,20,44,10,20,10], 10)\n",
    "print(r)\n",
    "\n",
    "r  = find([10,20,44,10,20,10], 100)\n",
    "print(r)"
   ]
  },
  {
   "cell_type": "code",
   "execution_count": 17,
   "metadata": {},
   "outputs": [
    {
     "name": "stdout",
     "output_type": "stream",
     "text": [
      "1000000000000000 <class 'int'>\n"
     ]
    }
   ],
   "source": [
    "universe_age=10_000_000_000_000_000_0000\n",
    "print(universe_age,type(universe_age))"
   ]
  },
  {
   "cell_type": "code",
   "execution_count": 19,
   "metadata": {},
   "outputs": [
    {
     "name": "stdout",
     "output_type": "stream",
     "text": [
      "8\n",
      "8\n",
      "8\n",
      "8\n"
     ]
    }
   ],
   "source": [
    "print(2+6)\n",
    "print(10-2)\n",
    "print(2*4)\n",
    "print(16//2)"
   ]
  },
  {
   "cell_type": "code",
   "execution_count": 20,
   "metadata": {},
   "outputs": [
    {
     "name": "stdout",
     "output_type": "stream",
     "text": [
      "My favourite number is:8\n"
     ]
    }
   ],
   "source": [
    "fav=8\n",
    "print(f\"My favourite number is:{fav}\")"
   ]
  },
  {
   "cell_type": "code",
   "execution_count": null,
   "metadata": {},
   "outputs": [],
   "source": []
  },
  {
   "cell_type": "code",
   "execution_count": null,
   "metadata": {},
   "outputs": [],
   "source": []
  },
  {
   "cell_type": "code",
   "execution_count": null,
   "metadata": {},
   "outputs": [],
   "source": []
  },
  {
   "cell_type": "code",
   "execution_count": null,
   "metadata": {},
   "outputs": [],
   "source": []
  },
  {
   "cell_type": "code",
   "execution_count": null,
   "metadata": {},
   "outputs": [],
   "source": []
  },
  {
   "cell_type": "code",
   "execution_count": null,
   "metadata": {},
   "outputs": [],
   "source": []
  }
 ],
 "metadata": {
  "kernelspec": {
   "display_name": "Python 3",
   "language": "python",
   "name": "python3"
  },
  "language_info": {
   "codemirror_mode": {
    "name": "ipython",
    "version": 3
   },
   "file_extension": ".py",
   "mimetype": "text/x-python",
   "name": "python",
   "nbconvert_exporter": "python",
   "pygments_lexer": "ipython3",
   "version": "3.8.3"
  }
 },
 "nbformat": 4,
 "nbformat_minor": 4
}
