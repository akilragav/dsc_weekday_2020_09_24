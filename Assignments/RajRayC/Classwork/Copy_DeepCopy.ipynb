{
 "cells": [
  {
   "cell_type": "code",
   "execution_count": 1,
   "metadata": {},
   "outputs": [
    {
     "name": "stdout",
     "output_type": "stream",
     "text": [
      "Enter y to exit:y\n"
     ]
    }
   ],
   "source": [
    "while True:\n",
    "    i = input(\"Enter y to exit:\")\n",
    "    if i == 'y' or i == \"Y\":\n",
    "        break\n",
    "    print(\"Input: \", i)\n"
   ]
  },
  {
   "cell_type": "code",
   "execution_count": null,
   "metadata": {},
   "outputs": [],
   "source": [
    "for True:\n",
    "    i = input(\"Enter y to exit:\")\n",
    "    if i == 'y' or i == \"Y\":\n",
    "        break\n",
    "    print(\"Input: \", i)"
   ]
  },
  {
   "cell_type": "code",
   "execution_count": 1,
   "metadata": {},
   "outputs": [
    {
     "name": "stdout",
     "output_type": "stream",
     "text": [
      "only one arg\n"
     ]
    }
   ],
   "source": [
    "import sys\n",
    "if(len(sys.argv)== 1):\n",
    "        print(\"give a number\")\n",
    "else:\n",
    "        if(len(sys.argv) > 2):\n",
    "                print (\"only one arg\")\n",
    "        else:\n",
    "                print(int(sys.argv[1])**2)"
   ]
  },
  {
   "cell_type": "code",
   "execution_count": 2,
   "metadata": {},
   "outputs": [
    {
     "name": "stdout",
     "output_type": "stream",
     "text": [
      "['Error', '__all__', '__builtins__', '__cached__', '__doc__', '__file__', '__loader__', '__name__', '__package__', '__spec__', '_copy_dispatch', '_copy_immutable', '_deepcopy_atomic', '_deepcopy_dict', '_deepcopy_dispatch', '_deepcopy_list', '_deepcopy_method', '_deepcopy_tuple', '_keep_alive', '_reconstruct', 'copy', 'deepcopy', 'dispatch_table', 'error']\n"
     ]
    }
   ],
   "source": [
    "import copy\n",
    "print(dir(copy))\n",
    "a = [1,2,3,[11,22]]\n",
    "#b = copy.deepcopy(a)\n",
    "# b.append(4)\n",
    "# b[3].append(33)\n",
    "# print(a)\n",
    "# print(b)"
   ]
  },
  {
   "cell_type": "code",
   "execution_count": 8,
   "metadata": {},
   "outputs": [
    {
     "name": "stdout",
     "output_type": "stream",
     "text": [
      "[1, 2, 3, [5, 7]]\n",
      "[1, 2, 3, [5, 9]]\n",
      "[1, 2, 3, [5, 9]]\n",
      "[1, 2, 3, [5, 11]]\n",
      "[1, 2, 3, [5, 9]]\n"
     ]
    }
   ],
   "source": [
    "import copy\n",
    "#print(dir(copy))\n",
    "a=[1,2,3,[5,7]]\n",
    "b=a.copy()\n",
    "print(b)\n",
    "b[3][1]=9\n",
    "print(b)\n",
    "print(a)\n",
    "c=copy.deepcopy(a)\n",
    "c[3][1]=11\n",
    "print(c)\n",
    "print(a)"
   ]
  },
  {
   "cell_type": "code",
   "execution_count": null,
   "metadata": {},
   "outputs": [],
   "source": []
  },
  {
   "cell_type": "code",
   "execution_count": null,
   "metadata": {},
   "outputs": [],
   "source": []
  },
  {
   "cell_type": "code",
   "execution_count": null,
   "metadata": {},
   "outputs": [],
   "source": []
  }
 ],
 "metadata": {
  "kernelspec": {
   "display_name": "Python 3",
   "language": "python",
   "name": "python3"
  },
  "language_info": {
   "codemirror_mode": {
    "name": "ipython",
    "version": 3
   },
   "file_extension": ".py",
   "mimetype": "text/x-python",
   "name": "python",
   "nbconvert_exporter": "python",
   "pygments_lexer": "ipython3",
   "version": "3.8.3"
  }
 },
 "nbformat": 4,
 "nbformat_minor": 4
}
