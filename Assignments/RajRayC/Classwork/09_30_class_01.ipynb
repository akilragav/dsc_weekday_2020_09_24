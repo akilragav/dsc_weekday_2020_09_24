{
 "cells": [
  {
   "cell_type": "code",
   "execution_count": 2,
   "metadata": {},
   "outputs": [
    {
     "name": "stdout",
     "output_type": "stream",
     "text": [
      "Enter a string:abc\n",
      "97\n",
      "99\n"
     ]
    }
   ],
   "source": [
    "s=input(\"Enter a string:\")\n",
    "print(ord(s[0]))\n",
    "print(ord(s[-1]))"
   ]
  },
  {
   "cell_type": "code",
   "execution_count": 4,
   "metadata": {},
   "outputs": [
    {
     "name": "stdout",
     "output_type": "stream",
     "text": [
      "Enter a number:5\n",
      "5\n"
     ]
    }
   ],
   "source": [
    "n=input(\"Enter a number:\")\n",
    "if len(n)>0 and n.isnumeric():\n",
    "    print(n)\n",
    "else:\n",
    "    n=0\n",
    "    print(n)"
   ]
  },
  {
   "cell_type": "code",
   "execution_count": 10,
   "metadata": {},
   "outputs": [
    {
     "name": "stdout",
     "output_type": "stream",
     "text": [
      "Enter first number:dgdfg\n",
      "Enter second number:5\n",
      "Please enter numbers only!\n"
     ]
    }
   ],
   "source": [
    "a=input(\"Enter first number:\")\n",
    "b=input(\"Enter second number:\")\n",
    "if len(a)>0 and a.isnumeric() and len(b)>0 and b.isnumeric():\n",
    "    if(a>b):\n",
    "        print(f\"{a} is greater than {b}\")\n",
    "    elif(a==b):\n",
    "        print(f\"{a} and {b} are equal\")\n",
    "    elif(b>a):\n",
    "        print(f\"{b} is greater than {a}\")\n",
    "        \n",
    "else:\n",
    "    print(\"Please enter numbers only!\")"
   ]
  },
  {
   "cell_type": "code",
   "execution_count": 14,
   "metadata": {},
   "outputs": [
    {
     "name": "stdout",
     "output_type": "stream",
     "text": [
      "Help on method_descriptor:\n",
      "\n",
      "find(...)\n",
      "    S.find(sub[, start[, end]]) -> int\n",
      "    \n",
      "    Return the lowest index in S where substring sub is found,\n",
      "    such that sub is contained within S[start:end].  Optional\n",
      "    arguments start and end are interpreted as in slice notation.\n",
      "    \n",
      "    Return -1 on failure.\n",
      "\n"
     ]
    }
   ],
   "source": [
    "help(str.find)"
   ]
  },
  {
   "cell_type": "code",
   "execution_count": null,
   "metadata": {},
   "outputs": [],
   "source": [
    "n  = int(input())\n",
    "i = 1\n",
    "s = 0\n",
    "while i <=n:\n",
    "    s += i\n",
    "    i+=1\n",
    "print(s)"
   ]
  },
  {
   "cell_type": "code",
   "execution_count": null,
   "metadata": {},
   "outputs": [],
   "source": [
    "# WAP to input 2 numbers: base, exp\n",
    "# print base ^ exp without using ** or pow  function"
   ]
  },
  {
   "cell_type": "code",
   "execution_count": 5,
   "metadata": {},
   "outputs": [
    {
     "name": "stdout",
     "output_type": "stream",
     "text": [
      "2\n",
      "2\n",
      "4\n"
     ]
    }
   ],
   "source": [
    "base  = int(input())\n",
    "exp = int(input())\n",
    "i = 1\n",
    "res = 1\n",
    "while i <=exp:\n",
    "    res = res*base\n",
    "    i+=1\n",
    "print(res)"
   ]
  },
  {
   "cell_type": "code",
   "execution_count": 3,
   "metadata": {},
   "outputs": [
    {
     "name": "stdout",
     "output_type": "stream",
     "text": [
      "Enter base:5\n",
      "Enter exp:2\n",
      "25\n"
     ]
    }
   ],
   "source": [
    "\n",
    "# pow\n",
    "base=int(input('Enter base:'))\n",
    "exp=int(input('Enter exp:'))\n",
    "i=1\n",
    "res=1\n",
    "while i<=exp:\n",
    "    res=res*base\n",
    "    i+=1\n",
    "print(res)"
   ]
  },
  {
   "cell_type": "code",
   "execution_count": null,
   "metadata": {},
   "outputs": [],
   "source": []
  },
  {
   "cell_type": "code",
   "execution_count": null,
   "metadata": {},
   "outputs": [],
   "source": []
  },
  {
   "cell_type": "code",
   "execution_count": null,
   "metadata": {},
   "outputs": [],
   "source": []
  }
 ],
 "metadata": {
  "kernelspec": {
   "display_name": "Python 3",
   "language": "python",
   "name": "python3"
  },
  "language_info": {
   "codemirror_mode": {
    "name": "ipython",
    "version": 3
   },
   "file_extension": ".py",
   "mimetype": "text/x-python",
   "name": "python",
   "nbconvert_exporter": "python",
   "pygments_lexer": "ipython3",
   "version": "3.8.3"
  }
 },
 "nbformat": 4,
 "nbformat_minor": 4
}
