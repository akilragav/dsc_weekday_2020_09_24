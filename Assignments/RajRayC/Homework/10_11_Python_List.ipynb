{
 "cells": [
  {
   "cell_type": "code",
   "execution_count": 1,
   "metadata": {},
   "outputs": [
    {
     "name": "stdout",
     "output_type": "stream",
     "text": [
      "Enter a string:akjahdjashd\n",
      "a\n",
      "k\n",
      "j\n",
      "a\n",
      "h\n",
      "d\n",
      "j\n",
      "a\n",
      "s\n",
      "h\n",
      "d\n"
     ]
    }
   ],
   "source": [
    "#1\n",
    "s=input(\"Enter a string:\")\n",
    "for char in s:\n",
    "    print(char)"
   ]
  },
  {
   "cell_type": "code",
   "execution_count": 2,
   "metadata": {},
   "outputs": [
    {
     "name": "stdout",
     "output_type": "stream",
     "text": [
      "Enter a string:sjhhgajsgd\n",
      "115\n",
      "106\n",
      "104\n",
      "104\n",
      "103\n",
      "97\n",
      "106\n",
      "115\n",
      "103\n",
      "100\n"
     ]
    }
   ],
   "source": [
    "#2\n",
    "s=input(\"Enter a string:\")\n",
    "for ascval in s:\n",
    "    print(ord(ascval))"
   ]
  },
  {
   "cell_type": "code",
   "execution_count": 29,
   "metadata": {},
   "outputs": [
    {
     "name": "stdout",
     "output_type": "stream",
     "text": [
      "Enter the range for which sum needed:5\n",
      "Enter element 0\n",
      "1\n",
      "Enter element 1\n",
      "2\n",
      "Enter element 2\n",
      "3\n",
      "Enter element 3\n",
      "4\n",
      "Enter element 4\n",
      "5\n",
      "Sum of odd numbers are: 9\n"
     ]
    }
   ],
   "source": [
    "def sum_of_odd(numbers):\n",
    "    odd_nums=[]\n",
    "    sum_onum=0\n",
    "    for num in numbers:\n",
    "        if num%2!=0:\n",
    "            odd_nums.append(num)\n",
    "    #print(odd_nums)\n",
    "    for onum in range(0,len(odd_nums)):\n",
    "        sum_onum=sum_onum+odd_nums[onum]\n",
    "    return sum_onum\n",
    "\n",
    "n=input(\"Enter the range for which sum needed:\")\n",
    "n=int(n)\n",
    "nums=[]\n",
    "for i in range(0,n):\n",
    "    print(f\"Enter element {i}\")\n",
    "    ele=int(input())\n",
    "    nums.append(ele)\n",
    "sum_odd=sum_of_odd(nums)\n",
    "print(f\"Sum of odd numbers are: {sum_odd}\")"
   ]
  },
  {
   "cell_type": "code",
   "execution_count": 43,
   "metadata": {},
   "outputs": [
    {
     "name": "stdout",
     "output_type": "stream",
     "text": [
      "Enter the range for which sum needed:3\n",
      "Enter element 0\n",
      "4\n",
      "Enter element 1\n",
      "8\n",
      "Enter element 2\n",
      "12\n",
      "(4, 8, 2)\n"
     ]
    }
   ],
   "source": [
    "n=input(\"Enter the range for which sum needed:\")\n",
    "n=int(n)\n",
    "nums=[]\n",
    "for i in range(0,n):\n",
    "    print(f\"Enter element {i}\")\n",
    "    ele=int(input())\n",
    "    nums.append(ele)\n",
    "value=nums[-1]\n",
    "#print(value)\n",
    "index_value=nums.index(value)\n",
    "nums.pop()\n",
    "nums.append(index_value)\n",
    "num_tup=tuple(nums)\n",
    "print(num_tup)"
   ]
  },
  {
   "cell_type": "code",
   "execution_count": 76,
   "metadata": {},
   "outputs": [
    {
     "name": "stdout",
     "output_type": "stream",
     "text": [
      "[5, 10, 7, 3, 2, 3, 1, 10, 1, 2]\n",
      "\n",
      "\n",
      "44\n",
      "4.4\n",
      "5\n",
      "7\n",
      "2\n",
      "1\n",
      "1\n"
     ]
    }
   ],
   "source": [
    "import random\n",
    "rand_list=[]\n",
    "for i in range(0,10):\n",
    "    ele=random.randint(1,10)\n",
    "    rand_list.append(ele)\n",
    "print(rand_list)\n",
    "print('\\n')\n",
    "print(sum(rand_list))\n",
    "print(sum(rand_list)/len(rand_list))\n",
    "for j in range(0,len(rand_list)):\n",
    "    if j%2==0:\n",
    "        x=rand_list[j]\n",
    "        print(x)#Print number at even indexes"
   ]
  },
  {
   "cell_type": "code",
   "execution_count": 78,
   "metadata": {},
   "outputs": [
    {
     "name": "stdout",
     "output_type": "stream",
     "text": [
      "4\n",
      "45\n",
      "4\n",
      "1\n",
      "5\n",
      "8\n",
      "5\n",
      "5\n",
      "5\n",
      "4\n",
      "[4, 45, 4, 1, 5, 8, 5, 5, 5, 4]\n",
      "86\n"
     ]
    }
   ],
   "source": [
    "num=[]\n",
    "i=0\n",
    "for i in range(0,10):\n",
    "    ele=int(input())\n",
    "    num.append(ele)\n",
    "print(num)\n",
    "print(sum(num))"
   ]
  },
  {
   "cell_type": "code",
   "execution_count": 90,
   "metadata": {},
   "outputs": [
    {
     "name": "stdout",
     "output_type": "stream",
     "text": [
      "8\n"
     ]
    }
   ],
   "source": [
    "s='abcdefg hijk lmnop      '\n",
    "lst_check=[]\n",
    "for i in s:\n",
    "    c=i.find(' ')\n",
    "    if(c==0):\n",
    "        x=c+1\n",
    "        lst_check.append(x)\n",
    "print(sum(lst_check))"
   ]
  },
  {
   "cell_type": "code",
   "execution_count": 99,
   "metadata": {},
   "outputs": [
    {
     "name": "stdout",
     "output_type": "stream",
     "text": [
      "Enter a string: abcdefg\n",
      "2\n"
     ]
    }
   ],
   "source": [
    "vow_test=input(\"Enter a string: \")\n",
    "x=0\n",
    "vow_test=vow_test.lower()\n",
    "for chartr in vow_test:\n",
    "    if chartr == 'a' or chartr == 'e' or chartr == 'i' or chartr=='o' or chartr == 'u':\n",
    "        x+=1\n",
    "print(x)"
   ]
  },
  {
   "cell_type": "code",
   "execution_count": 116,
   "metadata": {},
   "outputs": [
    {
     "name": "stdout",
     "output_type": "stream",
     "text": [
      "Enter a string: sasdasd\n",
      "['s', 'a', 's', 'd', 'a', 's', 'd']\n",
      "['s', '_', 's', 'd', '_', 's', 'd']\n",
      "s_sd_sd\n"
     ]
    }
   ],
   "source": [
    "vow_test=input(\"Enter a string: \")\n",
    "x=0\n",
    "vow_test=vow_test.lower()\n",
    "vow_lst=list(vow_test)\n",
    "print(vow_lst)\n",
    "for n,item in enumerate(vow_lst):\n",
    "    if item == 'a' or item == 'e' or item == 'i' or item=='o' or item == 'u':\n",
    "        vow_lst[n]='_'\n",
    "print(vow_lst)\n",
    "t=''.join(vow_lst)\n",
    "print(t)"
   ]
  },
  {
   "cell_type": "code",
   "execution_count": null,
   "metadata": {},
   "outputs": [],
   "source": []
  },
  {
   "cell_type": "code",
   "execution_count": null,
   "metadata": {},
   "outputs": [],
   "source": []
  },
  {
   "cell_type": "code",
   "execution_count": null,
   "metadata": {},
   "outputs": [],
   "source": []
  },
  {
   "cell_type": "code",
   "execution_count": null,
   "metadata": {},
   "outputs": [],
   "source": []
  }
 ],
 "metadata": {
  "kernelspec": {
   "display_name": "Python 3",
   "language": "python",
   "name": "python3"
  },
  "language_info": {
   "codemirror_mode": {
    "name": "ipython",
    "version": 3
   },
   "file_extension": ".py",
   "mimetype": "text/x-python",
   "name": "python",
   "nbconvert_exporter": "python",
   "pygments_lexer": "ipython3",
   "version": "3.8.3"
  }
 },
 "nbformat": 4,
 "nbformat_minor": 4
}
