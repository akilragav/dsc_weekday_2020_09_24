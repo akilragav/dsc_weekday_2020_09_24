{
 "cells": [
  {
   "cell_type": "code",
   "execution_count": 25,
   "metadata": {},
   "outputs": [
    {
     "name": "stdout",
     "output_type": "stream",
     "text": [
      "Enter temparature in Farenheit: 100\n",
      "Temparataure in Celcius is: 37.77777777777778\n"
     ]
    }
   ],
   "source": [
    "#Cel and F\n",
    "f=input(\"Enter temparature in Farenheit: \").strip()\n",
    "if f.isnumeric():\n",
    "    f=int(f)\n",
    "    c=(f-32)*5/9\n",
    "    print(f\"Temparataure in Celcius is: {c}\")\n",
    "    #print(type(c))\n",
    "else:\n",
    "    print(\"Enter whoe/le numbers please!\")"
   ]
  },
  {
   "cell_type": "code",
   "execution_count": 15,
   "metadata": {},
   "outputs": [
    {
     "name": "stdout",
     "output_type": "stream",
     "text": [
      "Help on built-in function pow in module math:\n",
      "\n",
      "pow(x, y, /)\n",
      "    Return x**y (x to the power of y).\n",
      "\n"
     ]
    }
   ],
   "source": [
    "import math\n",
    "help(math.pow)"
   ]
  },
  {
   "cell_type": "code",
   "execution_count": 26,
   "metadata": {},
   "outputs": [
    {
     "name": "stdout",
     "output_type": "stream",
     "text": [
      "Enter a number:5\n",
      "25\n",
      "125\n"
     ]
    }
   ],
   "source": [
    "import math\n",
    "n=input(\"Enter a number:\").strip()\n",
    "if n.isnumeric():\n",
    "    n=int(n)\n",
    "    nsqr=n**2\n",
    "    ncube=n**3\n",
    "    print(nsqr)\n",
    "    print(ncube)"
   ]
  },
  {
   "cell_type": "code",
   "execution_count": 37,
   "metadata": {},
   "outputs": [
    {
     "name": "stdout",
     "output_type": "stream",
     "text": [
      "Enter first number: 5\n",
      "Enter second number: 6\n",
      "61\n"
     ]
    }
   ],
   "source": [
    "n=input(\"Enter first number: \").strip()\n",
    "m=input(\"Enter second number: \").strip()\n",
    "if n.isnumeric() and m.isnumeric():\n",
    "    n=int(n)\n",
    "    m=int(m)\n",
    "    p=m**2+n**2\n",
    "    print(p)"
   ]
  },
  {
   "cell_type": "code",
   "execution_count": 38,
   "metadata": {},
   "outputs": [
    {
     "name": "stdout",
     "output_type": "stream",
     "text": [
      "Enter first number: 2\n",
      "Enter second number: 2\n",
      "4\n",
      "4\n"
     ]
    }
   ],
   "source": [
    "import math\n",
    "n=input(\"Enter first number: \").strip()\n",
    "m=input(\"Enter second number: \").strip()\n",
    "if n.isnumeric() and m.isnumeric():\n",
    "    n=int(n)\n",
    "    m=int(m)\n",
    "    p=m**n\n",
    "    q=pow(m,n)\n",
    "    print(p)\n",
    "    print(q)"
   ]
  },
  {
   "cell_type": "code",
   "execution_count": 32,
   "metadata": {},
   "outputs": [
    {
     "name": "stdout",
     "output_type": "stream",
     "text": [
      "Enter principal amount: 500\n",
      "Enter rate of interest: 6\n",
      "Enter time taken: 1\n",
      "Simple interest is:30.0\n"
     ]
    }
   ],
   "source": [
    "p=input(\"Enter principal amount: \").strip()\n",
    "r=input(\"Enter rate of interest: \").strip()\n",
    "t=input(\"Enter years taken: \").strip()\n",
    "if p.isnumeric() and r.isnumeric() and t.isnumeric():\n",
    "    p=int(p)\n",
    "    r=int(r)\n",
    "    t=int(t)\n",
    "    si=(p*r*t)/100\n",
    "    print(f\"Simple interest is:{si}\")"
   ]
  },
  {
   "cell_type": "code",
   "execution_count": 36,
   "metadata": {},
   "outputs": [
    {
     "name": "stdout",
     "output_type": "stream",
     "text": [
      "Enter principal amount: 100\n",
      "Enter rate of interest: 10\n",
      "Enter years taken: 1\n",
      "Compound interest is:10.000000000000014\n",
      "Compound interest is:110.00000000000001\n"
     ]
    }
   ],
   "source": [
    "p=input(\"Enter principal amount: \").strip()\n",
    "r=input(\"Enter rate of interest: \").strip()\n",
    "t=input(\"Enter years taken: \").strip()\n",
    "if p.isnumeric() and r.isnumeric() and t.isnumeric():\n",
    "    p=int(p)\n",
    "    r=int(r)\n",
    "    t=int(t)\n",
    "    ci=p*(1+r/100)**t-p\n",
    "    amnt=p+ci\n",
    "    print(f\"Compound interest is:{ci}\")\n",
    "    print(f\"Total amount is:{amnt}\")"
   ]
  },
  {
   "cell_type": "code",
   "execution_count": 42,
   "metadata": {},
   "outputs": [
    {
     "name": "stdout",
     "output_type": "stream",
     "text": [
      "Enter value n to get sum of n natural numbers:5\n",
      "Sum of n natural numbers:15.0\n"
     ]
    }
   ],
   "source": [
    "n=input(\"Enter value n to get sum of n natural numbers:\").strip()\n",
    "if n.isnumeric():\n",
    "    n=int(n)\n",
    "    s=n*(n+1)/2\n",
    "    print(f\"Sum of n natural numbers:{s}\")"
   ]
  },
  {
   "cell_type": "code",
   "execution_count": 45,
   "metadata": {},
   "outputs": [
    {
     "name": "stdout",
     "output_type": "stream",
     "text": [
      "Enter first number: 5\n",
      "Enter second number: 6\n",
      "Values before swap: 5,6\n",
      "Values after swap:6,5\n"
     ]
    }
   ],
   "source": [
    "a=input(\"Enter first number: \").strip()\n",
    "b=input(\"Enter second number: \").strip()\n",
    "print(f\"Values before swap: {a},{b}\")\n",
    "c=a\n",
    "a=b\n",
    "b=c\n",
    "print(f\"Values after swap:{a},{b}\")"
   ]
  },
  {
   "cell_type": "code",
   "execution_count": 47,
   "metadata": {},
   "outputs": [
    {
     "name": "stdout",
     "output_type": "stream",
     "text": [
      "Enter first number: 5\n",
      "Enter second number: 6\n",
      "Values before swap: 5,6\n",
      "Values after swap:6,5\n"
     ]
    }
   ],
   "source": [
    "a=input(\"Enter first number: \").strip()\n",
    "b=input(\"Enter second number: \").strip()\n",
    "if a.isnumeric() and b.isnumeric():\n",
    "    a=int(a)\n",
    "    b=int(b)\n",
    "print(f\"Values before swap: {a},{b}\")\n",
    "a=a+b\n",
    "b=a-b\n",
    "a=a-b\n",
    "print(f\"Values after swap:{a},{b}\")"
   ]
  },
  {
   "cell_type": "code",
   "execution_count": 50,
   "metadata": {},
   "outputs": [
    {
     "name": "stdout",
     "output_type": "stream",
     "text": [
      "32\n"
     ]
    }
   ],
   "source": [
    "s=' '\n",
    "ascv=ord(s)\n",
    "print(ascv)"
   ]
  },
  {
   "cell_type": "code",
   "execution_count": 56,
   "metadata": {},
   "outputs": [
    {
     "name": "stdout",
     "output_type": "stream",
     "text": [
      "Enter single character: abc\n",
      "97\n"
     ]
    }
   ],
   "source": [
    "s1=input('Enter single character: ').strip()\n",
    "s2=s1[0]\n",
    "ascv1=ord(s2)\n",
    "print(ascv1)"
   ]
  },
  {
   "cell_type": "code",
   "execution_count": 60,
   "metadata": {},
   "outputs": [
    {
     "name": "stdout",
     "output_type": "stream",
     "text": [
      "Enter area of a circle:25\n",
      "Radius is:2.8216632399155017\n",
      "Radius is:17.720045146669353\n"
     ]
    }
   ],
   "source": [
    "import math\n",
    "#3.14*(r)**2\n",
    "a=input(\"Enter area of a circle:\").strip()\n",
    "if a.isnumeric():\n",
    "    a=int(a)\n",
    "    PI=3.14\n",
    "    r=math.sqrt(a/PI)\n",
    "    print(f\"Radius is:{r}\")\n",
    "    c=2*PI*r\n",
    "    print(f\"Circumference is:{c}\")"
   ]
  },
  {
   "cell_type": "code",
   "execution_count": 63,
   "metadata": {},
   "outputs": [
    {
     "name": "stdout",
     "output_type": "stream",
     "text": [
      "Enter subject 1 marks: 20\n",
      "Enter subject 2 marks: 30\n",
      "Enter subject 3 marks: 40\n",
      "Enter subject 4 marks: 50\n",
      "Enter subject 5 marks: 60\n",
      "Percentage value: 40.0\n"
     ]
    }
   ],
   "source": [
    "a=input(\"Enter subject 1 marks: \").strip()\n",
    "b=input(\"Enter subject 2 marks: \").strip()\n",
    "c=input(\"Enter subject 3 marks: \").strip()\n",
    "d=input(\"Enter subject 4 marks: \").strip()\n",
    "e=input(\"Enter subject 5 marks: \").strip()\n",
    "if a.isnumeric() and b.isnumeric() and c.isnumeric() and d.isnumeric() and e.isnumeric():\n",
    "    a=int(a)\n",
    "    b=int(b)\n",
    "    c=int(c)\n",
    "    d=int(d)\n",
    "    e=int(e)\n",
    "    percentage=((a+b+c+d+e)/500)*100\n",
    "    print(f\"Percentage value: {percentage}\")"
   ]
  },
  {
   "cell_type": "code",
   "execution_count": null,
   "metadata": {},
   "outputs": [],
   "source": []
  },
  {
   "cell_type": "code",
   "execution_count": null,
   "metadata": {},
   "outputs": [],
   "source": []
  },
  {
   "cell_type": "code",
   "execution_count": null,
   "metadata": {},
   "outputs": [],
   "source": []
  },
  {
   "cell_type": "code",
   "execution_count": null,
   "metadata": {},
   "outputs": [],
   "source": []
  },
  {
   "cell_type": "code",
   "execution_count": null,
   "metadata": {},
   "outputs": [],
   "source": []
  },
  {
   "cell_type": "code",
   "execution_count": null,
   "metadata": {},
   "outputs": [],
   "source": []
  }
 ],
 "metadata": {
  "kernelspec": {
   "display_name": "Python 3",
   "language": "python",
   "name": "python3"
  },
  "language_info": {
   "codemirror_mode": {
    "name": "ipython",
    "version": 3
   },
   "file_extension": ".py",
   "mimetype": "text/x-python",
   "name": "python",
   "nbconvert_exporter": "python",
   "pygments_lexer": "ipython3",
   "version": "3.8.3"
  }
 },
 "nbformat": 4,
 "nbformat_minor": 4
}
