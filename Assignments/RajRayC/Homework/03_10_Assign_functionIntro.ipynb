{
 "cells": [
  {
   "cell_type": "code",
   "execution_count": 3,
   "metadata": {},
   "outputs": [
    {
     "name": "stdout",
     "output_type": "stream",
     "text": [
      "Enter first string: Raj\n",
      "Enter second string: RayC\n",
      "RayC Raj\n"
     ]
    }
   ],
   "source": [
    "def swap_string(a,b):\n",
    "    return b,a\n",
    "x=input(\"Enter first string: \" )\n",
    "y=input(\"Enter second string:\" )\n",
    "p,q=swap_string(x,y)\n",
    "print(p,q)"
   ]
  },
  {
   "cell_type": "code",
   "execution_count": 10,
   "metadata": {},
   "outputs": [
    {
     "name": "stdout",
     "output_type": "stream",
     "text": [
      "44.75\n"
     ]
    }
   ],
   "source": [
    "import random\n",
    "\n",
    "def avg(a,b,c,d):\n",
    "    avg_val=a+b+c+d/4\n",
    "    return avg_val\n",
    "\n",
    "p=random.randint(0,26)\n",
    "q=random.randint(0,26)\n",
    "r=random.randint(0,26)\n",
    "s=random.randint(0,26)\n",
    "\n",
    "res=avg(p,q,r,s)\n",
    "print(res)"
   ]
  },
  {
   "cell_type": "code",
   "execution_count": 15,
   "metadata": {},
   "outputs": [
    {
     "name": "stdout",
     "output_type": "stream",
     "text": [
      "['__add__', '__class__', '__contains__', '__delattr__', '__dir__', '__doc__', '__eq__', '__format__', '__ge__', '__getattribute__', '__getitem__', '__getnewargs__', '__gt__', '__hash__', '__init__', '__init_subclass__', '__iter__', '__le__', '__len__', '__lt__', '__mod__', '__mul__', '__ne__', '__new__', '__reduce__', '__reduce_ex__', '__repr__', '__rmod__', '__rmul__', '__setattr__', '__sizeof__', '__str__', '__subclasshook__', 'capitalize', 'casefold', 'center', 'count', 'encode', 'endswith', 'expandtabs', 'find', 'format', 'format_map', 'index', 'isalnum', 'isalpha', 'isascii', 'isdecimal', 'isdigit', 'isidentifier', 'islower', 'isnumeric', 'isprintable', 'isspace', 'istitle', 'isupper', 'join', 'ljust', 'lower', 'lstrip', 'maketrans', 'partition', 'replace', 'rfind', 'rindex', 'rjust', 'rpartition', 'rsplit', 'rstrip', 'split', 'splitlines', 'startswith', 'strip', 'swapcase', 'title', 'translate', 'upper', 'zfill']\n"
     ]
    }
   ],
   "source": [
    "print(dir(str))"
   ]
  },
  {
   "cell_type": "code",
   "execution_count": 1,
   "metadata": {},
   "outputs": [
    {
     "name": "stdout",
     "output_type": "stream",
     "text": [
      "S\n"
     ]
    }
   ],
   "source": [
    "import random\n",
    "import string\n",
    "\n",
    "alphabets=string.ascii_uppercase\n",
    "s=random.choice(alphabets)\n",
    "print(s)"
   ]
  },
  {
   "cell_type": "code",
   "execution_count": 9,
   "metadata": {},
   "outputs": [
    {
     "name": "stdout",
     "output_type": "stream",
     "text": [
      "Enter principal value:100\n",
      "Total amount is: 110.0\n"
     ]
    }
   ],
   "source": [
    "def get_si(p,r,t):\n",
    "    si=(p*r*t)/100\n",
    "    return si\n",
    "\n",
    "def get_amount(p,r=10,t=1):\n",
    "    tot=p+get_si(p,r,t)\n",
    "    return tot\n",
    "\n",
    "x=input(\"Enter principal value:\").strip()\n",
    "x=int(x)\n",
    "# y=input(\"Enter rate value:\").strip()\n",
    "# y=int(y)\n",
    "# z=input(\"Enter time value:\").strip()\n",
    "# z=int(z)\n",
    "\n",
    "tot_amount= get_amount(x)\n",
    "print(f\"Total amount is: {tot_amount}\")\n"
   ]
  },
  {
   "cell_type": "code",
   "execution_count": 13,
   "metadata": {},
   "outputs": [
    {
     "name": "stdout",
     "output_type": "stream",
     "text": [
      "Enter principal amount: 100\n",
      "Enter rate of interest: 5\n",
      "Enter years taken: 1\n",
      "Compound interest is: 5.0\n"
     ]
    }
   ],
   "source": [
    "def get_ci(p,r,t):\n",
    "    if p.isnumeric() and r.isnumeric() and t.isnumeric():\n",
    "        p=int(p)\n",
    "        r=int(r)\n",
    "        t=int(t)\n",
    "        ci=p*(1+r/100)**t-p\n",
    "        return ci\n",
    "\n",
    "p=input(\"Enter principal amount: \").strip()\n",
    "r=input(\"Enter rate of interest: \").strip()\n",
    "t=input(\"Enter years taken: \").strip()\n",
    "\n",
    "comp_int=get_ci(p,r,t)\n",
    "print(f\"Compound interest is: {comp_int}\")"
   ]
  },
  {
   "cell_type": "code",
   "execution_count": null,
   "metadata": {},
   "outputs": [],
   "source": []
  },
  {
   "cell_type": "code",
   "execution_count": null,
   "metadata": {},
   "outputs": [],
   "source": []
  },
  {
   "cell_type": "code",
   "execution_count": null,
   "metadata": {},
   "outputs": [],
   "source": []
  },
  {
   "cell_type": "code",
   "execution_count": null,
   "metadata": {},
   "outputs": [],
   "source": []
  },
  {
   "cell_type": "code",
   "execution_count": null,
   "metadata": {},
   "outputs": [],
   "source": []
  },
  {
   "cell_type": "code",
   "execution_count": null,
   "metadata": {},
   "outputs": [],
   "source": []
  }
 ],
 "metadata": {
  "kernelspec": {
   "display_name": "Python 3",
   "language": "python",
   "name": "python3"
  },
  "language_info": {
   "codemirror_mode": {
    "name": "ipython",
    "version": 3
   },
   "file_extension": ".py",
   "mimetype": "text/x-python",
   "name": "python",
   "nbconvert_exporter": "python",
   "pygments_lexer": "ipython3",
   "version": "3.8.3"
  }
 },
 "nbformat": 4,
 "nbformat_minor": 4
}
