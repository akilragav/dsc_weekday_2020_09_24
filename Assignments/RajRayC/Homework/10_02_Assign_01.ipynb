{
 "cells": [
  {
   "cell_type": "code",
   "execution_count": 10,
   "metadata": {},
   "outputs": [
    {
     "name": "stdout",
     "output_type": "stream",
     "text": [
      "Enter a number for sum:12\n",
      "78\n"
     ]
    }
   ],
   "source": [
    "\n",
    "# WAP to input a no. and find sum of all its digits\n",
    "\n",
    "def findsum(a):\n",
    "    i=1\n",
    "    s=0\n",
    "    while i<=a:\n",
    "       s=s+i\n",
    "       i+=1\n",
    "    return s\n",
    "\n",
    "x=input(\"Enter a number for sum:\")\n",
    "x=int(x)\n",
    "s1=findsum(x)\n",
    "print(f\"Sum of digits is:\"s1)"
   ]
  },
  {
   "cell_type": "code",
   "execution_count": 27,
   "metadata": {},
   "outputs": [
    {
     "name": "stdout",
     "output_type": "stream",
     "text": [
      "Enter a string:abcd\n",
      "Ordinal values are as given below:\n",
      "97\n",
      "98\n",
      "99\n",
      "100\n"
     ]
    }
   ],
   "source": [
    "# WAP to input a string and print oridnal value of each character\n",
    "def printordinal(s):\n",
    "    s=s.strip()\n",
    "    i=0\n",
    "    while i<=len(s)-1:\n",
    "        ordval=ord(s[i])\n",
    "        i+=1\n",
    "        print(ordval)\n",
    "\n",
    "s=input(\"Enter a string:\")\n",
    "print(\"Ordinal values are as given below:\")\n",
    "printordinal(s)"
   ]
  },
  {
   "cell_type": "code",
   "execution_count": null,
   "metadata": {},
   "outputs": [],
   "source": []
  },
  {
   "cell_type": "code",
   "execution_count": null,
   "metadata": {},
   "outputs": [],
   "source": []
  },
  {
   "cell_type": "code",
   "execution_count": null,
   "metadata": {},
   "outputs": [],
   "source": []
  },
  {
   "cell_type": "code",
   "execution_count": null,
   "metadata": {},
   "outputs": [],
   "source": []
  },
  {
   "cell_type": "code",
   "execution_count": null,
   "metadata": {},
   "outputs": [],
   "source": []
  },
  {
   "cell_type": "code",
   "execution_count": null,
   "metadata": {},
   "outputs": [],
   "source": []
  }
 ],
 "metadata": {
  "kernelspec": {
   "display_name": "Python 3",
   "language": "python",
   "name": "python3"
  },
  "language_info": {
   "codemirror_mode": {
    "name": "ipython",
    "version": 3
   },
   "file_extension": ".py",
   "mimetype": "text/x-python",
   "name": "python",
   "nbconvert_exporter": "python",
   "pygments_lexer": "ipython3",
   "version": "3.8.3"
  }
 },
 "nbformat": 4,
 "nbformat_minor": 4
}
