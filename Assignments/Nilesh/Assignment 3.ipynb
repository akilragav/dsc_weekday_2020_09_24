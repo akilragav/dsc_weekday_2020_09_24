{
 "cells": [
  {
   "cell_type": "code",
   "execution_count": 1,
   "metadata": {},
   "outputs": [
    {
     "name": "stdout",
     "output_type": "stream",
     "text": [
      "Enter the 1st string: test\n",
      "Enter the 2nd string: string\n",
      "Orignal String:  test string\n",
      "Swapped String String:  string test\n"
     ]
    }
   ],
   "source": [
    "def swap_string(str_A,str_B):\n",
    "    str_A,str_B=str_B,str_A\n",
    "    return str_A,str_B\n",
    "\n",
    "str_a=input(\"Enter the 1st string: \")\n",
    "str_b=input(\"Enter the 2nd string: \")\n",
    "print(\"Orignal String: \",str_a,str_b)\n",
    "res=swap_string(str_a,str_b)\n",
    "print(\"Swapped String String: \",res[0],res[1])"
   ]
  },
  {
   "cell_type": "code",
   "execution_count": 2,
   "metadata": {},
   "outputs": [
    {
     "name": "stdout",
     "output_type": "stream",
     "text": [
      "The average of 4 random numbers is:  14.0\n"
     ]
    }
   ],
   "source": [
    "import random\n",
    "def rand_4():\n",
    "    avg=0\n",
    "    res=[]\n",
    "    for i in range(1,5):\n",
    "        p=random.randint(0,26)\n",
    "        res.append(p)\n",
    "    avg=sum(res)/4\n",
    "    return avg\n",
    "\n",
    "print(\"The average of 4 random numbers is: \",rand_4())"
   ]
  },
  {
   "cell_type": "code",
   "execution_count": 3,
   "metadata": {},
   "outputs": [
    {
     "name": "stdout",
     "output_type": "stream",
     "text": [
      "Output using string containing all alphabets:  q\n",
      "Output using module string:  w\n"
     ]
    }
   ],
   "source": [
    "import string\n",
    "import random\n",
    "def method1():\n",
    "    a1=list(range(97,123))\n",
    "    a2=list(range(65,91))\n",
    "    a=a1+a2\n",
    "    c=[]\n",
    "    for i in range(len(a)):\n",
    "        b=chr(a[i])\n",
    "        c.append(b)\n",
    "    return c[random.randint(0,54)]\n",
    "\n",
    "def method2():\n",
    "    p=string.ascii_letters\n",
    "    return p[random.randint(0,54)]\n",
    "\n",
    "print('Output using string containing all alphabets: ',method1())\n",
    "print('Output using module string: ', method2())\n",
    "\n"
   ]
  },
  {
   "cell_type": "code",
   "execution_count": 11,
   "metadata": {},
   "outputs": [
    {
     "name": "stdout",
     "output_type": "stream",
     "text": [
      "Enter the principal amount: 100\n",
      "Enter the rate of interest(in %): 3\n",
      "Enter the time period(in years): 2\n",
      "The Simple Interest is:  6.0\n"
     ]
    }
   ],
   "source": [
    "def get_si(pr,rt,ti):\n",
    "    si=(pr*rt*ti)/100\n",
    "    return si\n",
    "pr=float(input(\"Enter the principal amount: \"))\n",
    "rt=float(input(\"Enter the rate of interest(in %): \"))\n",
    "ti=float(input(\"Enter the time period(in years): \"))\n",
    "si=get_si(pr,rt,ti)\n",
    "print(\"The Simple Interest is: \",si)"
   ]
  },
  {
   "cell_type": "code",
   "execution_count": null,
   "metadata": {},
   "outputs": [],
   "source": []
  },
  {
   "cell_type": "code",
   "execution_count": 10,
   "metadata": {},
   "outputs": [
    {
     "name": "stdout",
     "output_type": "stream",
     "text": [
      "Enter the principal amount: 100\n",
      "Enter the rate of interest(in %): 3\n",
      "Enter the time period(in years): 2\n",
      "The total amount is:  100.06\n"
     ]
    }
   ],
   "source": [
    "def get_amount(pr,rt=10,ti=1):\n",
    "    amount=pr+get_si(pr,rt,ti)\n",
    "    return amount\n",
    "pr=float(input(\"Enter the principal amount: \"))\n",
    "rt=float(input(\"Enter the rate of interest(in %): \"))\n",
    "ti=float(input(\"Enter the time period(in years): \"))\n",
    "amount=get_amount(pr,rt,ti)\n",
    "print(\"The total amount is: \",amount)\n"
   ]
  },
  {
   "cell_type": "code",
   "execution_count": 12,
   "metadata": {},
   "outputs": [
    {
     "name": "stdout",
     "output_type": "stream",
     "text": [
      "Enter the principal amount: 100\n",
      "Enter the annual rate of interest: 3\n",
      "Enter the time period (in years): 2\n",
      "The Compount Interest is:  6.089999999999989\n"
     ]
    }
   ],
   "source": [
    "def get_ci(pr,rt,ti):\n",
    "    amount= pr*((1+(rt/100))**(ti))\n",
    "    ci= amount-pr\n",
    "    return ci\n",
    "\n",
    "P_comp = float(input(\"Enter the principal amount: \"))\n",
    "R_comp = float(input(\"Enter the annual rate of interest: \"))\n",
    "T_comp = float(input(\"Enter the time period (in years): \"))\n",
    "print(\"The Compount Interest is: \",get_ci(P_comp,R_comp,T_comp))"
   ]
  },
  {
   "cell_type": "code",
   "execution_count": 13,
   "metadata": {},
   "outputs": [
    {
     "name": "stdout",
     "output_type": "stream",
     "text": [
      "Enter the first number: 3\n",
      "Enter the second number: 4\n",
      "The quotient and remainder are:  (0.75, 3.0) <class 'tuple'>\n"
     ]
    }
   ],
   "source": [
    "def get_q_r(num1,num2):\n",
    "    quo=num1/num2\n",
    "    rem=num1%num2\n",
    "    return quo,rem\n",
    "num1=float(input(\"Enter the first number: \"))\n",
    "num2=float(input(\"Enter the second number: \"))\n",
    "res=get_q_r(num1,num2)\n",
    "print(\"The quotient and remainder are: \",res,type(res))"
   ]
  },
  {
   "cell_type": "code",
   "execution_count": 14,
   "metadata": {},
   "outputs": [
    {
     "name": "stdout",
     "output_type": "stream",
     "text": [
      "Enter the height (in cm): 3\n",
      "Enter the base (in cm): 4\n",
      "The length of hypotenuse is: 5.0 cm\n"
     ]
    }
   ],
   "source": [
    "import math\n",
    "def hypo(height,base):\n",
    "    len_hyp=math.sqrt((height**2)+(base**2))\n",
    "    return len_hyp\n",
    "h=float(input(\"Enter the height (in cm): \"))\n",
    "b=float(input(\"Enter the base (in cm): \"))\n",
    "res11=hypo(h,b)\n",
    "print(f\"The length of hypotenuse is: {res11} cm\")"
   ]
  },
  {
   "cell_type": "code",
   "execution_count": 15,
   "metadata": {},
   "outputs": [
    {
     "name": "stdout",
     "output_type": "stream",
     "text": [
      "Enter the number of seconds: 1440\n",
      "0 day 0 hour 24 minute 0 second\n"
     ]
    }
   ],
   "source": [
    "def time(seconds):\n",
    "    sec=total_sec%60\n",
    "    min1=(total_sec%3600)//60\n",
    "    hour=(total_sec%86400)//3600\n",
    "    days=(total_sec%(24*86400))//86400\n",
    "    print(f\"{days} day {hour} hour {min1} minute {sec} second\")\n",
    "\n",
    "total_sec=int(input(\"Enter the number of seconds: \"))\n",
    "time(total_sec)\n"
   ]
  },
  {
   "cell_type": "code",
   "execution_count": 16,
   "metadata": {},
   "outputs": [
    {
     "ename": "NameError",
     "evalue": "name 'sys' is not defined",
     "output_type": "error",
     "traceback": [
      "\u001b[1;31m---------------------------------------------------------------------------\u001b[0m",
      "\u001b[1;31mNameError\u001b[0m                                 Traceback (most recent call last)",
      "\u001b[1;32m<ipython-input-16-d876c797551b>\u001b[0m in \u001b[0;36m<module>\u001b[1;34m\u001b[0m\n\u001b[1;32m----> 1\u001b[1;33m \u001b[0msys\u001b[0m\u001b[1;33m.\u001b[0m\u001b[0mversion\u001b[0m\u001b[1;33m\u001b[0m\u001b[1;33m\u001b[0m\u001b[0m\n\u001b[0m",
      "\u001b[1;31mNameError\u001b[0m: name 'sys' is not defined"
     ]
    }
   ],
   "source": [
    "sys.version\n"
   ]
  },
  {
   "cell_type": "code",
   "execution_count": 17,
   "metadata": {},
   "outputs": [
    {
     "data": {
      "text/plain": [
       "'3.8.3 (default, Jul  2 2020, 17:30:36) [MSC v.1916 64 bit (AMD64)]'"
      ]
     },
     "execution_count": 17,
     "metadata": {},
     "output_type": "execute_result"
    }
   ],
   "source": [
    "import sys\n",
    "sys.version"
   ]
  },
  {
   "cell_type": "code",
   "execution_count": 18,
   "metadata": {},
   "outputs": [
    {
     "name": "stdout",
     "output_type": "stream",
     "text": [
      "2 -2\n"
     ]
    }
   ],
   "source": [
    "X=2\n",
    "X *= 3\n",
    "X= X%4\n",
    "Y= -X\n",
    "print(X,Y)"
   ]
  },
  {
   "cell_type": "code",
   "execution_count": 19,
   "metadata": {},
   "outputs": [
    {
     "name": "stdout",
     "output_type": "stream",
     "text": [
      "None\n"
     ]
    }
   ],
   "source": [
    "def funct():\n",
    "    pass\n",
    "print(funct())"
   ]
  },
  {
   "cell_type": "code",
   "execution_count": null,
   "metadata": {},
   "outputs": [],
   "source": [
    "https://medium.com/the-python-diary/getting-around-complex-numbers-77308982178"
   ]
  },
  {
   "cell_type": "code",
   "execution_count": null,
   "metadata": {},
   "outputs": [],
   "source": []
  }
 ],
 "metadata": {
  "kernelspec": {
   "display_name": "Python 3",
   "language": "python",
   "name": "python3"
  },
  "language_info": {
   "codemirror_mode": {
    "name": "ipython",
    "version": 3
   },
   "file_extension": ".py",
   "mimetype": "text/x-python",
   "name": "python",
   "nbconvert_exporter": "python",
   "pygments_lexer": "ipython3",
   "version": "3.8.3"
  }
 },
 "nbformat": 4,
 "nbformat_minor": 4
}
