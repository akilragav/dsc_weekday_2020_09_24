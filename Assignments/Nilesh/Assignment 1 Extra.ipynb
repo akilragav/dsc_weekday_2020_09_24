{
 "cells": [
  {
   "cell_type": "code",
   "execution_count": 1,
   "metadata": {},
   "outputs": [
    {
     "name": "stdout",
     "output_type": "stream",
     "text": [
      "Please enter temperature in Fahrenheit: 100\n",
      "100.0 Fahrenheit = 37.77777777777778 Celsius\n"
     ]
    }
   ],
   "source": [
    "# Fahrenheit to Celsius\n",
    "f_temp = float(input(\"Please enter temperature in Fahrenheit: \"))\n",
    "c_temp = (f_temp - 32) * 5/9\n",
    "\n",
    "print(f\"{f_temp} Fahrenheit = {c_temp} Celsius\")"
   ]
  },
  {
   "cell_type": "code",
   "execution_count": 2,
   "metadata": {},
   "outputs": [
    {
     "name": "stdout",
     "output_type": "stream",
     "text": [
      "Please enter a number: 8\n",
      "64 is square of 8\n",
      "512 is cube of 8\n"
     ]
    }
   ],
   "source": [
    "# input a number and print its square and cube.\n",
    "getNumber = input(\"Please enter a number: \")\n",
    "square = int(getNumber) ** 2\n",
    "cube = int(getNumber) ** 3\n",
    "\n",
    "print(f\"{square} is square of {getNumber}\")\n",
    "print(f\"{cube} is cube of {getNumber}\")"
   ]
  },
  {
   "cell_type": "code",
   "execution_count": 3,
   "metadata": {},
   "outputs": [
    {
     "name": "stdout",
     "output_type": "stream",
     "text": [
      "Please enter value for n: 3\n",
      "Please enter value for m: 6\n",
      "Result is: 45\n"
     ]
    }
   ],
   "source": [
    "# input a number n and a number m and print the result\n",
    "n = input(\"Please enter value for n: \")\n",
    "m = input(\"Please enter value for m: \")\n",
    "\n",
    "result = (int(n) ** 2) + (int(m) ** 2)\n",
    "print(\"Result is:\", result)"
   ]
  },
  {
   "cell_type": "code",
   "execution_count": 4,
   "metadata": {},
   "outputs": [
    {
     "name": "stdout",
     "output_type": "stream",
     "text": [
      "Please enter value for N: 9\n",
      "Please enter value for M: 8\n",
      "Result is: 43046721\n"
     ]
    }
   ],
   "source": [
    "# input a numbers M and N and print result of MN. (use both ** and pow)\n",
    "N = input(\"Please enter value for N: \")\n",
    "M = input(\"Please enter value for M: \")\n",
    "\n",
    "result = int(N) ** int(M)\n",
    "result_pow = pow(int(N), int(M))\n",
    "print(\"Result is:\", result)"
   ]
  },
  {
   "cell_type": "code",
   "execution_count": 5,
   "metadata": {},
   "outputs": [
    {
     "name": "stdout",
     "output_type": "stream",
     "text": [
      "Please enter principal amount: 100\n",
      "Please enter rate of interest: 6\n",
      "Please enter time period: 1\n",
      "Simple Interest is: 6.0\n"
     ]
    }
   ],
   "source": [
    "# simple interest calculator\n",
    "\n",
    "principal_amount = input(\"Please enter principal amount: \")\n",
    "interest = input(\"Please enter rate of interest: \")\n",
    "period = input(\"Please enter time period: \")\n",
    "\n",
    "simple_interest = (int(principal_amount) * float(interest) * int(period)) / 100\n",
    "\n",
    "print('Simple Interest is:', simple_interest)\n"
   ]
  },
  {
   "cell_type": "code",
   "execution_count": 6,
   "metadata": {},
   "outputs": [
    {
     "name": "stdout",
     "output_type": "stream",
     "text": [
      "Please enter principal amount: 100\n",
      "Please enter rate of interest: 3\n",
      "Please enter time period: 2\n",
      "Compound Interest is: 6.089999999999989\n",
      "Amount is: 106.08999999999999\n"
     ]
    }
   ],
   "source": [
    "# Input Principal, Rate, Time and print Compound Interest and Amount.\n",
    "\n",
    "principal_amount = input(\"Please enter principal amount: \")\n",
    "interest = input(\"Please enter rate of interest: \")\n",
    "period = input(\"Please enter time period: \")\n",
    "\n",
    "amount = int(principal_amount) * (pow((1 + float(interest) / 100), int(period))) \n",
    "compound_interest = amount - int(principal_amount) \n",
    "\n",
    "print('Compound Interest is:', compound_interest)\n",
    "print('Amount is:', amount)"
   ]
  },
  {
   "cell_type": "code",
   "execution_count": 7,
   "metadata": {},
   "outputs": [
    {
     "name": "stdout",
     "output_type": "stream",
     "text": [
      "Please enter a number: 6\n",
      "Sum of first 6 natural numbers is: 21\n"
     ]
    }
   ],
   "source": [
    "# print sum of first n natural numbers. (n needs to be taken as input).\n",
    "\n",
    "n = int(input(\"Please enter a number: \"))\n",
    "\n",
    "total = 0\n",
    "for num in range(1, n+1):\n",
    "    total += num\n",
    "    \n",
    "print(f\"Sum of first {n} natural numbers is:\", total)"
   ]
  },
  {
   "cell_type": "code",
   "execution_count": 8,
   "metadata": {},
   "outputs": [
    {
     "name": "stdout",
     "output_type": "stream",
     "text": [
      "Please enter number a: 3\n",
      "Please enter number b: 7\n",
      "Using temp variable a is: 7  And b is: 3\n",
      "Swap again using Pythonic way variable a is: 3  And b is: 7\n"
     ]
    }
   ],
   "source": [
    "# Input 2 numbers and swap them. (write using both normal logic with temp variable and also the pythonic way)\n",
    "\n",
    "a = int(input(\"Please enter number a: \"))\n",
    "b = int(input(\"Please enter number b: \"))\n",
    "\n",
    "temp = a\n",
    "a = b\n",
    "b = temp\n",
    "\n",
    "print(\"Using temp variable a is:\", a, \" And b is:\", b)\n",
    "\n",
    "a, b = b, a\n",
    "\n",
    "print(\"Swap again using Pythonic way variable a is:\", a, \" And b is:\", b)"
   ]
  },
  {
   "cell_type": "code",
   "execution_count": 9,
   "metadata": {},
   "outputs": [
    {
     "name": "stdout",
     "output_type": "stream",
     "text": [
      "ASCII value of white space is: 32\n"
     ]
    }
   ],
   "source": [
    "print(\"ASCII value of white space is:\", ord(' '))"
   ]
  },
  {
   "cell_type": "code",
   "execution_count": 10,
   "metadata": {},
   "outputs": [
    {
     "name": "stdout",
     "output_type": "stream",
     "text": [
      "Please enter a character: X\n",
      "ASCII value of X  is: 88\n"
     ]
    }
   ],
   "source": [
    "char = input(\"Please enter a character: \")\n",
    "\n",
    "print(\"ASCII value of\", char, \" is:\", ord(char))"
   ]
  },
  {
   "cell_type": "code",
   "execution_count": 11,
   "metadata": {},
   "outputs": [
    {
     "name": "stdout",
     "output_type": "stream",
     "text": [
      "Please Enter the radius of a circle: 4\n",
      "Area of a circle is: 50.24\n",
      "Circumference of a circle: 25.12\n"
     ]
    }
   ],
   "source": [
    "get_radius = float(input('Please Enter the radius of a circle: '))\n",
    "\n",
    "area = 3.14 * get_radius * get_radius\n",
    "circumference = 2 * 3.14 * get_radius\n",
    "\n",
    "print(\"Area of a circle is:\", area)\n",
    "print(\"Circumference of a circle:\", circumference)"
   ]
  },
  {
   "cell_type": "code",
   "execution_count": 12,
   "metadata": {},
   "outputs": [
    {
     "name": "stdout",
     "output_type": "stream",
     "text": [
      "Please Enter mark of subject 1: 80\n",
      "Please Enter mark of subject 2: 70\n",
      "Please Enter mark of subject 3: 90\n",
      "Please Enter mark of subject 4: 80\n",
      "Please Enter mark of subject 5: 90\n",
      "Percentage is: 82.0%\n"
     ]
    }
   ],
   "source": [
    "total = 0\n",
    "for item in range(1, 6):\n",
    "    total += int(input(f'Please Enter mark of subject {item}: '))\n",
    "    \n",
    "percentage = (100 * total) / 500\n",
    "\n",
    "print(f\"Percentage is: {percentage}%\")"
   ]
  },
  {
   "cell_type": "code",
   "execution_count": null,
   "metadata": {},
   "outputs": [],
   "source": []
  }
 ],
 "metadata": {
  "kernelspec": {
   "display_name": "Python 3",
   "language": "python",
   "name": "python3"
  },
  "language_info": {
   "codemirror_mode": {
    "name": "ipython",
    "version": 3
   },
   "file_extension": ".py",
   "mimetype": "text/x-python",
   "name": "python",
   "nbconvert_exporter": "python",
   "pygments_lexer": "ipython3",
   "version": "3.8.3"
  }
 },
 "nbformat": 4,
 "nbformat_minor": 4
}
