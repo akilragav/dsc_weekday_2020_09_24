{
 "cells": [
  {
   "cell_type": "code",
   "execution_count": 4,
   "metadata": {},
   "outputs": [
    {
     "name": "stdout",
     "output_type": "stream",
     "text": [
      "Enter the 1st number: 35\n",
      "Enter the second number7\n",
      "Divisibility result:  True\n"
     ]
    }
   ],
   "source": [
    "def check_divisibility(num1,num2):\n",
    "    if (num1.replace('.','',1).isdigit() and num2.replace('.','',1).isdigit()):\n",
    "        num1=float(num1)\n",
    "        num2=float(num2)\n",
    "        if num1%num2==0:\n",
    "            return True\n",
    "        else:\n",
    "            return False\n",
    "    else:\n",
    "        return 'Enter a proper value'\n",
    "num1=input(\"Enter the 1st number: \")\n",
    "num2=input(\"Enter the second number\")\n",
    "print(\"Divisibility result: \",check_divisibility(num1,num2))"
   ]
  },
  {
   "cell_type": "code",
   "execution_count": 2,
   "metadata": {},
   "outputs": [
    {
     "name": "stdout",
     "output_type": "stream",
     "text": [
      "Enter the length of 1st side(in cm): 3\n",
      "Enter the length of 2nd side(in cm): 4\n",
      "Enter the length of 3rd side(in cm): 5\n",
      "Triangle Type:  Scalene\n"
     ]
    }
   ],
   "source": [
    "def triangle(a,b,c):\n",
    "    if (a.replace('.','',1).isdigit() and b.replace('.','',1).isdigit() and c.replace('.','',1).isdigit()):\n",
    "        a=float(a)\n",
    "        b=float(b)\n",
    "        c=float(c)\n",
    "        if (a+b>c and a+c>b and b+c>a):\n",
    "            if a==b==c:\n",
    "                return 'Equilateral'\n",
    "            elif (a==b or a==c or b==c):\n",
    "                return 'Isosceles'\n",
    "            else:\n",
    "                return 'Scalene'\n",
    "        else:\n",
    "            return 'Not a Triagle'\n",
    "    else:\n",
    "        return 'Enter proper values of length'\n",
    "    \n",
    "a=input(\"Enter the length of 1st side(in cm): \")\n",
    "b=input(\"Enter the length of 2nd side(in cm): \")\n",
    "c=input(\"Enter the length of 3rd side(in cm): \")\n",
    "print(\"Triangle Type: \",triangle(a,b,c))"
   ]
  },
  {
   "cell_type": "code",
   "execution_count": 3,
   "metadata": {},
   "outputs": [
    {
     "name": "stdout",
     "output_type": "stream",
     "text": [
      "Enter the string: ertre\n",
      "The string is:  Palindrome\n"
     ]
    }
   ],
   "source": [
    "def palindrome(n):\n",
    "    nn=n.casefold()\n",
    "    if nn[0:len(nn)]==nn[-1:-len(n)-1:-1]:\n",
    "        return 'Palindrome'\n",
    "    else:\n",
    "        return 'Not a palindrome'\n",
    "n=input(\"Enter the string: \")\n",
    "print('The string is: ',palindrome(n))"
   ]
  },
  {
   "cell_type": "code",
   "execution_count": 5,
   "metadata": {},
   "outputs": [
    {
     "name": "stdout",
     "output_type": "stream",
     "text": [
      "Enter the number: 3\n",
      "The number is:  Odd\n"
     ]
    }
   ],
   "source": [
    "def even_odd(num11):\n",
    "    if (num11.replace('.','',1).isdigit()):\n",
    "        num11=float(num11)\n",
    "        if num11%2==0:\n",
    "            return 'Even'\n",
    "        else:\n",
    "            return 'Odd'\n",
    "    else:\n",
    "        return 'Enter a proper value'\n",
    "num11=input(\"Enter the number: \")\n",
    "print(\"The number is: \",even_odd(num11))"
   ]
  },
  {
   "cell_type": "code",
   "execution_count": 6,
   "metadata": {},
   "outputs": [
    {
     "name": "stdout",
     "output_type": "stream",
     "text": [
      "Enter the age (in years): 39\n",
      "Message:  Adult\n"
     ]
    }
   ],
   "source": [
    "def age_text(age):\n",
    "    if (age.replace('.','',1).isdigit()):\n",
    "        age=int(age)\n",
    "        if (age in range(0,13)):\n",
    "            return 'Child'\n",
    "        elif (age in range(13,18)):\n",
    "            return 'Teen'\n",
    "        elif (age in range(18,51)):\n",
    "            return 'Adult'\n",
    "        elif (age in range(51,101)):\n",
    "                return 'Senior Citizen'\n",
    "        else:\n",
    "            return 'Congratulations'\n",
    "    else:\n",
    "        return 'Enter proper values of age'\n",
    "    \n",
    "age=input(\"Enter the age (in years): \")\n",
    "print(\"Message: \",age_text(age))"
   ]
  },
  {
   "cell_type": "code",
   "execution_count": 7,
   "metadata": {},
   "outputs": [
    {
     "name": "stdout",
     "output_type": "stream",
     "text": [
      "Enter the year to check: 1945\n",
      "The year entered is:  Not a Leap Year\n"
     ]
    }
   ],
   "source": [
    "def leap_year(year):\n",
    "    if (year.replace('.','',1).isdigit() and len(year)==4):\n",
    "        year=int(year)\n",
    "        if(year%4==0) and (year%100!=0 or year%400==0):\n",
    "            return 'Leap year'\n",
    "        else:\n",
    "            return 'Not a Leap Year'\n",
    "    else:\n",
    "        return 'Enter proper value of year'\n",
    "\n",
    "year=input(\"Enter the year to check: \")\n",
    "print(\"The year entered is: \",leap_year(year))"
   ]
  },
  {
   "cell_type": "code",
   "execution_count": 12,
   "metadata": {},
   "outputs": [
    {
     "name": "stdout",
     "output_type": "stream",
     "text": [
      "Enter the string: there\n",
      "The Resultant string is:  THERE\n"
     ]
    }
   ],
   "source": [
    "def convert_str(string1):\n",
    "    if string1.isalpha()==True:\n",
    "        if(len(string1)%2==0):\n",
    "            return string1.lower()\n",
    "        else:\n",
    "            return string1.upper()\n",
    "    else:\n",
    "        return 'Enter a proper string'\n",
    "\n",
    "string1=input(\"Enter the string: \")\n",
    "print(\"The Resultant string is: \",convert_str(string1))"
   ]
  },
  {
   "cell_type": "code",
   "execution_count": 13,
   "metadata": {},
   "outputs": [
    {
     "name": "stdout",
     "output_type": "stream",
     "text": [
      "Enter the string: egg\n",
      "The result is:  Non-Veg\n"
     ]
    }
   ],
   "source": [
    "def veg_nonveg(string2):\n",
    "    str22='egg'\n",
    "    if str22.lower() in string2.lower():\n",
    "        return 'Non-Veg'\n",
    "    else:\n",
    "        return 'Veg'\n",
    "\n",
    "string2=input(\"Enter the string: \")\n",
    "print(\"The result is: \",veg_nonveg(string2))"
   ]
  },
  {
   "cell_type": "code",
   "execution_count": 14,
   "metadata": {},
   "outputs": [
    {
     "name": "stdout",
     "output_type": "stream",
     "text": [
      "True\n"
     ]
    }
   ],
   "source": [
    "if not 1:\n",
    "    print(False)\n",
    "else:\n",
    "    print(True)"
   ]
  },
  {
   "cell_type": "code",
   "execution_count": 15,
   "metadata": {},
   "outputs": [
    {
     "name": "stdout",
     "output_type": "stream",
     "text": [
      "True\n"
     ]
    }
   ],
   "source": [
    "if 1:\n",
    "    print(True)\n",
    "else:\n",
    "    print(False)"
   ]
  },
  {
   "cell_type": "code",
   "execution_count": 16,
   "metadata": {},
   "outputs": [
    {
     "name": "stdout",
     "output_type": "stream",
     "text": [
      "Weird\n"
     ]
    }
   ],
   "source": [
    "if 'a'>'A':\n",
    "    print('Weird')\n",
    "else:\n",
    "    print('Makes Sense')"
   ]
  },
  {
   "cell_type": "code",
   "execution_count": 17,
   "metadata": {},
   "outputs": [
    {
     "name": "stdout",
     "output_type": "stream",
     "text": [
      "[4, 3, 2, 1]\n"
     ]
    }
   ],
   "source": [
    "a=[1,2,3,4]\n",
    "if 1>1:\n",
    "    a=a[::-1]\n",
    "else:\n",
    "    a=a[-1::-1]\n",
    "print(a)"
   ]
  },
  {
   "cell_type": "code",
   "execution_count": 22,
   "metadata": {},
   "outputs": [
    {
     "name": "stdout",
     "output_type": "stream",
     "text": [
      "Enter the marks in 1st subject (out of 100): 90\n",
      "Enter the marks in 2nd subject (out of 100): 80\n",
      "Enter the marks in 3rd subject (out of 100): 70\n",
      "Enter the marks in 4th subject (out of 100): 80\n",
      "Enter the marks in 5th subject (out of 100): 90\n",
      " The grade is: Grade-B\n"
     ]
    }
   ],
   "source": [
    "def getGrade(marka,markb,markc,markd,marke):\n",
    "    perc = round(((marka+markb+markc+markd+marke)/500)*100)\n",
    "    if perc in range(90,100):\n",
    "        return 'A'\n",
    "    elif perc in range(80,90):\n",
    "        return 'B'\n",
    "    elif perc in range(60,80):\n",
    "        return 'C'\n",
    "    elif perc <60:\n",
    "        return 'F'\n",
    "    else:\n",
    "        pass\n",
    "\n",
    "marka=float(input(\"Enter the marks in 1st subject (out of 100): \"))\n",
    "markb=float(input(\"Enter the marks in 2nd subject (out of 100): \"))\n",
    "markc=float(input(\"Enter the marks in 3rd subject (out of 100): \"))\n",
    "markd=float(input(\"Enter the marks in 4th subject (out of 100): \"))\n",
    "marke=float(input(\"Enter the marks in 5th subject (out of 100): \"))\n",
    "print(f\"Final Grade-{getGrade(marka,markb,markc,markd,marke)}\")"
   ]
  },
  {
   "cell_type": "code",
   "execution_count": 24,
   "metadata": {},
   "outputs": [
    {
     "name": "stdout",
     "output_type": "stream",
     "text": [
      "Enter the age in years: 35\n",
      "Enter the salary: 1000000\n",
      "The Tax as per given age and salary is:  100000.0\n"
     ]
    }
   ],
   "source": [
    "def taxCalc(age,salary):\n",
    "    if age<60:\n",
    "        if salary in range(0,250001):\n",
    "            return 0\n",
    "        elif salary in range(250001,500001):\n",
    "            return (0.05*salary)\n",
    "        elif salary in range(500001,1000001):\n",
    "            return (0.1*salary)\n",
    "        else:\n",
    "            return (0.15*salary)   \n",
    "    else:\n",
    "        if salary in range(0,250001):\n",
    "            return 0\n",
    "        elif salary in range(250001,500001):\n",
    "            return (0.03*salary)\n",
    "        elif salary in range(500001,1000001):\n",
    "            return (0.08*salary)\n",
    "        else:\n",
    "            return (0.12*salary)\n",
    "\n",
    "age=abs(int(input(\"Enter the age in years: \")))\n",
    "salary=abs(int(input(\"Enter the salary: \")))\n",
    "print(\"The Tax as per given age and salary is: \",taxCalc(age,salary) )"
   ]
  },
  {
   "cell_type": "code",
   "execution_count": 25,
   "metadata": {},
   "outputs": [
    {
     "name": "stdout",
     "output_type": "stream",
     "text": [
      "Enter the weight in kg50\n",
      "Enter the height in cm160\n",
      "The BMI range comes under:  Normal\n"
     ]
    }
   ],
   "source": [
    "def bmiCalc(weight,height):\n",
    "    heightm=height/100\n",
    "    bmi_r=round((weight/(heightm**2)))\n",
    "    if bmi_r in range(16,19):\n",
    "        return 'Underweight'\n",
    "    elif bmi_r in range(19,25):\n",
    "        return 'Normal'\n",
    "    elif bmi_r in range(25,31):\n",
    "        return 'Overweight'\n",
    "    elif bmi_r >30:\n",
    "        return 'Obese'\n",
    "    else:\n",
    "        return 'Severely Underweight'\n",
    "     \n",
    "weight=float(input(\"Enter the weight in kg\"))\n",
    "height=float(input(\"Enter the height in cm\"))\n",
    "print(\"The BMI range comes under: \",bmiCalc(weight,height))"
   ]
  },
  {
   "cell_type": "code",
   "execution_count": 26,
   "metadata": {},
   "outputs": [
    {
     "name": "stdout",
     "output_type": "stream",
     "text": [
      "Enter the age in years: 35\n",
      "Enter the age in years: 25\n",
      "Enter the age in years: 45\n",
      "[35, 25, 45]\n",
      "[25, 35, 45]\n",
      "[25, 45]\n",
      "Youngest age: 25\n",
      "Oldest Age: 45\n"
     ]
    }
   ],
   "source": [
    "def youngest_oldest(age1,age2,age3):\n",
    "    age=[age1,age2,age3]\n",
    "    print(age)\n",
    "    age.sort()\n",
    "    print(age)\n",
    "    agenew=[]\n",
    "    agenew.append(age[0])\n",
    "    agenew.append(age[2])\n",
    "    print(agenew)\n",
    "    return agenew\n",
    "\n",
    "age1=int(input(\"Enter the age in years: \"))\n",
    "age2=int(input(\"Enter the age in years: \"))\n",
    "age3=int(input(\"Enter the age in years: \"))\n",
    "res=[]\n",
    "res=youngest_oldest(age1,age2,age3)\n",
    "print(f\"Youngest age: {res[0]}\\nOldest Age: {res[1]}\")"
   ]
  },
  {
   "cell_type": "code",
   "execution_count": null,
   "metadata": {},
   "outputs": [],
   "source": [
    "def divisibleBy5n7(num_a):\n",
    "    if num_a.isnumeric():\n",
    "        num_a=int(num_a)\n",
    "        if(num_a % 5 == 0 and num_a % 7== 0):\n",
    "            return 'Is Divisible'\n",
    "        else:\n",
    "            return 'Is Not Divisisble'\n",
    "    else:\n",
    "        return 'Enter proper values'\n",
    "\n",
    "num_a=input(\"Enter the number: \")\n",
    "print(\"The number: \",divisibleBy5n7(num_a))"
   ]
  }
 ],
 "metadata": {
  "kernelspec": {
   "display_name": "Python 3",
   "language": "python",
   "name": "python3"
  },
  "language_info": {
   "codemirror_mode": {
    "name": "ipython",
    "version": 3
   },
   "file_extension": ".py",
   "mimetype": "text/x-python",
   "name": "python",
   "nbconvert_exporter": "python",
   "pygments_lexer": "ipython3",
   "version": "3.8.3"
  }
 },
 "nbformat": 4,
 "nbformat_minor": 4
}
