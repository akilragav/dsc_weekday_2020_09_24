{
 "cells": [
  {
   "cell_type": "code",
   "execution_count": 4,
   "metadata": {},
   "outputs": [
    {
     "name": "stdout",
     "output_type": "stream",
     "text": [
      "enter string:hi\n",
      "enter string:hello\n",
      "after swapping is: ('hello', 'hi')\n"
     ]
    }
   ],
   "source": [
    "a=input(\"enter string:\")\n",
    "b=input(\"enter string:\")\n",
    "def swap(a,b):\n",
    "    a,b=b,a\n",
    "    return a,b\n",
    "print(\"after swapping is:\",swap(a,b))"
   ]
  },
  {
   "cell_type": "code",
   "execution_count": 11,
   "metadata": {},
   "outputs": [
    {
     "name": "stdout",
     "output_type": "stream",
     "text": [
      "Enter no  of random numbers you want:4\n",
      "Enter the range for numbers:26\n",
      "[23, 6, 12, 19]\n",
      "Average of 4 numbers randomly selected is 15.0\n"
     ]
    }
   ],
   "source": [
    "import random\n",
    "def gen_random(nums,ran):\n",
    "    randomList = random.sample(range(0, ran), nums)\n",
    "    print(randomList)\n",
    "    avg=sum(randomList)/nums\n",
    "    return avg\n",
    "nums=int(input('Enter no  of random numbers you want:'))\n",
    "ran=int(input('Enter the range for numbers:'))\n",
    "res=gen_random(nums,ran)\n",
    "print(f'Average of {nums} numbers randomly selected is {res}')"
   ]
  },
  {
   "cell_type": "code",
   "execution_count": 9,
   "metadata": {},
   "outputs": [
    {
     "name": "stdout",
     "output_type": "stream",
     "text": [
      "enter p:34577\n",
      "enter t:3.45\n",
      "enter r:4.5\n",
      "5368.079250000001\n"
     ]
    }
   ],
   "source": [
    "def get_si(p,t,r):\n",
    "    return (p*t*r)/100\n",
    "p=float(input(\"enter p:\"))\n",
    "t=float(input(\"enter t:\"))\n",
    "r=float(input(\"enter r:\"))\n",
    "print(get_si(p,t,r))"
   ]
  },
  {
   "cell_type": "code",
   "execution_count": 10,
   "metadata": {},
   "outputs": [
    {
     "name": "stdout",
     "output_type": "stream",
     "text": [
      "enter p:34553\n",
      "enter t:3.4\n",
      "enter r:55\n",
      "99167.11\n"
     ]
    }
   ],
   "source": [
    "def get_amount(p,r=10,t=1):\n",
    "    amount=p+get_si(p,r,t)\n",
    "    return amount\n",
    "p=float(input(\"enter p:\"))\n",
    "t=float(input(\"enter t:\"))\n",
    "r=float(input(\"enter r:\"))\n",
    "print(get_amount(p,t,r))"
   ]
  },
  {
   "cell_type": "code",
   "execution_count": 18,
   "metadata": {},
   "outputs": [
    {
     "name": "stdout",
     "output_type": "stream",
     "text": [
      "enter p:4\n",
      "enter t:4\n",
      "enter r:4\n",
      "enter freq:4\n"
     ]
    }
   ],
   "source": [
    "def get_ci(princ,time,rate,freq):\n",
    "    amount=princ*(pow((1+((rate/100)/freq)),(time*freq)))\n",
    "    ci=amount-princ\n",
    "princ=float(input(\"enter p:\"))\n",
    "time=float(input(\"enter t:\"))\n",
    "rate=float(input(\"enter r:\"))\n",
    "freq=float(input(\"enter freq:\"))\n",
    "res=get_ci(princ,rate,time,freq)\n",
    "get_ci(princ,rate,time,freq)"
   ]
  },
  {
   "cell_type": "code",
   "execution_count": 23,
   "metadata": {},
   "outputs": [
    {
     "name": "stdout",
     "output_type": "stream",
     "text": [
      "enter a number:25\n",
      "enter a number:2\n",
      "(1, 12.5)\n"
     ]
    }
   ],
   "source": [
    "def get_q_r(x,y):\n",
    "    rem=x%y\n",
    "    quo=x/y\n",
    "    return rem,quo\n",
    "a=int(input(\"enter a number:\"))\n",
    "b=int(input(\"enter a number:\"))\n",
    "print(get_q_r(a,b))"
   ]
  },
  {
   "cell_type": "code",
   "execution_count": 29,
   "metadata": {},
   "outputs": [
    {
     "name": "stdout",
     "output_type": "stream",
     "text": [
      "height:12\n",
      "base:5\n",
      "13.0\n"
     ]
    }
   ],
   "source": [
    "import math\n",
    "h=int(input(\"height:\"))\n",
    "b=int(input(\"base:\"))\n",
    "hyp=math.sqrt(pow(h,2)+pow(b,2))\n",
    "print(hyp)"
   ]
  },
  {
   "cell_type": "code",
   "execution_count": 33,
   "metadata": {},
   "outputs": [
    {
     "name": "stdout",
     "output_type": "stream",
     "text": [
      "Enter seconds:58565847834437\n",
      "677845461 day 1 hour 7 minute 17 second\n"
     ]
    }
   ],
   "source": [
    "def time_convertion(seconds):\n",
    "    minutes,hours,days=0,0,0\n",
    "    sec=seconds%60\n",
    "    minutes=seconds//60\n",
    "    if minutes>=60:\n",
    "        hours=minutes//60\n",
    "        minutes=minutes%60\n",
    "    if hours>=24:\n",
    "        days=hours//24\n",
    "        hours=hours%24\n",
    "    return days,hours,minutes,sec\n",
    "\n",
    "seconds=int(input('Enter seconds:'))\n",
    "res1=time_convertion(seconds)\n",
    "print(f'{res1[0]} day {res1[1]} hour {res1[2]} minute {res1[3]} second')"
   ]
  },
  {
   "cell_type": "code",
   "execution_count": 34,
   "metadata": {},
   "outputs": [
    {
     "name": "stdout",
     "output_type": "stream",
     "text": [
      "2 -2\n"
     ]
    }
   ],
   "source": [
    "x=2\n",
    "x*=3\n",
    "x=x%4\n",
    "y=-x\n",
    "print(x,y)"
   ]
  },
  {
   "cell_type": "code",
   "execution_count": 35,
   "metadata": {},
   "outputs": [
    {
     "name": "stdout",
     "output_type": "stream",
     "text": [
      "None\n"
     ]
    }
   ],
   "source": [
    "def funct():\n",
    "    pass\n",
    "print(funct())"
   ]
  }
 ],
 "metadata": {
  "kernelspec": {
   "display_name": "Python 3",
   "language": "python",
   "name": "python3"
  },
  "language_info": {
   "codemirror_mode": {
    "name": "ipython",
    "version": 3
   },
   "file_extension": ".py",
   "mimetype": "text/x-python",
   "name": "python",
   "nbconvert_exporter": "python",
   "pygments_lexer": "ipython3",
   "version": "3.8.3"
  }
 },
 "nbformat": 4,
 "nbformat_minor": 4
}
