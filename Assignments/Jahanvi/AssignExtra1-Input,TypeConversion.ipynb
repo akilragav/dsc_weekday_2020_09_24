{
 "cells": [
  {
   "cell_type": "code",
   "execution_count": 1,
   "metadata": {},
   "outputs": [
    {
     "name": "stdout",
     "output_type": "stream",
     "text": [
      "enter the temperature in Fahrenheit:180.34\n",
      "the temperature in celsius is  82.41111111111111\n"
     ]
    }
   ],
   "source": [
    "f=float(input('enter the temperature in Fahrenheit:'))\n",
    "c=(f-32)/(9/5)\n",
    "print('the temperature in celsius is ',c)"
   ]
  },
  {
   "cell_type": "code",
   "execution_count": 2,
   "metadata": {},
   "outputs": [
    {
     "name": "stdout",
     "output_type": "stream",
     "text": [
      "enter a number:4\n",
      "16 64\n"
     ]
    }
   ],
   "source": [
    "n=int(input('enter a number:'))\n",
    "s=n*n\n",
    "c=n*n*n\n",
    "print(s,c)"
   ]
  },
  {
   "cell_type": "code",
   "execution_count": 3,
   "metadata": {},
   "outputs": [
    {
     "name": "stdout",
     "output_type": "stream",
     "text": [
      "enter a number:56\n",
      "enter a number:33\n",
      "1105\n"
     ]
    }
   ],
   "source": [
    "m=int(input('enter a number:'))\n",
    "m=int(input('enter a number:'))\n",
    "c=(m*m)+(n*n)\n",
    "print(c)"
   ]
  },
  {
   "cell_type": "code",
   "execution_count": 4,
   "metadata": {},
   "outputs": [
    {
     "name": "stdout",
     "output_type": "stream",
     "text": [
      "enter a number:5\n",
      "enter the exponential value:6\n",
      "15625 15625\n"
     ]
    }
   ],
   "source": [
    "a=int(input('enter a number:'))\n",
    "b=int(input(\"enter the exponential value:\"))\n",
    "c=pow(a,b)\n",
    "d=a**b\n",
    "print(c,d)"
   ]
  },
  {
   "cell_type": "code",
   "execution_count": 5,
   "metadata": {},
   "outputs": [
    {
     "name": "stdout",
     "output_type": "stream",
     "text": [
      "enter the principal:2340.67\n",
      "enter the time (in years):3.5\n",
      "enter the rate:8\n",
      "the simple intrest is 655.3876000000001\n"
     ]
    }
   ],
   "source": [
    "p=float(input('enter the principal:'))\n",
    "t=float(input('enter the time (in years):'))\n",
    "r=float(input('enter the rate:'))\n",
    "si=(p*t*r)/100\n",
    "print('the simple intrest is',si)"
   ]
  },
  {
   "cell_type": "code",
   "execution_count": 6,
   "metadata": {},
   "outputs": [
    {
     "name": "stdout",
     "output_type": "stream",
     "text": [
      "enter the principal:23009.7\n",
      "enter the time (in years):1.5\n",
      "enter the intrest:3\n",
      "23699.27 690.2700000000004\n"
     ]
    }
   ],
   "source": [
    "p=float(input('enter the principal:'))\n",
    "t=float(input('enter the time (in years):'))\n",
    "i=float(input('enter the intrest:'))\n",
    "amount = int(p) * (pow((1 + float(i) / 100), int(t))) \n",
    "ci = amount - int(p)\n",
    "print(amount , ci)"
   ]
  },
  {
   "cell_type": "code",
   "execution_count": 7,
   "metadata": {},
   "outputs": [
    {
     "name": "stdout",
     "output_type": "stream",
     "text": [
      "enter number:4\n",
      "10\n"
     ]
    }
   ],
   "source": [
    "n=int(input(\"enter number:\"))\n",
    "sum = 0\n",
    "for num in range(0, n+1, 1):\n",
    "    sum = sum+num\n",
    "print( sum )"
   ]
  },
  {
   "cell_type": "code",
   "execution_count": 8,
   "metadata": {},
   "outputs": [
    {
     "name": "stdout",
     "output_type": "stream",
     "text": [
      "enter a number:5\n",
      "enter a number:8\n",
      "swapping in the pythonic way\n",
      "8 5\n"
     ]
    }
   ],
   "source": [
    "a=int(input(\"enter a number:\"))\n",
    "b=int(input(\"enter a number:\"))\n",
    "a,b=b,a\n",
    "print(a,b)\n"
   ]
  },
  {
   "cell_type": "code",
   "execution_count": 9,
   "metadata": {},
   "outputs": [
    {
     "name": "stdout",
     "output_type": "stream",
     "text": [
      "enter a string: hello how are you\n",
      "32\n"
     ]
    }
   ],
   "source": [
    "s=input('enter a string: ')\n",
    "print(ord(' '))"
   ]
  },
  {
   "cell_type": "code",
   "execution_count": 10,
   "metadata": {},
   "outputs": [
    {
     "name": "stdout",
     "output_type": "stream",
     "text": [
      "enter a single charctere\n",
      "101\n"
     ]
    }
   ],
   "source": [
    "s=input('enter a single charcter')\n",
    "print(ord(s))"
   ]
  },
  {
   "cell_type": "code",
   "execution_count": 11,
   "metadata": {},
   "outputs": [
    {
     "name": "stdout",
     "output_type": "stream",
     "text": [
      "enter the radius:3.5\n",
      "the circumfrence is 21.98 the area is 38.465\n"
     ]
    }
   ],
   "source": [
    "r=float(input('enter the radius:'))\n",
    "area=3.14*r*r\n",
    "c=2*3.14*r\n",
    "print('the circumfrence is',c,'the area is',area)"
   ]
  },
  {
   "cell_type": "code",
   "execution_count": 13,
   "metadata": {},
   "outputs": [
    {
     "name": "stdout",
     "output_type": "stream",
     "text": [
      "enter marks of subject 1:50.5\n",
      "enter marks of subject 2:90.9\n",
      "enter marks of subject 3:45\n",
      "enter marks of subject 4:88\n",
      "enter marks of subject 5:65.5\n",
      "67.98\n"
     ]
    }
   ],
   "source": [
    "s1=float(input('enter marks of subject 1:'))\n",
    "s2=float(input('enter marks of subject 2:'))\n",
    "s3=float(input('enter marks of subject 3:'))\n",
    "s4=float(input('enter marks of subject 4:'))\n",
    "s5=float(input('enter marks of subject 5:'))\n",
    "per=((s1+s2+s3+s4+s5)*100)/500\n",
    "print(per)"
   ]
  }
 ],
 "metadata": {
  "kernelspec": {
   "display_name": "Python 3",
   "language": "python",
   "name": "python3"
  },
  "language_info": {
   "codemirror_mode": {
    "name": "ipython",
    "version": 3
   },
   "file_extension": ".py",
   "mimetype": "text/x-python",
   "name": "python",
   "nbconvert_exporter": "python",
   "pygments_lexer": "ipython3",
   "version": "3.8.3"
  }
 },
 "nbformat": 4,
 "nbformat_minor": 4
}
