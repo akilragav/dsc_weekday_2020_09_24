{
 "cells": [
  {
   "cell_type": "code",
   "execution_count": 2,
   "metadata": {},
   "outputs": [
    {
     "name": "stdout",
     "output_type": "stream",
     "text": [
      "Enter 1st string value :python\n",
      "Enter 2nd string value :math\n",
      "After swapping the value of n1:math \n",
      " After swapping the value of n2:python\n"
     ]
    }
   ],
   "source": [
    "#WAP to input 2 strings and swap the strings \n",
    "\n",
    "n1=input(\"Enter 1st string value :\")\n",
    "n2=input(\"Enter 2nd string value :\")\n",
    "n1,n2=n2,n1\n",
    "print(f\"After swapping the value of n1:{n1} \\n After swapping the value of n2:{n2}\")"
   ]
  },
  {
   "cell_type": "code",
   "execution_count": 6,
   "metadata": {},
   "outputs": [
    {
     "name": "stdout",
     "output_type": "stream",
     "text": [
      "[8, 19, 20, 25]\n",
      "Average is : 18.0\n"
     ]
    }
   ],
   "source": [
    "#WAP to generate 4 random numbers in the range 0-26 and print their average\n",
    "\n",
    "import random\n",
    "def random_num():\n",
    "    res=[]\n",
    "    i=0\n",
    "    while i<4:\n",
    "        p=random.randrange(0,26)\n",
    "        res.append(p)\n",
    "        i +=1\n",
    "        avg=sum(res)/4\n",
    "    print(res)    \n",
    "    print(f\"Average is :\",avg)\n",
    "    \n",
    "\n",
    "random_num()\n",
    "\n"
   ]
  },
  {
   "cell_type": "code",
   "execution_count": 44,
   "metadata": {},
   "outputs": [
    {
     "data": {
      "text/plain": [
       "'d'"
      ]
     },
     "execution_count": 44,
     "metadata": {},
     "output_type": "execute_result"
    }
   ],
   "source": [
    "#Create a string containing all alphabets and then select a random alphabet\n",
    "#Check the module string \n",
    "import random\n",
    "import string\n",
    "random.choice(string.ascii_letters)\n",
    "\n",
    "\n",
    "\n"
   ]
  },
  {
   "cell_type": "code",
   "execution_count": 59,
   "metadata": {},
   "outputs": [
    {
     "name": "stdout",
     "output_type": "stream",
     "text": [
      "Enter p :100.90\n",
      "Enter r :20\n",
      "Enter t :1.8\n",
      "S.I : 36.324\n",
      "Amount : 3733.3\n"
     ]
    }
   ],
   "source": [
    "#WAF get_si() that takes Principle, Rate and Time as arguments and returns the Simple Interest. \n",
    "\n",
    "def  get_si(p,r,t):\n",
    "    i=(p*r*t)/100\n",
    "    return i\n",
    "def  get_amount(p,r,t):\n",
    "     a = p*1 + p*r*t\n",
    "     return a\n",
    "\n",
    "p=float(input(\"Enter p :\"))\n",
    "r=float(input(\"Enter r :\"))\n",
    "t=float(input(\"Enter t :\"))\n",
    "print(\"S.I :\",get_si(p,r,t))\n",
    "print(\"Amount :\",get_amount(p,r,t)) "
   ]
  },
  {
   "cell_type": "code",
   "execution_count": 60,
   "metadata": {},
   "outputs": [
    {
     "name": "stdout",
     "output_type": "stream",
     "text": [
      "Enter p :1000\n",
      "Enter r :20.5\n",
      "Enter t :1.8\n",
      "Amount : 1398.8678354571364\n"
     ]
    }
   ],
   "source": [
    "#WAP get_ci() that takes Principle, Rate and Time as arguments and returns the Compound Interest. \n",
    "\n",
    "def  get_ci(p,r,t):\n",
    "    res=p*((1+(r/100))**t)\n",
    "    return res\n",
    "\n",
    "p=float(input(\"Enter p :\"))\n",
    "r=float(input(\"Enter r :\"))\n",
    "t=float(input(\"Enter t :\"))\n",
    "print(\"Amount :\",get_ci(p,r,t))\n",
    "\n",
    "\n"
   ]
  },
  {
   "cell_type": "code",
   "execution_count": 2,
   "metadata": {},
   "outputs": [
    {
     "name": "stdout",
     "output_type": "stream",
     "text": [
      "Enter a num :43\n",
      "Enter a num :3\n",
      "Remainder : 1\n",
      "Quotient : 14\n",
      "(1, 14)\n"
     ]
    }
   ],
   "source": [
    "#WAP get_q_r() taking 2 numbers as parameters and returns the quotient and remainder in the form of a tuple.\n",
    "lst=[]\n",
    "num1=int(input(\"Enter a num :\"))\n",
    "num2=int(input(\"Enter a num :\"))\n",
    "r=num1%num2\n",
    "q=num1//num2\n",
    "lst.append(r)\n",
    "lst.append(q)\n",
    "tuple_numbers = tuple(lst)\n",
    "print(f\"Remainder : {r}\")\n",
    "print(f\"Quotient : {q}\")\n",
    "print(tuple_numbers)\n",
    " \n"
   ]
  },
  {
   "cell_type": "code",
   "execution_count": 64,
   "metadata": {},
   "outputs": [
    {
     "name": "stdout",
     "output_type": "stream",
     "text": [
      "Enter height :4\n",
      "Enter base :3\n",
      "Hypotenuse of the triangle is : 5.0\n"
     ]
    }
   ],
   "source": [
    "#WAP to find the length of hypotenuse of a right angled triangle, input the height and base from user.\n",
    "import math\n",
    "\n",
    "height=int(input(\"Enter height :\"))\n",
    "base=int(input(\"Enter base :\"))\n",
    "hypotenuse=math.sqrt((height**2)+(base**2))\n",
    "print(f\"Hypotenuse of the triangle is : {hypotenuse}\")"
   ]
  },
  {
   "cell_type": "code",
   "execution_count": 67,
   "metadata": {},
   "outputs": [
    {
     "name": "stdout",
     "output_type": "stream",
     "text": [
      "14 days, 6:56:07\n"
     ]
    }
   ],
   "source": [
    "#WAP to input number of seconds and print in days, hours, minutes and seconds \n",
    "\n",
    "import datetime \n",
    "  \n",
    "def convert(n): \n",
    "    return str(datetime.timedelta(seconds = n)) \n",
    "      \n",
    "n = 1234567\n",
    "print(convert(n)) "
   ]
  },
  {
   "cell_type": "code",
   "execution_count": 68,
   "metadata": {},
   "outputs": [
    {
     "name": "stdout",
     "output_type": "stream",
     "text": [
      "3.8.3 (default, Jul  2 2020, 17:30:36) [MSC v.1916 64 bit (AMD64)]\n"
     ]
    }
   ],
   "source": [
    "#Check your version of python interpreter without opening the interpreter (Which\n",
    "#command needs to be used on the command line)\n",
    "\n",
    "import sys\n",
    "\n",
    "print(sys.version)"
   ]
  },
  {
   "cell_type": "code",
   "execution_count": 69,
   "metadata": {},
   "outputs": [
    {
     "name": "stdout",
     "output_type": "stream",
     "text": [
      "2 -2\n"
     ]
    }
   ],
   "source": [
    "x=2\n",
    "x *=3\n",
    "x=x%4\n",
    "y=-x\n",
    "print(x,y)"
   ]
  },
  {
   "cell_type": "code",
   "execution_count": 70,
   "metadata": {},
   "outputs": [
    {
     "name": "stdout",
     "output_type": "stream",
     "text": [
      "None\n"
     ]
    }
   ],
   "source": [
    "def funct():\n",
    "    pass\n",
    "print(funct())"
   ]
  },
  {
   "cell_type": "code",
   "execution_count": null,
   "metadata": {},
   "outputs": [],
   "source": []
  }
 ],
 "metadata": {
  "kernelspec": {
   "display_name": "Python 3",
   "language": "python",
   "name": "python3"
  },
  "language_info": {
   "codemirror_mode": {
    "name": "ipython",
    "version": 3
   },
   "file_extension": ".py",
   "mimetype": "text/x-python",
   "name": "python",
   "nbconvert_exporter": "python",
   "pygments_lexer": "ipython3",
   "version": "3.8.3"
  }
 },
 "nbformat": 4,
 "nbformat_minor": 4
}
