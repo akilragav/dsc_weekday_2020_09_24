{
 "cells": [
  {
   "cell_type": "markdown",
   "metadata": {},
   "source": [
    "#1 Input temperature in Fahrenheit in print in Celsius"
   ]
  },
  {
   "cell_type": "code",
   "execution_count": 18,
   "metadata": {},
   "outputs": [
    {
     "name": "stdout",
     "output_type": "stream",
     "text": [
      "Enter Temp in F :877\n",
      "Temp in Celsius is:469.44444444444446\n"
     ]
    }
   ],
   "source": [
    "tempinF=float(input(\"Enter Temp in F :\")) \n",
    "tempinC=((tempinF*5)/9)-(160/9) \n",
    "print(f\"Temp in Celsius is:{tempinC}\")"
   ]
  },
  {
   "cell_type": "markdown",
   "metadata": {},
   "source": [
    "#2 Write a program to input a number and print its square and cube. "
   ]
  },
  {
   "cell_type": "code",
   "execution_count": 19,
   "metadata": {},
   "outputs": [
    {
     "name": "stdout",
     "output_type": "stream",
     "text": [
      "Enter a value :7\n",
      " Square of the no is:49.0 and Cube of the no is :343.0 \n"
     ]
    }
   ],
   "source": [
    "value=float(input(\"Enter a value :\"))\n",
    "squareno=value**2\n",
    "cubeno=value**3\n",
    "print(f\" Square of the no is:{squareno} and Cube of the no is :{cubeno} \")"
   ]
  },
  {
   "cell_type": "markdown",
   "metadata": {},
   "source": [
    "#WAP to input a number n and a number m and print the result of following "
   ]
  },
  {
   "cell_type": "code",
   "execution_count": 3,
   "metadata": {},
   "outputs": [
    {
     "name": "stdout",
     "output_type": "stream",
     "text": [
      "Enter the value of n :3\n",
      "Enter the value of m :4\n",
      "The Result is : 25.0\n"
     ]
    }
   ],
   "source": [
    "number1= float(input(\"Enter the value of n :\"))\n",
    "number2=float(input(\"Enter the value of m :\"))\n",
    "result= pow(number1,2) + pow(number2,2)\n",
    "print(f\"The Result is : {result}\")"
   ]
  },
  {
   "cell_type": "markdown",
   "metadata": {},
   "source": [
    "#4 WAP to input a numbers M and N and print result of MN\n",
    ". (use both ** and pow)"
   ]
  },
  {
   "cell_type": "code",
   "execution_count": 4,
   "metadata": {},
   "outputs": [
    {
     "name": "stdout",
     "output_type": "stream",
     "text": [
      "Enter the value of M :5\n",
      "Enter the value of N :3\n",
      "Result is : 125.0\n"
     ]
    }
   ],
   "source": [
    "value1=float(input(\"Enter the value of M :\"))\n",
    "value2=float(input(\"Enter the value of N :\"))\n",
    "result=pow(value1,value2)\n",
    "print(f\"Result is : {result}\")"
   ]
  },
  {
   "cell_type": "markdown",
   "metadata": {},
   "source": [
    "#5 WAP to input a numbers M and N and print result of MN . (use both ** and pow)"
   ]
  },
  {
   "cell_type": "code",
   "execution_count": 5,
   "metadata": {},
   "outputs": [
    {
     "name": "stdout",
     "output_type": "stream",
     "text": [
      "Enter the value of M :5\n",
      "Enter the value of N :4\n",
      "Result is : 625.0\n"
     ]
    }
   ],
   "source": [
    "value1=float(input(\"Enter the value of M :\"))\n",
    "value2=float(input(\"Enter the value of N :\"))\n",
    "result=value1**value2\n",
    "print(f\"Result is : {result}\")"
   ]
  },
  {
   "cell_type": "markdown",
   "metadata": {},
   "source": [
    "#Write a simple interest calculator. "
   ]
  },
  {
   "cell_type": "code",
   "execution_count": 6,
   "metadata": {},
   "outputs": [
    {
     "name": "stdout",
     "output_type": "stream",
     "text": [
      "Enter the value of Principal :1000\n",
      "Enter the value of Rate :12\n",
      "Enter the value of Time :3\n",
      "Simple interest is : 360.0\n"
     ]
    }
   ],
   "source": [
    "principal=float(input(\"Enter the value of Principal :\"))\n",
    "rate=float(input(\"Enter the value of Rate :\"))\n",
    "time=float(input(\"Enter the value of Time :\"))\n",
    "result=(principal*rate*time)/100\n",
    "print(f\"Simple interest is : {result}\")"
   ]
  },
  {
   "cell_type": "markdown",
   "metadata": {},
   "source": [
    "#6 Input Principal, Rate, Time and print Compound Interest and Amount. "
   ]
  },
  {
   "cell_type": "code",
   "execution_count": 7,
   "metadata": {
    "scrolled": true
   },
   "outputs": [
    {
     "name": "stdout",
     "output_type": "stream",
     "text": [
      "Enter the value of Principal :1000\n",
      "Enter the value of Rate :3\n",
      "Enter the value of Time :3\n",
      "Amount is : 1092.727\n"
     ]
    }
   ],
   "source": [
    "principal=float(input(\"Enter the value of Principal :\"))\n",
    "rate=float(input(\"Enter the value of Rate :\"))\n",
    "time=float(input(\"Enter the value of Time :\"))\n",
    "amount=principal*((1+(rate/100))**time)\n",
    "print(f\"Amount is : {amount}\")"
   ]
  },
  {
   "cell_type": "markdown",
   "metadata": {},
   "source": [
    "#7 WAP to print sum of first n natural numbers. (n needs to be taken as input). "
   ]
  },
  {
   "cell_type": "code",
   "execution_count": 8,
   "metadata": {},
   "outputs": [
    {
     "name": "stdout",
     "output_type": "stream",
     "text": [
      "Enter number :12\n",
      "78\n"
     ]
    }
   ],
   "source": [
    "number=int(input(\"Enter number :\"))\n",
    "sum=0\n",
    "for i in range(0,number):\n",
    "    i +=1\n",
    "    sum =sum+i\n",
    "print(sum)"
   ]
  },
  {
   "cell_type": "markdown",
   "metadata": {},
   "source": [
    "#8 WAP to input 2 numbers and swap them. (write using both normal logic with temp variable )\n"
   ]
  },
  {
   "cell_type": "code",
   "execution_count": 9,
   "metadata": {},
   "outputs": [
    {
     "name": "stdout",
     "output_type": "stream",
     "text": [
      "Enter the 1st no :12\n",
      "Enter the 2nd no :78\n",
      "1st no :78.0\n",
      "2nd no :12.0\n"
     ]
    }
   ],
   "source": [
    "number1=float(input(\"Enter the 1st no :\"))\n",
    "number2=float(input(\"Enter the 2nd no :\"))\n",
    "temp=number1\n",
    "number1=number2\n",
    "number2=temp\n",
    "print(f\"1st no :{number1}\")\n",
    "print(f\"2nd no :{number2}\")"
   ]
  },
  {
   "cell_type": "markdown",
   "metadata": {},
   "source": [
    "WAP to input 2 numbers and swap them. ( using pythonic way). "
   ]
  },
  {
   "cell_type": "code",
   "execution_count": 10,
   "metadata": {},
   "outputs": [
    {
     "name": "stdout",
     "output_type": "stream",
     "text": [
      "Enter the 1st no :12\n",
      "Enter the 2nd no :09\n",
      "1st no :9.0\n",
      "2nd no :12.0\n"
     ]
    }
   ],
   "source": [
    "number1=float(input(\"Enter the 1st no :\"))\n",
    "number2=float(input(\"Enter the 2nd no :\"))\n",
    "number1,number2=number2,number1\n",
    "print(f\"1st no :{number1}\")\n",
    "print(f\"2nd no :{number2}\")"
   ]
  },
  {
   "cell_type": "markdown",
   "metadata": {},
   "source": [
    "Input a single character and print its ascii values"
   ]
  },
  {
   "cell_type": "code",
   "execution_count": 30,
   "metadata": {},
   "outputs": [
    {
     "name": "stdout",
     "output_type": "stream",
     "text": [
      "32\n"
     ]
    }
   ],
   "source": [
    "print(ord(' '))\n"
   ]
  },
  {
   "cell_type": "code",
   "execution_count": 11,
   "metadata": {},
   "outputs": [
    {
     "name": "stdout",
     "output_type": "stream",
     "text": [
      "Enter the 1st no :t\n",
      "The ascii value of t is : 116\n"
     ]
    }
   ],
   "source": [
    "value1=input(\"Enter the 1st no :\")\n",
    "val =ord(value1)\n",
    "print(f\"The ascii value of {value1} is : {val}\")"
   ]
  },
  {
   "cell_type": "code",
   "execution_count": 14,
   "metadata": {},
   "outputs": [
    {
     "name": "stdout",
     "output_type": "stream",
     "text": [
      "Enter no in Subject1 :78\n",
      "Enter no in Subject2 :89\n",
      "Enter no in Subject3 :45\n",
      "Enter no in Subject4 :89\n",
      "Enter no in Subject5 :78\n",
      "Total Percentage : 75.8 %\n"
     ]
    }
   ],
   "source": [
    "sub1=float(input(\"Enter no in Subject1 :\"))\n",
    "sub2=float(input(\"Enter no in Subject2 :\"))\n",
    "sub3=float(input(\"Enter no in Subject3 :\"))\n",
    "sub4=float(input(\"Enter no in Subject4 :\"))\n",
    "sub5=float(input(\"Enter no in Subject5 :\"))\n",
    "total=(sub1+sub2+sub3+sub4+sub5)\n",
    "percentage=(total/500)*100\n",
    "print(f\"Total Percentage : {percentage} %\")"
   ]
  },
  {
   "cell_type": "markdown",
   "metadata": {},
   "source": [
    "#WAP that takes area of a circle and gives back the radius and circumference. "
   ]
  },
  {
   "cell_type": "code",
   "execution_count": 12,
   "metadata": {},
   "outputs": [
    {
     "name": "stdout",
     "output_type": "stream",
     "text": [
      "Enter the area of Circle :400\n",
      "Radius of the circle is : 11.286652959662007\n",
      "Circumference of the circle is : 70.88018058667741\n"
     ]
    }
   ],
   "source": [
    "area=float(input(\"Enter the area of Circle :\"))\n",
    "radius=(area/3.14)**(1/2)\n",
    "circumference = 2 * 3.14 * radius\n",
    "print(f\"Radius of the circle is : {radius}\")\n",
    "print(f\"Circumference of the circle is : {circumference}\")"
   ]
  },
  {
   "cell_type": "code",
   "execution_count": null,
   "metadata": {},
   "outputs": [],
   "source": []
  },
  {
   "cell_type": "code",
   "execution_count": null,
   "metadata": {},
   "outputs": [],
   "source": []
  }
 ],
 "metadata": {
  "kernelspec": {
   "display_name": "Python 3",
   "language": "python",
   "name": "python3"
  },
  "language_info": {
   "codemirror_mode": {
    "name": "ipython",
    "version": 3
   },
   "file_extension": ".py",
   "mimetype": "text/x-python",
   "name": "python",
   "nbconvert_exporter": "python",
   "pygments_lexer": "ipython3",
   "version": "3.8.3"
  }
 },
 "nbformat": 4,
 "nbformat_minor": 4
}
