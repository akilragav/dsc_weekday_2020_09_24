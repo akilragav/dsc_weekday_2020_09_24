{
 "cells": [
  {
   "cell_type": "code",
   "execution_count": 3,
   "metadata": {},
   "outputs": [
    {
     "name": "stdout",
     "output_type": "stream",
     "text": [
      "Enter num1 :13\n",
      "Enter num2 :4\n",
      "False\n"
     ]
    }
   ],
   "source": [
    "#WAP to input 2 numbers and check whether the first is divisible by the second and print true or\n",
    "#false depending on the divisibility.\n",
    "\n",
    "num1=int(input(\"Enter num1 :\"))\n",
    "num2=int(input(\"Enter num2 :\"))\n",
    "if num1 % num2==0:\n",
    "    print(\"True\")\n",
    "else:\n",
    "    print(\"False\")\n"
   ]
  },
  {
   "cell_type": "code",
   "execution_count": 12,
   "metadata": {},
   "outputs": [
    {
     "name": "stdout",
     "output_type": "stream",
     "text": [
      "Enter string :Naman\n",
      "String is Palindrome\n"
     ]
    }
   ],
   "source": [
    "#In the palindrome example, make the code case insensitive.\n",
    "#i.e. Naman should also be treated as a palindrome (HINT: first convert to either upper or\n",
    "#lower case).\n",
    "\n",
    "p=input(\"Enter string :\")\n",
    "s=p.lower()\n",
    "revstr=s[::-1]\n",
    "if s==revstr:\n",
    "    print(\"String is Palindrome\")\n",
    "else:\n",
    "    print(\"String is not Palindrome\")\n",
    "\n",
    "\n",
    "\n"
   ]
  },
  {
   "cell_type": "code",
   "execution_count": 18,
   "metadata": {},
   "outputs": [
    {
     "name": "stdout",
     "output_type": "stream",
     "text": [
      "Enter Side1 :12\n",
      "Enter Side2 :70\n",
      "Enter Side3 :70\n",
      "isosceles Triangle\n"
     ]
    }
   ],
   "source": [
    "#WAP to input the sides of a triangle and print whether equilateral(all sides equal), isosceles (2\n",
    "#sides equal), or scalene (no sides equal). \n",
    "\n",
    "side1=input(\"Enter Side1 :\")\n",
    "side2=input(\"Enter Side2 :\")\n",
    "side3=input(\"Enter Side3 :\")\n",
    "if(side1==side2 and side2==side3):\n",
    "    print(\"equilateral Triangle\")   \n",
    "elif(side1==side2 or side1==side3 or side2==side3): \n",
    "    print(\"isosceles Triangle\")\n",
    "else:\n",
    "    print(\"scalene Triangle\")\n",
    "    \n",
    "   "
   ]
  },
  {
   "cell_type": "code",
   "execution_count": 22,
   "metadata": {},
   "outputs": [
    {
     "name": "stdout",
     "output_type": "stream",
     "text": [
      "Enter number :28\n",
      "Number is even\n"
     ]
    }
   ],
   "source": [
    "#WAP to input a number and print if it is even or odd. \n",
    "num=int(input(\"Enter number :\"))\n",
    "if num % 2==0:\n",
    "    print(\"Number is even\")\n",
    "else:\n",
    "    print(\"Number is odd\")\n",
    "\n"
   ]
  },
  {
   "cell_type": "code",
   "execution_count": 32,
   "metadata": {},
   "outputs": [
    {
     "name": "stdout",
     "output_type": "stream",
     "text": [
      "Enter number :78\n",
      "Senior Citizen\n"
     ]
    }
   ],
   "source": [
    "#WAP to input age and print the respective text depending on the age ranges as present in the table. \n",
    "\n",
    "age=int(input(\"Enter number :\"))\n",
    "\n",
    "if age>=0 and age <=12:\n",
    "    print(\"Child\")\n",
    "elif age>=13 and age <=17:\n",
    "    print(\"Teen\")\n",
    "elif age>=18 and age <=50:\n",
    "    print(\"Adult\")\n",
    "elif age>=51 and age <=100: \n",
    "    print(\"Senior Citizen\")\n",
    "elif age>100:\n",
    "    print(\"Contratulations\")\n",
    "else:\n",
    "    print(\"Not a correct input\")\n",
    "    \n"
   ]
  },
  {
   "cell_type": "code",
   "execution_count": 36,
   "metadata": {},
   "outputs": [
    {
     "name": "stdout",
     "output_type": "stream",
     "text": [
      "Enter string :Python\n",
      "PYTHON\n"
     ]
    }
   ],
   "source": [
    "#WAP to input a string and convert it to Upper Case if number of characters is odd and convert to\n",
    "#lower case otherwise. \n",
    "val=input(\"Enter string :\")\n",
    "valstr=len(val)\n",
    "if valstr % 2==0:\n",
    "    a=val.upper()\n",
    "    print(a)\n",
    "else:\n",
    "    b=val.lower()\n",
    "    print(b)\n"
   ]
  },
  {
   "cell_type": "code",
   "execution_count": 42,
   "metadata": {},
   "outputs": [
    {
     "name": "stdout",
     "output_type": "stream",
     "text": [
      "Enter string :fgdhfghEgGuiyiio\n",
      "Non Veg\n"
     ]
    }
   ],
   "source": [
    "#WAP to input a string and print Veg if the string doesn’t contain the word egg. Otherwise print\n",
    "#Non-Veg. As usual eggs can be both big and small. \n",
    "\n",
    "strn=input(\"Enter string :\")\n",
    "s=strn.lower()\n",
    "if s.find('egg') != -1:\n",
    "    print(\"Non Veg\")\n",
    "else:\n",
    "    print(\"Veg\")"
   ]
  },
  {
   "cell_type": "code",
   "execution_count": 43,
   "metadata": {},
   "outputs": [
    {
     "name": "stdout",
     "output_type": "stream",
     "text": [
      "True\n"
     ]
    }
   ],
   "source": [
    "if not 1:\n",
    "    print(\"False\")\n",
    "else:\n",
    "    print(\"True\")"
   ]
  },
  {
   "cell_type": "code",
   "execution_count": 44,
   "metadata": {},
   "outputs": [
    {
     "name": "stdout",
     "output_type": "stream",
     "text": [
      "True\n"
     ]
    }
   ],
   "source": [
    "if 1:\n",
    "    print(\"True\")\n",
    "else:\n",
    "    print(\"False\")"
   ]
  },
  {
   "cell_type": "code",
   "execution_count": 45,
   "metadata": {},
   "outputs": [
    {
     "name": "stdout",
     "output_type": "stream",
     "text": [
      "Weird\n"
     ]
    }
   ],
   "source": [
    "if 'a' > 'A':\n",
    "    print('Weird')\n",
    "else:\n",
    "    print('Makes sence')\n",
    "    "
   ]
  },
  {
   "cell_type": "code",
   "execution_count": 46,
   "metadata": {},
   "outputs": [
    {
     "name": "stdout",
     "output_type": "stream",
     "text": [
      "[4, 3, 2, 1]\n"
     ]
    }
   ],
   "source": [
    "a=[1,2,3,4]\n",
    "if 1 > 1:\n",
    "    a=a[::-1]\n",
    "else:\n",
    "    a=a[-1::-1]\n",
    "    print(a)"
   ]
  },
  {
   "cell_type": "code",
   "execution_count": 51,
   "metadata": {},
   "outputs": [
    {
     "name": "stdout",
     "output_type": "stream",
     "text": [
      "Enter Sub1 :45\n",
      "Enter Sub2 :78\n",
      "Enter Sub3 :34\n",
      "Enter Sub4 :67\n",
      "Enter Sub5 :90\n",
      "62.8\n",
      "Grade C\n"
     ]
    }
   ],
   "source": [
    "#. WAP to input marks in 5 subjects and print the grade as per following logic: \n",
    "\n",
    "sub1=int(input(\"Enter Sub1 :\"))\n",
    "sub2=int(input(\"Enter Sub2 :\"))\n",
    "sub3=int(input(\"Enter Sub3 :\"))\n",
    "sub4=int(input(\"Enter Sub4 :\"))\n",
    "sub5=int(input(\"Enter Sub5 :\"))\n",
    "per=((sub1+sub2+sub3+sub4+sub5)/5)\n",
    "print(per)\n",
    "if per>=90 and per <=100:\n",
    "    print(\"Grade A\")\n",
    "elif per>=80 and per <=89:\n",
    "    print(\"Grade B\")\n",
    "elif per>=60 and per <=79:\n",
    "    print(\"Grade C\")\n",
    "else:\n",
    "    print(\"Grade C\")    \n",
    "\n",
    "    "
   ]
  },
  {
   "cell_type": "code",
   "execution_count": 54,
   "metadata": {},
   "outputs": [
    {
     "name": "stdout",
     "output_type": "stream",
     "text": [
      "Enter Salary :1000000\n",
      "Enter Age :70\n",
      "80000.0\n"
     ]
    }
   ],
   "source": [
    "salary=int(input(\"Enter Salary :\"))\n",
    "age=int(input(\"Enter Age :\"))\n",
    "\n",
    "if salary >=0 and salary <=250000 and (age>=60 or age<60):\n",
    "    print(\"0\")\n",
    "elif salary >250000 and salary <=500000 and age<60:\n",
    "    tax=(salary*5)/100\n",
    "    print(tax)\n",
    "elif salary >250000 and salary <=500000 and age>=60:\n",
    "    tax=(salary*3)/100 \n",
    "    print(tax)\n",
    "elif salary >500000 and salary <=1000000 and age<60:\n",
    "    tax=(salary*10)/100 \n",
    "    print(tax) \n",
    "elif salary >500000 and salary <=1000000 and age>=60:\n",
    "    tax=(salary*8)/100 \n",
    "    print(tax)\n",
    "elif salary >1000000 and age<60:\n",
    "    tax=(salary*15)/100 \n",
    "    print(tax)\n",
    "elif salary >1000000 and age>=60:\n",
    "    tax=(salary*12)/100 \n",
    "    print(tax)   \n",
    "      \n",
    "    "
   ]
  },
  {
   "cell_type": "code",
   "execution_count": 60,
   "metadata": {},
   "outputs": [
    {
     "name": "stdout",
     "output_type": "stream",
     "text": [
      "10\n",
      "10\n",
      "10\n",
      "OMG\n"
     ]
    }
   ],
   "source": [
    "print(20 if not 1==1 else 10)\n",
    "\n",
    "print(30 if not 1==1 else 20 if 'a'<'A' else 10)\n",
    "\n",
    "print(40 if not 1==1 else 30 if 'a'<'A' else 20 if '' else 10)\n",
    "\n",
    "print('No' if not 1==1 else('No' if 'a'<'A' else('OMG' if 'oh!!' else 'No')))"
   ]
  },
  {
   "cell_type": "code",
   "execution_count": 63,
   "metadata": {},
   "outputs": [
    {
     "name": "stdout",
     "output_type": "stream",
     "text": [
      "enter height in cm :152.4\n",
      "enter weight in kg :56\n",
      "Under Weight\n"
     ]
    }
   ],
   "source": [
    "#WAF: bmi() that takes the weight in kg and height in cm of a person, calculates and returns the BMI.\n",
    "height=float(input(\"enter height in cm :\"))\n",
    "weight=float(input(\"enter weight in kg :\"))\n",
    "h=height*100\n",
    "BMI=(weight/height**2)\n",
    "\n",
    "if BMI>=0 and BMI <=18.5:\n",
    "    print(\"Under Weight\")\n",
    "elif BMI>18.5 and BMI <=23: \n",
    "    print(\"Normal Range\")\n",
    "elif BMI>23 and BMI <=25: \n",
    "    print(\"Overweight—At Risk\")\n",
    "elif BMI>25 and BMI <=30: \n",
    "    print(\"Overweight—Moderately Obese\") \n",
    "elif BMI>30:\n",
    "    print(\"Overweight—Severely Obese\")"
   ]
  },
  {
   "cell_type": "code",
   "execution_count": 66,
   "metadata": {},
   "outputs": [
    {
     "name": "stdout",
     "output_type": "stream",
     "text": [
      "enter age of 1st Person :20\n",
      "enter age of 2nd Person :40\n",
      "enter age of 3rd Person :16\n",
      "2nd person is oldest\n",
      "The oldest age is :  40\n",
      "3rd person is youngest\n",
      "The youngest age is :  16\n"
     ]
    }
   ],
   "source": [
    "#Take input of age of 3 people by user and determine oldest and youngest among them. \n",
    "p1=int(input(\"enter age of 1st Person :\"))\n",
    "p2=int(input(\"enter age of 2nd Person :\"))\n",
    "p3=int(input(\"enter age of 3rd Person :\"))\n",
    "\n",
    "def oldest(p1, p2, p3):\n",
    "    if (p1 > p2) and (p1 > p3):\n",
    "        oldest_age = p1\n",
    "        print(\"1st person is oldest\")\n",
    "    elif (p2 > p1) and (p2 > p3):\n",
    "        oldest_age = p2\n",
    "        print(\"2nd person is oldest\")\n",
    "    else:\n",
    "        oldest_age = p3\n",
    "        print(\"3rd person is oldest\")\n",
    "    print(\"The oldest age is : \", oldest_age)\n",
    "    \n",
    "def youngest(p1, p2, p3):\n",
    "    if (p1 < p2) and (p1 < p3):\n",
    "        youngest_age = p1\n",
    "        print(\"1st person is youngest\")\n",
    "    elif (p2 < p1) and (p2 < p3):\n",
    "        youngest_age = p2\n",
    "        print(\"2nd person is youngest\")\n",
    "    else:\n",
    "        youngest_age = p3\n",
    "        print(\"3rd person is youngest\")\n",
    "    print(\"The youngest age is : \", youngest_age)\n",
    "    \n",
    "oldest(p1, p2, p3)\n",
    "youngest(p1, p2, p3)    "
   ]
  },
  {
   "cell_type": "code",
   "execution_count": 69,
   "metadata": {},
   "outputs": [
    {
     "name": "stdout",
     "output_type": "stream",
     "text": [
      "Enter the number :35\n",
      "True\n"
     ]
    }
   ],
   "source": [
    "#WAP to input a number and check if number is divisible by both 5 and 7.\n",
    "\n",
    "num=int(input(\"Enter the number :\"))\n",
    "if (num % 5==0) and (num % 7 ==0):\n",
    "    print(\"True\")\n",
    "else:\n",
    "    print(\"False\")"
   ]
  },
  {
   "cell_type": "code",
   "execution_count": null,
   "metadata": {},
   "outputs": [],
   "source": []
  }
 ],
 "metadata": {
  "kernelspec": {
   "display_name": "Python 3",
   "language": "python",
   "name": "python3"
  },
  "language_info": {
   "codemirror_mode": {
    "name": "ipython",
    "version": 3
   },
   "file_extension": ".py",
   "mimetype": "text/x-python",
   "name": "python",
   "nbconvert_exporter": "python",
   "pygments_lexer": "ipython3",
   "version": "3.8.3"
  }
 },
 "nbformat": 4,
 "nbformat_minor": 4
}
