{
 "cells": [
  {
   "cell_type": "code",
   "execution_count": 3,
   "metadata": {},
   "outputs": [
    {
     "name": "stdout",
     "output_type": "stream",
     "text": [
      "Enter a string :Python\n",
      "P\n",
      "y\n",
      "t\n",
      "h\n",
      "o\n",
      "n\n"
     ]
    }
   ],
   "source": [
    "#WAP to input a string and print individual characters in the string using for loop. \n",
    "\n",
    "r=input(\"Enter a string :\")\n",
    "for i in r:\n",
    "    print(i)\n",
    "\n"
   ]
  },
  {
   "cell_type": "code",
   "execution_count": 4,
   "metadata": {},
   "outputs": [
    {
     "name": "stdout",
     "output_type": "stream",
     "text": [
      "Enter a string :Hello\n",
      "Ordinal value of H is:72 \n",
      "Ordinal value of e is:101 \n",
      "Ordinal value of l is:108 \n",
      "Ordinal value of l is:108 \n",
      "Ordinal value of o is:111 \n"
     ]
    }
   ],
   "source": [
    "#WAP to input a string and print the ASCII value of each character in the string. \n",
    "\n",
    "r=input(\"Enter a string :\")\n",
    "for i in r:\n",
    "    s=ord(i)\n",
    "    print(f\"Ordinal value of {i} is:{s} \")"
   ]
  },
  {
   "cell_type": "code",
   "execution_count": 17,
   "metadata": {},
   "outputs": [
    {
     "name": "stdout",
     "output_type": "stream",
     "text": [
      "Enter total no of elements :4\n",
      "Enter the value of elements in List :10\n",
      "Enter the value of elements in List :23\n",
      "Enter the value of elements in List :45\n",
      "Enter the value of elements in List :79\n",
      "[10, 23, 45, 79]\n",
      "The sum of odd numbers in this list is :147\n"
     ]
    }
   ],
   "source": [
    "#Write a function that takes a list of numbers from user as argument and returns the sum of only\n",
    "#odd numbers (Use only for loop. No need to use if statement)\n",
    "\n",
    "a=[]\n",
    "sum=0\n",
    "n=int(input(\"Enter total no of elements :\"))\n",
    "for i in range(0,n):\n",
    "    p=int(input(\"Enter the value of elements in List :\"))\n",
    "    a.append(p)\n",
    "print(a)    \n",
    "\n",
    "for j in range(n):\n",
    "    if a[j] % 2 !=0:\n",
    "        sum=sum+a[j]\n",
    "print(f\"The sum of odd numbers in this list is :{sum}\")\n"
   ]
  },
  {
   "cell_type": "code",
   "execution_count": 149,
   "metadata": {},
   "outputs": [
    {
     "name": "stdout",
     "output_type": "stream",
     "text": [
      "Provide numbers separated by comma: 10,20,30\n",
      "\n",
      "List : \n",
      "\t['10', '20', '30'] \n",
      "\n",
      "Tuple: \n",
      "\t('10', '20', '30') \n",
      "Provide 2nd numbers separated by comma: 10,20,30,40,50,60,70\n",
      "\n",
      " 2nd List : \n",
      "\t['10', '20', '30', '40', '50', '60', '70'] \n",
      "\n",
      "2nd Tuple: \n",
      "\t(0, 1, 2, 3, 4, 5, 6) \n"
     ]
    }
   ],
   "source": [
    "#WAP to input a list of numbers and store in a tuple. Now input another number and print the\n",
    "#index of this number in the tuple. [Use index function] \n",
    "\n",
    "number = input(\"Provide numbers separated by comma: \")\n",
    "lst=[]\n",
    "list_numbers = number.split(\",\")\n",
    "tuple_numbers = tuple(list_numbers)\n",
    "\n",
    "print(f\"\\nList : \")\n",
    "print(f\"\\t{list_numbers} \")\n",
    "print(\"\\nTuple: \")\n",
    "print(f\"\\t{tuple_numbers} \")\n",
    "\n",
    "anothernum = input(\"Provide 2nd numbers separated by comma: \")\n",
    "\n",
    "list_num = anothernum.split(\",\")\n",
    "tp_num = tuple(list_num)\n",
    "for i in list_num:\n",
    "    tp=tp_num.index(i)\n",
    "    lst.append(tp)\n",
    "\n",
    "tup_numbers = tuple(lst)\n",
    "print(f\"\\n 2nd List : \")\n",
    "print(f\"\\t{list_num} \")\n",
    "print(\"\\n2nd Tuple: \")\n",
    "print(f\"\\t{tup_numbers} \")"
   ]
  },
  {
   "cell_type": "code",
   "execution_count": 150,
   "metadata": {
    "scrolled": true
   },
   "outputs": [
    {
     "name": "stdout",
     "output_type": "stream",
     "text": [
      "[6, 6, 1, 0, 2, 1, 9, 8, 7, 3]\n",
      "Sum is : 43\n",
      "Average is : 4.3\n",
      "Even Index from List: [6, 0, 1, 8, 3]\n"
     ]
    }
   ],
   "source": [
    "#Create a list of 10 random numbers and then print the list, sum of all numbers and average. Use\n",
    "#a for loop. Also print elements at only even indexes in the list. \n",
    "\n",
    "import random\n",
    "\n",
    "def num_lst():\n",
    "    res=[]\n",
    "    even_lst=[]\n",
    "    i=0\n",
    "    s=0\n",
    "    while i<10:\n",
    "        p=random.randrange(0,10)\n",
    "        res.append(p)        \n",
    "        s=s+p\n",
    "        avg=s/len(res)\n",
    "        if i % 2:\n",
    "            even_lst.append(res[i]) \n",
    "        i +=1\n",
    "    print(res)\n",
    "    print(f\"Sum is :\",s)\n",
    "    print(f\"Average is :\",avg)\n",
    "    print(\"Even Index from List:\",even_lst)\n",
    "\n",
    "num_lst()\n",
    "\n",
    "\n",
    "    \n"
   ]
  },
  {
   "cell_type": "code",
   "execution_count": 84,
   "metadata": {},
   "outputs": [
    {
     "name": "stdout",
     "output_type": "stream",
     "text": [
      "Enter numbers :10\n",
      "Enter numbers :20\n",
      "Enter numbers :30\n",
      "Enter numbers :40\n",
      "Enter numbers :50\n",
      "Enter numbers :60\n",
      "Enter numbers :70\n",
      "Enter numbers :80\n",
      "Enter numbers :90\n",
      "Enter numbers :100\n",
      "[10, 20, 30, 40, 50, 60, 70, 80, 90, 100]\n",
      "Sum of the elements in the list is : 550\n"
     ]
    }
   ],
   "source": [
    "#WAP to input 10 numbers repeatedly (using range based for loop) and store them in a list. Print\n",
    "#the list and sum of numbers in the list. \n",
    "\n",
    "a=[]\n",
    "s=0\n",
    "for i in range(0,10):\n",
    "    r=int(input(\"Enter numbers :\"))\n",
    "    a.append(r)\n",
    "print(a)\n",
    "for j in a:\n",
    "    s=s+j\n",
    "print(\"Sum of the elements in the list is :\",s)\n",
    "    \n",
    "    \n",
    "\n",
    "\n"
   ]
  },
  {
   "cell_type": "code",
   "execution_count": 86,
   "metadata": {},
   "outputs": [
    {
     "name": "stdout",
     "output_type": "stream",
     "text": [
      "7*1 = 7\n",
      "7*2 = 14\n",
      "7*3 = 21\n",
      "7*4 = 28\n",
      "7*5 = 35\n",
      "7*6 = 42\n",
      "7*7 = 49\n",
      "7*8 = 56\n",
      "7*9 = 63\n",
      "7*10 = 70\n"
     ]
    }
   ],
   "source": [
    "for i in range(1,11):\n",
    "    m=(7*i)\n",
    "    print(f\"7*{i} = {m}\")"
   ]
  },
  {
   "cell_type": "code",
   "execution_count": 88,
   "metadata": {},
   "outputs": [
    {
     "name": "stdout",
     "output_type": "stream",
     "text": [
      "Enter the string:    P          yth     on\n",
      "The number of spaces in the string is:  18\n"
     ]
    }
   ],
   "source": [
    "#WAP to print total number of spaces in a string (Use for loop to iterate over the string\n",
    "s=input(\"Enter the string: \")\n",
    "space=0\n",
    "for i in range(0,len(s)):\n",
    "  if(s[i]==' '):\n",
    "    space=space+1\n",
    "print(\"The number of spaces in the string is: \",space)"
   ]
  },
  {
   "cell_type": "code",
   "execution_count": 91,
   "metadata": {},
   "outputs": [
    {
     "name": "stdout",
     "output_type": "stream",
     "text": [
      "Enter the string: pYthOn\n",
      "Vowels : 1\n",
      "Consonents : 5\n"
     ]
    }
   ],
   "source": [
    "#WAP to input a string and count number of vowels in the string. [Note: it should work for both\n",
    "#capital and small alphabets]\n",
    "\n",
    "s=input(\"Enter the string: \")\n",
    "v=0\n",
    "c=0\n",
    "val = s.lower(); \n",
    "for i in val:\n",
    "    if i in ('a','e','i','o','u'):\n",
    "        v=v+1\n",
    "    else:\n",
    "        c=c+1\n",
    "print(f\"Vowels : {v}\")        \n",
    "print(f\"Consonents : {c}\")        \n",
    "    "
   ]
  },
  {
   "cell_type": "code",
   "execution_count": 126,
   "metadata": {},
   "outputs": [
    {
     "name": "stdout",
     "output_type": "stream",
     "text": [
      "B_ng_l_r_\n"
     ]
    }
   ],
   "source": [
    "#WAP to input a string and replace all vowels with ‘_’\n",
    "\n",
    "def remove_vowel(string): \n",
    "    vowels = ('a', 'e', 'i', 'o', 'u')  \n",
    "    for i in string.lower(): \n",
    "        if i in vowels: \n",
    "            string = string.replace(i, \"_\") \n",
    "              \n",
    "    print(string) \n",
    "\n",
    "remove_vowel('Bangalore')\n"
   ]
  },
  {
   "cell_type": "code",
   "execution_count": 127,
   "metadata": {},
   "outputs": [
    {
     "name": "stdout",
     "output_type": "stream",
     "text": [
      "Num :  0\n",
      "loops end\n"
     ]
    }
   ],
   "source": [
    "for num in range(10):\n",
    "    print(\"Num : \",num)\n",
    "    if num % 4 == 0:\n",
    "        break\n",
    "print(\"loops end\")\n",
    "\n",
    "        "
   ]
  },
  {
   "cell_type": "code",
   "execution_count": 128,
   "metadata": {},
   "outputs": [
    {
     "name": "stdout",
     "output_type": "stream",
     "text": [
      "Num :  0\n"
     ]
    },
    {
     "ename": "SystemExit",
     "evalue": "",
     "output_type": "error",
     "traceback": [
      "An exception has occurred, use %tb to see the full traceback.\n",
      "\u001b[1;31mSystemExit\u001b[0m\n"
     ]
    },
    {
     "name": "stderr",
     "output_type": "stream",
     "text": [
      "C:\\ProgramData\\Anaconda3\\lib\\site-packages\\IPython\\core\\interactiveshell.py:3351: UserWarning: To exit: use 'exit', 'quit', or Ctrl-D.\n",
      "  warn(\"To exit: use 'exit', 'quit', or Ctrl-D.\", stacklevel=1)\n"
     ]
    }
   ],
   "source": [
    "import sys\n",
    "\n",
    "for num in range(10):\n",
    "    print(\"Num : \",num)\n",
    "    if num % 4 == 0:\n",
    "        sys.exit()\n",
    "print(\"loop ends\")        "
   ]
  },
  {
   "cell_type": "code",
   "execution_count": 129,
   "metadata": {},
   "outputs": [
    {
     "name": "stdout",
     "output_type": "stream",
     "text": [
      "*****\n",
      "*****\n",
      "*****\n",
      "*****\n",
      "*****\n"
     ]
    }
   ],
   "source": [
    "for i1 in range (1,6):\n",
    "    for i2 in range(5):\n",
    "        print('*',end='')\n",
    "    print()        "
   ]
  },
  {
   "cell_type": "code",
   "execution_count": 130,
   "metadata": {},
   "outputs": [
    {
     "name": "stdout",
     "output_type": "stream",
     "text": [
      "1\n",
      "22\n",
      "333\n",
      "4444\n",
      "55555\n"
     ]
    }
   ],
   "source": [
    "for i1 in range(1,6):\n",
    "    for i2 in range(i1):\n",
    "        print(i1,end='')\n",
    "    print()   "
   ]
  },
  {
   "cell_type": "code",
   "execution_count": 131,
   "metadata": {},
   "outputs": [
    {
     "name": "stdout",
     "output_type": "stream",
     "text": [
      "11\n",
      "222\n",
      "3333\n",
      "44444\n",
      "555555\n"
     ]
    }
   ],
   "source": [
    "for i1 in range(1,6):\n",
    "    for i2 in range(i1+1):\n",
    "        print(i1,end='')\n",
    "    print()"
   ]
  },
  {
   "cell_type": "code",
   "execution_count": null,
   "metadata": {},
   "outputs": [],
   "source": []
  }
 ],
 "metadata": {
  "kernelspec": {
   "display_name": "Python 3",
   "language": "python",
   "name": "python3"
  },
  "language_info": {
   "codemirror_mode": {
    "name": "ipython",
    "version": 3
   },
   "file_extension": ".py",
   "mimetype": "text/x-python",
   "name": "python",
   "nbconvert_exporter": "python",
   "pygments_lexer": "ipython3",
   "version": "3.8.3"
  }
 },
 "nbformat": 4,
 "nbformat_minor": 4
}
