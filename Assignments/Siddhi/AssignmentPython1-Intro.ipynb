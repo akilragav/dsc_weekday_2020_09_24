{
 "cells": [
  {
   "cell_type": "code",
   "execution_count": 5,
   "metadata": {},
   "outputs": [],
   "source": [
    "# 1. Predict Output:\n",
    "\n",
    "# s1 = 'Gaurav'\n",
    "# s2 = 'tuteur.py@gmail.com'\n",
    "# print(len(s1),len(s2))\n",
    "\n",
    "# Solution:\n",
    "# 6 19"
   ]
  },
  {
   "cell_type": "code",
   "execution_count": 6,
   "metadata": {},
   "outputs": [
    {
     "name": "stdout",
     "output_type": "stream",
     "text": [
      "Enter a string: asdfdfsdvfvb\n",
      "Length of the string is:  12\n"
     ]
    }
   ],
   "source": [
    "# 2. WAP to input a string and print its length. \n",
    "\n",
    "str = input(\"Enter a string: \")\n",
    "print(\"Length of the string is: \",len(str))"
   ]
  },
  {
   "cell_type": "code",
   "execution_count": 1,
   "metadata": {},
   "outputs": [
    {
     "name": "stdout",
     "output_type": "stream",
     "text": [
      "Enter a number: 2\n",
      "Enter another number: 3\n",
      "The sum is 5 and the difference is -1\n"
     ]
    }
   ],
   "source": [
    "# 3. WAP to input 2 numbers and print their sum and difference. \n",
    "\n",
    "n1,n2 = int(input(\"Enter a number: \")), int(input(\"Enter another number: \"))\n",
    "print(\"The sum is {0} and the difference is {1}\".format(n1+n2, n1-n2))\n"
   ]
  },
  {
   "cell_type": "code",
   "execution_count": 3,
   "metadata": {},
   "outputs": [],
   "source": [
    "# # 4. Predict output: \n",
    "\n",
    "# s1 = 'ab'\n",
    "# s2 = 'de'\n",
    "# s3 = s1+s2\n",
    "# print(s3)\n",
    "\n",
    "# Solution:\n",
    "# abde"
   ]
  },
  {
   "cell_type": "code",
   "execution_count": 4,
   "metadata": {},
   "outputs": [],
   "source": [
    "# 5. Predict output: \n",
    "\n",
    "# s1 = 'ab'\n",
    "# s2 = 'de'\n",
    "# s3 = s1+s2\n",
    "# print(s3)\n",
    "\n",
    "# Solution:\n",
    "# abde"
   ]
  },
  {
   "cell_type": "code",
   "execution_count": 6,
   "metadata": {},
   "outputs": [
    {
     "name": "stdout",
     "output_type": "stream",
     "text": [
      "abababab\n"
     ]
    }
   ],
   "source": [
    "# 6. Predict output: \n",
    "\n",
    "# s1 = 'ab'*4\n",
    "# print(s1)\n",
    "\n",
    "# Solution:\n",
    "# abababab"
   ]
  },
  {
   "cell_type": "code",
   "execution_count": 2,
   "metadata": {},
   "outputs": [],
   "source": [
    "# 7. Predict output: \n",
    "\n",
    "# s1 = 'ab\\n'*4\n",
    "# print(s1)\n",
    "\n",
    "# Solution:\n",
    "# ab\n",
    "# ab\n",
    "# ab"
   ]
  },
  {
   "cell_type": "code",
   "execution_count": 13,
   "metadata": {},
   "outputs": [
    {
     "name": "stdout",
     "output_type": "stream",
     "text": [
      "Enter a string: yvi, 8iuki\n",
      "Enter a multiplication factor: 9\n",
      "yvi, 8iukiyvi, 8iukiyvi, 8iukiyvi, 8iukiyvi, 8iukiyvi, 8iukiyvi, 8iukiyvi, 8iukiyvi, 8iuki\n"
     ]
    }
   ],
   "source": [
    "# 8. WAP to input a string s and a number n. Print the string n times on the screen, each should\n",
    "# appear in a separate line (do not use any kind of loops, use the multiplication operator). \n",
    "\n",
    "s = input(\"Enter a string: \")\n",
    "n = int(input(\"Enter a multiplication factor: \"))\n",
    "print(s*n)"
   ]
  },
  {
   "cell_type": "code",
   "execution_count": 14,
   "metadata": {},
   "outputs": [
    {
     "name": "stdout",
     "output_type": "stream",
     "text": [
      "samvrwgwr\n",
      "None\n"
     ]
    }
   ],
   "source": [
    "# 9. Predict output: \n",
    "\n",
    "# res = print('samvrwgwr')\n",
    "# print(res)\n",
    "\n",
    "# Solution:\n",
    "# None"
   ]
  },
  {
   "cell_type": "code",
   "execution_count": 7,
   "metadata": {},
   "outputs": [],
   "source": [
    "# 10. Predict output: \n",
    "\n",
    "# res = len('samvrwgwr')\n",
    "# print(type(res))\n",
    "\n",
    "# Solution:\n",
    "# <class 'int'>"
   ]
  },
  {
   "cell_type": "code",
   "execution_count": 8,
   "metadata": {},
   "outputs": [],
   "source": [
    "# 11. Predict output: \n",
    "\n",
    "# s1 = 'Gaurav'\n",
    "# s2 = 'tuteur.py@gmail.com'\n",
    "# s3 = s1 + '/n' + s2\n",
    "# print(type(s3))\n",
    "# print(len(s3))\n",
    "\n",
    "# Solution:\n",
    "# <class 'str'>\n",
    "# 27"
   ]
  },
  {
   "cell_type": "code",
   "execution_count": 9,
   "metadata": {},
   "outputs": [],
   "source": [
    "# 12. Find the name of function to find the square root. (see all the options available in dir() of math) \n",
    "# import math\n",
    "# print(dir(math))\n",
    "\n",
    "# Solution :\n",
    "# ['__doc__', '__loader__', '__name__', '__package__', '__spec__', 'acos', 'acosh', 'asin', 'asinh', 'atan', 'atan2', 'atanh', \n",
    "# 'ceil', 'comb', 'copysign', 'cos', 'cosh', 'degrees', 'dist', 'e', 'erf', 'erfc', 'exp', 'expm1', 'fabs', 'factorial', 'floor', \n",
    "# 'fmod', 'frexp', 'fsum', 'gamma', 'gcd', 'hypot', 'inf', 'isclose', 'isfinite', 'isinf', 'isnan', 'isqrt', 'ldexp', 'lgamma', \n",
    "# 'log', 'log10', 'log1p', 'log2', 'modf', 'nan', 'perm', 'pi', 'pow', 'prod', 'radians', 'remainder', 'sin', 'sinh', 'sqrt', \n",
    "# 'tan', 'tanh', 'tau', 'trunc']"
   ]
  },
  {
   "cell_type": "code",
   "execution_count": 32,
   "metadata": {},
   "outputs": [
    {
     "name": "stdout",
     "output_type": "stream",
     "text": [
      "Enter a number: 5\n",
      "2.24\n"
     ]
    }
   ],
   "source": [
    "# 13. WAP to input a number and print its square root (). \n",
    "\n",
    "import math\n",
    "\n",
    "n = int(input(\"Enter a number: \"))\n",
    "x = math.sqrt\n",
    "print(round(x(n),2))"
   ]
  },
  {
   "cell_type": "code",
   "execution_count": 36,
   "metadata": {},
   "outputs": [
    {
     "name": "stdout",
     "output_type": "stream",
     "text": [
      "Enter number one: 1\n",
      "Enter number two: 2\n",
      "Enter number three: 3\n",
      "Enter number four: 4\n",
      "The average is:  2.5\n"
     ]
    }
   ],
   "source": [
    "# 14. WAP to input 4 numbers from user and print their average \n",
    "\n",
    "a,b,c,d = int(input(\"Enter number one: \")), int(input(\"Enter number two: \")), int(input(\"Enter number three: \")), int(input(\"Enter number four: \"))\n",
    "print(\"The average is: \", (a+b+c+d)/4)"
   ]
  },
  {
   "cell_type": "code",
   "execution_count": 10,
   "metadata": {},
   "outputs": [],
   "source": [
    "# 15. Use the help function to check what the abs function in python does. \n",
    "\n",
    "# help(abs)\n",
    "\n",
    "# Solution:\n",
    "# Help on built-in function abs in module builtins:\n",
    "\n",
    "# abs(x, /)\n",
    "#     Return the absolute value of the argument."
   ]
  },
  {
   "cell_type": "code",
   "execution_count": 11,
   "metadata": {},
   "outputs": [],
   "source": [
    "# 16. What is the output of this code when run from python interpreter.\n",
    "\n",
    "# print(__name__)\n",
    "\n",
    "# Solution:\n",
    "# __main__"
   ]
  },
  {
   "cell_type": "code",
   "execution_count": null,
   "metadata": {},
   "outputs": [],
   "source": [
    "# 17. What is the output of this code when run from a python script. \n",
    "# print(__name__)\n",
    "\n",
    "# Solution:\n",
    "# __main__"
   ]
  },
  {
   "cell_type": "code",
   "execution_count": 12,
   "metadata": {},
   "outputs": [],
   "source": [
    "# 18. Does the dir of int class contain an attribute __name__ (Y/N). \n",
    "# dir(int)\n",
    "\n",
    "# Solution: No"
   ]
  },
  {
   "cell_type": "code",
   "execution_count": 13,
   "metadata": {},
   "outputs": [],
   "source": [
    "# 19. Predict the output of: \n",
    "\n",
    "# print(__name__)\n",
    "# print(__builtins__.__name__)\n",
    "# print(int.__name__)\n",
    "\n",
    "# Solution:\n",
    "    \n",
    "# __main__\n",
    "# builtins\n",
    "# int"
   ]
  },
  {
   "cell_type": "code",
   "execution_count": null,
   "metadata": {},
   "outputs": [],
   "source": []
  }
 ],
 "metadata": {
  "kernelspec": {
   "display_name": "Python 3",
   "language": "python",
   "name": "python3"
  },
  "language_info": {
   "codemirror_mode": {
    "name": "ipython",
    "version": 3
   },
   "file_extension": ".py",
   "mimetype": "text/x-python",
   "name": "python",
   "nbconvert_exporter": "python",
   "pygments_lexer": "ipython3",
   "version": "3.8.3"
  }
 },
 "nbformat": 4,
 "nbformat_minor": 4
}
