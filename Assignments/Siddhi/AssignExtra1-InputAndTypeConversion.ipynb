{
 "cells": [
  {
   "cell_type": "code",
   "execution_count": 11,
   "metadata": {},
   "outputs": [
    {
     "name": "stdout",
     "output_type": "stream",
     "text": [
      "Enter temperature in Fahrenheit: 118\n",
      "Temperature in Celcius is:  47.77777777777778\n",
      "Temperature in Celcius when rounded up is:  48\n"
     ]
    }
   ],
   "source": [
    "# 1. Input temperature in Fahrenheit in print in Celsius. \n",
    "\n",
    "temp_in_f = int(input(\"Enter temperature in Fahrenheit: \"))\n",
    "temp_in_c = ((temp_in_f-32)*(5/9))\n",
    "temp_in_c_round = round((temp_in_f-32)*(5/9))\n",
    "print(\"Temperature in Celcius is: \", temp_in_c)\n",
    "print(\"Temperature in Celcius when rounded up is: \", temp_in_c_round)\n"
   ]
  },
  {
   "cell_type": "code",
   "execution_count": 13,
   "metadata": {},
   "outputs": [
    {
     "name": "stdout",
     "output_type": "stream",
     "text": [
      "Enter a number: 2\n",
      "Square of the number is:  4\n",
      "Cube of the number is:  8\n"
     ]
    }
   ],
   "source": [
    "# 2. Write a program to input a number and print its square and cube. \n",
    "\n",
    "n = int(input(\"Enter a number: \"))\n",
    "print(\"Square of the number is: \", n*n)\n",
    "print(\"Cube of the number is: \", n*n*n)"
   ]
  },
  {
   "cell_type": "code",
   "execution_count": 5,
   "metadata": {},
   "outputs": [
    {
     "name": "stdout",
     "output_type": "stream",
     "text": [
      "Enter a number: 2\n",
      "Enter a number: 3\n",
      "The solution is :  13\n"
     ]
    }
   ],
   "source": [
    "# 3. WAP to input a number n and a number m and print the result of following\n",
    "# n2 + m2 \n",
    "\n",
    "n,m = (int(input(\"Enter a number: \")) for _ in range(2))\n",
    "print(\"The solution is : \", n**2 + m**2)\n"
   ]
  },
  {
   "cell_type": "code",
   "execution_count": 6,
   "metadata": {},
   "outputs": [
    {
     "name": "stdout",
     "output_type": "stream",
     "text": [
      "Enter a number: 2\n",
      "Enter a number: 3\n",
      "The solution using '**' method is :  9\n",
      "The solution using 'pow' method is :  9\n"
     ]
    }
   ],
   "source": [
    "## 4. WAP to input a numbers M and N and print result of M raised to N. (use both ** and pow)\n",
    "\n",
    "n,m = (int(input(\"Enter a number: \")) for _ in range(2))\n",
    "print(\"The solution using '**' method is : \", m**n)\n",
    "print(\"The solution using 'pow' method is : \", pow(m,n))"
   ]
  },
  {
   "cell_type": "code",
   "execution_count": 20,
   "metadata": {},
   "outputs": [
    {
     "name": "stdout",
     "output_type": "stream",
     "text": [
      "Enter the principal: 10000\n",
      "Enter the rate of interest (in percentage): 10\n",
      "Enter the time duration (in years): 1\n",
      "The Simple Interest is :  1000\n"
     ]
    }
   ],
   "source": [
    "# 5. Write a simple interest calculator. \n",
    "\n",
    "p = int(input(\"Enter the principal (in Rupees): \"))\n",
    "r = int(input(\"Enter the rate of interest (in percentage): \"))\n",
    "t = int(input(\"Enter the time duration (in years): \"))\n",
    "print(\"The Simple Interest is : \", round((p*r*t)/100) )\n"
   ]
  },
  {
   "cell_type": "code",
   "execution_count": 38,
   "metadata": {},
   "outputs": [
    {
     "name": "stdout",
     "output_type": "stream",
     "text": [
      "Enter the principal (in Rupees): 2000\n",
      "Enter the rate of interest per annum(in percentage): 5\n",
      "Enter the time duration (in years): 3\n",
      "The ammount calculated is:  2315.25\n",
      "The compound interest on Rs. 2000 for 3 years at 5 % per annum compounded annualy is Rs.  315.25\n"
     ]
    }
   ],
   "source": [
    "# 6. Input Principal, Rate, Time and print Compound Interest and Amount. \n",
    "\n",
    "p = int(input(\"Enter the principal (in Rupees): \"))\n",
    "r = int(input(\"Enter the rate of interest per annum(in percentage): \"))\n",
    "t = int(input(\"Enter the time duration (in years): \"))\n",
    "\n",
    "amount = round(p*((1 + r/100)**t), 2)\n",
    "print(\"The ammount calculated is: \", amount)\n",
    "print(\"The compound interest on Rs. {0} for {1} years at {2} % per annum compounded annualy is Rs. \".format(p,t,r), amount-p)"
   ]
  },
  {
   "cell_type": "code",
   "execution_count": 37,
   "metadata": {},
   "outputs": [
    {
     "name": "stdout",
     "output_type": "stream",
     "text": [
      "50\n",
      "The sum of first 50 natural numbers is : 1275\n"
     ]
    }
   ],
   "source": [
    "# 7. WAP to print sum of first n natural numbers. (n needs to be taken as input). \n",
    "\n",
    "n = int(input())\n",
    "t = 0\n",
    "for x in range(1,n+1):\n",
    "    t = x+t\n",
    "print(\"The sum of first {0} natural numbers is : {1}\".format(n,t))"
   ]
  },
  {
   "cell_type": "code",
   "execution_count": 13,
   "metadata": {},
   "outputs": [
    {
     "name": "stdout",
     "output_type": "stream",
     "text": [
      "Enter number1: 5\n",
      "Enter number2: 6\n",
      "After swap1, number1 = 6 and number2 = 5\n",
      "\n",
      "After swap2, number1 = 5 and number2 = 6\n"
     ]
    }
   ],
   "source": [
    "# 8.  WAP to input 2 numbers and swap them. (write using both normal logic with temp variable and also the pythonic way). \n",
    "n1 = int(input(\"Enter number1: \"))\n",
    "n2 = int(input(\"Enter number2: \"))\n",
    "#With temp variable\n",
    "temp = n1\n",
    "n1 = n2\n",
    "n2 = temp\n",
    "print(f\"After swap1, number1 = {n1} and number2 = {n2}\")\n",
    "print()\n",
    "#Without using temp variable\n",
    "n1, n2 = n2, n1\n",
    "print(f\"After swap2, number1 = {n1} and number2 = {n2}\")"
   ]
  },
  {
   "cell_type": "code",
   "execution_count": 25,
   "metadata": {},
   "outputs": [
    {
     "name": "stdout",
     "output_type": "stream",
     "text": [
      "ASCII value for ' ' :\n",
      "32\n",
      "ASCII value for '\t':\n",
      "9\n",
      "ASCII value for '\n",
      "':\n",
      "10\n",
      "ASCII value for '\u000b",
      "':\n",
      "11\n",
      "ASCII value for '\f",
      "':\n",
      "12\n",
      "ASCII value for '\r",
      "':\n",
      "13\n"
     ]
    }
   ],
   "source": [
    "# 9. WAP to print ascii value of all white-space characters present in python. \n",
    "print(\"ASCII value for ' ' :\", ord(' '), \n",
    "      \"ASCII value for '\\t':\", ord('\\t'),\n",
    "      \"ASCII value for '\\n':\", ord('\\n'),\n",
    "      \"ASCII value for '\\v':\", ord('\\v'),\n",
    "      \"ASCII value for '\\f':\", ord('\\f'),\n",
    "      \"ASCII value for '\\r':\", ord('\\r'),sep='\\n')"
   ]
  },
  {
   "cell_type": "code",
   "execution_count": 30,
   "metadata": {},
   "outputs": [
    {
     "name": "stdout",
     "output_type": "stream",
     "text": [
      "Enter a character: i\n",
      "105\n"
     ]
    }
   ],
   "source": [
    "# 10. Input a single character and print its ascii values. \n",
    "x = input(\"Enter a character: \").strip()\n",
    "if len(x)==1:\n",
    "    print(ord(x))\n",
    "else:\n",
    "    print(\"Please enter a single character.\")"
   ]
  },
  {
   "cell_type": "code",
   "execution_count": 41,
   "metadata": {},
   "outputs": [
    {
     "name": "stdout",
     "output_type": "stream",
     "text": [
      "Enter the area of a circle: 154\n",
      "The radius is:  7.0\n",
      "The circumference is:  43.96\n"
     ]
    }
   ],
   "source": [
    "# 11. WAP that takes area of a circle and gives back the radius and circumference. \n",
    "import math\n",
    "area = float(input(\"Enter the area of a circle: \"))\n",
    "radius = round(math.sqrt(area/3.14),2)\n",
    "print(\"The radius is: \", radius)\n",
    "print(\"The circumference is: \", 2*3.14*radius)"
   ]
  },
  {
   "cell_type": "code",
   "execution_count": 60,
   "metadata": {},
   "outputs": [
    {
     "name": "stdout",
     "output_type": "stream",
     "text": [
      "Enter marks of subject no 1: 76\n",
      "Enter marks of subject no 2: 56\n",
      "Enter marks of subject no 3: 89\n",
      "Enter marks of subject no 4: 76\n",
      "Enter marks of subject no 5: 78\n",
      "Scored percentage is: 75.0 %\n"
     ]
    }
   ],
   "source": [
    "# 12. We need to input marks in 5 subjects out of 100 and print percentage. \n",
    "#input subject values\n",
    "s1, s2, s3, s4, s5 = int(input(\"Enter marks of subject no 1: \").strip()),int(input(\"Enter marks of subject no 2: \").strip()),int(input(\"Enter marks of subject no 3: \").strip()),int(input(\"Enter marks of subject no 4: \").strip()),int(input(\"Enter marks of subject no 5: \").strip())\n",
    "\n",
    "if ((s1>100 or s1<0) and (s2>100 or s2<0) and (s3>100 or s3<0) and (s4>100 or s4<0) and (s5>100 or s5<0)): #check if marks are between 0 and 100\n",
    "    print(\"Please enter marks between 0 and 100.\")\n",
    "else:\n",
    "    print(f\"Scored percentage is:\", ((s1+s2+s3+s4+s5)*100)/500, \"%\")\n",
    "    "
   ]
  },
  {
   "cell_type": "code",
   "execution_count": null,
   "metadata": {},
   "outputs": [],
   "source": []
  },
  {
   "cell_type": "code",
   "execution_count": null,
   "metadata": {},
   "outputs": [],
   "source": []
  }
 ],
 "metadata": {
  "kernelspec": {
   "display_name": "Python 3",
   "language": "python",
   "name": "python3"
  },
  "language_info": {
   "codemirror_mode": {
    "name": "ipython",
    "version": 3
   },
   "file_extension": ".py",
   "mimetype": "text/x-python",
   "name": "python",
   "nbconvert_exporter": "python",
   "pygments_lexer": "ipython3",
   "version": "3.8.3"
  }
 },
 "nbformat": 4,
 "nbformat_minor": 4
}
