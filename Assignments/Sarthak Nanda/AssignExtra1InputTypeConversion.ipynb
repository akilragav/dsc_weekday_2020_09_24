{
 "cells": [
  {
   "cell_type": "code",
   "execution_count": 4,
   "metadata": {},
   "outputs": [
    {
     "name": "stdout",
     "output_type": "stream",
     "text": [
      "Enter temperature in F: 32\n",
      "Temperature in Celcius: \n",
      " 0.0 C\n"
     ]
    }
   ],
   "source": [
    "#1 Input temperature in Fahrenheit in print in Celsius.\n",
    "\n",
    "f = float(input('Enter temperature in F: '))\n",
    "c = (f-32)*(5/9)\n",
    "print(\"Temperature in Celcius: \\n\", c,\"C\")"
   ]
  },
  {
   "cell_type": "code",
   "execution_count": 5,
   "metadata": {},
   "outputs": [
    {
     "name": "stdout",
     "output_type": "stream",
     "text": [
      "Enter a number: 2\n",
      "Square of number is:  4.0 \n",
      " Cube of number is:  8.0\n"
     ]
    }
   ],
   "source": [
    "#2 Write a program to input a number and print its square and cube.\n",
    "\n",
    "i = float(input(\"Enter a number: \"))\n",
    "print(\"Square of number is: \",i**2,\"\\n\",\"Cube of number is: \",pow(i,3))"
   ]
  },
  {
   "cell_type": "code",
   "execution_count": 6,
   "metadata": {},
   "outputs": [
    {
     "name": "stdout",
     "output_type": "stream",
     "text": [
      "Enter n : 2\n",
      "Enter m : 3\n",
      "Sum result of the expression n^2 + m^2 : 13\n"
     ]
    }
   ],
   "source": [
    "#3 to input a number n and a number m and print the result of following n2 + m2\n",
    "n = int(input('Enter n : ').strip())\n",
    "m = int(input('Enter m : ').strip())\n",
    "exp = n**2 + m**2\n",
    "print(\"Sum result of the expression n^2 + m^2 :\",exp)"
   ]
  },
  {
   "cell_type": "code",
   "execution_count": 7,
   "metadata": {},
   "outputs": [
    {
     "name": "stdout",
     "output_type": "stream",
     "text": [
      "Enter M : 2\n",
      "Enter N : 3\n",
      "Result using **:  8\n",
      "Result using pow:  8\n"
     ]
    }
   ],
   "source": [
    "#4 WAP to input a numbers M and N and print result of MN. (use both ** and pow)\n",
    "m = int(input('Enter M : ').strip())\n",
    "n = int(input('Enter N : ').strip())\n",
    "exp1 = m**n\n",
    "exp2 = pow(m,n)\n",
    "print(\"Result using **: \",exp1)\n",
    "print(\"Result using pow: \",exp2)"
   ]
  },
  {
   "cell_type": "code",
   "execution_count": 8,
   "metadata": {},
   "outputs": [
    {
     "name": "stdout",
     "output_type": "stream",
     "text": [
      "Enter Principal Time Rate: 100 2 10\n",
      "Calculated interest is:  20.0\n"
     ]
    }
   ],
   "source": [
    "#5. Write a simple interest calculator.\n",
    "lsPTR = list(map(int, input(\"Enter Principal Time Rate: \").split()))\n",
    "interest = ((lsPTR[0]*lsPTR[1]*lsPTR[2])/100)\n",
    "print(\"Calculated interest is: \",interest)"
   ]
  },
  {
   "cell_type": "code",
   "execution_count": 9,
   "metadata": {},
   "outputs": [
    {
     "name": "stdout",
     "output_type": "stream",
     "text": [
      "Enter Principal Time Rate: 1000 2 8\n",
      "Amount :  1171.6593810022657\n",
      "Interest :  171.65938100226572\n"
     ]
    }
   ],
   "source": [
    "#6. Input Principal, Rate, Time and print Compound Interest and Amount.\n",
    "lsPTR = list(map(int, input(\"Enter Principal Time Rate: \").split()))\n",
    "amount = lsPTR[0]*(1+(lsPTR[1]/100))**lsPTR[2]\n",
    "interest = amount - lsPTR[0]\n",
    "print(\"Amount : \",amount)\n",
    "print(\"Interest : \",interest)\n"
   ]
  },
  {
   "cell_type": "code",
   "execution_count": 11,
   "metadata": {},
   "outputs": [
    {
     "name": "stdout",
     "output_type": "stream",
     "text": [
      "Enter a number: 3\n",
      "The sum of first N numbers are : 3\n"
     ]
    }
   ],
   "source": [
    "#7. WAP to print sum of first n natural numbers. (n needs to be taken as input).\n",
    "n = int(input(\"Enter a number: \"))\n",
    "sum = 0\n",
    "for i in range(n):\n",
    "    sum = sum + i\n",
    "print(\"The sum of first N numbers are :\",sum)"
   ]
  },
  {
   "cell_type": "code",
   "execution_count": 19,
   "metadata": {},
   "outputs": [
    {
     "name": "stdout",
     "output_type": "stream",
     "text": [
      "Enter N1: 2\n",
      "Enter N2: 3\n",
      "N1 :  3\n",
      "N2:  2\n",
      "P, N1 :  2\n",
      "P, N2:  3\n"
     ]
    }
   ],
   "source": [
    "#8. WAP to input 2 numbers and swap them. (write using both normal logic with\n",
    "#   temp variable and also the pythonic way).\n",
    "n1 = int(input(\"Enter N1: \"))\n",
    "n2 = int(input(\"Enter N2: \"))\n",
    "\n",
    "n1 = n1 + n2\n",
    "n2 = n1 - n2\n",
    "n1 = n1 - n2\n",
    "print(\"N1 : \", n1)\n",
    "print(\"N2: \", n2)\n",
    "\n",
    "n1 , n2 = n2, n1\n",
    "\n",
    "print(\"P, N1 : \", n1)\n",
    "print(\"P, N2: \", n2)\n",
    "\n"
   ]
  },
  {
   "cell_type": "code",
   "execution_count": 23,
   "metadata": {},
   "outputs": [
    {
     "name": "stdout",
     "output_type": "stream",
     "text": [
      "32 9 10 11 12 13\n"
     ]
    }
   ],
   "source": [
    "#9. WAP to print ascii value of all white-space characters present in python.\n",
    "print(ord(' '),ord('\\t'),ord('\\n'),ord('\\v'),ord('\\f'),ord('\\r'))"
   ]
  },
  {
   "cell_type": "code",
   "execution_count": 26,
   "metadata": {},
   "outputs": [
    {
     "name": "stdout",
     "output_type": "stream",
     "text": [
      "Enter a character: a\n",
      "97\n"
     ]
    }
   ],
   "source": [
    "#10. WAP to print ascii value of all white-space characters present in python.\n",
    "\n",
    "i = input(\"Enter a character: \")\n",
    "if len(i) < 2 and len(i) > 0:\n",
    "    print(ord(i))\n",
    "else:\n",
    "    print(\"This is not single character.\")\n",
    "        \n",
    "    "
   ]
  },
  {
   "cell_type": "code",
   "execution_count": 29,
   "metadata": {},
   "outputs": [
    {
     "name": "stdout",
     "output_type": "stream",
     "text": [
      "Enter area of the Circle : 250\n",
      "Radius:  8.920620580763856 Circumference 56.049912163979286\n"
     ]
    }
   ],
   "source": [
    "#11. WAP that takes area of a circle and gives back the radius and circumference.\n",
    "import math as mt\n",
    "a = int(input('Enter area of the Circle : '))\n",
    "r = mt.sqrt(a/mt.pi)\n",
    "c = 2*mt.pi*r\n",
    "print(\"Radius: \",r,\"Circumference\",c)"
   ]
  },
  {
   "cell_type": "code",
   "execution_count": 32,
   "metadata": {},
   "outputs": [
    {
     "name": "stdout",
     "output_type": "stream",
     "text": [
      "Enter Marks of 5 subj: 30 30 30 30 30\n",
      "Percentage is : 30.0\n"
     ]
    }
   ],
   "source": [
    "### 12. We need to input marks in 5 subjects out of 100 and print percentage.\n",
    "lsMarks = list(map(int, input(\"Enter Marks of 5 subj: \").split()))\n",
    "sum = 0\n",
    "for i in range(5):\n",
    "    sum+=lsMarks[i]\n",
    "per = (sum*100)/500\n",
    "print(\"Percentage is :\",per)\n",
    "    "
   ]
  }
 ],
 "metadata": {
  "kernelspec": {
   "display_name": "Python 3",
   "language": "python",
   "name": "python3"
  },
  "language_info": {
   "codemirror_mode": {
    "name": "ipython",
    "version": 3
   },
   "file_extension": ".py",
   "mimetype": "text/x-python",
   "name": "python",
   "nbconvert_exporter": "python",
   "pygments_lexer": "ipython3",
   "version": "3.8.3"
  }
 },
 "nbformat": 4,
 "nbformat_minor": 4
}
