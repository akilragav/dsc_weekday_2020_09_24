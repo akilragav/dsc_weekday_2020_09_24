{
 "cells": [
  {
   "cell_type": "code",
   "execution_count": 1,
   "metadata": {},
   "outputs": [
    {
     "name": "stdout",
     "output_type": "stream",
     "text": [
      "Enter n :10\n",
      "1\n",
      "2\n",
      "3\n",
      "4\n",
      "5\n",
      "6\n",
      "7\n",
      "8\n",
      "9\n",
      "10\n"
     ]
    }
   ],
   "source": [
    "#1. WAP to print first n natural numbers (input n from user).\n",
    "i = int(input(\"Enter n :\"))\n",
    "\n",
    "for x in range(1,i+1):\n",
    "    print(x)\n"
   ]
  },
  {
   "cell_type": "code",
   "execution_count": 2,
   "metadata": {},
   "outputs": [
    {
     "name": "stdout",
     "output_type": "stream",
     "text": [
      "Enter n :4\n",
      "10\n"
     ]
    }
   ],
   "source": [
    "#2. WAP to find sum of first n natural numbers\n",
    "i = int(input(\"Enter n :\"))\n",
    "res = 0;\n",
    "for x in range(1,i+1):\n",
    "    res += x;\n",
    "print(res)"
   ]
  },
  {
   "cell_type": "code",
   "execution_count": 5,
   "metadata": {},
   "outputs": [
    {
     "name": "stdout",
     "output_type": "stream",
     "text": [
      "Enter n :5\n",
      "5 4 3 2 1 "
     ]
    }
   ],
   "source": [
    "#3. WAP to print first n natural numbers in reverse order.\n",
    "\n",
    "i = int(input(\"Enter n :\"))\n",
    "while i > 0:\n",
    "    print(i,end=' ')\n",
    "    i-=1\n",
    "    \n"
   ]
  },
  {
   "cell_type": "code",
   "execution_count": 32,
   "metadata": {},
   "outputs": [
    {
     "name": "stdout",
     "output_type": "stream",
     "text": [
      "Enter n :5\n",
      "120\n"
     ]
    }
   ],
   "source": [
    "#4. 4. WAP to input a number and print its factorial.\n",
    "n = int(input(\"Enter n :\"))\n",
    "fact = 1\n",
    "\n",
    "for i in range(1,(n+1)):\n",
    "    fact*=i\n",
    "print(fact)"
   ]
  },
  {
   "cell_type": "code",
   "execution_count": 11,
   "metadata": {},
   "outputs": [
    {
     "name": "stdout",
     "output_type": "stream",
     "text": [
      "How many terms? 6\n",
      "Fibonacci sequence:\n",
      "0 1 1 2 3 5 "
     ]
    }
   ],
   "source": [
    "#5. WAP to print Fibonacci sequence till n.\n",
    "\n",
    "nterms = int(input(\"How many terms? \"))\n",
    "\n",
    "# first two terms\n",
    "n1, n2 = 0, 1\n",
    "count = 0\n",
    "if nterms <= 0:\n",
    "    print(\"Please enter a positive integer\")\n",
    "elif nterms == 1:\n",
    "    print(\"Fibonacci sequence upto\",nterms,\":\")\n",
    "    print(n1)\n",
    "else:\n",
    "    print(\"Fibonacci sequence:\")\n",
    "    while count < nterms:\n",
    "        print(n1, end=' ')\n",
    "        nth = n1 + n2\n",
    "        # update values\n",
    "        n1 = n2\n",
    "        n2 = nth\n",
    "        count += 1\n"
   ]
  },
  {
   "cell_type": "code",
   "execution_count": 14,
   "metadata": {},
   "outputs": [
    {
     "name": "stdout",
     "output_type": "stream",
     "text": [
      "Input a number: 123\n",
      "3\n",
      "2\n",
      "1\n"
     ]
    }
   ],
   "source": [
    "#6. WAP to print all digits of a number input from user.\n",
    "n = int(input(\"Input a number: \"))\n",
    "while n > 0:\n",
    "    print(n%10)\n",
    "    n//=10\n"
   ]
  },
  {
   "cell_type": "code",
   "execution_count": 20,
   "metadata": {},
   "outputs": [
    {
     "name": "stdout",
     "output_type": "stream",
     "text": [
      "Input a number: 1234\n",
      "Sum of all digits of number is:  10\n"
     ]
    }
   ],
   "source": [
    "#7 WAP to find sum of all digits of a number.\n",
    "n = int(input(\"Input a number: \"))\n",
    "res = 0\n",
    "while n > 0:\n",
    "    res+=(n%10)\n",
    "    n//=10\n",
    "print(\"Sum of all digits of number is:\", res)"
   ]
  },
  {
   "cell_type": "code",
   "execution_count": 23,
   "metadata": {},
   "outputs": [
    {
     "name": "stdout",
     "output_type": "stream",
     "text": [
      "Enter a number: 4\n",
      "33\n"
     ]
    }
   ],
   "source": [
    "#8. WAP to find sum of following series given n as input from user\n",
    "#1 + 2! + 3! + 4! + 5! + ….n!\n",
    "#Where n! denotes the factorial of number n.\n",
    "\n",
    "def fact_num(n): \n",
    "    fact = 1\n",
    "    for i in range(1,(n+1)):\n",
    "        fact*=i\n",
    "    return fact\n",
    "\n",
    "n = int(input(\"Enter a number: \"))\n",
    "fact_sum = 0\n",
    "\n",
    "for i in range(1,n+1):\n",
    "    fact_sum+=fact_num(i)\n",
    "\n",
    "print(fact_sum)\n",
    "    \n",
    "\n"
   ]
  },
  {
   "cell_type": "code",
   "execution_count": 25,
   "metadata": {},
   "outputs": [
    {
     "name": "stdout",
     "output_type": "stream",
     "text": [
      "Enter Base: 2\n",
      "Enter exponent: 3\n",
      "8\n"
     ]
    }
   ],
   "source": [
    "#9. WAP to input base and exponent and print result without using inbuilt function pow(use for or\n",
    "#  while loop).\n",
    "\n",
    "b = int(input(\"Enter Base: \"))\n",
    "e = int(input(\"Enter exponent: \"))\n",
    "res = 1\n",
    "for i in range(1,e+1):\n",
    "    res*=b\n",
    "print(res)"
   ]
  },
  {
   "cell_type": "code",
   "execution_count": 40,
   "metadata": {},
   "outputs": [
    {
     "name": "stdout",
     "output_type": "stream",
     "text": [
      "\n",
      "\n",
      "*\n",
      "\n",
      "**\n",
      "\n",
      "***\n",
      "\n",
      "****\n",
      "\n",
      "*****\n",
      "\n"
     ]
    }
   ],
   "source": [
    "for i in range(6):\n",
    "    for j in range(i):\n",
    "        print(\"*\",end='')\n",
    "    print(\"\\n\")"
   ]
  },
  {
   "cell_type": "code",
   "execution_count": 37,
   "metadata": {},
   "outputs": [
    {
     "name": "stdout",
     "output_type": "stream",
     "text": [
      "*****\n",
      "\n",
      "****\n",
      "\n",
      "***\n",
      "\n",
      "**\n",
      "\n",
      "*\n",
      "\n"
     ]
    }
   ],
   "source": [
    "for i in range(1,6):\n",
    "    for j in range(6,i,-1):\n",
    "        print(\"*\",end='')\n",
    "    print(\"\\n\")"
   ]
  },
  {
   "cell_type": "code",
   "execution_count": 62,
   "metadata": {},
   "outputs": [
    {
     "name": "stdout",
     "output_type": "stream",
     "text": [
      "    *\n",
      "\n",
      "   **\n",
      "\n",
      "  ***\n",
      "\n",
      " ****\n",
      "\n",
      "*****\n",
      "\n"
     ]
    }
   ],
   "source": [
    "for i in range(1,6):\n",
    "    print(\" \"*(6-i-1),end='')\n",
    "    for j in range(i):\n",
    "        print(\"*\",end='')\n",
    "    print(\"\\n\")"
   ]
  },
  {
   "cell_type": "code",
   "execution_count": 84,
   "metadata": {},
   "outputs": [
    {
     "name": "stdout",
     "output_type": "stream",
     "text": [
      "1\n",
      "\n",
      "22\n",
      "\n",
      "333\n",
      "\n",
      "4444\n",
      "\n",
      "55555\n",
      "\n"
     ]
    }
   ],
   "source": [
    "for i in range(1,6):\n",
    "    for j in range(i):\n",
    "        print(i,end='')\n",
    "    print(\"\\n\")"
   ]
  },
  {
   "cell_type": "code",
   "execution_count": 73,
   "metadata": {},
   "outputs": [
    {
     "name": "stdout",
     "output_type": "stream",
     "text": [
      "1\n",
      "\n",
      "12\n",
      "\n",
      "123\n",
      "\n",
      "1234\n",
      "\n",
      "12345\n",
      "\n"
     ]
    }
   ],
   "source": [
    "for i in range(1,6):\n",
    "    for j in range(1,i+1):\n",
    "        print(j,end='')\n",
    "    print(\"\\n\")"
   ]
  },
  {
   "cell_type": "code",
   "execution_count": 78,
   "metadata": {},
   "outputs": [
    {
     "name": "stdout",
     "output_type": "stream",
     "text": [
      "5\n",
      "\n",
      "44\n",
      "\n",
      "333\n",
      "\n",
      "2222\n",
      "\n",
      "11111\n",
      "\n"
     ]
    }
   ],
   "source": [
    "for i in range(1,6):\n",
    "    for j in range(i):\n",
    "        print(6-i,end='')\n",
    "    print(\"\\n\")"
   ]
  },
  {
   "cell_type": "code",
   "execution_count": 76,
   "metadata": {},
   "outputs": [
    {
     "name": "stdout",
     "output_type": "stream",
     "text": [
      "    1\n",
      "\n",
      "   22\n",
      "\n",
      "  333\n",
      "\n",
      " 4444\n",
      "\n",
      "55555\n",
      "\n"
     ]
    }
   ],
   "source": [
    "for i in range(1,6):\n",
    "    print(\" \"*(6-i-1),end='')\n",
    "    for j in range(i):\n",
    "        print(i,end='')\n",
    "    print(\"\\n\")"
   ]
  },
  {
   "cell_type": "code",
   "execution_count": 83,
   "metadata": {},
   "outputs": [
    {
     "name": "stdout",
     "output_type": "stream",
     "text": [
      "A\n",
      "\n",
      "BC\n",
      "\n",
      "DEF\n",
      "\n",
      "GHIJ\n",
      "\n",
      "KLMNO\n",
      "\n"
     ]
    }
   ],
   "source": [
    "x =0;\n",
    "for i in range(1,6):\n",
    "    for j in range(1,i+1):\n",
    "        print(chr(65+x),end='')\n",
    "        x+=1\n",
    "    print(\"\\n\")"
   ]
  },
  {
   "cell_type": "code",
   "execution_count": 87,
   "metadata": {},
   "outputs": [
    {
     "name": "stdout",
     "output_type": "stream",
     "text": [
      "A\n",
      "\n",
      "BB\n",
      "\n",
      "CCC\n",
      "\n",
      "DDDD\n",
      "\n",
      "EEEEE\n",
      "\n"
     ]
    }
   ],
   "source": [
    "for i in range(1,6):\n",
    "    for j in range(1,i+1):\n",
    "        print(chr(65+i-1),end='')\n",
    "    print(\"\\n\")"
   ]
  },
  {
   "cell_type": "code",
   "execution_count": 88,
   "metadata": {},
   "outputs": [
    {
     "name": "stdout",
     "output_type": "stream",
     "text": [
      "    * \n",
      "\n",
      "   * * \n",
      "\n",
      "  * * * \n",
      "\n",
      " * * * * \n",
      "\n",
      "* * * * * \n",
      "\n"
     ]
    }
   ],
   "source": [
    "for i in range(1,6):\n",
    "    print(\" \"*(6-i-1),end='')\n",
    "    for j in range(i):\n",
    "        print(\"* \",end='')\n",
    "    print(\"\\n\")"
   ]
  },
  {
   "cell_type": "code",
   "execution_count": 124,
   "metadata": {},
   "outputs": [
    {
     "name": "stdout",
     "output_type": "stream",
     "text": [
      "        A \n",
      "\n",
      "      A B A \n",
      "\n",
      "    A B C B A \n",
      "\n",
      "  A B C D C B A \n",
      "\n",
      "A B C D E D C B A \n",
      "\n"
     ]
    }
   ],
   "source": [
    "#21. Pyramid\n",
    "x = 64\n",
    "for i in range(1,6):\n",
    "    for j in range(1, 6-i):\n",
    "        print(\"  \",end='')\n",
    "    for k in range(1,i+1):\n",
    "        print(chr(x+k),end=\" \")\n",
    "    for m in range(i-1,0,-1):\n",
    "        print(chr(x+m),end=' ')\n",
    "    print('\\n')"
   ]
  },
  {
   "cell_type": "code",
   "execution_count": null,
   "metadata": {},
   "outputs": [],
   "source": [
    "    65\n",
    "  656665\n",
    "6566676665"
   ]
  }
 ],
 "metadata": {
  "kernelspec": {
   "display_name": "Python 3",
   "language": "python",
   "name": "python3"
  },
  "language_info": {
   "codemirror_mode": {
    "name": "ipython",
    "version": 3
   },
   "file_extension": ".py",
   "mimetype": "text/x-python",
   "name": "python",
   "nbconvert_exporter": "python",
   "pygments_lexer": "ipython3",
   "version": "3.8.3"
  }
 },
 "nbformat": 4,
 "nbformat_minor": 4
}
