{
 "cells": [
  {
   "cell_type": "code",
   "execution_count": 11,
   "metadata": {},
   "outputs": [
    {
     "name": "stdout",
     "output_type": "stream",
     "text": [
      "Enter a string: sas\n",
      "s a s "
     ]
    }
   ],
   "source": [
    "#1. WAP to input a string and print individual characters in the string using for loop.\n",
    "s = input(\"Enter a string: \")\n",
    "for i in s:\n",
    "    print(i,end=' ')"
   ]
  },
  {
   "cell_type": "code",
   "execution_count": 12,
   "metadata": {},
   "outputs": [
    {
     "name": "stdout",
     "output_type": "stream",
     "text": [
      "Enter a string: sas\n",
      "115 97 115 "
     ]
    }
   ],
   "source": [
    "#2. WAP to input a string and print the ASCII value of each character in the string.\n",
    "s = input(\"Enter a string: \")\n",
    "for i in s:\n",
    "    print(ord(i),end=' ')"
   ]
  },
  {
   "cell_type": "code",
   "execution_count": 17,
   "metadata": {},
   "outputs": [
    {
     "name": "stdout",
     "output_type": "stream",
     "text": [
      "Enster the items of the list separating by a space: 1 2 3 4 5\n"
     ]
    },
    {
     "ename": "TypeError",
     "evalue": "unsupported operand type(s) for +=: 'builtin_function_or_method' and 'str'",
     "output_type": "error",
     "traceback": [
      "\u001b[1;31m---------------------------------------------------------------------------\u001b[0m",
      "\u001b[1;31mTypeError\u001b[0m                                 Traceback (most recent call last)",
      "\u001b[1;32m<ipython-input-17-92d7b432a1f2>\u001b[0m in \u001b[0;36m<module>\u001b[1;34m\u001b[0m\n\u001b[0;32m      5\u001b[0m \u001b[0mres\u001b[0m \u001b[1;33m=\u001b[0m \u001b[1;36m0\u001b[0m\u001b[1;33m\u001b[0m\u001b[1;33m\u001b[0m\u001b[0m\n\u001b[0;32m      6\u001b[0m \u001b[1;32mfor\u001b[0m \u001b[0mitem\u001b[0m \u001b[1;32min\u001b[0m \u001b[0mls_num\u001b[0m\u001b[1;33m:\u001b[0m\u001b[1;33m\u001b[0m\u001b[1;33m\u001b[0m\u001b[0m\n\u001b[1;32m----> 7\u001b[1;33m     \u001b[0msum\u001b[0m\u001b[1;33m+=\u001b[0m \u001b[0mcheck\u001b[0m\u001b[1;33m[\u001b[0m\u001b[0mitem\u001b[0m\u001b[1;33m%\u001b[0m\u001b[1;36m2\u001b[0m\u001b[1;33m]\u001b[0m\u001b[1;33m\u001b[0m\u001b[1;33m\u001b[0m\u001b[0m\n\u001b[0m\u001b[0;32m      8\u001b[0m \u001b[1;33m\u001b[0m\u001b[0m\n\u001b[0;32m      9\u001b[0m \u001b[0mprint\u001b[0m\u001b[1;33m(\u001b[0m\u001b[0mres\u001b[0m\u001b[1;33m)\u001b[0m\u001b[1;33m\u001b[0m\u001b[1;33m\u001b[0m\u001b[0m\n",
      "\u001b[1;31mTypeError\u001b[0m: unsupported operand type(s) for +=: 'builtin_function_or_method' and 'str'"
     ]
    }
   ],
   "source": [
    "#3. Write a function that takes a list of numbers from user as argument and returns the sum of only\n",
    "#odd numbers (Use only for loop. No need to use if statement).\n",
    "ls_num = list(map(int,input(\"Enter the items of the list separating by a space: \").split()))\n",
    "check = [0,1]\n",
    "res = 0\n",
    "for item in ls_num:\n",
    "    sum+= check[item%2]\n",
    "    \n",
    "print(res)"
   ]
  },
  {
   "cell_type": "code",
   "execution_count": 20,
   "metadata": {},
   "outputs": [
    {
     "name": "stdout",
     "output_type": "stream",
     "text": [
      "Enter the items of the list separating by a space: 1 2 3 4 5 6\n",
      "Enter a number to find the index of: 4\n",
      "Index of 4 in the tuple :  (1, 2, 3, 4, 5, 6)  : is :  3\n"
     ]
    }
   ],
   "source": [
    "#4. WAP to input a list of numbers and store in a tuple. Now input another number and print the\n",
    "#index of this number in the tuple. [Use index function]\n",
    "\n",
    "ls_num = list(map(int,input(\"Enter the items of the list separating by a space: \").split()))\n",
    "n = int(input(\"Enter a number to find the index of: \"))\n",
    "tp_num = tuple(ls_num)\n",
    "print(\"Index of\",n,\"in the tuple : \",tp_num,\" : is : \",tp_num.index(n))\n"
   ]
  },
  {
   "cell_type": "code",
   "execution_count": 29,
   "metadata": {},
   "outputs": [
    {
     "name": "stdout",
     "output_type": "stream",
     "text": [
      "[53, 60, 2, 97, 13, 45, 84, 1, 90, 19]\n",
      "464\n",
      "[53, 2, 13, 84, 90]\n"
     ]
    }
   ],
   "source": [
    "#5. Create a list of 10 random numbers and then print the list, sum of all numbers and average. Use\n",
    "#a for loop. Also print elements at only even indexes in the list.\n",
    "import random as rnd\n",
    "ls_num = []\n",
    "for i in range(10):\n",
    "    ls_num.append(rnd.randint(0,100))\n",
    "\n",
    "print(ls_num)\n",
    "res = sum(ls_num)\n",
    "print(res)\n",
    "print(ls_num[::2])\n",
    "    "
   ]
  },
  {
   "cell_type": "code",
   "execution_count": 42,
   "metadata": {},
   "outputs": [
    {
     "name": "stdout",
     "output_type": "stream",
     "text": [
      "[]\n",
      "Enter 10 number:\n",
      "1\n",
      "2\n",
      "3\n",
      "4\n",
      "5\n",
      "6\n",
      "7\n",
      "8\n",
      "9\n",
      "10\n",
      "55\n"
     ]
    }
   ],
   "source": [
    "#6. WAP to input 10 numbers repeatedly (using range based for loop) and store them in a list. Print\n",
    "#the list and sum of numbers in the list.\n",
    "l = []\n",
    "print(l)\n",
    "print(\"Enter 10 number:\")\n",
    "for i in range(10):\n",
    "    n = int(input())\n",
    "    l.append(n)\n",
    "\n",
    "print(l)\n",
    "print(sum(l))\n"
   ]
  },
  {
   "cell_type": "code",
   "execution_count": 43,
   "metadata": {},
   "outputs": [
    {
     "name": "stdout",
     "output_type": "stream",
     "text": [
      "Enter a number: 5\n",
      "5 x 1 = 5\n",
      "5 x 2 = 10\n",
      "5 x 3 = 15\n",
      "5 x 4 = 20\n",
      "5 x 5 = 25\n",
      "5 x 6 = 30\n",
      "5 x 7 = 35\n",
      "5 x 8 = 40\n",
      "5 x 9 = 45\n",
      "5 x 10 = 50\n"
     ]
    }
   ],
   "source": [
    "#7. WAP to input a number and print its table. Ex: if user enters the number as 7, output should be\n",
    "\n",
    "n = int(input(\"Enter a number: \"))\n",
    "for i in range(1,11):\n",
    "    print(n,'x',i,'=',n*i)\n"
   ]
  },
  {
   "cell_type": "code",
   "execution_count": 45,
   "metadata": {},
   "outputs": [
    {
     "name": "stdout",
     "output_type": "stream",
     "text": [
      "Input a string: saswant nanda \n",
      "2 number of spaces are present in the entered string\n"
     ]
    }
   ],
   "source": [
    "#8. WAP to print total number of spaces in a string (Use for loop to iterate over the string. Don’t use\n",
    "#count function).\n",
    "\n",
    "sp_string = input(\"Input a string: \")\n",
    "cnt = 0\n",
    "for i in sp_string:\n",
    "    if(i == ' '):\n",
    "        cnt += 1\n",
    "print(cnt,\"number of spaces are present in the entered string\")\n",
    "        "
   ]
  },
  {
   "cell_type": "code",
   "execution_count": 47,
   "metadata": {},
   "outputs": [
    {
     "name": "stdout",
     "output_type": "stream",
     "text": [
      "Input a string:priyanka sarkar\n",
      "5 number of vowels are present in the entered string\n"
     ]
    }
   ],
   "source": [
    "#9. WAP to input a string and count number of vowels in the string. [Note: it should work for both\n",
    "#capital and small alphabets]\n",
    "vowels = ['A','E','I','O','U']\n",
    "s = input(\"Input a string:\")\n",
    "cnt = 0\n",
    "for c in s:\n",
    "    if(c.upper() in vowels):\n",
    "        cnt+=1;\n",
    "print(cnt,\"number of vowels are present in the entered string\")"
   ]
  },
  {
   "cell_type": "code",
   "execution_count": 53,
   "metadata": {},
   "outputs": [
    {
     "name": "stdout",
     "output_type": "stream",
     "text": [
      "Enter a string:sarthak\n",
      "s_rth_k\n"
     ]
    }
   ],
   "source": [
    "#10. WAP to input a string and replace all vowels with ‘_’.\n",
    "#[Hint: Convert string to list. Remember!! Strings are immutable. Replace in the list and then join]\n",
    "\n",
    "vowels = ['A','E','I','O','U']\n",
    "ls = list(input(\"Enter a string:\"))\n",
    "cnt = 0\n",
    "for i in range(len(ls)):\n",
    "    if(ls[i].upper() in vowels):\n",
    "        ls[i] = \"_\"\n",
    "print(''.join(ls))"
   ]
  },
  {
   "cell_type": "code",
   "execution_count": 2,
   "metadata": {},
   "outputs": [
    {
     "name": "stdout",
     "output_type": "stream",
     "text": [
      "Num :  0\n",
      "Loop Ends\n"
     ]
    }
   ],
   "source": [
    "#11. Find output:\n",
    "for num in range(10):\n",
    "    print(\"Num : \", num)\n",
    "    if(num % 4 == 0):\n",
    "        break\n",
    "print(\"Loop Ends\")"
   ]
  },
  {
   "cell_type": "code",
   "execution_count": 3,
   "metadata": {},
   "outputs": [
    {
     "name": "stdout",
     "output_type": "stream",
     "text": [
      "Num :  0\n"
     ]
    },
    {
     "ename": "SystemExit",
     "evalue": "",
     "output_type": "error",
     "traceback": [
      "An exception has occurred, use %tb to see the full traceback.\n",
      "\u001b[1;31mSystemExit\u001b[0m\n"
     ]
    },
    {
     "name": "stderr",
     "output_type": "stream",
     "text": [
      "C:\\Users\\LENOVO\\anaconda3\\lib\\site-packages\\IPython\\core\\interactiveshell.py:3351: UserWarning: To exit: use 'exit', 'quit', or Ctrl-D.\n",
      "  warn(\"To exit: use 'exit', 'quit', or Ctrl-D.\", stacklevel=1)\n"
     ]
    }
   ],
   "source": [
    "import sys\n",
    "for num in range(10):\n",
    "    print(\"Num : \", num)\n",
    "    if(num % 4 == 0):\n",
    "        exit()\n",
    "print(\"Loop Ends\")"
   ]
  },
  {
   "cell_type": "code",
   "execution_count": 4,
   "metadata": {},
   "outputs": [
    {
     "name": "stdout",
     "output_type": "stream",
     "text": [
      "*****\n",
      "*****\n",
      "*****\n",
      "*****\n",
      "*****\n"
     ]
    }
   ],
   "source": [
    "#12. Find the output of the following code snippets.\n",
    "\n",
    "for i1 in range(1,6):\n",
    "    for i2 in range(5):\n",
    "        print('*',end='')\n",
    "    print()"
   ]
  },
  {
   "cell_type": "code",
   "execution_count": 5,
   "metadata": {},
   "outputs": [
    {
     "name": "stdout",
     "output_type": "stream",
     "text": [
      "1\n",
      "22\n",
      "333\n",
      "4444\n",
      "55555\n"
     ]
    }
   ],
   "source": [
    "for i1 in range(1,6):\n",
    "    for i2 in range(i1):\n",
    "        print(i1,end='')\n",
    "    print()"
   ]
  },
  {
   "cell_type": "code",
   "execution_count": 6,
   "metadata": {},
   "outputs": [
    {
     "name": "stdout",
     "output_type": "stream",
     "text": [
      "1\n",
      "22\n",
      "333\n",
      "4444\n",
      "55555\n"
     ]
    }
   ],
   "source": [
    "for i1 in range(1,6):\n",
    "    print(str(i1)*i1)"
   ]
  },
  {
   "cell_type": "code",
   "execution_count": 9,
   "metadata": {},
   "outputs": [
    {
     "name": "stdout",
     "output_type": "stream",
     "text": [
      "**\n",
      "***\n",
      "****\n",
      "*****\n",
      "******\n"
     ]
    }
   ],
   "source": [
    "for i1 in range(1,6):\n",
    "    for i2 in range(i1 + 1):\n",
    "        print('*',end='')\n",
    "    print()"
   ]
  },
  {
   "cell_type": "code",
   "execution_count": null,
   "metadata": {},
   "outputs": [],
   "source": []
  }
 ],
 "metadata": {
  "kernelspec": {
   "display_name": "Python 3",
   "language": "python",
   "name": "python3"
  },
  "language_info": {
   "codemirror_mode": {
    "name": "ipython",
    "version": 3
   },
   "file_extension": ".py",
   "mimetype": "text/x-python",
   "name": "python",
   "nbconvert_exporter": "python",
   "pygments_lexer": "ipython3",
   "version": "3.8.3"
  }
 },
 "nbformat": 4,
 "nbformat_minor": 4
}
