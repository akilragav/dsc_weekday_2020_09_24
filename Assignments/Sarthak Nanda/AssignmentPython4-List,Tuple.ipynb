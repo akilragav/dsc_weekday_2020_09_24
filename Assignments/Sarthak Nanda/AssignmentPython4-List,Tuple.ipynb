{
 "cells": [
  {
   "cell_type": "code",
   "execution_count": 2,
   "metadata": {},
   "outputs": [
    {
     "name": "stdout",
     "output_type": "stream",
     "text": [
      "[1, 2, 3, 4, 5]\n"
     ]
    }
   ],
   "source": [
    "#1. Convert a Tuple t = (1,2,3,4,5) to a list\n",
    "t = (1,2,3,4,5)\n",
    "ls = list(t)\n",
    "print(ls)"
   ]
  },
  {
   "cell_type": "code",
   "execution_count": 5,
   "metadata": {},
   "outputs": [
    {
     "name": "stdout",
     "output_type": "stream",
     "text": [
      "[1, 3, 5, 7, 8, 6, 4, 2]\n"
     ]
    }
   ],
   "source": [
    "# 2. WAP to join a list and a tuple:\n",
    "L = [1,3,5,7]\n",
    "T = (8,6,4,2)\n",
    "L.extend(list(T))\n",
    "print(L)"
   ]
  },
  {
   "cell_type": "code",
   "execution_count": 6,
   "metadata": {},
   "outputs": [],
   "source": [
    "#3.What is difference between list and tuple.\n",
    "#List is mutable and Tuple is not."
   ]
  },
  {
   "cell_type": "code",
   "execution_count": 7,
   "metadata": {},
   "outputs": [
    {
     "name": "stdout",
     "output_type": "stream",
     "text": [
      "['C', 'A', 'c', 'd', 'a']\n"
     ]
    }
   ],
   "source": [
    "#4. Print the list in reverse order\n",
    "l = ['a','d', 'c' ,'A' ,'C']\n",
    "print(l[::-1])"
   ]
  },
  {
   "cell_type": "code",
   "execution_count": 12,
   "metadata": {},
   "outputs": [
    {
     "name": "stdout",
     "output_type": "stream",
     "text": [
      "[10, 20, 30, 40]\n"
     ]
    }
   ],
   "source": [
    "#5.Print Elements at Odd indexes from a list (Do not use loop)\n",
    "l = [10,11,20, 21,30, 31, 40, 41]\n",
    "print(l[::2])"
   ]
  },
  {
   "cell_type": "code",
   "execution_count": 13,
   "metadata": {},
   "outputs": [],
   "source": [
    "#6. How many ways you can copy a list.\n",
    "#If you are using python2, you can copy a list by slicing or by using the list() function.\n",
    "\n",
    "#If you are using python3, use the list’s copy() method."
   ]
  },
  {
   "cell_type": "code",
   "execution_count": 14,
   "metadata": {},
   "outputs": [
    {
     "name": "stdout",
     "output_type": "stream",
     "text": [
      "a\n",
      "1\n"
     ]
    }
   ],
   "source": [
    "#7. Predict output\n",
    "n_list = [\"Happy\", [2,0,0,1,5]]\n",
    "print(n_list[0][1])\n",
    "print(n_list[1][3])"
   ]
  },
  {
   "cell_type": "code",
   "execution_count": 19,
   "metadata": {},
   "outputs": [
    {
     "name": "stdout",
     "output_type": "stream",
     "text": [
      "[1, 4, 6, 8]\n",
      "[1, 3, 5, 7]\n"
     ]
    }
   ],
   "source": [
    "#8. Predict output\n",
    "odd = [2, 4, 6, 8]\n",
    "odd[0] = 1\n",
    "print(odd)\n",
    "odd[1:4] = [3, 5, 7]\n",
    "print(odd)"
   ]
  },
  {
   "cell_type": "code",
   "execution_count": 22,
   "metadata": {},
   "outputs": [
    {
     "name": "stdout",
     "output_type": "stream",
     "text": [
      "[1, 3, 5, [7, 9]]\n",
      "[1, 3, 5, [7, 9], 11, 13]\n"
     ]
    }
   ],
   "source": [
    "#9. Predict output\n",
    "odd = [1, 3, 5]\n",
    "odd.append([7, 9])\n",
    "print(odd)\n",
    "odd.extend([11, 13])\n",
    "print(odd)"
   ]
  },
  {
   "cell_type": "code",
   "execution_count": 26,
   "metadata": {},
   "outputs": [
    {
     "name": "stdout",
     "output_type": "stream",
     "text": [
      "<class 'tuple'>\n",
      "<class 'int'>\n",
      "<class 'int'>\n",
      "<class 'tuple'>\n"
     ]
    }
   ],
   "source": [
    "#10. notePredict output\n",
    "x = 1,2,3; print(type(x))\n",
    "x = (1); print(type(x))\n",
    "x = 1; print(type(x))\n",
    "x = 1,; print(type(x))"
   ]
  },
  {
   "cell_type": "code",
   "execution_count": 75,
   "metadata": {},
   "outputs": [
    {
     "name": "stdout",
     "output_type": "stream",
     "text": [
      "Input elements of the matrix R x C :1 2 3 4 5 6 7 8 9\n",
      "1 2 3 \n",
      "\n",
      "4 5 6 \n",
      "\n",
      "7 8 9 \n",
      "\n",
      "1 2 3 \n",
      "\n",
      "4 5 6 \n",
      "\n",
      "7 8 9 \n",
      "\n"
     ]
    }
   ],
   "source": [
    "#11. Try to represent a matrix with following data in python:\n",
    "ls_matrix = list(map(int, input(\"Input elements of the matrix R x C :\").split()))\n",
    "\n",
    "for x in range(len(ls_matrix)):\n",
    "    print(ls_matrix[x], end = ' ')\n",
    "    if(x + 1) % 3 == 0:\n",
    "        print('\\n')\n",
    "\n",
    "x = 0\n",
    "for i in range(0,3):\n",
    "    for j in range (1,4):\n",
    "        x += 1\n",
    "        print(x, end=' ')\n",
    "    print(\"\\n\")"
   ]
  },
  {
   "cell_type": "code",
   "execution_count": 40,
   "metadata": {},
   "outputs": [
    {
     "name": "stdout",
     "output_type": "stream",
     "text": [
      "('s', 't', 'r', 'i', 'n', 'g')\n",
      "('g', 'n', 'i', 'r', 't', 's')\n",
      "('n', 's')\n"
     ]
    }
   ],
   "source": [
    "#12. Predict output\n",
    "t = tuple('string')\n",
    "print(t)\n",
    "print(t[::-1])\n",
    "print(t[::2][::-2])"
   ]
  },
  {
   "cell_type": "code",
   "execution_count": 44,
   "metadata": {},
   "outputs": [
    {
     "name": "stdout",
     "output_type": "stream",
     "text": [
      "True\n",
      "False\n",
      "1\n",
      "3\n"
     ]
    }
   ],
   "source": [
    "#13. Predict output\n",
    "t = tuple( [10,20,30,40,50,60] )\n",
    "print(60 in t)\n",
    "print('60' in t)\n",
    "print(t.count(10))\n",
    "print(t.index(40))"
   ]
  },
  {
   "cell_type": "code",
   "execution_count": 45,
   "metadata": {},
   "outputs": [
    {
     "name": "stdout",
     "output_type": "stream",
     "text": [
      "Enter a string: naman\n",
      "Palindrome\n"
     ]
    }
   ],
   "source": [
    "#14. Write a program to input a string and print if it is palindrome or not.\n",
    "i = input(\"Enter a string: \")\n",
    "if i == i[::-1]:\n",
    "    print(\"Palindrome\")\n",
    "else:\n",
    "    print(\"Not Palindrome\")\n",
    "        "
   ]
  },
  {
   "cell_type": "code",
   "execution_count": 53,
   "metadata": {},
   "outputs": [
    {
     "name": "stdout",
     "output_type": "stream",
     "text": [
      "(20, 15, 10, 5)\n"
     ]
    }
   ],
   "source": [
    "#15. Use the range method and create a tuple containing the following values:\n",
    "#(20, 15, 10, 5)\n",
    "series = tuple(range(1,21))[::-1][::5]\n",
    "print(series)"
   ]
  },
  {
   "cell_type": "code",
   "execution_count": 54,
   "metadata": {},
   "outputs": [
    {
     "name": "stdout",
     "output_type": "stream",
     "text": [
      "Enter a string: sarthak\n",
      "['s', 'a', 'r', 't', 'h', 'a', 'k']\n"
     ]
    }
   ],
   "source": [
    "s = input(\"Enter a string: \")\n",
    "print(list(s))"
   ]
  },
  {
   "cell_type": "code",
   "execution_count": 60,
   "metadata": {},
   "outputs": [
    {
     "name": "stdout",
     "output_type": "stream",
     "text": [
      "<class 'list'>\n",
      "<class 'NoneType'>\n",
      "<class 'str'>\n",
      "<class 'bool'>\n"
     ]
    }
   ],
   "source": [
    "#17. What is the return type of:\n",
    "print(type('1 2'.split()))\n",
    "print(type([1, 2, 3].sort()))\n",
    "print(type('abc'.upper()))\n",
    "print(type(1 in [1, 2]))"
   ]
  },
  {
   "cell_type": "code",
   "execution_count": 68,
   "metadata": {},
   "outputs": [
    {
     "name": "stdout",
     "output_type": "stream",
     "text": [
      "1 2 3 \n",
      "\n",
      "4 5 6 \n",
      "\n",
      "7 8 9 \n",
      "\n"
     ]
    }
   ],
   "source": [
    "\n",
    "        \n",
    "        "
   ]
  },
  {
   "cell_type": "code",
   "execution_count": null,
   "metadata": {},
   "outputs": [],
   "source": []
  }
 ],
 "metadata": {
  "kernelspec": {
   "display_name": "Python 3",
   "language": "python",
   "name": "python3"
  },
  "language_info": {
   "codemirror_mode": {
    "name": "ipython",
    "version": 3
   },
   "file_extension": ".py",
   "mimetype": "text/x-python",
   "name": "python",
   "nbconvert_exporter": "python",
   "pygments_lexer": "ipython3",
   "version": "3.8.3"
  }
 },
 "nbformat": 4,
 "nbformat_minor": 4
}
