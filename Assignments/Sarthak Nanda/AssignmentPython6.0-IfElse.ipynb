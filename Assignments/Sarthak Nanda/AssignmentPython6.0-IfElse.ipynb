{
 "cells": [
  {
   "cell_type": "code",
   "execution_count": 5,
   "metadata": {},
   "outputs": [
    {
     "name": "stdout",
     "output_type": "stream",
     "text": [
      "Inpu1 N1:10\n",
      "Inpur N2:2\n",
      "True\n"
     ]
    }
   ],
   "source": [
    "# 1. WAP to input 2 numbers and check whether the first is divisible by the second and print true or\n",
    "# false depending on the divisibility.\n",
    "\n",
    "n1 = int(input('Inpu1 N1:'))\n",
    "n2 = int(input('Inpur N2:'))\n",
    "\n",
    "if(n1%n2 == 0):\n",
    "    print(True)\n",
    "else:\n",
    "    print(False)\n",
    "\n",
    "        "
   ]
  },
  {
   "cell_type": "code",
   "execution_count": 8,
   "metadata": {},
   "outputs": [
    {
     "name": "stdout",
     "output_type": "stream",
     "text": [
      "Enter a string: Namana\n",
      "Not Pallindrome\n"
     ]
    }
   ],
   "source": [
    "#2. In the palindrome example, make the code case insensitive.\n",
    "# i.e. Naman should also be treated as a palindrome (HINT: first convert to either upper or\n",
    "# lower case).\n",
    "s = input(\"Enter a string: \").upper()\n",
    "sr = s[::-1]\n",
    "if s == sr:\n",
    "    print(\"Pallindrome\")\n",
    "else:\n",
    "    print(\"Not Pallindrome\")"
   ]
  },
  {
   "cell_type": "code",
   "execution_count": 14,
   "metadata": {},
   "outputs": [
    {
     "name": "stdout",
     "output_type": "stream",
     "text": [
      "Enter side a: 10\n",
      "Enter side b: 8\n",
      "Enter side c: 6\n",
      "Scalene triangle\n"
     ]
    }
   ],
   "source": [
    "#3. WAP to input the sides of a triangle and print whether equilateral(all sides equal), isosceles (2\n",
    "# sides equal), or scalene (no sides equal).\n",
    "\n",
    "a = int(input('Enter side a: '))\n",
    "b = int(input('Enter side b: '))\n",
    "c = int(input('Enter side c: '))\n",
    "if(a==b==c):\n",
    "    print(\"Equilateral triangle\")\n",
    "elif(a==b or b==c or a==c):\n",
    "    print(\"Isosceles triangle\")\n",
    "else:\n",
    "    print(\"Scalene triangle\")"
   ]
  },
  {
   "cell_type": "code",
   "execution_count": 15,
   "metadata": {},
   "outputs": [
    {
     "name": "stdout",
     "output_type": "stream",
     "text": [
      "Enter a number: 10\n",
      "Even number\n"
     ]
    }
   ],
   "source": [
    "#4. WAP to input a number and print if it is even or odd.\n",
    "i = int(input(\"Enter a number: \"))\n",
    "if(i%2 == 0):\n",
    "    print(\"Even number\")\n",
    "else:\n",
    "    print(\"Odd number\")"
   ]
  },
  {
   "cell_type": "code",
   "execution_count": 20,
   "metadata": {},
   "outputs": [
    {
     "name": "stdout",
     "output_type": "stream",
     "text": [
      "Enter an age of a person: 101\n",
      "Contratulations\n"
     ]
    }
   ],
   "source": [
    "#5. WAP to input age and print the respective text depending on the age ranges as present in the table.\n",
    "\n",
    "age = int(input(\"Enter an age of a person: \"))\n",
    "\n",
    "if(age >= 0 and age <= 12):\n",
    "    print(\"Child\")\n",
    "elif(age >= 13 and age <= 17):\n",
    "    print(\"Teen\")\n",
    "elif(age >= 18 and age <= 50):\n",
    "    print(\"Adult\")\n",
    "elif(age >= 51 and age <= 100):\n",
    "    print(\"Senior Citizen\")\n",
    "elif(age > 100):\n",
    "    print(\"Contratulations\")"
   ]
  },
  {
   "cell_type": "code",
   "execution_count": 30,
   "metadata": {},
   "outputs": [
    {
     "name": "stdout",
     "output_type": "stream",
     "text": [
      "Enter a year: 2000\n",
      "2000 is a leap year\n"
     ]
    }
   ],
   "source": [
    "#6. WAP to input year (check if user enters valid year. Should be 4-digit number and should not be\n",
    "#negative) and print whether leap year or not. (If really interested in why you also have to check\n",
    "#the divisibility by 400 just google the exact time it takes for the earth to revolve around the sub)\n",
    "\n",
    "year = input(\"Enter a year: \").strip()\n",
    "\n",
    "if(len(year) == 4 and year.isdigit()):\n",
    "    if((int(year) % 4) == 0 and (int(year) % 100) == 0 and (int(year) % 400) == 0):\n",
    "        print(\"{0} is a leap year\".format(year))\n",
    "    else:\n",
    "        print(\"Is a leap year\")\n",
    "else:\n",
    "    print(\"{0} not in valid format\".format(year))\n"
   ]
  },
  {
   "cell_type": "code",
   "execution_count": 32,
   "metadata": {},
   "outputs": [
    {
     "name": "stdout",
     "output_type": "stream",
     "text": [
      "Input a string: sartha\n",
      "SARTHA\n"
     ]
    }
   ],
   "source": [
    "# 7. WAP to input a string and convert it to Upper Case if number of characters is odd and convert to\n",
    "#lower case otherwise.\n",
    "\n",
    "s = input(\"Input a string: \")\n",
    "if(len(s)%2 == 0):\n",
    "    s = s.upper()\n",
    "else:\n",
    "    s = s.lower()\n",
    "print(s)"
   ]
  },
  {
   "cell_type": "code",
   "execution_count": 36,
   "metadata": {},
   "outputs": [
    {
     "name": "stdout",
     "output_type": "stream",
     "text": [
      "Input a string:seggs\n",
      "Non-veg\n"
     ]
    }
   ],
   "source": [
    "#8. WAP to input a string and print Veg if the string doesn’t contain the word egg. Otherwise print\n",
    "# Non-Veg. As usual eggs can be both big and small.\n",
    "s = input(\"Input a string:\")\n",
    "if(s.upper().find('EGG') != -1):\n",
    "    print(\"Non-veg\")\n",
    "else:\n",
    "    print(\"Veg\")\n"
   ]
  },
  {
   "cell_type": "code",
   "execution_count": 45,
   "metadata": {},
   "outputs": [
    {
     "name": "stdout",
     "output_type": "stream",
     "text": [
      "True\n",
      "False\n",
      "Weird!!!\n",
      "[4, 3, 2, 1]\n"
     ]
    }
   ],
   "source": [
    "#Give output of:\n",
    "if not 1:\n",
    "    print(\"False\")\n",
    "else:\n",
    "    print(\"True\")\n",
    "    \n",
    "if 1:\n",
    "    print(\"False\")\n",
    "else:\n",
    "    print(\"True\")\n",
    "    \n",
    "if 'a' >'A':\n",
    "    print('Weird!!!')\n",
    "else:\n",
    "    print(\"Makes Sense\")\n",
    "\n",
    "a= [1, 2, 3, 4]\n",
    "\n",
    "if 1 > 1 :\n",
    "    a = a[::-1]\n",
    "else:\n",
    "    a = a[-1::-1]\n",
    "\n",
    "print(a)"
   ]
  },
  {
   "cell_type": "code",
   "execution_count": 48,
   "metadata": {},
   "outputs": [
    {
     "name": "stdout",
     "output_type": "stream",
     "text": [
      "Enter marks of five subjects: 100, 100, 100, 100, 100\n",
      "Grade-A\n"
     ]
    }
   ],
   "source": [
    "#10. WAP to input marks in 5 subjects and print the grade as per following logic:\n",
    "marks = list(map(int, input('Enter marks of five subjects: ').split(',')))\n",
    "\n",
    "perct = ((marks[0]+marks[1]+marks[2]+marks[3]+marks[4])/500)*100\n",
    "\n",
    "if(perct>=90 and perct<=100):\n",
    "    print(\"Grade-A\")\n",
    "elif(perct>=80 and perct<90):\n",
    "    print(\"Grade-B\")\n",
    "elif(perct>=60 and perct<80):\n",
    "    print(\"Grade-C\")\n",
    "else:\n",
    "    print(\"Grade-F\")\n",
    "    "
   ]
  },
  {
   "cell_type": "code",
   "execution_count": 49,
   "metadata": {},
   "outputs": [
    {
     "name": "stdout",
     "output_type": "stream",
     "text": [
      "Enter the salary: 252000\n",
      "Enter the age: 38\n",
      "Tax is: 5\n"
     ]
    }
   ],
   "source": [
    "#11. WAP to input age and salary and calculate Tax as per tax rates if following table:\n",
    "sal = int(input(\"Enter the salary: \"))\n",
    "age = int(input(\"Enter the age: \"))\n",
    "\n",
    "tax = 0\n",
    "if(sal > 0 and sal <= 250000):\n",
    "    tax = 0\n",
    "\n",
    "if(sal > 250000 and sal <= 500000):\n",
    "    if(age <60):\n",
    "        tax = 5\n",
    "    else:\n",
    "        tax = 3\n",
    "if(sal > 500000 and sal <= 1000000):\n",
    "    if(age <60):\n",
    "        tax = 10\n",
    "    else:\n",
    "        tax = 8\n",
    "if(sal >= 1000001):\n",
    "    if(age <60):\n",
    "        tax = 15\n",
    "    else:\n",
    "        tax = 12\n",
    "        \n",
    "print(\"Tax is:\", tax)"
   ]
  },
  {
   "cell_type": "code",
   "execution_count": 51,
   "metadata": {},
   "outputs": [
    {
     "name": "stdout",
     "output_type": "stream",
     "text": [
      "Please enter age of three people separated by space1 2 33\n",
      "max age is: 33\n",
      "min age is: 1\n"
     ]
    }
   ],
   "source": [
    "#14 Take input of age of 3 people by user and determine oldest and youngest among them.\n",
    "\n",
    "age = list(map(int,input(\"Please enter age of three people separated by space\").split()))\n",
    "print(\"max age is:\", max(age[0],age[1],age[2]))\n",
    "print(\"min age is:\", min(age[0],age[1],age[2]))"
   ]
  },
  {
   "cell_type": "code",
   "execution_count": 54,
   "metadata": {},
   "outputs": [
    {
     "name": "stdout",
     "output_type": "stream",
     "text": [
      "Enter a number: 36\n",
      "36  is not divisible by 5 & 7 both\n"
     ]
    }
   ],
   "source": [
    "# 15. WAP to input a number and check if number is divisible by both 5 and 7.\n",
    "\n",
    "i = int(input(\"Enter a number: \"))\n",
    "if(i%5 == 0 and i%7 == 0):\n",
    "    print(i,\" is divisible by 5 & 7 both\")\n",
    "else:\n",
    "    print(i,\" is not divisible by 5 & 7 both\")"
   ]
  },
  {
   "cell_type": "code",
   "execution_count": null,
   "metadata": {},
   "outputs": [],
   "source": []
  }
 ],
 "metadata": {
  "kernelspec": {
   "display_name": "Python 3",
   "language": "python",
   "name": "python3"
  },
  "language_info": {
   "codemirror_mode": {
    "name": "ipython",
    "version": 3
   },
   "file_extension": ".py",
   "mimetype": "text/x-python",
   "name": "python",
   "nbconvert_exporter": "python",
   "pygments_lexer": "ipython3",
   "version": "3.8.3"
  }
 },
 "nbformat": 4,
 "nbformat_minor": 4
}
