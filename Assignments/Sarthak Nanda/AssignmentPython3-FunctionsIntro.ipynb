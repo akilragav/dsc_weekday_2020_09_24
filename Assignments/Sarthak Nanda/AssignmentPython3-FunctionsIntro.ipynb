{
 "cells": [
  {
   "cell_type": "code",
   "execution_count": 6,
   "metadata": {},
   "outputs": [
    {
     "name": "stdout",
     "output_type": "stream",
     "text": [
      "Input two string1: sarthak\n",
      "Input two string2: nanda\n",
      "Output string1: nanda\n",
      "Output string2: sarthak\n"
     ]
    }
   ],
   "source": [
    "#1. WAP to input 2 strings and swap the strings\n",
    "s1 = input(\"Input two string1: \")\n",
    "s2 = input(\"Input two string2: \")\n",
    "s1,s2 = s2, s1\n",
    "print(\"Output string1:\",s1)\n",
    "print(\"Output string2:\",s2)"
   ]
  },
  {
   "cell_type": "code",
   "execution_count": 12,
   "metadata": {},
   "outputs": [
    {
     "name": "stdout",
     "output_type": "stream",
     "text": [
      "19\n"
     ]
    }
   ],
   "source": [
    "#2. WAP to generate 4 random numbers in the range 0-26 and print their average\n",
    "import random as ran\n",
    "print(ran.randint(0,26))"
   ]
  },
  {
   "cell_type": "code",
   "execution_count": 33,
   "metadata": {},
   "outputs": [
    {
     "name": "stdout",
     "output_type": "stream",
     "text": [
      "T\n",
      "z\n"
     ]
    }
   ],
   "source": [
    "#3. WAP to generate and print a random uppercase or lowercase alphabet. Try these:\n",
    "import random as ran\n",
    "import string as st\n",
    "print(ran.choice(st.ascii_uppercase))\n",
    "print(ran.choice(st.ascii_lowercase))"
   ]
  },
  {
   "cell_type": "code",
   "execution_count": 38,
   "metadata": {},
   "outputs": [
    {
     "name": "stdout",
     "output_type": "stream",
     "text": [
      "Please enter P R T1000 10 1\n",
      "Interest:  100.0\n",
      "Total Amount:  1100.0\n"
     ]
    }
   ],
   "source": [
    "#4. WAF get_si() that takes Principle, Rate and Time as arguments and returns the Simple Interest.\n",
    "def get_si(p, r, t):\n",
    "    s = ((p*r*t)/100)\n",
    "    return s\n",
    "s = list(map(int,input(\"Please enter P R T: \").split()))\n",
    "p = s[0]\n",
    "r = s[1]\n",
    "t = s[2]\n",
    "\n",
    "print(\"Interest: \",get_si(p,r,t))\n",
    "\n",
    "#5. WAF get_amount() that takes Principle, Rate and Time as arguments and returns the\n",
    "#Total amount using the get_si() function from above to calculate the SI. Also provide\n",
    "#Rate = 10 and Time = 1 as default arguments.\n",
    "\n",
    "print(\"Total Amount: \",p+get_si(p,10,1))"
   ]
  },
  {
   "cell_type": "code",
   "execution_count": 43,
   "metadata": {},
   "outputs": [
    {
     "name": "stdout",
     "output_type": "stream",
     "text": [
      "Please enter P R T: 1000 10 2\n",
      "Amount:  1210.0000000000002\n"
     ]
    }
   ],
   "source": [
    "#6. WAP get_ci() that takes Principle, Rate and Time as arguments and returns the\n",
    "# Compound Interest.\n",
    "\n",
    "def get_ci(p, r, t):\n",
    "    s = p*(1+(r/100))**t\n",
    "    return s\n",
    "\n",
    "s = list(map(int,input(\"Please enter P R T: \").split()))\n",
    "p = s[0]\n",
    "r = s[1]\n",
    "t = s[2]\n",
    "\n",
    "print(\"Amount: \",get_ci(p,r,t))"
   ]
  },
  {
   "cell_type": "code",
   "execution_count": 54,
   "metadata": {},
   "outputs": [
    {
     "name": "stdout",
     "output_type": "stream",
     "text": [
      "Enter N1 :10\n",
      "Enter N2 :4\n",
      "Reminer and Quotient are :  (2.5, 2) respectively\n"
     ]
    }
   ],
   "source": [
    "#7. WAP get_q_r() taking 2 numbers as parameters and returns the quotient and remainder in the form of a tuple.\n",
    "\n",
    "def get_q_r(n1 , n2):\n",
    "    q= n1/n2\n",
    "    r= n1%n2\n",
    "    ret = (q,r)\n",
    "    return ret\n",
    "\n",
    "n1 = int(input(\"Enter N1 :\"))\n",
    "n2 = int(input(\"Enter N2 :\"))\n",
    "print(\"Reminer and Quotient are :\",get_q_r(n1,n2),\"respectively\")"
   ]
  },
  {
   "cell_type": "code",
   "execution_count": 56,
   "metadata": {},
   "outputs": [
    {
     "name": "stdout",
     "output_type": "stream",
     "text": [
      "Enter height :3\n",
      "Enter base   :4\n",
      "5.0\n"
     ]
    }
   ],
   "source": [
    "#8. WAP to find the length of hypotenuse of a right angled triangle, input the height and base from user.\n",
    "h = int(input(\"Enter height :\"))\n",
    "b = int(input(\"Enter base   :\"))\n",
    "import math as mt\n",
    "p = mt.sqrt(h**2+b**2)\n",
    "print(p)"
   ]
  },
  {
   "cell_type": "code",
   "execution_count": 59,
   "metadata": {},
   "outputs": [
    {
     "name": "stdout",
     "output_type": "stream",
     "text": [
      "3.8.3\n"
     ]
    }
   ],
   "source": [
    "# 10. Check your version of python interpreter without opening the interpreter (Which\n",
    "#command needs to be used on the command line).\n",
    "\n",
    "import platform\n",
    "print(platform.python_version())"
   ]
  },
  {
   "cell_type": "code",
   "execution_count": 60,
   "metadata": {},
   "outputs": [
    {
     "name": "stdout",
     "output_type": "stream",
     "text": [
      "2 -2\n"
     ]
    }
   ],
   "source": [
    "#11. Find output:\n",
    "x = 2\n",
    "x *= 3\n",
    "x = x%4\n",
    "y = -x\n",
    "print(x,y)"
   ]
  },
  {
   "cell_type": "code",
   "execution_count": 61,
   "metadata": {},
   "outputs": [
    {
     "name": "stdout",
     "output_type": "stream",
     "text": [
      "None\n"
     ]
    }
   ],
   "source": [
    "#12. Find output:\n",
    "def funct():\n",
    "    pass\n",
    "print(funct())"
   ]
  },
  {
   "cell_type": "code",
   "execution_count": null,
   "metadata": {},
   "outputs": [],
   "source": []
  }
 ],
 "metadata": {
  "kernelspec": {
   "display_name": "Python 3",
   "language": "python",
   "name": "python3"
  },
  "language_info": {
   "codemirror_mode": {
    "name": "ipython",
    "version": 3
   },
   "file_extension": ".py",
   "mimetype": "text/x-python",
   "name": "python",
   "nbconvert_exporter": "python",
   "pygments_lexer": "ipython3",
   "version": "3.8.3"
  }
 },
 "nbformat": 4,
 "nbformat_minor": 4
}
