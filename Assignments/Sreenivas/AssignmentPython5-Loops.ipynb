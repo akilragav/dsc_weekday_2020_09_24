{
 "cells": [
  {
   "cell_type": "code",
   "execution_count": 15,
   "metadata": {},
   "outputs": [
    {
     "name": "stdout",
     "output_type": "stream",
     "text": [
      "Enter N: \"\n",
      "Enter numerical value\n"
     ]
    }
   ],
   "source": [
    "#WAP to print firnt n Natural numbers\n",
    "def natural_numbers(n):\n",
    "    for i in range(1,n+1):\n",
    "        print(i)\n",
    "p = input(\"Enter N: \")\n",
    "if(p.isdigit()):\n",
    "    natural_numbers(int(p))\n",
    "else:\n",
    "    print(\"Enter numerical value\")\n",
    "    \n"
   ]
  },
  {
   "cell_type": "code",
   "execution_count": 22,
   "metadata": {},
   "outputs": [
    {
     "name": "stdout",
     "output_type": "stream",
     "text": [
      "Enter N: 4\n",
      "10\n"
     ]
    }
   ],
   "source": [
    "#WAP to find sum of first n natural numbers\n",
    "def sum_natural_numbers(n):\n",
    "    res = 0\n",
    "    for i in range(1,n+1):\n",
    "        res += i        \n",
    "    return (res)\n",
    "        \n",
    "p = input(\"Enter N: \")\n",
    "\n",
    "if(p.isdigit()):\n",
    "    res = sum_natural_numbers(int(p))\n",
    "    print(res)\n",
    "else:\n",
    "    print(\"Enter a Numerical value\")\n"
   ]
  },
  {
   "cell_type": "code",
   "execution_count": 30,
   "metadata": {},
   "outputs": [
    {
     "name": "stdout",
     "output_type": "stream",
     "text": [
      "Enter N: 1\n",
      "1\n"
     ]
    }
   ],
   "source": [
    "#WAP to print first n natural numbers in reverse order\n",
    "def rev_me(n):\n",
    "    for i in range(1, n+1):\n",
    "        print((n+1)-i)\n",
    "\n",
    "p = input(\"Enter N: \")\n",
    "\n",
    "if(p.isdigit()):\n",
    "    res = rev_me(int(p))\n",
    "else:\n",
    "    print(\"Enter a Numerical value\")\n",
    "\n"
   ]
  },
  {
   "cell_type": "code",
   "execution_count": 47,
   "metadata": {},
   "outputs": [
    {
     "name": "stdout",
     "output_type": "stream",
     "text": [
      "Enter N: 4\n",
      "Factorial of 4 is 24\n"
     ]
    }
   ],
   "source": [
    "#WAP to input a number and print its factorial\n",
    "def fact(n):\n",
    "    res = 1\n",
    "    for i in range(1,n+1):\n",
    "        res = res * i\n",
    "    return res\n",
    "\n",
    "p = input(\"Enter N: \")\n",
    "\n",
    "if(p.isdigit()):\n",
    "    res = fact(int(p))\n",
    "    print(\"Factorial of %d is %d\" % (int(p), int(res)))\n",
    "else:\n",
    "    print(\"Enter a Numerical value\")\n",
    "        "
   ]
  },
  {
   "cell_type": "code",
   "execution_count": 80,
   "metadata": {},
   "outputs": [
    {
     "name": "stdout",
     "output_type": "stream",
     "text": [
      "Enter N: 4\n",
      "0\n",
      "1\n",
      "1\n",
      "2\n",
      "3\n"
     ]
    }
   ],
   "source": [
    "#WAP to print Fibonacci sequence till n.\n",
    "def febonoc(n):\n",
    "    n1 = 0\n",
    "    res = 0    \n",
    "    n2 = 1\n",
    "    print(\"%s\\n%s\" % (n1,n2))\n",
    "    while (n1 + n2) < n:\n",
    "        res = n1 + n2\n",
    "        print(res)\n",
    "        n1 = n2\n",
    "        n2 = res\n",
    "\n",
    "p = input(\"Enter N: \")\n",
    "\n",
    "if((p.isdigit()) and (int(p) > 0)):\n",
    "    res = febonoc(int(p))    \n",
    "else:\n",
    "    print(\"Enter a Numerical value Greater than zer0\")\n",
    "\n",
    "\n"
   ]
  },
  {
   "cell_type": "code",
   "execution_count": 92,
   "metadata": {},
   "outputs": [
    {
     "name": "stdout",
     "output_type": "stream",
     "text": [
      "Enter a number: 10\n",
      "1\n",
      "0\n",
      "Sum of Digits is:  1\n"
     ]
    }
   ],
   "source": [
    "#WAP to print all digits of a number input from user and count them\n",
    "def sum_of_digits(n):\n",
    "    count,i = 0,0\n",
    "    while i < len(n):\n",
    "        count += int(n[i])\n",
    "        print(n[i])\n",
    "        i += 1\n",
    "    return count;\n",
    "\n",
    "number = input(\"Enter a number: \")\n",
    "if (number.isdigit()):\n",
    "    res = int(sum_of_digits(number))\n",
    "    print(\"Sum of Digits is: \", res)\n",
    "else:\n",
    "    print(\"Enter a digit\")\n",
    "\n",
    "        \n"
   ]
  },
  {
   "cell_type": "code",
   "execution_count": 7,
   "metadata": {},
   "outputs": [
    {
     "name": "stdout",
     "output_type": "stream",
     "text": [
      "Enter a number: 2\n",
      "sum of fact :  3\n"
     ]
    }
   ],
   "source": [
    "#WAP to find sum of following series given n as input from user\n",
    "#1 + 2!+ 3!+ 4! + ... n!\n",
    "\n",
    "def Sum_of_Fact(n):\n",
    "    count, loop = 0,0\n",
    "    \n",
    "    while (n > 0):\n",
    "        mul = 1\n",
    "        for loop in range(n):\n",
    "            mul = mul * (loop+1)\n",
    "        count += mul\n",
    "        n -= 1\n",
    "        \n",
    "    return count\n",
    "\n",
    "number = input(\"Enter a number: \")\n",
    "if (number.isdigit()):\n",
    "    res = int(Sum_of_Fact(int(number)))\n",
    "    print(\"sum of fact : \", res)\n",
    "else:\n",
    "    print(\"Enter a digit\")\n",
    "            \n",
    "        "
   ]
  },
  {
   "cell_type": "code",
   "execution_count": 15,
   "metadata": {},
   "outputs": [
    {
     "name": "stdout",
     "output_type": "stream",
     "text": [
      "Enter a base number: 2\n",
      "Enter a exponent number: 3\n",
      "power :  8\n"
     ]
    }
   ],
   "source": [
    "#WAP to input base and exponent and print result without using inbuilt function pow(use for or while loop). \n",
    "def myPower(x,y):\n",
    "    outPut = 1\n",
    "    for i in range(int(y)):\n",
    "        outPut = outPut * x\n",
    "    return outPut\n",
    "\n",
    "number1 = input(\"Enter a base number: \")\n",
    "number2 = input(\"Enter a exponent number: \")\n",
    "\n",
    "if ((number1.isdigit()) and (number2.isdigit())):\n",
    "    res = int(myPower(int(number1),int(number2)))\n",
    "    print(\"power : \", res)\n",
    "else:\n",
    "    print(\"Enter a digits\")\n",
    "        \n",
    "    \n"
   ]
  },
  {
   "cell_type": "code",
   "execution_count": 50,
   "metadata": {},
   "outputs": [
    {
     "name": "stdout",
     "output_type": "stream",
     "text": [
      "*\n",
      "**\n",
      "***\n",
      "****\n",
      "*****\n",
      "\n",
      "*****\n",
      "****\n",
      "***\n",
      "**\n",
      "*\n",
      "\n",
      "     *\n",
      "    **\n",
      "   ***\n",
      "  ****\n",
      " *****\n",
      "\n",
      " *****\n",
      "  ****\n",
      "   ***\n",
      "    **\n",
      "     *\n"
     ]
    }
   ],
   "source": [
    "#Pattern Printing\n",
    "\n",
    "for i in range(5):\n",
    "    print('*' * int(i+1))\n",
    "\n",
    "print()\n",
    "\n",
    "for i in range(5,0,-1):\n",
    "    print('*' * int(i))\n",
    "\n",
    "print()\n",
    "\n",
    "len = int(5)\n",
    "for i in range(len, 0, -1):\n",
    "    print(' ' * int(i-1), '*' * ((len+1)-i))\n",
    "\n",
    "print()\n",
    "\n",
    "len = int(5)\n",
    "for i in range(len, 0, -1):\n",
    "    print(' ' * int(len - i) , '*' * i)"
   ]
  },
  {
   "cell_type": "code",
   "execution_count": null,
   "metadata": {},
   "outputs": [],
   "source": []
  }
 ],
 "metadata": {
  "kernelspec": {
   "display_name": "Python 3",
   "language": "python",
   "name": "python3"
  },
  "language_info": {
   "codemirror_mode": {
    "name": "ipython",
    "version": 3
   },
   "file_extension": ".py",
   "mimetype": "text/x-python",
   "name": "python",
   "nbconvert_exporter": "python",
   "pygments_lexer": "ipython3",
   "version": "3.8.3"
  }
 },
 "nbformat": 4,
 "nbformat_minor": 4
}
