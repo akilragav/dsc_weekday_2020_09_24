{
 "cells": [
  {
   "cell_type": "code",
   "execution_count": 7,
   "metadata": {},
   "outputs": [
    {
     "ename": "SyntaxError",
     "evalue": "invalid syntax (<ipython-input-7-3bc953576383>, line 27)",
     "output_type": "error",
     "traceback": [
      "\u001b[1;36m  File \u001b[1;32m\"<ipython-input-7-3bc953576383>\"\u001b[1;36m, line \u001b[1;32m27\u001b[0m\n\u001b[1;33m    [my_str[:my_str.index(' is')], sep, my_str(my_str.index(' is')+3):1]\u001b[0m\n\u001b[1;37m                                                                     ^\u001b[0m\n\u001b[1;31mSyntaxError\u001b[0m\u001b[1;31m:\u001b[0m invalid syntax\n"
     ]
    }
   ],
   "source": [
    "#WAP to find bleow output using loop:\n",
    "#input:- 'This is python class', sep = ' is'\n",
    "#output:- ['This', 'is', 'Python class']\n",
    "\n",
    "my_str = 'This is python class'\n",
    "out_lst = []\n",
    "out_str = ''\n",
    "lst_str = ''\n",
    "sep = ' is'\n",
    "j=0\n",
    "for i in my_str:\n",
    "    if my_str[i] == sep[j]:\n",
    "        out_str += my_str[i]\n",
    "        j += 1\n",
    "        if out_str == sep:\n",
    "            out_lst.append(lst_str)\n",
    "            out_lst.append(out_str)\n",
    "            out_lst.append(my_str[(my_str.index(out_str)+3):1])\n",
    "            break;\n",
    "        else:\n",
    "            lst_str += my_str[i]\n",
    "            out_str = ''\n",
    "            j = 0\n",
    "print(out_lst)\n",
    "\n",
    "\n",
    "[my_str[:my_str.index(' is')], sep, my_str(my_str.index(' is')+3):1]\n",
    "    \n",
    "        "
   ]
  }
 ],
 "metadata": {
  "kernelspec": {
   "display_name": "Python 3",
   "language": "python",
   "name": "python3"
  },
  "language_info": {
   "codemirror_mode": {
    "name": "ipython",
    "version": 3
   },
   "file_extension": ".py",
   "mimetype": "text/x-python",
   "name": "python",
   "nbconvert_exporter": "python",
   "pygments_lexer": "ipython3",
   "version": "3.8.3"
  }
 },
 "nbformat": 4,
 "nbformat_minor": 4
}
