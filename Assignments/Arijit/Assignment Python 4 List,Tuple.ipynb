{
 "cells": [
  {
   "cell_type": "code",
   "execution_count": 4,
   "metadata": {},
   "outputs": [
    {
     "name": "stdout",
     "output_type": "stream",
     "text": [
      "[1, 2, 3, 4, 5]\n"
     ]
    }
   ],
   "source": [
    "#1) convert tuple t(1,2,3,4,5) to list\n",
    "\n",
    "t=(1,2,3,4,5)\n",
    "list_1=list(t)\n",
    "print(list_1)"
   ]
  },
  {
   "cell_type": "code",
   "execution_count": 6,
   "metadata": {},
   "outputs": [
    {
     "name": "stdout",
     "output_type": "stream",
     "text": [
      "[1, 3, 5, 7, 8, 6, 4, 2]\n"
     ]
    }
   ],
   "source": [
    "#2) WAP to join as list and a tuple\n",
    "\n",
    "l=[1,3,5,7]\n",
    "t=(8,6,4,2)\n",
    "con_t=list(t)\n",
    "\n",
    "\n",
    "ls=l+con_t\n",
    "print(ls)"
   ]
  },
  {
   "cell_type": "code",
   "execution_count": null,
   "metadata": {},
   "outputs": [],
   "source": [
    "#3) "
   ]
  },
  {
   "cell_type": "code",
   "execution_count": 21,
   "metadata": {},
   "outputs": [
    {
     "name": "stdout",
     "output_type": "stream",
     "text": [
      "['C', 'A', 'c', 'd', 'a']\n",
      "['C', 'A', 'c', 'd', 'a']\n"
     ]
    }
   ],
   "source": [
    "#4) Print list in reverse order\n",
    "i=['a','d','c','A','C']\n",
    "\n",
    "i.reverse()\n",
    "print(i)\n",
    "\n",
    "#without using reverse function\n",
    "\n",
    "j=['a','d','c','A','C']\n",
    "\n",
    "newlist=j[::-1]\n",
    "print(newlist)"
   ]
  },
  {
   "cell_type": "code",
   "execution_count": 24,
   "metadata": {},
   "outputs": [
    {
     "data": {
      "text/plain": [
       "[11, 21, 31, 41]"
      ]
     },
     "execution_count": 24,
     "metadata": {},
     "output_type": "execute_result"
    }
   ],
   "source": [
    "#5) print elements at odd indexes from list\n",
    "\n",
    "n=[10,11,20,21,30,31,40,41]\n",
    "\n",
    "print(\"Elements at odd postions in the list are: \",n[1::2])\n",
    "\n"
   ]
  },
  {
   "cell_type": "code",
   "execution_count": 26,
   "metadata": {},
   "outputs": [
    {
     "name": "stdout",
     "output_type": "stream",
     "text": [
      "[10, 11, 20, 21, 30, 31, 40, 41]\n",
      "[10, 11, 20, 21, 30, 31, 40, 41]\n"
     ]
    }
   ],
   "source": [
    "#6) number of ways to copy a list\n",
    "\n",
    "n=[10,11,20,21,30,31,40,41]\n",
    "\n",
    "# i) direct copy\n",
    "new=n\n",
    "print(n)\n",
    "\n",
    "#2) using the copy\n",
    "t=n.copy()\n",
    "print(t)"
   ]
  },
  {
   "cell_type": "code",
   "execution_count": 31,
   "metadata": {},
   "outputs": [
    {
     "name": "stdout",
     "output_type": "stream",
     "text": [
      "a\n",
      "5\n"
     ]
    }
   ],
   "source": [
    "#7) Predict o/p\n",
    "\n",
    "n_lst=[\"Happy\",[2,0,1,5]]\n",
    "print(n_lst[0][1])\n",
    "print(n_lst[1][3])"
   ]
  },
  {
   "cell_type": "code",
   "execution_count": 33,
   "metadata": {},
   "outputs": [
    {
     "name": "stdout",
     "output_type": "stream",
     "text": [
      "[1, 4, 6, 8]\n",
      "[1, 3, 5, 7]\n"
     ]
    }
   ],
   "source": [
    "#8) Predict o/p\n",
    "odd=[2,4,6,8]\n",
    "odd[0]=1  #assign 1 to position 0\n",
    "print(odd)\n",
    "\n",
    "odd[1:4]=[3,5,7] #assigns the vallues 3,5,7 to the mentioned positions.\n",
    "print(odd)"
   ]
  },
  {
   "cell_type": "code",
   "execution_count": 35,
   "metadata": {},
   "outputs": [
    {
     "name": "stdout",
     "output_type": "stream",
     "text": [
      "[1, 3, 5, [7, 9]]\n",
      "[1, 3, 5, [7, 9], 11, 13]\n"
     ]
    }
   ],
   "source": [
    "#9)predict o/p\n",
    "odd=[1,3,5]\n",
    "odd.append([7,9])  #appends 7,9 to the list as a list element within the odd list\n",
    "print(odd)\n",
    "odd.extend([11,13])  #this menthod adds the elements 11, 13 as anewe elements to the odd list \n",
    "print(odd)"
   ]
  },
  {
   "cell_type": "code",
   "execution_count": 40,
   "metadata": {},
   "outputs": [
    {
     "name": "stdout",
     "output_type": "stream",
     "text": [
      "<class 'tuple'>\n",
      "<class 'int'>\n",
      "<class 'int'>\n",
      "<class 'tuple'>\n"
     ]
    }
   ],
   "source": [
    "#10) Predict o/p\n",
    "\n",
    "x=1,2,3\n",
    "print(type(x))  #by default since we did not mention it as list, the input was taken as tuple\n",
    "\n",
    "x=(1)\n",
    "print(type(x)) #since it has one element, it is treated as int\n",
    "\n",
    "x=1\n",
    "print(type(x))\n",
    "\n",
    "\n",
    "x=1,\n",
    "print(type(x)) #since this has a comma at the end, it denotes its a tuple"
   ]
  },
  {
   "cell_type": "code",
   "execution_count": 59,
   "metadata": {},
   "outputs": [
    {
     "name": "stdout",
     "output_type": "stream",
     "text": [
      "1 2 3\n",
      "4 5 6\n",
      "7 8 9\n"
     ]
    }
   ],
   "source": [
    "#11)represent a matrix\n",
    "\n",
    "for i in range(1,10):\n",
    "    if i%3==0:\n",
    "        print(i)  #this condition will only print the vlaues 3,6,9 which will be with new lines by default\n",
    "    else:\n",
    "        print(i,end=' ') #this is where the other numbers are handled and using the end='' to print on same line"
   ]
  },
  {
   "cell_type": "code",
   "execution_count": 60,
   "metadata": {},
   "outputs": [
    {
     "name": "stdout",
     "output_type": "stream",
     "text": [
      "('s', 't', 'r', 'i', 'n', 'g')\n",
      "('g', 'n', 'i', 'r', 't', 's')\n",
      "('n', 's')\n"
     ]
    }
   ],
   "source": [
    "#12) predict o/p\n",
    "\n",
    "t=tuple(\"string\")\n",
    "print(t)  #prints ('s,'t','r','i','n','g')\n",
    "print(t[::-1])  #prints ('g','n','i','r','t','s')\n",
    "print(t[::2][::-2])  #will access ('s','r','n') since step is 2 and then print in reverse with step 2-> ('n','s')"
   ]
  },
  {
   "cell_type": "code",
   "execution_count": 69,
   "metadata": {},
   "outputs": [
    {
     "name": "stdout",
     "output_type": "stream",
     "text": [
      "[10, 20, 30, 40, 50, 60, 70]\n",
      "True\n",
      "False\n",
      "1\n",
      "0\n",
      "[10, 20, 30, 40, 50, 60, 70]\n"
     ]
    }
   ],
   "source": [
    "#13) predict o/p\n",
    "t=([10,20,30,40,50,60,70]) #since this has only one list as an element in the tuple, hence it will be treated as a list and not tuple\n",
    "\n",
    "print(t)\n",
    "print(60 in t) #true\n",
    "print('60' in t) #false\n",
    "print(t.count(10)) #1\n",
    "print(t.index(10)) #0\n"
   ]
  },
  {
   "cell_type": "code",
   "execution_count": 73,
   "metadata": {},
   "outputs": [
    {
     "name": "stdout",
     "output_type": "stream",
     "text": [
      "Enter a string to be checked for pallindromwe: iTopiNonAvevanoNipoti\n",
      "Entered string iTopiNonAvevanoNipoti is PALLINDROME!\n"
     ]
    }
   ],
   "source": [
    "#14) input a string an print if its pallindrome or not\n",
    "\n",
    "str1=input(\"Enter a string to be checked for pallindromwe: \")\n",
    "\n",
    "if str1[::1].lower()==str1[::-1].lower():\n",
    "    print(f'Entered string {str1} is PALLINDROME!')\n",
    "else:\n",
    "    print('Not a pallindrome!!')"
   ]
  },
  {
   "cell_type": "code",
   "execution_count": 81,
   "metadata": {},
   "outputs": [
    {
     "name": "stdout",
     "output_type": "stream",
     "text": [
      "[20, 15, 10, 5]\n"
     ]
    }
   ],
   "source": [
    "#15) using the range method create a tuple containing (20,15,10,5)\n",
    "\n",
    "n=[]\n",
    "for i in range(20,4,-5):\n",
    "    n.append(i)\n",
    "    \n",
    "print(n)\n"
   ]
  },
  {
   "cell_type": "code",
   "execution_count": 84,
   "metadata": {},
   "outputs": [
    {
     "name": "stdout",
     "output_type": "stream",
     "text": [
      "Enter string to be converted to characters: i am mad\n",
      "['i', ' ', 'a', 'm', ' ', 'm', 'a', 'd']\n"
     ]
    }
   ],
   "source": [
    "#16) wap to input string and convert into list\n",
    "s_lst=[]\n",
    "str1=input(\"Enter string to be converted to characters: \")\n",
    "s_lst=list(str1)\n",
    "\n",
    "print(s_lst)"
   ]
  },
  {
   "cell_type": "code",
   "execution_count": 90,
   "metadata": {},
   "outputs": [
    {
     "name": "stdout",
     "output_type": "stream",
     "text": [
      "<class 'list'>\n",
      "<class 'NoneType'>\n",
      "<class 'str'>\n",
      "<class 'bool'>\n"
     ]
    }
   ],
   "source": [
    "#17) return type of the fllowing:\n",
    "\n",
    "print(type('1 2'.split()))\n",
    "\n",
    "print(type([1,3,2].sort()))\n",
    "\n",
    "print(type('abc'.upper()))\n",
    "\n",
    "print(type(1 in [1,2]))"
   ]
  }
 ],
 "metadata": {
  "kernelspec": {
   "display_name": "Python 3",
   "language": "python",
   "name": "python3"
  },
  "language_info": {
   "codemirror_mode": {
    "name": "ipython",
    "version": 3
   },
   "file_extension": ".py",
   "mimetype": "text/x-python",
   "name": "python",
   "nbconvert_exporter": "python",
   "pygments_lexer": "ipython3",
   "version": "3.7.3"
  }
 },
 "nbformat": 4,
 "nbformat_minor": 2
}
