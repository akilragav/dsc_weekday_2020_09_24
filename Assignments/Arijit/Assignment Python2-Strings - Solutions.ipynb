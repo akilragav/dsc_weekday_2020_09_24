{
 "cells": [
  {
   "cell_type": "code",
   "execution_count": 13,
   "metadata": {},
   "outputs": [],
   "source": [
    "# 1) o/p\n",
    "# 1> 'd'\n",
    "# 2> 'detneirO tcejbO si nohtyP'\n",
    "# 3> 'Python is Object Oriente'\n",
    "# 4> ''\n",
    "# 5> 'on is'"
   ]
  },
  {
   "cell_type": "code",
   "execution_count": 17,
   "metadata": {},
   "outputs": [],
   "source": [
    "# 2) string index out of range"
   ]
  },
  {
   "cell_type": "code",
   "execution_count": 18,
   "metadata": {},
   "outputs": [],
   "source": [
    "#3) 's' is not defined"
   ]
  },
  {
   "cell_type": "code",
   "execution_count": null,
   "metadata": {},
   "outputs": [],
   "source": [
    "#4)\n",
    "a>  6\n",
    "    abc\n",
    "    3\n",
    "b>  ['a#b#c#d#']\n",
    "    ['a','b','c','d','']\n",
    "    a$b$c$d$\n",
    "c> av\n",
    "d> False\n",
    "e> 0,1,2\n",
    "f)  abcba\n",
    "    0,0,0,\n",
    "    \n",
    "    "
   ]
  },
  {
   "cell_type": "code",
   "execution_count": 47,
   "metadata": {},
   "outputs": [
    {
     "name": "stdout",
     "output_type": "stream",
     "text": [
      "enter a word/phrase/sentences containing spaces: i am evil\n",
      "Output with space removed: iamevil\n"
     ]
    }
   ],
   "source": [
    "#5) AP to input string and remove all spaces from it\n",
    "\n",
    "str1=input(\"enter a word/phrase/sentences containing spaces: \")\n",
    "stripped=str1.replace(' ','')\n",
    "print(f'Output with space removed: {stripped}')"
   ]
  },
  {
   "cell_type": "code",
   "execution_count": 49,
   "metadata": {},
   "outputs": [
    {
     "name": "stdout",
     "output_type": "stream",
     "text": [
      "['__add__', '__class__', '__contains__', '__delattr__', '__dir__', '__doc__', '__eq__', '__format__', '__ge__', '__getattribute__', '__getitem__', '__getnewargs__', '__gt__', '__hash__', '__init__', '__init_subclass__', '__iter__', '__le__', '__len__', '__lt__', '__mod__', '__mul__', '__ne__', '__new__', '__reduce__', '__reduce_ex__', '__repr__', '__rmod__', '__rmul__', '__setattr__', '__sizeof__', '__str__', '__subclasshook__', 'capitalize', 'casefold', 'center', 'count', 'encode', 'endswith', 'expandtabs', 'find', 'format', 'format_map', 'index', 'isalnum', 'isalpha', 'isascii', 'isdecimal', 'isdigit', 'isidentifier', 'islower', 'isnumeric', 'isprintable', 'isspace', 'istitle', 'isupper', 'join', 'ljust', 'lower', 'lstrip', 'maketrans', 'partition', 'replace', 'rfind', 'rindex', 'rjust', 'rpartition', 'rsplit', 'rstrip', 'split', 'splitlines', 'startswith', 'strip', 'swapcase', 'title', 'translate', 'upper', 'zfill']\n"
     ]
    }
   ],
   "source": [
    "#7) dir of string\n",
    "print(dir(str))"
   ]
  },
  {
   "cell_type": "code",
   "execution_count": 55,
   "metadata": {},
   "outputs": [
    {
     "data": {
      "text/plain": [
       "False"
      ]
     },
     "execution_count": 55,
     "metadata": {},
     "output_type": "execute_result"
    }
   ],
   "source": [
    "#8) wap to check if rstip is present in str class\n",
    "\n",
    "'rstip' in (dir(str))"
   ]
  },
  {
   "cell_type": "code",
   "execution_count": 60,
   "metadata": {},
   "outputs": [
    {
     "name": "stdout",
     "output_type": "stream",
     "text": [
      "\n",
      "*****\n",
      "  *\n",
      "  *\n",
      "  *\n",
      "  *\n",
      " \n",
      "*     *\n",
      "* * * *\n",
      "*  *  *\n",
      "*     *\n",
      " \n",
      "  ______\n",
      "  |     |\n",
      "  o     |\n",
      " /|\\    |\n",
      " / \\    |\n",
      "________|\n",
      "\n"
     ]
    }
   ],
   "source": [
    "#9) WAP to input patterns\n",
    "pat1='''\n",
    "*****\n",
    "  *\n",
    "  *\n",
    "  *\n",
    "  *\n",
    "'''\n",
    "\n",
    "pat2='''\n",
    "*     *\n",
    "* * * *\n",
    "*  *  *\n",
    "*     *\n",
    "'''\n",
    "pat3='''\n",
    "  ______\n",
    "  |     |\n",
    "  o     |\n",
    " /|\\    |\n",
    " / \\    |\n",
    "________|\n",
    "'''\n",
    "\n",
    "print(pat1,pat2,pat3)"
   ]
  },
  {
   "cell_type": "code",
   "execution_count": 62,
   "metadata": {},
   "outputs": [
    {
     "name": "stdout",
     "output_type": "stream",
     "text": [
      "Enter a string/sentences: i am evil\n",
      "i\n",
      "am\n",
      "evil\n"
     ]
    }
   ],
   "source": [
    "# 10) Input string and replace al space with \\n and reprint\n",
    "\n",
    "str2=input(\"Enter a string/sentences: \")\n",
    "str3=str2.replace(' ','\\n')\n",
    "print(str3)"
   ]
  },
  {
   "cell_type": "code",
   "execution_count": 73,
   "metadata": {},
   "outputs": [
    {
     "name": "stdout",
     "output_type": "stream",
     "text": [
      "Enter Full Name: Arijit kumar De\n",
      "First Name is ARIJIT and length is 6\n",
      "Last Name is DE and length is 2\n"
     ]
    }
   ],
   "source": [
    "#11) Enter full name separated by space and print in first n last in new lines in upper and their length\n",
    "name=input(\"Enter Full Name: \")\n",
    "namelist= name.split(' ')\n",
    "\n",
    "print(f'First Name is {namelist[0].upper()} and length is {len(namelist[0])}')\n",
    "print(f'Last Name is {namelist[len(namelist)-1].upper()} and length is {len(namelist[len(namelist)-1])}')"
   ]
  },
  {
   "cell_type": "code",
   "execution_count": 49,
   "metadata": {},
   "outputs": [
    {
     "name": "stdout",
     "output_type": "stream",
     "text": [
      "Enter a string: string\n",
      "First half of string str and second half string is ing\n"
     ]
    }
   ],
   "source": [
    "#12) Input string and split into 2 halves\n",
    "str4=input(\"Enter a string: \")\n",
    "mid=int(len(str4)/2)\n",
    "print(f'First half of string {str4[:mid]} and second half string is {str4[::-1][:mid][::-1]}')"
   ]
  },
  {
   "cell_type": "code",
   "execution_count": null,
   "metadata": {},
   "outputs": [],
   "source": []
  }
 ],
 "metadata": {
  "kernelspec": {
   "display_name": "Python 3",
   "language": "python",
   "name": "python3"
  },
  "language_info": {
   "codemirror_mode": {
    "name": "ipython",
    "version": 3
   },
   "file_extension": ".py",
   "mimetype": "text/x-python",
   "name": "python",
   "nbconvert_exporter": "python",
   "pygments_lexer": "ipython3",
   "version": "3.7.3"
  }
 },
 "nbformat": 4,
 "nbformat_minor": 2
}
