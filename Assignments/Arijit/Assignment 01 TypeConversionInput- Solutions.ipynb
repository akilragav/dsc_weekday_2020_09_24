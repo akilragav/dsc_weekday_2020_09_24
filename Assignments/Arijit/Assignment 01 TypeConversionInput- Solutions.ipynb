{
 "cells": [
  {
   "cell_type": "code",
   "execution_count": 8,
   "metadata": {},
   "outputs": [
    {
     "name": "stdout",
     "output_type": "stream",
     "text": [
      "Enter temperature in Farenheit: \n",
      "The temperature  is not a valid temperature!!\n"
     ]
    }
   ],
   "source": [
    "# 1) input temp in F and print in C:\n",
    "\n",
    "f=(input(\"Enter temperature in Farenheit: \"))\n",
    "\n",
    "\n",
    "if f.isdigit() or f.isnumeric():\n",
    "    c=(5/9)*(float(f)-32)\n",
    "    print(f'Temperature {f} in Celcius is {c} ')\n",
    "else:\n",
    "    print(f'The temperature {f} is not a valid temperature!!')"
   ]
  },
  {
   "cell_type": "code",
   "execution_count": 64,
   "metadata": {},
   "outputs": [
    {
     "name": "stdout",
     "output_type": "stream",
     "text": [
      "enter a number to find square & cube: 2.3\n",
      "Square of 2.3 is 5.29\n",
      "Cube of 2.3 is 12.17\n"
     ]
    }
   ],
   "source": [
    "#2) input number and print its square n cube\n",
    "\n",
    "x=float(input(\"enter a number to find square & cube: \"))\n",
    "\n",
    "print(f'Square of {x} is {round((x**2),2)}')\n",
    "print(f'Cube of {x} is {round((x**3),2)}')"
   ]
  },
  {
   "cell_type": "code",
   "execution_count": 11,
   "metadata": {},
   "outputs": [
    {
     "name": "stdout",
     "output_type": "stream",
     "text": [
      "Enter first number: 2\n",
      "enter second number: 3\n",
      "Result of expression is 13.0\n"
     ]
    }
   ],
   "source": [
    "#3) enter number n and m to print n2+m2\n",
    "\n",
    "n=float(input(\"Enter first number: \"))\n",
    "m=float(input(\"enter second number: \"))\n",
    "\n",
    "print(f'Result of expression is {n**2+m**2}')"
   ]
  },
  {
   "cell_type": "code",
   "execution_count": 22,
   "metadata": {},
   "outputs": [
    {
     "name": "stdout",
     "output_type": "stream",
     "text": [
      "Enter first number N: 2\n",
      "Enter second number M: 3\n",
      "Result of M to the power of N using pow is 9.0\n",
      "Result of M to the power of N using ** is 9.0\n"
     ]
    }
   ],
   "source": [
    "# 4) enter N and M and print M to the power of N\n",
    "N=float(input(\"Enter first number N: \"))\n",
    "M=float(input(\"Enter second number M: \"))\n",
    "\n",
    "print(f'Result of M to the power of N using pow is {pow(M,N)}')\n",
    "print(f'Result of M to the power of N using ** is {M**N}')"
   ]
  },
  {
   "cell_type": "code",
   "execution_count": 12,
   "metadata": {},
   "outputs": [
    {
     "name": "stdout",
     "output_type": "stream",
     "text": [
      "Enter principle: 100\n",
      "Enter time period: 2\n",
      "Enter rate of interest: 3\n",
      "Simple interest for 100.0 for 2.0 years at 3.0 rate of interest is : 6.0\n"
     ]
    }
   ],
   "source": [
    "# 5) Simple interest calculator\n",
    "\n",
    "p=float(input(\"Enter principle: \"))\n",
    "t=float(input(\"Enter time period: \"))\n",
    "r=float(input(\"Enter rate of interest: \"))\n",
    "\n",
    "print(f'Simple interest for {p} for {t} years at {r} rate of interest is : {(p*t*r)/100}')\n",
    "\n"
   ]
  },
  {
   "cell_type": "code",
   "execution_count": 18,
   "metadata": {},
   "outputs": [
    {
     "name": "stdout",
     "output_type": "stream",
     "text": [
      "Enter principle: 100\n",
      "Enter time period: 2\n",
      "Enter rate of interest: 3\n",
      "Simple interest for 100.0 for 2.0 years at 3.0 rate of interest is : 1500.0\n"
     ]
    }
   ],
   "source": [
    "# 6) Compound interest calculator\n",
    "\n",
    "p=float(input(\"Enter principle: \"))\n",
    "t=float(input(\"Enter time period: \"))\n",
    "r=float(input(\"Enter rate of interest: \"))\n",
    "\n",
    "print(f'Simple interest for {p} for {t} years at {r} rate of interest is : {p*(((1 + r)**t)-1)}')\n"
   ]
  },
  {
   "cell_type": "code",
   "execution_count": 28,
   "metadata": {},
   "outputs": [
    {
     "name": "stdout",
     "output_type": "stream",
     "text": [
      "Enter the upper range for natural numbers : we\n",
      "Entered value is not valid!!\n"
     ]
    }
   ],
   "source": [
    "# 7) WAP to print sum of first n natural numbers\n",
    "\n",
    "n=(input(\"Enter the upper range for natural numbers : \"))\n",
    "sum1=0\n",
    "i=1\n",
    "if n.isdigit():\n",
    "    while i<=n:\n",
    "        sum1=sum1+i\n",
    "        i+=1\n",
    "    print(f'Sum of first {n} natural numbers : {sum1}')\n",
    "else:\n",
    "    print(\"Entered value is not valid!!\")\n",
    "    \n"
   ]
  },
  {
   "cell_type": "code",
   "execution_count": 29,
   "metadata": {},
   "outputs": [
    {
     "name": "stdout",
     "output_type": "stream",
     "text": [
      "Enter first integer: 1\n",
      "Enter second integer: 2\n",
      "2\n",
      "1\n"
     ]
    }
   ],
   "source": [
    "# 8a) enter 2 numbers and swap using temp var and also pythonic way\n",
    "\n",
    "num1=int(input(\"Enter first integer: \"))\n",
    "num2=int(input(\"Enter second integer: \"))\n",
    "\n",
    "num3=num1\n",
    "num1=num2\n",
    "num2=num3\n",
    "\n",
    "print(num1)\n",
    "print(num2)"
   ]
  },
  {
   "cell_type": "code",
   "execution_count": 30,
   "metadata": {},
   "outputs": [
    {
     "name": "stdout",
     "output_type": "stream",
     "text": [
      "Enter first integer: 1\n",
      "Enter second integer: 2\n",
      "2\n",
      "1\n"
     ]
    }
   ],
   "source": [
    "# 8b) enter 2 numbers and swap using temp var and also pythonic way\n",
    "\n",
    "num1=int(input(\"Enter first integer: \"))\n",
    "num2=int(input(\"Enter second integer: \"))\n",
    "\n",
    "num1,num2=num2,num1\n",
    "\n",
    "print(num1)\n",
    "print(num2)"
   ]
  },
  {
   "cell_type": "code",
   "execution_count": 42,
   "metadata": {},
   "outputs": [
    {
     "name": "stdout",
     "output_type": "stream",
     "text": [
      "Ascii value of ' ' is :  32\n",
      "Ascii value of '\\t' is :  9\n",
      "Ascii value of '\\n' is :  10\n",
      "Ascii value of '\\v' is :  11\n",
      "Ascii value of '\\f' is :  12\n",
      "Ascii value of '\\r' is :  13\n"
     ]
    }
   ],
   "source": [
    "# 9) ascii value of all white space characters in python\n",
    "\n",
    "print(\"Ascii value of ' ' is : \", ord(' '))\n",
    "print(\"Ascii value of '\\\\t' is : \", ord('\\t'))\n",
    "print(\"Ascii value of '\\\\n' is : \", ord('\\n'))\n",
    "print(\"Ascii value of '\\\\v' is : \", ord('\\v'))\n",
    "print(\"Ascii value of '\\\\f' is : \", ord('\\f'))\n",
    "print(\"Ascii value of '\\\\r' is : \", ord('\\r'))"
   ]
  },
  {
   "cell_type": "code",
   "execution_count": 55,
   "metadata": {},
   "outputs": [],
   "source": [
    "# print('ab \\v ab')\n",
    "# print('ab \\f ab')\n",
    "# print('abcde\\rpqr')\n",
    "# print('ab \\t ab')\n"
   ]
  },
  {
   "cell_type": "code",
   "execution_count": 56,
   "metadata": {},
   "outputs": [
    {
     "name": "stdout",
     "output_type": "stream",
     "text": [
      "Enter the character: w\n",
      "Ascii value for w is 119\n"
     ]
    }
   ],
   "source": [
    "# 10) Input character and print ascii\n",
    "str1=input(\"Enter the character: \")\n",
    "print(f'Ascii value for {str1} is {ord(str1)}')"
   ]
  },
  {
   "cell_type": "code",
   "execution_count": 62,
   "metadata": {},
   "outputs": [
    {
     "name": "stdout",
     "output_type": "stream",
     "text": [
      "Enter area of cricle: 123\n",
      "Radius of circle is 6.26\n",
      "Circumference of circle is 39.33\n"
     ]
    }
   ],
   "source": [
    "# 11) WAP to input area of circle and return radius and circumference\n",
    "import math\n",
    "area=(input(\"Enter area of cricle: \"))\n",
    "\n",
    "if area.isdigit() or area.isnumeric():\n",
    "    r= round(((float(area)/ math.pi)**(0.5)),2)\n",
    "    circum=round((2*math.pi*r),2)\n",
    "    print(f'Radius of circle is {r}')\n",
    "    print(f'Circumference of circle is {circum}')\n",
    "else:\n",
    "    print(\"Invalid area entered!\")"
   ]
  },
  {
   "cell_type": "code",
   "execution_count": 67,
   "metadata": {},
   "outputs": [
    {
     "name": "stdout",
     "output_type": "stream",
     "text": [
      "Enter marks for Subject 1: 67\n",
      "Enter marks for Subject 2: 65\n",
      "Enter marks for Subject 3: 76\n",
      "Enter marks for Subject 4: 23\n",
      "Enter marks for Subject 5: 89\n",
      "Percentage obtained: 64.0%\n"
     ]
    }
   ],
   "source": [
    "# 12) Input marks in 5 subjects and print %\n",
    "\n",
    "sub1=float(input(\"Enter marks for Subject 1: \"))\n",
    "sub2=float(input(\"Enter marks for Subject 2: \"))\n",
    "sub3=float(input(\"Enter marks for Subject 3: \"))\n",
    "sub4=float(input(\"Enter marks for Subject 4: \"))\n",
    "sub5=float(input(\"Enter marks for Subject 5: \"))\n",
    "\n",
    "print(f'Percentage obtained: {round(((sub1+sub2+sub3+sub4+sub5)/5),2)}%')"
   ]
  },
  {
   "cell_type": "code",
   "execution_count": null,
   "metadata": {},
   "outputs": [],
   "source": []
  }
 ],
 "metadata": {
  "kernelspec": {
   "display_name": "Python 3",
   "language": "python",
   "name": "python3"
  },
  "language_info": {
   "codemirror_mode": {
    "name": "ipython",
    "version": 3
   },
   "file_extension": ".py",
   "mimetype": "text/x-python",
   "name": "python",
   "nbconvert_exporter": "python",
   "pygments_lexer": "ipython3",
   "version": "3.7.3"
  }
 },
 "nbformat": 4,
 "nbformat_minor": 2
}
