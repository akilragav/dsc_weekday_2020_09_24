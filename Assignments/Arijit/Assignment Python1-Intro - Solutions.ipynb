{
 "cells": [
  {
   "cell_type": "code",
   "execution_count": 1,
   "metadata": {},
   "outputs": [
    {
     "name": "stdout",
     "output_type": "stream",
     "text": [
      "12 13\n"
     ]
    }
   ],
   "source": [
    "# 1) o/p\n",
    "6 19"
   ]
  },
  {
   "cell_type": "code",
   "execution_count": 3,
   "metadata": {},
   "outputs": [
    {
     "name": "stdout",
     "output_type": "stream",
     "text": [
      "Enter string to find length: First Code\n",
      "10\n"
     ]
    }
   ],
   "source": [
    "# 2) Input string to print length\n",
    "\n",
    "str1=input(\"Enter string to find length: \")\n",
    "\n",
    "print(len(str1))"
   ]
  },
  {
   "cell_type": "code",
   "execution_count": 7,
   "metadata": {},
   "outputs": [
    {
     "name": "stdout",
     "output_type": "stream",
     "text": [
      "Enter first number: 12.111\n",
      "Enter second number: 14.12123\n",
      "Sum of 12.111 and 14.12123 is 26.23223\n",
      "Difference between 12.111 and 14.12123 is 2.01023\n"
     ]
    }
   ],
   "source": [
    "# 3)Input 2 numbers and print sum and difference\n",
    "num1=float(input(\"Enter first number: \"))\n",
    "num2=float(input(\"Enter second number: \"))\n",
    "\n",
    "print(f'Sum of {num1} and {num2} is {num1+num2}')\n",
    "print(f'Difference between {num1} and {num2} is {(num1-num2)}') # can use abs to print jus the absolute difference between the numbers"
   ]
  },
  {
   "cell_type": "code",
   "execution_count": null,
   "metadata": {},
   "outputs": [],
   "source": [
    "# 4) & 5) o/p\n",
    "abde\n"
   ]
  },
  {
   "cell_type": "code",
   "execution_count": null,
   "metadata": {},
   "outputs": [],
   "source": [
    "#6) o/p\n",
    "abababab"
   ]
  },
  {
   "cell_type": "code",
   "execution_count": null,
   "metadata": {},
   "outputs": [],
   "source": [
    "#7) o/p\n",
    "ab\n",
    "ab\n",
    "ab\n",
    "ab"
   ]
  },
  {
   "cell_type": "code",
   "execution_count": 12,
   "metadata": {},
   "outputs": [
    {
     "name": "stdout",
     "output_type": "stream",
     "text": [
      "Enter string to be printed: we\n",
      "Enter the number of times it shouold be repeated on each line: 3\n",
      "we\n",
      "we\n",
      "we\n",
      "\n"
     ]
    }
   ],
   "source": [
    "# 8) input string and number of times that needs to be repeated withpout using loops\n",
    "\n",
    "str1=input(\"Enter string to be printed: \")\n",
    "num=int(input(\"Enter the number of times it shouold be repeated on each line: \"))\n",
    "\n",
    "print((str1+'\\n')*num)"
   ]
  },
  {
   "cell_type": "code",
   "execution_count": 16,
   "metadata": {},
   "outputs": [],
   "source": [
    "#9 o/p\n",
    "# res=print('G')\n",
    "# print(res)\n",
    "# None"
   ]
  },
  {
   "cell_type": "code",
   "execution_count": 17,
   "metadata": {},
   "outputs": [
    {
     "name": "stdout",
     "output_type": "stream",
     "text": [
      "<class 'int'>\n"
     ]
    }
   ],
   "source": [
    "#10) o/p\n",
    "# t=10\n",
    "# print(type(t))\n",
    "\n",
    "# <class 'int'>"
   ]
  },
  {
   "cell_type": "code",
   "execution_count": 18,
   "metadata": {},
   "outputs": [
    {
     "name": "stdout",
     "output_type": "stream",
     "text": [
      "Arijit\n",
      "Nisha\n",
      "12\n"
     ]
    }
   ],
   "source": [
    "#11) predict o/p \n",
    "s1=\"Arijit\"\n",
    "s2=\"Nisha\"\n",
    "s3=s1 + '\\n' +s2\n",
    "print(s3)\n",
    "print(len(s3))"
   ]
  },
  {
   "cell_type": "code",
   "execution_count": 21,
   "metadata": {},
   "outputs": [
    {
     "name": "stdout",
     "output_type": "stream",
     "text": [
      "['__doc__', '__loader__', '__name__', '__package__', '__spec__', 'acos', 'acosh', 'asin', 'asinh', 'atan', 'atan2', 'atanh', 'ceil', 'copysign', 'cos', 'cosh', 'degrees', 'e', 'erf', 'erfc', 'exp', 'expm1', 'fabs', 'factorial', 'floor', 'fmod', 'frexp', 'fsum', 'gamma', 'gcd', 'hypot', 'inf', 'isclose', 'isfinite', 'isinf', 'isnan', 'ldexp', 'lgamma', 'log', 'log10', 'log1p', 'log2', 'modf', 'nan', 'pi', 'pow', 'radians', 'remainder', 'sin', 'sinh', 'sqrt', 'tan', 'tanh', 'tau', 'trunc']\n"
     ]
    }
   ],
   "source": [
    "#12) find sqrt funct in math\n",
    "import math\n",
    "print(dir(math))"
   ]
  },
  {
   "cell_type": "code",
   "execution_count": 24,
   "metadata": {},
   "outputs": [
    {
     "name": "stdout",
     "output_type": "stream",
     "text": [
      "Enter a number to find sqrt: 81\n",
      "Square Root of 81.0 is 9.0\n"
     ]
    }
   ],
   "source": [
    "# 13) WAP to input number a find sqrt:\n",
    "\n",
    "import math as m\n",
    "num1=float(input(\"Enter a number to find sqrt: \"))\n",
    "print(f'Square Root of {num1} is {m.sqrt(num1)}')"
   ]
  },
  {
   "cell_type": "code",
   "execution_count": 33,
   "metadata": {},
   "outputs": [
    {
     "name": "stdout",
     "output_type": "stream",
     "text": [
      "Enter 4 numbers separated by space: 1 2 3 4\n",
      "The average of ['1', '2', '3', '4'] is: 2.5\n"
     ]
    }
   ],
   "source": [
    "#14) WAP to input 4 numnbers and print average (using enumerate and range)\n",
    "number=(input(\"Enter 4 numbers separated by space: \").split())\n",
    "sum1=0\n",
    "for i,j in enumerate(number):\n",
    "    sum1=sum1+int(j)\n",
    "\n",
    "#alternativerly using range:\n",
    "# for i in range(len(number)):\n",
    "#     sum1=sum1+int(number[i])\n",
    "    \n",
    "average=sum1/len(number)\n",
    "print(f'The average of {number} is: {average}')\n",
    "\n"
   ]
  },
  {
   "cell_type": "code",
   "execution_count": 37,
   "metadata": {},
   "outputs": [
    {
     "name": "stdout",
     "output_type": "stream",
     "text": [
      "Help on built-in function abs in module builtins:\n",
      "\n",
      "abs(x, /)\n",
      "    Return the absolute value of the argument.\n",
      "\n"
     ]
    }
   ],
   "source": [
    "help(abs)"
   ]
  },
  {
   "cell_type": "code",
   "execution_count": 38,
   "metadata": {},
   "outputs": [
    {
     "name": "stdout",
     "output_type": "stream",
     "text": [
      "__main__\n"
     ]
    }
   ],
   "source": [
    "#16) & 17)\n",
    "print(__name__)"
   ]
  },
  {
   "cell_type": "code",
   "execution_count": 41,
   "metadata": {},
   "outputs": [],
   "source": [
    "#18) \n",
    "Y\n",
    "    "
   ]
  },
  {
   "cell_type": "code",
   "execution_count": 42,
   "metadata": {},
   "outputs": [
    {
     "name": "stdout",
     "output_type": "stream",
     "text": [
      "__main__\n",
      "builtins\n",
      "int\n"
     ]
    }
   ],
   "source": [
    "#19)\n",
    "print(__name__)\n",
    "print(__builtins__.__name__)\n",
    "print(int.__name__)"
   ]
  }
 ],
 "metadata": {
  "kernelspec": {
   "display_name": "Python 3",
   "language": "python",
   "name": "python3"
  },
  "language_info": {
   "codemirror_mode": {
    "name": "ipython",
    "version": 3
   },
   "file_extension": ".py",
   "mimetype": "text/x-python",
   "name": "python",
   "nbconvert_exporter": "python",
   "pygments_lexer": "ipython3",
   "version": "3.7.3"
  }
 },
 "nbformat": 4,
 "nbformat_minor": 2
}
