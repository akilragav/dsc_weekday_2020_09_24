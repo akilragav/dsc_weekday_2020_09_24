{
 "cells": [
  {
   "cell_type": "code",
   "execution_count": 8,
   "metadata": {},
   "outputs": [
    {
     "name": "stdout",
     "output_type": "stream",
     "text": [
      "Enter a number: ads\n",
      "Not a number!!\n"
     ]
    }
   ],
   "source": [
    "n=input(\"Enter a number: \")\n",
    "length=len(n)\n",
    "i=0\n",
    "add=0\n",
    "\n",
    "if n.isdigit():\n",
    "    while i<length:\n",
    "        add=add+int(n[i])\n",
    "        i+=1\n",
    "    print(\"Summation of digits of number entered is: \", add)\n",
    "else:\n",
    "    print(\"Not a number!!\")"
   ]
  },
  {
   "cell_type": "code",
   "execution_count": 20,
   "metadata": {},
   "outputs": [
    {
     "name": "stdout",
     "output_type": "stream",
     "text": [
      "Enter a string: 123\n",
      "Please enter string and try again!!\n"
     ]
    }
   ],
   "source": [
    "str=input(\"Enter a string: \")\n",
    "length=len(str)\n",
    "i=0\n",
    "if str.isdigit()==False:\n",
    "    while i<length:\n",
    "        print(f\"Ordinal value of {str[i]} is: {ord(str[i])}\")\n",
    "        i+=1\n",
    "else:\n",
    "    print(\"Please enter string and try again!!\")\n",
    "    "
   ]
  },
  {
   "cell_type": "code",
   "execution_count": 17,
   "metadata": {},
   "outputs": [
    {
     "data": {
      "text/plain": [
       "False"
      ]
     },
     "execution_count": 17,
     "metadata": {},
     "output_type": "execute_result"
    }
   ],
   "source": [
    "r=''\n",
    "r.isdigit()"
   ]
  }
 ],
 "metadata": {
  "kernelspec": {
   "display_name": "Python 3",
   "language": "python",
   "name": "python3"
  },
  "language_info": {
   "codemirror_mode": {
    "name": "ipython",
    "version": 3
   },
   "file_extension": ".py",
   "mimetype": "text/x-python",
   "name": "python",
   "nbconvert_exporter": "python",
   "pygments_lexer": "ipython3",
   "version": "3.7.3"
  }
 },
 "nbformat": 4,
 "nbformat_minor": 2
}
