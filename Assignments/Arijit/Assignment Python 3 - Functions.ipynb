{
 "cells": [
  {
   "cell_type": "code",
   "execution_count": 20,
   "metadata": {},
   "outputs": [
    {
     "name": "stdout",
     "output_type": "stream",
     "text": [
      "Enter string 1: this is 1\n",
      "Enter string 2: this is 2\n",
      "this is 2\n",
      "this is 1\n"
     ]
    }
   ],
   "source": [
    "# 1) WAp to input 2 strings and swap them\n",
    "\n",
    "def string_swap(str1,str2):\n",
    "    str1,str2=str2,str1\n",
    "    print(str1+'\\n'+str2)\n",
    "\n",
    "a=input(\"Enter string 1: \")\n",
    "b=input(\"Enter string 2: \")\n",
    "string_swap(a,b)"
   ]
  },
  {
   "cell_type": "code",
   "execution_count": 63,
   "metadata": {},
   "outputs": [
    {
     "name": "stdout",
     "output_type": "stream",
     "text": [
      "Average of [23, 20, 8, 17] numbers are : 17.0\n"
     ]
    }
   ],
   "source": [
    "# 2) WAp to generate 4 random numbers and print theior average\n",
    "import random\n",
    "def random_avg():\n",
    "    sum1=0\n",
    "    i=0\n",
    "    x=[]\n",
    "    while i<=3:\n",
    "                x.append(random.randint(0,27))\n",
    "        sum1=sum1+x[i]\n",
    "        #print(x)\n",
    "        i+=1\n",
    "    avg=sum1/len(x)\n",
    "    \n",
    "    print(f'Average of {x} numbers are : {avg}')\n",
    "\n",
    "random_avg()"
   ]
  },
  {
   "cell_type": "code",
   "execution_count": 86,
   "metadata": {},
   "outputs": [
    {
     "name": "stdout",
     "output_type": "stream",
     "text": [
      "Raandom upper or lower case string is: a\n"
     ]
    }
   ],
   "source": [
    "\n",
    "#3) WAP to generate and print randowm upper and lower case\n",
    "#the above can be used to generate passwords or random length of stirings\n",
    "\n",
    "import string\n",
    "import random\n",
    "#\n",
    "def random_upper_lower():\n",
    "    str1=string.ascii_letters\n",
    "    print(f'Raandom upper or lower case string is: {random.choice(str1)}')\n",
    "\n",
    "random_upper_lower()"
   ]
  },
  {
   "cell_type": "code",
   "execution_count": 89,
   "metadata": {},
   "outputs": [
    {
     "name": "stdout",
     "output_type": "stream",
     "text": [
      "Simple Interest value is :  6.0\n"
     ]
    },
    {
     "data": {
      "text/plain": [
       "6.0"
      ]
     },
     "execution_count": 89,
     "metadata": {},
     "output_type": "execute_result"
    }
   ],
   "source": [
    "#4) WAP to take P, T and R to calculate SI\n",
    "\n",
    "def get_si(p,t,r):\n",
    "    si= p*t*r/100\n",
    "#     print(\"Simple Interest value is : \",si)\n",
    "    return si\n",
    "\n",
    "get_si(100,2,3)"
   ]
  },
  {
   "cell_type": "code",
   "execution_count": 95,
   "metadata": {},
   "outputs": [
    {
     "name": "stdout",
     "output_type": "stream",
     "text": [
      "Simple Interest value is :  20.0\n",
      "Amount for principle 200 for time period 1 at rate 10% p.a. is: 220.0\n"
     ]
    }
   ],
   "source": [
    "#5) WAP to take PTR and return amount using the above si function , default r=10 and T=1\n",
    "\n",
    "def get_amount(p1,t1=1,r1=10):\n",
    "    si1=get_si(p1,t1,r1)\n",
    "    amount =p1+si1\n",
    "#     return amount\n",
    "    print(f'Amount for principle {p1} for time period {t1} at rate {r1}% p.a. is: {amount}')\n",
    "\n",
    "get_amount(200)"
   ]
  },
  {
   "cell_type": "code",
   "execution_count": 97,
   "metadata": {},
   "outputs": [
    {
     "data": {
      "text/plain": [
       "1210.0000000000002"
      ]
     },
     "execution_count": 97,
     "metadata": {},
     "output_type": "execute_result"
    }
   ],
   "source": [
    "#6) WAP to take PTR and print the CI:\n",
    "\n",
    "def get_ci(p2,t2,r2):\n",
    "    ci= p2*(1+(r2/100))**t2\n",
    "    return ci\n",
    "\n",
    "get_ci(1000,2,10)"
   ]
  },
  {
   "cell_type": "code",
   "execution_count": 100,
   "metadata": {},
   "outputs": [
    {
     "data": {
      "text/plain": [
       "(0, 2)"
      ]
     },
     "execution_count": 100,
     "metadata": {},
     "output_type": "execute_result"
    }
   ],
   "source": [
    "#7) wap to take 2 numbers and return their quotient n remainder as tuples\n",
    "\n",
    "def get_q_r(num1,num2):\n",
    "    \n",
    "    q=num1//num2\n",
    "    r=num1%num2\n",
    "    res=(q,r)\n",
    "    return res\n",
    "\n",
    "get_q_r(2,3)"
   ]
  },
  {
   "cell_type": "code",
   "execution_count": 117,
   "metadata": {},
   "outputs": [
    {
     "name": "stdout",
     "output_type": "stream",
     "text": [
      "Enter base: 3\n",
      "Enter height: 4\n",
      "Hypotenuse is : 5.0\n"
     ]
    },
    {
     "data": {
      "text/plain": [
       "5.0"
      ]
     },
     "execution_count": 117,
     "metadata": {},
     "output_type": "execute_result"
    }
   ],
   "source": [
    "#8) wap to input height n base n calculate the hypo of a triangle:\n",
    "\n",
    "def hypot(b,h):\n",
    "    if b.isdigit() and h.isdigit():\n",
    "        hyp=pow((int(b)**2 + int(h)**2 ),0.5)\n",
    "    else:\n",
    "        print(\"Invalid input!\")\n",
    "    print(\"Hypotenuse is :\",hyp)\n",
    "    return hyp\n",
    "    \n",
    "\n",
    "\n",
    "hypot(input(\"Enter base: \"),input(\"Enter height: \"))\n"
   ]
  },
  {
   "cell_type": "code",
   "execution_count": 116,
   "metadata": {},
   "outputs": [
    {
     "data": {
      "text/plain": [
       "8"
      ]
     },
     "execution_count": 116,
     "metadata": {},
     "output_type": "execute_result"
    }
   ],
   "source": [
    "pow(2,3)"
   ]
  },
  {
   "cell_type": "code",
   "execution_count": 149,
   "metadata": {},
   "outputs": [
    {
     "name": "stdout",
     "output_type": "stream",
     "text": [
      "Enter number to be converted in seconds: 1000\n",
      "0 days 0 hour 16 minutes 40 sec \n"
     ]
    }
   ],
   "source": [
    "#9) WAP to input number in seconds and print days hours minutes n seconds\n",
    "\n",
    "time=int(input(\"Enter number to be converted in seconds: \"))\n",
    "\n",
    "day= time//(24*3600) #the quotient gives the number of days\n",
    "time=time%(24*3600) #the reaminder gives the portion thats needs to be split down into hours \n",
    "\n",
    "hours=time//3600 \n",
    "time=time%3600  #remainder gives portion to be converted to minutes\n",
    "\n",
    "minute=time//60\n",
    "sec=time%60\n",
    "\n",
    "print(f'{day} days {hours} hour {minute} minutes {sec} sec ')"
   ]
  },
  {
   "cell_type": "code",
   "execution_count": 129,
   "metadata": {},
   "outputs": [],
   "source": [
    "#11) o/p\n",
    "# x=2\n",
    "# x*=3\n",
    "# x=x%4\n",
    "# y=-x\n",
    "# print(x,y)\n",
    "\n",
    "# 2 -2"
   ]
  },
  {
   "cell_type": "code",
   "execution_count": 137,
   "metadata": {},
   "outputs": [
    {
     "name": "stdout",
     "output_type": "stream",
     "text": [
      "2020-10-01\n"
     ]
    }
   ],
   "source": [
    "# print(datetime.date(2020,10,1))"
   ]
  },
  {
   "cell_type": "code",
   "execution_count": 150,
   "metadata": {},
   "outputs": [
    {
     "name": "stdout",
     "output_type": "stream",
     "text": [
      "None\n"
     ]
    }
   ],
   "source": [
    "#13)\n",
    "# def f():\n",
    "#     pass\n",
    "\n",
    "# print(f())\n",
    "\n",
    "# None\n"
   ]
  }
 ],
 "metadata": {
  "kernelspec": {
   "display_name": "Python 3",
   "language": "python",
   "name": "python3"
  },
  "language_info": {
   "codemirror_mode": {
    "name": "ipython",
    "version": 3
   },
   "file_extension": ".py",
   "mimetype": "text/x-python",
   "name": "python",
   "nbconvert_exporter": "python",
   "pygments_lexer": "ipython3",
   "version": "3.7.3"
  }
 },
 "nbformat": 4,
 "nbformat_minor": 2
}
