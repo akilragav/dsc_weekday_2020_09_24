{
 "cells": [
  {
   "cell_type": "code",
   "execution_count": 6,
   "metadata": {},
   "outputs": [
    {
     "name": "stdout",
     "output_type": "stream",
     "text": [
      "d\n",
      "detneirO tcejbO si nohtyP\n",
      "Python is Object Oriente\n",
      "''\n",
      "'on is '\n"
     ]
    }
   ],
   "source": [
    "#1\n",
    "s='Python is Object Oriented'\n",
    "print(s[-1])\n",
    "print(s[::-1])\n",
    "print(s[:-1])\n",
    "print(repr(s[1:1]))\n",
    "print(repr(s[4:10]))"
   ]
  },
  {
   "cell_type": "code",
   "execution_count": 9,
   "metadata": {},
   "outputs": [
    {
     "ename": "IndexError",
     "evalue": "string index out of range",
     "output_type": "error",
     "traceback": [
      "\u001b[1;31m---------------------------------------------------------------------------\u001b[0m",
      "\u001b[1;31mIndexError\u001b[0m                                Traceback (most recent call last)",
      "\u001b[1;32m<ipython-input-9-bcb807dbf623>\u001b[0m in \u001b[0;36m<module>\u001b[1;34m\u001b[0m\n\u001b[0;32m      1\u001b[0m \u001b[1;31m#2\u001b[0m\u001b[1;33m\u001b[0m\u001b[1;33m\u001b[0m\u001b[1;33m\u001b[0m\u001b[0m\n\u001b[0;32m      2\u001b[0m \u001b[0ms1\u001b[0m\u001b[1;33m=\u001b[0m\u001b[1;34m''\u001b[0m\u001b[1;33m\u001b[0m\u001b[1;33m\u001b[0m\u001b[0m\n\u001b[1;32m----> 3\u001b[1;33m \u001b[0mprint\u001b[0m\u001b[1;33m(\u001b[0m\u001b[0ms1\u001b[0m\u001b[1;33m[\u001b[0m\u001b[1;36m1\u001b[0m\u001b[1;33m]\u001b[0m\u001b[1;33m)\u001b[0m\u001b[1;33m\u001b[0m\u001b[1;33m\u001b[0m\u001b[0m\n\u001b[0m",
      "\u001b[1;31mIndexError\u001b[0m: string index out of range"
     ]
    }
   ],
   "source": [
    "#2\n",
    "s1=''\n",
    "print(s1[1])"
   ]
  },
  {
   "cell_type": "code",
   "execution_count": 10,
   "metadata": {},
   "outputs": [
    {
     "name": "stdout",
     "output_type": "stream",
     "text": [
      "a\n"
     ]
    }
   ],
   "source": [
    "#3\n",
    "S='Gaurav'\n",
    "print(S[1])"
   ]
  },
  {
   "cell_type": "code",
   "execution_count": 23,
   "metadata": {},
   "outputs": [
    {
     "name": "stdout",
     "output_type": "stream",
     "text": [
      "6\n",
      "abc\n",
      "3\n",
      "['a#b#c#d#']\n",
      "['a', 'b', 'c', 'd', '']\n",
      "'a$b$c$d$'\n",
      "av\n",
      "False\n",
      "0,1,2\n",
      "abcba\n",
      "2,0,0,"
     ]
    }
   ],
   "source": [
    "#4a\n",
    "s1='a b cd'\n",
    "print(len(s1))\n",
    "print(s1[::2])\n",
    "print(len(s1[::2]))\n",
    "\n",
    "#4b\n",
    "s2='a#b#c#d#'\n",
    "print(s2.split())\n",
    "print(s2.split('#'))\n",
    "l=s2.split('#')\n",
    "s2='$'.join(l)\n",
    "print(repr(s2))\n",
    "\n",
    "#4c\n",
    "s3='Gaurav'\n",
    "s3=s3[::-2][::-2]\n",
    "print(s3)\n",
    "\n",
    "#4d\n",
    "print(1>2)\n",
    "\n",
    "#4e\n",
    "print(4%2,5%2,2%5,sep=\",\")\n",
    "\n",
    "#4f\n",
    "s4='abcba'\n",
    "s4.upper()\n",
    "print(s4)\n",
    "s5=s4.upper()\n",
    "print(s5.count('A'),end=',')\n",
    "print(s5.count('A',2,4),end=',')\n",
    "print(s4.count('a',2,4),end=',')"
   ]
  },
  {
   "cell_type": "code",
   "execution_count": 26,
   "metadata": {},
   "outputs": [
    {
     "name": "stdout",
     "output_type": "stream",
     "text": [
      "Enter a string:Har Raj Hani Mom\n",
      "HarRajHaniMom\n"
     ]
    }
   ],
   "source": [
    "#5\n",
    "str1=input('Enter a string:')\n",
    "str1=str1.split()\n",
    "print(''.join(str1))\n"
   ]
  },
  {
   "cell_type": "code",
   "execution_count": 27,
   "metadata": {},
   "outputs": [],
   "source": [
    "#6\n",
    "#[] is for slicing"
   ]
  },
  {
   "cell_type": "code",
   "execution_count": 28,
   "metadata": {},
   "outputs": [
    {
     "data": {
      "text/plain": [
       "['__add__',\n",
       " '__class__',\n",
       " '__contains__',\n",
       " '__delattr__',\n",
       " '__dir__',\n",
       " '__doc__',\n",
       " '__eq__',\n",
       " '__format__',\n",
       " '__ge__',\n",
       " '__getattribute__',\n",
       " '__getitem__',\n",
       " '__getnewargs__',\n",
       " '__gt__',\n",
       " '__hash__',\n",
       " '__init__',\n",
       " '__init_subclass__',\n",
       " '__iter__',\n",
       " '__le__',\n",
       " '__len__',\n",
       " '__lt__',\n",
       " '__mod__',\n",
       " '__mul__',\n",
       " '__ne__',\n",
       " '__new__',\n",
       " '__reduce__',\n",
       " '__reduce_ex__',\n",
       " '__repr__',\n",
       " '__rmod__',\n",
       " '__rmul__',\n",
       " '__setattr__',\n",
       " '__sizeof__',\n",
       " '__str__',\n",
       " '__subclasshook__',\n",
       " 'capitalize',\n",
       " 'casefold',\n",
       " 'center',\n",
       " 'count',\n",
       " 'encode',\n",
       " 'endswith',\n",
       " 'expandtabs',\n",
       " 'find',\n",
       " 'format',\n",
       " 'format_map',\n",
       " 'index',\n",
       " 'isalnum',\n",
       " 'isalpha',\n",
       " 'isascii',\n",
       " 'isdecimal',\n",
       " 'isdigit',\n",
       " 'isidentifier',\n",
       " 'islower',\n",
       " 'isnumeric',\n",
       " 'isprintable',\n",
       " 'isspace',\n",
       " 'istitle',\n",
       " 'isupper',\n",
       " 'join',\n",
       " 'ljust',\n",
       " 'lower',\n",
       " 'lstrip',\n",
       " 'maketrans',\n",
       " 'partition',\n",
       " 'replace',\n",
       " 'rfind',\n",
       " 'rindex',\n",
       " 'rjust',\n",
       " 'rpartition',\n",
       " 'rsplit',\n",
       " 'rstrip',\n",
       " 'split',\n",
       " 'splitlines',\n",
       " 'startswith',\n",
       " 'strip',\n",
       " 'swapcase',\n",
       " 'title',\n",
       " 'translate',\n",
       " 'upper',\n",
       " 'zfill']"
      ]
     },
     "execution_count": 28,
     "metadata": {},
     "output_type": "execute_result"
    }
   ],
   "source": [
    "#7\n",
    "dir(str)"
   ]
  },
  {
   "cell_type": "code",
   "execution_count": 31,
   "metadata": {},
   "outputs": [
    {
     "data": {
      "text/plain": [
       "True"
      ]
     },
     "execution_count": 31,
     "metadata": {},
     "output_type": "execute_result"
    }
   ],
   "source": [
    "#8\n",
    "'rstrip' in dir(str)"
   ]
  },
  {
   "cell_type": "code",
   "execution_count": 79,
   "metadata": {},
   "outputs": [
    {
     "name": "stdout",
     "output_type": "stream",
     "text": [
      "*****\n",
      "  *\n",
      "  *\n",
      "  *\n",
      "  *\n",
      "*     *\n",
      "* * * * \n",
      "*  *  *  \n",
      "*     *\n",
      " ________\n",
      " |       |\n",
      " o       |\n",
      "/|\\      |\n",
      "/ \\      |\n",
      "_________|\n"
     ]
    }
   ],
   "source": [
    "#9\n",
    "s1='*'*5+(('\\n'+'  '+'*')*4)\n",
    "s2='*     '+'*'+'\\n'+('* '*4)+'\\n'+('*  '*3)+'\\n'+'*     '+'*'\n",
    "s3=' '+'_'*8+'\\n '+'|'+' '*7+'|'+'\\n '+'o'+' '*7+'|'+'\\n'+'/|\\\\'+' '*6+'|'+'\\n'+'/ \\\\'+' '*6+'|'+'\\n'+'_'*9+'|'\n",
    "print(s1)\n",
    "print(s2)\n",
    "print(s3)"
   ]
  },
  {
   "cell_type": "code",
   "execution_count": 32,
   "metadata": {},
   "outputs": [
    {
     "name": "stdout",
     "output_type": "stream",
     "text": [
      "Enter a string:there is a bat which has a dog\n",
      "there\n",
      "is\n",
      "a\n",
      "bat\n",
      "which\n",
      "has\n",
      "a\n",
      "dog\n"
     ]
    }
   ],
   "source": [
    "#10\n",
    "str1=input('Enter a string:')\n",
    "str1=str1.split()\n",
    "print('\\n'.join(str1))\n"
   ]
  },
  {
   "cell_type": "code",
   "execution_count": 43,
   "metadata": {},
   "outputs": [
    {
     "name": "stdout",
     "output_type": "stream",
     "text": [
      "Enter a string:ulusu durga harshitha\n",
      "ULUSU 5\n",
      "DURGA 5\n",
      "HARSHITHA 9\n"
     ]
    }
   ],
   "source": [
    "#11\n",
    "name=input('Enter a string:')\n",
    "name=name.split()\n",
    "for i in name:\n",
    "    print(i.upper(),len(i))\n"
   ]
  },
  {
   "cell_type": "code",
   "execution_count": 45,
   "metadata": {},
   "outputs": [
    {
     "name": "stdout",
     "output_type": "stream",
     "text": [
      "Enter a string:Harshitha\n",
      "Hars\n",
      "hitha\n"
     ]
    }
   ],
   "source": [
    "#12\n",
    "str2=input('Enter a string:')\n",
    "num=len(str2)//2\n",
    "print(str2[:num])\n",
    "print(str2[num:])"
   ]
  },
  {
   "cell_type": "code",
   "execution_count": null,
   "metadata": {},
   "outputs": [],
   "source": []
  }
 ],
 "metadata": {
  "kernelspec": {
   "display_name": "Python 3",
   "language": "python",
   "name": "python3"
  },
  "language_info": {
   "codemirror_mode": {
    "name": "ipython",
    "version": 3
   },
   "file_extension": ".py",
   "mimetype": "text/x-python",
   "name": "python",
   "nbconvert_exporter": "python",
   "pygments_lexer": "ipython3",
   "version": "3.7.6"
  }
 },
 "nbformat": 4,
 "nbformat_minor": 4
}
