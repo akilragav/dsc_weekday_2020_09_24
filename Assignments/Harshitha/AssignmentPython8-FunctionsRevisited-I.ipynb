{
 "cells": [
  {
   "cell_type": "code",
   "execution_count": 1,
   "metadata": {},
   "outputs": [
    {
     "name": "stdout",
     "output_type": "stream",
     "text": [
      "Enter a number:4\n",
      "Square: 16\n",
      "Square: 0.25\n",
      "Square: -4\n"
     ]
    }
   ],
   "source": [
    "# 1. Write lambdas to:\n",
    "# a. Square a number x2\n",
    "# b. Inverse a number 1/x\n",
    "# c. Negate a number\n",
    "num=int(input('Enter a number:'))\n",
    "sq=lambda x:x**2\n",
    "print(\"Square:\",sq(num))\n",
    "inv=lambda x:1/x\n",
    "print(\"Square:\",inv(num))\n",
    "neg=lambda x:-x\n",
    "print(\"Square:\",neg(num))\n",
    "\n",
    "\n"
   ]
  },
  {
   "cell_type": "code",
   "execution_count": 2,
   "metadata": {},
   "outputs": [
    {
     "name": "stdout",
     "output_type": "stream",
     "text": [
      "1000\n"
     ]
    }
   ],
   "source": [
    "# 2. Use reduce function and an appropriate lambda to find the maximum number in a list.\n",
    "from functools import reduce\n",
    "exp=lambda x,y:x if x>y else y\n",
    "res=reduce(exp,[784,242,43,1000,768,908])\n",
    "print(res)"
   ]
  },
  {
   "cell_type": "code",
   "execution_count": 3,
   "metadata": {},
   "outputs": [
    {
     "data": {
      "text/plain": [
       "[324, 64, 100, 4, 256]"
      ]
     },
     "execution_count": 3,
     "metadata": {},
     "output_type": "execute_result"
    }
   ],
   "source": [
    "# 3. Write a function map_multiple that takes a list of functions/lambdas as first argument and a\n",
    "# sequence type as second argument.\n",
    "# The function picks first lambda from list, applies it to first element, then applies the second\n",
    "# function to the result of first one and ….\n",
    "# Similarly it does for each element and generates a mapping of input to output\n",
    "def map_multiple(functs, sequence):\n",
    "    res_list=[None]*len(sequence)\n",
    "    for func in functs:\n",
    "        for i in range(len(sequence)):\n",
    "            res_list[i]=func(sequence[i])\n",
    "        sequence=res_list\n",
    "    return res_list\n",
    "\n",
    "def square(num):\n",
    "    return pow(int(num),2)\n",
    "def add_five(num):\n",
    "    return int(num)+5\n",
    "def minus_five(num):\n",
    "    return int(num)-5\n",
    "def doubl(num):\n",
    "    return int(num)*2\n",
    "    \n",
    "functs=[add_five,minus_five,doubl,square]\n",
    "sequence=[9,4,5,1,8]\n",
    "map_multiple(functs, sequence)"
   ]
  },
  {
   "cell_type": "code",
   "execution_count": 4,
   "metadata": {},
   "outputs": [
    {
     "name": "stdout",
     "output_type": "stream",
     "text": [
      "50\n"
     ]
    }
   ],
   "source": [
    "#4. Predict the output of following code:\n",
    "\n",
    "from functools import reduce\n",
    "f=lambda x,y : x if x>y else y\n",
    "l=[10,30,50,30,10]\n",
    "num=reduce(f,l)\n",
    "print(num)"
   ]
  },
  {
   "cell_type": "code",
   "execution_count": 5,
   "metadata": {},
   "outputs": [
    {
     "name": "stdout",
     "output_type": "stream",
     "text": [
      "[1.0, 0.5, 0.25, 0.125]\n"
     ]
    }
   ],
   "source": [
    "#5. Find output of following:\n",
    "functs=[lambda x:x**0.5,lambda x:1/x]\n",
    "l=[1,4,16,64]\n",
    "ans=[]\n",
    "for num in l:\n",
    "    res=num\n",
    "    for funct in functs:\n",
    "        res=funct(res)\n",
    "    ans.append(res)\n",
    "print(ans)"
   ]
  },
  {
   "cell_type": "code",
   "execution_count": 6,
   "metadata": {},
   "outputs": [
    {
     "name": "stdout",
     "output_type": "stream",
     "text": [
      "234 <class 'int'>\n",
      "True\n",
      "dsfdfg <class 'str'>\n",
      "False\n",
      "True <class 'bool'>\n",
      "True\n",
      "7868 <class 'int'>\n",
      "True\n",
      "3242 <class 'int'>\n",
      "True\n",
      "[234, True, 7868, 3242]\n"
     ]
    }
   ],
   "source": [
    "# 6. Use filter function to filter a list of numbers and strings such that the result contains only\n",
    "# numbers. (Hint : Use isinstance method)\n",
    "def check_int(x):\n",
    "    print(x,type(x))\n",
    "    print(isinstance(x,int))\n",
    "    return isinstance(x,int)\n",
    "res=filter(check_int,[234,'dsf''dfg',True,7868,3242])\n",
    "print(list(res))\n"
   ]
  },
  {
   "cell_type": "code",
   "execution_count": 7,
   "metadata": {},
   "outputs": [
    {
     "name": "stdout",
     "output_type": "stream",
     "text": [
      "[1.778, 1.524, 1.6764000000000001, 0.254]\n"
     ]
    }
   ],
   "source": [
    "# 7. Assume a list containing heights ft and inches in the form of a list of string\n",
    "# Example : l = [‘5ft10in’, ‘5ft’, ….]\n",
    "# Write a function to convert the heights to meter. Use map function along with your function to\n",
    "# convert everything to m.\n",
    "\n",
    "def to_meters(height):\n",
    "    feet,inch=0,0\n",
    "    if 'ft' in height:\n",
    "        str1=height.split('ft')\n",
    "        feet=int(str1[0])\n",
    "        str1=str1[1]\n",
    "    else:\n",
    "        str1=height\n",
    "    if 'in' in str1:\n",
    "        inch=int(str1.split('in')[0])\n",
    "    meters=(feet*0.3048)+(inch*0.0254)\n",
    "    return meters\n",
    "list1=['5ft10in','5ft','5ft6in','10in']\n",
    "res=map(to_meters,list1)\n",
    "print(list(res))"
   ]
  },
  {
   "cell_type": "code",
   "execution_count": 8,
   "metadata": {},
   "outputs": [
    {
     "name": "stdout",
     "output_type": "stream",
     "text": [
      "[128, 4572, 892, 23238, 5471]\n"
     ]
    }
   ],
   "source": [
    "# 8. Write the implementation for the map function yourself by the name my_map()\n",
    "def my_map(funct,seq):\n",
    "    list2=[]\n",
    "    for i in range(len(seq)):\n",
    "        list2.append(funct(seq[i]))\n",
    "    return list2\n",
    "                   \n",
    "def sum(num):\n",
    "    s=num+5\n",
    "    return s\n",
    "print(my_map(sum,[123,4567,887,23233,5466]))\n",
    "\n",
    "        "
   ]
  },
  {
   "cell_type": "code",
   "execution_count": null,
   "metadata": {},
   "outputs": [],
   "source": []
  },
  {
   "cell_type": "code",
   "execution_count": null,
   "metadata": {},
   "outputs": [],
   "source": []
  },
  {
   "cell_type": "code",
   "execution_count": null,
   "metadata": {},
   "outputs": [],
   "source": []
  }
 ],
 "metadata": {
  "kernelspec": {
   "display_name": "Python 3",
   "language": "python",
   "name": "python3"
  },
  "language_info": {
   "codemirror_mode": {
    "name": "ipython",
    "version": 3
   },
   "file_extension": ".py",
   "mimetype": "text/x-python",
   "name": "python",
   "nbconvert_exporter": "python",
   "pygments_lexer": "ipython3",
   "version": "3.7.6"
  }
 },
 "nbformat": 4,
 "nbformat_minor": 4
}
