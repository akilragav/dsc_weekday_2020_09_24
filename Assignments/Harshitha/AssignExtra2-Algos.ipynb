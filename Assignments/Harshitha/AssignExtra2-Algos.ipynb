{
 "cells": [
  {
   "cell_type": "code",
   "execution_count": 5,
   "metadata": {},
   "outputs": [
    {
     "name": "stdout",
     "output_type": "stream",
     "text": [
      "Enter the number of elements you want to enter:5\n",
      "Enter element1:54\n",
      "Enter element2:76\n",
      "Enter element3:34\n",
      "Enter element4:76\n",
      "Enter element5:345\n",
      "Reversed list: ['345', '76', '34', '76', '54']\n"
     ]
    }
   ],
   "source": [
    "# 1. WAF: reverse_list() that takes a list as argument and reverses the elements of the list in place\n",
    "# (use indexing operations, not any function or slicing)\n",
    "# Logic: if l = [1,2,3,4,5] ; result = [5,4,3,2,1]\n",
    "# 1 2 3 4 5 # string\n",
    "# 0 1 2 3 4 # indexes\n",
    "# start index = 0, end index = 4; swap the elements at index 0,4\n",
    "# [5,2,3,4,1]\n",
    "# start index = 1, end index = 3; swap the elements at index 1,3\n",
    "# [5,4,3,2,1]\n",
    "# Index start index 2 is not less than end index 2. Hence no need to go forward\n",
    "\n",
    "def reverse_list(list1):\n",
    "    length=len(list1)\n",
    "    for i in range(length):\n",
    "        \n",
    "        if(i<(length-(i+1))):\n",
    "            list1[i],list1[len(list1)-(i+1)]=list1[len(list1)-(i+1)],list1[i]\n",
    "\n",
    "        else:\n",
    "            break\n",
    "    return list1\n",
    "    \n",
    "num=int(input('Enter the number of elements you want to enter:'))\n",
    "list1=[]\n",
    "for i in range(num):\n",
    "    list1.append(input(f'Enter element{i+1}:'))\n",
    "print(\"Reversed list:\",reverse_list(list1))\n",
    "\n"
   ]
  },
  {
   "cell_type": "code",
   "execution_count": 17,
   "metadata": {},
   "outputs": [
    {
     "name": "stdout",
     "output_type": "stream",
     "text": [
      "Enter the number of elements you want to enter:5\n",
      "Enter element1:34\n",
      "Enter element2:55\n",
      "Enter element3:33\n",
      "Enter element4:11\n",
      "Enter element5:77\n",
      "Count of even numbers: 1\n",
      "Count of odd numbers: 4\n"
     ]
    }
   ],
   "source": [
    "# 2. WAF: count_even_odd() that counts and returns how many numbers are even and how many\n",
    "# are odd in a list of numbers passed as argument.\n",
    "\n",
    "def count_even_odd(list1):\n",
    "    count1,count2=0,0\n",
    "    for i in list1:\n",
    "        if i%2==0:\n",
    "            count1+=1\n",
    "        else:\n",
    "            count2+=1\n",
    "    \n",
    "    print('Count of even numbers:',count1)\n",
    "    print('Count of odd numbers:',count2)\n",
    "    \n",
    "num=int(input('Enter the number of elements you want to enter:'))\n",
    "list1=[]\n",
    "for i in range(num):\n",
    "    list1.append(int(input(f'Enter element{i+1}:')))\n",
    "    \n",
    "count_even_odd(list1)"
   ]
  },
  {
   "cell_type": "code",
   "execution_count": 22,
   "metadata": {},
   "outputs": [
    {
     "name": "stdout",
     "output_type": "stream",
     "text": [
      "Max number is: 767\n",
      "Max number is: 767\n"
     ]
    }
   ],
   "source": [
    "# 3. WAF: maximum() to return the largest number in a list of numbers (do not use max function).\n",
    "# Function takes a list or tuple of numbers as argument.\n",
    "\n",
    "def  maximum(nums):\n",
    "    nums=list(nums)\n",
    "    nums.sort()\n",
    "    return nums[-1]\n",
    "\n",
    "print('Max number is:',maximum([455,23,76,56,34,665,334,767,34,23,433,676]))\n",
    "print('Max number is:',maximum((455,23,76,56,34,665,334,767,34,23,433,676)))"
   ]
  },
  {
   "cell_type": "code",
   "execution_count": 25,
   "metadata": {},
   "outputs": [
    {
     "name": "stdout",
     "output_type": "stream",
     "text": [
      "second maximum number is: 676\n",
      "second maximum number is: 676\n"
     ]
    }
   ],
   "source": [
    "# 4. WAF: second_maximum() Create a new version of above code to return the second largest\n",
    "# number.\n",
    "\n",
    "def second_maximum(nums):\n",
    "    nums=list(nums)\n",
    "    nums=list(set(nums))\n",
    "    nums.sort()\n",
    "    return nums[-2]\n",
    "\n",
    "print('second maximum number is:',second_maximum([455,23,76,56,767,665,334,767,34,23,433,676]))\n",
    "print('second maximum number is:',second_maximum((455,23,76,56,767,665,334,767,34,23,433,676)))"
   ]
  },
  {
   "cell_type": "code",
   "execution_count": 19,
   "metadata": {},
   "outputs": [
    {
     "name": "stdout",
     "output_type": "stream",
     "text": [
      "Enter the number of elements you want to enter:5\n",
      "Enter element1:9\n",
      "Enter element2:8\n",
      "Enter element3:7\n",
      "Enter element4:7\n",
      "Enter element5:8\n",
      "Mean: 7.8\n"
     ]
    }
   ],
   "source": [
    "# 5. WAF: mean() that returns the mean of list of numbers passed to the function as argument.\n",
    "\n",
    "def mean(list1):\n",
    "    avg=sum(list1)/len(list1)\n",
    "    return avg\n",
    "num=int(input('Enter the number of elements you want to enter:'))\n",
    "list1=[]\n",
    "for i in range(num):\n",
    "    list1.append(int(input(f'Enter element{i+1}:')))\n",
    "print('Mean:',mean(list1))    "
   ]
  },
  {
   "cell_type": "code",
   "execution_count": 18,
   "metadata": {},
   "outputs": [
    {
     "name": "stdout",
     "output_type": "stream",
     "text": [
      "Enter the number of elements you want to enter:6\n",
      "Enter element1:56\n",
      "Enter element2:89\n",
      "Enter element3:34\n",
      "Enter element4:67\n",
      "Enter element5:55\n",
      "Enter element6:58\n",
      "Enter start:55\n",
      "Enter end:58\n",
      "[56, 55, 58]\n"
     ]
    }
   ],
   "source": [
    "# 6. WAF: find_in_range() that takes a three arguments:\n",
    "# a list of numbers, start, end\n",
    "# The function returns a list of numbers from the original list, which lie between start and end.\n",
    "\n",
    "def find_in_range(list1,strt,endd):\n",
    "    list2=[]\n",
    "    list2=[i for i in list1 if i>=strt and i<=endd]\n",
    "    return list2\n",
    "\n",
    "num=int(input('Enter the number of elements you want to enter:'))\n",
    "list1=[]\n",
    "for i in range(num):\n",
    "    list1.append(int(input(f'Enter element{i+1}:')))\n",
    "strt=int(input('Enter start:'))\n",
    "endd=int(input('Enter end:'))\n",
    "print(find_in_range(list1,strt,endd))"
   ]
  },
  {
   "cell_type": "code",
   "execution_count": null,
   "metadata": {},
   "outputs": [],
   "source": []
  },
  {
   "cell_type": "code",
   "execution_count": null,
   "metadata": {},
   "outputs": [],
   "source": []
  },
  {
   "cell_type": "code",
   "execution_count": null,
   "metadata": {},
   "outputs": [],
   "source": []
  },
  {
   "cell_type": "code",
   "execution_count": null,
   "metadata": {},
   "outputs": [],
   "source": []
  },
  {
   "cell_type": "code",
   "execution_count": null,
   "metadata": {},
   "outputs": [],
   "source": []
  },
  {
   "cell_type": "code",
   "execution_count": null,
   "metadata": {},
   "outputs": [],
   "source": []
  },
  {
   "cell_type": "code",
   "execution_count": null,
   "metadata": {},
   "outputs": [],
   "source": []
  },
  {
   "cell_type": "code",
   "execution_count": null,
   "metadata": {},
   "outputs": [],
   "source": []
  },
  {
   "cell_type": "code",
   "execution_count": null,
   "metadata": {},
   "outputs": [],
   "source": []
  },
  {
   "cell_type": "code",
   "execution_count": null,
   "metadata": {},
   "outputs": [],
   "source": []
  },
  {
   "cell_type": "code",
   "execution_count": null,
   "metadata": {},
   "outputs": [],
   "source": []
  },
  {
   "cell_type": "code",
   "execution_count": null,
   "metadata": {},
   "outputs": [],
   "source": []
  }
 ],
 "metadata": {
  "kernelspec": {
   "display_name": "Python 3",
   "language": "python",
   "name": "python3"
  },
  "language_info": {
   "codemirror_mode": {
    "name": "ipython",
    "version": 3
   },
   "file_extension": ".py",
   "mimetype": "text/x-python",
   "name": "python",
   "nbconvert_exporter": "python",
   "pygments_lexer": "ipython3",
   "version": "3.7.6"
  }
 },
 "nbformat": 4,
 "nbformat_minor": 4
}
