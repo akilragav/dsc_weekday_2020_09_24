{
 "cells": [
  {
   "cell_type": "code",
   "execution_count": 3,
   "metadata": {},
   "outputs": [
    {
     "name": "stdout",
     "output_type": "stream",
     "text": [
      "Enter a number:612\n",
      "Sum: 9\n"
     ]
    }
   ],
   "source": [
    "#1\n",
    "# WAP to input a no. and find sum of all its digits\n",
    "num1=input('Enter a number:')\n",
    "nums=[int(i) for i in num1]\n",
    "print('Sum:',sum(nums))"
   ]
  },
  {
   "cell_type": "code",
   "execution_count": 4,
   "metadata": {},
   "outputs": [
    {
     "name": "stdout",
     "output_type": "stream",
     "text": [
      "Enter a string:Harsha\n",
      "List of ordinal values of a given string: [72, 97, 114, 115, 104, 97]\n"
     ]
    }
   ],
   "source": [
    "#2\n",
    "# WAP to input a string and print oridnal value of each character\n",
    "str1=input('Enter a string:')\n",
    "list1=[ord(i) for i in str1]\n",
    "print('List of ordinal values of a given string:',list1)"
   ]
  },
  {
   "cell_type": "code",
   "execution_count": null,
   "metadata": {},
   "outputs": [],
   "source": []
  }
 ],
 "metadata": {
  "kernelspec": {
   "display_name": "Python 3",
   "language": "python",
   "name": "python3"
  },
  "language_info": {
   "codemirror_mode": {
    "name": "ipython",
    "version": 3
   },
   "file_extension": ".py",
   "mimetype": "text/x-python",
   "name": "python",
   "nbconvert_exporter": "python",
   "pygments_lexer": "ipython3",
   "version": "3.7.6"
  }
 },
 "nbformat": 4,
 "nbformat_minor": 4
}
