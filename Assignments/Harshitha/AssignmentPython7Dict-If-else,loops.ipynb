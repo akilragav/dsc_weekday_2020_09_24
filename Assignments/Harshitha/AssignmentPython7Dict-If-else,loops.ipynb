{
 "cells": [
  {
   "cell_type": "code",
   "execution_count": 2,
   "metadata": {},
   "outputs": [
    {
     "name": "stdout",
     "output_type": "stream",
     "text": [
      "{1: -1, 2: -2, 3: -3, 4: -4, 5: -5}\n",
      "{1: -1, 2: -2, 3: -3, 4: -4, 5: -5}\n"
     ]
    }
   ],
   "source": [
    "#1\n",
    "d1={}\n",
    "for i in range(1,6):\n",
    "    d1[i]=-i\n",
    "print(d1)\n",
    "\n",
    "#without range based\n",
    "d2={}\n",
    "for i in [1,2,3,4,5]:\n",
    "    d2[i]=-i\n",
    "print(d2)"
   ]
  },
  {
   "cell_type": "code",
   "execution_count": 46,
   "metadata": {},
   "outputs": [
    {
     "name": "stdout",
     "output_type": "stream",
     "text": [
      "{(1, 2), (2, 3)}\n"
     ]
    }
   ],
   "source": [
    "#2\n",
    "#d={1=2,2=3}\n",
    "# d={1:2,2:3}\n",
    "# d={1,2;2,3}\n",
    "d={(1,2),(2,3)}\n",
    "# d={'a':'A','b':1,c:[1234]}\n",
    "# d={'a':'A','b':1,'c':[1234]}\n",
    "# d=dict([(1,2),(2,3)])\n",
    "# d=dict(((1,2),(2,3)))\n",
    "# d=dict(((1,2),(2,3)])\n",
    "# d=dict(x=2,y=3)\n",
    "# d=dict('x'=2,'y'=3)\n",
    "# d=dict(1=2,2=3)\n",
    "print(d)"
   ]
  },
  {
   "cell_type": "code",
   "execution_count": 11,
   "metadata": {},
   "outputs": [
    {
     "name": "stdout",
     "output_type": "stream",
     "text": [
      "{1: 10, 2: 20, 3: 30, 4: 40}\n"
     ]
    }
   ],
   "source": [
    "#3\n",
    "#help(zip)\n",
    "l1=[1,2,3,4]\n",
    "l2=[10,20,30,40]\n",
    "d=dict(zip(l1,l2))\n",
    "\n",
    "print(d)"
   ]
  },
  {
   "cell_type": "code",
   "execution_count": 13,
   "metadata": {},
   "outputs": [
    {
     "name": "stdout",
     "output_type": "stream",
     "text": [
      "{'A': 65, 'B': 66, 'C': 67, 'D': 68, 'E': 69, 'F': 70, 'G': 71, 'H': 72, 'I': 73, 'J': 74, 'K': 75, 'L': 76, 'M': 77, 'N': 78, 'O': 79, 'P': 80, 'Q': 81, 'R': 82, 'S': 83, 'T': 84, 'U': 85, 'V': 86, 'W': 87, 'X': 88, 'Y': 89, 'Z': 90}\n"
     ]
    }
   ],
   "source": [
    "#4\n",
    "d3={}\n",
    "for i in range(65,91):\n",
    "   d3[chr(i)]=i\n",
    "\n",
    "print(d3)"
   ]
  },
  {
   "cell_type": "code",
   "execution_count": 16,
   "metadata": {},
   "outputs": [
    {
     "name": "stdout",
     "output_type": "stream",
     "text": [
      "Enter a single digit:3\n",
      "Word format for given number is: three\n",
      "Keys: dict_keys([0, 1, 2, 3, 4, 5, 6, 7, 8, 9])\n",
      "Values: dict_values(['zero', 'one', 'two', 'three', 'four', 'five', 'six', 'seven', 'eight', 'nine'])\n",
      "Key-value pairs dict_items([(0, 'zero'), (1, 'one'), (2, 'two'), (3, 'three'), (4, 'four'), (5, 'five'), (6, 'six'), (7, 'seven'), (8, 'eight'), (9, 'nine')])\n"
     ]
    }
   ],
   "source": [
    "#5\n",
    "nums_dict={0:'zero',1:'one',2:'two',3:'three',4:'four',5:'five',6:'six',7:'seven',8:'eight',9:'nine'}\n",
    "inp=int(input(\"Enter a single digit:\"))\n",
    "print('Word format for given number is:',nums_dict[inp])\n",
    "print(\"Keys:\",nums_dict.keys())\n",
    "print(\"Values:\",nums_dict.values())\n",
    "print(\"Key-value pairs\",nums_dict.items())\n"
   ]
  },
  {
   "cell_type": "code",
   "execution_count": 19,
   "metadata": {},
   "outputs": [
    {
     "name": "stdout",
     "output_type": "stream",
     "text": [
      "{'A': 'Apple', 'B': 'Ball', 'C': 'Cat', 'D': 'Dog'}\n",
      "{'A': 'Apple', 'C': 'Cat'}\n"
     ]
    }
   ],
   "source": [
    "#6\n",
    "l1=['A','B','C','D']\n",
    "l2=['Apple','Ball','Cat','Dog']\n",
    "d1=dict(zip(l1,l2))\n",
    "print(d1)\n",
    "d2=dict(list(d1.items())[::2])\n",
    "print(d2)"
   ]
  },
  {
   "cell_type": "code",
   "execution_count": 24,
   "metadata": {},
   "outputs": [
    {
     "name": "stdout",
     "output_type": "stream",
     "text": [
      "Enter a string:Beautiful Day\n",
      "a : 2\n",
      "e : 1\n",
      "i : 1\n",
      "o : 0\n",
      "u : 2\n"
     ]
    }
   ],
   "source": [
    "#7\n",
    "str1=input('Enter a string:').lower()\n",
    "d1={}\n",
    "for i in 'aeiou':\n",
    "    d1[i]=0\n",
    "for i in str1:\n",
    "    if i in 'aeiou':\n",
    "            d1[i]+=1\n",
    "for i in d1.keys():\n",
    "    print(i,':',d1[i])"
   ]
  },
  {
   "cell_type": "code",
   "execution_count": 26,
   "metadata": {},
   "outputs": [
    {
     "name": "stdout",
     "output_type": "stream",
     "text": [
      "Enter a string:Beautiful Day\n",
      "B : 1\n",
      "e : 1\n",
      "a : 2\n",
      "u : 2\n",
      "t : 1\n",
      "i : 1\n",
      "f : 1\n",
      "l : 1\n",
      "  : 1\n",
      "D : 1\n",
      "y : 1\n"
     ]
    }
   ],
   "source": [
    "#8\n",
    "str1=input('Enter a string:')\n",
    "d1={}\n",
    "for i in str1:\n",
    "    if i in d1.keys():\n",
    "            d1[i]+=1\n",
    "    else:\n",
    "        d1[i]=1\n",
    "for i in d1.keys():\n",
    "    print(i,':',d1[i])"
   ]
  },
  {
   "cell_type": "code",
   "execution_count": 27,
   "metadata": {},
   "outputs": [
    {
     "name": "stdout",
     "output_type": "stream",
     "text": [
      "count : 1\n",
      "the : 2\n",
      "words : 1\n",
      "in : 2\n",
      "sentence : 1\n"
     ]
    }
   ],
   "source": [
    "#9\n",
    "str2='count the words in the sentence in'\n",
    "list1=str2.split()\n",
    "d2={}\n",
    "for i in list1:\n",
    "    if i in d2.keys():\n",
    "            d2[i]+=1\n",
    "    else:\n",
    "        d2[i]=1\n",
    "for i in d2.keys():\n",
    "    print(i,':',d2[i])"
   ]
  },
  {
   "cell_type": "code",
   "execution_count": null,
   "metadata": {},
   "outputs": [],
   "source": []
  },
  {
   "cell_type": "code",
   "execution_count": null,
   "metadata": {},
   "outputs": [],
   "source": []
  }
 ],
 "metadata": {
  "kernelspec": {
   "display_name": "Python 3",
   "language": "python",
   "name": "python3"
  },
  "language_info": {
   "codemirror_mode": {
    "name": "ipython",
    "version": 3
   },
   "file_extension": ".py",
   "mimetype": "text/x-python",
   "name": "python",
   "nbconvert_exporter": "python",
   "pygments_lexer": "ipython3",
   "version": "3.7.6"
  }
 },
 "nbformat": 4,
 "nbformat_minor": 4
}
