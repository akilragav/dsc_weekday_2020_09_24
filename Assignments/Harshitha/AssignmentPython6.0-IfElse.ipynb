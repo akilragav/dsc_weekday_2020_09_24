{
 "cells": [
  {
   "cell_type": "code",
   "execution_count": 1,
   "metadata": {},
   "outputs": [
    {
     "name": "stdout",
     "output_type": "stream",
     "text": [
      "Enter two numbers:44 11\n",
      "True\n"
     ]
    }
   ],
   "source": [
    "#1\n",
    "num1,num2=input('Enter two numbers:').split()\n",
    "print(int(num1)%int(num2)==0)"
   ]
  },
  {
   "cell_type": "code",
   "execution_count": 2,
   "metadata": {},
   "outputs": [
    {
     "name": "stdout",
     "output_type": "stream",
     "text": [
      "Enter a string:Naman\n",
      "Naman is a palindrome\n"
     ]
    }
   ],
   "source": [
    "#2\n",
    "str1=input('Enter a string:')\n",
    "str2=str1.lower()\n",
    "if str2==str2[::-1]:\n",
    "    print(f'{str1} is a palindrome')\n",
    "else:\n",
    "    print(f'{str1} is not a palindrome')"
   ]
  },
  {
   "cell_type": "code",
   "execution_count": 3,
   "metadata": {},
   "outputs": [
    {
     "name": "stdout",
     "output_type": "stream",
     "text": [
      "Enter three side lengths of a triangle:5 4 5\n",
      "Isosceles\n"
     ]
    }
   ],
   "source": [
    "#3\n",
    "sides=input('Enter three side lengths of a triangle:').split()\n",
    "sides=[int(i) for i in sides]\n",
    "if sides[0]==sides[1]==sides[2]:\n",
    "    print(\"Equilateral\")\n",
    "elif sides[0]!=sides[1]!=sides[2] and sides[0]!=sides[2]:\n",
    "    print(\"Scalene\")\n",
    "else:\n",
    "    print(\"Isosceles\")"
   ]
  },
  {
   "cell_type": "code",
   "execution_count": 4,
   "metadata": {},
   "outputs": [
    {
     "name": "stdout",
     "output_type": "stream",
     "text": [
      "Enter a number:33\n",
      "Odd\n"
     ]
    }
   ],
   "source": [
    "#4\n",
    "num1=int(input('Enter a number:'))\n",
    "if num1%2==0:\n",
    "    print('Even')\n",
    "else:\n",
    "    print('Odd')"
   ]
  },
  {
   "cell_type": "code",
   "execution_count": 5,
   "metadata": {},
   "outputs": [
    {
     "name": "stdout",
     "output_type": "stream",
     "text": [
      "Enter age:25\n",
      "Adult\n"
     ]
    }
   ],
   "source": [
    "#5\n",
    "#4\n",
    "age=int(input('Enter age:'))\n",
    "if age>=0 and age<=12:\n",
    "    print('Child')\n",
    "elif age>=13 and age<=17:\n",
    "    print('Teen')\n",
    "elif age>=18 and age<=50:\n",
    "    print('Adult')\n",
    "elif age>=51 and age<=100:\n",
    "    print('Senior Citizen')\n",
    "else:\n",
    "    print('Congratulations')"
   ]
  },
  {
   "cell_type": "code",
   "execution_count": 6,
   "metadata": {},
   "outputs": [
    {
     "name": "stdout",
     "output_type": "stream",
     "text": [
      "Enter year:2020\n",
      "It is a leap year\n"
     ]
    }
   ],
   "source": [
    "#6\n",
    "year=int(input('Enter year:'))\n",
    "while year<0 or len(str(year))!=4:\n",
    "    year=int(input('Please enter valid year:'))\n",
    "if year%400==0:\n",
    "    print('It is a leap year')\n",
    "elif year%4==0 and year%100!=0:\n",
    "    print('It is a leap year')\n",
    "else:\n",
    "    print('It is not a leap year')"
   ]
  },
  {
   "cell_type": "code",
   "execution_count": 7,
   "metadata": {},
   "outputs": [
    {
     "name": "stdout",
     "output_type": "stream",
     "text": [
      "Enter a string:Harshitha\n",
      "HARSHITHA\n"
     ]
    }
   ],
   "source": [
    "#7\n",
    "str1=input('Enter a string:')\n",
    "if len(str1)%2!=0:\n",
    "    print(str1.upper())\n",
    "else:\n",
    "    print(str1.lower())\n",
    "\n"
   ]
  },
  {
   "cell_type": "code",
   "execution_count": 8,
   "metadata": {},
   "outputs": [
    {
     "name": "stdout",
     "output_type": "stream",
     "text": [
      "Enter a string:Tasty bytes\n",
      "Veg\n"
     ]
    }
   ],
   "source": [
    "#8\n",
    "str1=input('Enter a string:').lower().split()\n",
    "if 'egg' not in str1:\n",
    "    print('Veg')\n",
    "else:\n",
    "    print('Non-Veg')\n"
   ]
  },
  {
   "cell_type": "code",
   "execution_count": 9,
   "metadata": {},
   "outputs": [
    {
     "name": "stdout",
     "output_type": "stream",
     "text": [
      "True\n",
      "True\n",
      "Weird !!\n",
      "[4, 3, 2, 1]\n"
     ]
    }
   ],
   "source": [
    "#9\n",
    "if not 1:\n",
    "    print(\"False\")\n",
    "else:\n",
    "    print('True')\n",
    "    \n",
    "if 1:\n",
    "    print(\"True\")\n",
    "else:\n",
    "    print('False')\n",
    "    \n",
    "\n",
    "if 'a' > 'A':\n",
    "    print('Weird !!')\n",
    "else:\n",
    "    print('Makes sense')\n",
    "    \n",
    "a=[1,2,3,4]\n",
    "if 1>1:\n",
    "    a=a[::-1]\n",
    "    \n",
    "else:\n",
    "    a=a[-1::-1]\n",
    "    \n",
    "print(a)"
   ]
  },
  {
   "cell_type": "code",
   "execution_count": 10,
   "metadata": {},
   "outputs": [
    {
     "name": "stdout",
     "output_type": "stream",
     "text": [
      "Enter marks in all 5 subjects:90 89 67 78 99\n",
      "Percentage is 84.6\n",
      "Grade-B\n"
     ]
    }
   ],
   "source": [
    "#10\n",
    "marks=input('Enter marks in all 5 subjects:').split()\n",
    "marks=[int(i) for i in marks]\n",
    "perc=(sum(marks)/500)*100\n",
    "print(f'Percentage is {perc}')\n",
    "if perc>=90 and perc<=100:\n",
    "    print('Grade-A')\n",
    "elif perc>=80 and perc<=89:\n",
    "    print('Grade-B')\n",
    "elif perc>=60 and perc<=79:\n",
    "    print('Grade-C')\n",
    "\n",
    "else:\n",
    "    print('Grade-F')"
   ]
  },
  {
   "cell_type": "code",
   "execution_count": 11,
   "metadata": {},
   "outputs": [
    {
     "name": "stdout",
     "output_type": "stream",
     "text": [
      "Enter age:88\n",
      "Enter salary:900000\n",
      "8\n"
     ]
    }
   ],
   "source": [
    "#11\n",
    "age=int(input('Enter age:'))\n",
    "sal=int(input('Enter salary:'))\n",
    "if age<60:\n",
    "    if sal>=0 and sal<=250000:\n",
    "        tax_perc=0\n",
    "    elif sal>=250001 and sal<=500000:\n",
    "        tax_perc=5\n",
    "    elif sal>=500001 and sal<=1000000:\n",
    "        tax_perc=10\n",
    "    elif sal>1000000:\n",
    "        tax_perc=15\n",
    "else:\n",
    "    if sal>=0 and sal<=250000:\n",
    "        tax_perc=0\n",
    "    elif sal>=250001 and sal<=500000:\n",
    "        tax_perc=3\n",
    "    elif sal>=500001 and sal<=1000000:\n",
    "        tax_perc=8\n",
    "    elif sal>1000000:\n",
    "        tax_perc=12\n",
    "print(tax_perc)"
   ]
  },
  {
   "cell_type": "code",
   "execution_count": 12,
   "metadata": {},
   "outputs": [
    {
     "name": "stdout",
     "output_type": "stream",
     "text": [
      "10\n",
      "10\n",
      "10\n",
      "OMG\n"
     ]
    }
   ],
   "source": [
    "#12\n",
    "print(20 if not 1==1 else 10)\n",
    "print(30 if not 1==1 else 20 if 'a'<'A' else 10)\n",
    "print(40 if not 1==1 else 30 if 'a'<'A' else 20 if '' else 10)\n",
    "print('No' if not 1==1 else ('No' if 'a'<'A' else ('OMG' if 'oh!!' else 'No')))"
   ]
  },
  {
   "cell_type": "code",
   "execution_count": 13,
   "metadata": {},
   "outputs": [
    {
     "name": "stdout",
     "output_type": "stream",
     "text": [
      "Enter weight in kgs:22\n",
      "Enter height in cms:150\n"
     ]
    },
    {
     "data": {
      "text/plain": [
       "'underweight'"
      ]
     },
     "execution_count": 13,
     "metadata": {},
     "output_type": "execute_result"
    }
   ],
   "source": [
    "#13\n",
    "def bmi(weight,height):\n",
    "    res=weight/(pow((height/100),2))\n",
    "    if res<18.5:\n",
    "        result='underweight'\n",
    "    elif res>=18.5 and res<25:\n",
    "        result='normal'\n",
    "    elif res>=25 and res<=30:\n",
    "        result='overweight'\n",
    "    elif res>30:\n",
    "        result='obese'\n",
    "    return result\n",
    "weight=int(input('Enter weight in kgs:'))\n",
    "height=int(input('Enter height in cms:'))\n",
    "bmi(weight,height)\n"
   ]
  },
  {
   "cell_type": "code",
   "execution_count": 14,
   "metadata": {},
   "outputs": [
    {
     "name": "stdout",
     "output_type": "stream",
     "text": [
      "Enter age of three people77 55 90\n",
      "The youngest is of age 55\n",
      "The oldest is of age 90\n"
     ]
    }
   ],
   "source": [
    "#14\n",
    "ages=input('Enter age of three people').split()\n",
    "ages=[int(i) for i in ages]\n",
    "ages.sort()\n",
    "print('The youngest is of age',ages[0])\n",
    "print('The oldest is of age',ages[-1])"
   ]
  },
  {
   "cell_type": "code",
   "execution_count": 15,
   "metadata": {},
   "outputs": [
    {
     "name": "stdout",
     "output_type": "stream",
     "text": [
      "Enter a number:70\n",
      "70 is divisible by 5 and 7\n"
     ]
    }
   ],
   "source": [
    "#15\n",
    "num=int(input('Enter a number:'))\n",
    "if num%5==0 and num%7==0:\n",
    "    print(f'{num} is divisible by 5 and 7')\n",
    "else:\n",
    "    print(f'{num} is not divisible by 5 and 7')"
   ]
  },
  {
   "cell_type": "code",
   "execution_count": null,
   "metadata": {},
   "outputs": [],
   "source": []
  }
 ],
 "metadata": {
  "kernelspec": {
   "display_name": "Python 3",
   "language": "python",
   "name": "python3"
  },
  "language_info": {
   "codemirror_mode": {
    "name": "ipython",
    "version": 3
   },
   "file_extension": ".py",
   "mimetype": "text/x-python",
   "name": "python",
   "nbconvert_exporter": "python",
   "pygments_lexer": "ipython3",
   "version": "3.7.6"
  }
 },
 "nbformat": 4,
 "nbformat_minor": 4
}
