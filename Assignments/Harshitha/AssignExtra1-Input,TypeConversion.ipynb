{
 "cells": [
  {
   "cell_type": "code",
   "execution_count": 1,
   "metadata": {},
   "outputs": [
    {
     "name": "stdout",
     "output_type": "stream",
     "text": [
      "Enter temperature in fahrenheit : 100\n",
      "Temperature in celsius: 37.77777777777778\n"
     ]
    }
   ],
   "source": [
    "#1\n",
    "temp=int(input(\"Enter temperature in fahrenheit : \"))\n",
    "celsius=(temp-32)/1.8\n",
    "print(\"Temperature in celsius:\",celsius)"
   ]
  },
  {
   "cell_type": "code",
   "execution_count": 2,
   "metadata": {},
   "outputs": [
    {
     "name": "stdout",
     "output_type": "stream",
     "text": [
      "Enter number : 4\n",
      "square: 16 cube: 64\n"
     ]
    }
   ],
   "source": [
    "#2\n",
    "num=int(input(\"Enter number : \"))\n",
    "square=pow(num,2)\n",
    "cube=pow(num,3)\n",
    "print(\"square:\",square,\"cube:\",cube)"
   ]
  },
  {
   "cell_type": "code",
   "execution_count": 3,
   "metadata": {},
   "outputs": [
    {
     "name": "stdout",
     "output_type": "stream",
     "text": [
      "Enter two numbers : 6 8\n",
      "Total: 100\n"
     ]
    }
   ],
   "source": [
    "#3\n",
    "num1,num2=input(\"Enter two numbers : \").split()\n",
    "total=pow(int(num1),2)+pow(int(num2),2)\n",
    "print(\"Total:\",total)"
   ]
  },
  {
   "cell_type": "code",
   "execution_count": 4,
   "metadata": {},
   "outputs": [
    {
     "name": "stdout",
     "output_type": "stream",
     "text": [
      "Enter two numbers : 3 4\n",
      "Power1: 81  Power2: 81\n"
     ]
    }
   ],
   "source": [
    "#4\n",
    "num1,num2=input(\"Enter two numbers : \").split()\n",
    "power1=pow(int(num1),int(num2))\n",
    "power2=(int(num1)**int(num2))\n",
    "print(\"Power1:\",power1,\" Power2:\",power2)"
   ]
  },
  {
   "cell_type": "code",
   "execution_count": 5,
   "metadata": {},
   "outputs": [
    {
     "name": "stdout",
     "output_type": "stream",
     "text": [
      "Enter principal amount : 1000\n",
      "Enter rate of interest : 5\n",
      "Enter time in years : 2\n",
      "Simple interest : 100.0\n"
     ]
    }
   ],
   "source": [
    "#5\n",
    "principal=int(input(\"Enter principal amount : \"))\n",
    "rate=int(input(\"Enter rate of interest : \"))\n",
    "time=int(input(\"Enter time in years : \"))\n",
    "si=(principal*rate*time)/100\n",
    "print(\"Simple interest :\",si)"
   ]
  },
  {
   "cell_type": "code",
   "execution_count": 6,
   "metadata": {},
   "outputs": [
    {
     "name": "stdout",
     "output_type": "stream",
     "text": [
      "Enter principal amount : 5000\n",
      "Enter rate of interest : 5\n",
      "Enter time in years : 2\n",
      "Enter number of times to compound in an year : 12\n",
      "Amount : 5524.706677791634\n",
      "Compound interest : 524.7066777916343\n"
     ]
    }
   ],
   "source": [
    "#6\n",
    "principal=int(input(\"Enter principal amount : \"))\n",
    "rate=int(input(\"Enter rate of interest : \"))/100\n",
    "time=int(input(\"Enter time in years : \"))\n",
    "num=int(input(\"Enter number of times to compound in an year : \"))\n",
    "amount=principal*(((1+(rate/num))**(num*time)))\n",
    "ci=amount-principal\n",
    "print(\"Amount :\",amount)\n",
    "print(\"Compound interest :\",ci)"
   ]
  },
  {
   "cell_type": "code",
   "execution_count": 7,
   "metadata": {},
   "outputs": [
    {
     "name": "stdout",
     "output_type": "stream",
     "text": [
      "Enter number : 10\n",
      "Sum of 10 natural numbers : 55.0\n"
     ]
    }
   ],
   "source": [
    "#7\n",
    "num=int(input(\"Enter number : \"))\n",
    "sum=(num*(num+1))/2\n",
    "print(f\"Sum of {num} natural numbers :\",sum)\n"
   ]
  },
  {
   "cell_type": "code",
   "execution_count": 8,
   "metadata": {},
   "outputs": [
    {
     "name": "stdout",
     "output_type": "stream",
     "text": [
      "Enter two numbers : 8 9\n",
      "----swaping in the pythonic way----\n",
      "Num1: 9 Num2: 8\n",
      "----swaping again using temp----\n",
      "Num1: 8 Num2: 9\n"
     ]
    }
   ],
   "source": [
    "#8\n",
    "num1,num2=input(\"Enter two numbers : \").split()\n",
    "num2,num1=num1,num2\n",
    "print(\"----swaping in the pythonic way----\")\n",
    "print(\"Num1:\",num1,\"Num2:\",num2)\n",
    "print(\"----swaping again using temp----\")\n",
    "temp=num2\n",
    "num2=num1\n",
    "num1=temp\n",
    "print(\"Num1:\",num1,\"Num2:\",num2)"
   ]
  },
  {
   "cell_type": "code",
   "execution_count": 9,
   "metadata": {},
   "outputs": [
    {
     "name": "stdout",
     "output_type": "stream",
     "text": [
      "' \\t\\n\\r\\x0b\\x0c'\n",
      "[32, 9, 10, 13, 11, 12]\n"
     ]
    }
   ],
   "source": [
    "#9\n",
    "import string\n",
    "print(repr(string.whitespace))\n",
    "res=[ord(i) for i in string.whitespace]\n",
    "print(res)"
   ]
  },
  {
   "cell_type": "code",
   "execution_count": 10,
   "metadata": {},
   "outputs": [
    {
     "name": "stdout",
     "output_type": "stream",
     "text": [
      "Enter one character : h\n",
      "It's ASCII value is 104\n"
     ]
    }
   ],
   "source": [
    "#10\n",
    "char=input(\"Enter one character : \")\n",
    "print(\"It's ASCII value is\",ord(char))"
   ]
  },
  {
   "cell_type": "code",
   "execution_count": 11,
   "metadata": {},
   "outputs": [
    {
     "name": "stdout",
     "output_type": "stream",
     "text": [
      "Enter area of a circle : 844\n",
      "Radius: 16.39065416446578\n",
      "Circumference: 102.98551742123328\n"
     ]
    }
   ],
   "source": [
    "#11\n",
    "import math\n",
    "area=int(input(\"Enter area of a circle : \"))\n",
    "radius=math.sqrt(area/math.pi)\n",
    "circum=2*math.pi*radius\n",
    "print(\"Radius:\",radius)\n",
    "print(\"Circumference:\",circum)"
   ]
  },
  {
   "cell_type": "code",
   "execution_count": 12,
   "metadata": {},
   "outputs": [
    {
     "name": "stdout",
     "output_type": "stream",
     "text": [
      "Enter marks of five subjects : 90 80 80 67 88\n",
      "Percentage: 81.0\n"
     ]
    }
   ],
   "source": [
    "#12\n",
    "import math\n",
    "sub1,sub2,sub3,sub4,sub5=input(\"Enter marks of five subjects : \").split()\n",
    "perc=((int(sub1)+int(sub2)+int(sub3)+int(sub4)+int(sub5))/500)*100\n",
    "print(\"Percentage:\",perc)"
   ]
  },
  {
   "cell_type": "code",
   "execution_count": null,
   "metadata": {},
   "outputs": [],
   "source": []
  },
  {
   "cell_type": "code",
   "execution_count": null,
   "metadata": {},
   "outputs": [],
   "source": [
    "\n"
   ]
  },
  {
   "cell_type": "code",
   "execution_count": null,
   "metadata": {},
   "outputs": [],
   "source": []
  },
  {
   "cell_type": "code",
   "execution_count": null,
   "metadata": {},
   "outputs": [],
   "source": []
  },
  {
   "cell_type": "code",
   "execution_count": null,
   "metadata": {},
   "outputs": [],
   "source": []
  },
  {
   "cell_type": "code",
   "execution_count": null,
   "metadata": {},
   "outputs": [],
   "source": []
  },
  {
   "cell_type": "code",
   "execution_count": null,
   "metadata": {},
   "outputs": [],
   "source": []
  }
 ],
 "metadata": {
  "kernelspec": {
   "display_name": "Python 3",
   "language": "python",
   "name": "python3"
  },
  "language_info": {
   "codemirror_mode": {
    "name": "ipython",
    "version": 3
   },
   "file_extension": ".py",
   "mimetype": "text/x-python",
   "name": "python",
   "nbconvert_exporter": "python",
   "pygments_lexer": "ipython3",
   "version": "3.7.6"
  }
 },
 "nbformat": 4,
 "nbformat_minor": 4
}
