{
 "cells": [
  {
   "cell_type": "code",
   "execution_count": 6,
   "metadata": {},
   "outputs": [
    {
     "name": "stdout",
     "output_type": "stream",
     "text": [
      "Enter a string:Haharr\n",
      "H\n",
      "a\n",
      "h\n",
      "a\n",
      "r\n",
      "r\n"
     ]
    }
   ],
   "source": [
    "#1. WAP to input a string and print individual characters in the string using for loop.\n",
    "\n",
    "str1=input('Enter a string:')\n",
    "for i in str1:\n",
    "    print(i)"
   ]
  },
  {
   "cell_type": "code",
   "execution_count": 7,
   "metadata": {},
   "outputs": [
    {
     "name": "stdout",
     "output_type": "stream",
     "text": [
      "Enter a string:Harshitha\n",
      "ASCII value of H is 72\n",
      "ASCII value of a is 97\n",
      "ASCII value of r is 114\n",
      "ASCII value of s is 115\n",
      "ASCII value of h is 104\n",
      "ASCII value of i is 105\n",
      "ASCII value of t is 116\n",
      "ASCII value of h is 104\n",
      "ASCII value of a is 97\n"
     ]
    }
   ],
   "source": [
    "# 2. WAP to input a string and print the ASCII value of each character in the string.\n",
    "\n",
    "str2=input('Enter a string:')\n",
    "for i in str2:\n",
    "    print(f'ASCII value of {i} is {ord(i)}')\n",
    "\n",
    "\n"
   ]
  },
  {
   "cell_type": "code",
   "execution_count": 11,
   "metadata": {},
   "outputs": [
    {
     "name": "stdout",
     "output_type": "stream",
     "text": [
      "Enter a list of numbers:4 1 6 3 9 3\n",
      "Sum of odd numbers in the given list is 16\n"
     ]
    }
   ],
   "source": [
    "# 3. Write a function that takes a list of numbers from user as argument and returns the sum of only\n",
    "# odd numbers (Use only for loop. No need to use if statement).\n",
    "\n",
    "def sum_odd(list1):\n",
    "    list2=filter(lambda x:x%2!=0,list1)\n",
    "    s=0\n",
    "    for i in list2:\n",
    "            s+=i\n",
    "            continue\n",
    "    return s\n",
    "    \n",
    "list1=list(input('Enter a list of numbers:').split())\n",
    "list1=[int(i) for i in list1]\n",
    "print(\"Sum of odd numbers in the given list is\",sum_odd(list1))"
   ]
  },
  {
   "cell_type": "code",
   "execution_count": 9,
   "metadata": {},
   "outputs": [
    {
     "name": "stdout",
     "output_type": "stream",
     "text": [
      "Enter a list of numbers:34\n",
      "Enter a number to find its index in the given list:4\n",
      "The given number is not inside the list\n"
     ]
    }
   ],
   "source": [
    "\n",
    "# 4. WAP to input a list of numbers and store in a tuple. Now input another number and print the\n",
    "# index of this number in the tuple. [Use index function]\n",
    "\n",
    "inp_tup=tuple(input('Enter a list of numbers:').split())\n",
    "num=input('Enter a number to find its index in the given list:')\n",
    "if num in inp_tup:\n",
    "    print(f'The index of given number is {inp_tup.index(num)}')\n",
    "else:\n",
    "    print('The given number is not inside the list')"
   ]
  },
  {
   "cell_type": "code",
   "execution_count": 10,
   "metadata": {},
   "outputs": [
    {
     "name": "stdout",
     "output_type": "stream",
     "text": [
      "[3279, 5106, 3440, 9691, 5679, 9090, 5401, 1624, 4191, 693]\n",
      "sum of 10 randomly generated numbers is 48194\n",
      "Average of 10 randomly generated numbers is 4819.4\n"
     ]
    }
   ],
   "source": [
    "\n",
    "# 5. Create a list of 10 random numbers and then print the list, sum of all numbers and average. Use\n",
    "# a for loop. Also print elements at only even indexes in the list\n",
    "\n",
    "import random as rn\n",
    "num_list=rn.sample(range(10000),10)\n",
    "print(num_list)\n",
    "sum_list=0\n",
    "for i in num_list:\n",
    "    sum_list+=i\n",
    "print(f'sum of 10 randomly generated numbers is {sum_list}')\n",
    "avg=sum_list/10\n",
    "print(f'Average of 10 randomly generated numbers is {avg}')"
   ]
  },
  {
   "cell_type": "code",
   "execution_count": 12,
   "metadata": {},
   "outputs": [
    {
     "name": "stdout",
     "output_type": "stream",
     "text": [
      "Enter number1:456\n",
      "Enter number2:6\n",
      "Enter number3:4\n",
      "Enter number4:54\n",
      "Enter number5:54\n",
      "Enter number6:76\n",
      "Enter number7:56\n",
      "Enter number8:2\n",
      "Enter number9:43\n",
      "Enter number10:65\n",
      "List: [456, 6, 4, 54, 54, 76, 56, 2, 43, 65]\n",
      "Sum of the numbers in the list: 816\n"
     ]
    }
   ],
   "source": [
    "# 6. WAP to input 10 numbers repeatedly (using range based for loop) and store them in a list. Print\n",
    "# the list and sum of numbers in the list.\n",
    "lst1=[]\n",
    "for i in range(10):\n",
    "    lst1.append(int(input(f'Enter number{i+1}:' )))\n",
    "print(\"List:\",lst1)\n",
    "print(\"Sum of the numbers in the list:\",sum(lst1))\n"
   ]
  },
  {
   "cell_type": "code",
   "execution_count": 4,
   "metadata": {},
   "outputs": [
    {
     "name": "stdout",
     "output_type": "stream",
     "text": [
      "Enter number:4\n",
      "4 X 1 = 4\n",
      "4 X 2 = 8\n",
      "4 X 3 = 12\n",
      "4 X 4 = 16\n",
      "4 X 5 = 20\n",
      "4 X 6 = 24\n",
      "4 X 7 = 28\n",
      "4 X 8 = 32\n",
      "4 X 9 = 36\n",
      "4 X 10 = 40\n"
     ]
    }
   ],
   "source": [
    "#### 7. WAP to input a number and print its table. Ex: if user enters the number as 7, output should be\n",
    "\n",
    "def table(num):\n",
    "    for i in range(1,11):\n",
    "        print(f'{num} X {i} = {num*i}')\n",
    "    \n",
    "num=int(input('Enter number:'))\n",
    "table(num)"
   ]
  },
  {
   "cell_type": "code",
   "execution_count": 5,
   "metadata": {},
   "outputs": [
    {
     "name": "stdout",
     "output_type": "stream",
     "text": [
      "Enter a string:Hello are you there just checking\n",
      "Number of spaces in the string is: 5\n"
     ]
    }
   ],
   "source": [
    "# 8. WAP to print total number of spaces in a string (Use for loop to iterate over the string. Don’t use\n",
    "# count function).\n",
    "\n",
    "str4=input('Enter a string:')\n",
    "count=0\n",
    "for i in str4:\n",
    "    if i is \" \":\n",
    "        count+=1\n",
    "        \n",
    "print('Number of spaces in the string is:',count)"
   ]
  },
  {
   "cell_type": "code",
   "execution_count": 1,
   "metadata": {},
   "outputs": [
    {
     "name": "stdout",
     "output_type": "stream",
     "text": [
      "Enter a string:THERE IS A CAN\n",
      "The number of vowels in the string is 5\n"
     ]
    }
   ],
   "source": [
    "# 9. WAP to input a string and count number of vowels in the string. [Note: it should work for both\n",
    "# capital and small alphabets]\n",
    "vow=['a','e','i','o','u']\n",
    "str3=input('Enter a string:').lower()\n",
    "count=0\n",
    "for i in str3:\n",
    "    if i in vow:\n",
    "        count+=1\n",
    "        \n",
    "print(f'The number of vowels in the string is {count}')"
   ]
  },
  {
   "cell_type": "code",
   "execution_count": 4,
   "metadata": {},
   "outputs": [
    {
     "name": "stdout",
     "output_type": "stream",
     "text": [
      "Enter a string:There is A can\n",
      "The updated string is Th_r_ _s _ c_n\n"
     ]
    }
   ],
   "source": [
    "# 10. WAP to input a string and replace all vowels with ‘_’.\n",
    "# [Hint: Convert string to list. Remember!! Strings are immutable. Replace in the list and then join]\n",
    "vow='aeiouAEIOU'\n",
    "str3=input('Enter a string:')\n",
    "lst2=list(str3)\n",
    "for i in range(len(lst2)):\n",
    "    if lst2[i] in vow:\n",
    "        lst2[i]='_'\n",
    "str4=''.join(lst2)\n",
    "print(f'The updated string is {str4}')"
   ]
  },
  {
   "cell_type": "code",
   "execution_count": 5,
   "metadata": {},
   "outputs": [
    {
     "name": "stdout",
     "output_type": "stream",
     "text": [
      "Num :  0\n",
      "Loop Ends\n"
     ]
    }
   ],
   "source": [
    "#11Find output:\n",
    "\n",
    "for num in range(10):\n",
    "    print(\"Num : \",num)\n",
    "    if num%4==0:\n",
    "        break\n",
    "    \n",
    "print('Loop Ends')"
   ]
  },
  {
   "cell_type": "code",
   "execution_count": 1,
   "metadata": {},
   "outputs": [
    {
     "name": "stdout",
     "output_type": "stream",
     "text": [
      "Num :  0\n"
     ]
    },
    {
     "ename": "SystemExit",
     "evalue": "",
     "output_type": "error",
     "traceback": [
      "An exception has occurred, use %tb to see the full traceback.\n",
      "\u001b[1;31mSystemExit\u001b[0m\n"
     ]
    },
    {
     "name": "stderr",
     "output_type": "stream",
     "text": [
      "C:\\Users\\Dell\\anaconda3\\lib\\site-packages\\IPython\\core\\interactiveshell.py:3339: UserWarning: To exit: use 'exit', 'quit', or Ctrl-D.\n",
      "  warn(\"To exit: use 'exit', 'quit', or Ctrl-D.\", stacklevel=1)\n"
     ]
    }
   ],
   "source": [
    "import sys\n",
    "for num in range(10):\n",
    "    print(\"Num : \",num)\n",
    "    if num%4==0:\n",
    "        sys.exit()\n",
    "        \n",
    "print('Loop Ends')"
   ]
  },
  {
   "cell_type": "code",
   "execution_count": 8,
   "metadata": {},
   "outputs": [
    {
     "name": "stdout",
     "output_type": "stream",
     "text": [
      "*****\n",
      "*****\n",
      "*****\n",
      "*****\n",
      "*****\n",
      "1\n",
      "22\n",
      "333\n",
      "4444\n",
      "55555\n",
      "1\n",
      "22\n",
      "333\n",
      "4444\n",
      "55555\n",
      "*\n",
      "**\n",
      "***\n",
      "****\n",
      "*****\n",
      "******\n"
     ]
    }
   ],
   "source": [
    "#12Find the output of the following code snippets.\n",
    "\n",
    "for i1 in range(1,6):\n",
    "    for i2 in range(5):\n",
    "        print('*', end=\"\")\n",
    "    print()\n",
    "    \n",
    "for i1 in range(1,6):\n",
    "    for i2 in range(i1):\n",
    "        print(i1, end=\"\")\n",
    "    print()    \n",
    "for i1 in range(1,6):\n",
    "    print(str(i1)*i1)\n",
    "    \n",
    "for i1 in range(6):\n",
    "    for i2 in range(i1+1):\n",
    "        print('*', end=\"\")\n",
    "    print()"
   ]
  },
  {
   "cell_type": "code",
   "execution_count": null,
   "metadata": {},
   "outputs": [],
   "source": [
    "\n",
    "    \n",
    "    \n",
    "\n",
    "    \n"
   ]
  },
  {
   "cell_type": "code",
   "execution_count": null,
   "metadata": {},
   "outputs": [],
   "source": []
  },
  {
   "cell_type": "code",
   "execution_count": null,
   "metadata": {},
   "outputs": [],
   "source": []
  },
  {
   "cell_type": "code",
   "execution_count": null,
   "metadata": {},
   "outputs": [],
   "source": []
  },
  {
   "cell_type": "code",
   "execution_count": null,
   "metadata": {},
   "outputs": [],
   "source": []
  },
  {
   "cell_type": "code",
   "execution_count": null,
   "metadata": {},
   "outputs": [],
   "source": []
  },
  {
   "cell_type": "code",
   "execution_count": null,
   "metadata": {},
   "outputs": [],
   "source": []
  },
  {
   "cell_type": "code",
   "execution_count": null,
   "metadata": {},
   "outputs": [],
   "source": []
  },
  {
   "cell_type": "code",
   "execution_count": null,
   "metadata": {},
   "outputs": [],
   "source": []
  },
  {
   "cell_type": "code",
   "execution_count": null,
   "metadata": {},
   "outputs": [],
   "source": []
  }
 ],
 "metadata": {
  "kernelspec": {
   "display_name": "Python 3",
   "language": "python",
   "name": "python3"
  },
  "language_info": {
   "codemirror_mode": {
    "name": "ipython",
    "version": 3
   },
   "file_extension": ".py",
   "mimetype": "text/x-python",
   "name": "python",
   "nbconvert_exporter": "python",
   "pygments_lexer": "ipython3",
   "version": "3.7.6"
  }
 },
 "nbformat": 4,
 "nbformat_minor": 4
}
