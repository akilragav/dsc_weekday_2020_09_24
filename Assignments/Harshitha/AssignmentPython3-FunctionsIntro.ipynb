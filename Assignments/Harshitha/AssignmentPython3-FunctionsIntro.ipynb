{
 "cells": [
  {
   "cell_type": "code",
   "execution_count": 2,
   "metadata": {},
   "outputs": [
    {
     "name": "stdout",
     "output_type": "stream",
     "text": [
      "Enter two strings:har sha\n",
      "The two strings are: ('sha', 'har')\n"
     ]
    }
   ],
   "source": [
    "#1\n",
    "str1,str2=input('Enter two strings:').split()\n",
    "def swaping(str1,str2):\n",
    "    str2,str1=str1,str2\n",
    "    return str1,str2\n",
    "print('The two strings after swap are:',swaping(str1,str2))"
   ]
  },
  {
   "cell_type": "code",
   "execution_count": 5,
   "metadata": {},
   "outputs": [
    {
     "name": "stdout",
     "output_type": "stream",
     "text": [
      "Enter no  of random numbers you want:4\n",
      "Enter the range for numbers:26\n",
      "[1, 4, 2, 14]\n",
      "Average of 4 numbers randomly selected is 5.25\n"
     ]
    }
   ],
   "source": [
    "#2\n",
    "import random\n",
    "def gen_random(nums,ran):\n",
    "    randomList = random.sample(range(0, ran), nums)\n",
    "    print(randomList)\n",
    "    avg=sum(randomList)/nums\n",
    "    return avg\n",
    "nums=int(input('Enter no  of random numbers you want:'))\n",
    "ran=int(input('Enter the range for numbers:'))\n",
    "res=gen_random(nums,ran)\n",
    "print(f'Average of {nums} numbers randomly selected is {res}')\n",
    "\n"
   ]
  },
  {
   "cell_type": "code",
   "execution_count": null,
   "metadata": {},
   "outputs": [],
   "source": [
    "#3"
   ]
  },
  {
   "cell_type": "code",
   "execution_count": 3,
   "metadata": {},
   "outputs": [
    {
     "name": "stdout",
     "output_type": "stream",
     "text": [
      "Enter principal amount:5000\n",
      "Enter rate:3\n",
      "Enter time period:2\n",
      "Simple interest applicable is 300.0\n"
     ]
    }
   ],
   "source": [
    "#4\n",
    "def get_si(princ,rate,time):\n",
    "    si=(princ*rate*time)/100\n",
    "    return si\n",
    "princ=int(input('Enter principal amount:'))\n",
    "rate=int(input('Enter rate:'))\n",
    "time=int(input('Enter time period:'))\n",
    "res=get_si(princ,rate,time)\n",
    "print(f'Simple interest applicable is {res}')"
   ]
  },
  {
   "cell_type": "code",
   "execution_count": 23,
   "metadata": {},
   "outputs": [
    {
     "name": "stdout",
     "output_type": "stream",
     "text": [
      "Enter principal amount:3000\n",
      "Enter rate:8\n",
      "Enter time period:2\n",
      "Total amount including SI is 3480.0\n"
     ]
    }
   ],
   "source": [
    "#5\n",
    "def get_amount(princ,rate=10,time=1):\n",
    "    amount=princ+get_si(princ,rate,time)\n",
    "    return amount\n",
    "princ=int(input('Enter principal amount:'))\n",
    "rate=int(input('Enter rate:'))\n",
    "time=int(input('Enter time period:'))\n",
    "res2=get_amount(princ,rate,time)\n",
    "print(f'Total amount including SI is {res2}')"
   ]
  },
  {
   "cell_type": "code",
   "execution_count": 9,
   "metadata": {},
   "outputs": [
    {
     "name": "stdout",
     "output_type": "stream",
     "text": [
      "Enter principal amount:5000\n",
      "Enter rate:5\n",
      "Enter time period:10\n",
      "Enter frequency:12\n",
      "8235.0474884514\n",
      "Compound interest applicable is 3235.0474884514006\n"
     ]
    }
   ],
   "source": [
    "#6\n",
    "def get_ci(princ,rate,time,freq):\n",
    "    amount=princ*(pow((1+((rate/100)/freq)),(time*freq)))\n",
    "    ci=amount-princ\n",
    "    return ci\n",
    "princ=int(input('Enter principal amount:'))\n",
    "rate=int(input('Enter rate:'))\n",
    "time=int(input('Enter time period:'))\n",
    "freq=int(input('Enter frequency:'))\n",
    "res3=get_ci(princ,rate,time,freq)\n",
    "print(f'Compound interest applicable is {res3}')"
   ]
  },
  {
   "cell_type": "code",
   "execution_count": 11,
   "metadata": {},
   "outputs": [
    {
     "name": "stdout",
     "output_type": "stream",
     "text": [
      "Enter first number:32\n",
      "Enter second number:5\n",
      "Quotient is 6. Remainder is 2\n"
     ]
    }
   ],
   "source": [
    "#7\n",
    "def get_q_r(num1,num2):\n",
    "    quo=num1//num2\n",
    "    rem=num1%num2\n",
    "    return quo,rem\n",
    "num1=int(input('Enter first number:'))\n",
    "num2=int(input('Enter second number:'))\n",
    "res=get_q_r(num1,num2)\n",
    "print(f'Quotient is {res[0]}. Remainder is {res[1]}')"
   ]
  },
  {
   "cell_type": "code",
   "execution_count": 13,
   "metadata": {},
   "outputs": [
    {
     "name": "stdout",
     "output_type": "stream",
     "text": [
      "Enter height:3\n",
      "Enter base:4\n",
      "Hypotenuse of right angled triangle is 5.0\n"
     ]
    }
   ],
   "source": [
    "#8\n",
    "import math\n",
    "def findhypo(height,base):\n",
    "    hypo=math.sqrt(pow(height,2)+pow(base,2))\n",
    "    return hypo\n",
    "height=int(input('Enter height:'))\n",
    "base=int(input('Enter base:'))\n",
    "res=findhypo(height,base)\n",
    "print(f'Hypotenuse of right angled triangle is {res}')"
   ]
  },
  {
   "cell_type": "code",
   "execution_count": 20,
   "metadata": {},
   "outputs": [
    {
     "name": "stdout",
     "output_type": "stream",
     "text": [
      "Enter seconds:12899980\n",
      "149 day 7 hour 19 minute 40 second\n"
     ]
    }
   ],
   "source": [
    "#9\n",
    "def time_convertion(seconds):\n",
    "    minutes,hours,days=0,0,0\n",
    "    sec=seconds%60\n",
    "    minutes=seconds//60\n",
    "    if minutes>=60:\n",
    "        hours=minutes//60\n",
    "        minutes=minutes%60\n",
    "    if hours>=24:\n",
    "        days=hours//24\n",
    "        hours=hours%24\n",
    "    return days,hours,minutes,sec\n",
    "\n",
    "seconds=int(input('Enter seconds:'))\n",
    "res1=time_convertion(seconds)\n",
    "print(f'{res1[0]} day {res1[1]} hour {res1[2]} minute {res1[3]} second')"
   ]
  },
  {
   "cell_type": "code",
   "execution_count": 22,
   "metadata": {},
   "outputs": [],
   "source": [
    "#10\n",
    "#python -v"
   ]
  },
  {
   "cell_type": "code",
   "execution_count": 14,
   "metadata": {},
   "outputs": [
    {
     "name": "stdout",
     "output_type": "stream",
     "text": [
      "2 -2\n"
     ]
    }
   ],
   "source": [
    "#11\n",
    "x=2\n",
    "x*=3\n",
    "x=x%4\n",
    "y=-x\n",
    "print(x,y)"
   ]
  },
  {
   "cell_type": "code",
   "execution_count": 15,
   "metadata": {},
   "outputs": [
    {
     "name": "stdout",
     "output_type": "stream",
     "text": [
      "None\n"
     ]
    }
   ],
   "source": [
    "#12\n",
    "def funct():\n",
    "    pass\n",
    "print(funct())"
   ]
  },
  {
   "cell_type": "code",
   "execution_count": null,
   "metadata": {},
   "outputs": [],
   "source": []
  },
  {
   "cell_type": "code",
   "execution_count": null,
   "metadata": {},
   "outputs": [],
   "source": []
  },
  {
   "cell_type": "code",
   "execution_count": null,
   "metadata": {},
   "outputs": [],
   "source": []
  },
  {
   "cell_type": "code",
   "execution_count": null,
   "metadata": {},
   "outputs": [],
   "source": []
  },
  {
   "cell_type": "code",
   "execution_count": null,
   "metadata": {},
   "outputs": [],
   "source": []
  },
  {
   "cell_type": "code",
   "execution_count": null,
   "metadata": {},
   "outputs": [],
   "source": []
  },
  {
   "cell_type": "code",
   "execution_count": null,
   "metadata": {},
   "outputs": [],
   "source": []
  },
  {
   "cell_type": "code",
   "execution_count": null,
   "metadata": {},
   "outputs": [],
   "source": []
  },
  {
   "cell_type": "code",
   "execution_count": null,
   "metadata": {},
   "outputs": [],
   "source": []
  },
  {
   "cell_type": "code",
   "execution_count": null,
   "metadata": {},
   "outputs": [],
   "source": []
  },
  {
   "cell_type": "code",
   "execution_count": null,
   "metadata": {},
   "outputs": [],
   "source": []
  },
  {
   "cell_type": "code",
   "execution_count": null,
   "metadata": {},
   "outputs": [],
   "source": []
  },
  {
   "cell_type": "code",
   "execution_count": null,
   "metadata": {},
   "outputs": [],
   "source": []
  },
  {
   "cell_type": "code",
   "execution_count": null,
   "metadata": {},
   "outputs": [],
   "source": []
  },
  {
   "cell_type": "code",
   "execution_count": null,
   "metadata": {},
   "outputs": [],
   "source": []
  },
  {
   "cell_type": "code",
   "execution_count": null,
   "metadata": {},
   "outputs": [],
   "source": []
  },
  {
   "cell_type": "code",
   "execution_count": null,
   "metadata": {},
   "outputs": [],
   "source": []
  },
  {
   "cell_type": "code",
   "execution_count": null,
   "metadata": {},
   "outputs": [],
   "source": []
  }
 ],
 "metadata": {
  "kernelspec": {
   "display_name": "Python 3",
   "language": "python",
   "name": "python3"
  },
  "language_info": {
   "codemirror_mode": {
    "name": "ipython",
    "version": 3
   },
   "file_extension": ".py",
   "mimetype": "text/x-python",
   "name": "python",
   "nbconvert_exporter": "python",
   "pygments_lexer": "ipython3",
   "version": "3.7.6"
  }
 },
 "nbformat": 4,
 "nbformat_minor": 4
}
