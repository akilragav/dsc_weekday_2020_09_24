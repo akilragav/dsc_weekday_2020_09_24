{
 "cells": [
  {
   "cell_type": "code",
   "execution_count": 2,
   "metadata": {},
   "outputs": [
    {
     "name": "stdout",
     "output_type": "stream",
     "text": [
      "Enter a number:12\n",
      "1\n",
      "2\n",
      "3\n",
      "4\n",
      "5\n",
      "6\n",
      "7\n",
      "8\n",
      "9\n",
      "10\n",
      "11\n",
      "12\n"
     ]
    }
   ],
   "source": [
    "#1\n",
    "num=int(input('Enter a number:'))\n",
    "for i in range(1,num+1):\n",
    "    print(i)"
   ]
  },
  {
   "cell_type": "code",
   "execution_count": 1,
   "metadata": {},
   "outputs": [
    {
     "name": "stdout",
     "output_type": "stream",
     "text": [
      "Enter a number:10\n",
      "55\n"
     ]
    }
   ],
   "source": [
    "#2\n",
    "def summation(num):\n",
    "    sum=0\n",
    "    for i in range(1,num+1):\n",
    "        sum+=i\n",
    "    return sum\n",
    "res=summation(int(input('Enter a number:')))\n",
    "print(res)"
   ]
  },
  {
   "cell_type": "code",
   "execution_count": 5,
   "metadata": {},
   "outputs": [
    {
     "name": "stdout",
     "output_type": "stream",
     "text": [
      "Enter a number:10\n",
      "10\n",
      "9\n",
      "8\n",
      "7\n",
      "6\n",
      "5\n",
      "4\n",
      "3\n",
      "2\n",
      "1\n"
     ]
    }
   ],
   "source": [
    "#3\n",
    "num=int(input('Enter a number:'))\n",
    "for i in range(num,0,-1):\n",
    "    print(i)"
   ]
  },
  {
   "cell_type": "code",
   "execution_count": 13,
   "metadata": {},
   "outputs": [
    {
     "name": "stdout",
     "output_type": "stream",
     "text": [
      "Enter a number:5\n",
      "The factorial of 5 is 120\n"
     ]
    }
   ],
   "source": [
    "#4\n",
    "def fact(num):\n",
    "    res=1\n",
    "    for i in range(num,0,-1):\n",
    "        res=res*i\n",
    "    return res\n",
    "num=int(input('Enter a number:'))\n",
    "print(f'The factorial of {num} is {fact(num)}')"
   ]
  },
  {
   "cell_type": "code",
   "execution_count": 13,
   "metadata": {},
   "outputs": [
    {
     "name": "stdout",
     "output_type": "stream",
     "text": [
      "Enter a number:1000\n",
      "0\n",
      "1\n",
      "1\n",
      "2\n",
      "3\n",
      "5\n",
      "8\n",
      "13\n",
      "21\n",
      "34\n",
      "55\n",
      "89\n",
      "144\n",
      "233\n",
      "377\n",
      "610\n",
      "987\n"
     ]
    }
   ],
   "source": [
    "#5\n",
    "def fibo(num):\n",
    "    c1,c2=0,1\n",
    "    print(c1)\n",
    "    print(c2)\n",
    "    c3=0\n",
    "    while c3<num:\n",
    "        c3=c1+c2\n",
    "        if c3<num:\n",
    "            print(c3)\n",
    "        c1=c2\n",
    "        c2=c3\n",
    "fibo(num=int(input('Enter a number:')))        "
   ]
  },
  {
   "cell_type": "code",
   "execution_count": 10,
   "metadata": {},
   "outputs": [
    {
     "name": "stdout",
     "output_type": "stream",
     "text": [
      "Enter a number:768768\n",
      "7\n",
      "6\n",
      "8\n",
      "7\n",
      "6\n",
      "8\n"
     ]
    }
   ],
   "source": [
    "#6\n",
    "num=input('Enter a number:')\n",
    "for i in num:\n",
    "    print(i)"
   ]
  },
  {
   "cell_type": "code",
   "execution_count": 11,
   "metadata": {},
   "outputs": [
    {
     "name": "stdout",
     "output_type": "stream",
     "text": [
      "Enter a number:3423\n",
      "12\n"
     ]
    }
   ],
   "source": [
    "#7\n",
    "num=input('Enter a number:')\n",
    "sum=0\n",
    "for i in num:\n",
    "    sum+=int(i)\n",
    "print(sum)"
   ]
  },
  {
   "cell_type": "code",
   "execution_count": 16,
   "metadata": {},
   "outputs": [
    {
     "name": "stdout",
     "output_type": "stream",
     "text": [
      "Enter a number:4\n",
      "Sum of factorials for n=4 is 33\n"
     ]
    }
   ],
   "source": [
    "#8\n",
    "def facts_sum(num):\n",
    "    sum=0\n",
    "    for i in range(1,num+1):\n",
    "        sum+=fact(i)\n",
    "    return sum\n",
    "num=int(input('Enter a number:'))\n",
    "ans=facts_sum(num)\n",
    "print(f'Sum of factorials for n={num} is {ans}')"
   ]
  },
  {
   "cell_type": "code",
   "execution_count": 18,
   "metadata": {},
   "outputs": [
    {
     "name": "stdout",
     "output_type": "stream",
     "text": [
      "Enter base:5\n",
      "Enter expo:4\n",
      "625\n"
     ]
    }
   ],
   "source": [
    "#9\n",
    "def power_func(base,expo):\n",
    "    res=1\n",
    "    for i in range(expo):\n",
    "        res*=base\n",
    "    return res\n",
    "\n",
    "base=int(input('Enter base:'))\n",
    "expo=int(input('Enter expo:'))\n",
    "print(power_func(base,expo))\n"
   ]
  },
  {
   "cell_type": "code",
   "execution_count": 27,
   "metadata": {},
   "outputs": [
    {
     "name": "stdout",
     "output_type": "stream",
     "text": [
      "Enter a number for right star:5\n",
      "*\n",
      "**\n",
      "***\n",
      "****\n",
      "*****\n",
      "--------------------------------------------------------\n",
      "Enter a number for down star:5\n",
      "*****\n",
      "****\n",
      "***\n",
      "**\n",
      "*\n",
      "--------------------------------------------------------\n",
      "Enter a number for left star:5\n",
      "    *\n",
      "   **\n",
      "  ***\n",
      " ****\n",
      "*****\n",
      "--------------------------------------------------------\n",
      "Enter a number for star pyramid:5\n",
      "    * \n",
      "   * * \n",
      "  * * * \n",
      " * * * * \n",
      "* * * * * \n",
      "--------------------------------------------------------\n"
     ]
    }
   ],
   "source": [
    "#10\n",
    "def right_star(num):\n",
    "    for i in range(1,num+1):\n",
    "        print('*'*i)\n",
    "\n",
    "right_star(int(input('Enter a number for right star:')))\n",
    "print('--------------------------------------------------------')\n",
    "def down_star(num):\n",
    "    for i in range(num,0,-1):\n",
    "        print('*'*i)\n",
    "\n",
    "down_star(int(input('Enter a number for down star:')))\n",
    "print('--------------------------------------------------------')\n",
    "def left_star(num):\n",
    "    for i in range(1,num+1):\n",
    "        print(' '*(num-i)+'*'*i)\n",
    "\n",
    "left_star(int(input('Enter a number for left star:')))\n",
    "print('--------------------------------------------------------')\n",
    "def star_pyramid(num):\n",
    "    for i in range(1,num+1):\n",
    "        print(' '*(num-i)+'* '*i)\n",
    "\n",
    "star_pyramid(int(input('Enter a number for star pyramid:')))\n",
    "print('--------------------------------------------------------')\n",
    "\n",
    "\n",
    "\n",
    "\n",
    "\n",
    "\n",
    "\n",
    "\n",
    "\n"
   ]
  },
  {
   "cell_type": "code",
   "execution_count": 40,
   "metadata": {},
   "outputs": [
    {
     "name": "stdout",
     "output_type": "stream",
     "text": [
      "Enter a number for right sided with same number pattern:5\n",
      "1\n",
      "22\n",
      "333\n",
      "4444\n",
      "55555\n",
      "--------------------------------------------------------\n",
      "Enter a number for right sided with increasing number pattern:5\n",
      "1\n",
      "12\n",
      "123\n",
      "1234\n",
      "12345\n",
      "--------------------------------------------------------\n",
      "Enter a number for right sided with decreasing number pattern:5\n",
      "5\n",
      "44\n",
      "333\n",
      "2222\n",
      "11111\n",
      "--------------------------------------------------------\n",
      "Enter a number for left star:5\n",
      "    1\n",
      "   22\n",
      "  333\n",
      " 4444\n",
      "55555\n",
      "--------------------------------------------------------\n"
     ]
    }
   ],
   "source": [
    "#11\n",
    "def right_same(num):\n",
    "    for i in range(1,num+1):\n",
    "        print(str(i)*i)\n",
    "\n",
    "right_same(int(input('Enter a number for right sided with same number pattern:')))\n",
    "print('--------------------------------------------------------')\n",
    "\n",
    "def right_inc(num):\n",
    "    for i in range(1,num+1):\n",
    "        for j in range(1,i+1):\n",
    "            print(str(j),end=\"\")\n",
    "        print('\\r')\n",
    "right_inc(int(input('Enter a number for right sided with increasing number pattern:')))\n",
    "print('--------------------------------------------------------')\n",
    "\n",
    "def right_dec(num):\n",
    "    for i in range(0,num):\n",
    "        print(str(num-i)*(i+1))\n",
    "right_dec(int(input('Enter a number for right sided with decreasing number pattern:')))\n",
    "print('--------------------------------------------------------')\n",
    "def left_num(num):\n",
    "    for i in range(1,num+1):\n",
    "        print(' '*(num-i)+str(i)*i)\n",
    "\n",
    "left_num(int(input('Enter a number for left star:')))\n",
    "print('--------------------------------------------------------')\n",
    "\n"
   ]
  },
  {
   "cell_type": "code",
   "execution_count": 59,
   "metadata": {},
   "outputs": [
    {
     "name": "stdout",
     "output_type": "stream",
     "text": [
      "Enter a number for right sided with increasing alphabets pattern:5\n",
      "A\n",
      "AB\n",
      "ABC\n",
      "ABCD\n",
      "ABCDE\n",
      "--------------------------------------------------------\n",
      "Enter a number for right sided with same alphabet pattern:5\n",
      "A\n",
      "BB\n",
      "CCC\n",
      "DDDD\n",
      "EEEEE\n",
      "--------------------------------------------------------\n",
      "Enter a number for right sided with alphabet pyramid pattern:5\n",
      "    A\n",
      "   ABA\n",
      "  ABCBA\n",
      " ABCDCBA\n",
      "ABCDEDCBA\n"
     ]
    }
   ],
   "source": [
    "#12\n",
    "import string\n",
    "def right_inc_alph(str1):\n",
    "    for i in range(1,len(str1)+1):\n",
    "        for j in range(0,i):\n",
    "            print(str1[j],end=\"\")\n",
    "        print('\\r')\n",
    "num=int(input('Enter a number for right sided with increasing alphabets pattern:'))\n",
    "right_inc_alph(string.ascii_uppercase[0:num])\n",
    "print('--------------------------------------------------------')\n",
    "\n",
    "def right_same_alph(str1):\n",
    "    for i in range(0,len(str1)):\n",
    "        print(str1[i]*(i+1))\n",
    "num=int(input('Enter a number for right sided with same alphabet pattern:'))\n",
    "right_same_alph(string.ascii_uppercase[0:num])\n",
    "print('--------------------------------------------------------')\n",
    "\n",
    "\n",
    "print('--------------------------------------------------------')\n",
    "def alph_pyramid(str1):\n",
    "    for i in range(0,len(str1)):\n",
    "        print(' '*(len(str1)-(i+1)),end=\"\")\n",
    "        for j in range(0,i+1):\n",
    "            print(str1[j],end=\"\")\n",
    "        for k in range(i-1,-1,-1):\n",
    "            print(str1[k],end=\"\")\n",
    "        print('\\r')\n",
    "\n",
    "num=int(input('Enter a number for right sided with alphabet pyramid pattern:'))\n",
    "alph_pyramid(string.ascii_uppercase[0:num])\n",
    "print('--------------------------------------------------------')"
   ]
  },
  {
   "cell_type": "code",
   "execution_count": 9,
   "metadata": {},
   "outputs": [
    {
     "name": "stdout",
     "output_type": "stream",
     "text": [
      "Enter a number for right sided with varying alphabet pattern(should be less than 7):5\n",
      "A\n",
      "BC\n",
      "DEF\n",
      "GHIJ\n",
      "KLMNO\n"
     ]
    }
   ],
   "source": [
    "import string\n",
    "def right_diff_alph(num):\n",
    "    \n",
    "    count=0\n",
    "    sum_num=summation(num)\n",
    "    str1=string.ascii_uppercase[0:sum_num]\n",
    "    while count<sum_num:\n",
    "        for i in range(1,num+1):\n",
    "            for j in range(0,i):\n",
    "                print(str1[count],end=\"\")\n",
    "                count+=1\n",
    "            print('\\r')\n",
    "        \n",
    "num=int(input('Enter a number for right sided with varying alphabet pattern(should be less than 7):'))\n",
    "right_diff_alph(num)"
   ]
  },
  {
   "cell_type": "code",
   "execution_count": null,
   "metadata": {},
   "outputs": [],
   "source": []
  },
  {
   "cell_type": "code",
   "execution_count": null,
   "metadata": {},
   "outputs": [],
   "source": []
  }
 ],
 "metadata": {
  "kernelspec": {
   "display_name": "Python 3",
   "language": "python",
   "name": "python3"
  },
  "language_info": {
   "codemirror_mode": {
    "name": "ipython",
    "version": 3
   },
   "file_extension": ".py",
   "mimetype": "text/x-python",
   "name": "python",
   "nbconvert_exporter": "python",
   "pygments_lexer": "ipython3",
   "version": "3.7.6"
  }
 },
 "nbformat": 4,
 "nbformat_minor": 4
}
