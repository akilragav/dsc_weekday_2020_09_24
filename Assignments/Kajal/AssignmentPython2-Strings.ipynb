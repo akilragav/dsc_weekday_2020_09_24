{
 "cells": [
  {
   "cell_type": "code",
   "execution_count": 2,
   "metadata": {},
   "outputs": [
    {
     "name": "stdout",
     "output_type": "stream",
     "text": [
      "d\n",
      "detneirO tcejbO si nohtyP\n",
      "Python is Object Oriente\n",
      "\n",
      "on is \n"
     ]
    }
   ],
   "source": [
    "s='Python is Object Oriented'\n",
    "print(s[-1])\n",
    "print(s[::-1])\n",
    "print(s[:-1])\n",
    "print(s[1:1])\n",
    "print(s[4:10])"
   ]
  },
  {
   "cell_type": "code",
   "execution_count": 3,
   "metadata": {},
   "outputs": [
    {
     "ename": "IndexError",
     "evalue": "string index out of range",
     "output_type": "error",
     "traceback": [
      "\u001b[1;31m---------------------------------------------------------------------------\u001b[0m",
      "\u001b[1;31mIndexError\u001b[0m                                Traceback (most recent call last)",
      "\u001b[1;32m<ipython-input-3-1d0d5b971d35>\u001b[0m in \u001b[0;36m<module>\u001b[1;34m\u001b[0m\n\u001b[0;32m      1\u001b[0m \u001b[0ms\u001b[0m\u001b[1;33m=\u001b[0m \u001b[1;34m''\u001b[0m\u001b[1;33m\u001b[0m\u001b[1;33m\u001b[0m\u001b[0m\n\u001b[1;32m----> 2\u001b[1;33m \u001b[0mprint\u001b[0m\u001b[1;33m(\u001b[0m\u001b[0ms\u001b[0m\u001b[1;33m[\u001b[0m\u001b[1;36m1\u001b[0m\u001b[1;33m]\u001b[0m\u001b[1;33m)\u001b[0m\u001b[1;33m\u001b[0m\u001b[1;33m\u001b[0m\u001b[0m\n\u001b[0m",
      "\u001b[1;31mIndexError\u001b[0m: string index out of range"
     ]
    }
   ],
   "source": [
    "s= ''\n",
    "print(s[1])"
   ]
  },
  {
   "cell_type": "code",
   "execution_count": 4,
   "metadata": {},
   "outputs": [
    {
     "ename": "IndexError",
     "evalue": "string index out of range",
     "output_type": "error",
     "traceback": [
      "\u001b[1;31m---------------------------------------------------------------------------\u001b[0m",
      "\u001b[1;31mIndexError\u001b[0m                                Traceback (most recent call last)",
      "\u001b[1;32m<ipython-input-4-545502d6b23c>\u001b[0m in \u001b[0;36m<module>\u001b[1;34m\u001b[0m\n\u001b[0;32m      1\u001b[0m \u001b[0mS\u001b[0m\u001b[1;33m=\u001b[0m\u001b[1;34m'Gaurav'\u001b[0m\u001b[1;33m\u001b[0m\u001b[1;33m\u001b[0m\u001b[0m\n\u001b[1;32m----> 2\u001b[1;33m \u001b[0mprint\u001b[0m\u001b[1;33m(\u001b[0m\u001b[0ms\u001b[0m\u001b[1;33m[\u001b[0m\u001b[1;36m1\u001b[0m\u001b[1;33m]\u001b[0m\u001b[1;33m)\u001b[0m\u001b[1;33m\u001b[0m\u001b[1;33m\u001b[0m\u001b[0m\n\u001b[0m",
      "\u001b[1;31mIndexError\u001b[0m: string index out of range"
     ]
    }
   ],
   "source": [
    "S='Gaurav'\n",
    "print(s[1])"
   ]
  },
  {
   "cell_type": "code",
   "execution_count": 5,
   "metadata": {},
   "outputs": [
    {
     "name": "stdout",
     "output_type": "stream",
     "text": [
      "6\n",
      "abc\n",
      "3\n"
     ]
    }
   ],
   "source": [
    "s='a b cd'\n",
    "print(len(s))\n",
    "print(s[::2])\n",
    "print(len(s[::2]))"
   ]
  },
  {
   "cell_type": "code",
   "execution_count": 6,
   "metadata": {},
   "outputs": [
    {
     "name": "stdout",
     "output_type": "stream",
     "text": [
      "['a#b#c#d#']\n",
      "['a', 'b', 'c', 'd', '']\n",
      "a$b$c$d$\n"
     ]
    }
   ],
   "source": [
    "s='a#b#c#d#'\n",
    "print(s.split())\n",
    "print(s.split('#'))\n",
    "l=s.split('#')\n",
    "s='$'.join(l)\n",
    "print(s)"
   ]
  },
  {
   "cell_type": "code",
   "execution_count": 11,
   "metadata": {},
   "outputs": [
    {
     "name": "stdout",
     "output_type": "stream",
     "text": [
      "av\n"
     ]
    }
   ],
   "source": [
    "S='Gaurav'\n",
    "S=S[::-2][::-2]\n",
    "print(S)"
   ]
  },
  {
   "cell_type": "code",
   "execution_count": 12,
   "metadata": {},
   "outputs": [
    {
     "name": "stdout",
     "output_type": "stream",
     "text": [
      "False\n"
     ]
    }
   ],
   "source": [
    "print(1>2)"
   ]
  },
  {
   "cell_type": "code",
   "execution_count": 13,
   "metadata": {},
   "outputs": [
    {
     "name": "stdout",
     "output_type": "stream",
     "text": [
      "0, 1, 2\n"
     ]
    }
   ],
   "source": [
    "print(4%2, 5%2, 2%5, sep=', ')"
   ]
  },
  {
   "cell_type": "code",
   "execution_count": 21,
   "metadata": {},
   "outputs": [
    {
     "name": "stdout",
     "output_type": "stream",
     "text": [
      "abcba\n",
      "0 ,0 ,0 ,"
     ]
    }
   ],
   "source": [
    "s='abcba'\n",
    "s.upper()\n",
    "print(s)\n",
    "print(s.count('A'), end = ' ,')\n",
    "print(s.count('A', 2,4) , end = ' ,')\n",
    "print(s.count('a', 2,4) , end = ' ,') "
   ]
  },
  {
   "cell_type": "code",
   "execution_count": 24,
   "metadata": {},
   "outputs": [
    {
     "name": "stdout",
     "output_type": "stream",
     "text": [
      "Enter a string:k a j a l \n",
      "kajal\n"
     ]
    }
   ],
   "source": [
    "str=input('Enter a string:')\n",
    "if len(str)>0:\n",
    "    print(str.replace(' ',''))\n",
    "else:\n",
    "    print('Enter proper string')"
   ]
  },
  {
   "cell_type": "code",
   "execution_count": null,
   "metadata": {},
   "outputs": [],
   "source": [
    "# What does this symbol denote: [] \n",
    "# List"
   ]
  },
  {
   "cell_type": "code",
   "execution_count": 25,
   "metadata": {},
   "outputs": [
    {
     "name": "stdout",
     "output_type": "stream",
     "text": [
      "['__add__', '__class__', '__contains__', '__delattr__', '__dir__', '__doc__', '__eq__', '__format__', '__ge__', '__getattribute__', '__getitem__', '__getnewargs__', '__gt__', '__hash__', '__init__', '__init_subclass__', '__iter__', '__le__', '__len__', '__lt__', '__mod__', '__mul__', '__ne__', '__new__', '__reduce__', '__reduce_ex__', '__repr__', '__rmod__', '__rmul__', '__setattr__', '__sizeof__', '__str__', '__subclasshook__', 'capitalize', 'casefold', 'center', 'count', 'encode', 'endswith', 'expandtabs', 'find', 'format', 'format_map', 'index', 'isalnum', 'isalpha', 'isascii', 'isdecimal', 'isdigit', 'isidentifier', 'islower', 'isnumeric', 'isprintable', 'isspace', 'istitle', 'isupper', 'join', 'ljust', 'lower', 'lstrip', 'maketrans', 'partition', 'replace', 'rfind', 'rindex', 'rjust', 'rpartition', 'rsplit', 'rstrip', 'split', 'splitlines', 'startswith', 'strip', 'swapcase', 'title', 'translate', 'upper', 'zfill']\n"
     ]
    }
   ],
   "source": [
    "print(dir(str))"
   ]
  },
  {
   "cell_type": "code",
   "execution_count": 28,
   "metadata": {},
   "outputs": [
    {
     "name": "stdout",
     "output_type": "stream",
     "text": [
      "True\n"
     ]
    }
   ],
   "source": [
    "print('rstrip' in dir(str))"
   ]
  },
  {
   "cell_type": "code",
   "execution_count": 33,
   "metadata": {},
   "outputs": [
    {
     "name": "stdout",
     "output_type": "stream",
     "text": [
      "*****\n",
      "  *  \n",
      "  *  \n",
      "  *  \n",
      "  *  \n"
     ]
    }
   ],
   "source": [
    "num=5\n",
    "for i in range(num,0,-1):\n",
    "    if num==i:\n",
    "        val=i*'*'\n",
    "    else:\n",
    "        val+='\\n' + '  ' + '*' + '  '\n",
    "print(val)"
   ]
  },
  {
   "cell_type": "code",
   "execution_count": 46,
   "metadata": {},
   "outputs": [
    {
     "name": "stdout",
     "output_type": "stream",
     "text": [
      "*     *\n",
      "* * * *\n",
      "*  *  *\n",
      "*     *\n"
     ]
    }
   ],
   "source": [
    "val=  '*' + '     ' + '*'\n",
    "val+='\\n' + 3*'* ' +'*'\n",
    "val+='\\n' + '*' +'  '+'* ' +' *'\n",
    "val+='\\n' +  '*' + '     ' + '*'\n",
    "print(val)"
   ]
  },
  {
   "cell_type": "code",
   "execution_count": 51,
   "metadata": {},
   "outputs": [
    {
     "name": "stdout",
     "output_type": "stream",
     "text": [
      " -----\n",
      " |    |\n",
      " O    |\n",
      "/|\\   |\n",
      "/ \\   |\n",
      "      |\n",
      "------\n"
     ]
    }
   ],
   "source": [
    "val=  ' ' + 5*'-'\n",
    "val+='\\n' + ' |' + '   ' + ' |'\n",
    "val+='\\n' + ' ' + 'O' + '   ' + ' |'\n",
    "val+='\\n' + '/' + '|' + '\\   ' + '|'\n",
    "val+='\\n' + '/' + ' ' + '\\   ' + '|'\n",
    "val+='\\n' + 4*' ' + '  |'\n",
    "val+='\\n' + 6*'-'\n",
    "print(val)"
   ]
  },
  {
   "cell_type": "code",
   "execution_count": 34,
   "metadata": {},
   "outputs": [
    {
     "name": "stdout",
     "output_type": "stream",
     "text": [
      "Enter a string:k a j a l\n",
      "k\n",
      "a\n",
      "j\n",
      "a\n",
      "l\n"
     ]
    }
   ],
   "source": [
    "str=input('Enter a string:')\n",
    "if len(str)>0:\n",
    "    print(str.replace(' ','\\n'))\n",
    "else:\n",
    "    print('Enter proper string')"
   ]
  },
  {
   "cell_type": "code",
   "execution_count": 2,
   "metadata": {},
   "outputs": [
    {
     "name": "stdout",
     "output_type": "stream",
     "text": [
      "Enter your name with space:kajal ghosh\n",
      "KAJAL 5 \n",
      "\n",
      "GHOSH 5 \n",
      "\n"
     ]
    }
   ],
   "source": [
    "#WAP to input complete name(first and last name separated by space) and print first and last\n",
    "#name separately along with their length in upper case. \n",
    "val=input('Enter your name with space:')\n",
    "if len(val)>0:    \n",
    "    x = 0 \n",
    "    lst=val.split()\n",
    "    # Iterating using while loop \n",
    "    while x < len(lst):\n",
    "        valitemcnt= len(lst[x])\n",
    "        print('%s%s' % (lst[x].upper() + ' ', valitemcnt),'\\n')\n",
    "        x = x+1    \n",
    "        #print('%s%s' % (val.replace(' ','\\\\n').upper(),  len(val.replace(' ',''))))\n",
    "else:    \n",
    "    print('Enter proper string')"
   ]
  },
  {
   "cell_type": "code",
   "execution_count": 69,
   "metadata": {},
   "outputs": [
    {
     "name": "stdout",
     "output_type": "stream",
     "text": [
      "Enter a string:String\n",
      "3\n",
      "Str\n",
      "ing\n"
     ]
    }
   ],
   "source": [
    "str=input('Enter a string:')\n",
    "if len(str)>0:\n",
    "    print(int(len(str)/2))\n",
    "    print(str[:int(len(str)/2):])\n",
    "    if len(str)%2==0:\n",
    "        print(str[int(len(str)/2)::])\n",
    "    else:\n",
    "        print(str[int(len(str)/2+1)::])\n",
    "else:\n",
    "    print('Enter proper string')"
   ]
  }
 ],
 "metadata": {
  "kernelspec": {
   "display_name": "Python 3",
   "language": "python",
   "name": "python3"
  },
  "language_info": {
   "codemirror_mode": {
    "name": "ipython",
    "version": 3
   },
   "file_extension": ".py",
   "mimetype": "text/x-python",
   "name": "python",
   "nbconvert_exporter": "python",
   "pygments_lexer": "ipython3",
   "version": "3.8.3"
  }
 },
 "nbformat": 4,
 "nbformat_minor": 4
}
