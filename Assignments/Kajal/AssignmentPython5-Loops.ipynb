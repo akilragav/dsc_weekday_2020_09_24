{
 "cells": [
  {
   "cell_type": "code",
   "execution_count": 4,
   "metadata": {},
   "outputs": [
    {
     "name": "stdout",
     "output_type": "stream",
     "text": [
      "Enter a number:10\n",
      "0\n",
      "1\n",
      "2\n",
      "3\n",
      "4\n",
      "5\n",
      "6\n",
      "7\n",
      "8\n",
      "9\n"
     ]
    }
   ],
   "source": [
    "#WAP to print first n natural numbers (input n from user). \n",
    "x=input('Enter a number:')\n",
    "i=0\n",
    "while (i<int(x)):\n",
    "    print(i)\n",
    "    i+=1"
   ]
  },
  {
   "cell_type": "code",
   "execution_count": 8,
   "metadata": {},
   "outputs": [
    {
     "name": "stdout",
     "output_type": "stream",
     "text": [
      "Enter a number:10\n",
      "Sum of first 10 natural numbers is: 45\n"
     ]
    }
   ],
   "source": [
    "#WAP to find sum of first n natural numbers\n",
    "x=input('Enter a number:')\n",
    "i=0\n",
    "sum=0\n",
    "while (i<int(x)):\n",
    "    sum+=i\n",
    "    i+=1\n",
    "print(f'Sum of first {x} natural numbers is: {sum}')"
   ]
  },
  {
   "cell_type": "code",
   "execution_count": 11,
   "metadata": {},
   "outputs": [
    {
     "name": "stdout",
     "output_type": "stream",
     "text": [
      "Enter a number:10\n",
      "10\n",
      "9\n",
      "8\n",
      "7\n",
      "6\n",
      "5\n",
      "4\n",
      "3\n",
      "2\n",
      "1\n"
     ]
    }
   ],
   "source": [
    "#WAP to print first n natural numbers in reverse order. \n",
    "x=input('Enter a number:')\n",
    "i=int(x)\n",
    "while i>0:\n",
    "    print(i)\n",
    "    i-=1"
   ]
  },
  {
   "cell_type": "code",
   "execution_count": 25,
   "metadata": {},
   "outputs": [
    {
     "name": "stdout",
     "output_type": "stream",
     "text": [
      "Enter a number:5\n",
      "Factorial of 5 is: 120\n"
     ]
    }
   ],
   "source": [
    "#WAP to input a number and print its factorial\n",
    "x=input('Enter a number:')\n",
    "if x.isdigit():\n",
    "    if int(x)>=0:\n",
    "        i=int(x)\n",
    "        fact=1\n",
    "        while i>0:\n",
    "            fact=fact*i\n",
    "            i-=1\n",
    "        print(f'Factorial of {x} is: {fact}')\n",
    "else:\n",
    "    print(\"Check the enter for digit and whether a positive integer\")"
   ]
  },
  {
   "cell_type": "code",
   "execution_count": 26,
   "metadata": {},
   "outputs": [
    {
     "name": "stdout",
     "output_type": "stream",
     "text": [
      "How many terms? 10\n",
      "Fibonacci sequence:\n",
      "0\n",
      "1\n",
      "1\n",
      "2\n",
      "3\n",
      "5\n",
      "8\n",
      "13\n",
      "21\n",
      "34\n"
     ]
    }
   ],
   "source": [
    "#WAP to print Fibonacci sequence till n. \n",
    "n = int(input(\"How many terms? \"))\n",
    "\n",
    "# first two terms\n",
    "n1, n2 = 0, 1\n",
    "cnt = 0\n",
    "\n",
    "# check if the number of terms is valid\n",
    "if n <= 0:\n",
    "    print(\"Please enter a positive integer\")\n",
    "elif nterms == 1:\n",
    "    print(\"Fibonacci sequence upto\",n,\":\")\n",
    "    print(n1)\n",
    "else:\n",
    "    print(\"Fibonacci sequence:\")\n",
    "    while cnt < n:\n",
    "        print(n1)\n",
    "        nth = n1 + n2\n",
    "       # update values\n",
    "        n1 = n2\n",
    "        n2 = nth\n",
    "        cnt += 1"
   ]
  },
  {
   "cell_type": "code",
   "execution_count": 41,
   "metadata": {},
   "outputs": [
    {
     "name": "stdout",
     "output_type": "stream",
     "text": [
      "Please enter a number: 12345\n",
      "5\n",
      "4\n",
      "3\n",
      "2\n",
      "1\n"
     ]
    }
   ],
   "source": [
    "#6. WAP to print all digits of a number input from user. \n",
    "x=input('Please enter a number: ')\n",
    "i=0\n",
    "x=int(x)\n",
    "while x > 0:\n",
    "    rem = x % 10\n",
    "    print(rem)\n",
    "    x = int(x/10)"
   ]
  },
  {
   "cell_type": "code",
   "execution_count": 42,
   "metadata": {},
   "outputs": [
    {
     "name": "stdout",
     "output_type": "stream",
     "text": [
      "Please enter a number: 12345\n",
      "Sum of all digits of a given number 0 is: 15\n"
     ]
    }
   ],
   "source": [
    "#WAP to find sum of all digits of a number.\n",
    "x=input('Please enter a number: ')\n",
    "i=0\n",
    "x=int(x)\n",
    "sum=0\n",
    "while x > 0:\n",
    "    rem = x % 10\n",
    "    sum=sum+rem\n",
    "    x = int(x/10)\n",
    "print(f'Sum of all digits of a given number {x} is: {sum}')"
   ]
  },
  {
   "cell_type": "code",
   "execution_count": 47,
   "metadata": {},
   "outputs": [
    {
     "name": "stdout",
     "output_type": "stream",
     "text": [
      "Enter a number:5\n",
      "153\n"
     ]
    }
   ],
   "source": [
    "#WAP to find sum of following series given n as input from user\n",
    "#1 + 2! + 3! + 4! + 5! + ….n!\n",
    "#Where n! denotes the factorial of number n.\n",
    "\n",
    "def findfact(num):\n",
    "    i=int(num)\n",
    "    fact=1\n",
    "    while i>0:\n",
    "        fact=fact*i\n",
    "        i-=1\n",
    "    return fact\n",
    "\n",
    "x=input('Enter a number:')\n",
    "i=1\n",
    "sum=0\n",
    "while (i<=int(x)):\n",
    "    sum=sum+findfact(i)\n",
    "    i+=1\n",
    "print(sum)\n",
    "        "
   ]
  },
  {
   "cell_type": "code",
   "execution_count": 51,
   "metadata": {},
   "outputs": [
    {
     "name": "stdout",
     "output_type": "stream",
     "text": [
      "Enter a number for base :4\n",
      "Enter a number for exponent :3\n",
      "64\n"
     ]
    }
   ],
   "source": [
    "#WAP to input base and exponent and print result without using inbuilt function pow(use for or while loop). \n",
    "val1=input('Enter a number for base :')\n",
    "val2=input('Enter a number for exponent :')\n",
    "if val1.isdigit() and val2.isdigit():\n",
    "    print(int(val1)**int(val2))\n",
    "else:\n",
    "    print('Check the entered digits')"
   ]
  },
  {
   "cell_type": "code",
   "execution_count": 54,
   "metadata": {},
   "outputs": [
    {
     "name": "stdout",
     "output_type": "stream",
     "text": [
      "*\n",
      "**\n",
      "***\n",
      "****\n",
      "*****\n"
     ]
    }
   ],
   "source": [
    "# Print following patterns: \n",
    "x=5\n",
    "i=1\n",
    "while (i<=x):\n",
    "    print('*'*i)\n",
    "    i+=1\n"
   ]
  },
  {
   "cell_type": "code",
   "execution_count": 57,
   "metadata": {},
   "outputs": [
    {
     "name": "stdout",
     "output_type": "stream",
     "text": [
      "*****\n",
      "****\n",
      "***\n",
      "**\n",
      "*\n",
      "\n"
     ]
    }
   ],
   "source": [
    "# Print following patterns: \n",
    "i=5\n",
    "while (i>=0):\n",
    "    print('*'*i)\n",
    "    i-=1"
   ]
  },
  {
   "cell_type": "code",
   "execution_count": 58,
   "metadata": {},
   "outputs": [
    {
     "name": "stdout",
     "output_type": "stream",
     "text": [
      "    *\n",
      "   **\n",
      "  ***\n",
      " ****\n",
      "*****\n"
     ]
    }
   ],
   "source": [
    "# Print following patterns: \n",
    "x=5\n",
    "i=1\n",
    "while (i<=x):\n",
    "    print(' '*(5-i) + '*'*i)\n",
    "    i+=1"
   ]
  },
  {
   "cell_type": "code",
   "execution_count": 105,
   "metadata": {},
   "outputs": [
    {
     "name": "stdout",
     "output_type": "stream",
     "text": [
      "      * \n",
      "     * * \n",
      "    * * * \n",
      "   * * * * \n"
     ]
    }
   ],
   "source": [
    "# Print following patterns:\n",
    "rows = 4\n",
    "k = 2 * rows - 2\n",
    "for i in range(0, rows):\n",
    "    for j in range(0, k):\n",
    "        print(end=\" \")\n",
    "    k = k - 1\n",
    "    for j in range(0, i + 1):\n",
    "        print(\"* \", end=\"\")\n",
    "    print(\"\")"
   ]
  },
  {
   "cell_type": "code",
   "execution_count": 79,
   "metadata": {},
   "outputs": [
    {
     "name": "stdout",
     "output_type": "stream",
     "text": [
      "1\n",
      "22\n",
      "333\n",
      "4444\n",
      "55555\n"
     ]
    }
   ],
   "source": [
    "#Print following number patterns: \n",
    "\n",
    "x=5\n",
    "i=1\n",
    "while (i<=x):\n",
    "    val=''\n",
    "    j=1\n",
    "    while j<=i:\n",
    "        val=val+str(1*i)\n",
    "        j+=1\n",
    "    print(val)\n",
    "    i+=1\n",
    "    "
   ]
  },
  {
   "cell_type": "code",
   "execution_count": 82,
   "metadata": {},
   "outputs": [
    {
     "name": "stdout",
     "output_type": "stream",
     "text": [
      "1\n",
      "12\n",
      "123\n",
      "1234\n",
      "12345\n"
     ]
    }
   ],
   "source": [
    "#Print following number patterns: \n",
    "\n",
    "x=5\n",
    "i=1\n",
    "while (i<=x):\n",
    "    val=''\n",
    "    j=1\n",
    "    while j<=i:\n",
    "        val=val+str(j)\n",
    "        j+=1\n",
    "    print(val)\n",
    "    i+=1"
   ]
  },
  {
   "cell_type": "code",
   "execution_count": 89,
   "metadata": {},
   "outputs": [
    {
     "name": "stdout",
     "output_type": "stream",
     "text": [
      "5\n",
      "44\n",
      "333\n",
      "2222\n",
      "11111\n"
     ]
    }
   ],
   "source": [
    "#Print following number patterns: \n",
    "\n",
    "x=5\n",
    "i=5\n",
    "while (i>0):\n",
    "    val=''\n",
    "    j=5\n",
    "    while j>=i:\n",
    "        val=val+str(1*i)\n",
    "        j-=1\n",
    "    print(val)\n",
    "    i-=1"
   ]
  },
  {
   "cell_type": "code",
   "execution_count": 92,
   "metadata": {},
   "outputs": [
    {
     "name": "stdout",
     "output_type": "stream",
     "text": [
      "    1\n",
      "   22\n",
      "  333\n",
      " 4444\n",
      "55555\n"
     ]
    }
   ],
   "source": [
    "#Print following number patterns: \n",
    "\n",
    "x=5\n",
    "i=1\n",
    "while (i<=x):\n",
    "    val=''\n",
    "    j=1\n",
    "    while j<=i:\n",
    "        val=val+str(1*i)\n",
    "        j+=1\n",
    "    print(' '*(5-i) +val)\n",
    "    i+=1\n",
    "    "
   ]
  },
  {
   "cell_type": "code",
   "execution_count": 112,
   "metadata": {},
   "outputs": [
    {
     "name": "stdout",
     "output_type": "stream",
     "text": [
      "A\n",
      "AB\n",
      "ABC\n",
      "ABCD\n",
      "ABCDE\n"
     ]
    }
   ],
   "source": [
    "#Print following character patterns: \n",
    "\n",
    "x=5\n",
    "i=0\n",
    "while (i<x):\n",
    "    val=''\n",
    "    j=0\n",
    "    while j<=i:\n",
    "        val=val+chr(65+j)\n",
    "        j+=1\n",
    "    print(val)\n",
    "    i+=1"
   ]
  },
  {
   "cell_type": "code",
   "execution_count": 126,
   "metadata": {},
   "outputs": [
    {
     "name": "stdout",
     "output_type": "stream",
     "text": [
      "A\n",
      "BC\n",
      "DEF\n",
      "GHIJ\n",
      "KLMNO\n"
     ]
    }
   ],
   "source": [
    "#Print following character patterns: \n",
    "\n",
    "x=5\n",
    "i=0\n",
    "val=0\n",
    "val1=65\n",
    "y=0\n",
    "while (i<x):\n",
    "    j=0\n",
    "    val2=''\n",
    "    while j<=i:\n",
    "        val=val1+y\n",
    "        val2= val2 + chr(val)\n",
    "        j+=1\n",
    "        y+=1\n",
    "    print(val2)\n",
    "    i+=1"
   ]
  },
  {
   "cell_type": "code",
   "execution_count": 111,
   "metadata": {},
   "outputs": [
    {
     "name": "stdout",
     "output_type": "stream",
     "text": [
      "A\n",
      "BB\n",
      "CCC\n",
      "DDDD\n",
      "EEEEE\n"
     ]
    }
   ],
   "source": [
    "#Print following character patterns: \n",
    "\n",
    "x=5\n",
    "i=0\n",
    "while (i<x):\n",
    "    val=''\n",
    "    j=0\n",
    "    while j<=i:\n",
    "        val=val+chr(65+i)\n",
    "        j+=1\n",
    "    print(val)\n",
    "    i+=1"
   ]
  },
  {
   "cell_type": "code",
   "execution_count": 141,
   "metadata": {},
   "outputs": [
    {
     "name": "stdout",
     "output_type": "stream",
     "text": [
      "        A\n",
      "       ABA\n",
      "      ABCBA\n",
      "     ABCDCBA\n",
      "    ABCDEDCBA\n"
     ]
    }
   ],
   "source": [
    "#Print following character patterns: \n",
    "rows = 5\n",
    "k = 2 * rows - 2\n",
    "for i in range(0, rows):\n",
    "    for j in range(0, k):\n",
    "        print(end=\" \")\n",
    "    k = k - 1\n",
    "    for j in range(0, i + 1):\n",
    "        print(chr(65+j)+\"\", end=\"\")\n",
    "    for l in range(j, i-i,-1):\n",
    "        print(chr(65+l-1)+\"\", end=\"\")\n",
    "    print(\"\")"
   ]
  }
 ],
 "metadata": {
  "kernelspec": {
   "display_name": "Python 3",
   "language": "python",
   "name": "python3"
  },
  "language_info": {
   "codemirror_mode": {
    "name": "ipython",
    "version": 3
   },
   "file_extension": ".py",
   "mimetype": "text/x-python",
   "name": "python",
   "nbconvert_exporter": "python",
   "pygments_lexer": "ipython3",
   "version": "3.8.3"
  }
 },
 "nbformat": 4,
 "nbformat_minor": 4
}
