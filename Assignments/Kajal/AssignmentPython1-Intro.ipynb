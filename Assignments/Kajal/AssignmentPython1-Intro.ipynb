{
 "cells": [
  {
   "cell_type": "code",
   "execution_count": 1,
   "metadata": {},
   "outputs": [
    {
     "name": "stdout",
     "output_type": "stream",
     "text": [
      "6 19\n"
     ]
    }
   ],
   "source": [
    "s1='Gaurav'\n",
    "s2='tuteur.py@gmail.com'\n",
    "print(len(s1), len(s2))"
   ]
  },
  {
   "cell_type": "code",
   "execution_count": 2,
   "metadata": {},
   "outputs": [
    {
     "name": "stdout",
     "output_type": "stream",
     "text": [
      "Enter a String: Kajal\n",
      "5\n"
     ]
    }
   ],
   "source": [
    "str1=input(\"Enter a String: \")\n",
    "if len(str1)>0:\n",
    "    print(len(str1))\n",
    "else:\n",
    "    print(\"Enter valid string value\")"
   ]
  },
  {
   "cell_type": "code",
   "execution_count": 6,
   "metadata": {},
   "outputs": [
    {
     "name": "stdout",
     "output_type": "stream",
     "text": [
      "Enter 1st number: 4\n",
      "Enter 2nd number: 2\n",
      "6\n",
      "2\n"
     ]
    }
   ],
   "source": [
    "num1=input(\"Enter 1st number: \")\n",
    "num2=input(\"Enter 2nd number: \")\n",
    "if num1.isdigit() and num2.isdigit():\n",
    "    num1=int(num1)\n",
    "    num2=int(num2)\n",
    "    if(num1>num2):\n",
    "        diff=num1-num2\n",
    "    else:\n",
    "        diff=num2-num1\n",
    "    add=num1+num2\n",
    "    print(add)\n",
    "    print(diff)\n",
    "else:\n",
    "    print(\"Check the inputs\")"
   ]
  },
  {
   "cell_type": "code",
   "execution_count": 8,
   "metadata": {},
   "outputs": [
    {
     "name": "stdout",
     "output_type": "stream",
     "text": [
      "abde\n"
     ]
    }
   ],
   "source": [
    "s1='ab'\n",
    "s2='de'\n",
    "s3=s1+s2\n",
    "print(s3)"
   ]
  },
  {
   "cell_type": "code",
   "execution_count": 9,
   "metadata": {},
   "outputs": [
    {
     "name": "stdout",
     "output_type": "stream",
     "text": [
      "abababab\n"
     ]
    }
   ],
   "source": [
    "s1='ab'*4\n",
    "print(s1)"
   ]
  },
  {
   "cell_type": "code",
   "execution_count": 10,
   "metadata": {},
   "outputs": [
    {
     "name": "stdout",
     "output_type": "stream",
     "text": [
      "ab\n",
      "ab\n",
      "ab\n",
      "ab\n",
      "\n"
     ]
    }
   ],
   "source": [
    "s1='ab\\n'*4\n",
    "print(s1)"
   ]
  },
  {
   "cell_type": "code",
   "execution_count": 12,
   "metadata": {},
   "outputs": [
    {
     "name": "stdout",
     "output_type": "stream",
     "text": [
      "Enter a string: Kajal\n",
      "Enter a number: 3\n",
      "Kajal\n",
      "Kajal\n",
      "Kajal\n",
      "\n"
     ]
    }
   ],
   "source": [
    "s=input(\"Enter a string: \")\n",
    "n=input(\"Enter a number: \")\n",
    "if len(s)>0 and n.isdigit():\n",
    "    n=int(n)\n",
    "    s=s+\"\\n\"\n",
    "    print(s*n)\n",
    "else:\n",
    "    print(\"Enter valid inputs\")"
   ]
  },
  {
   "cell_type": "code",
   "execution_count": 10,
   "metadata": {},
   "outputs": [
    {
     "name": "stdout",
     "output_type": "stream",
     "text": [
      "Gaurav\n",
      "None\n"
     ]
    }
   ],
   "source": [
    "res=print('Gaurav')\n",
    "print(res)"
   ]
  }
 ],
 "metadata": {
  "kernelspec": {
   "display_name": "Python 3",
   "language": "python",
   "name": "python3"
  }
 },
 "nbformat": 4,
 "nbformat_minor": 4
}
