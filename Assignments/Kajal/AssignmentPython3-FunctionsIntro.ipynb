{
 "cells": [
  {
   "cell_type": "code",
   "execution_count": 8,
   "metadata": {},
   "outputs": [
    {
     "name": "stdout",
     "output_type": "stream",
     "text": [
      "Input the first string: kajal\n",
      "Input the second string:ghosh\n",
      "The first string after swapping is: ghosh\n",
      "The second string after swapping is: kajal\n"
     ]
    }
   ],
   "source": [
    "#WAP to input 2 strings and swap the strings \n",
    "def swap_strings(strval1,strval2):\n",
    "    strval1,strval2=strval2,strval1\n",
    "    print(f'The first string after swapping is: {strval1}')\n",
    "    print(f'The second string after swapping is: {strval2}')\n",
    "\n",
    "str1=input('Input the first string: ')\n",
    "str2=input('Input the second string:')\n",
    "if len(str1)>0 and len(str2)>0:\n",
    "    swap_strings(str1,str2)\n",
    "else:\n",
    "    print('check the string inputs')"
   ]
  },
  {
   "cell_type": "code",
   "execution_count": 23,
   "metadata": {},
   "outputs": [
    {
     "name": "stdout",
     "output_type": "stream",
     "text": [
      "random numbers are:22\n",
      "random numbers are:17\n",
      "random numbers are:23\n",
      "random numbers are:6\n",
      "Average of 4 random values is:17.0\n"
     ]
    }
   ],
   "source": [
    "#WAP to generate 4 random numbers in the range 0-26 and print their average\n",
    "import random\n",
    "def avg_rand():\n",
    "    i=0\n",
    "    sumi=0\n",
    "    while i<4:\n",
    "        num = random.randrange(0,26)\n",
    "        sumi += num\n",
    "        print(f'random numbers are:{num}')\n",
    "        i+=1\n",
    "    print(f'Average of 4 random values is:{sumi/4}')\n",
    "\n",
    "avg_rand()\n",
    "\n",
    "#print(f'Average of 4 random values is:{random.randrange(0,26,4)}')"
   ]
  },
  {
   "cell_type": "code",
   "execution_count": 45,
   "metadata": {},
   "outputs": [
    {
     "name": "stdout",
     "output_type": "stream",
     "text": [
      "M\n",
      "t\n"
     ]
    }
   ],
   "source": [
    "#WAP to generate and print a random uppercase or lowercase alphabet. Try these:\n",
    "#• Create a string containing all alphabets and then select a random alphabet.\n",
    "#• Check the module string \n",
    "import random\n",
    "def random_alpha():\n",
    "    print(chr(random.randrange(65,90)))\n",
    "    \n",
    "import string\n",
    "def random_alphalower():\n",
    "    print(random.choice(string.ascii_lowercase))\n",
    "\n",
    "random_alpha()\n",
    "random_alphalower()"
   ]
  },
  {
   "cell_type": "code",
   "execution_count": 5,
   "metadata": {},
   "outputs": [
    {
     "name": "stdout",
     "output_type": "stream",
     "text": [
      "Enter Principle amount:5000\n",
      "Enter rate amount:5.5\n",
      "Enter time in years:2\n",
      "Simple interest of the given Principle 5000, rate 5.5 and time 2 years is: 550.0\n"
     ]
    }
   ],
   "source": [
    "#WAF get_si() that takes Principle, Rate and Time as arguments and returns the Simple Interest.\n",
    "def get_si(p,r,t):\n",
    "    si=(p*r*t)/100\n",
    "    return si\n",
    "\n",
    "pr=input('Enter Principle amount:')\n",
    "rt=input('Enter rate amount:')\n",
    "tm=input('Enter time in years:')\n",
    "if pr.replace('.','',1).isdigit() and rt.replace('.','',1).isdigit() and tm.replace('.','',1).isdigit():\n",
    "    print(f'Simple interest of the given Principle {pr}, rate {rt} and time {tm} years is: {float(get_si(float(pr),float(rt),float(tm)))}')\n",
    "else:\n",
    "    print('Enter valid values of inputs')\n"
   ]
  },
  {
   "cell_type": "code",
   "execution_count": 7,
   "metadata": {},
   "outputs": [
    {
     "name": "stdout",
     "output_type": "stream",
     "text": [
      "Enter Principle amount:5000\n",
      "Enter rate amount:5.5\n",
      "Enter time in years:2\n",
      "Total amount of the given Principle 5000 is: 5550.0\n"
     ]
    }
   ],
   "source": [
    "#WAF get_amount() that takes Principle, Rate and Time as arguments and returns the\n",
    "#Total amount using the get_si() function from above to calculate the SI. Also provide\n",
    "#Rate = 10 and Time = 1 as default arguments. \n",
    "def get_si(p,r,t):\n",
    "    si=(p*r*t)/100\n",
    "    return si\n",
    "def get_amount(amt,rate=10,time=1):\n",
    "    return amt + get_si(amt,rate,time)\n",
    "\n",
    "pr=input('Enter Principle amount:')\n",
    "rt=input('Enter rate amount:')\n",
    "tm=input('Enter time in years:')\n",
    "if pr.replace('.','',1).isdigit() and rt.replace('.','',1).isdigit() and tm.replace('.','',1).isdigit():\n",
    "    print(f'Total amount of the given Principle {pr} is: {float(get_amount(float(pr),float(rt),float(tm)))}')\n",
    "else:\n",
    "    print('Enter valid values of inputs')\n",
    "    "
   ]
  },
  {
   "cell_type": "code",
   "execution_count": 8,
   "metadata": {},
   "outputs": [
    {
     "name": "stdout",
     "output_type": "stream",
     "text": [
      "Enter Principle amount:5000\n",
      "Enter rate amount:10\n",
      "Enter time in years:5\n",
      "Compound interest of the given Principle 5000, rate 10 and time 5 years is: 8052.550000000003\n"
     ]
    }
   ],
   "source": [
    "#WAP get_ci() that takes Principle, Rate and Time as arguments and returns the Compound Interest. \n",
    "def get_ci(p,r,t):\n",
    "    ci=p*(pow((1+r/100),t))\n",
    "    return ci\n",
    "\n",
    "pr=input('Enter Principle amount:')\n",
    "rt=input('Enter rate amount:')\n",
    "tm=input('Enter time in years:')\n",
    "if pr.replace('.','',1).isdigit() and rt.replace('.','',1).isdigit() and tm.replace('.','',1).isdigit():\n",
    "    print(f'Compound interest of the given Principle {pr}, rate {rt} and time {tm} years is: {float(get_ci(float(pr),float(rt),float(tm)))}')\n",
    "else:\n",
    "    print('Enter valid values of inputs')"
   ]
  },
  {
   "cell_type": "code",
   "execution_count": 10,
   "metadata": {},
   "outputs": [
    {
     "name": "stdout",
     "output_type": "stream",
     "text": [
      "Input the first number: 10\n",
      "Input the second number:3\n",
      "The quotient and remainder of the given numbers are: ((3, 1), <class 'tuple'>)\n"
     ]
    }
   ],
   "source": [
    "#WAP get_q_r() taking 2 numbers as parameters and returns the quotient and remainder in the form of a tuple.\n",
    "def get_q_r(strval1,strval2):\n",
    "    print(f'The quotient and remainder of the given numbers are: {(strval1//strval2 , strval1%strval2), type((strval1//strval2 , strval1%strval2))}')\n",
    "    \n",
    "val1=input('Input the first number: ')\n",
    "val2=input('Input the second number:')\n",
    "if val1.isdigit() and val2.isdigit():\n",
    "    get_q_r(int(val1),int(val2))\n",
    "else:\n",
    "    print('check the number inputs')"
   ]
  },
  {
   "cell_type": "code",
   "execution_count": 11,
   "metadata": {},
   "outputs": [
    {
     "name": "stdout",
     "output_type": "stream",
     "text": [
      "Enter height of a right angled triangle:3\n",
      "Enter base of a right angled triangle:4\n",
      "Hypotenuse of a right angled triangle of the given height 3 and base 4 is: 5.0\n"
     ]
    }
   ],
   "source": [
    "#find the length of hypotenuse of a right angled triangle, input the height and base from user.\n",
    "from math import sqrt\n",
    "def get_hypotenuse(h,b):\n",
    "    ht=sqrt(h**2+b**2)\n",
    "    return ht\n",
    "\n",
    "hi=input('Enter height of a right angled triangle:')\n",
    "bs=input('Enter base of a right angled triangle:')\n",
    "if hi.replace('.','',1).isdigit() and bs.replace('.','',1).isdigit():\n",
    "    print(f'Hypotenuse of a right angled triangle of the given height {hi} and base {bs} is: {float(get_hypotenuse(float(hi),float(bs)))}')\n",
    "else:\n",
    "    print('Enter valid values of inputs')"
   ]
  },
  {
   "cell_type": "code",
   "execution_count": 13,
   "metadata": {},
   "outputs": [
    {
     "name": "stdout",
     "output_type": "stream",
     "text": [
      "Enter seconds to convert:10000\n",
      "0 day 2 hour 46 minute 40 second\n"
     ]
    }
   ],
   "source": [
    "#WAP to input number of seconds and print in days, hours, minutes and seconds\n",
    "#ex: input = 10000\n",
    "#Output = 0 day 2 hour 46 minute 40 second\n",
    "def convert_sec(sec):\n",
    "    day=sec//(24*60*60)\n",
    "    dayr=sec%(24*60*60)\n",
    "    hr=dayr//(60*60)\n",
    "    hrr=dayr%(60*60)\n",
    "    min=hrr//60\n",
    "    secr=hrr%60\n",
    "    print(f'{day} day {hr} hour {min} minute {secr} second')\n",
    "\n",
    "s=input('Enter seconds to convert:')\n",
    "if s.isdigit():\n",
    "    convert_sec(int(s))\n",
    "else:\n",
    "    print('Enter proper value')"
   ]
  },
  {
   "cell_type": "code",
   "execution_count": 17,
   "metadata": {},
   "outputs": [
    {
     "name": "stdout",
     "output_type": "stream",
     "text": [
      "You are running Python version: 3.8\n"
     ]
    }
   ],
   "source": [
    "#Check your version of python interpreter without opening the interpreter (Which\n",
    "#command needs to be used on the command line). \n",
    "#python --version\n",
    "\n",
    "import sys\n",
    "def check_ver():\n",
    "    print (f'You are running Python version: {sys.version[:3]}')\n",
    "\n",
    "check_ver()"
   ]
  },
  {
   "cell_type": "code",
   "execution_count": 18,
   "metadata": {},
   "outputs": [
    {
     "name": "stdout",
     "output_type": "stream",
     "text": [
      "2 -2\n"
     ]
    }
   ],
   "source": [
    "X=2\n",
    "X*=3\n",
    "X=X%4\n",
    "Y=-X\n",
    "print(X,Y)"
   ]
  },
  {
   "cell_type": "code",
   "execution_count": 19,
   "metadata": {},
   "outputs": [
    {
     "name": "stdout",
     "output_type": "stream",
     "text": [
      "None\n"
     ]
    }
   ],
   "source": [
    "def funct():\n",
    "    pass\n",
    "print(funct())"
   ]
  }
 ],
 "metadata": {
  "kernelspec": {
   "display_name": "Python 3",
   "language": "python",
   "name": "python3"
  },
  "language_info": {
   "codemirror_mode": {
    "name": "ipython",
    "version": 3
   },
   "file_extension": ".py",
   "mimetype": "text/x-python",
   "name": "python",
   "nbconvert_exporter": "python",
   "pygments_lexer": "ipython3",
   "version": "3.8.3"
  }
 },
 "nbformat": 4,
 "nbformat_minor": 4
}
