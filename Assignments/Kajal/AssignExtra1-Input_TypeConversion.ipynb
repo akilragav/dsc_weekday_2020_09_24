{
 "cells": [
  {
   "cell_type": "code",
   "execution_count": 18,
   "metadata": {},
   "outputs": [
    {
     "name": "stdout",
     "output_type": "stream",
     "text": [
      "Enter a temperature in Fahrenheit: 98.6\n",
      "The Celsius temperature of Fahrenheit temparature 98.6 is 37.0\n"
     ]
    }
   ],
   "source": [
    "f=input(\"Enter a temperature in Fahrenheit: \")\n",
    "if f.replace('.','',1).isdigit():\n",
    "    f=float(f)\n",
    "    c=(f-32)*5/9\n",
    "    print(f'The Celsius temperature of Fahrenheit temparature {f} is {c}')\n",
    "else:\n",
    "    print('Enter proper value')"
   ]
  },
  {
   "cell_type": "code",
   "execution_count": 20,
   "metadata": {},
   "outputs": [
    {
     "name": "stdout",
     "output_type": "stream",
     "text": [
      "Enter a number: 3\n",
      "9\n",
      "27\n"
     ]
    }
   ],
   "source": [
    "n=input('Enter a number: ')\n",
    "if n.isdigit():\n",
    "    n=int(n)\n",
    "    print(n**2)\n",
    "    print(n**3)\n",
    "else:\n",
    "    print('Enter a valid number.')"
   ]
  },
  {
   "cell_type": "code",
   "execution_count": 22,
   "metadata": {},
   "outputs": [
    {
     "name": "stdout",
     "output_type": "stream",
     "text": [
      "Enter 1st number: 2\n",
      "Enter 2nd number: 3\n",
      "13\n"
     ]
    }
   ],
   "source": [
    "n=input('Enter 1st number: ')\n",
    "m=input('Enter 2nd number: ')\n",
    "if n.isdigit() and m.isdigit():\n",
    "    n=int(n)\n",
    "    m=int(m)\n",
    "    print(n**2+m**2)\n",
    "else:\n",
    "    print('Please enter input numbers')"
   ]
  },
  {
   "cell_type": "code",
   "execution_count": 24,
   "metadata": {},
   "outputs": [
    {
     "name": "stdout",
     "output_type": "stream",
     "text": [
      "Enter 1st number: 3\n",
      "Enter 2nd number: 2\n",
      "9\n",
      "9\n"
     ]
    }
   ],
   "source": [
    "M=input('Enter 1st number: ')\n",
    "N=input('Enter 2nd number: ')\n",
    "if M.isdigit() and N.isdigit():\n",
    "    M=int(M)\n",
    "    N=int(N)\n",
    "    print(M**N)\n",
    "    print(pow(M,N))\n",
    "else:\n",
    "    print('Please enter input numbers')"
   ]
  },
  {
   "cell_type": "code",
   "execution_count": 26,
   "metadata": {},
   "outputs": [
    {
     "name": "stdout",
     "output_type": "stream",
     "text": [
      "Enter Principal: 100\n",
      "Enter Rate: 10\n",
      "Enter Time: 1\n",
      "Compound Interest: 110.00000000000001\n"
     ]
    }
   ],
   "source": [
    "P=input('Enter Principal: ')\n",
    "R=input('Enter Rate: ')\n",
    "T=input('Enter Time: ')\n",
    "if P.replace('.','',1).isdigit() and R.replace('.','',1).isdigit() and T.replace('.','',1).isdigit():\n",
    "    P=float(P)\n",
    "    R=float(R)\n",
    "    T=float(T)\n",
    "    CI=P*(pow((1+R/100),T))\n",
    "    print(f'Compound Interest: {CI}')\n",
    "else:\n",
    "    print('Enter valid values of inputs')"
   ]
  },
  {
   "cell_type": "code",
   "execution_count": 32,
   "metadata": {},
   "outputs": [
    {
     "name": "stdout",
     "output_type": "stream",
     "text": [
      "Enter a number: 5\n",
      "Sum of 5 natural numbers is 15.0\n"
     ]
    }
   ],
   "source": [
    "n=input('Enter a number: ')\n",
    "if n.isdigit():\n",
    "    n=int(n)\n",
    "    s=n*(n+1)/2\n",
    "    print(f'Sum of {n} natural numbers is {s}')\n",
    "else:\n",
    "    print('Enter a valid number')"
   ]
  },
  {
   "cell_type": "code",
   "execution_count": 34,
   "metadata": {},
   "outputs": [
    {
     "name": "stdout",
     "output_type": "stream",
     "text": [
      "Enter 1st number: 5\n",
      "Enter 2nd number: 10\n",
      "The revised numbers are 10 and 5\n"
     ]
    }
   ],
   "source": [
    "# Reversing numbers using temp variables\n",
    "num1=input('Enter 1st number: ')\n",
    "num2=input('Enter 2nd number: ')\n",
    "if num1.isdigit() and num2.isdigit():\n",
    "    num1=int(num1)\n",
    "    num2=int(num2)    \n",
    "    temp=num1\n",
    "    num1=num2\n",
    "    num2=temp\n",
    "    print(f'The revised numbers are {num1} and {num2}')\n",
    "else:\n",
    "    print('Please enter valid numbers')"
   ]
  },
  {
   "cell_type": "code",
   "execution_count": 35,
   "metadata": {},
   "outputs": [
    {
     "name": "stdout",
     "output_type": "stream",
     "text": [
      "Enter 1st number: 5\n",
      "Enter 2nd number: 10\n",
      "The revised numbers are 10 and 5\n"
     ]
    }
   ],
   "source": [
    "# Reversing numbers without using temp variables\n",
    "num1=input('Enter 1st number: ')\n",
    "num2=input('Enter 2nd number: ')\n",
    "if num1.isdigit() and num2.isdigit():\n",
    "    num1=int(num1)\n",
    "    num2=int(num2)    \n",
    "    num1,num2=num2,num1\n",
    "    print(f'The revised numbers are {num1} and {num2}')\n",
    "else:\n",
    "    print('Please enter valid numbers')"
   ]
  },
  {
   "cell_type": "code",
   "execution_count": 37,
   "metadata": {},
   "outputs": [
    {
     "name": "stdout",
     "output_type": "stream",
     "text": [
      "32\n",
      "9\n",
      "10\n",
      "11\n",
      "12\n",
      "13\n"
     ]
    }
   ],
   "source": [
    "# Ascii character values of all white space characters in Python\n",
    "print(ord(' '))\n",
    "print(ord('\\t'))\n",
    "print(ord('\\n'))\n",
    "print(ord('\\v'))\n",
    "print(ord('\\f'))\n",
    "print(ord('\\r'))"
   ]
  },
  {
   "cell_type": "code",
   "execution_count": 38,
   "metadata": {},
   "outputs": [
    {
     "name": "stdout",
     "output_type": "stream",
     "text": [
      "Enter a single character: A\n",
      "65\n"
     ]
    }
   ],
   "source": [
    "x=input('Enter a single character: ')\n",
    "if len(x)>0:\n",
    "    print(ord(x))\n",
    "else:\n",
    "    print('Enter a valid character.')"
   ]
  },
  {
   "cell_type": "code",
   "execution_count": 43,
   "metadata": {},
   "outputs": [
    {
     "name": "stdout",
     "output_type": "stream",
     "text": [
      "Enter area of a circle: 81\n",
      "Radius and Perimeter of the given area of a cirlce are 5.078993831847903 and 31.89608126400483\n"
     ]
    }
   ],
   "source": [
    "import math\n",
    "A=input('Enter area of a circle: ')\n",
    "if A.replace('.','',1).isdigit():\n",
    "    A=float(A)\n",
    "    R=math.sqrt(A/3.14)\n",
    "    P=2*3.14*R\n",
    "    print(f'Radius and Perimeter of the given area of a cirlce are {R} and {P}')\n",
    "else:\n",
    "    print('Please input valid circle area')    "
   ]
  },
  {
   "cell_type": "code",
   "execution_count": 45,
   "metadata": {},
   "outputs": [
    {
     "name": "stdout",
     "output_type": "stream",
     "text": [
      "Enter marks of 1st subject: 65\n",
      "Enter marks of 2nd subject: 81\n",
      "Enter marks of 3rd subject: 75\n",
      "Enter marks of 4th subject: 56\n",
      "Enter marks of 5th subject: 60\n",
      "Percentage of marks obtained in 5 subjects is 67.4%\n"
     ]
    }
   ],
   "source": [
    "sub1=input('Enter marks of 1st subject: ')\n",
    "sub2=input('Enter marks of 2nd subject: ')\n",
    "sub3=input('Enter marks of 3rd subject: ')\n",
    "sub4=input('Enter marks of 4th subject: ')\n",
    "sub5=input('Enter marks of 5th subject: ')\n",
    "if sub1.replace('.','',1).isdigit() and sub2.replace('.','',1).isdigit() and sub3.replace('.','',1).isdigit() and sub4.replace('.','',1).isdigit() and sub5.replace('.','',1).isdigit():\n",
    "    sub1=float(sub1)\n",
    "    sub2=float(sub2)\n",
    "    sub3=float(sub3)\n",
    "    sub4=float(sub4)\n",
    "    sub5=float(sub5)\n",
    "    percentage=(sub1+sub2+sub3+sub4+sub5)/500*100\n",
    "    print(f'Percentage of marks obtained in 5 subjects is {percentage}%')\n",
    "else:\n",
    "    print('Check and put valid marks')"
   ]
  }
 ],
 "metadata": {
  "kernelspec": {
   "display_name": "Python 3",
   "language": "python",
   "name": "python3"
  },
  "language_info": {
   "codemirror_mode": {
    "name": "ipython",
    "version": 3
   },
   "file_extension": ".py",
   "mimetype": "text/x-python",
   "name": "python",
   "nbconvert_exporter": "python",
   "pygments_lexer": "ipython3",
   "version": "3.8.3"
  }
 },
 "nbformat": 4,
 "nbformat_minor": 4
}
