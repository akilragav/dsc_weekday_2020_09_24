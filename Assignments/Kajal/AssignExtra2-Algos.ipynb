{
 "cells": [
  {
   "cell_type": "code",
   "execution_count": 11,
   "metadata": {},
   "outputs": [
    {
     "name": "stdout",
     "output_type": "stream",
     "text": [
      "Enter a list values: 1 2 3 4 5\n",
      "['5', '4', '3', '4', '5']\n"
     ]
    }
   ],
   "source": [
    "def reverse_list(lst):\n",
    "    lnlst= len(lst)\n",
    "    ei=lnlst-1\n",
    "    for x in range(0, int(lnlst/2)):\n",
    "        lst[x], lst[ei-x]=lst[ei-x], lst[ei-x]\n",
    "    return lst\n",
    "\n",
    "x= input('Enter a list values: ')\n",
    "x= x.split(' ')\n",
    "#x=[11, 27, -1, -5, 4, 3] \n",
    "if len(x)>0:\n",
    "    x=reverse_list(x)\n",
    "    print(x)\n",
    "else:\n",
    "    print('Enter proper list values')\n",
    "        "
   ]
  },
  {
   "cell_type": "code",
   "execution_count": 23,
   "metadata": {},
   "outputs": [
    {
     "name": "stdout",
     "output_type": "stream",
     "text": [
      "Enter a list values: 1 2 3 4 5\n",
      "Even count is: 2 and Odd count is: 3\n"
     ]
    }
   ],
   "source": [
    "def count_even_odd(lst):\n",
    "    lnlst= len(lst)\n",
    "    evencnt=0\n",
    "    oddcnt=0\n",
    "    for x in range(0, lnlst):\n",
    "        if int(lst[x])%2==0:\n",
    "            evencnt+=1\n",
    "        else:\n",
    "            oddcnt+=1\n",
    "    print(f'Even count is: {evencnt} and Odd count is: {oddcnt}')\n",
    "\n",
    "x= input('Enter a list values: ')\n",
    "x= x.split(' ')\n",
    "#x=[11, 27, -1, -5, 4, 3] \n",
    "if len(x)>0:\n",
    "    count_even_odd(x)\n",
    "else:\n",
    "    print('Enter proper list values')"
   ]
  },
  {
   "cell_type": "code",
   "execution_count": 25,
   "metadata": {},
   "outputs": [
    {
     "name": "stdout",
     "output_type": "stream",
     "text": [
      "Enter a list values: 11 27 -1 -5 4 3\n",
      "Maximum number in the list is: 27\n"
     ]
    }
   ],
   "source": [
    "def maximum(lst):\n",
    "    lnlst= len(lst)\n",
    "    maxnum=0\n",
    "    for x in range(0, lnlst):\n",
    "        if int(lst[x])> int(maxnum):\n",
    "            maxnum=lst[x]\n",
    "    print(f'Maximum number in the list is: {maxnum}')\n",
    "\n",
    "x= input('Enter a list values: ')\n",
    "x= x.split(' ')\n",
    "#x=[11, 27, -1, -5, 4, 3] \n",
    "if len(x)>0:\n",
    "    maximum(x)\n",
    "else:\n",
    "    print('Enter proper list values')"
   ]
  },
  {
   "cell_type": "code",
   "execution_count": 30,
   "metadata": {},
   "outputs": [
    {
     "name": "stdout",
     "output_type": "stream",
     "text": [
      "Enter a list values: 11 27 -1 -5 4 3\n",
      "Second largest number in the list is: 11\n"
     ]
    }
   ],
   "source": [
    "def second_maximum(lst):\n",
    "    lnlst= len(lst)\n",
    "    maxnum=0\n",
    "    secnum=0\n",
    "    for x in range(0, lnlst):\n",
    "        if int(lst[x])>int(maxnum):\n",
    "            secnum=maxnum\n",
    "            maxnum=lst[x]            \n",
    "        else:\n",
    "            if int(lst[x])>int(secnum):\n",
    "                secnum=lst[x]\n",
    "                \n",
    "    print(f'Second largest number in the list is: {secnum}')\n",
    "\n",
    "x= input('Enter a list values: ')\n",
    "x= x.split(' ')\n",
    "#x=[11, 27, -1, -5, 4, 3] \n",
    "if len(x)>0:\n",
    "    second_maximum(x)\n",
    "else:\n",
    "    print('Enter proper list values')\n",
    "\n"
   ]
  },
  {
   "cell_type": "code",
   "execution_count": 33,
   "metadata": {},
   "outputs": [
    {
     "name": "stdout",
     "output_type": "stream",
     "text": [
      "Enter a list values: 11 27 -1 -5 7 3\n",
      "Mean of the numbers in the list is: 7.0\n"
     ]
    }
   ],
   "source": [
    "def mean(lst):\n",
    "    lnlst= len(lst)\n",
    "    cnt=0\n",
    "    sum=0\n",
    "    for x in range(0, lnlst):\n",
    "        sum+=int(lst[x])\n",
    "        cnt+=1\n",
    "                \n",
    "    print(f'Mean of the numbers in the list is: {sum/cnt}')\n",
    "\n",
    "x= input('Enter a list values: ')\n",
    "x= x.split(' ')\n",
    "#x=[11, 27, -1, -5, 4, 3] \n",
    "if len(x)>0:\n",
    "    mean(x)\n",
    "else:\n",
    "    print('Enter proper list values')"
   ]
  },
  {
   "cell_type": "code",
   "execution_count": 39,
   "metadata": {},
   "outputs": [
    {
     "name": "stdout",
     "output_type": "stream",
     "text": [
      "Enter a list values: 3 10 5 8 2 7\n",
      "Enter a start number: 5\n",
      "Enter a end number: 10\n",
      "A list of numbers from the original list, which lie between start 5 and end 10 are: [5, 8, 7]\n"
     ]
    }
   ],
   "source": [
    "def find_in_range(lst, start, end):\n",
    "    lnlst= len(lst)\n",
    "    cnt=0\n",
    "    sum=0\n",
    "    retlist =[]\n",
    "    for x in range(0,lnlst):\n",
    "        if int(lst[x]) in range(start, end):\n",
    "            retlist.append(int(lst[x]))\n",
    "            \n",
    "    return retlist\n",
    "\n",
    "x= input('Enter a list values: ')\n",
    "y= int(input('Enter a start number: '))\n",
    "z= int(input('Enter a end number: '))\n",
    "x= x.split(' ')\n",
    "#x=[3,10, 5, 8, 2, 7] \n",
    "if len(x)>0:\n",
    "    x=find_in_range(x,y,z)\n",
    "    print(f'A list of numbers from the original list, which lie between start {y} and end {z} are: {x}')\n",
    "else:\n",
    "    print('Enter proper list values')"
   ]
  }
 ],
 "metadata": {
  "kernelspec": {
   "display_name": "Python 3",
   "language": "python",
   "name": "python3"
  },
  "language_info": {
   "codemirror_mode": {
    "name": "ipython",
    "version": 3
   },
   "file_extension": ".py",
   "mimetype": "text/x-python",
   "name": "python",
   "nbconvert_exporter": "python",
   "pygments_lexer": "ipython3",
   "version": "3.8.3"
  }
 },
 "nbformat": 4,
 "nbformat_minor": 4
}
