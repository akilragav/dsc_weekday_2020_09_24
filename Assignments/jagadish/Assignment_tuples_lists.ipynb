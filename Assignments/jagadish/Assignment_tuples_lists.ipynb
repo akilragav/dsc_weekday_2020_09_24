{
 "cells": [
  {
   "cell_type": "markdown",
   "metadata": {},
   "source": [
    "# Assignments04_tuple_list"
   ]
  },
  {
   "cell_type": "code",
   "execution_count": 3,
   "metadata": {},
   "outputs": [
    {
     "name": "stdout",
     "output_type": "stream",
     "text": [
      "[1, 2, 3, 4, 5]\n"
     ]
    }
   ],
   "source": [
    "# 1. Convert a Tuple t = (1,2,3,4,5) to a list\n",
    "t = (1,2,3,4,5)\n",
    "list_s = list(t)\n",
    "print(list_s)"
   ]
  },
  {
   "cell_type": "code",
   "execution_count": 4,
   "metadata": {},
   "outputs": [
    {
     "name": "stdout",
     "output_type": "stream",
     "text": [
      "[1, 3, 5, 7, 8, 6, 4, 2]\n"
     ]
    }
   ],
   "source": [
    "# 2. WAP to join a list and a tuple:\n",
    "# L = [1,3,5,7]\n",
    "# T = (8,6,4,2)\n",
    "# Store the result in a list LS\n",
    "\n",
    "L = [1,3,5,7]\n",
    "T = (8,6,4,2)\n",
    "list_t = list(T)\n",
    "LS = L + list_t\n",
    "print(LS)\n"
   ]
  },
  {
   "cell_type": "code",
   "execution_count": 6,
   "metadata": {},
   "outputs": [],
   "source": [
    "# 3. What is difference between list and tuple.\n",
    "# 1. Mutable List-----Immutable Tuples\n",
    "# 2. Lists has variable length-----Tuple has fixed length."
   ]
  },
  {
   "cell_type": "code",
   "execution_count": 13,
   "metadata": {},
   "outputs": [
    {
     "name": "stdout",
     "output_type": "stream",
     "text": [
      "['C', 'A', 'c', 'd', 'a']\n",
      "['C', 'A', 'c', 'd', 'a']\n"
     ]
    }
   ],
   "source": [
    "# 4. Print the list in reverse order\n",
    "# # l = [‘a’, ‘d’, ‘c’, ‘A’, ‘C’]\n",
    "\n",
    "l = ['a','d','c','A','C']\n",
    "l = l[::-1]\n",
    "print(l)\n",
    "\n",
    "l1=['a','d','c','A','C']\n",
    "l1.reverse()\n",
    "print(l1)"
   ]
  },
  {
   "cell_type": "code",
   "execution_count": 18,
   "metadata": {},
   "outputs": [
    {
     "name": "stdout",
     "output_type": "stream",
     "text": [
      "[11, 21, 31, 41]\n"
     ]
    }
   ],
   "source": [
    "# 5. Print Elements at Odd indexes from a list (Do not use loop)\n",
    "# l = [10,11,20, 21,30, 31, 40, 41]\n",
    "\n",
    "l = [10,11,20, 21,30, 31, 40, 41]\n",
    "ls = l[1::2]\n",
    "print(ls)"
   ]
  },
  {
   "cell_type": "code",
   "execution_count": 19,
   "metadata": {},
   "outputs": [
    {
     "name": "stdout",
     "output_type": "stream",
     "text": [
      "[10, 11, 20, 21, 30, 31, 40, 41]\n",
      "[10, 11, 20, 21, 30, 31, 40, 41]\n"
     ]
    }
   ],
   "source": [
    "#6) number of ways to copy a list\n",
    "\n",
    "n=[10,11,20,21,30,31,40,41]\n",
    "\n",
    "# i) direct copy\n",
    "new=n\n",
    "print(n)\n",
    "\n",
    "#2) using the copy\n",
    "t=n.copy()\n",
    "print(t)"
   ]
  },
  {
   "cell_type": "code",
   "execution_count": 20,
   "metadata": {},
   "outputs": [
    {
     "name": "stdout",
     "output_type": "stream",
     "text": [
      "a\n",
      "5\n"
     ]
    }
   ],
   "source": [
    "# 7. Predict output\n",
    "\n",
    "n_lst=[\"Happy\",[2,0,1,5]]\n",
    "print(n_lst[0][1])    #a\n",
    "print(n_lst[1][3])    #5"
   ]
  },
  {
   "cell_type": "code",
   "execution_count": 21,
   "metadata": {},
   "outputs": [
    {
     "name": "stdout",
     "output_type": "stream",
     "text": [
      "[1, 4, 6, 8]\n",
      "[1, 3, 5, 7]\n"
     ]
    }
   ],
   "source": [
    "# 8. Predict output\n",
    "odd=[2,4,6,8]\n",
    "odd[0]=1  #[1,4,6,8]\n",
    "print(odd)\n",
    "\n",
    "odd[1:4]=[3,5,7] #[1,3,5,7]\n",
    "print(odd)"
   ]
  },
  {
   "cell_type": "code",
   "execution_count": 22,
   "metadata": {},
   "outputs": [
    {
     "name": "stdout",
     "output_type": "stream",
     "text": [
      "[1, 3, 5, [7, 9]]\n",
      "[1, 3, 5, [7, 9], 11, 13]\n"
     ]
    }
   ],
   "source": [
    "# 9. Predict output\n",
    "odd=[1,3,5]\n",
    "odd.append([7,9])  #[1,3,5,7,9]\n",
    "print(odd)\n",
    "odd.extend([11,13])  #[1,3,5,7,9,11,13] \n",
    "print(odd)"
   ]
  },
  {
   "cell_type": "code",
   "execution_count": 23,
   "metadata": {},
   "outputs": [
    {
     "name": "stdout",
     "output_type": "stream",
     "text": [
      "<class 'tuple'>\n",
      "<class 'int'>\n",
      "<class 'int'>\n",
      "<class 'tuple'>\n"
     ]
    }
   ],
   "source": [
    "# 10. notePredict output\n",
    "x=1,2,3\n",
    "print(type(x))  # Tuple, by default since we did not mention it as list, the input was taken as tuple\n",
    "\n",
    "x=(1)\n",
    "print(type(x)) # int, since it has one element, it is treated as int\n",
    "\n",
    "x=1\n",
    "print(type(x))  # int\n",
    "\n",
    "\n",
    "x=1,\n",
    "print(type(x)) # Tuple since this has a comma at the end, it denotes its a tuple"
   ]
  },
  {
   "cell_type": "code",
   "execution_count": 27,
   "metadata": {},
   "outputs": [
    {
     "name": "stdout",
     "output_type": "stream",
     "text": [
      "1 2 3  \n",
      "4 5 6  \n",
      "7 8 9  \n"
     ]
    }
   ],
   "source": [
    "# 11. Try to represent a matrix with following data in python:\n",
    "\n",
    "for i in range(1,10):\n",
    "    print(i, end=\" \")\n",
    "    \n",
    "    if i%3 == 0:\n",
    "        print(\" \")"
   ]
  },
  {
   "cell_type": "code",
   "execution_count": 33,
   "metadata": {},
   "outputs": [
    {
     "name": "stdout",
     "output_type": "stream",
     "text": [
      "1 2 3\n",
      "4 5 6\n",
      "7 8 9\n"
     ]
    }
   ],
   "source": [
    "for i in range(1,10):\n",
    "    if i%3==0:\n",
    "        print(i)\n",
    "    else:\n",
    "        print(i, end=\" \")"
   ]
  },
  {
   "cell_type": "code",
   "execution_count": 43,
   "metadata": {},
   "outputs": [
    {
     "name": "stdout",
     "output_type": "stream",
     "text": [
      "('s', 't', 'r', 'i', 'n', 'g')\n",
      "('g', 'n', 'i', 'r', 't', 's')\n",
      "('g', 'i', 't')\n",
      "('n', 's')\n"
     ]
    }
   ],
   "source": [
    "# 12. Predict output\n",
    "t=tuple(\"string\")\n",
    "print(t)  # ('s','t','r','i','n','g')\n",
    "print(t[::-1])\n",
    "print(t[::-2])# increment of 2 from reverse\n",
    "print(t[::2][::-2]) # increment of 2 from beginning and 2 from backwards so ('n', 's')"
   ]
  },
  {
   "cell_type": "code",
   "execution_count": 44,
   "metadata": {},
   "outputs": [
    {
     "name": "stdout",
     "output_type": "stream",
     "text": [
      "True\n",
      "False\n",
      "2\n",
      "3\n"
     ]
    }
   ],
   "source": [
    "# 13. Predict output\n",
    "\n",
    "t=tuple([10,20,30,40,50,60,10])\n",
    "print(60 in t)\n",
    "print('60' in t)\n",
    "print(t.count(10))\n",
    "print(t.index(40))"
   ]
  },
  {
   "cell_type": "code",
   "execution_count": 51,
   "metadata": {},
   "outputs": [
    {
     "name": "stdout",
     "output_type": "stream",
     "text": [
      "Enter a string: malayalam\n",
      "string is palindrome\n"
     ]
    }
   ],
   "source": [
    "# 14. Write a program to input a string and print if it is palindrome or not.\n",
    "\n",
    "s = input(\"Enter a string: \")\n",
    "\n",
    "\n",
    "if s[::1] == s[::-1]:\n",
    "    print(\"string is palindrome\")\n",
    "else:\n",
    "    print(\"string is not a plaindrome\")\n",
    "        \n",
    "\n"
   ]
  },
  {
   "cell_type": "code",
   "execution_count": 100,
   "metadata": {},
   "outputs": [
    {
     "name": "stdout",
     "output_type": "stream",
     "text": [
      "(5,)\n",
      "(5, 10)\n",
      "(5, 10, 15)\n",
      "(5, 10, 15, 20)\n",
      "[5, 10, 15, 20]\n",
      "(20, 15, 10, 5)\n"
     ]
    }
   ],
   "source": [
    "# 15. Use the range method and create a tuple containing the following values:\n",
    "# (20, 15, 10, 5)\n",
    "t = ()\n",
    "for i in range(5,21):\n",
    "    if i % 5 == 0:\n",
    "        t += (i,)\n",
    "        print(t)\n",
    "        \n",
    "list1 = list(t)\n",
    "print(list(t))\n",
    "t = tuple(list1[::-1])\n",
    "print(t)\n",
    "\n",
    "    "
   ]
  },
  {
   "cell_type": "code",
   "execution_count": 96,
   "metadata": {},
   "outputs": [
    {
     "name": "stdout",
     "output_type": "stream",
     "text": [
      "Enter a string: hello\n",
      "['h', 'e', 'l', 'l', 'o']\n"
     ]
    }
   ],
   "source": [
    "# 16. WAP to convert string to list of characters.\n",
    "\n",
    "s = input(\"Enter a string: \")\n",
    "list1 = list(s)\n",
    "print(list1)\n",
    "    "
   ]
  },
  {
   "cell_type": "code",
   "execution_count": 98,
   "metadata": {},
   "outputs": [
    {
     "name": "stdout",
     "output_type": "stream",
     "text": [
      "<class 'list'>\n",
      "<class 'NoneType'>\n",
      "<class 'str'>\n",
      "<class 'bool'>\n"
     ]
    }
   ],
   "source": [
    "# 17. What is the return type of:\n",
    "print(type('1,2'.split()))\n",
    "print(type([1,2,3].sort()))\n",
    "print(type('abc'.upper()))\n",
    "print(type(1 in [1,2]))"
   ]
  },
  {
   "cell_type": "code",
   "execution_count": null,
   "metadata": {},
   "outputs": [],
   "source": []
  }
 ],
 "metadata": {
  "kernelspec": {
   "display_name": "Python 3",
   "language": "python",
   "name": "python3"
  },
  "language_info": {
   "codemirror_mode": {
    "name": "ipython",
    "version": 3
   },
   "file_extension": ".py",
   "mimetype": "text/x-python",
   "name": "python",
   "nbconvert_exporter": "python",
   "pygments_lexer": "ipython3",
   "version": "3.7.6"
  }
 },
 "nbformat": 4,
 "nbformat_minor": 4
}
