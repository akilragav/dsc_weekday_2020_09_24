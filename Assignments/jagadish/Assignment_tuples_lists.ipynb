{
 "cells": [
  {
   "cell_type": "markdown",
   "metadata": {},
   "source": [
    "# Assignments04_tuple_list"
   ]
  },
  {
   "cell_type": "code",
   "execution_count": 3,
   "metadata": {},
   "outputs": [
    {
     "name": "stdout",
     "output_type": "stream",
     "text": [
      "[1, 2, 3, 4, 5]\n"
     ]
    }
   ],
   "source": [
    "# 1. Convert a Tuple t = (1,2,3,4,5) to a list\n",
    "t = (1,2,3,4,5)\n",
    "list_s = list(t)\n",
    "print(list_s)"
   ]
  },
  {
   "cell_type": "code",
   "execution_count": 4,
   "metadata": {},
   "outputs": [
    {
     "name": "stdout",
     "output_type": "stream",
     "text": [
      "[1, 3, 5, 7, 8, 6, 4, 2]\n"
     ]
    }
   ],
   "source": [
    "# 2. WAP to join a list and a tuple:\n",
    "# L = [1,3,5,7]\n",
    "# T = (8,6,4,2)\n",
    "# Store the result in a list LS\n",
    "\n",
    "L = [1,3,5,7]\n",
    "T = (8,6,4,2)\n",
    "list_t = list(T)\n",
    "LS = L + list_t\n",
    "print(LS)\n"
   ]
  },
  {
   "cell_type": "code",
   "execution_count": 6,
   "metadata": {},
   "outputs": [],
   "source": [
    "# 3. What is difference between list and tuple.\n",
    "# 1. Mutable List-----Immutable Tuples\n",
    "# 2. Lists has variable length-----Tuple has fixed length."
   ]
  },
  {
   "cell_type": "code",
   "execution_count": 13,
   "metadata": {},
   "outputs": [
    {
     "name": "stdout",
     "output_type": "stream",
     "text": [
      "['C', 'A', 'c', 'd', 'a']\n",
      "['C', 'A', 'c', 'd', 'a']\n"
     ]
    }
   ],
   "source": [
    "# 4. Print the list in reverse order\n",
    "# # l = [‘a’, ‘d’, ‘c’, ‘A’, ‘C’]\n",
    "\n",
    "l = ['a','d','c','A','C']\n",
    "l = l[::-1]\n",
    "print(l)\n",
    "\n",
    "l1=['a','d','c','A','C']\n",
    "l1.reverse()\n",
    "print(l1)"
   ]
  },
  {
   "cell_type": "code",
   "execution_count": 18,
   "metadata": {},
   "outputs": [
    {
     "name": "stdout",
     "output_type": "stream",
     "text": [
      "[11, 21, 31, 41]\n"
     ]
    }
   ],
   "source": [
    "# 5. Print Elements at Odd indexes from a list (Do not use loop)\n",
    "# l = [10,11,20, 21,30, 31, 40, 41]\n",
    "\n",
    "l = [10,11,20, 21,30, 31, 40, 41]\n",
    "ls = l[1::2]\n",
    "print(ls)"
   ]
  },
  {
   "cell_type": "code",
   "execution_count": 19,
   "metadata": {},
   "outputs": [
    {
     "name": "stdout",
     "output_type": "stream",
     "text": [
      "[10, 11, 20, 21, 30, 31, 40, 41]\n",
      "[10, 11, 20, 21, 30, 31, 40, 41]\n"
     ]
    }
   ],
   "source": [
    "#6) number of ways to copy a list\n",
    "\n",
    "n=[10,11,20,21,30,31,40,41]\n",
    "\n",
    "# i) direct copy\n",
    "new=n\n",
    "print(n)\n",
    "\n",
    "#2) using the copy\n",
    "t=n.copy()\n",
    "print(t)"
   ]
  },
  {
   "cell_type": "code",
   "execution_count": 20,
   "metadata": {},
   "outputs": [
    {
     "name": "stdout",
     "output_type": "stream",
     "text": [
      "a\n",
      "5\n"
     ]
    }
   ],
   "source": [
    "# 7. Predict output\n",
    "\n",
    "n_lst=[\"Happy\",[2,0,1,5]]\n",
    "print(n_lst[0][1])    #a\n",
    "print(n_lst[1][3])    #5"
   ]
  },
  {
   "cell_type": "code",
   "execution_count": 21,
   "metadata": {},
   "outputs": [
    {
     "name": "stdout",
     "output_type": "stream",
     "text": [
      "[1, 4, 6, 8]\n",
      "[1, 3, 5, 7]\n"
     ]
    }
   ],
   "source": [
    "# 8. Predict output\n",
    "odd=[2,4,6,8]\n",
    "odd[0]=1  #[1,4,6,8]\n",
    "print(odd)\n",
    "\n",
    "odd[1:4]=[3,5,7] #[1,3,5,7]\n",
    "print(odd)"
   ]
  },
  {
   "cell_type": "code",
   "execution_count": 22,
   "metadata": {},
   "outputs": [
    {
     "name": "stdout",
     "output_type": "stream",
     "text": [
      "[1, 3, 5, [7, 9]]\n",
      "[1, 3, 5, [7, 9], 11, 13]\n"
     ]
    }
   ],
   "source": [
    "# 9. Predict output\n",
    "odd=[1,3,5]\n",
    "odd.append([7,9])  #[1,3,5,7,9]\n",
    "print(odd)\n",
    "odd.extend([11,13])  #[1,3,5,7,9,11,13] \n",
    "print(odd)"
   ]
  },
  {
   "cell_type": "code",
   "execution_count": null,
   "metadata": {},
   "outputs": [],
   "source": [
    "# 10. notePredict output\n"
   ]
  }
 ],
 "metadata": {
  "kernelspec": {
   "display_name": "Python 3",
   "language": "python",
   "name": "python3"
  },
  "language_info": {
   "codemirror_mode": {
    "name": "ipython",
    "version": 3
   },
   "file_extension": ".py",
   "mimetype": "text/x-python",
   "name": "python",
   "nbconvert_exporter": "python",
   "pygments_lexer": "ipython3",
   "version": "3.7.6"
  }
 },
 "nbformat": 4,
 "nbformat_minor": 4
}
