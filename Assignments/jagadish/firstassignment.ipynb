{
 "cells": [
  {
   "cell_type": "code",
   "execution_count": 2,
   "metadata": {},
   "outputs": [
    {
     "name": "stdout",
     "output_type": "stream",
     "text": [
      "Enter the farenheight temp: 70\n",
      "21.11111111111111\n"
     ]
    }
   ],
   "source": [
    "# 1.Input temperature in Fahrenheit in print in Celsius.\n",
    "temp_faren = float(input(\"Enter the farenheight temp: \"))\n",
    "temp_celcius = (temp_faren-32)*5/9\n",
    "print(temp_celcius)"
   ]
  },
  {
   "cell_type": "code",
   "execution_count": 9,
   "metadata": {},
   "outputs": [
    {
     "name": "stdout",
     "output_type": "stream",
     "text": [
      "Enter a number: 3\n",
      "The square and cube of the numbers are:  9 27\n"
     ]
    }
   ],
   "source": [
    "# (2) Write a program to input a number and print its square and cube.\n",
    "num = int(input(\"Enter a number: \"))\n",
    "sqr = num ** 2\n",
    "cube = num ** 3\n",
    "print(\"The square and cube of the numbers are: \" , sqr , cube)"
   ]
  },
  {
   "cell_type": "code",
   "execution_count": 11,
   "metadata": {},
   "outputs": [
    {
     "name": "stdout",
     "output_type": "stream",
     "text": [
      "Enter a number: 4\n",
      "Enter a number: 5\n",
      "41.0\n"
     ]
    }
   ],
   "source": [
    "#3. WAP to input a number n and a number m and print the result of following \n",
    "#n2+m2\n",
    "n = float(input(\"Enter a number: \"))\n",
    "m = float(input(\"Enter a number: \"))\n",
    "res = n**2 + m ** 2\n",
    "print(res)"
   ]
  },
  {
   "cell_type": "code",
   "execution_count": null,
   "metadata": {},
   "outputs": [],
   "source": []
  }
 ],
 "metadata": {
  "kernelspec": {
   "display_name": "Python 3",
   "language": "python",
   "name": "python3"
  }
 },
 "nbformat": 4,
 "nbformat_minor": 4
}
