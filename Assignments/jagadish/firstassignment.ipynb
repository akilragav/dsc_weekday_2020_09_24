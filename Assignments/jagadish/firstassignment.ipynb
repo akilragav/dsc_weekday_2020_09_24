{
 "cells": [
  {
   "cell_type": "markdown",
   "metadata": {},
   "source": [
    "# Assignment01"
   ]
  },
  {
   "cell_type": "code",
   "execution_count": 2,
   "metadata": {},
   "outputs": [
    {
     "name": "stdout",
     "output_type": "stream",
     "text": [
      "Enter the farenheight temp: 70\n",
      "21.11111111111111\n"
     ]
    }
   ],
   "source": [
    "# 1.Input temperature in Fahrenheit in print in Celsius.\n",
    "temp_faren = float(input(\"Enter the farenheight temp: \"))\n",
    "temp_celcius = (temp_faren-32)*5/9\n",
    "print(temp_celcius)"
   ]
  },
  {
   "cell_type": "code",
   "execution_count": 9,
   "metadata": {},
   "outputs": [
    {
     "name": "stdout",
     "output_type": "stream",
     "text": [
      "Enter a number: 3\n",
      "The square and cube of the numbers are:  9 27\n"
     ]
    }
   ],
   "source": [
    "# (2) Write a program to input a number and print its square and cube.\n",
    "num = int(input(\"Enter a number: \"))\n",
    "sqr = num ** 2\n",
    "cube = num ** 3\n",
    "print(\"The square and cube of the numbers are: \" , sqr , cube)"
   ]
  },
  {
   "cell_type": "code",
   "execution_count": 11,
   "metadata": {},
   "outputs": [
    {
     "name": "stdout",
     "output_type": "stream",
     "text": [
      "Enter a number: 4\n",
      "Enter a number: 5\n",
      "41.0\n"
     ]
    }
   ],
   "source": [
    "#3. WAP to input a number n and a number m and print the result of following \n",
    "#n2+m2\n",
    "n = float(input(\"Enter a number: \"))\n",
    "m = float(input(\"Enter a number: \"))\n",
    "res = n**2 + m ** 2\n",
    "print(res)"
   ]
  },
  {
   "cell_type": "code",
   "execution_count": 17,
   "metadata": {},
   "outputs": [
    {
     "name": "stdout",
     "output_type": "stream",
     "text": [
      "Enter a number: 2\n",
      "Enter a number: 3\n",
      "8.0\n",
      "8.0\n"
     ]
    }
   ],
   "source": [
    "# 4. WAP to input a numbers M and N and print result of MN\n",
    "# . (use both ** and pow)\n",
    "M = float(input(\"Enter a number: \"))\n",
    "N = float(input(\"Enter a number: \"))\n",
    "res = M**N\n",
    "res_pow = pow(M,N)\n",
    "print(res)\n",
    "print(res_pow)"
   ]
  },
  {
   "cell_type": "code",
   "execution_count": 19,
   "metadata": {},
   "outputs": [
    {
     "name": "stdout",
     "output_type": "stream",
     "text": [
      "Enter the principal amount: 50000\n",
      "Enter the rate of interest: 10.99\n",
      "Enter the duration: 3.5\n",
      "simple interest is :  19232.5\n"
     ]
    }
   ],
   "source": [
    "#5. Write a simple interest calculator.\n",
    "principal = int(input(\"Enter the principal amount: \"))\n",
    "interest_rate = float(input(\"Enter the rate of interest: \"))\n",
    "period = float(input(\"Enter the duration: \"))\n",
    "simple_interest = (principal*interest_rate*period)/100\n",
    "print('simple interest is : ', simple_interest)"
   ]
  },
  {
   "cell_type": "code",
   "execution_count": 26,
   "metadata": {},
   "outputs": [
    {
     "name": "stdout",
     "output_type": "stream",
     "text": [
      "Enter the principal amount: 10000\n",
      "Enter the rate of interest: 15\n",
      "Enter the time period: 1\n",
      "Enter the no of times of interest in that periopd: 12\n",
      "the total amount is :  11607.54517722998\n",
      "the compound interest is : 1607.5451772299803\n"
     ]
    }
   ],
   "source": [
    "# 6. Input Principal, Rate, Time and print Compound Interest and Amount.\n",
    "\n",
    "principal_amt = float(input('Enter the principal amount: '))\n",
    "rate_of_interest = float(input('Enter the rate of interest: '))\n",
    "rate_of_interest = rate_of_interest/100\n",
    "period = float(input('Enter the time period: '))\n",
    "no_of_times = int(input('Enter the no of times of interest in that periopd: '))\n",
    "total_amt = principal_amt*((1+rate_of_interest/no_of_times)**(period*no_of_times))\n",
    "compound_interest = total_amt - principal_amt\n",
    "print(\"the total amount is : \", total_amt)\n",
    "print('the compound interest is :', compound_interest)"
   ]
  },
  {
   "cell_type": "code",
   "execution_count": null,
   "metadata": {},
   "outputs": [],
   "source": []
  }
 ],
 "metadata": {
  "kernelspec": {
   "display_name": "Python 3",
   "language": "python",
   "name": "python3"
  },
  "language_info": {
   "codemirror_mode": {
    "name": "ipython",
    "version": 3
   },
   "file_extension": ".py",
   "mimetype": "text/x-python",
   "name": "python",
   "nbconvert_exporter": "python",
   "pygments_lexer": "ipython3",
   "version": "3.7.6"
  }
 },
 "nbformat": 4,
 "nbformat_minor": 4
}
