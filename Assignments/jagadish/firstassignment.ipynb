{
 "cells": [
  {
   "cell_type": "markdown",
   "metadata": {},
   "source": [
    "# Assignment01"
   ]
  },
  {
   "cell_type": "code",
   "execution_count": 5,
   "metadata": {},
   "outputs": [
    {
     "name": "stdout",
     "output_type": "stream",
     "text": [
      "Enter the farenheight temp: 70\n",
      "21.11111111111111\n"
     ]
    }
   ],
   "source": [
    "# 1.Input temperature in Fahrenheit in print in Celsius.\n",
    "temp_faren = float(input(\"Enter the farenheight temp: \"))\n",
    "temp_celcius = (temp_faren-32)*5/9\n",
    "print(temp_celcius)"
   ]
  },
  {
   "cell_type": "code",
   "execution_count": 6,
   "metadata": {},
   "outputs": [
    {
     "name": "stdout",
     "output_type": "stream",
     "text": [
      "Enter a number: 3\n",
      "The square and cube of the numbers are:  9 27\n"
     ]
    }
   ],
   "source": [
    "# (2) Write a program to input a number and print its square and cube.\n",
    "num = int(input(\"Enter a number: \"))\n",
    "sqr = num ** 2\n",
    "cube = num ** 3\n",
    "print(\"The square and cube of the numbers are: \" , sqr , cube)"
   ]
  },
  {
   "cell_type": "code",
   "execution_count": 7,
   "metadata": {},
   "outputs": [
    {
     "name": "stdout",
     "output_type": "stream",
     "text": [
      "Enter a number: 2\n",
      "Enter a number: 3\n",
      "13.0\n"
     ]
    }
   ],
   "source": [
    "#3. WAP to input a number n and a number m and print the result of following \n",
    "#n2+m2\n",
    "n = float(input(\"Enter a number: \"))\n",
    "m = float(input(\"Enter a number: \"))\n",
    "res = n**2 + m ** 2\n",
    "print(res)"
   ]
  },
  {
   "cell_type": "code",
   "execution_count": 8,
   "metadata": {},
   "outputs": [
    {
     "name": "stdout",
     "output_type": "stream",
     "text": [
      "Enter a number: 3\n",
      "Enter a number: 2\n",
      "9.0\n",
      "9.0\n"
     ]
    }
   ],
   "source": [
    "# 4. WAP to input a numbers M and N and print result of MN\n",
    "# . (use both ** and pow)\n",
    "M = float(input(\"Enter a number: \"))\n",
    "N = float(input(\"Enter a number: \"))\n",
    "res = M**N\n",
    "res_pow = pow(M,N)\n",
    "print(res)\n",
    "print(res_pow)"
   ]
  },
  {
   "cell_type": "code",
   "execution_count": 9,
   "metadata": {},
   "outputs": [
    {
     "name": "stdout",
     "output_type": "stream",
     "text": [
      "Enter the principal amount: 150000\n",
      "Enter the rate of interest: 10.99\n",
      "Enter the duration: 3\n",
      "simple interest is :  49455.0\n"
     ]
    }
   ],
   "source": [
    "#5. Write a simple interest calculator.\n",
    "principal = int(input(\"Enter the principal amount: \"))\n",
    "interest_rate = float(input(\"Enter the rate of interest: \"))\n",
    "period = float(input(\"Enter the duration: \"))\n",
    "simple_interest = (principal*interest_rate*period)/100\n",
    "print('simple interest is : ', simple_interest)"
   ]
  },
  {
   "cell_type": "code",
   "execution_count": 10,
   "metadata": {},
   "outputs": [
    {
     "name": "stdout",
     "output_type": "stream",
     "text": [
      "Enter the principal amount: 45000\n",
      "Enter the rate of interest: 7.5\n",
      "Enter the time period: 3\n",
      "Enter the no of times of interest in that periopd: 12\n",
      "the total amount is :  56315.07609814835\n",
      "the compound interest is : 11315.076098148347\n"
     ]
    }
   ],
   "source": [
    "# 6. Input Principal, Rate, Time and print Compound Interest and Amount.\n",
    "\n",
    "principal_amt = float(input('Enter the principal amount: '))\n",
    "rate_of_interest = float(input('Enter the rate of interest: '))\n",
    "rate_of_interest = rate_of_interest/100\n",
    "period = float(input('Enter the time period: '))\n",
    "no_of_times = int(input('Enter the no of times of interest in that periopd: '))\n",
    "\n",
    "total_amt = principal_amt*((1+rate_of_interest/no_of_times)**(period*no_of_times))\n",
    "compound_interest = total_amt - principal_amt\n",
    "\n",
    "print(\"the total amount is : \", total_amt)\n",
    "print('the compound interest is :', compound_interest)"
   ]
  },
  {
   "cell_type": "code",
   "execution_count": 11,
   "metadata": {},
   "outputs": [
    {
     "name": "stdout",
     "output_type": "stream",
     "text": [
      "Enter the number to calculate their sum: 10\n",
      "The sum of natural numbers is :  55.0\n"
     ]
    }
   ],
   "source": [
    "# 7. WAP to print sum of first n natural numbers. (n needs to be taken as input).\n",
    "\n",
    "n = int(input(\"Enter the number to calculate their sum: \"))\n",
    "sum_n = (n * (n+1))/2\n",
    "print(\"The sum of natural numbers is : \",sum_n)"
   ]
  },
  {
   "cell_type": "code",
   "execution_count": 12,
   "metadata": {},
   "outputs": [
    {
     "name": "stdout",
     "output_type": "stream",
     "text": [
      "Enter a number: 2\n",
      "Enter a number: 3\n",
      "The swap numbers with normal logic:  3 2\n",
      "The swap numbers using pythonic logic:  3 2\n"
     ]
    }
   ],
   "source": [
    "# 8. WAP to input 2 numbers and swap them. (write using both normal logic with temp variable and also the pythonic way).\n",
    "\n",
    "a = int(input(\"Enter a number: \"))\n",
    "b = int(input(\"Enter a number: \"))\n",
    "\n",
    "temp = a\n",
    "a = b\n",
    "b = temp\n",
    "\n",
    "print(\"The swap numbers with normal logic: \",a,b)\n",
    "\n",
    "a1,b1 = a,b\n",
    "a,b = b1,a1\n",
    "\n",
    "print(\"The swap numbers using pythonic logic: \",a1,b1)\n",
    "\n"
   ]
  },
  {
   "cell_type": "code",
   "execution_count": 13,
   "metadata": {},
   "outputs": [
    {
     "name": "stdout",
     "output_type": "stream",
     "text": [
      "Blank space 32 \n",
      "New line 10 \n",
      "Tab Space 9 \n",
      "Vetical Tab 11 \n",
      "Feed 12 \n",
      "Carriage return 13\n"
     ]
    }
   ],
   "source": [
    "# 9. WAP to print ascii value of all white-space characters present in python.\n",
    "\n",
    "print(\"Blank space\", ord(\" \"), \"\\nNew line\", ord(\"\\n\"),\"\\nTab Space\", ord(\"\\t\"), \"\\nVetical Tab\",ord(\"\\v\"),\n",
    "      \"\\nFeed\",ord('\\f'),\"\\nCarriage return\",ord('\\r'))\n"
   ]
  },
  {
   "cell_type": "code",
   "execution_count": null,
   "metadata": {},
   "outputs": [],
   "source": [
    "# 10. Input a single character and print its ascii values. \n",
    "char = input(\"Enter a char: \")\n",
    "\n",
    "print(\"ASCII value of a character is : \",ord(char))"
   ]
  },
  {
   "cell_type": "code",
   "execution_count": 4,
   "metadata": {},
   "outputs": [
    {
     "name": "stdout",
     "output_type": "stream",
     "text": [
      "Enter the radius: 4\n",
      "Area of a circle is :  50.24\n",
      "circumference of a circle is :  25.12\n"
     ]
    }
   ],
   "source": [
    "# (11) WAP that takes area of a circle and gives back the radius and circumference. \n",
    "\n",
    "radius = float(input(\"Enter the radius: \"))\n",
    "\n",
    "area = 3.14 * radius * radius\n",
    "circumference = 2 * 3.14 * radius\n",
    "\n",
    "print(\"Area of a circle is : \", area)\n",
    "print(\"circumference of a circle is : \", circumference)"
   ]
  },
  {
   "cell_type": "code",
   "execution_count": 2,
   "metadata": {},
   "outputs": [
    {
     "name": "stdout",
     "output_type": "stream",
     "text": [
      "Enter the marks of subject 1 : 82\n",
      "Enter the marks of subject 2 : 75\n",
      "Enter the marks of subject 3 : 67\n",
      "Enter the marks of subject 4 : 55\n",
      "Enter the marks of subject 5 : 60\n",
      "percentage of marks is :  67.8\n"
     ]
    }
   ],
   "source": [
    "# (12) We need to input marks in 5 subjects out of 100 and print percentage. \n",
    "\n",
    "marks1 = int(input(\"Enter the marks of subject 1 : \"))\n",
    "marks2 = int(input(\"Enter the marks of subject 2 : \"))\n",
    "marks3 = int(input(\"Enter the marks of subject 3 : \"))\n",
    "marks4 = int(input(\"Enter the marks of subject 4 : \"))\n",
    "marks5 = int(input(\"Enter the marks of subject 5 : \"))\n",
    "\n",
    "percentage = (marks1+marks2+marks3+marks4+marks5)/5\n",
    "\n",
    "print(\"percentage of marks is : \", percentage)"
   ]
  },
  {
   "cell_type": "code",
   "execution_count": null,
   "metadata": {},
   "outputs": [],
   "source": []
  },
  {
   "cell_type": "code",
   "execution_count": null,
   "metadata": {},
   "outputs": [],
   "source": []
  },
  {
   "cell_type": "code",
   "execution_count": null,
   "metadata": {},
   "outputs": [],
   "source": []
  }
 ],
 "metadata": {
  "kernelspec": {
   "display_name": "Python 3",
   "language": "python",
   "name": "python3"
  },
  "language_info": {
   "codemirror_mode": {
    "name": "ipython",
    "version": 3
   },
   "file_extension": ".py",
   "mimetype": "text/x-python",
   "name": "python",
   "nbconvert_exporter": "python",
   "pygments_lexer": "ipython3",
   "version": "3.7.6"
  }
 },
 "nbformat": 4,
 "nbformat_minor": 4
}
