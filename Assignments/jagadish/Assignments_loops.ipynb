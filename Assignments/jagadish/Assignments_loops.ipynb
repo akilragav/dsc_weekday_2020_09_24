{
 "cells": [
  {
   "cell_type": "markdown",
   "metadata": {},
   "source": [
    "# Assignments_loops"
   ]
  },
  {
   "cell_type": "code",
   "execution_count": 5,
   "metadata": {},
   "outputs": [
    {
     "name": "stdout",
     "output_type": "stream",
     "text": [
      "enter the number: 3\n",
      "1\n",
      "2\n",
      "3\n"
     ]
    }
   ],
   "source": [
    "# 1. WAP to print first n natural numbers (input n from user).\n",
    "\n",
    "num = int(input(\"enter the number: \"))\n",
    "\n",
    "for i in range(1,num+1):\n",
    "    print(i)"
   ]
  },
  {
   "cell_type": "code",
   "execution_count": 11,
   "metadata": {},
   "outputs": [
    {
     "name": "stdout",
     "output_type": "stream",
     "text": [
      "enter the number: 3\n",
      "The sum of first n natural no :  6\n"
     ]
    }
   ],
   "source": [
    "# 2. WAP to find sum of first n natural numbers\n",
    "\n",
    "sum = 0\n",
    "\n",
    "num = int(input(\"enter the number: \"))\n",
    "\n",
    "for i in range(1,num+1):\n",
    "    sum = sum + i\n",
    "\n",
    "print(\"The sum of first n natural no : \", sum)"
   ]
  },
  {
   "cell_type": "code",
   "execution_count": 14,
   "metadata": {},
   "outputs": [
    {
     "name": "stdout",
     "output_type": "stream",
     "text": [
      "enter the number: 3\n",
      "3\n",
      "2\n",
      "1\n"
     ]
    }
   ],
   "source": [
    "# 3. WAP to print first n natural numbers in reverse order.\n",
    "\n",
    "num = int(input(\"enter the number: \"))\n",
    "\n",
    "for i in range(num,0,-1):\n",
    "    print(i)"
   ]
  },
  {
   "cell_type": "code",
   "execution_count": 18,
   "metadata": {},
   "outputs": [
    {
     "name": "stdout",
     "output_type": "stream",
     "text": [
      "enter the number: 4\n",
      "The factorial:  24\n"
     ]
    }
   ],
   "source": [
    "# 4. WAP to input a number and print its factorial.\n",
    "\n",
    "def fact(num):\n",
    "   \n",
    "    res = 1\n",
    "    for i in range(num,1,-1):\n",
    "        res *= i\n",
    "    return res\n",
    "num = int(input(\"enter the number: \"))\n",
    "print(\"The factorial: \", fact(num))"
   ]
  },
  {
   "cell_type": "code",
   "execution_count": 33,
   "metadata": {},
   "outputs": [
    {
     "name": "stdout",
     "output_type": "stream",
     "text": [
      "0\n",
      "1\n",
      "1\n",
      "2\n",
      "3\n",
      "5\n",
      "8\n"
     ]
    }
   ],
   "source": [
    "# 5. WAP to print Fibonacci sequence till n.\n",
    "\n",
    "def fibonacci(n):\n",
    "    a=0\n",
    "    b=1\n",
    "    while a<=n:\n",
    "        print(a)\n",
    "        a,b=b,a+b\n",
    "fibonacci(10)"
   ]
  },
  {
   "cell_type": "code",
   "execution_count": 38,
   "metadata": {},
   "outputs": [
    {
     "name": "stdout",
     "output_type": "stream",
     "text": [
      "Enter a number: 123789\n",
      "1 2 3 7 8 9 "
     ]
    }
   ],
   "source": [
    "# 6. WAP to print all digits of a number input from user.\n",
    "num = input(\"Enter a number: \")\n",
    "\n",
    "for i in num:\n",
    "    print(i, end = \" \")"
   ]
  },
  {
   "cell_type": "code",
   "execution_count": 42,
   "metadata": {},
   "outputs": [
    {
     "name": "stdout",
     "output_type": "stream",
     "text": [
      "Enter a number: 123789\n",
      "30\n"
     ]
    }
   ],
   "source": [
    "# 7. WAP to find sum of all digits of a number.\n",
    "\n",
    "num = input(\"Enter a number: \")\n",
    "sum = 0\n",
    "for i in num:\n",
    "    sum += int(i)\n",
    "print(sum)"
   ]
  },
  {
   "cell_type": "code",
   "execution_count": 11,
   "metadata": {},
   "outputs": [
    {
     "name": "stdout",
     "output_type": "stream",
     "text": [
      "Enter a number: 5\n",
      "factorial of number: 153\n"
     ]
    }
   ],
   "source": [
    "# 8. WAP to find sum of following series given n as input from user\n",
    "# 1 + 2! + 3! + 4! + 5! + ….n!\n",
    "# Where n! denotes the factorial of number n.\n",
    "\n",
    "def factorial(n):\n",
    "    fact = 1\n",
    "    sum = 0\n",
    "    \n",
    "    for i in range(1,n+1):\n",
    "        fact *= i\n",
    "        sum += fact\n",
    "    \n",
    "    return sum\n",
    "\n",
    "n = int(input(\"Enter a number: \"))\n",
    "print(\"factorial of number:\", factorial(n))\n",
    "\n",
    "    "
   ]
  },
  {
   "cell_type": "code",
   "execution_count": 23,
   "metadata": {},
   "outputs": [
    {
     "name": "stdout",
     "output_type": "stream",
     "text": [
      "Enter a base no: 2\n",
      "Enter a expo no: 4\n",
      "base expo without POW :  16\n"
     ]
    }
   ],
   "source": [
    "# 9. WAP to input base and exponent and print result without using inbuilt function pow(use for or\n",
    "# while loop).\n",
    "\n",
    "def base_expo(base,expo):\n",
    "    res = 1\n",
    "    for i in range(expo):\n",
    "        res *= base\n",
    "    return res\n",
    "\n",
    "base = int(input(\"Enter a base no: \"))\n",
    "expo = int(input(\"Enter a expo no: \"))\n",
    "\n",
    "print(\"base expo without POW : \", base_expo(base,expo))"
   ]
  },
  {
   "cell_type": "code",
   "execution_count": 36,
   "metadata": {},
   "outputs": [
    {
     "name": "stdout",
     "output_type": "stream",
     "text": [
      "* \n",
      "* * \n",
      "* * * \n",
      "* * * * \n",
      "* * * * * \n"
     ]
    }
   ],
   "source": [
    "# 10. Print following patterns:\n",
    "\n",
    "for i in range(0,5):\n",
    "    for j in range(0,i+1):\n",
    "        print(\"*\", end = \" \")\n",
    "    print()"
   ]
  },
  {
   "cell_type": "code",
   "execution_count": 47,
   "metadata": {},
   "outputs": [
    {
     "name": "stdout",
     "output_type": "stream",
     "text": [
      "* * * * * \n",
      "* * * * \n",
      "* * * \n",
      "* * \n",
      "* \n",
      "\n"
     ]
    }
   ],
   "source": [
    "for i in range(6,0,-1):\n",
    "    for j in range(0,i-1):\n",
    "        print(\"*\", end = \" \")\n",
    "    print()"
   ]
  },
  {
   "cell_type": "code",
   "execution_count": 57,
   "metadata": {},
   "outputs": [
    {
     "name": "stdout",
     "output_type": "stream",
     "text": [
      "* * * * * \n",
      "\n",
      "* * * * \n",
      "\n",
      "* * * \n",
      "\n",
      "* * \n",
      "\n",
      "* \n",
      "\n"
     ]
    }
   ],
   "source": [
    "for i in range(1,6):\n",
    "    for j in range(i,6):\n",
    "        print(\"*\",end=\" \")\n",
    "    print(\"\\n\")"
   ]
  },
  {
   "cell_type": "code",
   "execution_count": 61,
   "metadata": {},
   "outputs": [
    {
     "name": "stdout",
     "output_type": "stream",
     "text": [
      "Enter a number for right star:5\n",
      "*\n",
      "**\n",
      "***\n",
      "****\n",
      "*****\n",
      "--------------------------------------------------------\n",
      "Enter a number for down star:5\n",
      "*****\n",
      "****\n",
      "***\n",
      "**\n",
      "*\n",
      "--------------------------------------------------------\n",
      "Enter a number for left star:5\n",
      "    *\n",
      "   **\n",
      "  ***\n",
      " ****\n",
      "*****\n",
      "--------------------------------------------------------\n",
      "Enter a number for star pyramid:5\n",
      "    * \n",
      "   * * \n",
      "  * * * \n",
      " * * * * \n",
      "* * * * * \n",
      "--------------------------------------------------------\n"
     ]
    }
   ],
   "source": [
    "#10\n",
    "def right_star(num):\n",
    "    for i in range(1,num+1):\n",
    "        print('*'*i)\n",
    "\n",
    "right_star(int(input('Enter a number for right star:')))\n",
    "print('--------------------------------------------------------')\n",
    "def down_star(num):\n",
    "    for i in range(num,0,-1):\n",
    "        print('*'*i)\n",
    "\n",
    "down_star(int(input('Enter a number for down star:')))\n",
    "print('--------------------------------------------------------')\n",
    "def left_star(num):\n",
    "    for i in range(1,num+1):\n",
    "        print(' '*(num-i)+'*'*i)\n",
    "\n",
    "left_star(int(input('Enter a number for left star:')))\n",
    "print('--------------------------------------------------------')\n",
    "def star_pyramid(num):\n",
    "    for i in range(1,num+1):\n",
    "        print(' '*(num-i)+'* '*i)\n",
    "\n",
    "star_pyramid(int(input('Enter a number for star pyramid:')))\n",
    "print('--------------------------------------------------------')"
   ]
  },
  {
   "cell_type": "code",
   "execution_count": 62,
   "metadata": {},
   "outputs": [
    {
     "name": "stdout",
     "output_type": "stream",
     "text": [
      "Enter a number for right sided with same number pattern:5\n",
      "1\n",
      "22\n",
      "333\n",
      "4444\n",
      "55555\n",
      "--------------------------------------------------------\n",
      "Enter a number for right sided with increasing number pattern:5\n",
      "1\n",
      "12\n",
      "123\n",
      "1234\n",
      "12345\n",
      "--------------------------------------------------------\n",
      "Enter a number for right sided with decreasing number pattern:5\n",
      "5\n",
      "44\n",
      "333\n",
      "2222\n",
      "11111\n",
      "--------------------------------------------------------\n",
      "Enter a number for left star:5\n",
      "    1\n",
      "   22\n",
      "  333\n",
      " 4444\n",
      "55555\n",
      "--------------------------------------------------------\n"
     ]
    }
   ],
   "source": [
    "# 11. Print following number patterns:\n",
    "def right_same(num):\n",
    "    for i in range(1,num+1):\n",
    "        print(str(i)*i)\n",
    "\n",
    "right_same(int(input('Enter a number for right sided with same number pattern:')))\n",
    "print('--------------------------------------------------------')\n",
    "\n",
    "def right_inc(num):\n",
    "    for i in range(1,num+1):\n",
    "        for j in range(1,i+1):\n",
    "            print(str(j),end=\"\")\n",
    "        print('\\r')\n",
    "right_inc(int(input('Enter a number for right sided with increasing number pattern:')))\n",
    "print('--------------------------------------------------------')\n",
    "\n",
    "def right_dec(num):\n",
    "    for i in range(0,num):\n",
    "        print(str(num-i)*(i+1))\n",
    "right_dec(int(input('Enter a number for right sided with decreasing number pattern:')))\n",
    "print('--------------------------------------------------------')\n",
    "def left_num(num):\n",
    "    for i in range(1,num+1):\n",
    "        print(' '*(num-i)+str(i)*i)\n",
    "\n",
    "left_num(int(input('Enter a number for left star:')))\n",
    "print('--------------------------------------------------------')"
   ]
  },
  {
   "cell_type": "code",
   "execution_count": 63,
   "metadata": {},
   "outputs": [
    {
     "name": "stdout",
     "output_type": "stream",
     "text": [
      "Enter a number for right sided with increasing alphabets pattern:5\n",
      "A\n",
      "AB\n",
      "ABC\n",
      "ABCD\n",
      "ABCDE\n",
      "--------------------------------------------------------\n",
      "Enter a number for right sided with same alphabet pattern:5\n",
      "A\n",
      "BB\n",
      "CCC\n",
      "DDDD\n",
      "EEEEE\n",
      "--------------------------------------------------------\n",
      "--------------------------------------------------------\n",
      "Enter a number for right sided with alphabet pyramid pattern:5\n",
      "    A\n",
      "   ABA\n",
      "  ABCBA\n",
      " ABCDCBA\n",
      "ABCDEDCBA\n",
      "--------------------------------------------------------\n"
     ]
    }
   ],
   "source": [
    "# 12. Print following character patterns:\n",
    "import string\n",
    "def right_inc_alph(str1):\n",
    "    for i in range(1,len(str1)+1):\n",
    "        for j in range(0,i):\n",
    "            print(str1[j],end=\"\")\n",
    "        print('\\r')\n",
    "num=int(input('Enter a number for right sided with increasing alphabets pattern:'))\n",
    "right_inc_alph(string.ascii_uppercase[0:num])\n",
    "print('--------------------------------------------------------')\n",
    "\n",
    "def right_same_alph(str1):\n",
    "    for i in range(0,len(str1)):\n",
    "        print(str1[i]*(i+1))\n",
    "num=int(input('Enter a number for right sided with same alphabet pattern:'))\n",
    "right_same_alph(string.ascii_uppercase[0:num])\n",
    "print('--------------------------------------------------------')\n",
    "\n",
    "\n",
    "print('--------------------------------------------------------')\n",
    "def alph_pyramid(str1):\n",
    "    for i in range(0,len(str1)):\n",
    "        print(' '*(len(str1)-(i+1)),end=\"\")\n",
    "        for j in range(0,i+1):\n",
    "            print(str1[j],end=\"\")\n",
    "        for k in range(i-1,-1,-1):\n",
    "            print(str1[k],end=\"\")\n",
    "        print('\\r')\n",
    "\n",
    "num=int(input('Enter a number for right sided with alphabet pyramid pattern:'))\n",
    "alph_pyramid(string.ascii_uppercase[0:num])\n",
    "print('--------------------------------------------------------')"
   ]
  },
  {
   "cell_type": "code",
   "execution_count": null,
   "metadata": {},
   "outputs": [],
   "source": []
  }
 ],
 "metadata": {
  "kernelspec": {
   "display_name": "Python 3",
   "language": "python",
   "name": "python3"
  },
  "language_info": {
   "codemirror_mode": {
    "name": "ipython",
    "version": 3
   },
   "file_extension": ".py",
   "mimetype": "text/x-python",
   "name": "python",
   "nbconvert_exporter": "python",
   "pygments_lexer": "ipython3",
   "version": "3.7.6"
  }
 },
 "nbformat": 4,
 "nbformat_minor": 4
}
