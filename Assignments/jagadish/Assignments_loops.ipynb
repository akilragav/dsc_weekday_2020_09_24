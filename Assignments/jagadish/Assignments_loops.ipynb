{
 "cells": [
  {
   "cell_type": "markdown",
   "metadata": {},
   "source": [
    "# Assignments_loops"
   ]
  },
  {
   "cell_type": "code",
   "execution_count": 5,
   "metadata": {},
   "outputs": [
    {
     "name": "stdout",
     "output_type": "stream",
     "text": [
      "enter the number: 3\n",
      "1\n",
      "2\n",
      "3\n"
     ]
    }
   ],
   "source": [
    "# 1. WAP to print first n natural numbers (input n from user).\n",
    "\n",
    "num = int(input(\"enter the number: \"))\n",
    "\n",
    "for i in range(1,num+1):\n",
    "    print(i)"
   ]
  },
  {
   "cell_type": "code",
   "execution_count": 11,
   "metadata": {},
   "outputs": [
    {
     "name": "stdout",
     "output_type": "stream",
     "text": [
      "enter the number: 3\n",
      "The sum of first n natural no :  6\n"
     ]
    }
   ],
   "source": [
    "# 2. WAP to find sum of first n natural numbers\n",
    "\n",
    "sum = 0\n",
    "\n",
    "num = int(input(\"enter the number: \"))\n",
    "\n",
    "for i in range(1,num+1):\n",
    "    sum = sum + i\n",
    "\n",
    "print(\"The sum of first n natural no : \", sum)"
   ]
  },
  {
   "cell_type": "code",
   "execution_count": 14,
   "metadata": {},
   "outputs": [
    {
     "name": "stdout",
     "output_type": "stream",
     "text": [
      "enter the number: 3\n",
      "3\n",
      "2\n",
      "1\n"
     ]
    }
   ],
   "source": [
    "# 3. WAP to print first n natural numbers in reverse order.\n",
    "\n",
    "num = int(input(\"enter the number: \"))\n",
    "\n",
    "for i in range(num,0,-1):\n",
    "    print(i)"
   ]
  },
  {
   "cell_type": "code",
   "execution_count": 18,
   "metadata": {},
   "outputs": [
    {
     "name": "stdout",
     "output_type": "stream",
     "text": [
      "enter the number: 4\n",
      "The factorial:  24\n"
     ]
    }
   ],
   "source": [
    "# 4. WAP to input a number and print its factorial.\n",
    "\n",
    "def fact(num):\n",
    "    res = 1\n",
    "    \n",
    "    for i in range(num,1,-1):\n",
    "        res *= i\n",
    "    return res\n",
    "num = int(input(\"enter the number: \"))\n",
    "print(\"The factorial: \", fact(num))"
   ]
  },
  {
   "cell_type": "code",
   "execution_count": 33,
   "metadata": {},
   "outputs": [
    {
     "name": "stdout",
     "output_type": "stream",
     "text": [
      "0\n",
      "1\n",
      "1\n",
      "2\n",
      "3\n",
      "5\n",
      "8\n"
     ]
    }
   ],
   "source": [
    "# 5. WAP to print Fibonacci sequence till n.\n",
    "\n",
    "def fibonacci(n):\n",
    "    a=0\n",
    "    b=1\n",
    "    while a<=n:\n",
    "        print(a)\n",
    "        a,b=b,a+b\n",
    "fibonacci(10)"
   ]
  },
  {
   "cell_type": "code",
   "execution_count": 38,
   "metadata": {},
   "outputs": [
    {
     "name": "stdout",
     "output_type": "stream",
     "text": [
      "Enter a number: 123789\n",
      "1 2 3 7 8 9 "
     ]
    }
   ],
   "source": [
    "# 6. WAP to print all digits of a number input from user.\n",
    "num = input(\"Enter a number: \")\n",
    "\n",
    "for i in num:\n",
    "    print(i, end = \" \")"
   ]
  },
  {
   "cell_type": "code",
   "execution_count": 42,
   "metadata": {},
   "outputs": [
    {
     "name": "stdout",
     "output_type": "stream",
     "text": [
      "Enter a number: 123789\n",
      "30\n"
     ]
    }
   ],
   "source": [
    "# 7. WAP to find sum of all digits of a number.\n",
    "\n",
    "num = input(\"Enter a number: \")\n",
    "sum = 0\n",
    "for i in num:\n",
    "    sum += int(i)\n",
    "print(sum)"
   ]
  },
  {
   "cell_type": "code",
   "execution_count": null,
   "metadata": {},
   "outputs": [],
   "source": []
  }
 ],
 "metadata": {
  "kernelspec": {
   "display_name": "Python 3",
   "language": "python",
   "name": "python3"
  },
  "language_info": {
   "codemirror_mode": {
    "name": "ipython",
    "version": 3
   },
   "file_extension": ".py",
   "mimetype": "text/x-python",
   "name": "python",
   "nbconvert_exporter": "python",
   "pygments_lexer": "ipython3",
   "version": "3.7.6"
  }
 },
 "nbformat": 4,
 "nbformat_minor": 4
}
