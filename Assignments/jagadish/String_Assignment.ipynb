{
 "cells": [
  {
   "cell_type": "markdown",
   "metadata": {},
   "source": [
    "# Assignment-strings"
   ]
  },
  {
   "cell_type": "code",
   "execution_count": 3,
   "metadata": {},
   "outputs": [
    {
     "name": "stdout",
     "output_type": "stream",
     "text": [
      "d\n",
      "detneirO tcejbO si nohtyP\n",
      "Python is Object Oriente\n",
      "\n",
      "on is \n"
     ]
    }
   ],
   "source": [
    "# 1. Guess output of each slice:\n",
    "\n",
    "s = \"Python is Object Oriented\"\n",
    "\n",
    "print(s[-1])    #d\n",
    "print(s[::-1])  #detneirO tcejbO si nohtyP\n",
    "print(s[:-1])   #Python is Object Oriente\n",
    "print(s[1:1])   #' '\n",
    "print(s[4:10])  #on is"
   ]
  },
  {
   "cell_type": "code",
   "execution_count": 2,
   "metadata": {},
   "outputs": [
    {
     "ename": "IndexError",
     "evalue": "string index out of range",
     "output_type": "error",
     "traceback": [
      "\u001b[1;31m---------------------------------------------------------------------------\u001b[0m",
      "\u001b[1;31mIndexError\u001b[0m                                Traceback (most recent call last)",
      "\u001b[1;32m<ipython-input-2-63e3d404750b>\u001b[0m in \u001b[0;36m<module>\u001b[1;34m\u001b[0m\n\u001b[0;32m      1\u001b[0m \u001b[1;31m#2. What error do you see for following statements:\u001b[0m\u001b[1;33m\u001b[0m\u001b[1;33m\u001b[0m\u001b[1;33m\u001b[0m\u001b[0m\n\u001b[0;32m      2\u001b[0m \u001b[0ms\u001b[0m\u001b[1;33m=\u001b[0m \u001b[1;34m''\u001b[0m\u001b[1;33m\u001b[0m\u001b[1;33m\u001b[0m\u001b[0m\n\u001b[1;32m----> 3\u001b[1;33m \u001b[0mprint\u001b[0m\u001b[1;33m(\u001b[0m\u001b[0ms\u001b[0m\u001b[1;33m[\u001b[0m\u001b[1;36m1\u001b[0m\u001b[1;33m]\u001b[0m\u001b[1;33m)\u001b[0m \u001b[1;31m#Index Error-Out of range\u001b[0m\u001b[1;33m\u001b[0m\u001b[1;33m\u001b[0m\u001b[0m\n\u001b[0m",
      "\u001b[1;31mIndexError\u001b[0m: string index out of range"
     ]
    }
   ],
   "source": [
    "#2. What error do you see for following statements:\n",
    "s= ''\n",
    "print(s[1]) #Index Error-Out of range"
   ]
  },
  {
   "cell_type": "code",
   "execution_count": 1,
   "metadata": {
    "scrolled": true
   },
   "outputs": [
    {
     "ename": "NameError",
     "evalue": "name 's' is not defined",
     "output_type": "error",
     "traceback": [
      "\u001b[1;31m---------------------------------------------------------------------------\u001b[0m",
      "\u001b[1;31mNameError\u001b[0m                                 Traceback (most recent call last)",
      "\u001b[1;32m<ipython-input-1-dd286a566100>\u001b[0m in \u001b[0;36m<module>\u001b[1;34m\u001b[0m\n\u001b[0;32m      1\u001b[0m \u001b[1;31m# 3. Do you get any error for the following code, if not give the output:\u001b[0m\u001b[1;33m\u001b[0m\u001b[1;33m\u001b[0m\u001b[1;33m\u001b[0m\u001b[0m\n\u001b[0;32m      2\u001b[0m \u001b[0mS\u001b[0m\u001b[1;33m=\u001b[0m\u001b[1;34m'Gaurav'\u001b[0m\u001b[1;33m\u001b[0m\u001b[1;33m\u001b[0m\u001b[0m\n\u001b[1;32m----> 3\u001b[1;33m \u001b[0mprint\u001b[0m\u001b[1;33m(\u001b[0m\u001b[0ms\u001b[0m\u001b[1;33m[\u001b[0m\u001b[1;36m1\u001b[0m\u001b[1;33m]\u001b[0m\u001b[1;33m)\u001b[0m \u001b[1;31m#Name Error\u001b[0m\u001b[1;33m\u001b[0m\u001b[1;33m\u001b[0m\u001b[0m\n\u001b[0m",
      "\u001b[1;31mNameError\u001b[0m: name 's' is not defined"
     ]
    }
   ],
   "source": [
    "# 3. Do you get any error for the following code, if not give the output:\n",
    "S='Gaurav'\n",
    "print(s[1]) #Name Error"
   ]
  },
  {
   "cell_type": "code",
   "execution_count": 4,
   "metadata": {},
   "outputs": [
    {
     "name": "stdout",
     "output_type": "stream",
     "text": [
      "6\n",
      "abc\n",
      "3\n"
     ]
    }
   ],
   "source": [
    "# 4. Find output of the following:\n",
    "# a) \n",
    "s = 'a b cd'\n",
    "print(len(s)) \n",
    "print(s[::2])\n",
    "print(len(s[::2]))"
   ]
  },
  {
   "cell_type": "code",
   "execution_count": 19,
   "metadata": {},
   "outputs": [
    {
     "name": "stdout",
     "output_type": "stream",
     "text": [
      "['a#b#c#d']\n",
      "['a', 'b', 'c', 'd']\n",
      "a$b$c$d\n"
     ]
    }
   ],
   "source": [
    "# b)\n",
    "s='a#b#c#d'\n",
    "print(s.split())\n",
    "print(s.split('#'))\n",
    "l=s.split('#')\n",
    "s='$'.join(l)\n",
    "print(s)"
   ]
  },
  {
   "cell_type": "code",
   "execution_count": 25,
   "metadata": {},
   "outputs": [
    {
     "name": "stdout",
     "output_type": "stream",
     "text": [
      "av\n"
     ]
    }
   ],
   "source": [
    "#c) \n",
    "S='Gaurav'\n",
    "S=S[::-2][::-2]\n",
    "print(S)"
   ]
  },
  {
   "cell_type": "code",
   "execution_count": 7,
   "metadata": {},
   "outputs": [
    {
     "name": "stdout",
     "output_type": "stream",
     "text": [
      "False\n"
     ]
    }
   ],
   "source": [
    "#d) \n",
    "print(1>2)  # False"
   ]
  },
  {
   "cell_type": "code",
   "execution_count": 8,
   "metadata": {},
   "outputs": [
    {
     "name": "stdout",
     "output_type": "stream",
     "text": [
      "0,1,2\n"
     ]
    }
   ],
   "source": [
    "#e) \n",
    "print(4%2, 5%2, 2%5, sep=',') #0,1,2"
   ]
  },
  {
   "cell_type": "code",
   "execution_count": 29,
   "metadata": {},
   "outputs": [
    {
     "name": "stdout",
     "output_type": "stream",
     "text": [
      "abcba\n",
      "0 ,0 ,0 ,"
     ]
    }
   ],
   "source": [
    "s='abcba'\n",
    "s.upper()\n",
    "print(s)\n",
    "print(s.count('A'), end = ' ,') \n",
    "print(s.count('A', 2,4) , end = ' ,')\n",
    "print(s.count('a', 2,4) , end = ' ,')"
   ]
  },
  {
   "cell_type": "code",
   "execution_count": 10,
   "metadata": {},
   "outputs": [
    {
     "name": "stdout",
     "output_type": "stream",
     "text": [
      "Enter a string: this is python class\n",
      "thisispythonclass\n"
     ]
    }
   ],
   "source": [
    "# 5)WAP to input a string and remove all spaces from it.\n",
    "\n",
    "s = input(\"Enter a string: \")\n",
    "s = s.split(' ')\n",
    "s = ''.join(s)\n",
    "print(s)"
   ]
  },
  {
   "cell_type": "code",
   "execution_count": 11,
   "metadata": {},
   "outputs": [
    {
     "data": {
      "text/plain": [
       "[]"
      ]
     },
     "execution_count": 11,
     "metadata": {},
     "output_type": "execute_result"
    }
   ],
   "source": [
    "#6. What does this symbol denote:\n",
    "[] #list"
   ]
  },
  {
   "cell_type": "code",
   "execution_count": 12,
   "metadata": {},
   "outputs": [
    {
     "name": "stdout",
     "output_type": "stream",
     "text": [
      "['__add__', '__class__', '__contains__', '__delattr__', '__dir__', '__doc__', '__eq__', '__format__', '__ge__', '__getattribute__', '__getitem__', '__getnewargs__', '__gt__', '__hash__', '__init__', '__init_subclass__', '__iter__', '__le__', '__len__', '__lt__', '__mod__', '__mul__', '__ne__', '__new__', '__reduce__', '__reduce_ex__', '__repr__', '__rmod__', '__rmul__', '__setattr__', '__sizeof__', '__str__', '__subclasshook__', 'capitalize', 'casefold', 'center', 'count', 'encode', 'endswith', 'expandtabs', 'find', 'format', 'format_map', 'index', 'isalnum', 'isalpha', 'isascii', 'isdecimal', 'isdigit', 'isidentifier', 'islower', 'isnumeric', 'isprintable', 'isspace', 'istitle', 'isupper', 'join', 'ljust', 'lower', 'lstrip', 'maketrans', 'partition', 'replace', 'rfind', 'rindex', 'rjust', 'rpartition', 'rsplit', 'rstrip', 'split', 'splitlines', 'startswith', 'strip', 'swapcase', 'title', 'translate', 'upper', 'zfill']\n"
     ]
    }
   ],
   "source": [
    "#7. WAP to print all methods(functions/operations) available in a string (Hint : dir())\n",
    "\n",
    "print(dir(str))"
   ]
  },
  {
   "cell_type": "code",
   "execution_count": 13,
   "metadata": {},
   "outputs": [
    {
     "name": "stdout",
     "output_type": "stream",
     "text": [
      "it is founded\n"
     ]
    }
   ],
   "source": [
    "# 8. Write statement to check if rstrip method is available in the str class.\n",
    "# (Hint : Use the find function or in)\n",
    "s=dir(str)\n",
    "if 'rstrip' in s:\n",
    "    print('it is founded')\n",
    "else:\n",
    "    print('not founded')"
   ]
  },
  {
   "cell_type": "code",
   "execution_count": 14,
   "metadata": {},
   "outputs": [
    {
     "name": "stdout",
     "output_type": "stream",
     "text": [
      "*****\n",
      "  *  \n",
      "  *  \n",
      "  *  \n",
      "  *  \n"
     ]
    }
   ],
   "source": [
    "# 9. WAP to store the following patterns in a string variable and then print them:\n",
    "\n",
    "a1 = '*'\n",
    "a2 = ' '\n",
    "\n",
    "print(a1*5)\n",
    "print(a2*2+a1+a2*2)\n",
    "print(a2*2+a1+a2*2)\n",
    "print(a2*2+a1+a2*2)\n",
    "print(a2*2+a1+a2*2)"
   ]
  },
  {
   "cell_type": "code",
   "execution_count": 15,
   "metadata": {},
   "outputs": [
    {
     "name": "stdout",
     "output_type": "stream",
     "text": [
      "*     *\n",
      "* * * *\n",
      "*  *  *\n",
      "*     *\n"
     ]
    }
   ],
   "source": [
    "print(a1 + a2 * 5 + a1)\n",
    "print((a1 + a2) * 3 + a1)\n",
    "print(a1 + a2*2 +a1 + a2 * 2 +a1)\n",
    "print(a1 + a2 * 5 + a1)"
   ]
  },
  {
   "cell_type": "code",
   "execution_count": 16,
   "metadata": {},
   "outputs": [
    {
     "name": "stdout",
     "output_type": "stream",
     "text": [
      "  ____________\n",
      "  |          |\n",
      "  o          |\n",
      " /|\\         |\n",
      " / \\         |\n",
      "_____________|\n"
     ]
    }
   ],
   "source": [
    "a3= '_'\n",
    "a4='|'\n",
    "a5='o'\n",
    "a6='/'\n",
    "a7= \"\\\\\"\n",
    "\n",
    "print(a2*2+a3*12)\n",
    "print(a2*2+a4 + a2*10 + a4)\n",
    "print(a2*2+a5 + a2*10 + a4)\n",
    "print(a2*1+a6+a4+a7 + a2*9 + a4)\n",
    "print(a2+a6+a2+a7 + a2*9 + a4)\n",
    "print(a3*13 + a4)"
   ]
  },
  {
   "cell_type": "code",
   "execution_count": 17,
   "metadata": {},
   "outputs": [
    {
     "name": "stdout",
     "output_type": "stream",
     "text": [
      "*****\n",
      "  *\n",
      "  *\n",
      "  *\n",
      "  *\n",
      "*     *\n",
      "* * * *\n",
      "*  *  *\n",
      "*     *\n",
      "________\n",
      " |     |\n",
      " o     |\n",
      "/|\\    |\n",
      "/ \\    |\n",
      "_______|\n"
     ]
    }
   ],
   "source": [
    "S='''*****\\n  *\\n  *\\n  *\\n  *'''\n",
    "\n",
    "T='''*     *\\n* * * *\\n*  *  *\\n*     *'''\n",
    "\n",
    "X='''________\\n |     |\\n o     |\\n/|\\    |\\n/ \\    |\\n_______|'''\n",
    "print(S)\n",
    "print(T)\n",
    "print(X)"
   ]
  },
  {
   "cell_type": "code",
   "execution_count": 19,
   "metadata": {},
   "outputs": [
    {
     "name": "stdout",
     "output_type": "stream",
     "text": [
      "Python is Object Oriented: remove all spaces\n",
      "remove\n",
      "all\n",
      "spaces\n"
     ]
    }
   ],
   "source": [
    "# 10. WAP to input a string and replace all space with new lines (\\n) and print again.\n",
    "s=input(\"Python is Object Oriented: \")\n",
    "print(s.replace(' ',\"\\n\"))"
   ]
  },
  {
   "cell_type": "code",
   "execution_count": 20,
   "metadata": {},
   "outputs": [
    {
     "name": "stdout",
     "output_type": "stream",
     "text": [
      "Enter a string: remove all spaces\n",
      "remove\n",
      "all\n",
      "spaces\n"
     ]
    }
   ],
   "source": [
    "# 10. WAP to input a string and replace all space with new lines (\\n) and print again.\n",
    "s = input(\"Enter a string: \")\n",
    "s = s.split()\n",
    "s = '\\n'.join(s)\n",
    "print(s)"
   ]
  },
  {
   "cell_type": "code",
   "execution_count": 21,
   "metadata": {},
   "outputs": [
    {
     "name": "stdout",
     "output_type": "stream",
     "text": [
      "Enter first name and last name: jagadish kannur\n",
      "JAGADISH 8\n",
      "KANNUR 6\n"
     ]
    }
   ],
   "source": [
    "# 11. WAP to input complete name(first and last name separated by space) and print first and last\n",
    "# name separately along with their length in upper case.\n",
    "\n",
    "name= input('Enter first name and last name: ')\n",
    "name = name.split()\n",
    "print(name[0].upper(),len(name[0]), sep=' ')\n",
    "print(name[1].upper(),len(name[1]), sep=' ')"
   ]
  },
  {
   "cell_type": "code",
   "execution_count": 37,
   "metadata": {},
   "outputs": [
    {
     "name": "stdout",
     "output_type": "stream",
     "text": [
      "Enter the string: jagadish\n",
      "['jaga', 'ish']\n",
      "S1 = jaga\n",
      "S2 = dish\n"
     ]
    }
   ],
   "source": [
    "# 12. WAP to input a string and split it into 2 halves. The string can be of any length\n",
    "# Ex-1: Input = “String”\n",
    "# S1 = Str\n",
    "#  S2 = ing \n",
    "\n",
    "s2=input(\"Enter the string: \")\n",
    "m=len(s2)\n",
    "if m%2==0:\n",
    "    S1=s2.split(s2[m//2])\n",
    "    print(S1)\n",
    "    S1[1]=s2[m//2]+S1[1]\n",
    "    print(f\"S1 = {S1[0]}\\nS2 = {S1[1]}\")\n",
    "else:\n",
    "    S1=s2.split(s2[m//2])\n",
    "    print(f\"S1 = {S1[0]}\\nS2 = {S1[1]}\")"
   ]
  },
  {
   "cell_type": "code",
   "execution_count": null,
   "metadata": {},
   "outputs": [],
   "source": []
  },
  {
   "cell_type": "code",
   "execution_count": 47,
   "metadata": {},
   "outputs": [
    {
     "name": "stdout",
     "output_type": "stream",
     "text": [
      "The original string is :  GeeksforGeeks\n",
      "Geeksf\n",
      "The first part of string : Geeksf\n",
      "The second part of string : rGeeks\n"
     ]
    }
   ],
   "source": [
    "test_str = \"GeeksforGeeks\"\n",
    "  \n",
    "# printing original string  \n",
    "print(\"The original string is : \", test_str) \n",
    "  \n",
    "# Using list comprehension + string slicing \n",
    "# Splitting string into equal halves \n",
    "res_first = test_str[0:len(test_str)//2] \n",
    "print(res_first)\n",
    "res_second = test_str[len(test_str)//2 \n",
    "if len(test_str)%2 == 0\n",
    "                      \n",
    "else \n",
    "((len(test_str)//2)+1):] \n",
    "  \n",
    "# printing result  \n",
    "print(\"The first part of string : \" + res_first) \n",
    "print(\"The second part of string : \" + res_second)"
   ]
  },
  {
   "cell_type": "code",
   "execution_count": null,
   "metadata": {},
   "outputs": [],
   "source": []
  }
 ],
 "metadata": {
  "kernelspec": {
   "display_name": "Python 3",
   "language": "python",
   "name": "python3"
  },
  "language_info": {
   "codemirror_mode": {
    "name": "ipython",
    "version": 3
   },
   "file_extension": ".py",
   "mimetype": "text/x-python",
   "name": "python",
   "nbconvert_exporter": "python",
   "pygments_lexer": "ipython3",
   "version": "3.7.6"
  }
 },
 "nbformat": 4,
 "nbformat_minor": 4
}
