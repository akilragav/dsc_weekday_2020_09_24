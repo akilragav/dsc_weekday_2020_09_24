{
 "cells": [
  {
   "cell_type": "markdown",
   "metadata": {},
   "source": [
    "# Functions-intro"
   ]
  },
  {
   "cell_type": "code",
   "execution_count": 1,
   "metadata": {},
   "outputs": [
    {
     "name": "stdout",
     "output_type": "stream",
     "text": [
      "Enter first string: kag\n",
      "Enter second string: kan\n",
      "kan\n",
      "kag\n"
     ]
    }
   ],
   "source": [
    "#1. WAP to input 2 strings and swap the strings \n",
    "\n",
    "s1 = input(\"Enter first string: \")\n",
    "s2 = input(\"Enter second string: \")\n",
    "\n",
    "s1,s2 = s2,s1\n",
    "print(s1)\n",
    "print(s2)"
   ]
  },
  {
   "cell_type": "code",
   "execution_count": 5,
   "metadata": {},
   "outputs": [
    {
     "name": "stdout",
     "output_type": "stream",
     "text": [
      "[3, 4, 23, 10]\n",
      "10.0\n"
     ]
    }
   ],
   "source": [
    "# 2. WAP to generate 4 random numbers in the range 0-26 and print their average \n",
    "\n",
    "import random\n",
    "s = random.sample(range(0,26),4)\n",
    "print(s)\n",
    "print(sum(s)/4)"
   ]
  },
  {
   "cell_type": "code",
   "execution_count": 6,
   "metadata": {},
   "outputs": [
    {
     "name": "stdout",
     "output_type": "stream",
     "text": [
      "c\n"
     ]
    }
   ],
   "source": [
    "# 3. WAP to generate and print a random uppercase or lowercase alphabet. Try these:\n",
    "# • Create a string containing all alphabets and then select a random alphabet.\n",
    "# • Check the module string \n",
    "\n",
    "import random\n",
    "s = \"ABCDEFGHIJKLMNOPQRSTUVWXYZabcdefghijklmnopqrstuvwxyz\"\n",
    "s = random.sample(s,len(s))\n",
    "print(s[0])\n"
   ]
  },
  {
   "cell_type": "code",
   "execution_count": 7,
   "metadata": {},
   "outputs": [
    {
     "name": "stdout",
     "output_type": "stream",
     "text": [
      "Enter the principal amount: 1000\n",
      "Enter the rate of interest: 10\n",
      "Enter the time period: 2\n",
      "simple interset:  200.0\n"
     ]
    }
   ],
   "source": [
    "# 4. WAF get_si() that takes Principle, Rate and Time as arguments and returns the Simple\n",
    "# Interest. \n",
    "\n",
    "def get_si(p,r,t):\n",
    "    si = (p*r*t)/100\n",
    "    return si\n",
    "p = float(input(\"Enter the principal amount: \"))\n",
    "r = float(input(\"Enter the rate of interest: \"))\n",
    "t = float(input(\"Enter the time period: \"))\n",
    "\n",
    "print(\"simple interset: \", get_si(p,r,t))"
   ]
  },
  {
   "cell_type": "code",
   "execution_count": 9,
   "metadata": {},
   "outputs": [
    {
     "name": "stdout",
     "output_type": "stream",
     "text": [
      "Enter the principal amount: 1000\n",
      "total amount with interest :  1100.0\n"
     ]
    }
   ],
   "source": [
    "# 5. WAF get_amount() that takes Principle, Rate and Time as arguments and returns the\n",
    "# Total amount using the get_si() function from above to calculate the SI. Also provide\n",
    "# Rate = 10 and Time = 1 as default arguments. \n",
    "\n",
    "def get_amount(p,r=10,t=1):\n",
    "    total_amt = p + (p*10*1)/100\n",
    "    return total_amt\n",
    "\n",
    "p = float(input(\"Enter the principal amount: \"))\n",
    "amount = get_amount(p,10,1)\n",
    "\n",
    "print(\"total amount with interest : \", amount)"
   ]
  },
  {
   "cell_type": "code",
   "execution_count": null,
   "metadata": {},
   "outputs": [],
   "source": []
  },
  {
   "cell_type": "code",
   "execution_count": 10,
   "metadata": {},
   "outputs": [
    {
     "name": "stdout",
     "output_type": "stream",
     "text": [
      "total amount with interest :  1100.0\n"
     ]
    }
   ],
   "source": [
    "def get_amount(p,r=10,t=1):\n",
    "    total_amt = p + (p*10*1)/100\n",
    "    return total_amt\n",
    "\n",
    "\n",
    "\n",
    "print(\"total amount with interest : \", get_amount(1000))"
   ]
  },
  {
   "cell_type": "code",
   "execution_count": 11,
   "metadata": {},
   "outputs": [
    {
     "data": {
      "text/plain": [
       "210.00000000000023"
      ]
     },
     "execution_count": 11,
     "metadata": {},
     "output_type": "execute_result"
    }
   ],
   "source": [
    "# 6) WAP get_ci() that takes Principle, Rate and Time as arguments and returns the\n",
    "# Compound Interest.\n",
    "\n",
    "def get_ci(p,r,t):\n",
    "    ci_with_principle = (p * ((1 + (r/100))**(t)))\n",
    "    only_ci = ci_with_principle - p\n",
    "    return only_ci\n",
    "\n",
    "get_ci(1000,10,2)"
   ]
  },
  {
   "cell_type": "code",
   "execution_count": 12,
   "metadata": {},
   "outputs": [
    {
     "name": "stdout",
     "output_type": "stream",
     "text": [
      "Enetr first number: 5\n",
      "Enetr second number: 2\n",
      "the remainder in the form of a tuple:  (2.5, 1) <class 'tuple'>\n"
     ]
    }
   ],
   "source": [
    "# 7. WAP get_q_r() taking 2 numbers as parameters and returns the quotient and\n",
    "# remainder in the form of a tuple. \n",
    "\n",
    "def get_q_r(a,b):\n",
    "    quo = a/b\n",
    "    rem = a%b\n",
    "    return (quo,rem)\n",
    "\n",
    "a = int(input(\"Enetr first number: \"))\n",
    "b = int(input(\"Enetr second number: \"))\n",
    "\n",
    "res = get_q_r(a,b)\n",
    "\n",
    "print(\"the remainder in the form of a tuple: \", get_q_r(a,b), type(res))"
   ]
  },
  {
   "cell_type": "code",
   "execution_count": 15,
   "metadata": {},
   "outputs": [
    {
     "name": "stdout",
     "output_type": "stream",
     "text": [
      "Enter the height: 12\n",
      "Enter the Base: 5\n",
      "The length of hypotenuse :  13.0\n"
     ]
    }
   ],
   "source": [
    "# 8. WAP to find the length of hypotenuse of a right angled triangle, input the height and\n",
    "# base from user. \n",
    "\n",
    "import math\n",
    "\n",
    "def hypo(h,b):\n",
    "    len_of_hypo =math.sqrt((h**2) + (b**2))\n",
    "    return(len_of_hypo)\n",
    "    \n",
    "h = int(input(\"Enter the height: \"))\n",
    "b = int(input(\"Enter the Base: \"))\n",
    "\n",
    "print(\"The length of hypotenuse : \", hypo(h,b))\n"
   ]
  },
  {
   "cell_type": "code",
   "execution_count": 20,
   "metadata": {},
   "outputs": [
    {
     "name": "stdout",
     "output_type": "stream",
     "text": [
      "Enter the time in seconds: 10000\n",
      "0 2 46 40\n"
     ]
    }
   ],
   "source": [
    "# WAP to input number of seconds and print in days, hours, minutes and seconds\n",
    "# ex: input = 10000\n",
    "# Output = 0 day 2 hour 46 minute 40 second\n",
    "\n",
    "def time(seconds):\n",
    "    days = seconds//(24*3600)\n",
    "    seconds = seconds%(24*3600)\n",
    "    hours = seconds//3600\n",
    "    seconds = seconds%3600\n",
    "    minutes = seconds//60\n",
    "    seconds = seconds%60\n",
    "    seconds = seconds\n",
    "    print(days,hours, minutes,seconds)\n",
    "    \n",
    "seconds = int(input(\"Enter the time in seconds: \" ))\n",
    "time(seconds)"
   ]
  },
  {
   "cell_type": "code",
   "execution_count": 21,
   "metadata": {},
   "outputs": [
    {
     "data": {
      "text/plain": [
       "'3.7.6 (default, Jan  8 2020, 20:23:39) [MSC v.1916 64 bit (AMD64)]'"
      ]
     },
     "execution_count": 21,
     "metadata": {},
     "output_type": "execute_result"
    }
   ],
   "source": [
    "# 10. Check your version of python interpreter without opening the interpreter (Which\n",
    "# command needs to be used on the command line).\n",
    "import sys\n",
    "sys.version"
   ]
  },
  {
   "cell_type": "code",
   "execution_count": 22,
   "metadata": {},
   "outputs": [
    {
     "name": "stdout",
     "output_type": "stream",
     "text": [
      "3.7.6\n"
     ]
    }
   ],
   "source": [
    "import platform\n",
    "print(platform.python_version())"
   ]
  },
  {
   "cell_type": "code",
   "execution_count": 23,
   "metadata": {},
   "outputs": [
    {
     "name": "stdout",
     "output_type": "stream",
     "text": [
      "2 -2\n"
     ]
    }
   ],
   "source": [
    "# 11. Find output:\n",
    "x=2\n",
    "x*=3\n",
    "x=x%4\n",
    "y=-x\n",
    "print(x,y)"
   ]
  },
  {
   "cell_type": "code",
   "execution_count": 24,
   "metadata": {},
   "outputs": [
    {
     "name": "stdout",
     "output_type": "stream",
     "text": [
      "None\n"
     ]
    }
   ],
   "source": [
    "# 12. Find output:\n",
    "def funct():\n",
    "    pass\n",
    "print(funct())"
   ]
  },
  {
   "cell_type": "code",
   "execution_count": null,
   "metadata": {},
   "outputs": [],
   "source": []
  }
 ],
 "metadata": {
  "kernelspec": {
   "display_name": "Python 3",
   "language": "python",
   "name": "python3"
  },
  "language_info": {
   "codemirror_mode": {
    "name": "ipython",
    "version": 3
   },
   "file_extension": ".py",
   "mimetype": "text/x-python",
   "name": "python",
   "nbconvert_exporter": "python",
   "pygments_lexer": "ipython3",
   "version": "3.7.6"
  }
 },
 "nbformat": 4,
 "nbformat_minor": 4
}
