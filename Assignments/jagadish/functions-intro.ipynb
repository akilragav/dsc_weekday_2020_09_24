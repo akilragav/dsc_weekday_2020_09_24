{
 "cells": [
  {
   "cell_type": "markdown",
   "metadata": {},
   "source": [
    "# Functions-intro"
   ]
  },
  {
   "cell_type": "code",
   "execution_count": 1,
   "metadata": {},
   "outputs": [
    {
     "name": "stdout",
     "output_type": "stream",
     "text": [
      "Enter first string: jag\n",
      "Enter second string: kan\n",
      "kan\n",
      "jag\n"
     ]
    }
   ],
   "source": [
    "#1. WAP to input 2 strings and swap the strings \n",
    "\n",
    "s1 = input(\"Enter first string: \")\n",
    "s2 = input(\"Enter second string: \")\n",
    "\n",
    "s1,s2 = s2,s1\n",
    "print(s1)\n",
    "print(s2)"
   ]
  },
  {
   "cell_type": "code",
   "execution_count": 2,
   "metadata": {},
   "outputs": [
    {
     "name": "stdout",
     "output_type": "stream",
     "text": [
      "[23, 4, 18, 15]\n",
      "15.0\n"
     ]
    }
   ],
   "source": [
    "# 2. WAP to generate 4 random numbers in the range 0-26 and print their average \n",
    "\n",
    "import random\n",
    "s = random.sample(range(0,26),4)\n",
    "print(s)\n",
    "print(sum(s)/4)"
   ]
  },
  {
   "cell_type": "code",
   "execution_count": 3,
   "metadata": {},
   "outputs": [
    {
     "name": "stdout",
     "output_type": "stream",
     "text": [
      "Z\n"
     ]
    }
   ],
   "source": [
    "# 3. WAP to generate and print a random uppercase or lowercase alphabet. Try these:\n",
    "# • Create a string containing all alphabets and then select a random alphabet.\n",
    "# • Check the module string \n",
    "\n",
    "import random\n",
    "s = \"ABCDEFGHIJKLMNOPQRSTUVWXYZabcdefghijklmnopqrstuvwxyz\"\n",
    "s = random.sample(s,len(s))\n",
    "print(s[0])\n"
   ]
  },
  {
   "cell_type": "code",
   "execution_count": 4,
   "metadata": {},
   "outputs": [
    {
     "name": "stdout",
     "output_type": "stream",
     "text": [
      "Enter the principal amount: 1000\n",
      "Enter the rate of interest: 10\n",
      "Enter the time period: 3\n",
      "simple interset:  300.0\n"
     ]
    }
   ],
   "source": [
    "# 4. WAF get_si() that takes Principle, Rate and Time as arguments and returns the Simple\n",
    "# Interest. \n",
    "\n",
    "def get_si(p,r,t):\n",
    "    si = (p*r*t)/100\n",
    "    return si\n",
    "p = float(input(\"Enter the principal amount: \"))\n",
    "r = float(input(\"Enter the rate of interest: \"))\n",
    "t = float(input(\"Enter the time period: \"))\n",
    "\n",
    "print(\"simple interset: \", get_si(p,r,t))"
   ]
  },
  {
   "cell_type": "code",
   "execution_count": 5,
   "metadata": {},
   "outputs": [
    {
     "name": "stdout",
     "output_type": "stream",
     "text": [
      "Enter the principal amount: 10000\n",
      "total amount with interest :  11000.0\n"
     ]
    }
   ],
   "source": [
    "# 5. WAF get_amount() that takes Principle, Rate and Time as arguments and returns the\n",
    "# Total amount using the get_si() function from above to calculate the SI. Also provide\n",
    "# Rate = 10 and Time = 1 as default arguments. \n",
    "\n",
    "def get_amount(p,r=10,t=1):\n",
    "    total_amt = p + (p*10*1)/100\n",
    "    return total_amt\n",
    "\n",
    "p = float(input(\"Enter the principal amount: \"))\n",
    "amount = get_amount(p,r,t)\n",
    "\n",
    "print(\"total amount with interest : \", amount)"
   ]
  },
  {
   "cell_type": "code",
   "execution_count": null,
   "metadata": {},
   "outputs": [],
   "source": []
  },
  {
   "cell_type": "code",
   "execution_count": 6,
   "metadata": {},
   "outputs": [
    {
     "name": "stdout",
     "output_type": "stream",
     "text": [
      "total amount with interest :  1100.0\n"
     ]
    }
   ],
   "source": [
    "def get_amount(p,r=10,t=1):\n",
    "    total_amt = p + (p*10*1)/100\n",
    "    return total_amt\n",
    "\n",
    "\n",
    "\n",
    "print(\"total amount with interest : \", get_amount(1000))"
   ]
  },
  {
   "cell_type": "code",
   "execution_count": 7,
   "metadata": {},
   "outputs": [
    {
     "data": {
      "text/plain": [
       "210.00000000000023"
      ]
     },
     "execution_count": 7,
     "metadata": {},
     "output_type": "execute_result"
    }
   ],
   "source": [
    "# 6) WAP get_ci() that takes Principle, Rate and Time as arguments and returns the\n",
    "# Compound Interest.\n",
    "\n",
    "def get_ci(p,r,t):\n",
    "    ci_with_principle = (p * ((1 + (r/100))**(t)))\n",
    "    only_ci = ci_with_principle - p\n",
    "    return only_ci\n",
    "\n",
    "get_ci(1000,10,2)"
   ]
  },
  {
   "cell_type": "code",
   "execution_count": null,
   "metadata": {},
   "outputs": [],
   "source": [
    "# 7. WAP get_q_r() taking 2 numbers as parameters and returns the quotient and\n",
    "# remainder in the form of a tuple. \n",
    "\n",
    "def get_q_r(a,b):\n",
    "    quo = a/b\n",
    "    rem = a%b\n",
    "    return (quo,rem)\n",
    "\n",
    "a = int(input(\"Enetr first number: \"))\n",
    "b = int(input(\"Enetr second number: \"))\n",
    "\n",
    "print(\"the remainder in the form of a tuple: \", get_q_r(a,b))"
   ]
  },
  {
   "cell_type": "code",
   "execution_count": null,
   "metadata": {},
   "outputs": [],
   "source": []
  }
 ],
 "metadata": {
  "kernelspec": {
   "display_name": "Python 3",
   "language": "python",
   "name": "python3"
  },
  "language_info": {
   "codemirror_mode": {
    "name": "ipython",
    "version": 3
   },
   "file_extension": ".py",
   "mimetype": "text/x-python",
   "name": "python",
   "nbconvert_exporter": "python",
   "pygments_lexer": "ipython3",
   "version": "3.7.6"
  }
 },
 "nbformat": 4,
 "nbformat_minor": 4
}
