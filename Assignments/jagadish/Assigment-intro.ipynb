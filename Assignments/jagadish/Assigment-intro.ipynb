{
 "cells": [
  {
   "cell_type": "markdown",
   "metadata": {},
   "source": [
    "# Assignment_intro"
   ]
  },
  {
   "cell_type": "code",
   "execution_count": 1,
   "metadata": {},
   "outputs": [
    {
     "name": "stdout",
     "output_type": "stream",
     "text": [
      "6 19\n"
     ]
    }
   ],
   "source": [
    "# 1. Predict Output: \n",
    "s1=\"Gaurav\"\n",
    "s2=\"tuteur.py@gmail.com\"\n",
    "print(len(s1),len(s2))"
   ]
  },
  {
   "cell_type": "code",
   "execution_count": 2,
   "metadata": {},
   "outputs": [
    {
     "name": "stdout",
     "output_type": "stream",
     "text": [
      "Enter a string: jagadish\n",
      "8\n"
     ]
    }
   ],
   "source": [
    "# 2. WAP to input a string and print its length. \n",
    "s = input(\"Enter a string: \")\n",
    "print(len(s))"
   ]
  },
  {
   "cell_type": "code",
   "execution_count": 6,
   "metadata": {},
   "outputs": [
    {
     "name": "stdout",
     "output_type": "stream",
     "text": [
      "Enter a number: 3\n",
      "Enter a number: 2\n",
      "sum:  5.0\n",
      "diff:  1.0\n"
     ]
    }
   ],
   "source": [
    "#3. WAP to input 2 numbers and print their sum and difference. \n",
    "\n",
    "a = float(input('Enter a number: '))\n",
    "b = float(input('Enter a number: '))\n",
    "print('sum: ', (a +b))\n",
    "print('diff: ', (a - b))\n"
   ]
  },
  {
   "cell_type": "code",
   "execution_count": 7,
   "metadata": {},
   "outputs": [
    {
     "name": "stdout",
     "output_type": "stream",
     "text": [
      "abde\n"
     ]
    }
   ],
   "source": [
    "# 4. Predict output:\n",
    "s1 = 'ab'\n",
    "s2 = 'de'\n",
    "s3 = s1 + s2\n",
    "\n",
    "print(s3)"
   ]
  },
  {
   "cell_type": "code",
   "execution_count": 8,
   "metadata": {},
   "outputs": [
    {
     "name": "stdout",
     "output_type": "stream",
     "text": [
      "abababab\n"
     ]
    }
   ],
   "source": [
    "# 6. Predict output: \n",
    "s1 = 'ab'*4\n",
    "\n",
    "print(s1)"
   ]
  },
  {
   "cell_type": "code",
   "execution_count": 9,
   "metadata": {},
   "outputs": [
    {
     "name": "stdout",
     "output_type": "stream",
     "text": [
      "ab\n",
      "ab\n",
      "ab\n",
      "ab\n",
      "\n"
     ]
    }
   ],
   "source": [
    "# 7. Predict output: \n",
    "\n",
    "s1 = 'ab\\n'*4\n",
    "\n",
    "print(s1)"
   ]
  },
  {
   "cell_type": "code",
   "execution_count": 10,
   "metadata": {},
   "outputs": [
    {
     "name": "stdout",
     "output_type": "stream",
     "text": [
      "ab\n",
      "ab\n",
      "ab\n",
      "ab\n",
      "\n"
     ]
    }
   ],
   "source": [
    "# 7. Predict output: \n",
    "\n",
    "s1 = 'ab\\n'*4\n",
    "\n",
    "print(s1)"
   ]
  },
  {
   "cell_type": "code",
   "execution_count": 11,
   "metadata": {},
   "outputs": [
    {
     "name": "stdout",
     "output_type": "stream",
     "text": [
      "Please enter a string: Hello\n",
      "Please enter a number: 5\n",
      "Hello\n",
      "Hello\n",
      "Hello\n",
      "Hello\n",
      "Hello\n",
      "\n"
     ]
    }
   ],
   "source": [
    "# 8. WAP to input a string s and a number n. Print the string n times on the screen, each should appear in a separate line \n",
    "#(do not use any kind of loops, use the multiplication operator).\n",
    "\n",
    "s = input(\"Please enter a string: \")\n",
    "n = int(input(\"Please enter a number: \"))\n",
    "\n",
    "res = (s + '\\n')*n\n",
    "print(res)"
   ]
  },
  {
   "cell_type": "code",
   "execution_count": 12,
   "metadata": {},
   "outputs": [
    {
     "name": "stdout",
     "output_type": "stream",
     "text": [
      "Gaurav\n",
      "None\n"
     ]
    }
   ],
   "source": [
    "# 9. Predict Output:\n",
    "\n",
    "res = print(\"Gaurav\")\n",
    "print(res)"
   ]
  },
  {
   "cell_type": "code",
   "execution_count": 13,
   "metadata": {},
   "outputs": [
    {
     "name": "stdout",
     "output_type": "stream",
     "text": [
      "<class 'int'>\n"
     ]
    }
   ],
   "source": [
    "# 10. Predict Output: \n",
    "\n",
    "res = len(\"tuteur.py@gmail.com\")\n",
    "print(type(res))"
   ]
  },
  {
   "cell_type": "code",
   "execution_count": 14,
   "metadata": {},
   "outputs": [
    {
     "name": "stdout",
     "output_type": "stream",
     "text": [
      "Gaurav\n",
      "tuteur.py@gmail.com\n",
      "<class 'str'>\n",
      "26\n"
     ]
    }
   ],
   "source": [
    "# 11. Predict Output: \n",
    "s1=\"Gaurav\"\n",
    "s2=\"tuteur.py@gmail.com\"\n",
    "s3=s1+'\\n'+s2\n",
    "print(s3)\n",
    "print(type(s3))\n",
    "print(len(s3))"
   ]
  },
  {
   "cell_type": "code",
   "execution_count": 15,
   "metadata": {},
   "outputs": [
    {
     "name": "stdout",
     "output_type": "stream",
     "text": [
      "['In', 'Out', '_', '__', '___', '__builtin__', '__builtins__', '__doc__', '__loader__', '__name__', '__package__', '__spec__', '_dh', '_i', '_i1', '_i10', '_i11', '_i12', '_i13', '_i14', '_i15', '_i2', '_i3', '_i4', '_i5', '_i6', '_i7', '_i8', '_i9', '_ih', '_ii', '_iii', '_oh', 'a', 'b', 'exit', 'get_ipython', 'math', 'n', 'quit', 'res', 's', 's1', 's2', 's3']\n"
     ]
    }
   ],
   "source": [
    "# 12. Find the name of function to find the square root. (see all the options available in dir() of math) \n",
    "\n",
    "import math\n",
    "\n",
    "print(dir())"
   ]
  },
  {
   "cell_type": "code",
   "execution_count": 18,
   "metadata": {},
   "outputs": [
    {
     "name": "stdout",
     "output_type": "stream",
     "text": [
      "Enter a number: 36\n",
      "square of num: 6.0\n"
     ]
    }
   ],
   "source": [
    "# 13. WAP to input a number and print its square root ().\n",
    "import math\n",
    "num = int(input(\"Enter a number: \"))\n",
    "res = math.sqrt(num)\n",
    "print(\"square of num:\", res)\n"
   ]
  },
  {
   "cell_type": "code",
   "execution_count": 19,
   "metadata": {},
   "outputs": [
    {
     "name": "stdout",
     "output_type": "stream",
     "text": [
      "Enter a number:10\n",
      "Enter a number:20\n",
      "Enter a number:30\n",
      "Enter a number:20\n",
      "Avg of 4 nums:  20.0\n"
     ]
    }
   ],
   "source": [
    "#14. WAP to input 4 numbers from user and print their average \n",
    "a = int(input(\"Enter a number:\"))\n",
    "b = int(input(\"Enter a number:\"))\n",
    "c = int(input(\"Enter a number:\"))\n",
    "d = int(input(\"Enter a number:\"))\n",
    "\n",
    "avg = (a+b+c+d)/4\n",
    "\n",
    "print(\"Avg of 4 nums: \", avg)"
   ]
  },
  {
   "cell_type": "code",
   "execution_count": 20,
   "metadata": {},
   "outputs": [
    {
     "name": "stdout",
     "output_type": "stream",
     "text": [
      "Help on built-in function abs in module builtins:\n",
      "\n",
      "abs(x, /)\n",
      "    Return the absolute value of the argument.\n",
      "\n"
     ]
    }
   ],
   "source": [
    "# 15. Use the help function to check what the abs function in python does.\n",
    "\n",
    "help(abs)"
   ]
  },
  {
   "cell_type": "code",
   "execution_count": 21,
   "metadata": {},
   "outputs": [
    {
     "name": "stdout",
     "output_type": "stream",
     "text": [
      "__main__\n"
     ]
    }
   ],
   "source": [
    "# 16. What is the output of this code when run from python interpreter. \n",
    "\n",
    "print(__name__)"
   ]
  },
  {
   "cell_type": "code",
   "execution_count": 23,
   "metadata": {},
   "outputs": [
    {
     "name": "stdout",
     "output_type": "stream",
     "text": [
      "['__abs__', '__add__', '__and__', '__bool__', '__ceil__', '__class__', '__delattr__', '__dir__', '__divmod__', '__doc__', '__eq__', '__float__', '__floor__', '__floordiv__', '__format__', '__ge__', '__getattribute__', '__getnewargs__', '__gt__', '__hash__', '__index__', '__init__', '__init_subclass__', '__int__', '__invert__', '__le__', '__lshift__', '__lt__', '__mod__', '__mul__', '__ne__', '__neg__', '__new__', '__or__', '__pos__', '__pow__', '__radd__', '__rand__', '__rdivmod__', '__reduce__', '__reduce_ex__', '__repr__', '__rfloordiv__', '__rlshift__', '__rmod__', '__rmul__', '__ror__', '__round__', '__rpow__', '__rrshift__', '__rshift__', '__rsub__', '__rtruediv__', '__rxor__', '__setattr__', '__sizeof__', '__str__', '__sub__', '__subclasshook__', '__truediv__', '__trunc__', '__xor__', 'bit_length', 'conjugate', 'denominator', 'from_bytes', 'imag', 'numerator', 'real', 'to_bytes']\n"
     ]
    }
   ],
   "source": [
    "# 18. Does the dir of int class contain an attribute __name__ (Y/N).\n",
    "\n",
    "# No\n",
    "print(dir(int))"
   ]
  },
  {
   "cell_type": "code",
   "execution_count": null,
   "metadata": {},
   "outputs": [],
   "source": []
  }
 ],
 "metadata": {
  "kernelspec": {
   "display_name": "Python 3",
   "language": "python",
   "name": "python3"
  },
  "language_info": {
   "codemirror_mode": {
    "name": "ipython",
    "version": 3
   },
   "file_extension": ".py",
   "mimetype": "text/x-python",
   "name": "python",
   "nbconvert_exporter": "python",
   "pygments_lexer": "ipython3",
   "version": "3.7.6"
  }
 },
 "nbformat": 4,
 "nbformat_minor": 4
}
