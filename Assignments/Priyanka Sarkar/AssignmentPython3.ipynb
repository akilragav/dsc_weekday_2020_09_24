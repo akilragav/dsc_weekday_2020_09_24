{
 "cells": [
  {
   "cell_type": "code",
   "execution_count": 4,
   "metadata": {},
   "outputs": [
    {
     "name": "stdout",
     "output_type": "stream",
     "text": [
      "Please enter 2 strings: ab cd\n",
      "Before swapping: a=ab,b=cd\n",
      "After swapping: a=cd,b=ab\n"
     ]
    }
   ],
   "source": [
    "#wap to input 2 strings and swap them\n",
    "def swap(s):\n",
    "    s1=''\n",
    "    s1=s[0]\n",
    "    s[0]=s[1]\n",
    "    s[1]=s1\n",
    "    \n",
    "s=list(map(str,input(\"Please enter 2 strings: \").split()))\n",
    "print(\"Before swapping: a={},b={}\".format(s[0],s[1]))\n",
    "swap(s)\n",
    "print(\"After swapping: a={},b={}\".format(s[0],s[1]))"
   ]
  },
  {
   "cell_type": "code",
   "execution_count": 13,
   "metadata": {},
   "outputs": [
    {
     "name": "stdout",
     "output_type": "stream",
     "text": [
      "Random numbers are: \n",
      "17\n",
      "11\n",
      "24\n",
      "26\n",
      "Total of 4 ranodm numbers is:  78\n",
      "Average of 4 random numbers is:  19.5\n"
     ]
    }
   ],
   "source": [
    "#WAP to generate 4 random numbers in the range 0-26 and print their average \n",
    "import random\n",
    "avg1=0.0\n",
    "def ranfunc():\n",
    "    i=0\n",
    "    #tot=0\n",
    "    s=[]\n",
    "    print(\"Random numbers are: \")\n",
    "    while i < 4:\n",
    "        r=random.randint(0,27)\n",
    "        print(r)\n",
    "        s.append(r)\n",
    "       #print s\n",
    "        i+=1\n",
    "    print(\"Total of 4 ranodm numbers is: \",sum(s))\n",
    "    avg=sum(s)/len(s)\n",
    "    return avg\n",
    "avg1=ranfunc()\n",
    "print(\"Average of 4 random numbers is: \",avg1)\n"
   ]
  },
  {
   "cell_type": "code",
   "execution_count": 21,
   "metadata": {},
   "outputs": [
    {
     "name": "stdout",
     "output_type": "stream",
     "text": [
      "tlVVDiJdUfzQGFlciPlcWEJkO\n"
     ]
    }
   ],
   "source": [
    "#WAP to generate and print a random uppercase or lowercase alphabet. Try these:\n",
    "#• Create a string containing all alphabets and then select a random alphabet.\n",
    "#• Check the module string \n",
    "import random\n",
    "import string\n",
    "def alpha_random():\n",
    "    str1=''\n",
    "    for i in range(1,26):\n",
    "        str1+=random.choice(string.ascii_letters)#+random.choice(string.ascii_lower)\n",
    "    return str1\n",
    "s=alpha_random()\n",
    "print(s)"
   ]
  },
  {
   "cell_type": "code",
   "execution_count": 23,
   "metadata": {},
   "outputs": [
    {
     "name": "stdout",
     "output_type": "stream",
     "text": [
      "Enter Principle,Rate and Time: 1000,10,4\n",
      "Simple Inetrest: 400.0\n"
     ]
    }
   ],
   "source": [
    "#WAF get_si() that takes Principle, Rate and Time as arguments and returns the Simple Interest. \n",
    "def get_si(p):\n",
    "    interest=(p[0]*p[1]*p[2])/100\n",
    "    return interest\n",
    "arg=list(map(int,input(\"Enter Principle,Rate and Time: \").split(',')))\n",
    "si=get_si(arg)\n",
    "print(\"Simple Inetrest: {}\".format(si))\n",
    "    "
   ]
  },
  {
   "cell_type": "code",
   "execution_count": 33,
   "metadata": {},
   "outputs": [
    {
     "name": "stdout",
     "output_type": "stream",
     "text": [
      "Enter principle: 1000\n",
      "Enter rate: 10\n",
      "Enter time: 4\n",
      "400.0\n",
      "Amount: 1400.0\n"
     ]
    }
   ],
   "source": [
    "#WAF get_amount() that takes Principle, Rate and Time as arguments and returns the\n",
    "#Total amount using the get_si() function from above to calculate the SI. Also provide\n",
    "#Rate = 10 and Time = 1 as default arguments. \n",
    "def amount(p1,r1=10,t1=1):\n",
    "    interest=get_si(p1,r1,t1)\n",
    "    print(interest)\n",
    "    amount=interest+p1\n",
    "    return amount\n",
    "\n",
    "def get_si(p2,r2,t2):\n",
    "    interest=(p2*r2*t2)/100\n",
    "    return interest\n",
    "\n",
    "p=float(input(\"Enter principle: \"))\n",
    "r=float(input(\"Enter rate: \"))\n",
    "t=int(input(\"Enter time: \"))\n",
    "amount=amount(p,r,t)\n",
    "print(\"Amount: {}\".format(amount))\n"
   ]
  },
  {
   "cell_type": "code",
   "execution_count": 34,
   "metadata": {},
   "outputs": [
    {
     "name": "stdout",
     "output_type": "stream",
     "text": [
      "Enter principle: 1000\n",
      "Enter rate: 10\n",
      "Enter time: 4\n",
      "Compound Interest:  464.10000000000036\n"
     ]
    }
   ],
   "source": [
    "#WAP get_ci() that takes Principle, Rate and Time as arguments and returns the\n",
    "#Compound Interest. \n",
    "def get_ci(p,r,t):\n",
    "    amt=p*pow((1+(r/100)),t)\n",
    "    interest=amt-p\n",
    "    return interest\n",
    "\n",
    "p=float(input(\"Enter principle: \"))\n",
    "r=float(input(\"Enter rate: \"))\n",
    "t=int(input(\"Enter time: \"))\n",
    "ci=get_ci(p,r,t)\n",
    "print(\"Compound Interest: \",ci)"
   ]
  },
  {
   "cell_type": "code",
   "execution_count": 36,
   "metadata": {},
   "outputs": [
    {
     "name": "stdout",
     "output_type": "stream",
     "text": [
      "enter 1st number: 10\n",
      "enter 2nd number: 4\n",
      "quotient and remainder in form of tuple:  (2.5, 2)\n"
     ]
    }
   ],
   "source": [
    "#WAP get_q_r() taking 2 numbers as parameters and returns the quotient and\n",
    "#remainder in the form of a tuple. \n",
    "def q_r(n1,n2):\n",
    "    q=n1/n2\n",
    "    r=n1%n2\n",
    "    return(q,r)\n",
    "\n",
    "n1=int(input(\"enter 1st number: \"))\n",
    "n2=int(input(\"enter 2nd number: \"))\n",
    "x,y=q_r(n1,n2)\n",
    "print(\"quotient and remainder in form of tuple: \",(x,y))"
   ]
  },
  {
   "cell_type": "code",
   "execution_count": 38,
   "metadata": {},
   "outputs": [
    {
     "name": "stdout",
     "output_type": "stream",
     "text": [
      "Enter hypotenuse: 4\n",
      "Enter base: 3\n",
      "Hypotenuse:  5.0\n"
     ]
    }
   ],
   "source": [
    "#WAP to find the length of hypotenuse of a right angled triangle, input the height and\n",
    "#base from user. \n",
    "import math\n",
    "def hyp(ht,b):\n",
    "    hypt=math.sqrt(ht**2+b**2)\n",
    "    return hypt\n",
    "h=int(input(\"Enter height: \"))\n",
    "b=int(input(\"Enter base: \"))\n",
    "hypt=hyp(h,b)\n",
    "print(\"Hypotenuse: \",hypt)"
   ]
  },
  {
   "cell_type": "code",
   "execution_count": 28,
   "metadata": {},
   "outputs": [],
   "source": [
    "#WAP to input number of seconds and print in days, hours, minutes and seconds\n",
    "#ex: input = 10000\n",
    " #Output = 0 day 2 hour 46 minute 40 second "
   ]
  },
  {
   "cell_type": "code",
   "execution_count": 40,
   "metadata": {},
   "outputs": [
    {
     "name": "stdout",
     "output_type": "stream",
     "text": [
      "3.8.3 (default, Jul  2 2020, 17:30:36) [MSC v.1916 64 bit (AMD64)]\n"
     ]
    }
   ],
   "source": [
    "doubt\n",
    "#Check your version of python interpreter without opening the interpreter (Which\n",
    "#command needs to be used on the command line). \n",
    "import sys\n",
    "print(sys.version)"
   ]
  },
  {
   "cell_type": "code",
   "execution_count": 30,
   "metadata": {},
   "outputs": [
    {
     "name": "stdout",
     "output_type": "stream",
     "text": [
      "2 -2\n"
     ]
    }
   ],
   "source": [
    "X=2\n",
    "X*=3\n",
    "X=X%4\n",
    "Y=-X\n",
    "print(X,Y)"
   ]
  },
  {
   "cell_type": "code",
   "execution_count": 31,
   "metadata": {},
   "outputs": [
    {
     "name": "stdout",
     "output_type": "stream",
     "text": [
      "None\n"
     ]
    }
   ],
   "source": [
    "def funct():\n",
    "    pass\n",
    "print(funct())"
   ]
  },
  {
   "cell_type": "code",
   "execution_count": null,
   "metadata": {},
   "outputs": [],
   "source": []
  }
 ],
 "metadata": {
  "kernelspec": {
   "display_name": "Python 3",
   "language": "python",
   "name": "python3"
  },
  "language_info": {
   "codemirror_mode": {
    "name": "ipython",
    "version": 3
   },
   "file_extension": ".py",
   "mimetype": "text/x-python",
   "name": "python",
   "nbconvert_exporter": "python",
   "pygments_lexer": "ipython3",
   "version": "3.8.3"
  }
 },
 "nbformat": 4,
 "nbformat_minor": 4
}
