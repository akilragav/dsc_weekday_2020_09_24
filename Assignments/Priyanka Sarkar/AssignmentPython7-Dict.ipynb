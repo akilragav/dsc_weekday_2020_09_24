{
 "cells": [
  {
   "cell_type": "code",
   "execution_count": 28,
   "metadata": {},
   "outputs": [
    {
     "name": "stdout",
     "output_type": "stream",
     "text": [
      "{1: -1, 2: -2, 3: -3, 4: -4, 5: -5}\n",
      "\n",
      "Enter 5 numbers: 1,2,3,4,5\n",
      "{1: -1, 2: -2, 3: -3, 4: -4, 5: -5}\n"
     ]
    }
   ],
   "source": [
    "#WAP to create a dictionary of numbers mapped to their negative value for numbers from 1-5.\n",
    "#The dictionary should contain something like this:\n",
    "#Do with both with and without range based for loop.\n",
    "#{1:-1,2:-2,3:-3….} \n",
    "d={}\n",
    "for i in range(1,6):\n",
    "    d[i]=-i\n",
    "print(d)\n",
    "print()\n",
    "l=list(map(int,input(\"Enter 5 numbers: \").split(',')))\n",
    "d1={}\n",
    "for k,v in enumerate(l,1):\n",
    "    d1[k]=-k\n",
    "    #l+=1\n",
    "print(d1)    "
   ]
  },
  {
   "cell_type": "code",
   "execution_count": 23,
   "metadata": {},
   "outputs": [
    {
     "ename": "SyntaxError",
     "evalue": "expression cannot contain assignment, perhaps you meant \"==\"? (<ipython-input-23-58cc1bede5d2>, line 23)",
     "output_type": "error",
     "traceback": [
      "\u001b[1;36m  File \u001b[1;32m\"<ipython-input-23-58cc1bede5d2>\"\u001b[1;36m, line \u001b[1;32m23\u001b[0m\n\u001b[1;33m    d=dict(1=2,2=3)\u001b[0m\n\u001b[1;37m           ^\u001b[0m\n\u001b[1;31mSyntaxError\u001b[0m\u001b[1;31m:\u001b[0m expression cannot contain assignment, perhaps you meant \"==\"?\n"
     ]
    }
   ],
   "source": [
    "#d={1=2,2=3}#invalid\n",
    "#print(d)\n",
    "#d={1:2,2:3}#valid\n",
    "#print(d)\n",
    "#d={1,2;2,3}#invalid\n",
    "#print(d)\n",
    "#d={(1,2),(2,3)}#valid\n",
    "#print(d)\n",
    "#d={'a':'A','b':1,c:[1234]}#invalid\n",
    "#print(d)\n",
    "#d={'a':'A','b':1,'c':[1234]}#valid\n",
    "#print(d)\n",
    "#d=dict([(1,2),(2,3)])#valid\n",
    "#print(d)\n",
    "#d=dict(((1,2),(2,3)))#valid\n",
    "#print(d)\n",
    "#d=dict((1,2),(2,3)])#invalid\n",
    "#print(d)\n",
    "#d=dict(x=2,y=3)#valid\n",
    "#print(d)\n",
    "#d=dict('x'=2,'y'=3)#invalid\n",
    "#print(d)\n",
    "#d=dict(1=2,2=3)#invalid\n",
    "#print(d)"
   ]
  },
  {
   "cell_type": "code",
   "execution_count": 32,
   "metadata": {},
   "outputs": [
    {
     "name": "stdout",
     "output_type": "stream",
     "text": [
      "Enter 4 numbers: 1,2,3,4\n",
      "Enter 4 numbers: 10,20,30,40\n",
      "{1: 10, 2: 20, 3: 30, 4: 40}\n",
      "90\n"
     ]
    }
   ],
   "source": [
    "#Read help for zip and write a program that has two lists\n",
    "#l1 = [1,2,3,4]\n",
    "#l2 = [10,20,30,40]\n",
    "#And converts them to a dictionary d containing { 1:10,2:20 …….}\n",
    "l1=list(map(int,input(\"Enter 4 numbers: \").split(',')))\n",
    "l2=list(map(int,input(\"Enter 4 numbers: \").split(',')))\n",
    "d=dict(zip(l1,l2))\n",
    "print(d)\n",
    "#print(ord('Z'))"
   ]
  },
  {
   "cell_type": "code",
   "execution_count": 33,
   "metadata": {},
   "outputs": [
    {
     "name": "stdout",
     "output_type": "stream",
     "text": [
      "{'A': 65, 'B': 66, 'C': 67, 'D': 68, 'E': 69, 'F': 70, 'G': 71, 'H': 72, 'I': 73, 'J': 74, 'K': 75, 'L': 76, 'M': 77, 'N': 78, 'O': 79, 'P': 80, 'Q': 81, 'R': 82, 'S': 83, 'T': 84, 'U': 85, 'V': 86, 'W': 87, 'X': 88, 'Y': 89, 'Z': 90}\n"
     ]
    }
   ],
   "source": [
    "#Use range based for loop to store all upper case alphabets and their corresponding ASCII\n",
    "#values in the dictionary d.\n",
    "#The result should be d = {‘A’: 65, ‘B’:66,…..}\n",
    "d={}\n",
    "for i in range(65,91):\n",
    "    d[chr(i)]=i\n",
    "print(d)"
   ]
  },
  {
   "cell_type": "code",
   "execution_count": 38,
   "metadata": {},
   "outputs": [
    {
     "name": "stdout",
     "output_type": "stream",
     "text": [
      "dict_keys([0, 1, 2, 3, 4, 5, 6, 7, 8, 9])\n",
      "\n",
      "dict_values(['zero', 'one', 'two', 'three', 'four', 'five', 'six', 'seven', 'eight', 'nine'])\n",
      "\n",
      "{0: 'zero', 1: 'one', 2: 'two', 3: 'three', 4: 'four', 5: 'five', 6: 'six', 7: 'seven', 8: 'eight', 9: 'nine'}\n"
     ]
    }
   ],
   "source": [
    "#Create a mapping of number to word from 0-9. (0:’zero’……)\n",
    "#• Ask user for a single digit number and print the corresponding word format.\n",
    "#• Print all keys of above dictionary\n",
    "#• Print all Values of a dictionary\n",
    "#• Print all Key and Value pairs of above dictionary \n",
    "d={}\n",
    "l=[\"zero\",\"one\",\"two\",\"three\",\"four\",\"five\",\"six\",\"seven\",\"eight\",\"nine\"]\n",
    "for k,v in enumerate(l,0):\n",
    "    d[k]=v\n",
    "print(d.keys())\n",
    "print()\n",
    "print(d.values())\n",
    "print()\n",
    "print(d)"
   ]
  },
  {
   "cell_type": "code",
   "execution_count": 9,
   "metadata": {},
   "outputs": [
    {
     "name": "stdout",
     "output_type": "stream",
     "text": [
      "{'A': 'Apple', 'B': 'Ball', 'C': 'Cat', 'D': 'Dog'}\n",
      "{'A': 'Apple', 'C': 'Cat'}\n"
     ]
    }
   ],
   "source": [
    "l1=['A','B','C','D']\n",
    "l2=['Apple','Ball','Cat','Dog']\n",
    "d1=dict(zip(l1,l2))\n",
    "print(d1)\n",
    "d2=dict(list(d1.items())[::2])\n",
    "print(d2)"
   ]
  },
  {
   "cell_type": "code",
   "execution_count": 45,
   "metadata": {},
   "outputs": [
    {
     "name": "stdout",
     "output_type": "stream",
     "text": [
      "Enter a string: Beautiful Day\n",
      "a : 2\n",
      "e : 1\n",
      "i : 1\n",
      "o : 0\n",
      "u : 2\n"
     ]
    }
   ],
   "source": [
    "#. WAP to input a string and count occurrence of each vowel in a string.\n",
    "#Ex: if user enters:\n",
    "# “Beautiful Day”\n",
    "#Output should Be:\n",
    "# a:2\n",
    "# e:1\n",
    "# I :1\n",
    "# o:0\n",
    "# u:2\n",
    "# [Hint: Use a list of a dictionary (preferably dictionary)] \n",
    "s=input(\"Enter a string: \")\n",
    "a=0\n",
    "e=0\n",
    "i1=0\n",
    "o=0\n",
    "u=0\n",
    "l1=[]\n",
    "l2=[]\n",
    "d={}\n",
    "for i in range(len(s)):\n",
    "    if s[i]=='A' or s[i]=='a':\n",
    "        a+=1\n",
    "    elif s[i]=='E' or s[i]=='e':\n",
    "        e+=1\n",
    "    elif s[i]=='I' or s[i]=='i':\n",
    "        i1+=1\n",
    "    elif s[i]=='O' or s[i]=='o':\n",
    "        o+=1\n",
    "    elif s[i]=='U' or s[i]=='u':\n",
    "        u+=1\n",
    "l1=['a','e','i','o','u']\n",
    "l2=[a,e,i1,o,u]\n",
    "d=dict(zip(l1,l2))\n",
    "for k,v in d.items():\n",
    "    print(k,\":\",v)\n",
    "\n",
    "        "
   ]
  },
  {
   "cell_type": "code",
   "execution_count": 46,
   "metadata": {},
   "outputs": [
    {
     "name": "stdout",
     "output_type": "stream",
     "text": [
      "Enter a string: Apple prevents a doctor\n",
      "Frequency of each character in the given string: \n",
      "A : 1\n",
      "p : 3\n",
      "l : 1\n",
      "e : 3\n",
      "  : 3\n",
      "r : 2\n",
      "v : 1\n",
      "n : 1\n",
      "t : 2\n",
      "s : 1\n",
      "a : 1\n",
      "d : 1\n",
      "o : 2\n",
      "c : 1\n"
     ]
    }
   ],
   "source": [
    "#Update above program to print frequency of each alphabet present in string. \n",
    "s=input(\"Enter a string: \")\n",
    "d={}\n",
    "for i in s:\n",
    "    if i in d:\n",
    "        d[i]+=1\n",
    "    else:\n",
    "        d[i]=1\n",
    "print(\"Frequency of each character in the given string: \")\n",
    "for k,v in d.items():\n",
    "    print(k,\":\",v)"
   ]
  },
  {
   "cell_type": "code",
   "execution_count": 49,
   "metadata": {},
   "outputs": [
    {
     "name": "stdout",
     "output_type": "stream",
     "text": [
      "Enter a string: count the words in the sentence in\n",
      "count : 1\n",
      "the : 2\n",
      "words : 1\n",
      "in : 2\n",
      "sentence : 1\n"
     ]
    }
   ],
   "source": [
    "#WAP that takes a string as input and prints frequency of each word.\n",
    "#Ex: if input is “count the words in the sentence in”\n",
    "# Output:\n",
    "#count: 1\n",
    "#the: 2\n",
    "#words: 1\n",
    "#in: 2\n",
    "#sentence: 1 \n",
    "d={}\n",
    "def count(i):\n",
    "    if i[len(i)-1]=='.':\n",
    "        i=i[0:len(i)-1]\n",
    "    if i in d:\n",
    "        d[i]+=1\n",
    "    else:\n",
    "        d.update({i:1})\n",
    "s=input(\"Enter a string: \")\n",
    "l=s.split()\n",
    "for i in l:\n",
    "    count(i)\n",
    "for k,v in d.items():\n",
    "    print(k,\":\",v)"
   ]
  },
  {
   "cell_type": "code",
   "execution_count": null,
   "metadata": {},
   "outputs": [],
   "source": []
  }
 ],
 "metadata": {
  "kernelspec": {
   "display_name": "Python 3",
   "language": "python",
   "name": "python3"
  },
  "language_info": {
   "codemirror_mode": {
    "name": "ipython",
    "version": 3
   },
   "file_extension": ".py",
   "mimetype": "text/x-python",
   "name": "python",
   "nbconvert_exporter": "python",
   "pygments_lexer": "ipython3",
   "version": "3.8.3"
  }
 },
 "nbformat": 4,
 "nbformat_minor": 4
}
