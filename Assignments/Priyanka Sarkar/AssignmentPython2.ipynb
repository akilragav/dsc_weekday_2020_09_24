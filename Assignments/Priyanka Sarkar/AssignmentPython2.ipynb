{
 "cells": [
  {
   "cell_type": "code",
   "execution_count": 110,
   "metadata": {},
   "outputs": [
    {
     "name": "stdout",
     "output_type": "stream",
     "text": [
      "d\n",
      "detneirO tcejbO si nohtyP\n",
      "Python is Object Oriente\n",
      "\n",
      "P\n",
      "on is \n",
      "Python is Object Oriente\n"
     ]
    }
   ],
   "source": [
    "s=\"Python is Object Oriented\"\n",
    "print(s[-1])\n",
    "#print()\n",
    "print(s[::-1]) \n",
    "#print()\n",
    "print(s[:-1])\n",
    "#print()\n",
    "print(s[1:1])\n",
    "print(s[0:1])\n",
    "#print()\n",
    "print(s[4:10] )\n",
    "print(s[0:-1:1])"
   ]
  },
  {
   "cell_type": "code",
   "execution_count": 9,
   "metadata": {},
   "outputs": [
    {
     "ename": "IndexError",
     "evalue": "string index out of range",
     "output_type": "error",
     "traceback": [
      "\u001b[1;31m---------------------------------------------------------------------------\u001b[0m",
      "\u001b[1;31mIndexError\u001b[0m                                Traceback (most recent call last)",
      "\u001b[1;32m<ipython-input-9-1d0f0bc4e0fe>\u001b[0m in \u001b[0;36m<module>\u001b[1;34m\u001b[0m\n\u001b[0;32m      1\u001b[0m \u001b[0ms\u001b[0m\u001b[1;33m=\u001b[0m \u001b[1;34m''\u001b[0m\u001b[1;33m\u001b[0m\u001b[1;33m\u001b[0m\u001b[0m\n\u001b[1;32m----> 2\u001b[1;33m \u001b[0mprint\u001b[0m\u001b[1;33m(\u001b[0m\u001b[0ms\u001b[0m\u001b[1;33m[\u001b[0m\u001b[1;36m1\u001b[0m\u001b[1;33m]\u001b[0m\u001b[1;33m)\u001b[0m\u001b[1;33m\u001b[0m\u001b[1;33m\u001b[0m\u001b[0m\n\u001b[0m\u001b[0;32m      3\u001b[0m \u001b[1;31m#error-string index out of range\u001b[0m\u001b[1;33m\u001b[0m\u001b[1;33m\u001b[0m\u001b[1;33m\u001b[0m\u001b[0m\n",
      "\u001b[1;31mIndexError\u001b[0m: string index out of range"
     ]
    }
   ],
   "source": [
    "s= ''\n",
    "print(s[1]) \n",
    "#error-string index out of range"
   ]
  },
  {
   "cell_type": "code",
   "execution_count": 11,
   "metadata": {},
   "outputs": [
    {
     "ename": "IndexError",
     "evalue": "string index out of range",
     "output_type": "error",
     "traceback": [
      "\u001b[1;31m---------------------------------------------------------------------------\u001b[0m",
      "\u001b[1;31mIndexError\u001b[0m                                Traceback (most recent call last)",
      "\u001b[1;32m<ipython-input-11-545502d6b23c>\u001b[0m in \u001b[0;36m<module>\u001b[1;34m\u001b[0m\n\u001b[0;32m      1\u001b[0m \u001b[0mS\u001b[0m\u001b[1;33m=\u001b[0m\u001b[1;34m'Gaurav'\u001b[0m\u001b[1;33m\u001b[0m\u001b[1;33m\u001b[0m\u001b[0m\n\u001b[1;32m----> 2\u001b[1;33m \u001b[0mprint\u001b[0m\u001b[1;33m(\u001b[0m\u001b[0ms\u001b[0m\u001b[1;33m[\u001b[0m\u001b[1;36m1\u001b[0m\u001b[1;33m]\u001b[0m\u001b[1;33m)\u001b[0m\u001b[1;33m\u001b[0m\u001b[1;33m\u001b[0m\u001b[0m\n\u001b[0m",
      "\u001b[1;31mIndexError\u001b[0m: string index out of range"
     ]
    }
   ],
   "source": [
    "S='Gaurav'\n",
    "print(s[1])\n",
    "#error:-string index out of range"
   ]
  },
  {
   "cell_type": "code",
   "execution_count": 16,
   "metadata": {},
   "outputs": [
    {
     "name": "stdout",
     "output_type": "stream",
     "text": [
      "6\n",
      "abc\n",
      "3\n",
      "\n",
      "['a#b#c#d#']\n",
      "['a', 'b', 'c', 'd', '']\n",
      "a$b$c$d$\n"
     ]
    }
   ],
   "source": [
    "s='a b cd'\n",
    "print(len(s))\n",
    "print(s[::2])\n",
    "print(len(s[::2]))\n",
    "print()\n",
    "s='a#b#c#d#'\n",
    "print(s.split())\n",
    "print(s.split('#'))\n",
    "l=s.split('#')\n",
    "s='$'.join(l)\n",
    "print(s) "
   ]
  },
  {
   "cell_type": "code",
   "execution_count": 17,
   "metadata": {},
   "outputs": [
    {
     "name": "stdout",
     "output_type": "stream",
     "text": [
      "['a', 'b', 'c', 'd', '']\n"
     ]
    }
   ],
   "source": [
    "s='a,b,c,d,'\n",
    "print(s.split(','))"
   ]
  },
  {
   "cell_type": "code",
   "execution_count": 115,
   "metadata": {},
   "outputs": [
    {
     "name": "stdout",
     "output_type": "stream",
     "text": [
      "['a', 'b', 'c', 'd']\n",
      "a$b$c$d\n"
     ]
    }
   ],
   "source": []
  },
  {
   "cell_type": "code",
   "execution_count": 21,
   "metadata": {},
   "outputs": [
    {
     "name": "stdout",
     "output_type": "stream",
     "text": [
      "av\n"
     ]
    }
   ],
   "source": [
    "S='Gaurav'\n",
    "S=S[::-2][::-2]\n",
    "print(S) "
   ]
  },
  {
   "cell_type": "code",
   "execution_count": 22,
   "metadata": {},
   "outputs": [
    {
     "name": "stdout",
     "output_type": "stream",
     "text": [
      "False\n"
     ]
    }
   ],
   "source": [
    "print(1>2) "
   ]
  },
  {
   "cell_type": "code",
   "execution_count": 31,
   "metadata": {},
   "outputs": [
    {
     "name": "stdout",
     "output_type": "stream",
     "text": [
      "0, 1, 2\n"
     ]
    }
   ],
   "source": [
    "print(4%2, 5%2, 2%5, sep=', ') \n",
    "#print(4%2, 5%2, 2%5, sep=', ') "
   ]
  },
  {
   "cell_type": "code",
   "execution_count": 29,
   "metadata": {},
   "outputs": [
    {
     "name": "stdout",
     "output_type": "stream",
     "text": [
      "abcba\n",
      "0 ,0 ,0 ,"
     ]
    }
   ],
   "source": [
    "s='abcba'\n",
    "s.upper()\n",
    "print(s)\n",
    "print(s.count('A'), end =' ,') \n",
    "print(s.count('A',2,4), end =' ,') \n",
    "print(s.count('a',2,4), end =' ,') "
   ]
  },
  {
   "cell_type": "code",
   "execution_count": 38,
   "metadata": {},
   "outputs": [
    {
     "name": "stdout",
     "output_type": "stream",
     "text": [
      "enter a string: Priyanka Sarkar\n",
      "PriyankaSarkar\n"
     ]
    }
   ],
   "source": [
    "s=input(\"enter a string: \")\n",
    "s=s.split(' ')\n",
    "l=len(s)\n",
    "i=0\n",
    "s1=''\n",
    "for i in range(l):\n",
    "    s1+=s[i]\n",
    "print(s1)"
   ]
  },
  {
   "cell_type": "code",
   "execution_count": 39,
   "metadata": {},
   "outputs": [],
   "source": [
    "#[]\n",
    "#1.creating list\n",
    "#2.giving element of a particular index"
   ]
  },
  {
   "cell_type": "code",
   "execution_count": 45,
   "metadata": {},
   "outputs": [
    {
     "name": "stdout",
     "output_type": "stream",
     "text": [
      "\n"
     ]
    }
   ],
   "source": [
    "print(str())"
   ]
  },
  {
   "cell_type": "code",
   "execution_count": 49,
   "metadata": {},
   "outputs": [
    {
     "name": "stdout",
     "output_type": "stream",
     "text": [
      "['__add__', '__class__', '__contains__', '__delattr__', '__dir__', '__doc__', '__eq__', '__format__', '__ge__', '__getattribute__', '__getitem__', '__getnewargs__', '__gt__', '__hash__', '__init__', '__init_subclass__', '__iter__', '__le__', '__len__', '__lt__', '__mod__', '__mul__', '__ne__', '__new__', '__reduce__', '__reduce_ex__', '__repr__', '__rmod__', '__rmul__', '__setattr__', '__sizeof__', '__str__', '__subclasshook__', 'capitalize', 'casefold', 'center', 'count', 'encode', 'endswith', 'expandtabs', 'find', 'format', 'format_map', 'index', 'isalnum', 'isalpha', 'isascii', 'isdecimal', 'isdigit', 'isidentifier', 'islower', 'isnumeric', 'isprintable', 'isspace', 'istitle', 'isupper', 'join', 'ljust', 'lower', 'lstrip', 'maketrans', 'partition', 'replace', 'rfind', 'rindex', 'rjust', 'rpartition', 'rsplit', 'rstrip', 'split', 'splitlines', 'startswith', 'strip', 'swapcase', 'title', 'translate', 'upper', 'zfill']\n"
     ]
    }
   ],
   "source": [
    "print(dir(str))"
   ]
  },
  {
   "cell_type": "code",
   "execution_count": 61,
   "metadata": {},
   "outputs": [
    {
     "name": "stdout",
     "output_type": "stream",
     "text": [
      "826\n"
     ]
    }
   ],
   "source": [
    "s=dir(str)\n",
    "#print(s)\n",
    "print(str(s).find(\"rstrip\"))"
   ]
  },
  {
   "cell_type": "code",
   "execution_count": 77,
   "metadata": {},
   "outputs": [
    {
     "name": "stdout",
     "output_type": "stream",
     "text": [
      "*****\n",
      "  *  \n",
      "  *  \n",
      "  *  \n",
      "  *  \n",
      "\n",
      "\n",
      "  *  \n",
      "  *  \n",
      "  *  \n",
      "  *  \n",
      " * * \n",
      "  *    *  \n",
      "  *  \n",
      "  *  \n",
      "  *  \n",
      "\n"
     ]
    }
   ],
   "source": [
    "s1=\"*\"*5\n",
    "s2=\"  *  \\n\"*4\n",
    "s3=s1+\"\\n\"+s2\n",
    "s4=s2+\" * * \\n  *  \"+s2\n",
    "print(s3)\n",
    "print()\n",
    "print(s4)"
   ]
  },
  {
   "cell_type": "code",
   "execution_count": 78,
   "metadata": {},
   "outputs": [
    {
     "name": "stdout",
     "output_type": "stream",
     "text": [
      "Please enter a string: Pr Sd\n",
      "Pr\n",
      "Sd\n"
     ]
    }
   ],
   "source": [
    "s=input(\"Please enter a string: \")\n",
    "print(s.replace(\" \",\"\\n\"))"
   ]
  },
  {
   "cell_type": "code",
   "execution_count": 82,
   "metadata": {},
   "outputs": [
    {
     "name": "stdout",
     "output_type": "stream",
     "text": [
      "Please netre first name and last namepr sd\n",
      "2,PR\n",
      "2,SD\n"
     ]
    }
   ],
   "source": [
    "s=list(map(str,input(\"Please enter first name and last name\").split(' ')))\n",
    "l=len(s)\n",
    "i=0\n",
    "while i<l:\n",
    "    print(len(s[i]),s[i].upper(),sep=',')\n",
    "    i+=1"
   ]
  },
  {
   "cell_type": "code",
   "execution_count": 104,
   "metadata": {},
   "outputs": [
    {
     "name": "stdout",
     "output_type": "stream",
     "text": [
      "enter a string:prsde\n",
      "pr\n",
      "de\n"
     ]
    }
   ],
   "source": [
    "s=input(\"enter a string:\")\n",
    "l=len(s)\n",
    "p=s[0:len(s)//2:1]\n",
    "if len(s)%2==0:\n",
    "    q=s[(len(s)//2)::1]\n",
    "else:\n",
    "    q=s[(len(s)//2)+1::1]\n",
    "\n",
    "print(p)\n",
    "print(q)"
   ]
  },
  {
   "cell_type": "markdown",
   "metadata": {},
   "source": []
  }
 ],
 "metadata": {
  "kernelspec": {
   "display_name": "Python 3",
   "language": "python",
   "name": "python3"
  },
  "language_info": {
   "codemirror_mode": {
    "name": "ipython",
    "version": 3
   },
   "file_extension": ".py",
   "mimetype": "text/x-python",
   "name": "python",
   "nbconvert_exporter": "python",
   "pygments_lexer": "ipython3",
   "version": "3.8.3"
  }
 },
 "nbformat": 4,
 "nbformat_minor": 4
}
