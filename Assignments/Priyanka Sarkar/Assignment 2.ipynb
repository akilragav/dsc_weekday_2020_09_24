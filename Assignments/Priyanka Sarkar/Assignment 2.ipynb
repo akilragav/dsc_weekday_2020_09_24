{
 "cells": [
  {
   "cell_type": "code",
   "execution_count": 10,
   "metadata": {},
   "outputs": [
    {
     "name": "stdout",
     "output_type": "stream",
     "text": [
      "enter temp in fahrenhiet: 32\n",
      "temperature in celsius: 0.0 C\n"
     ]
    }
   ],
   "source": [
    "#Input temperature in Fahrenheit in print in Celsius. \n",
    "f=float(input(\"enter temp in fahrenhiet: \"))\n",
    "c=(5/9)*(f-32)\n",
    "print(\"temperature in celsius:\",c,\"C\")"
   ]
  },
  {
   "cell_type": "code",
   "execution_count": 13,
   "metadata": {},
   "outputs": [
    {
     "name": "stdout",
     "output_type": "stream",
     "text": [
      "Enter a number:2\n",
      "Square and cube of 2 is : 4 and 8\n"
     ]
    }
   ],
   "source": [
    "#Write a program to input a number and print its square and cube. \n",
    "#import math\n",
    "x=int(input('Enter a number:').strip())\n",
    "sq=pow(x,2)\n",
    "cu=pow(x,3)\n",
    "print(\"Square and cube of\",x,\"is :\",sq,\"and\",cu)"
   ]
  },
  {
   "cell_type": "code",
   "execution_count": 14,
   "metadata": {},
   "outputs": [
    {
     "name": "stdout",
     "output_type": "stream",
     "text": [
      "Enter 1st number:2\n",
      "Enter 2nd number:3\n",
      "Result: 13\n"
     ]
    }
   ],
   "source": [
    "#WAP to input a number n and a number m and print the result of following\n",
    "#n2+m2\n",
    "m=int(input(\"Enter 1st number:\").strip())\n",
    "n=int(input(\"Enter 2nd number:\").strip())\n",
    "result=pow(n,2) + pow(m,2)\n",
    "print(\"Result:\",result)"
   ]
  },
  {
   "cell_type": "code",
   "execution_count": 15,
   "metadata": {},
   "outputs": [
    {
     "name": "stdout",
     "output_type": "stream",
     "text": [
      "Enter 1st number:2\n",
      "Enter 2nd number:3\n",
      "Result using pow: 8\n",
      "Result using **: 8\n"
     ]
    }
   ],
   "source": [
    "#WAP to input a numbers M and N and print result of MN. (use both ** and pow)\n",
    "#Mn\n",
    "M=int(input(\"Enter 1st number:\").strip())\n",
    "n=int(input(\"Enter 2nd number:\").strip())\n",
    "res1=pow(M,n)\n",
    "res2=M**n\n",
    "print(\"Result using pow:\",res1)\n",
    "print(\"Result using **:\",res2)"
   ]
  },
  {
   "cell_type": "code",
   "execution_count": 18,
   "metadata": {},
   "outputs": [
    {
     "name": "stdout",
     "output_type": "stream",
     "text": [
      "Enter principle,rate,time:1000,5,2\n",
      "INTEREST: 100.0\n"
     ]
    }
   ],
   "source": [
    "#simple interest \n",
    "lsPTR= list (map(int,input(\"Enter principle,rate,time:\").split(\",\")))\n",
    "interest=(lsPTR[0]*lsPTR[1]*lsPTR[2])/100\n",
    "print(\"INTEREST:\",interest)"
   ]
  },
  {
   "cell_type": "code",
   "execution_count": 19,
   "metadata": {},
   "outputs": [
    {
     "name": "stdout",
     "output_type": "stream",
     "text": [
      "Enter principle,rate,time:1000,5,2\n",
      "AMOUNT: 1102.5\n",
      "INTEREST: 102.5\n"
     ]
    }
   ],
   "source": [
    "#compound interest \n",
    "lsPTR= list (map(int,input(\"Enter principle,rate,time:\").split(\",\")))\n",
    "amount=lsPTR[0]*(1+(lsPTR[1]/100))**lsPTR[2]\n",
    "interest=amount-lsPTR[0]\n",
    "print(\"AMOUNT:\",amount)\n",
    "print(\"INTEREST:\",interest)"
   ]
  },
  {
   "cell_type": "code",
   "execution_count": 25,
   "metadata": {},
   "outputs": [
    {
     "name": "stdout",
     "output_type": "stream",
     "text": [
      "Please enter value of n:10\n",
      "1\n",
      "2\n",
      "3\n",
      "4\n",
      "5\n",
      "6\n",
      "7\n",
      "8\n",
      "9\n",
      "10\n",
      "Sum of first n natural numbers: 55\n"
     ]
    }
   ],
   "source": [
    "#sum of first n natural numbers\n",
    "n=int(input(\"Please enter value of n:\").strip())\n",
    "s=0\n",
    "for i in range(1,n+1):\n",
    "    #print(i)\n",
    "    n=int(input().strip())\n",
    "    s+=i\n",
    "print(\"Sum of first n natural numbers:\",s)"
   ]
  },
  {
   "cell_type": "code",
   "execution_count": 30,
   "metadata": {},
   "outputs": [
    {
     "name": "stdout",
     "output_type": "stream",
     "text": [
      "please enter 2 numbers:2,3\n",
      "Before swapping: 2 3\n",
      "After swapping: 3 2\n",
      "please enter 2 numbers:2,3\n",
      "Before swapping: 2 3\n",
      "After swapping: 3 2\n"
     ]
    }
   ],
   "source": [
    "#swap 2 numbers\n",
    "\n",
    "#using temp variable\n",
    "x=list(map(int,input(\"please enter 2 numbers:\").split(\",\")))\n",
    "print(\"Before swapping:\",x[0],x[1])\n",
    "t=x[0]\n",
    "x[0]=x[1]\n",
    "x[1]=t\n",
    "print(\"After swapping:\",x[0],x[1])\n",
    "\n",
    "#using pythonic way\n",
    "x=list(map(int,input(\"please enter 2 numbers:\").split(\",\")))\n",
    "print(\"Before swapping:\",x[0],x[1])\n",
    "x[0],x[1]=x[1],x[0]\n",
    "print(\"After swapping:\",x[0],x[1])"
   ]
  },
  {
   "cell_type": "code",
   "execution_count": 42,
   "metadata": {},
   "outputs": [
    {
     "name": "stdout",
     "output_type": "stream",
     "text": [
      "9\n",
      "10\n",
      "11\n",
      "12\n",
      "13\n"
     ]
    }
   ],
   "source": [
    "#print ascci character of white spaces in python\n",
    "#\\r– Carriage return\n",
    "#\\t-tab\n",
    "#\\n-new line\n",
    "#\\v-vertical tab\n",
    "#\\f-feed\n",
    "print(ord('\\t'))\n",
    "print(ord('\\n'))\n",
    "print(ord('\\v'))\n",
    "print(ord('\\f'))\n",
    "print(ord('\\r'))"
   ]
  },
  {
   "cell_type": "code",
   "execution_count": 33,
   "metadata": {},
   "outputs": [
    {
     "name": "stdout",
     "output_type": "stream",
     "text": [
      "Please enter a character:2\n",
      "Ascii value of  2 is: 50\n"
     ]
    }
   ],
   "source": [
    "#ascii value of single character\n",
    "x=input(\"Please enter a character:\")\n",
    "print(\"Ascii value of \",x,\"is:\",ord(x))"
   ]
  },
  {
   "cell_type": "code",
   "execution_count": 37,
   "metadata": {},
   "outputs": [
    {
     "name": "stdout",
     "output_type": "stream",
     "text": [
      "Please enter area of a circle:256\n",
      "Radius and circumference of the circle is: 9.02521719708426 56.678363997689154\n"
     ]
    }
   ],
   "source": [
    "#input area and outputs radius and circumference\n",
    "import math\n",
    "area=int(input(\"Please enter area of a circle:\").strip())\n",
    "radius=math.sqrt(area/(22/7))\n",
    "circum=2*3.14*radius\n",
    "print(\"Radius and circumference of the circle is:\",radius,circum)"
   ]
  },
  {
   "cell_type": "code",
   "execution_count": 38,
   "metadata": {},
   "outputs": [
    {
     "name": "stdout",
     "output_type": "stream",
     "text": [
      "Please enter marks of 5 subjects out of 10095,98,68,78,87\n",
      "Total percentage: 85.2\n"
     ]
    }
   ],
   "source": [
    "#input marks of 5 subjects and print percentage\n",
    "x=list(map(int,input(\"Please enter marks of 5 subjects out of 100\").split(\",\")))\n",
    "sum=0\n",
    "for i in range(0,5):\n",
    "    sum+=x[i]\n",
    "per=(sum*100)/500\n",
    "print(\"Total percentage:\",per)"
   ]
  },
  {
   "cell_type": "code",
   "execution_count": null,
   "metadata": {},
   "outputs": [],
   "source": []
  }
 ],
 "metadata": {
  "kernelspec": {
   "display_name": "Python 3",
   "language": "python",
   "name": "python3"
  },
  "language_info": {
   "codemirror_mode": {
    "name": "ipython",
    "version": 3
   },
   "file_extension": ".py",
   "mimetype": "text/x-python",
   "name": "python",
   "nbconvert_exporter": "python",
   "pygments_lexer": "ipython3",
   "version": "3.8.3"
  }
 },
 "nbformat": 4,
 "nbformat_minor": 4
}
