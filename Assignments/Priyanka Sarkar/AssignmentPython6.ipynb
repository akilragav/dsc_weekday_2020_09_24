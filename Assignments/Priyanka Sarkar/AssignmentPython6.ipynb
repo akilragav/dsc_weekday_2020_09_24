{
 "cells": [
  {
   "cell_type": "code",
   "execution_count": 2,
   "metadata": {},
   "outputs": [
    {
     "name": "stdout",
     "output_type": "stream",
     "text": [
      "Enter 1st number: 10\n",
      "Enter 2nd number: 3\n",
      "False\n"
     ]
    }
   ],
   "source": [
    "#WAP to input 2 numbers and check whether the first is divisible by the second and print true or\n",
    "#false depending on the divisibility. \n",
    "def get_divisibility(a,b):\n",
    "    if a%b==0:\n",
    "        print(\"True\") \n",
    "    else:\n",
    "        print(\"False\")\n",
    "a=int(input(\"Enter 1st number: \"))\n",
    "b=int(input(\"Enter 2nd number: \"))\n",
    "get_divisibility(a,b)"
   ]
  },
  {
   "cell_type": "code",
   "execution_count": 10,
   "metadata": {},
   "outputs": [
    {
     "name": "stdout",
     "output_type": "stream",
     "text": [
      "Enter a string: Maam\n",
      "maam\n",
      "Palindrome\n"
     ]
    }
   ],
   "source": [
    "#In the palindrome example, make the code case insensitive.\n",
    " #i.e. Naman should also be treated as a palindrome (HINT: first convert to either upper or\n",
    "#lower case). \n",
    "import string\n",
    "def palindrome(s):\n",
    "    s=s.lower()\n",
    "    print(s)\n",
    "    l=len(s)\n",
    "    s1=s[::-1]\n",
    "    if s==s1:\n",
    "        print(\"Palindrome\")\n",
    "    else:\n",
    "        print(\"Not Palindrome\")\n",
    "s=input(\"Enter a string: \")\n",
    "palindrome(s)"
   ]
  },
  {
   "cell_type": "code",
   "execution_count": 12,
   "metadata": {},
   "outputs": [
    {
     "name": "stdout",
     "output_type": "stream",
     "text": [
      "Enter 1st side of triangle: 10\n",
      "Enter 1st side of triangle: 4\n",
      "Enter 1st side of triangle: 4\n",
      "Isosceles\n"
     ]
    }
   ],
   "source": [
    "#WAP to input the sides of a triangle and print whether equilateral(all sides equal), isosceles (2\n",
    "#sides equal), or scalene (no sides equal)\n",
    "def type_triangle(a,b,c):\n",
    "    if a==b and b==c:\n",
    "        print(\"Equilateral\")\n",
    "    elif a==b or b==c or a==c:\n",
    "        print(\"Isosceles\")\n",
    "    else:\n",
    "        print(\"Scalene\")\n",
    "a=int(input(\"Enter 1st side of triangle: \"))\n",
    "b=int(input(\"Enter 1st side of triangle: \"))\n",
    "c=int(input(\"Enter 1st side of triangle: \"))\n",
    "type_triangle(a,b,c)"
   ]
  },
  {
   "cell_type": "code",
   "execution_count": 13,
   "metadata": {},
   "outputs": [
    {
     "name": "stdout",
     "output_type": "stream",
     "text": [
      "Enter a number: 5\n",
      "Odd\n"
     ]
    }
   ],
   "source": [
    "#WAP to input a number and print if it is even or odd.\n",
    "n=int(input(\"Enter a number: \"))\n",
    "if n%2==0:\n",
    "    print(\"Even\")\n",
    "else:\n",
    "    print(\"Odd\")"
   ]
  },
  {
   "cell_type": "code",
   "execution_count": 14,
   "metadata": {},
   "outputs": [
    {
     "name": "stdout",
     "output_type": "stream",
     "text": [
      "Enter age: 67\n",
      "Senior Citizen\n"
     ]
    }
   ],
   "source": [
    "#WAP to input age and print the respective text\n",
    "#depending on the age ranges as present in the table. \n",
    "def age(n):\n",
    "    if n>=0 and n<=12:\n",
    "        print(\"Child\")\n",
    "    elif n>=13 and n<=17:\n",
    "        print(\"Teen\")\n",
    "    elif n>=18 and n<=50:\n",
    "        print(\"Adult\")\n",
    "    elif n>=51 and n<=100:\n",
    "        print(\"Senior Citizen\")\n",
    "    elif n>100:\n",
    "        print(\"Congratulations!\")\n",
    "n=int(input(\"Enter age: \"))\n",
    "age(n)"
   ]
  },
  {
   "cell_type": "code",
   "execution_count": 39,
   "metadata": {},
   "outputs": [
    {
     "name": "stdout",
     "output_type": "stream",
     "text": [
      "Enter year: -2020\n",
      "Please enter correct data.\n"
     ]
    }
   ],
   "source": [
    "#WAP to input year (check if user enters valid year. Should be 4-digit number and should not be\n",
    "#negative) and print whether leap year or not. (If really interested in why you also have to check\n",
    "#the divisibility by 400 just google the exact time it takes for the earth to revolve around the sub) \n",
    "yr=int(input(\"Enter year: \"))\n",
    "if len(str(yr))==4 and yr>0:\n",
    "    if yr%4==0 or yr%400==0:\n",
    "        print(\"{} is a leap year\".format(yr))\n",
    "else:\n",
    "    print(\"Please enter correct data.\")\n"
   ]
  },
  {
   "cell_type": "code",
   "execution_count": 36,
   "metadata": {},
   "outputs": [
    {
     "name": "stdout",
     "output_type": "stream",
     "text": [
      "Enter a string: Priyanka\n",
      "priyanka\n"
     ]
    }
   ],
   "source": [
    "#WAP to input a string and convert it to Upper Case if number of characters is odd and convert to\n",
    "#lower case otherwise. \n",
    "n=input(\"Enter a string: \")\n",
    "l=len(n)\n",
    "if l%2==0:\n",
    "    print(n.lower())\n",
    "else:\n",
    "    print(n.upper())\n",
    "    "
   ]
  },
  {
   "cell_type": "code",
   "execution_count": 35,
   "metadata": {},
   "outputs": [
    {
     "name": "stdout",
     "output_type": "stream",
     "text": [
      "Enter a string: Egg is not a food\n",
      "0\n",
      "Non-Veg\n"
     ]
    }
   ],
   "source": [
    "#WAP to input a string and print Veg if the string doesn’t contain the word egg. Otherwise print\n",
    "#Non-Veg. As usual eggs can be both big and small. \n",
    "n=input(\"Enter a string: \")\n",
    "#n=n.upper()\n",
    "#print(n.find('Egg'))\n",
    "if (n.find('EGG')>-1) or (n.find('egg')>-1) or (n.find('Egg')>-1):\n",
    "    print(\"Non-Veg\")\n",
    "else:\n",
    "    print(\"Veg\")\n",
    "    \n"
   ]
  },
  {
   "cell_type": "code",
   "execution_count": 18,
   "metadata": {},
   "outputs": [
    {
     "name": "stdout",
     "output_type": "stream",
     "text": [
      "True\n",
      "True\n",
      "Weird!!\n",
      "[4, 3, 2, 1]\n"
     ]
    }
   ],
   "source": [
    "#1\n",
    "if not 1:\n",
    "    print(\"False\")\n",
    "else:\n",
    "    print(\"True\")\n",
    "#2\n",
    "if 1:\n",
    "    print(\"True\")\n",
    "else:\n",
    "    print(\"False\")\n",
    "#3   \n",
    "if 'a'>'A':\n",
    "    print(\"Weird!!\")\n",
    "else:\n",
    "    print(\"Makes sense\")\n",
    "#4\n",
    "a=[1,2,3,4]\n",
    "if 1>1:\n",
    "    a=a[::-1]\n",
    "else:\n",
    "    a=a[-1::-1]\n",
    "print(a)\n"
   ]
  },
  {
   "cell_type": "code",
   "execution_count": 30,
   "metadata": {},
   "outputs": [
    {
     "name": "stdout",
     "output_type": "stream",
     "text": [
      "Enter marks of 5 subjects out of 100 each: 50,80,55,95,95\n",
      "Grade C\n"
     ]
    }
   ],
   "source": [
    "#WAP to input marks in 5 subjects and print the grade as per following logic:\n",
    "#% between 90-100 Grade-A\n",
    "#% between 80 - 89 Grade-B\n",
    "#% between 60 - 79 Grade-C\n",
    "#% < 60 Grade-F \n",
    "tot=0\n",
    "n=list(map(float,input(\"Enter marks of 5 subjects out of 100 each: \").split(',')))\n",
    "for i in range(5):\n",
    "    tot=tot+n[i]\n",
    "per=(tot*100)/500\n",
    "if per>=90 and per<=100:\n",
    "    print(\"Grade A\")\n",
    "elif per>=80 and per<90:\n",
    "    print(\"Grade B\")\n",
    "elif per>=60 and per<80:\n",
    "    print(\"Grade C\")\n",
    "else:\n",
    "    print(\"Grade F\")"
   ]
  },
  {
   "cell_type": "code",
   "execution_count": 21,
   "metadata": {},
   "outputs": [
    {
     "name": "stdout",
     "output_type": "stream",
     "text": [
      "10\n",
      "10\n",
      "10\n",
      "OMG\n"
     ]
    }
   ],
   "source": [
    "print(20 if not 1==1 else 10)\n",
    "print(30 if not 1==1 else 20 if 'a'<'A' else 10)\n",
    "print(40 if not 1==1 else 30 if 'a'<'A' else 20 if '' else 10)\n",
    "print('No'if not 1==1 else('No' if 'a'<'A' else ('OMG' if 'oh!!' else 'No')) )"
   ]
  },
  {
   "cell_type": "code",
   "execution_count": 29,
   "metadata": {},
   "outputs": [
    {
     "name": "stdout",
     "output_type": "stream",
     "text": [
      "Enter weight in kg: 60\n",
      "Enter height in cm: 550\n",
      "Obese\n"
     ]
    }
   ],
   "source": [
    "#. WAF: bmi() that takes the weight in kg and height in cm of a person, calculates and returns the\n",
    "#BMI.\n",
    "#Write code that calls this function after taking height and weight as inputs and then prints\n",
    "#underweight, normal, overweight or obese depending on the value of BMI. \n",
    "#underweight (under 18.5 kg/m2), normal weight (18.5 to 25), overweight (25 to 30), and obese (over 30)\n",
    "def bmi(wt,ht):\n",
    "    ht=ht/100\n",
    "    res=wt/(ht*ht)\n",
    "    return res\n",
    "    \n",
    "wt=float(input(\"Enter weight in kg: \"))\n",
    "ht=float(input(\"Enter height in cm: \"))\n",
    "res=bmi(wt,ht)\n",
    "if res>18.5:\n",
    "    print(\"Underweight\")\n",
    "elif res>=18.5 and res<=25:\n",
    "    print(\"Normal\")\n",
    "elif res>25 and res<=30:\n",
    "    print(\"Overweight\")\n",
    "else:\n",
    "    print(\"Obese\")"
   ]
  },
  {
   "cell_type": "code",
   "execution_count": 28,
   "metadata": {},
   "outputs": [
    {
     "name": "stdout",
     "output_type": "stream",
     "text": [
      "Enter age of 1st person: 10\n",
      "Enter age of 2nd person: 20\n",
      "Enter age of 3rd person: 5\n",
      "old is 20 and young is 5\n"
     ]
    }
   ],
   "source": [
    "#Take input of age of 3 people by user and determine oldest and youngest among them. \n",
    "def old_young(a,b,c):\n",
    "    old=0\n",
    "    young=0\n",
    "    if a>b and a>c:\n",
    "        old=a\n",
    "        if b>c:\n",
    "            young=c\n",
    "        else:\n",
    "            young=b\n",
    "    elif b>a and b>c:\n",
    "        old=b\n",
    "        if a>c:\n",
    "            young=c\n",
    "        else:\n",
    "            young=a\n",
    "    elif c>a and c>b:\n",
    "         old=c\n",
    "         if a>b:\n",
    "            young=b\n",
    "         else:\n",
    "            young=a\n",
    "    return (old,young)\n",
    "a=int(input(\"Enter age of 1st person: \"))\n",
    "b=int(input(\"Enter age of 2nd person: \"))\n",
    "c=int(input(\"Enter age of 3rd person: \"))\n",
    "x,y=old_young(a,b,c)       \n",
    "print(\"old is {} and young is {}\".format(x,y))\n"
   ]
  },
  {
   "cell_type": "code",
   "execution_count": 25,
   "metadata": {},
   "outputs": [
    {
     "name": "stdout",
     "output_type": "stream",
     "text": [
      "Enter a number: 30\n",
      "Divisible by 5 but not by 7\n"
     ]
    }
   ],
   "source": [
    "#WAP to input a number and check if number is divisible by both 5 and 7. \n",
    "n=int(input(\"Enter a number: \"))\n",
    "if (n%5==0 and n%7==0) or (n%35==0):\n",
    "    print(\"Divisible by both 5 and 7\")\n",
    "elif (n%5==0) and (n%7!=0):\n",
    "    print(\"Divisible by 5 but not by 7\")\n",
    "elif (n%7==0) and (n%5!=0):\n",
    "    print(\"Divisible by 7 but not by 5\")\n",
    "elif (n%5!=0) and (n%7!=0):\n",
    "    print(\"Not divisible by both 5 and 7\")"
   ]
  },
  {
   "cell_type": "code",
   "execution_count": null,
   "metadata": {},
   "outputs": [],
   "source": []
  }
 ],
 "metadata": {
  "kernelspec": {
   "display_name": "Python 3",
   "language": "python",
   "name": "python3"
  },
  "language_info": {
   "codemirror_mode": {
    "name": "ipython",
    "version": 3
   },
   "file_extension": ".py",
   "mimetype": "text/x-python",
   "name": "python",
   "nbconvert_exporter": "python",
   "pygments_lexer": "ipython3",
   "version": "3.8.3"
  }
 },
 "nbformat": 4,
 "nbformat_minor": 4
}
