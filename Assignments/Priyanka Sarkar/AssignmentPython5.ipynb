{
 "cells": [
  {
   "cell_type": "code",
   "execution_count": 10,
   "metadata": {},
   "outputs": [
    {
     "name": "stdout",
     "output_type": "stream",
     "text": [
      "Enter value of n: 10\n",
      "1\n",
      "2\n",
      "3\n",
      "4\n",
      "5\n",
      "6\n",
      "7\n",
      "8\n",
      "9\n",
      "10\n"
     ]
    }
   ],
   "source": [
    "#WAP to print first n natural numbers (input n from user). \n",
    "n=int(input(\"Enter value of n: \"))\n",
    "for i in range(1,n+1):\n",
    "    print(i)"
   ]
  },
  {
   "cell_type": "code",
   "execution_count": 11,
   "metadata": {},
   "outputs": [
    {
     "name": "stdout",
     "output_type": "stream",
     "text": [
      "Enter value of n: 10\n",
      "55\n"
     ]
    }
   ],
   "source": [
    "#WAP to find sum of first n natural numbers \n",
    "n=int(input(\"Enter value of n: \"))\n",
    "s=0\n",
    "for i in range(1,n+1):\n",
    "    s=s+i\n",
    "print(s)"
   ]
  },
  {
   "cell_type": "code",
   "execution_count": 13,
   "metadata": {},
   "outputs": [
    {
     "name": "stdout",
     "output_type": "stream",
     "text": [
      "Enter value of n: 10\n",
      "10\n",
      "9\n",
      "8\n",
      "7\n",
      "6\n",
      "5\n",
      "4\n",
      "3\n",
      "2\n",
      "1\n"
     ]
    }
   ],
   "source": [
    "# WAP to print first n natural numbers in reverse order. \n",
    "n=int(input(\"Enter value of n: \"))\n",
    "for i in range(n,0,-1):\n",
    "    print(i)"
   ]
  },
  {
   "cell_type": "code",
   "execution_count": 14,
   "metadata": {},
   "outputs": [
    {
     "name": "stdout",
     "output_type": "stream",
     "text": [
      "Enter value of n: 4\n",
      "24\n"
     ]
    }
   ],
   "source": [
    "#WAP to input a number and print its factorial. \n",
    "n=int(input(\"Enter value of n: \"))\n",
    "fact=1\n",
    "for i in range(n,0,-1):\n",
    "    fact*=i\n",
    "print(fact)"
   ]
  },
  {
   "cell_type": "code",
   "execution_count": 17,
   "metadata": {},
   "outputs": [
    {
     "name": "stdout",
     "output_type": "stream",
     "text": [
      "Enter value of n: 4\n",
      "0 1 1 2 3 5 8 "
     ]
    }
   ],
   "source": [
    "#WAP to print Fibonacci sequence till n. \n",
    "n=int(input(\"Enter value of n: \"))\n",
    "a=0\n",
    "b=1\n",
    "print(a,b,end=' ')\n",
    "for i in range(n+1):\n",
    "    c=a+b\n",
    "    print(c,end=' ')\n",
    "    a=b\n",
    "    b=c\n",
    "    "
   ]
  },
  {
   "cell_type": "code",
   "execution_count": 23,
   "metadata": {},
   "outputs": [
    {
     "name": "stdout",
     "output_type": "stream",
     "text": [
      "Enter value of n: 235\n",
      "[2, 3, 5]\n"
     ]
    }
   ],
   "source": [
    "#WAP to print all digits of a number input from user. \n",
    "n=int(input(\"Enter value of n: \"))\n",
    "s=0\n",
    "l=[]\n",
    "while n>0:\n",
    "    r=int(n%10)\n",
    "    n=n//10\n",
    "    l.append(r)\n",
    "l.reverse()\n",
    "print(l)"
   ]
  },
  {
   "cell_type": "code",
   "execution_count": 22,
   "metadata": {},
   "outputs": [
    {
     "name": "stdout",
     "output_type": "stream",
     "text": [
      "Enter value of n: 44\n",
      "8\n"
     ]
    }
   ],
   "source": [
    "#WAP to find sum of all digits of a number. \n",
    "n=int(input(\"Enter value of n: \"))\n",
    "s=0\n",
    "while n>0:\n",
    "    r=int(n%10)\n",
    "    n=n//10\n",
    "    s=s+r\n",
    "print(s)"
   ]
  },
  {
   "cell_type": "code",
   "execution_count": 24,
   "metadata": {},
   "outputs": [
    {
     "name": "stdout",
     "output_type": "stream",
     "text": [
      "Enter value of n: 4\n",
      "Fact of 1 is 1\n",
      "Fact of 2 is 2\n",
      "Fact of 3 is 3\n",
      "Fact of 4 is 4\n",
      "Sum:  10\n"
     ]
    }
   ],
   "source": [
    "#WAP to find sum of following series given n as input from user\n",
    "#1 + 2! + 3! + 4! + 5! + ….n!\n",
    "#Where n! denotes the factorial of number n. \n",
    "def fact(x):\n",
    "    fact=1\n",
    "    for i in range(x,0,-1):\n",
    "        fact*=i\n",
    "    return(x)\n",
    "n=int(input(\"Enter value of n: \"))\n",
    "for i in range(1,n+1):\n",
    "    f=fact(i)\n",
    "    print(\"Fact of {} is {}\".format(i,f))\n",
    "    s=s+f\n",
    "print(\"Sum: \",s)\n",
    "        \n",
    "    \n",
    "    "
   ]
  },
  {
   "cell_type": "code",
   "execution_count": 27,
   "metadata": {},
   "outputs": [
    {
     "name": "stdout",
     "output_type": "stream",
     "text": [
      "Enter value of base: 2\n",
      "Enter value of exponent: 3\n",
      "Result:  8\n"
     ]
    }
   ],
   "source": [
    "#9. WAP to input base and exponent and print result without using inbuilt function pow(use for or\n",
    "#while loop). \n",
    "b=int(input(\"Enter value of base: \"))\n",
    "res=1\n",
    "ex=int(input(\"Enter value of exponent: \"))\n",
    "for i in range(1,ex+1):\n",
    "    res*=b\n",
    "print(\"Result: \",res)"
   ]
  },
  {
   "cell_type": "code",
   "execution_count": 29,
   "metadata": {},
   "outputs": [
    {
     "name": "stdout",
     "output_type": "stream",
     "text": [
      "\n",
      "\n",
      "*\n",
      "\n",
      "**\n",
      "\n",
      "***\n",
      "\n",
      "****\n",
      "\n",
      "*****\n",
      "\n"
     ]
    }
   ],
   "source": [
    "#10.right triangle\n",
    "for i in range(6):\n",
    "    for j in range(0,i):\n",
    "        print(\"*\",end='')\n",
    "    print(\"\\n\")"
   ]
  },
  {
   "cell_type": "code",
   "execution_count": 33,
   "metadata": {},
   "outputs": [
    {
     "name": "stdout",
     "output_type": "stream",
     "text": [
      "*****\n",
      "\n",
      "****\n",
      "\n",
      "***\n",
      "\n",
      "**\n",
      "\n",
      "*\n",
      "\n"
     ]
    }
   ],
   "source": [
    "#11.inverted right triangle\n",
    "for i in range(1,6):\n",
    "    for j in range(6,i,-1):\n",
    "        print(\"*\",end='')\n",
    "    print(\"\\n\")"
   ]
  },
  {
   "cell_type": "code",
   "execution_count": 39,
   "metadata": {},
   "outputs": [
    {
     "name": "stdout",
     "output_type": "stream",
     "text": [
      "           * \n",
      "\n",
      "         * * \n",
      "\n",
      "       * * * \n",
      "\n",
      "     * * * * \n",
      "\n",
      "   * * * * * \n",
      "\n"
     ]
    }
   ],
   "source": [
    "#12.left triangle\n",
    "for i in range(0,5):\n",
    "    for j in range((2*(5-i)),-1,-1):\n",
    "        print(\" \",end='')\n",
    "    for j in range(0,i+1):\n",
    "        print(\"* \",end='')\n",
    "    print(\"\\n\")"
   ]
  },
  {
   "cell_type": "code",
   "execution_count": 40,
   "metadata": {},
   "outputs": [
    {
     "name": "stdout",
     "output_type": "stream",
     "text": [
      "     * \n",
      "\n",
      "    * * \n",
      "\n",
      "   * * * \n",
      "\n",
      "  * * * * \n",
      "\n",
      " * * * * * \n",
      "\n"
     ]
    }
   ],
   "source": [
    "#13.Pyramid\n",
    "for i in range(0,5):\n",
    "    for j in range(5-i,0,-1):\n",
    "        print(\" \",end='')\n",
    "    for j in range(0,i+1):\n",
    "        print(\"* \",end='')\n",
    "    print(\"\\n\")"
   ]
  },
  {
   "cell_type": "code",
   "execution_count": 42,
   "metadata": {},
   "outputs": [
    {
     "name": "stdout",
     "output_type": "stream",
     "text": [
      "\n",
      "\n",
      "1\n",
      "\n",
      "22\n",
      "\n",
      "333\n",
      "\n",
      "4444\n",
      "\n",
      "55555\n",
      "\n"
     ]
    }
   ],
   "source": [
    "#14.right triangle\n",
    "for i in range(6):\n",
    "    for j in range(0,i):\n",
    "        print(i,end='')\n",
    "    print(\"\\n\")"
   ]
  },
  {
   "cell_type": "code",
   "execution_count": 44,
   "metadata": {},
   "outputs": [
    {
     "name": "stdout",
     "output_type": "stream",
     "text": [
      "\n",
      "\n",
      "1\n",
      "\n",
      "12\n",
      "\n",
      "123\n",
      "\n",
      "1234\n",
      "\n",
      "12345\n",
      "\n"
     ]
    }
   ],
   "source": [
    "#15.right triangle\n",
    "for i in range(6):\n",
    "    for j in range(1,i+1):\n",
    "        print(j,end='')\n",
    "    print(\"\\n\")"
   ]
  },
  {
   "cell_type": "code",
   "execution_count": 56,
   "metadata": {},
   "outputs": [
    {
     "name": "stdout",
     "output_type": "stream",
     "text": [
      "5\n",
      "\n",
      "44\n",
      "\n",
      "333\n",
      "\n",
      "2222\n",
      "\n",
      "11111\n",
      "\n"
     ]
    }
   ],
   "source": [
    "#16.right triangle\n",
    "x=5\n",
    "for i in range(1,6):\n",
    "    for j in range(0,i):\n",
    "        print(x,end='')\n",
    "    x-=1\n",
    "    print(\"\\n\")"
   ]
  },
  {
   "cell_type": "code",
   "execution_count": 53,
   "metadata": {},
   "outputs": [
    {
     "name": "stdout",
     "output_type": "stream",
     "text": [
      "          1 \n",
      "\n",
      "        2 2 \n",
      "\n",
      "      3 3 3 \n",
      "\n",
      "    4 4 4 4 \n",
      "\n",
      "  5 5 5 5 5 \n",
      "\n"
     ]
    }
   ],
   "source": [
    "#17.left triangle\n",
    "for i in range(1,6):\n",
    "    for j in range((2*(6-i)),0,-1):\n",
    "        print(\" \",end='')\n",
    "    for j in range(1,i+1):\n",
    "        print(i,end=' ')\n",
    "    print(\"\\n\")"
   ]
  },
  {
   "cell_type": "code",
   "execution_count": 58,
   "metadata": {},
   "outputs": [
    {
     "name": "stdout",
     "output_type": "stream",
     "text": [
      "A\n",
      "\n",
      "BB\n",
      "\n",
      "CCC\n",
      "\n",
      "DDDD\n",
      "\n",
      "EEEEE\n",
      "\n"
     ]
    }
   ],
   "source": [
    "#18.right triangle\n",
    "import string\n",
    "x=65\n",
    "for i in range(1,6):\n",
    "    for j in range(0,i):\n",
    "        print(chr(x),end='')\n",
    "    x+=1\n",
    "    print(\"\\n\")"
   ]
  },
  {
   "cell_type": "code",
   "execution_count": 59,
   "metadata": {},
   "outputs": [
    {
     "name": "stdout",
     "output_type": "stream",
     "text": [
      "A\n",
      "\n",
      "AB\n",
      "\n",
      "ABC\n",
      "\n",
      "ABCD\n",
      "\n",
      "ABCDE\n",
      "\n"
     ]
    }
   ],
   "source": [
    "#19.right triangle\n",
    "import string\n",
    "x=65\n",
    "for i in range(1,6):\n",
    "    for j in range(0,i):\n",
    "        print(chr(65+j),end='')\n",
    "    x+=1\n",
    "    print(\"\\n\")"
   ]
  },
  {
   "cell_type": "code",
   "execution_count": 62,
   "metadata": {},
   "outputs": [
    {
     "name": "stdout",
     "output_type": "stream",
     "text": [
      "A\n",
      "\n",
      "BC\n",
      "\n",
      "DEF\n",
      "\n",
      "GHIJ\n",
      "\n",
      "KLMNO\n",
      "\n"
     ]
    }
   ],
   "source": [
    "#20.right triangle\n",
    "import string\n",
    "x=65\n",
    "for i in range(1,6):\n",
    "    for j in range(0,i):\n",
    "        print(chr(x),end='')\n",
    "        x+=1\n",
    "    print(\"\\n\")"
   ]
  },
  {
   "cell_type": "code",
   "execution_count": 69,
   "metadata": {},
   "outputs": [
    {
     "name": "stdout",
     "output_type": "stream",
     "text": [
      "    A\n",
      "\n",
      "   ABA\n",
      "\n",
      "  ABCBA\n",
      "\n",
      " ABCDCBA\n",
      "\n",
      "ABCDEDCBA\n",
      "\n"
     ]
    }
   ],
   "source": [
    "#21.Pyramid\n",
    "x=64\n",
    "for i in range(1,6):\n",
    "    for j in range(1,6-i):\n",
    "        print(\" \",end='')\n",
    "    for k in range(1,i+1):\n",
    "        print(chr(x+k),end='')\n",
    "        #x-=1\n",
    "    for m in range(i-1,0,-1):\n",
    "        print(chr(x+m),end='')\n",
    "    print(\"\\n\")\n",
    "    #x=64"
   ]
  },
  {
   "cell_type": "code",
   "execution_count": null,
   "metadata": {},
   "outputs": [],
   "source": []
  }
 ],
 "metadata": {
  "kernelspec": {
   "display_name": "Python 3",
   "language": "python",
   "name": "python3"
  },
  "language_info": {
   "codemirror_mode": {
    "name": "ipython",
    "version": 3
   },
   "file_extension": ".py",
   "mimetype": "text/x-python",
   "name": "python",
   "nbconvert_exporter": "python",
   "pygments_lexer": "ipython3",
   "version": "3.8.3"
  }
 },
 "nbformat": 4,
 "nbformat_minor": 4
}
