{
 "cells": [
  {
   "cell_type": "code",
   "execution_count": 14,
   "metadata": {},
   "outputs": [
    {
     "name": "stdout",
     "output_type": "stream",
     "text": [
      "Enter number of inputs user wants: 6\n",
      "Enter 6 numbers:1,2,3,4,5,6\n",
      "Original list:  [1, 2, 3, 4, 5, 6]\n",
      "Reverse list:  [6, 5, 4, 3, 2, 1]\n"
     ]
    }
   ],
   "source": [
    "#WAF: reverse_list() that takes a list as argument and reverses the elements of the list in place\n",
    "#(use indexing operations, not any function or slicing)\n",
    "#Logic: if l = [1,2,3,4,5] ; result = [5,4,3,2,1]\n",
    "#1 2 3 4 5 # string\n",
    "#0 1 2 3 4 # indexes\n",
    "#start index = 0, end index = 4; swap the elements at index 0,4\n",
    "# [5,2,3,4,1]\n",
    "#start index = 1, end index = 3; swap the elements at index 1,3\n",
    "# [5,4,3,2,1]\n",
    "#Index start index 2 is not less than end index 2. Hence no need to go forward \n",
    "def rev(l):\n",
    "    j=len(l)-1\n",
    "    for i in range(0,len(l)//2):\n",
    "            if i!=j:\n",
    "                l[i],l[j]=l[j],l[i]\n",
    "            elif i==j:\n",
    "                break\n",
    "            j-=1\n",
    "    return l\n",
    "n=int(input(\"Enter number of inputs user wants: \"))\n",
    "l=list(map(int,input(\"Enter {} numbers:\".format(n)).split(',')))\n",
    "print(\"Original list: \",l)\n",
    "l1=rev(l)\n",
    "print(\"Reverse list: \",l1)\n",
    "    "
   ]
  },
  {
   "cell_type": "code",
   "execution_count": 15,
   "metadata": {},
   "outputs": [
    {
     "name": "stdout",
     "output_type": "stream",
     "text": [
      "Enter number of inputs user wants: 5\n",
      "Enter 5 numbers:1,2,3,4,5\n",
      "Original list:  [1, 2, 3, 4, 5]\n",
      "Number of odds:  3\n",
      "Number of evens:  2\n"
     ]
    }
   ],
   "source": [
    "#WAF: count_even_odd() that counts and returns how many numbers are even and how many\n",
    "#are odd in a list of numbers passed as argument. \n",
    "def count_even_odd(l):\n",
    "    odd=0\n",
    "    even=0\n",
    "    for i in range(0,len(l)):\n",
    "            if l[i]%2==0:\n",
    "                even+=1\n",
    "            else:\n",
    "                odd+=1            \n",
    "    return (odd,even)\n",
    "n=int(input(\"Enter number of inputs user wants: \"))\n",
    "l=list(map(int,input(\"Enter {} numbers:\".format(n)).split(',')))\n",
    "print(\"Original list: \",l)\n",
    "o,e=count_even_odd(l)\n",
    "print(\"Number of odds: \",o)\n",
    "print(\"Number of evens: \",e)"
   ]
  },
  {
   "cell_type": "code",
   "execution_count": 22,
   "metadata": {},
   "outputs": [
    {
     "name": "stdout",
     "output_type": "stream",
     "text": [
      "Enter number of inputs user wants: 6\n",
      "Enter 6 numbers:2,28,5,19,1,8\n",
      "Original list:  [2, 28, 5, 19, 1, 8]\n",
      "The largest among all in the list:  28\n"
     ]
    }
   ],
   "source": [
    "#WAF: maximum() to return the largest number in a list of numbers (do not use max function).\n",
    "#Function takes a list or tuple of numbers as argument. \n",
    "def maximum(l):\n",
    "    for i in range(0,len(l)):\n",
    "            for j in range(i+1,len(l)):\n",
    "                if l[i]>l[j]:\n",
    "                    l[i],l[j]=l[j],l[i]\n",
    "    \n",
    "    return l[len(l)-1]\n",
    "n=int(input(\"Enter number of inputs user wants: \"))\n",
    "l=list(map(int,input(\"Enter {} numbers:\".format(n)).split(',')))\n",
    "print(\"Original list: \",l)\n",
    "res=maximum(l)\n",
    "print(\"The largest among all in the list: \",res)\n"
   ]
  },
  {
   "cell_type": "code",
   "execution_count": 25,
   "metadata": {},
   "outputs": [
    {
     "name": "stdout",
     "output_type": "stream",
     "text": [
      "Enter number of inputs user wants: 6\n",
      "Enter 6 numbers:2,92,28,82,1,5\n",
      "Original list:  [2, 92, 28, 82, 1, 5]\n",
      "The second largest among all in the list:  82\n"
     ]
    }
   ],
   "source": [
    "#WAF: second_maximum() Create a new version of above code to return the second largest\n",
    "#number. \n",
    "def second_maximum(l):\n",
    "    l.sort()\n",
    "    return l[len(l)-2]\n",
    "n=int(input(\"Enter number of inputs user wants: \"))\n",
    "l=list(map(int,input(\"Enter {} numbers:\".format(n)).split(',')))\n",
    "print(\"Original list: \",l)\n",
    "res=second_maximum(l)\n",
    "print(\"The second largest among all in the list: \",res)"
   ]
  },
  {
   "cell_type": "code",
   "execution_count": 27,
   "metadata": {},
   "outputs": [
    {
     "name": "stdout",
     "output_type": "stream",
     "text": [
      "Enter number of inputs user wants: 5\n",
      "Enter 5 numbers:1,2,3,4,5\n",
      "Original list:  [1, 2, 3, 4, 5]\n",
      "The mean of all in the list:  3.0\n"
     ]
    }
   ],
   "source": [
    "#WAF: mean() that returns the mean of list of numbers passed to the function as argument. \n",
    "def mean(l):\n",
    "    s=0\n",
    "    for i in range(len(l)):\n",
    "        s=s+l[i]\n",
    "    avg=s/len(l)\n",
    "    return avg\n",
    "n=int(input(\"Enter number of inputs user wants: \"))\n",
    "l=list(map(int,input(\"Enter {} numbers:\".format(n)).split(',')))\n",
    "print(\"Original list: \",l)\n",
    "res=mean(l)\n",
    "print(\"The mean of all in the list: \",res)"
   ]
  },
  {
   "cell_type": "code",
   "execution_count": 29,
   "metadata": {},
   "outputs": [
    {
     "name": "stdout",
     "output_type": "stream",
     "text": [
      "Enter number of inputs user wants: 6\n",
      "Enter 6 numbers:3,10, 5, 8, 2, 7\n",
      "Original list:  [3, 10, 5, 8, 2, 7]\n",
      "Enter starting member: 5\n",
      "Enter starting member: 9\n",
      "list of numbers between 5 and 9 is [5, 8, 7]\n"
     ]
    }
   ],
   "source": [
    "#WAF: find_in_range() that takes a three arguments:\n",
    " #a list of numbers, start, end\n",
    "#The function returns a list of numbers from the original list, which lie between start and end.\n",
    "#Ex: find_in_range([3,10, 5, 8, 2, 7], 5, 9)\n",
    "# List of numbers = [3,10, 5, 8, 2, 7]\n",
    "# start = 5\n",
    "#end = 9\n",
    "# list returned should be [5, 8, 7] \n",
    "def find_in_range(l,strt,end):\n",
    "    s=[]\n",
    "    for i in range(len(l)):\n",
    "        if l[i]>=strt and l[i]<=end:\n",
    "            s.append(l[i])\n",
    "    return s\n",
    "n=int(input(\"Enter number of inputs user wants: \"))\n",
    "l=list(map(int,input(\"Enter {} numbers:\".format(n)).split(',')))\n",
    "print(\"Original list: \",l)\n",
    "strt=int(input(\"Enter starting member: \"))\n",
    "end=int(input(\"Enter starting member: \"))\n",
    "res=find_in_range(l,strt,end)\n",
    "print(\"list of numbers between {} and {} is {}\".format(strt,end,res))\n"
   ]
  },
  {
   "cell_type": "code",
   "execution_count": null,
   "metadata": {},
   "outputs": [],
   "source": []
  }
 ],
 "metadata": {
  "kernelspec": {
   "display_name": "Python 3",
   "language": "python",
   "name": "python3"
  },
  "language_info": {
   "codemirror_mode": {
    "name": "ipython",
    "version": 3
   },
   "file_extension": ".py",
   "mimetype": "text/x-python",
   "name": "python",
   "nbconvert_exporter": "python",
   "pygments_lexer": "ipython3",
   "version": "3.8.3"
  }
 },
 "nbformat": 4,
 "nbformat_minor": 4
}
