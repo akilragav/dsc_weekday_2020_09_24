{
 "cells": [
  {
   "cell_type": "code",
   "execution_count": 11,
   "metadata": {},
   "outputs": [
    {
     "name": "stdout",
     "output_type": "stream",
     "text": [
      "100\n",
      "0.1\n",
      "-10\n"
     ]
    }
   ],
   "source": [
    "#Write lambdas to:\n",
    "#a. Square a number x2\n",
    "#b. Inverse a number 1/x\n",
    "#c. Negate a number \n",
    "f=lambda x:x**2\n",
    "l=f(10)\n",
    "print(l)\n",
    "f=lambda x:1/x\n",
    "l=f(10)\n",
    "print(l)\n",
    "f=lambda x:-x\n",
    "l=f(10)\n",
    "print(l)"
   ]
  },
  {
   "cell_type": "code",
   "execution_count": 12,
   "metadata": {},
   "outputs": [
    {
     "name": "stdout",
     "output_type": "stream",
     "text": [
      "Enter 5 numbers: 10,50,70,20,5\n",
      "The maximum of all given input:  70\n"
     ]
    }
   ],
   "source": [
    "#Use reduce function and an appropriate lambda to find the maximum number in a list. \n",
    "l=list(map(int,input(\"Enter 5 numbers: \").split(',')))\n",
    "f=lambda x,y: x if x>y else y\n",
    "res=reduce(f,l)\n",
    "print(\"The maximum of all given input: \",res)"
   ]
  },
  {
   "cell_type": "code",
   "execution_count": 31,
   "metadata": {},
   "outputs": [
    {
     "name": "stdout",
     "output_type": "stream",
     "text": [
      "[7]\n",
      "[7, -5]\n"
     ]
    },
    {
     "ename": "TypeError",
     "evalue": "<lambda>() takes 1 positional argument but 2 were given",
     "output_type": "error",
     "traceback": [
      "\u001b[1;31m---------------------------------------------------------------------------\u001b[0m",
      "\u001b[1;31mTypeError\u001b[0m                                 Traceback (most recent call last)",
      "\u001b[1;32m<ipython-input-31-7f3b2f672eb1>\u001b[0m in \u001b[0;36m<module>\u001b[1;34m\u001b[0m\n\u001b[0;32m     24\u001b[0m \u001b[0mfuncts\u001b[0m\u001b[1;33m=\u001b[0m\u001b[1;33m[\u001b[0m\u001b[1;32mlambda\u001b[0m \u001b[0mx\u001b[0m\u001b[1;33m,\u001b[0m\u001b[0my\u001b[0m\u001b[1;33m:\u001b[0m\u001b[0mx\u001b[0m\u001b[1;33m+\u001b[0m\u001b[0my\u001b[0m\u001b[1;33m,\u001b[0m\u001b[1;32mlambda\u001b[0m \u001b[0mx\u001b[0m\u001b[1;33m,\u001b[0m\u001b[0my\u001b[0m\u001b[1;33m:\u001b[0m\u001b[0mx\u001b[0m\u001b[1;33m-\u001b[0m\u001b[0my\u001b[0m\u001b[1;33m,\u001b[0m\u001b[1;32mlambda\u001b[0m \u001b[0mx\u001b[0m\u001b[1;33m:\u001b[0m\u001b[1;33m-\u001b[0m\u001b[0mx\u001b[0m\u001b[1;33m]\u001b[0m\u001b[1;33m\u001b[0m\u001b[1;33m\u001b[0m\u001b[0m\n\u001b[0;32m     25\u001b[0m \u001b[0ml\u001b[0m\u001b[1;33m=\u001b[0m\u001b[1;33m[\u001b[0m\u001b[1;36m1\u001b[0m\u001b[1;33m,\u001b[0m\u001b[1;36m2\u001b[0m\u001b[1;33m,\u001b[0m\u001b[1;36m4\u001b[0m\u001b[1;33m]\u001b[0m\u001b[1;33m\u001b[0m\u001b[1;33m\u001b[0m\u001b[0m\n\u001b[1;32m---> 26\u001b[1;33m \u001b[0mmap_multiple\u001b[0m\u001b[1;33m(\u001b[0m\u001b[0mfuncts\u001b[0m\u001b[1;33m,\u001b[0m\u001b[0ml\u001b[0m\u001b[1;33m)\u001b[0m\u001b[1;33m\u001b[0m\u001b[1;33m\u001b[0m\u001b[0m\n\u001b[0m\u001b[0;32m     27\u001b[0m \u001b[1;31m#res=reduce(map_multiple,l)\u001b[0m\u001b[1;33m\u001b[0m\u001b[1;33m\u001b[0m\u001b[1;33m\u001b[0m\u001b[0m\n",
      "\u001b[1;32m<ipython-input-31-7f3b2f672eb1>\u001b[0m in \u001b[0;36mmap_multiple\u001b[1;34m(functs, sequence)\u001b[0m\n\u001b[0;32m     15\u001b[0m         \u001b[0mres\u001b[0m\u001b[1;33m=\u001b[0m\u001b[0mfunct\u001b[0m\u001b[1;33m\u001b[0m\u001b[1;33m\u001b[0m\u001b[0m\n\u001b[0;32m     16\u001b[0m         \u001b[1;31m#for i in sequence:\u001b[0m\u001b[1;33m\u001b[0m\u001b[1;33m\u001b[0m\u001b[1;33m\u001b[0m\u001b[0m\n\u001b[1;32m---> 17\u001b[1;33m         \u001b[0mres1\u001b[0m\u001b[1;33m=\u001b[0m\u001b[0mreduce\u001b[0m\u001b[1;33m(\u001b[0m\u001b[0mres\u001b[0m\u001b[1;33m,\u001b[0m\u001b[0msequence\u001b[0m\u001b[1;33m)\u001b[0m\u001b[1;33m\u001b[0m\u001b[1;33m\u001b[0m\u001b[0m\n\u001b[0m\u001b[0;32m     18\u001b[0m         \u001b[0mans\u001b[0m\u001b[1;33m.\u001b[0m\u001b[0mappend\u001b[0m\u001b[1;33m(\u001b[0m\u001b[0mres1\u001b[0m\u001b[1;33m)\u001b[0m\u001b[1;33m\u001b[0m\u001b[1;33m\u001b[0m\u001b[0m\n\u001b[0;32m     19\u001b[0m         \u001b[0mprint\u001b[0m\u001b[1;33m(\u001b[0m\u001b[0mans\u001b[0m\u001b[1;33m)\u001b[0m\u001b[1;33m\u001b[0m\u001b[1;33m\u001b[0m\u001b[0m\n",
      "\u001b[1;31mTypeError\u001b[0m: <lambda>() takes 1 positional argument but 2 were given"
     ]
    }
   ],
   "source": [
    "#Write a function map_multiple that takes a list of functions/lambdas as first argument and a\n",
    "#sequence type as second argument.\n",
    "#The function picks first lambda from list, applies it to first element, then applies the second\n",
    "#function to the result of first one and ….\n",
    "#Similarly it does for each element and generates a mapping of input to output\n",
    "#def map_multiple(functs, sequence):\n",
    "# # write definition here\n",
    "#Ex: let list of lambdas be from question 1 and the list on numbers be [1,2,4]\n",
    "# So first function gives [1, 4, 16]\n",
    "# Second gives [1, 0.25, 0.0625]\n",
    "# Third gives [-1, -0.25, -0.0625]. Which is the final result. \n",
    "def map_multiple(functs,sequence):\n",
    "    ans=[]\n",
    "    for funct in functs:\n",
    "        res=funct\n",
    "        #for i in sequence:\n",
    "        res1=reduce(res,sequence)\n",
    "        ans.append(res1)\n",
    "        print(ans)\n",
    "    #print(ans)\n",
    "\n",
    "#res=[]       \n",
    "#functs=[lambda x:x**2,lambda x:1/x,lambda x:-x]  \n",
    "functs=[lambda x,y:x+y,lambda x,y:x-y,lambda x:-x]   \n",
    "l=[1,2,4]\n",
    "map_multiple(functs,l)\n",
    "#res=reduce(map_multiple,l)"
   ]
  },
  {
   "cell_type": "code",
   "execution_count": 8,
   "metadata": {},
   "outputs": [
    {
     "name": "stdout",
     "output_type": "stream",
     "text": [
      "50\n"
     ]
    }
   ],
   "source": [
    "from functools import reduce\n",
    "f=lambda x,y:x if x>y else y\n",
    "l=[10,30,50,30,10]\n",
    "num=reduce(f,l)\n",
    "print(num)"
   ]
  },
  {
   "cell_type": "code",
   "execution_count": 6,
   "metadata": {},
   "outputs": [
    {
     "name": "stdout",
     "output_type": "stream",
     "text": [
      "[1.0, 0.5, 0.25, 0.125]\n"
     ]
    }
   ],
   "source": [
    "functs=[lambda x:x**0.5, lambda x:1/x]\n",
    "l=[1,4,16,64]\n",
    "ans=[]\n",
    "for num in l:\n",
    "    res=num\n",
    "    for funct in functs:\n",
    "        res=funct(res)\n",
    "    ans.append(res)\n",
    "print(ans)"
   ]
  },
  {
   "cell_type": "code",
   "execution_count": 50,
   "metadata": {},
   "outputs": [
    {
     "name": "stdout",
     "output_type": "stream",
     "text": [
      "[1, 2, 3, 4, 5, 6, 7]\n"
     ]
    }
   ],
   "source": [
    "#Use filter function to filter a list of numbers and strings such that the result contains only\n",
    "#numbers. (Hint : Use isinstance method) \n",
    "from numbers import Number\n",
    "l=[1,2,3,'t',4,5,'fgt',6,7,'priyanka']\n",
    "#d=[] int) or isinstance(t,float\n",
    "d=list(filter(lambda t:isinstance(t,Number),l))\n",
    "print(d)"
   ]
  },
  {
   "cell_type": "code",
   "execution_count": 86,
   "metadata": {},
   "outputs": [
    {
     "name": "stdout",
     "output_type": "stream",
     "text": [
      "[1.524, 1.778, 1.3716, 2.0828, 2.1336]\n"
     ]
    }
   ],
   "source": [
    "#Assume a list containing heights ft and inches in the form of a list of string\n",
    "#Example : l = [‘5ft10in’, ‘5ft’, ….]\n",
    "#Write a function to convert the heights to meter. Use map function along with your function to\n",
    "#convert everything to m. \n",
    "def convert(l):\n",
    "    mt=0.0\n",
    "    res1=l.find(\"ft\")\n",
    "    res2=l.find(\"in\")\n",
    "    if res2!=-1:\n",
    "        s1=l[:res1:]\n",
    "        s2=l[res1+2:res2:]\n",
    "        mt=(int(s1)*0.3048) + (int(s2)*0.0254)\n",
    "    else:\n",
    "        s1=l[:res1:]\n",
    "        mt=(int(s1)*0.3048)\n",
    "        \n",
    "    return mt\n",
    "               \n",
    "l=['5ft','5ft10in','4ft6in','6ft10in','7ft']\n",
    "#for \n",
    "x=map(convert,l)\n",
    "print(list(x))"
   ]
  },
  {
   "cell_type": "code",
   "execution_count": 88,
   "metadata": {},
   "outputs": [
    {
     "name": "stdout",
     "output_type": "stream",
     "text": [
      "['Aa', 'Bb', 'Cc', 'Dd']\n"
     ]
    }
   ],
   "source": [
    "#Write the implementation for the map function yourself by the name my_map()\n",
    "def my_map(l,j):\n",
    "    return l+j\n",
    "    \n",
    "d=[]\n",
    "l1=['A','B','C','D']\n",
    "l2=['a','b','c','d']\n",
    "for i in range(len(l1)):\n",
    "    x=my_map(l1[i],l2[i])\n",
    "    d.append(x)\n",
    "print(d)\n"
   ]
  },
  {
   "cell_type": "code",
   "execution_count": 53,
   "metadata": {},
   "outputs": [
    {
     "name": "stdout",
     "output_type": "stream",
     "text": [
      "1\n"
     ]
    }
   ],
   "source": []
  },
  {
   "cell_type": "code",
   "execution_count": 56,
   "metadata": {},
   "outputs": [
    {
     "ename": "TypeError",
     "evalue": "'map' object is not callable",
     "output_type": "error",
     "traceback": [
      "\u001b[1;31m---------------------------------------------------------------------------\u001b[0m",
      "\u001b[1;31mTypeError\u001b[0m                                 Traceback (most recent call last)",
      "\u001b[1;32m<ipython-input-56-49a345e59a7b>\u001b[0m in \u001b[0;36m<module>\u001b[1;34m\u001b[0m\n\u001b[0;32m      4\u001b[0m \u001b[1;33m\u001b[0m\u001b[0m\n\u001b[0;32m      5\u001b[0m \u001b[0mx\u001b[0m \u001b[1;33m=\u001b[0m \u001b[0mmap\u001b[0m\u001b[1;33m(\u001b[0m\u001b[0mmyfunc\u001b[0m\u001b[1;33m,\u001b[0m \u001b[1;33m(\u001b[0m\u001b[1;34m'apple'\u001b[0m\u001b[1;33m,\u001b[0m \u001b[1;34m'banana'\u001b[0m\u001b[1;33m,\u001b[0m \u001b[1;34m'cherry'\u001b[0m\u001b[1;33m)\u001b[0m\u001b[1;33m,\u001b[0m \u001b[1;33m(\u001b[0m\u001b[1;34m'orange'\u001b[0m\u001b[1;33m,\u001b[0m \u001b[1;34m'lemon'\u001b[0m\u001b[1;33m,\u001b[0m \u001b[1;34m'pineapple'\u001b[0m\u001b[1;33m)\u001b[0m\u001b[1;33m)\u001b[0m\u001b[1;33m\u001b[0m\u001b[1;33m\u001b[0m\u001b[0m\n\u001b[1;32m----> 6\u001b[1;33m \u001b[0mprint\u001b[0m\u001b[1;33m(\u001b[0m\u001b[0mx\u001b[0m\u001b[1;33m(\u001b[0m\u001b[1;33m)\u001b[0m\u001b[1;33m)\u001b[0m\u001b[1;33m\u001b[0m\u001b[1;33m\u001b[0m\u001b[0m\n\u001b[0m",
      "\u001b[1;31mTypeError\u001b[0m: 'map' object is not callable"
     ]
    }
   ],
   "source": []
  },
  {
   "cell_type": "code",
   "execution_count": null,
   "metadata": {},
   "outputs": [],
   "source": []
  }
 ],
 "metadata": {
  "kernelspec": {
   "display_name": "Python 3",
   "language": "python",
   "name": "python3"
  },
  "language_info": {
   "codemirror_mode": {
    "name": "ipython",
    "version": 3
   },
   "file_extension": ".py",
   "mimetype": "text/x-python",
   "name": "python",
   "nbconvert_exporter": "python",
   "pygments_lexer": "ipython3",
   "version": "3.8.3"
  }
 },
 "nbformat": 4,
 "nbformat_minor": 4
}
