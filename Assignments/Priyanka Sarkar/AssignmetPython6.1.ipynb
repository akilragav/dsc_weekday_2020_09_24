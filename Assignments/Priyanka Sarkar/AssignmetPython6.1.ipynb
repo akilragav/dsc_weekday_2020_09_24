{
 "cells": [
  {
   "cell_type": "code",
   "execution_count": 20,
   "metadata": {},
   "outputs": [
    {
     "name": "stdout",
     "output_type": "stream",
     "text": [
      "Enter a string: Priyanka\n",
      "P\n",
      "r\n",
      "i\n",
      "y\n",
      "a\n",
      "n\n",
      "k\n",
      "a\n"
     ]
    }
   ],
   "source": [
    "#WAP to input a string and print individual characters in the string using for loop. \n",
    "n=input(\"Enter a string: \")\n",
    "l=len(n)\n",
    "for i in range(0,l):\n",
    "    print(n[i])"
   ]
  },
  {
   "cell_type": "code",
   "execution_count": 21,
   "metadata": {},
   "outputs": [
    {
     "name": "stdout",
     "output_type": "stream",
     "text": [
      "Enter a string: Priyanka\n",
      "P = 80\n",
      "r = 114\n",
      "i = 105\n",
      "y = 121\n",
      "a = 97\n",
      "n = 110\n",
      "k = 107\n",
      "a = 97\n"
     ]
    }
   ],
   "source": [
    "#WAP to input a string and print the ASCII value of each character in the string. \n",
    "n=input(\"Enter a string: \")\n",
    "l=len(n)\n",
    "for i in range(0,l):\n",
    "    print(n[i],\"=\",ord(n[i]))"
   ]
  },
  {
   "cell_type": "code",
   "execution_count": 17,
   "metadata": {},
   "outputs": [
    {
     "name": "stdout",
     "output_type": "stream",
     "text": [
      "How many numbers you want to enter: 5\n",
      "Please enter 5 numbers:1,2,3,4,5\n",
      "1\n",
      "3\n",
      "5\n",
      "Sum of only odd indexed numbers is:  9\n"
     ]
    }
   ],
   "source": [
    "#Write a function that takes a list of numbers from user as argument and returns the sum of only\n",
    "#odd numbers (Use only for loop. No need to use if statement). \n",
    "def sum_n(l):\n",
    "    len1=len(l)\n",
    "    sum1=0\n",
    "    for i in range(0,len1,2):\n",
    "        print(l[i])\n",
    "        sum1=sum1+l[i]\n",
    "    return sum1\n",
    "\n",
    "n=input(\"How many numbers you want to enter: \")\n",
    "s1=0\n",
    "l=list(map(int,input(\"Please enter {} numbers:\".format(n)).split(',')))\n",
    "s1=sum_n(l)\n",
    "print(\"Sum of only odd indexed numbers is: \",s1)"
   ]
  },
  {
   "cell_type": "code",
   "execution_count": 18,
   "metadata": {},
   "outputs": [
    {
     "name": "stdout",
     "output_type": "stream",
     "text": [
      "How many numbers you want to enter: 5\n",
      "Please enter 5 numbers:1,2,3,4,5\n",
      "Enter the number to be searched: 5\n",
      "[1, 2, 3, 4, 5]\n",
      "(1, 2, 3, 4, 5)\n",
      "Index of 5 is 4\n"
     ]
    }
   ],
   "source": [
    "#WAP to input a list of numbers and store in a tuple. Now input another number and print the\n",
    "#index of this number in the tuple. [Use index function] \n",
    "n=input(\"How many numbers you want to enter: \")\n",
    "s1=0\n",
    "l=list(map(int,input(\"Please enter {} numbers:\".format(n)).split(',')))\n",
    "t=tuple(l)\n",
    "n=int(input(\"Enter the number to be searched: \"))\n",
    "x=t.index(n)\n",
    "print(l)\n",
    "print(t)\n",
    "print(\"Index of {} is {}\".format(n,x))"
   ]
  },
  {
   "cell_type": "code",
   "execution_count": 19,
   "metadata": {},
   "outputs": [
    {
     "name": "stdout",
     "output_type": "stream",
     "text": [
      "Please enter the range withon whihc random numbers are needed: 25\n",
      "Please enter 10 random numbers\n",
      "[16, 1, 3, 3, 13, 15, 9, 17, 4, 17]\n",
      "98\n",
      "9.8\n",
      "[16, 3, 13, 9, 4]\n"
     ]
    }
   ],
   "source": [
    "#Create a list of 10 random numbers and then print the list, sum of all numbers and average. Use\n",
    "#a for loop. Also print elements at only even indexes in the list. \n",
    "import random\n",
    "l=[]\n",
    "s1=0\n",
    "l1=[]\n",
    "n=int(input(\"Please enter the range withon whihc random numbers are needed: \"))\n",
    "print(\"Please enter 10 random numbers\")\n",
    "for i in range(10):\n",
    "    l.append(random.randint(0,n+1))\n",
    "s1=sum(l)\n",
    "avg=s1/10\n",
    "print(l)\n",
    "print(s1)\n",
    "print(avg)\n",
    "for i in range(0,len(l),2):\n",
    "    if i%2==0:\n",
    "        l1.append(l[i])\n",
    "        #print(l[i])\n",
    "print(l1)\n",
    "    "
   ]
  },
  {
   "cell_type": "code",
   "execution_count": 23,
   "metadata": {},
   "outputs": [
    {
     "name": "stdout",
     "output_type": "stream",
     "text": [
      "Enter 10 numbers: \n",
      "1\n",
      "2\n",
      "3\n",
      "4\n",
      "5\n",
      "6\n",
      "7\n",
      "8\n",
      "9\n",
      "5\n",
      "Sum is:  169\n"
     ]
    }
   ],
   "source": [
    "#WAP to input 10 numbers repeatedly (using range based for loop) and store them in a list. Print\n",
    "#the list and sum of numbers in the list. \n",
    "l=[]\n",
    "print(\"Enter 10 numbers: \")\n",
    "for i in range(10):\n",
    "    n=int(input())\n",
    "    l.append(n)\n",
    "    s1=s1+l[i]\n",
    "\n",
    "print(\"Sum is: \",s1)"
   ]
  },
  {
   "cell_type": "code",
   "execution_count": 27,
   "metadata": {},
   "outputs": [
    {
     "name": "stdout",
     "output_type": "stream",
     "text": [
      "Enter a number 7\n",
      "7 X 1 = 7\n",
      "7 X 2 = 14\n",
      "7 X 3 = 21\n",
      "7 X 4 = 28\n",
      "7 X 5 = 35\n",
      "7 X 6 = 42\n",
      "7 X 7 = 49\n",
      "7 X 8 = 56\n",
      "7 X 9 = 63\n",
      "7 X 10 = 70\n"
     ]
    }
   ],
   "source": [
    "#WAP to input a number and print its table. Ex: if user enters the number as 7, output should be \n",
    "n=int(input(\"Enter a number \"))\n",
    "for i in range(1,11):\n",
    "    print(\"{} X {} = {}\".format(n,i,n*i))\n"
   ]
  },
  {
   "cell_type": "code",
   "execution_count": 24,
   "metadata": {},
   "outputs": [
    {
     "name": "stdout",
     "output_type": "stream",
     "text": [
      "Enter a string: Priyanka Sarkar\n",
      "Number of spaces in the string:  1\n"
     ]
    }
   ],
   "source": [
    "#WAP to print total number of spaces in a string (Use for loop to iterate over the string. Don’t use\n",
    "#count function). \n",
    "s=input(\"Enter a string: \")\n",
    "f=0\n",
    "l=len(s)\n",
    "for i in range(0,l):\n",
    "    if s[i]==\" \":\n",
    "        f+=1\n",
    "print(\"Number of spaces in the string: \",f)"
   ]
  },
  {
   "cell_type": "code",
   "execution_count": 25,
   "metadata": {},
   "outputs": [
    {
     "name": "stdout",
     "output_type": "stream",
     "text": [
      "Entera string: Priyanka Sarkar\n",
      "Number of vowels in the string:  5\n"
     ]
    }
   ],
   "source": [
    "#WAP to input a string and count number of vowels in the string. [Note: it should work for both\n",
    "#capital and small alphabets] \n",
    "s=input(\"Entera string: \")\n",
    "v=0\n",
    "l=len(s)\n",
    "for i in range(0,l):\n",
    "    if s[i]=='a' or s[i]=='e' or s[i]=='i' or s[i]=='o' or s[i]=='u' or s[i]=='A' or s[i]=='E' or s[i]=='I' or s[i]=='O' or s[i]=='U':\n",
    "        v+=1\n",
    "print(\"Number of vowels in the string: \",v)\n"
   ]
  },
  {
   "cell_type": "code",
   "execution_count": 26,
   "metadata": {},
   "outputs": [
    {
     "name": "stdout",
     "output_type": "stream",
     "text": [
      "Entera string: Priyanka Sarkar\n",
      "Modified string:  Pr_y_nk_ S_rk_r\n"
     ]
    }
   ],
   "source": [
    "# WAP to input a string and replace all vowels with ‘_’.\n",
    "#[Hint: Convert string to list. Remember!! Strings are immutable. Replace in the list and then join]\n",
    "s=input(\"Entera string: \")\n",
    "v=0\n",
    "s1=list(s)\n",
    "s2=''\n",
    "l=len(s1)\n",
    "for i in range(0,l):\n",
    "    if s1[i]=='a' or s1[i]=='e' or s1[i]=='i' or s1[i]=='o' or s1[i]=='u' or s1[i]=='A' or s1[i]=='E' or s1[i]=='I' or s1[i]=='O' or s1[i]=='U':\n",
    "        s1[i]='_'\n",
    "sep1=''\n",
    "print(\"Modified string: \",sep1.join(s1))"
   ]
  },
  {
   "cell_type": "code",
   "execution_count": 1,
   "metadata": {},
   "outputs": [
    {
     "name": "stdout",
     "output_type": "stream",
     "text": [
      "Num:  0\n",
      "Loop Ends\n"
     ]
    }
   ],
   "source": [
    "for num in range(10):\n",
    "    print(\"Num: \",num)\n",
    "    if num%4==0:\n",
    "        break\n",
    "print(\"Loop Ends\")"
   ]
  },
  {
   "cell_type": "code",
   "execution_count": 2,
   "metadata": {},
   "outputs": [
    {
     "name": "stdout",
     "output_type": "stream",
     "text": [
      "Num:  0\n",
      "Num:  1\n",
      "Num:  2\n",
      "Num:  3\n",
      "Num:  4\n",
      "Num:  5\n",
      "Num:  6\n",
      "Num:  7\n",
      "Num:  8\n",
      "Num:  9\n",
      "Loop Ends\n"
     ]
    }
   ],
   "source": [
    "import sys\n",
    "for num in range(10):\n",
    "    print(\"Num: \",num)\n",
    "    if num%4==0:\n",
    "        exit()\n",
    "print(\"Loop Ends\")"
   ]
  },
  {
   "cell_type": "code",
   "execution_count": 27,
   "metadata": {},
   "outputs": [
    {
     "name": "stdout",
     "output_type": "stream",
     "text": [
      "*****\n",
      "*****\n",
      "*****\n",
      "*****\n",
      "*****\n"
     ]
    }
   ],
   "source": [
    "for i1 in range(1,6):\n",
    "    for i2 in range(5):\n",
    "        print('*',end='')\n",
    "    print()"
   ]
  },
  {
   "cell_type": "code",
   "execution_count": 15,
   "metadata": {},
   "outputs": [
    {
     "name": "stdout",
     "output_type": "stream",
     "text": [
      "1\n",
      "22\n",
      "333\n",
      "4444\n",
      "55555\n"
     ]
    }
   ],
   "source": [
    "for i1 in range(1,6):\n",
    "    print(str(i1)*i1)"
   ]
  },
  {
   "cell_type": "code",
   "execution_count": 16,
   "metadata": {},
   "outputs": [
    {
     "name": "stdout",
     "output_type": "stream",
     "text": [
      "1\n",
      "22\n",
      "333\n",
      "4444\n",
      "55555\n"
     ]
    }
   ],
   "source": [
    "for i1 in range(1,6):\n",
    "    for i2 in range(i1):\n",
    "        print(i1,end='')\n",
    "    print()"
   ]
  },
  {
   "cell_type": "code",
   "execution_count": 19,
   "metadata": {},
   "outputs": [
    {
     "name": "stdout",
     "output_type": "stream",
     "text": [
      "**\n",
      "***\n",
      "****\n",
      "*****\n",
      "******\n"
     ]
    }
   ],
   "source": [
    "for i1 in range(1,6):\n",
    "    for i2 in range(i1+1):\n",
    "        print('*',end='')\n",
    "    print()"
   ]
  },
  {
   "cell_type": "code",
   "execution_count": null,
   "metadata": {},
   "outputs": [],
   "source": []
  }
 ],
 "metadata": {
  "kernelspec": {
   "display_name": "Python 3",
   "language": "python",
   "name": "python3"
  },
  "language_info": {
   "codemirror_mode": {
    "name": "ipython",
    "version": 3
   },
   "file_extension": ".py",
   "mimetype": "text/x-python",
   "name": "python",
   "nbconvert_exporter": "python",
   "pygments_lexer": "ipython3",
   "version": "3.8.3"
  }
 },
 "nbformat": 4,
 "nbformat_minor": 4
}
