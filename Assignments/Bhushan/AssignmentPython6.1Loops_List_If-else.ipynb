{
 "cells": [
  {
   "cell_type": "code",
   "execution_count": null,
   "metadata": {},
   "outputs": [],
   "source": [
    "#1\n",
    "s=input(\"Enter a string: \")\n",
    "for i in s:\n",
    "    print(i,end=\" \")"
   ]
  },
  {
   "cell_type": "code",
   "execution_count": null,
   "metadata": {},
   "outputs": [],
   "source": [
    "#2\n",
    "s=input(\"Enter a string: \")\n",
    "for i in s:\n",
    "    print(ord(i),end=\" \")"
   ]
  },
  {
   "cell_type": "code",
   "execution_count": null,
   "metadata": {},
   "outputs": [],
   "source": [
    "#3\n",
    "def sum_ofOdd(a):\n",
    "    res=0\n",
    "    for i in a:\n",
    "        res=res+i\n",
    "    return res\n",
    "\n",
    "list1=list(input(\"Enter Number of Elements\").split())\n",
    "list2=filter(lambda x:x%2!=0,list1)\n",
    "print(sum_ofOdd(list2))"
   ]
  },
  {
   "cell_type": "code",
   "execution_count": null,
   "metadata": {},
   "outputs": [],
   "source": [
    "#3\n",
    "def sum_ofOdd(a):\n",
    "    res=0\n",
    "    for i in a:\n",
    "        if i%2!=0:\n",
    "            res=res+i\n",
    "    return res\n",
    "n=input(\"Enter how many Numbers you want to enter: \")\n",
    "list1=list(map(int,input(\"Enter {} Numbers: :\".format(n)).split(',')))\n",
    "print(sum_ofOdd(list1))"
   ]
  },
  {
   "cell_type": "code",
   "execution_count": null,
   "metadata": {},
   "outputs": [],
   "source": [
    "#4\n",
    "n=input(\"Enter the number of elements: \")\n",
    "list1=list(map(int,input(\"Enter {} numbers seperated by a Comma: \".format(n)).split(',')))\n",
    "tuple1=tuple(list1)\n",
    "print(tuple1)\n",
    "a=int(input(\"Enter a number in the list of which you want the index: \"))\n",
    "index1=tuple1.index(a)\n",
    "print(index1)"
   ]
  },
  {
   "cell_type": "code",
   "execution_count": 10,
   "metadata": {
    "scrolled": true
   },
   "outputs": [
    {
     "name": "stdout",
     "output_type": "stream",
     "text": [
      "[41, 1, 41, 44, 45, 10, 38, 40, 47, 46]\n",
      "256\n",
      "\n",
      "25.6\n",
      "\n",
      "41\n",
      "41\n",
      "45\n",
      "38\n",
      "47\n"
     ]
    }
   ],
   "source": [
    "#5\n",
    "import random\n",
    "list01=[]\n",
    "sum1=0\n",
    "avg1=0\n",
    "for i in range(0,10):\n",
    "    n=random.randint(1,50)\n",
    "    list01.append(n)\n",
    "print(list1)\n",
    "\n",
    "for i in list01:\n",
    "    sum1=sum1+i\n",
    "print(sum1)\n",
    "print()\n",
    "print(sum1/10)\n",
    "print()\n",
    "len1=len(list01)\n",
    "for i in list1[0:len1:2]:\n",
    "    print(i)\n"
   ]
  },
  {
   "cell_type": "code",
   "execution_count": 17,
   "metadata": {},
   "outputs": [
    {
     "name": "stdout",
     "output_type": "stream",
     "text": [
      "Enter a Number: 5\n",
      "Enter a Number: 5\n",
      "Enter a Number: 5\n",
      "Enter a Number: 5\n",
      "Enter a Number: 5\n",
      "Enter a Number: 5\n",
      "Enter a Number: 55\n",
      "Enter a Number: 5\n",
      "Enter a Number: 5\n",
      "Enter a Number: 5\n",
      "[5, 5, 5, 5, 5, 5, 55, 5, 5, 5]\n",
      "\n",
      "100\n"
     ]
    }
   ],
   "source": [
    "#6\n",
    "list1=[]\n",
    "sum1=0\n",
    "for i in range(0,10):\n",
    "    n=int(input(\"Enter a Number: \"))\n",
    "    \n",
    "    list1.append(n)\n",
    "print(list1)\n",
    "print()\n",
    "for i in list1:\n",
    "    sum1=sum1+i\n",
    "print(sum1)"
   ]
  },
  {
   "cell_type": "code",
   "execution_count": 20,
   "metadata": {},
   "outputs": [
    {
     "name": "stdout",
     "output_type": "stream",
     "text": [
      "Enter a Number: 7\n",
      "7 x 1 = 7\n",
      "7 x 2 = 14\n",
      "7 x 3 = 21\n",
      "7 x 4 = 28\n",
      "7 x 5 = 35\n",
      "7 x 6 = 42\n",
      "7 x 7 = 49\n",
      "7 x 8 = 56\n",
      "7 x 9 = 63\n",
      "7 x 10 = 70\n"
     ]
    }
   ],
   "source": [
    "#7\n",
    "n=int(input(\"Enter a Number: \"))\n",
    "for i in range(1,11):\n",
    "    print(n, 'x', i, '=', n*i)"
   ]
  },
  {
   "cell_type": "code",
   "execution_count": 24,
   "metadata": {},
   "outputs": [
    {
     "name": "stdout",
     "output_type": "stream",
     "text": [
      "Enter a string: b h u s h a n\n",
      "6\n"
     ]
    }
   ],
   "source": [
    "#8\n",
    "count=0\n",
    "str1=input(\"Enter a string: \")\n",
    "for i in str1:\n",
    "    if i==\" \":\n",
    "        count+=1\n",
    "print(count)"
   ]
  },
  {
   "cell_type": "code",
   "execution_count": 27,
   "metadata": {},
   "outputs": [
    {
     "name": "stdout",
     "output_type": "stream",
     "text": [
      "Enter a string: a A bhushan\n",
      "a a bhushan\n",
      "4\n"
     ]
    }
   ],
   "source": [
    "#9\n",
    "count=0\n",
    "str1=input(\"Enter a string: \")\n",
    "str1=str1.lower()\n",
    "print(str1)\n",
    "vowels1=['a','e','i','o','u']\n",
    "for i in str1:\n",
    "    if i in vowels1:\n",
    "        count+=1\n",
    "print(count)"
   ]
  },
  {
   "cell_type": "code",
   "execution_count": 32,
   "metadata": {},
   "outputs": [
    {
     "name": "stdout",
     "output_type": "stream",
     "text": [
      "Enter a string: bhushan B Pujar\n",
      "bhushan B Pujar\n",
      "bh_sh_n B P_j_r\n"
     ]
    }
   ],
   "source": [
    "#10\n",
    "str1=input(\"Enter a string: \")\n",
    "list1=list(str1)\n",
    "print(str1)\n",
    "vowels1=['a','e','i','o','u','A','E','I','O','U']\n",
    "for n,i in enumerate(list1):\n",
    "    if i in vowels1:\n",
    "        list1[n]=\"_\"\n",
    "def list_str(s):  \n",
    "    str2 = \"\" \n",
    "    return (str2.join(s))\n",
    "print(list_str(list1))"
   ]
  },
  {
   "cell_type": "code",
   "execution_count": 33,
   "metadata": {},
   "outputs": [
    {
     "name": "stdout",
     "output_type": "stream",
     "text": [
      "Num:  0\n",
      "Loop ends\n"
     ]
    }
   ],
   "source": [
    "#11.1\n",
    "for num in range(10):\n",
    "    print(\"Num: \",num)\n",
    "    if num%4==0:\n",
    "        break\n",
    "print(\"Loop ends\")\n"
   ]
  },
  {
   "cell_type": "code",
   "execution_count": 34,
   "metadata": {
    "scrolled": true
   },
   "outputs": [
    {
     "name": "stdout",
     "output_type": "stream",
     "text": [
      "Num:  0\n"
     ]
    },
    {
     "ename": "SystemExit",
     "evalue": "",
     "output_type": "error",
     "traceback": [
      "An exception has occurred, use %tb to see the full traceback.\n",
      "\u001b[1;31mSystemExit\u001b[0m\n"
     ]
    },
    {
     "name": "stderr",
     "output_type": "stream",
     "text": [
      "C:\\ProgramData\\Anaconda3\\lib\\site-packages\\IPython\\core\\interactiveshell.py:3351: UserWarning: To exit: use 'exit', 'quit', or Ctrl-D.\n",
      "  warn(\"To exit: use 'exit', 'quit', or Ctrl-D.\", stacklevel=1)\n"
     ]
    }
   ],
   "source": [
    "#11.2\n",
    "import sys\n",
    "for num in range(10):\n",
    "    print(\"Num: \",num)\n",
    "    if num%4==0:\n",
    "        sys.exit()\n",
    "print(\"Loop ends\")"
   ]
  },
  {
   "cell_type": "code",
   "execution_count": 36,
   "metadata": {},
   "outputs": [
    {
     "name": "stdout",
     "output_type": "stream",
     "text": [
      "* * * * * \n",
      "* * * * * \n",
      "* * * * * \n",
      "* * * * * \n",
      "* * * * * \n"
     ]
    }
   ],
   "source": [
    "#12.1\n",
    "for i in range(1,6):\n",
    "    for j in range(5):\n",
    "        print(\"*\",end=\" \")\n",
    "    print()"
   ]
  },
  {
   "cell_type": "code",
   "execution_count": 37,
   "metadata": {},
   "outputs": [
    {
     "name": "stdout",
     "output_type": "stream",
     "text": [
      "* \n",
      "* * \n",
      "* * * \n",
      "* * * * \n",
      "* * * * * \n"
     ]
    }
   ],
   "source": [
    "#12.2\n",
    "for i in range(1,6):\n",
    "    for j in range(i):\n",
    "        print(\"*\",end=\" \")\n",
    "    print()"
   ]
  },
  {
   "cell_type": "code",
   "execution_count": 38,
   "metadata": {},
   "outputs": [
    {
     "name": "stdout",
     "output_type": "stream",
     "text": [
      "1\n",
      "22\n",
      "333\n",
      "4444\n",
      "55555\n"
     ]
    }
   ],
   "source": [
    "#12.3\n",
    "for i in range(1,6):\n",
    "        print(str(i)*i)"
   ]
  },
  {
   "cell_type": "code",
   "execution_count": 41,
   "metadata": {},
   "outputs": [
    {
     "name": "stdout",
     "output_type": "stream",
     "text": [
      "* \n",
      "* * \n",
      "* * * \n",
      "* * * * \n",
      "* * * * * \n"
     ]
    }
   ],
   "source": [
    "#12.4\n",
    "for i in range(0,5):\n",
    "    for j in range(i+1):\n",
    "        print(\"*\",end=\" \")\n",
    "    print()"
   ]
  }
 ],
 "metadata": {
  "kernelspec": {
   "display_name": "Python 3",
   "language": "python",
   "name": "python3"
  },
  "language_info": {
   "codemirror_mode": {
    "name": "ipython",
    "version": 3
   },
   "file_extension": ".py",
   "mimetype": "text/x-python",
   "name": "python",
   "nbconvert_exporter": "python",
   "pygments_lexer": "ipython3",
   "version": "3.8.3"
  }
 },
 "nbformat": 4,
 "nbformat_minor": 4
}
