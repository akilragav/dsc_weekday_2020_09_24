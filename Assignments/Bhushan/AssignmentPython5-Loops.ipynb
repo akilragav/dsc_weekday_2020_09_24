{
 "cells": [
  {
   "cell_type": "code",
   "execution_count": 27,
   "metadata": {
    "scrolled": true
   },
   "outputs": [
    {
     "name": "stdout",
     "output_type": "stream",
     "text": [
      "Enter any natural number: 61\n",
      "0 1 2 3 4 5 6 7 8 9 10 11 12 13 14 15 16 17 18 19 20 21 22 23 24 25 26 27 28 29 30 31 32 33 34 35 36 37 38 39 40 41 42 43 44 45 46 47 48 49 50 51 52 53 54 55 56 57 58 59 60 61 "
     ]
    }
   ],
   "source": [
    "#1\n",
    "n=int(input(\"Enter any natural number: \"))\n",
    "for i in range(0,n+1):\n",
    "    print(i,end=\" \")"
   ]
  },
  {
   "cell_type": "code",
   "execution_count": 28,
   "metadata": {},
   "outputs": [
    {
     "name": "stdout",
     "output_type": "stream",
     "text": [
      "Enter any natural number: 5\n",
      "15\n"
     ]
    }
   ],
   "source": [
    "#2\n",
    "n=int(input(\"Enter any natural number: \"))\n",
    "sum=0\n",
    "for i in range(0,n+1):\n",
    "    sum+=i\n",
    "print(sum)"
   ]
  },
  {
   "cell_type": "code",
   "execution_count": 29,
   "metadata": {
    "scrolled": true
   },
   "outputs": [
    {
     "name": "stdout",
     "output_type": "stream",
     "text": [
      "Enter any natural number: 7\n",
      "7 6 5 4 3 2 1 0 "
     ]
    }
   ],
   "source": [
    "#3\n",
    "n=int(input(\"Enter any natural number: \"))\n",
    "m=n\n",
    "while m>=0:\n",
    "    print(m, end=\" \")\n",
    "    m-=1"
   ]
  },
  {
   "cell_type": "code",
   "execution_count": 30,
   "metadata": {
    "scrolled": false
   },
   "outputs": [
    {
     "name": "stdout",
     "output_type": "stream",
     "text": [
      "Enter any natural number: 7\n",
      "5040\n"
     ]
    }
   ],
   "source": [
    "#4\n",
    "def fact(n):\n",
    "    factorial=1\n",
    "    for i in range(1,n+1):\n",
    "        factorial=factorial*i\n",
    "    return factorial\n",
    "n=int(input(\"Enter any natural number: \"))\n",
    "print(fact(n))"
   ]
  },
  {
   "cell_type": "code",
   "execution_count": 31,
   "metadata": {
    "scrolled": false
   },
   "outputs": [
    {
     "name": "stdout",
     "output_type": "stream",
     "text": [
      "0\n",
      "1\n",
      "1\n",
      "2\n",
      "3\n",
      "5\n",
      "8\n"
     ]
    }
   ],
   "source": [
    "#5\n",
    "def fibonacci(n):\n",
    "    a=0\n",
    "    b=1\n",
    "    while a<=n:\n",
    "        print(a)\n",
    "        a,b=b,a+b\n",
    "fibonacci(10)      "
   ]
  },
  {
   "cell_type": "code",
   "execution_count": 35,
   "metadata": {},
   "outputs": [
    {
     "name": "stdout",
     "output_type": "stream",
     "text": [
      "Enter a numeric value: 5479846\n",
      "5 4 7 9 8 4 6 "
     ]
    }
   ],
   "source": [
    "#6\n",
    "n=input(\"Enter a numeric value: \")\n",
    "for i in n:\n",
    "    print(i,end=\" \")"
   ]
  },
  {
   "cell_type": "code",
   "execution_count": 38,
   "metadata": {
    "scrolled": false
   },
   "outputs": [
    {
     "name": "stdout",
     "output_type": "stream",
     "text": [
      "Enter a numeric value: 152\n",
      "8\n"
     ]
    }
   ],
   "source": [
    "#7\n",
    "n=input(\"Enter a numeric value: \")\n",
    "sum=0\n",
    "for i in n:\n",
    "    sum+=int(i)\n",
    "print(sum)"
   ]
  },
  {
   "cell_type": "code",
   "execution_count": 54,
   "metadata": {
    "scrolled": true
   },
   "outputs": [
    {
     "name": "stdout",
     "output_type": "stream",
     "text": [
      "Enter a numeric value: 5\n",
      "153\n"
     ]
    }
   ],
   "source": [
    "#8\n",
    "def sum_factorial(n):\n",
    "    fact=1\n",
    "    sum=0\n",
    "    for i in range(1,n+1):\n",
    "        fact=fact*i\n",
    "        sum=sum+fact\n",
    "    return sum\n",
    "n=int(input(\"Enter a numeric value: \"))\n",
    "print(sum_factorial(n))"
   ]
  },
  {
   "cell_type": "code",
   "execution_count": 59,
   "metadata": {
    "scrolled": true
   },
   "outputs": [
    {
     "name": "stdout",
     "output_type": "stream",
     "text": [
      "Enter the base: 5\n",
      "Enter the exponent: 5\n",
      "125\n"
     ]
    }
   ],
   "source": [
    "#9\n",
    "a=int(input(\"Enter the base: \"))\n",
    "b=int(input(\"Enter the exponent: \"))\n",
    "res=0\n",
    "for i in range(1,b+1):\n",
    "    res=res+a*a\n",
    "print(res)"
   ]
  },
  {
   "cell_type": "code",
   "execution_count": 66,
   "metadata": {},
   "outputs": [
    {
     "name": "stdout",
     "output_type": "stream",
     "text": [
      "* \n",
      "\n",
      "* * \n",
      "\n",
      "* * * \n",
      "\n",
      "* * * * \n",
      "\n",
      "* * * * * \n",
      "\n"
     ]
    }
   ],
   "source": [
    "#10\n",
    "for i in range(1,6):\n",
    "    for j in range(0,i):\n",
    "        print(\"*\",end=\" \")\n",
    "    print(\"\\n\")"
   ]
  },
  {
   "cell_type": "code",
   "execution_count": 84,
   "metadata": {},
   "outputs": [
    {
     "name": "stdout",
     "output_type": "stream",
     "text": [
      "* * * * * \n",
      "\n",
      "* * * * \n",
      "\n",
      "* * * \n",
      "\n",
      "* * \n",
      "\n",
      "* \n",
      "\n"
     ]
    }
   ],
   "source": [
    "#11\n",
    "for i in range(1,6):\n",
    "    for j in range(i,6):\n",
    "        print(\"*\",end=\" \")\n",
    "    print(\"\\n\")"
   ]
  },
  {
   "cell_type": "code",
   "execution_count": 87,
   "metadata": {},
   "outputs": [
    {
     "name": "stdout",
     "output_type": "stream",
     "text": [
      "        * \n",
      "\n",
      "      * * \n",
      "\n",
      "    * * * \n",
      "\n",
      "  * * * * \n",
      "\n",
      "* * * * * \n",
      "\n"
     ]
    }
   ],
   "source": [
    "#12\n",
    "for i in range(0,5):\n",
    "    for j in range(0,5):\n",
    "        if (i+j)>=4:\n",
    "            print(\"*\",end=\" \")\n",
    "        else:\n",
    "            print(\" \",end=\" \")\n",
    "    print(\"\\n\")"
   ]
  },
  {
   "cell_type": "code",
   "execution_count": 92,
   "metadata": {},
   "outputs": [
    {
     "name": "stdout",
     "output_type": "stream",
     "text": [
      "Enter the number of rows: 5\n",
      "    * \n",
      "   * * \n",
      "  * * * \n",
      " * * * * \n",
      "* * * * * \n"
     ]
    }
   ],
   "source": [
    "#13\n",
    "n=int(input(\"Enter the number of rows: \"))\n",
    "s=n-1\n",
    "c=1\n",
    "for i in range(0,n):\n",
    "    for j in range(0,s):\n",
    "        print(\" \",end=\"\")\n",
    "    for k in range(0,c):\n",
    "        print(\"*\",end=\" \")\n",
    "    s=s-1\n",
    "    c=c+1\n",
    "    print()"
   ]
  },
  {
   "cell_type": "code",
   "execution_count": 3,
   "metadata": {},
   "outputs": [
    {
     "name": "stdout",
     "output_type": "stream",
     "text": [
      "1 \n",
      "\n",
      "2 2 \n",
      "\n",
      "3 3 3 \n",
      "\n",
      "4 4 4 4 \n",
      "\n",
      "5 5 5 5 5 \n",
      "\n"
     ]
    }
   ],
   "source": [
    "#14\n",
    "for i in range(1,6):\n",
    "    for j in range(0,i):\n",
    "        print(i,end=\" \")\n",
    "    print(\"\\n\")"
   ]
  },
  {
   "cell_type": "code",
   "execution_count": 5,
   "metadata": {},
   "outputs": [
    {
     "name": "stdout",
     "output_type": "stream",
     "text": [
      "1 \n",
      "\n",
      "1 2 \n",
      "\n",
      "1 2 3 \n",
      "\n",
      "1 2 3 4 \n",
      "\n",
      "1 2 3 4 5 \n",
      "\n"
     ]
    }
   ],
   "source": [
    "#15\n",
    "for i in range(1,6):\n",
    "    for j in range(1,i+1):\n",
    "        print(j,end=\" \")\n",
    "    print(\"\\n\")"
   ]
  },
  {
   "cell_type": "code",
   "execution_count": 13,
   "metadata": {},
   "outputs": [
    {
     "name": "stdout",
     "output_type": "stream",
     "text": [
      "5 \n",
      "\n",
      "4 4 \n",
      "\n",
      "3 3 3 \n",
      "\n",
      "2 2 2 2 \n",
      "\n",
      "1 1 1 1 1 \n",
      "\n"
     ]
    }
   ],
   "source": [
    "#16\n",
    "n=5\n",
    "for i in range(1,6):\n",
    "    for j in range(0,i):\n",
    "        print(n,end=\" \")\n",
    "    n-=1\n",
    "    print(\"\\n\")"
   ]
  },
  {
   "cell_type": "code",
   "execution_count": 20,
   "metadata": {},
   "outputs": [
    {
     "name": "stdout",
     "output_type": "stream",
     "text": [
      "        1 \n",
      "\n",
      "      2 2 \n",
      "\n",
      "    3 3 3 \n",
      "\n",
      "  4 4 4 4 \n",
      "\n",
      "5 5 5 5 5 \n",
      "\n"
     ]
    }
   ],
   "source": [
    "#17\n",
    "for i in range(0,5):\n",
    "    for j in range(0,5):\n",
    "        if (i+j)>=4:\n",
    "            print(i+1,end=\" \")\n",
    "        else:\n",
    "            print(\" \",end=\" \")\n",
    "    print(\"\\n\")"
   ]
  },
  {
   "cell_type": "code",
   "execution_count": 24,
   "metadata": {
    "scrolled": true
   },
   "outputs": [
    {
     "name": "stdout",
     "output_type": "stream",
     "text": [
      "A \n",
      "\n",
      "A B \n",
      "\n",
      "A B C \n",
      "\n",
      "A B C D \n",
      "\n",
      "A B C D E \n",
      "\n"
     ]
    }
   ],
   "source": [
    "#18\n",
    "for i in range(65,70):\n",
    "    for j in range(65,i+1):\n",
    "        print(chr(j),end=\" \")\n",
    "    print(\"\\n\")"
   ]
  },
  {
   "cell_type": "code",
   "execution_count": 25,
   "metadata": {},
   "outputs": [
    {
     "name": "stdout",
     "output_type": "stream",
     "text": [
      "A \n",
      "\n",
      "B B \n",
      "\n",
      "C C C \n",
      "\n",
      "D D D D \n",
      "\n",
      "E E E E E \n",
      "\n"
     ]
    }
   ],
   "source": [
    "#19\n",
    "for i in range(65,70):\n",
    "    for j in range(65,i+1):\n",
    "        print(chr(i),end=\" \")\n",
    "    print(\"\\n\")"
   ]
  },
  {
   "cell_type": "code",
   "execution_count": 88,
   "metadata": {},
   "outputs": [
    {
     "name": "stdout",
     "output_type": "stream",
     "text": [
      "        A \n",
      "      A B A \n",
      "    A B C B A \n",
      "  A B C D C B A \n",
      "A B C D E D C B A \n"
     ]
    }
   ],
   "source": [
    "#20\n",
    "ch2=65\n",
    "for i in range (0,5):\n",
    "    ch1=65\n",
    "    for j in range(0,5):\n",
    "        if (i+j)>=4:\n",
    "            print(chr(ch1),end=\" \")\n",
    "            ch1+=1\n",
    "        else:\n",
    "            print(\" \",end=\" \")\n",
    "    for k in range(i,0,-1):\n",
    "        print(chr(ch2+k-1),end=\" \")\n",
    "    print(\"\")"
   ]
  }
 ],
 "metadata": {
  "kernelspec": {
   "display_name": "Python 3",
   "language": "python",
   "name": "python3"
  },
  "language_info": {
   "codemirror_mode": {
    "name": "ipython",
    "version": 3
   },
   "file_extension": ".py",
   "mimetype": "text/x-python",
   "name": "python",
   "nbconvert_exporter": "python",
   "pygments_lexer": "ipython3",
   "version": "3.8.3"
  }
 },
 "nbformat": 4,
 "nbformat_minor": 4
}
