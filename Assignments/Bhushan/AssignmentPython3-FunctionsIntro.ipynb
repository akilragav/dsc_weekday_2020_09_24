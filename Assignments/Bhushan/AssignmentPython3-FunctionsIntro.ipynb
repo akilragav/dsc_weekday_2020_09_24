{
 "cells": [
  {
   "cell_type": "code",
   "execution_count": 5,
   "metadata": {},
   "outputs": [
    {
     "name": "stdout",
     "output_type": "stream",
     "text": [
      "Enter the Number for a: 10\n",
      "Enter the second for b: 20\n",
      "Before swapping the value of a is 10 and b is 20\n",
      "Before swapping the value of a is 20 and b is 10\n"
     ]
    }
   ],
   "source": [
    "#1. Swap 2 numbers.\n",
    "a=int(input(\"Enter the Number for a: \"))\n",
    "b=int(input(\"Enter the Number for b: \"))\n",
    "print(\"Before swapping the value of a is {0} and b is {1}\".format(a,b))\n",
    "a,b=b,a\n",
    "print(\"Before swapping the value of a is {0} and b is {1}\".format(a,b))"
   ]
  },
  {
   "cell_type": "code",
   "execution_count": 23,
   "metadata": {},
   "outputs": [
    {
     "name": "stdout",
     "output_type": "stream",
     "text": [
      "3.5\n"
     ]
    }
   ],
   "source": [
    "#2\n",
    "import random\n",
    "n=4\n",
    "sum=0\n",
    "res=0\n",
    "for i in range(n):\n",
    "    sum+=random.randint(0,10)\n",
    "    \n",
    "print(sum/4)"
   ]
  },
  {
   "cell_type": "code",
   "execution_count": 46,
   "metadata": {},
   "outputs": [
    {
     "name": "stdout",
     "output_type": "stream",
     "text": [
      "W\n"
     ]
    }
   ],
   "source": [
    "#3\n",
    "import random\n",
    "a=\"ABCDEFGHIJKLMNOPQRSTUVWXYZabcdefghijklmnopqrstuvwxyz\"\n",
    "b=list(a)\n",
    "i=random.randint(0,len(b))\n",
    "print(b[i])"
   ]
  },
  {
   "cell_type": "code",
   "execution_count": 48,
   "metadata": {
    "scrolled": true
   },
   "outputs": [
    {
     "name": "stdout",
     "output_type": "stream",
     "text": [
      "51000\n"
     ]
    }
   ],
   "source": [
    "#4\n",
    "simpleInterest=0\n",
    "def get_si(p,r,t):\n",
    "    simpleInterest= p*(1 + (r)*(t))\n",
    "    return simpleInterest\n",
    "print(get_si(1000,10,1))"
   ]
  },
  {
   "cell_type": "code",
   "execution_count": 58,
   "metadata": {},
   "outputs": [
    {
     "name": "stdout",
     "output_type": "stream",
     "text": [
      "11000\n",
      "12000\n"
     ]
    }
   ],
   "source": [
    "#5\n",
    "simpleInterest=0\n",
    "amount=0\n",
    "def get_si(p,r,t):\n",
    "    simpleInterest= p*(1 + (r)*(t))\n",
    "    return simpleInterest\n",
    "print(get_si(1000,10,1))\n",
    "def get_amount(p,r=10,t=1):\n",
    "     return p+get_si(p,r,t)\n",
    "\n",
    "print(get_amount(1000))"
   ]
  },
  {
   "cell_type": "code",
   "execution_count": 62,
   "metadata": {},
   "outputs": [
    {
     "name": "stdout",
     "output_type": "stream",
     "text": [
      "36000.0\n"
     ]
    }
   ],
   "source": [
    "#6\n",
    "compoundInterest=0\n",
    "def get_ci(p,r,t,n):\n",
    "    a=1+(r/n)\n",
    "    b=n*t\n",
    "    compoundInterest= p*pow(a,b)\n",
    "    return compoundInterest\n",
    "print(get_ci(1000,10,1,2))"
   ]
  },
  {
   "cell_type": "code",
   "execution_count": 2,
   "metadata": {},
   "outputs": [
    {
     "name": "stdout",
     "output_type": "stream",
     "text": [
      "{0, 2.0}\n"
     ]
    }
   ],
   "source": [
    "#7\n",
    "def get_q_r(a,b):\n",
    "    res={}\n",
    "    if a>b:\n",
    "        res={a/b,a%b}\n",
    "    else:\n",
    "        res={b/a,b/a}\n",
    "    return res\n",
    "print(get_q_r(20,10))\n",
    "    "
   ]
  },
  {
   "cell_type": "code",
   "execution_count": 3,
   "metadata": {
    "scrolled": false
   },
   "outputs": [
    {
     "name": "stdout",
     "output_type": "stream",
     "text": [
      "Enter the height of the right angles Triangle: 10\n",
      "Enter the base of the right angles Triangle: 10\n",
      "200\n"
     ]
    }
   ],
   "source": [
    "#8\n",
    "def hyp_rightAT(h,b):\n",
    "    return pow(h,2)+pow(b,2)\n",
    "h=int(input(\"Enter the height of the right angles Triangle: \"))\n",
    "b=int(input(\"Enter the base of the right angles Triangle: \"))\n",
    "print(hyp_rightAT(h,b))"
   ]
  },
  {
   "cell_type": "code",
   "execution_count": 5,
   "metadata": {},
   "outputs": [
    {
     "name": "stdout",
     "output_type": "stream",
     "text": [
      "Enter the time in seconds: 10000\n",
      "Output= 0.0 day 2.0 Hour 46.0 Minute 40.0 Seconds\n"
     ]
    }
   ],
   "source": [
    "#9\n",
    "time = float(input(\"Enter the time in seconds: \"))\n",
    "day = time // (24 * 3600)\n",
    "time = time % (24 * 3600)\n",
    "hour = time // 3600\n",
    "time %= 3600\n",
    "minutes = time // 60\n",
    "time %= 60\n",
    "seconds = time\n",
    "print(\"Output= {0} day {1} Hour {2} Minute {3} Seconds\".format(day, hour, minutes, seconds))"
   ]
  },
  {
   "cell_type": "code",
   "execution_count": 9,
   "metadata": {
    "scrolled": true
   },
   "outputs": [
    {
     "name": "stdout",
     "output_type": "stream",
     "text": [
      "3.8.3\n"
     ]
    }
   ],
   "source": [
    "#10\n",
    "import platform\n",
    "print(platform.python_version())"
   ]
  },
  {
   "cell_type": "code",
   "execution_count": 10,
   "metadata": {},
   "outputs": [
    {
     "name": "stdout",
     "output_type": "stream",
     "text": [
      "2 -2\n"
     ]
    }
   ],
   "source": [
    "#11\n",
    "x=2\n",
    "x*=3\n",
    "x=x%4\n",
    "y=-x\n",
    "print(x,y)"
   ]
  },
  {
   "cell_type": "code",
   "execution_count": 12,
   "metadata": {},
   "outputs": [
    {
     "name": "stdout",
     "output_type": "stream",
     "text": [
      "None\n"
     ]
    }
   ],
   "source": [
    "#12\n",
    "def funct():\n",
    "    pass\n",
    "print(funct())"
   ]
  }
 ],
 "metadata": {
  "kernelspec": {
   "display_name": "Python 3",
   "language": "python",
   "name": "python3"
  },
  "language_info": {
   "codemirror_mode": {
    "name": "ipython",
    "version": 3
   },
   "file_extension": ".py",
   "mimetype": "text/x-python",
   "name": "python",
   "nbconvert_exporter": "python",
   "pygments_lexer": "ipython3",
   "version": "3.8.3"
  }
 },
 "nbformat": 4,
 "nbformat_minor": 4
}
