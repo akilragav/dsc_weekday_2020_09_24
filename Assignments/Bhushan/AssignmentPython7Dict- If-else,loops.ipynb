{
 "cells": [
  {
   "cell_type": "code",
   "execution_count": 2,
   "metadata": {},
   "outputs": [
    {
     "name": "stdout",
     "output_type": "stream",
     "text": [
      "{1: -1, 2: -2, 3: -3, 4: -4}\n"
     ]
    }
   ],
   "source": [
    "#1\n",
    "dict1={}\n",
    "for i in range(1,5):\n",
    "    dict1[i]=-i\n",
    "print(dict1)"
   ]
  },
  {
   "cell_type": "code",
   "execution_count": 3,
   "metadata": {},
   "outputs": [
    {
     "name": "stdout",
     "output_type": "stream",
     "text": [
      "{'A': 65, 'B': 66, 'C': 67, 'D': 68, 'E': 69, 'F': 70, 'G': 71, 'H': 72, 'I': 73, 'J': 74, 'K': 75, 'L': 76, 'M': 77, 'N': 78, 'O': 79, 'P': 80, 'Q': 81, 'R': 82, 'S': 83, 'T': 84, 'U': 85, 'V': 86, 'W': 87, 'X': 88, 'Y': 89, 'Z': 90}\n"
     ]
    }
   ],
   "source": [
    "#4\n",
    "dict1={}\n",
    "for i in range(65,91):\n",
    "    dict1[chr(i)]=i\n",
    "print(dict1)"
   ]
  },
  {
   "cell_type": "code",
   "execution_count": 11,
   "metadata": {
    "scrolled": true
   },
   "outputs": [
    {
     "name": "stdout",
     "output_type": "stream",
     "text": [
      "Enter a Number between 0-9: 5\n",
      "five\n",
      "\n",
      "dict_keys([0, 1, 2, 3, 4, 5, 6, 7, 8, 9])\n",
      "\n",
      "dict_values(['zero', 'one', 'two', 'three', 'four', 'five', 'six', 'seven', 'eight', 'nine'])\n"
     ]
    }
   ],
   "source": [
    "#5\n",
    "dict1={0:'zero',1:'one',2:'two',3:'three',4:'four',5:'five',6:'six',7:'seven',8:'eight',9:'nine'}\n",
    "n=int(input(\"Enter a Number between 0-9: \"))\n",
    "print(dict1[n])\n",
    "print()\n",
    "print(dict1.keys())\n",
    "print()\n",
    "print(dict1.values())"
   ]
  },
  {
   "cell_type": "code",
   "execution_count": 22,
   "metadata": {},
   "outputs": [
    {
     "name": "stdout",
     "output_type": "stream",
     "text": [
      "Enter a string: Bhushan\n",
      "{'B': 1, 'h': 2, 'u': 1, 's': 1, 'a': 1, 'n': 1}\n"
     ]
    }
   ],
   "source": [
    "#8\n",
    "string1 = input(\"Enter a string: \")\n",
    "list1 = []\n",
    "dict1={}\n",
    "for i in string1:\n",
    "    list1.append(i)\n",
    "for j in list1:\n",
    "        count=list1.count(j)\n",
    "        dict1[j]=count\n",
    "print(dict1)"
   ]
  },
  {
   "cell_type": "code",
   "execution_count": 24,
   "metadata": {},
   "outputs": [
    {
     "name": "stdout",
     "output_type": "stream",
     "text": [
      "Enter a string: aaaaaeeeeiiioou\n",
      "{'a': 5, 'e': 4, 'i': 3, 'o': 2, 'u': 1}\n"
     ]
    }
   ],
   "source": [
    "#7\n",
    "string1 = input(\"Enter a string: \")\n",
    "list1 = []\n",
    "list2=['a','e','i','o','u','A','E','I','O','U']\n",
    "dict1={}\n",
    "for i in string1:\n",
    "    list1.append(i)\n",
    "for j in list1:\n",
    "    if j in list2:\n",
    "        count=list1.count(j)\n",
    "        dict1[j]=count\n",
    "print(dict1)"
   ]
  },
  {
   "cell_type": "code",
   "execution_count": 30,
   "metadata": {},
   "outputs": [
    {
     "name": "stdout",
     "output_type": "stream",
     "text": [
      "Enter a string: Bhushan Pujar pujar\n",
      "{'Bhushan': 1, 'Pujar': 1, 'pujar': 1}\n"
     ]
    }
   ],
   "source": [
    "#8\n",
    "string1 = input(\"Enter a string: \").split(\" \")\n",
    "list1=list(string1)\n",
    "dict1={}\n",
    "for i in list1:\n",
    "    count1=list1.count(i)\n",
    "    if i not in dict1:\n",
    "        dict1[i]=count1\n",
    "print(dict1)"
   ]
  },
  {
   "cell_type": "code",
   "execution_count": 13,
   "metadata": {},
   "outputs": [
    {
     "name": "stdout",
     "output_type": "stream",
     "text": [
      "(1, 10)\n",
      "(2, 20)\n",
      "(3, 30)\n",
      "(4, 40)\n"
     ]
    }
   ],
   "source": [
    "#3\n",
    "l1=[1,2,3,4]\n",
    "l2=[10,20,30,40]\n",
    "d1={}\n",
    "d1=zip(l1,l2)\n",
    "for i in (d1):\n",
    "    print(i)"
   ]
  },
  {
   "cell_type": "code",
   "execution_count": 9,
   "metadata": {
    "scrolled": true
   },
   "outputs": [
    {
     "ename": "NameError",
     "evalue": "name 'd' is not defined",
     "output_type": "error",
     "traceback": [
      "\u001b[1;31m---------------------------------------------------------------------------\u001b[0m",
      "\u001b[1;31mNameError\u001b[0m                                 Traceback (most recent call last)",
      "\u001b[1;32m<ipython-input-9-56e3c5a84098>\u001b[0m in \u001b[0;36m<module>\u001b[1;34m\u001b[0m\n\u001b[0;32m      1\u001b[0m \u001b[1;31m#d={1=2,2=3}\u001b[0m\u001b[1;33m\u001b[0m\u001b[1;33m\u001b[0m\u001b[1;33m\u001b[0m\u001b[0m\n\u001b[1;32m----> 2\u001b[1;33m \u001b[0mprint\u001b[0m\u001b[1;33m(\u001b[0m\u001b[0md\u001b[0m\u001b[1;33m)\u001b[0m\u001b[1;33m\u001b[0m\u001b[1;33m\u001b[0m\u001b[0m\n\u001b[0m\u001b[0;32m      3\u001b[0m \u001b[0mprint\u001b[0m\u001b[1;33m(\u001b[0m\u001b[1;33m)\u001b[0m\u001b[1;33m\u001b[0m\u001b[1;33m\u001b[0m\u001b[0m\n\u001b[0;32m      4\u001b[0m \u001b[1;31m#d={1:2,2:3}\u001b[0m\u001b[1;33m\u001b[0m\u001b[1;33m\u001b[0m\u001b[1;33m\u001b[0m\u001b[0m\n\u001b[0;32m      5\u001b[0m \u001b[0mprint\u001b[0m\u001b[1;33m(\u001b[0m\u001b[0md\u001b[0m\u001b[1;33m)\u001b[0m\u001b[1;33m\u001b[0m\u001b[1;33m\u001b[0m\u001b[0m\n",
      "\u001b[1;31mNameError\u001b[0m: name 'd' is not defined"
     ]
    }
   ],
   "source": [
    "#d={1=2,2=3}\n",
    "print(d)\n",
    "print()\n",
    "#d={1:2,2:3}\n",
    "print(d)\n",
    "print()\n",
    "#d={1,2;2,3}\n",
    "print(d)\n",
    "print()\n",
    "#d={(1,2),(2,3)}\n",
    "print(d)\n",
    "print()\n",
    "d={'a':'A','b':1,c:[1234]}\n",
    "print(d)\n",
    "print()\n",
    "#d={'a':'A','b':1,'c':[1234]}\n",
    "print(d)\n",
    "print()\n",
    "#d=dict([(1,2),(2,3)])\n",
    "print(d)\n",
    "print()\n",
    "#d=dict(((1,2),(2,3)))\n",
    "print(d)\n",
    "print()\n",
    "#d=dict(((1,2),(2,3)])\n",
    "print(d)\n",
    "print()\n",
    "d=dict(x=2,y=3)\n",
    "print(d)\n",
    "print()\n",
    "#d=dict('x'=2,'y'=3)\n",
    "print(d)\n",
    "print()\n",
    "#d=dict(1=2,2=3)\n",
    "print(d)"
   ]
  }
 ],
 "metadata": {
  "kernelspec": {
   "display_name": "Python 3",
   "language": "python",
   "name": "python3"
  },
  "language_info": {
   "codemirror_mode": {
    "name": "ipython",
    "version": 3
   },
   "file_extension": ".py",
   "mimetype": "text/x-python",
   "name": "python",
   "nbconvert_exporter": "python",
   "pygments_lexer": "ipython3",
   "version": "3.8.3"
  }
 },
 "nbformat": 4,
 "nbformat_minor": 4
}
