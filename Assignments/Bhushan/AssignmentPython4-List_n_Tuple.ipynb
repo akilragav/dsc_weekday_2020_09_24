{
 "cells": [
  {
   "cell_type": "code",
   "execution_count": null,
   "metadata": {},
   "outputs": [],
   "source": [
    "#1\n",
    "t={1,2,3,4,5,\"abcd\"}\n",
    "list1=list(t)\n",
    "print(list1)"
   ]
  },
  {
   "cell_type": "code",
   "execution_count": null,
   "metadata": {},
   "outputs": [],
   "source": [
    "#2\n",
    "t={1,3,5,7}\n",
    "l=[8,6,4,2]\n",
    "ls=l+list(t)\n",
    "ls.sort()\n",
    "print(ls)"
   ]
  },
  {
   "cell_type": "code",
   "execution_count": null,
   "metadata": {},
   "outputs": [],
   "source": [
    "#3\n",
    "1. Mutable List-----Immutable Tuples\n",
    "2. Lists has variable length-----Tuple has fixed length.\n"
   ]
  },
  {
   "cell_type": "code",
   "execution_count": 30,
   "metadata": {},
   "outputs": [
    {
     "name": "stdout",
     "output_type": "stream",
     "text": [
      "['C', 'A', 'c', 'd', 'a']\n",
      "['C', 'A', 'c', 'd', 'a']\n"
     ]
    }
   ],
   "source": [
    "#4\n",
    "l1=['a','d','c','A','C']\n",
    "l1.reverse()\n",
    "print(l1)\n",
    "\n",
    "l3=['a','d','c','A','C']\n",
    "print(l3[::-1])"
   ]
  },
  {
   "cell_type": "code",
   "execution_count": null,
   "metadata": {
    "scrolled": true
   },
   "outputs": [],
   "source": [
    "#5\n",
    "list1=[10, 11, 20, 21, 30, 31, 40, 41]\n",
    "print(list1[1:len(list1):2])"
   ]
  },
  {
   "cell_type": "code",
   "execution_count": 10,
   "metadata": {},
   "outputs": [
    {
     "name": "stdout",
     "output_type": "stream",
     "text": [
      "[10, 11, 20, 21, 30, 31, 40, 41]\n",
      "[10, 11, 20, 21, 30, 31, 40, 41]\n",
      "[10, 11, 20, 21, 30, 31, 40, 41]\n",
      "[10, 11, 20, 21, 30, 31, 40, 41]\n",
      "[10, 11, 20, 21, 30, 31, 40, 41]\n",
      "[10, 11, 20, 21, 30, 31, 40, 41]\n"
     ]
    }
   ],
   "source": [
    "#6 \n",
    "list1=[10, 11, 20, 21, 30, 31, 40, 41]\n",
    "#1. Using slicing technique\n",
    "res1 = list1[:] \n",
    "print(res1)\n",
    "\n",
    "#2. extend() method\n",
    "res2=[]\n",
    "res2.extend(list1) \n",
    "print(res2)\n",
    "\n",
    "#3 Using the list() method\n",
    "res3=list(list1)\n",
    "print(res3)\n",
    "\n",
    "#4. Using list comprehension\n",
    "res4=[i for i in list1]\n",
    "print(res4)\n",
    "\n",
    "#5. Using the append() method\n",
    "res5=[]\n",
    "for i in list1:\n",
    "    res5.append(i)\n",
    "print(res5)\n",
    "\n",
    "#6. Using the copy() method\n",
    "res6=[]\n",
    "res6=list1.copy()\n",
    "print(res6)"
   ]
  },
  {
   "cell_type": "code",
   "execution_count": 11,
   "metadata": {
    "scrolled": true
   },
   "outputs": [
    {
     "name": "stdout",
     "output_type": "stream",
     "text": [
      "A\n",
      "5\n"
     ]
    }
   ],
   "source": [
    "#7 \n",
    "list1=[\"HAPPY\",[2,0,1,5]]\n",
    "print(list1[0][1])\n",
    "print(list1[1][3])"
   ]
  },
  {
   "cell_type": "code",
   "execution_count": 12,
   "metadata": {},
   "outputs": [
    {
     "name": "stdout",
     "output_type": "stream",
     "text": [
      "[1, 4, 6, 8]\n",
      "[1, 3, 5, 7]\n"
     ]
    }
   ],
   "source": [
    "#8\n",
    "odd=[2,4,6,8]\n",
    "odd[0]=1\n",
    "print(odd)\n",
    "odd[1:4]=[3,5,7]\n",
    "print(odd)"
   ]
  },
  {
   "cell_type": "code",
   "execution_count": 13,
   "metadata": {},
   "outputs": [
    {
     "name": "stdout",
     "output_type": "stream",
     "text": [
      "[1, 3, 5, [7, 9]]\n",
      "[1, 3, 5, [7, 9], 11, 13]\n"
     ]
    }
   ],
   "source": [
    "#9 \n",
    "odd=[1,3,5]\n",
    "odd.append([7,9])\n",
    "print(odd)\n",
    "odd.extend([11,13])\n",
    "print(odd)"
   ]
  },
  {
   "cell_type": "code",
   "execution_count": 15,
   "metadata": {},
   "outputs": [
    {
     "name": "stdout",
     "output_type": "stream",
     "text": [
      "<class 'tuple'>\n",
      "<class 'int'>\n",
      "<class 'list'>\n"
     ]
    }
   ],
   "source": [
    "#10\n",
    "x=1,2,3\n",
    "print(type(x))\n",
    "x=1\n",
    "print(type(x))\n",
    "x=[1]\n",
    "print(type(x))"
   ]
  },
  {
   "cell_type": "code",
   "execution_count": 23,
   "metadata": {},
   "outputs": [
    {
     "name": "stdout",
     "output_type": "stream",
     "text": [
      "1 2 3  \n",
      "4 5 6  \n",
      "7 8 9  \n"
     ]
    }
   ],
   "source": [
    "#11\n",
    "for num in range(1,10):\n",
    "    print(num, end=\" \")\n",
    "    if(num%3==0):\n",
    "        print(\" \")"
   ]
  },
  {
   "cell_type": "code",
   "execution_count": 25,
   "metadata": {},
   "outputs": [
    {
     "name": "stdout",
     "output_type": "stream",
     "text": [
      "('s', 't', 'r', 'i', 'n', 'g')\n",
      "('g', 'n', 'i', 'r', 't', 's')\n"
     ]
    }
   ],
   "source": [
    "#12\n",
    "t=tuple('string')\n",
    "print(t)\n",
    "print(t[::-1])"
   ]
  },
  {
   "cell_type": "code",
   "execution_count": 38,
   "metadata": {
    "scrolled": true
   },
   "outputs": [
    {
     "name": "stdout",
     "output_type": "stream",
     "text": [
      "True\n",
      "False\n",
      "2\n",
      "3\n"
     ]
    }
   ],
   "source": [
    "#13\n",
    "t=tuple([10,20,30,40,50,60,10])\n",
    "print(60 in t)\n",
    "print('60' in t)\n",
    "print(t.count(10))\n",
    "print(t.index(40))"
   ]
  },
  {
   "cell_type": "code",
   "execution_count": 5,
   "metadata": {},
   "outputs": [
    {
     "name": "stdout",
     "output_type": "stream",
     "text": [
      "Enter a string: Bhushan Pujar nahsuhB\n",
      "Not Palindrome\n"
     ]
    }
   ],
   "source": [
    "#14\n",
    "string1=input(\"Enter a string: \")\n",
    "if string1==string1[::-1]:\n",
    "    print(\"Palindrome\")\n",
    "else:\n",
    "    print(\"Not Palindrome\")"
   ]
  },
  {
   "cell_type": "code",
   "execution_count": 25,
   "metadata": {},
   "outputs": [
    {
     "name": "stdout",
     "output_type": "stream",
     "text": [
      "(20, 15, 10, 5)\n"
     ]
    }
   ],
   "source": [
    "#15\n",
    "t=()\n",
    "for i in range(5,21):\n",
    "    if i%5==0:\n",
    "       t=t+(i, )\n",
    "list1=list(t)\n",
    "t=tuple(list1[::-1])\n",
    "print(t)"
   ]
  },
  {
   "cell_type": "code",
   "execution_count": 29,
   "metadata": {},
   "outputs": [
    {
     "name": "stdout",
     "output_type": "stream",
     "text": [
      "Enter a string: advuad\n",
      "['a', 'd', 'v', 'u', 'a', 'd']\n"
     ]
    }
   ],
   "source": [
    "#16\n",
    "string1=input(\"Enter a string: \")\n",
    "list1=list(string1)\n",
    "print(list1)"
   ]
  },
  {
   "cell_type": "code",
   "execution_count": 33,
   "metadata": {},
   "outputs": [
    {
     "name": "stdout",
     "output_type": "stream",
     "text": [
      "<class 'list'>\n",
      "<class 'NoneType'>\n",
      "<class 'str'>\n",
      "<class 'bool'>\n"
     ]
    }
   ],
   "source": [
    "#17\n",
    "print(type('1,2'.split()))\n",
    "print(type([1,2,3].sort()))\n",
    "print(type('abc'.upper()))\n",
    "print(type(1 in [1,2]))"
   ]
  }
 ],
 "metadata": {
  "kernelspec": {
   "display_name": "Python 3",
   "language": "python",
   "name": "python3"
  },
  "language_info": {
   "codemirror_mode": {
    "name": "ipython",
    "version": 3
   },
   "file_extension": ".py",
   "mimetype": "text/x-python",
   "name": "python",
   "nbconvert_exporter": "python",
   "pygments_lexer": "ipython3",
   "version": "3.8.3"
  }
 },
 "nbformat": 4,
 "nbformat_minor": 4
}
