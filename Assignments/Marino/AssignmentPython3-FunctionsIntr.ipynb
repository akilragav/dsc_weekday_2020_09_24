{
 "cells": [
  {
   "cell_type": "code",
   "execution_count": 3,
   "metadata": {},
   "outputs": [
    {
     "name": "stdout",
     "output_type": "stream",
     "text": [
      "Enter the first string: hola\n",
      "Enter the string: chao\n",
      "chao hola\n"
     ]
    }
   ],
   "source": [
    "# 1\n",
    "a=input(\"Enter the first string: \").strip()\n",
    "b=input(\"Enter the string: \").strip()\n",
    "a,b=b,a\n",
    "print(\"{} {}\" .format(a,b))"
   ]
  },
  {
   "cell_type": "code",
   "execution_count": 63,
   "metadata": {},
   "outputs": [
    {
     "name": "stdout",
     "output_type": "stream",
     "text": [
      "The average is: 9.378766815989614\n"
     ]
    }
   ],
   "source": [
    "# 2\n",
    "import random\n",
    "av=0\n",
    "for i in range(4):\n",
    "    av+=random.uniform(0,26)\n",
    "print(\"The average is: {}\" .format(av/4))"
   ]
  },
  {
   "cell_type": "code",
   "execution_count": 104,
   "metadata": {},
   "outputs": [
    {
     "name": "stdout",
     "output_type": "stream",
     "text": [
      "['a', 'B', 'c', 'd', 'e', 'F', 'G', 'h', 'i', 'J', 'k', 'l', 'm', 'n', 'O', 'p', 'q', 'R', 'S', 'T', 'u', 'V', 'W', 'X', 'y', 'z']\n"
     ]
    }
   ],
   "source": [
    "# 3\n",
    "import random\n",
    "import string\n",
    "\n",
    "al=string.ascii_lowercase\n",
    "n_al=[]\n",
    "for i in range(len(al)):\n",
    "    if random.random()>0.5:\n",
    "        n_al.append(al[i].upper())\n",
    "    else:\n",
    "        n_al.append(al[i])\n",
    "print(n_al)\n",
    "        "
   ]
  },
  {
   "cell_type": "code",
   "execution_count": 107,
   "metadata": {},
   "outputs": [
    {
     "data": {
      "text/plain": [
       "'Your simple inteset is 140.0'"
      ]
     },
     "execution_count": 107,
     "metadata": {},
     "output_type": "execute_result"
    }
   ],
   "source": [
    "# 4\n",
    "def get_si(Principle,Rate,Time):\n",
    "    return(\"Your simple inteset is {}\" .format(Principle*(1+Rate*Time)))\n",
    "\n",
    "get_si(100,0.2,2)"
   ]
  },
  {
   "cell_type": "code",
   "execution_count": 110,
   "metadata": {},
   "outputs": [
    {
     "data": {
      "text/plain": [
       "'Your simple inteset is 200.0'"
      ]
     },
     "execution_count": 110,
     "metadata": {},
     "output_type": "execute_result"
    }
   ],
   "source": [
    "# 5\n",
    "def get_amount(Principle,Rate=0.1,Time=10):\n",
    "    return(\"Your simple inteset is {}\" .format(Principle*(1+Rate*Time)))\n",
    "\n",
    "get_amount(100)"
   ]
  },
  {
   "cell_type": "code",
   "execution_count": 111,
   "metadata": {},
   "outputs": [
    {
     "data": {
      "text/plain": [
       "'Your Compound inteset is 144.0'"
      ]
     },
     "execution_count": 111,
     "metadata": {},
     "output_type": "execute_result"
    }
   ],
   "source": [
    "# 6\n",
    "def get_ci(Principle,Rate,Time):\n",
    "    return(\"Your Compound inteset is {}\" .format( Principle*( (1+Rate)**Time )) )\n",
    "\n",
    "get_ci(100,0.2,2)"
   ]
  },
  {
   "cell_type": "code",
   "execution_count": 117,
   "metadata": {},
   "outputs": [
    {
     "data": {
      "text/plain": [
       "(3, 1)"
      ]
     },
     "execution_count": 117,
     "metadata": {},
     "output_type": "execute_result"
    }
   ],
   "source": [
    "# 7\n",
    "def get_q_r(a,b):\n",
    "    return divmod(a,b)\n",
    "\n",
    "get_q_r(10,3)"
   ]
  },
  {
   "cell_type": "code",
   "execution_count": 118,
   "metadata": {},
   "outputs": [
    {
     "data": {
      "text/plain": [
       "5.656854249492381"
      ]
     },
     "execution_count": 118,
     "metadata": {},
     "output_type": "execute_result"
    }
   ],
   "source": [
    "# 8\n",
    "def get_h(h,b):\n",
    "    return (h**2+b**2)**(1/2)\n",
    "\n",
    "get_h(4,4)"
   ]
  },
  {
   "cell_type": "code",
   "execution_count": 130,
   "metadata": {},
   "outputs": [
    {
     "data": {
      "text/plain": [
       "'1 day 2 hour 46 minute 40 second'"
      ]
     },
     "execution_count": 130,
     "metadata": {},
     "output_type": "execute_result"
    }
   ],
   "source": [
    "# 9\n",
    "\n",
    "def get_t(t):\n",
    "    m, s = divmod(t, 60)\n",
    "    h, m = divmod(m, 60)\n",
    "    d, _ = divmod(m, 24)\n",
    "    return(\"{} day {} hour {} minute {} second\" .format( d,h,m,s ))\n",
    "\n",
    "get_t(10000)\n",
    "\n"
   ]
  },
  {
   "cell_type": "code",
   "execution_count": 133,
   "metadata": {},
   "outputs": [
    {
     "name": "stdout",
     "output_type": "stream",
     "text": [
      "Python 3.7.4\r\n"
     ]
    }
   ],
   "source": [
    "# 10\n",
    "!python -V"
   ]
  },
  {
   "cell_type": "code",
   "execution_count": 139,
   "metadata": {},
   "outputs": [
    {
     "name": "stdout",
     "output_type": "stream",
     "text": [
      "2 -2\n"
     ]
    }
   ],
   "source": [
    "# 11\n",
    "X=2\n",
    "X*=3\n",
    "X=X%4\n",
    "Y=-X\n",
    "print(X,Y)"
   ]
  },
  {
   "cell_type": "code",
   "execution_count": 140,
   "metadata": {},
   "outputs": [
    {
     "name": "stdout",
     "output_type": "stream",
     "text": [
      "None\n"
     ]
    }
   ],
   "source": [
    "# 12\n",
    "def funct():\n",
    "    pass\n",
    "print(funct())"
   ]
  }
 ],
 "metadata": {
  "kernelspec": {
   "display_name": "Python 3",
   "language": "python",
   "name": "python3"
  },
  "language_info": {
   "codemirror_mode": {
    "name": "ipython",
    "version": 3
   },
   "file_extension": ".py",
   "mimetype": "text/x-python",
   "name": "python",
   "nbconvert_exporter": "python",
   "pygments_lexer": "ipython3",
   "version": "3.5.6"
  }
 },
 "nbformat": 4,
 "nbformat_minor": 4
}
