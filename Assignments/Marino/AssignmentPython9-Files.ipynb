{
 "cells": [
  {
   "cell_type": "code",
   "execution_count": 11,
   "metadata": {},
   "outputs": [],
   "source": [
    "#1\n",
    "import string\n",
    "alphabet = string.ascii_lowercase\n",
    "f1 = open('1.txt', 'w')\n",
    "for i in alphabet:\n",
    "    print('{}'.format(i),file=f1)\n",
    "f1.close()"
   ]
  },
  {
   "cell_type": "code",
   "execution_count": 16,
   "metadata": {},
   "outputs": [
    {
     "name": "stdout",
     "output_type": "stream",
     "text": [
      "\"\"\"Entry point for launching an IPython kernel.\n",
      "\n",
      "This is separate from the ipykernel package so we can avoid doing imports until\n",
      "after removing the cwd from sys.path.\n",
      "\"\"\"\n",
      "\n",
      "import sys\n",
      "\n",
      "if __name__ == '__main__':\n",
      "    # Remove the CWD from sys.path while we load stuff.\n",
      "    # This is added back by InteractiveShellApp.init_path()\n",
      "    if sys.path[0] == '':\n",
      "        del sys.path[0]\n",
      "\n",
      "    from ipykernel import kernelapp as app\n",
      "    app.launch_new_instance()\n",
      "\n"
     ]
    }
   ],
   "source": [
    "#2\n",
    "import sys\n",
    "f2 = sys.argv[0]\n",
    "\n",
    "f2  = open(f2, \"r\")\n",
    "print(f2.read())\n",
    "\n",
    "f2.close()"
   ]
  },
  {
   "cell_type": "code",
   "execution_count": 5,
   "metadata": {},
   "outputs": [
    {
     "name": "stdout",
     "output_type": "stream",
     "text": [
      "0\n",
      "line\n",
      "4\n"
     ]
    }
   ],
   "source": [
    "#3\n",
    "f = open('file','w')\n",
    "f.write('line with some madam characters madam')\n",
    "f.close()\n",
    "\n",
    "f = open('file', 'r')\n",
    "print(f.tell())\n",
    "print(f.read(4))\n",
    "print(f.tell())"
   ]
  },
  {
   "cell_type": "code",
   "execution_count": 19,
   "metadata": {},
   "outputs": [],
   "source": [
    "#4\n",
    "f1 = open('1.txt','r')\n",
    "f2 = open('2.txt','w')\n",
    "f2.write(f1.read())\n",
    "f1.close()\n",
    "f2.close()"
   ]
  },
  {
   "cell_type": "code",
   "execution_count": 20,
   "metadata": {},
   "outputs": [],
   "source": [
    "#5\n",
    "f1 = open('1.txt', 'r')\n",
    "f2 = open('3.txt', 'w')\n",
    "f2.write(f1.read().swapcase())\n",
    "f1.close()\n",
    "f2.close()"
   ]
  },
  {
   "cell_type": "code",
   "execution_count": 30,
   "metadata": {},
   "outputs": [
    {
     "name": "stdout",
     "output_type": "stream",
     "text": [
      "line with some characters \n",
      "Number of blank spaces: 5\n"
     ]
    }
   ],
   "source": [
    "#6\n",
    "import sys\n",
    "sys.argv.append('file')\n",
    "\n",
    "f=sys.argv[-1]\n",
    "f1=open(f,'r')\n",
    "t=f1.read()\n",
    "print(t)\n",
    "print(\"Number of blank spaces: {}\".format(len(t.split(' '))))\n"
   ]
  },
  {
   "cell_type": "code",
   "execution_count": 50,
   "metadata": {},
   "outputs": [
    {
     "name": "stdout",
     "output_type": "stream",
     "text": [
      " 0:2 \n",
      " 1:2 \n",
      " 2:1 \n",
      " 3:1 \n",
      " 8:2 \n",
      " 9:1 \n",
      " a:6 \n",
      " c:2 \n",
      " d:3 \n",
      " e:3 \n",
      " h:2 \n",
      " i:3 \n",
      " k:3 \n",
      " l:1 \n",
      " m:1 \n",
      " n:1 \n",
      " o:2 \n",
      " r:2 \n",
      " s:4 \n",
      " t:2 \n",
      " w:1 \n",
      " !:1 \n",
      " $:1 \n",
      " -:2 \n",
      " ;:1 \n",
      " ?:1 \n",
      " @:1 \n",
      " ^:2 \n",
      " }:2 \n",
      "  :4 \n"
     ]
    }
   ],
   "source": [
    "#7\n",
    "import sys,string\n",
    "\n",
    "\n",
    "sys.argv.append('file')\n",
    "f=sys.argv[-1]\n",
    "f1=open(f,'r')\n",
    "t=f1.read()\n",
    "\n",
    "val=list([0]*(len(string.printable)))\n",
    "d=dict(zip(string.printable,val))\n",
    "\n",
    "for ii in t.lower():\n",
    "    if ii in d:\n",
    "        d[ii]+=1\n",
    "for ii in string.printable:\n",
    "    if d[ii]>0:\n",
    "        print(\" {}:{} \" .format(ii,d[ii] ))"
   ]
  },
  {
   "cell_type": "code",
   "execution_count": 48,
   "metadata": {},
   "outputs": [
    {
     "name": "stdout",
     "output_type": "stream",
     "text": [
      "line with some characters- -012809381;asdkiKADASOKDa?}!@$^^}\n"
     ]
    }
   ],
   "source": [
    "#8 diff.py"
   ]
  },
  {
   "cell_type": "code",
   "execution_count": 2,
   "metadata": {},
   "outputs": [
    {
     "name": "stdout",
     "output_type": "stream",
     "text": [
      " characters:1 \n",
      " with:1 \n",
      " some:1 \n",
      " line:1 \n"
     ]
    }
   ],
   "source": [
    "#9 \n",
    "f1=open('file','r')\n",
    "s=f1.read()\n",
    "words= s.split(' ')\n",
    "val=list([0]*(len(words)))\n",
    "d=dict(zip(words,val))\n",
    "\n",
    "for ii in s.lower().split(' '):\n",
    "    if ii in d:\n",
    "        d[ii]+=1        \n",
    "for ii in d:\n",
    "    print(\" {}:{} \" .format(ii,d[ii] ))"
   ]
  },
  {
   "cell_type": "code",
   "execution_count": 7,
   "metadata": {},
   "outputs": [
    {
     "name": "stdout",
     "output_type": "stream",
     "text": [
      "line with some madam characters madam\n",
      "There are 2 palindromes \n"
     ]
    }
   ],
   "source": [
    "#10\n",
    "def is_palindrome(s):\n",
    "    for i in range(0, int(len(s)/2)): \n",
    "        if s[i] != s[len(s)-i-1]:\n",
    "            return False\n",
    "    return True\n",
    "\n",
    "f1=open('file','r')\n",
    "s=f1.read()\n",
    "words= s.split(' ')\n",
    "val=list([0]*(len(words)))\n",
    "d=dict(zip(words,val))\n",
    "count=0\n",
    "for ii in s.lower().split(' '):\n",
    "    if is_palindrome(ii):\n",
    "        count+=1\n",
    "print(s)\n",
    "print(\"There are {} palindromes \" .format(count))"
   ]
  },
  {
   "cell_type": "code",
   "execution_count": null,
   "metadata": {},
   "outputs": [],
   "source": []
  }
 ],
 "metadata": {
  "kernelspec": {
   "display_name": "Python 3",
   "language": "python",
   "name": "python3"
  },
  "language_info": {
   "codemirror_mode": {
    "name": "ipython",
    "version": 3
   },
   "file_extension": ".py",
   "mimetype": "text/x-python",
   "name": "python",
   "nbconvert_exporter": "python",
   "pygments_lexer": "ipython3",
   "version": "3.5.6"
  }
 },
 "nbformat": 4,
 "nbformat_minor": 4
}
