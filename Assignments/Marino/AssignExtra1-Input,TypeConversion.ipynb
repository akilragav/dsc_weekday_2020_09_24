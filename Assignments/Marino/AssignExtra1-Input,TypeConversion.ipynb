{
 "cells": [
  {
   "cell_type": "code",
   "execution_count": 98,
   "metadata": {},
   "outputs": [
    {
     "name": "stdout",
     "output_type": "stream",
     "text": [
      "Enter temperature in Fahrenheit 23\n",
      "The temperature in Celsius is -5.0 \n"
     ]
    }
   ],
   "source": [
    "# 1\n",
    "x=float(input(\"Enter temperature in Fahrenheit \").strip())\n",
    "print(\"The temperature in Celsius is {} \" .format((x-32)/1.8) )"
   ]
  },
  {
   "cell_type": "code",
   "execution_count": 99,
   "metadata": {},
   "outputs": [
    {
     "name": "stdout",
     "output_type": "stream",
     "text": [
      "Enter a number 20\n",
      "The square of 20.0 is 400.0, the cube of 20.0 is 8000.0\n"
     ]
    }
   ],
   "source": [
    "# 2\n",
    "x=float(input(\"Enter a number \").strip())\n",
    "print(\"The square of {} is {}, the cube of {} is {}\" .format(x,x**2,x,x**3))"
   ]
  },
  {
   "cell_type": "code",
   "execution_count": 100,
   "metadata": {},
   "outputs": [
    {
     "name": "stdout",
     "output_type": "stream",
     "text": [
      "Enter m 3\n",
      "Enter n 4\n",
      "25\n"
     ]
    }
   ],
   "source": [
    "# 3\n",
    "m=int(input(\"Enter m \").strip())\n",
    "n=int(input(\"Enter n \").strip())\n",
    "print(\"{}\" .format(n**2+m**2))"
   ]
  },
  {
   "cell_type": "code",
   "execution_count": 103,
   "metadata": {},
   "outputs": [
    {
     "name": "stdout",
     "output_type": "stream",
     "text": [
      "Enter m 3\n",
      "Enter n 6\n",
      "Using **= 729, Using pow()= 729\n"
     ]
    }
   ],
   "source": [
    "#\n",
    "m=int(input(\"Enter m \").strip())\n",
    "n=int(input(\"Enter n \").strip())\n",
    "print(\"Using **= {}, Using pow()= {}\" .format(m**n,pow(m,n)))"
   ]
  },
  {
   "cell_type": "code",
   "execution_count": 104,
   "metadata": {},
   "outputs": [
    {
     "name": "stdout",
     "output_type": "stream",
     "text": [
      "Enter Principal Amount 100\n",
      "Enter Rate of Interest 0.2\n",
      "Enter Time Period 2\n",
      "Your simple inteset is 140.0\n"
     ]
    }
   ],
   "source": [
    "# 5\n",
    "p=int(input(\"Enter Principal Amount \").strip())\n",
    "r=float(input(\"Enter Rate of Interest \").strip())\n",
    "t=int(input(\"Enter Time Period \").strip())\n",
    "print(\"Your simple inteset is {}\" .format(p*(1+r*t)))"
   ]
  },
  {
   "cell_type": "code",
   "execution_count": 105,
   "metadata": {},
   "outputs": [
    {
     "name": "stdout",
     "output_type": "stream",
     "text": [
      "Enter Principal Amount 100\n",
      "Enter Rate of Interest 0.2\n",
      "Enter Time Period 2\n",
      "Your Compound inteset is 144.0\n"
     ]
    }
   ],
   "source": [
    "# 6\n",
    "p=int(input(\"Enter Principal Amount \").strip())\n",
    "r=float(input(\"Enter Rate of Interest \").strip())\n",
    "t=int(input(\"Enter Time Period \").strip())\n",
    "print(\"Your Compound inteset is {}\" .format( p*( (1+r)**t )) )"
   ]
  },
  {
   "cell_type": "code",
   "execution_count": 106,
   "metadata": {},
   "outputs": [
    {
     "name": "stdout",
     "output_type": "stream",
     "text": [
      "Enter a number 100\n",
      "The sum of 100 natural numbers is 5050\n"
     ]
    }
   ],
   "source": [
    "# 7\n",
    "n=int(input(\"Enter a number \").strip())\n",
    "print(\"The sum of {} natural numbers is {}\" .format(n,int(n*(n+1)/2)))"
   ]
  },
  {
   "cell_type": "code",
   "execution_count": 107,
   "metadata": {},
   "outputs": [
    {
     "name": "stdout",
     "output_type": "stream",
     "text": [
      "Enter the first number x=5\n",
      "Enter the second number y=10\n",
      "Swapping with temp x=10 y=5 , Swapping in Python x=10 y=5\n"
     ]
    }
   ],
   "source": [
    "# 8\n",
    "x=int(input(\"Enter the first number x=\").strip())\n",
    "y=int(input(\"Enter the second number y=\").strip())\n",
    "x_2, y_2 = y ,x\n",
    "temp=x\n",
    "x=y\n",
    "y=temp\n",
    "print(\"Swapping with temp x={} y={} , Swapping in Python x={} y={}\" .format(x,y,x_2,y_2 ) )"
   ]
  },
  {
   "cell_type": "code",
   "execution_count": 108,
   "metadata": {},
   "outputs": [
    {
     "name": "stdout",
     "output_type": "stream",
     "text": [
      "The ascvt value of ' ' is 32\n"
     ]
    }
   ],
   "source": [
    "# 9\n",
    "x=\" \"\n",
    "print(\"The ascvt value of ' ' is {}\" .format(ord(x)))"
   ]
  },
  {
   "cell_type": "code",
   "execution_count": 109,
   "metadata": {},
   "outputs": [
    {
     "name": "stdout",
     "output_type": "stream",
     "text": [
      "Enter a single character: p\n",
      "The ascvt value of 'p' is 112\n"
     ]
    }
   ],
   "source": [
    "# 10\n",
    "x=str(input(\"Enter a single character: \").strip())\n",
    "print(\"The ascvt value of '{}' is {}\" .format(x,ord(x)))"
   ]
  },
  {
   "cell_type": "code",
   "execution_count": 110,
   "metadata": {},
   "outputs": [
    {
     "name": "stdout",
     "output_type": "stream",
     "text": [
      "Enter the area of the circle: 100\n",
      "Its radius is 5.642, its circumference is 35.449\n"
     ]
    }
   ],
   "source": [
    "# 11\n",
    "import math\n",
    "x=float(input(\"Enter the area of the circle: \").strip())\n",
    "print(\"Its radius is {:0.3f}, its circumference is {:0.3f}\".format( (x/math.pi)**(1/2), 2*(x/math.pi)**(1/2)*math.pi  ))"
   ]
  },
  {
   "cell_type": "code",
   "execution_count": 114,
   "metadata": {},
   "outputs": [
    {
     "name": "stdout",
     "output_type": "stream",
     "text": [
      "Enter marks from subeject 1= 80\n",
      "Enter marks from subeject 2= 99\n",
      "Enter marks from subeject 3= 50\n",
      "Enter marks from subeject 4= 78\n",
      "Enter marks from subeject 5= 88\n",
      "The hole porcentage is 79.0%\n"
     ]
    }
   ],
   "source": [
    "# 12\n",
    "x1=int(input(\"Enter marks from subeject 1= \").strip())\n",
    "x2=int(input(\"Enter marks from subeject 2= \").strip())\n",
    "x3=int(input(\"Enter marks from subeject 3= \").strip())\n",
    "x4=int(input(\"Enter marks from subeject 4= \").strip())\n",
    "x5=int(input(\"Enter marks from subeject 5= \").strip())\n",
    "print(\"The hole porcentage is {}%\".format( (x1+x2+x3+x4+x5)/5 ))"
   ]
  }
 ],
 "metadata": {
  "kernelspec": {
   "display_name": "Python 3",
   "language": "python",
   "name": "python3"
  },
  "language_info": {
   "codemirror_mode": {
    "name": "ipython",
    "version": 3
   },
   "file_extension": ".py",
   "mimetype": "text/x-python",
   "name": "python",
   "nbconvert_exporter": "python",
   "pygments_lexer": "ipython3",
   "version": "3.6.10"
  }
 },
 "nbformat": 4,
 "nbformat_minor": 4
}
