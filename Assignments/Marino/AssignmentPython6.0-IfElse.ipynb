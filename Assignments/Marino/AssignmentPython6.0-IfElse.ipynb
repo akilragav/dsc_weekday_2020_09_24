{
 "cells": [
  {
   "cell_type": "code",
   "execution_count": 6,
   "metadata": {},
   "outputs": [
    {
     "name": "stdout",
     "output_type": "stream",
     "text": [
      "Enter the first number: 9\n",
      "Enter the second number: 5\n",
      "False\n"
     ]
    }
   ],
   "source": [
    "# 1\n",
    "a=int(input(\"Enter the first number: \").strip())\n",
    "b=int(input(\"Enter the second number: \").strip())\n",
    "\n",
    "print(\"{}\" .format(bool( not(a%b))))"
   ]
  },
  {
   "cell_type": "code",
   "execution_count": 14,
   "metadata": {},
   "outputs": [
    {
     "name": "stdout",
     "output_type": "stream",
     "text": [
      "True\n",
      "True\n",
      "False\n"
     ]
    }
   ],
   "source": [
    "#2\n",
    "def is_palindrome(s):\n",
    " \n",
    "    # Run loop from 0 to len/2 \n",
    "    for i in range(0, int(len(s)/2)): \n",
    "        if s[i].upper() != s[len(s)-i-1].upper():\n",
    "            return False\n",
    "    return True\n",
    "\n",
    "\n",
    "print(is_palindrome('Madam'))\n",
    "print(is_palindrome('madam'))\n",
    "print(is_palindrome('hola'))"
   ]
  },
  {
   "cell_type": "code",
   "execution_count": 28,
   "metadata": {},
   "outputs": [
    {
     "name": "stdout",
     "output_type": "stream",
     "text": [
      "Enter the first side of the triangle: 10\n",
      "Enter the second side of the triangle: 5\n",
      "Enter the third side of the triangle: 5\n",
      "The triangle is isosceles\n"
     ]
    }
   ],
   "source": [
    "#3\n",
    "a=int(input(\"Enter the first side of the triangle: \").strip())\n",
    "b=int(input(\"Enter the second side of the triangle: \").strip())\n",
    "c=int(input(\"Enter the third side of the triangle: \").strip())\n",
    "\n",
    "if a==b and b==c:\n",
    "    print(\"The triangle is esquilateral\")\n",
    "elif (a==b and b!=c) or (c==b and a!=c) or (c==a & b!=c):\n",
    "    print(\"The triangle is isosceles\")\n",
    "else:\n",
    "    print(\"The triangle is scalene\")\n"
   ]
  },
  {
   "cell_type": "code",
   "execution_count": 31,
   "metadata": {},
   "outputs": [
    {
     "name": "stdout",
     "output_type": "stream",
     "text": [
      "Enter the number: 13\n",
      "The number is odd\n"
     ]
    }
   ],
   "source": [
    "#4\n",
    "a=int(input(\"Enter the number: \").strip())\n",
    "if not(a%2):\n",
    "    print(\"The number is even\")\n",
    "else:\n",
    "    print(\"The number is odd\")\n"
   ]
  },
  {
   "cell_type": "code",
   "execution_count": 34,
   "metadata": {},
   "outputs": [
    {
     "name": "stdout",
     "output_type": "stream",
     "text": [
      "Enter the age: 55\n",
      "Senior Citizen\n"
     ]
    }
   ],
   "source": [
    "#5\n",
    "a=int(input(\"Enter the age: \").strip())\n",
    "if (a<=12):\n",
    "    print(\"Child\")\n",
    "elif (a>12 and a<=17):\n",
    "    print(\"Teen\")\n",
    "elif (a>17 and a<=50):\n",
    "    print(\"Adult\")\n",
    "elif (a>50 and a<=100):\n",
    "    print(\"Senior Citizen\")\n",
    "elif (a>100 ):\n",
    "    print(\"Congratulations\")\n",
    "\n"
   ]
  },
  {
   "cell_type": "code",
   "execution_count": 42,
   "metadata": {},
   "outputs": [
    {
     "name": "stdout",
     "output_type": "stream",
     "text": [
      "Enter the number: 2000\n",
      "2000 is a leap year\n"
     ]
    }
   ],
   "source": [
    "#6\n",
    "year=int(input(\"Enter the number: \").strip())\n",
    "if len(str(year))==4 and year>0:\n",
    "    if (year % 4) == 0:\n",
    "        if (year % 100) == 0:\n",
    "            if (year % 400) == 0:\n",
    "                print(\"{0} is a leap year\".format(year))\n",
    "            else:\n",
    "                print(\"{0} is not a leap year\".format(year))\n",
    "        else:\n",
    "            print(\"{0} is a leap year\".format(year))\n",
    "    else:\n",
    "        print(\"{0} is not a leap year\".format(year))\n",
    "else:\n",
    "    print(\"Wrong input year\")"
   ]
  },
  {
   "cell_type": "code",
   "execution_count": 44,
   "metadata": {},
   "outputs": [
    {
     "name": "stdout",
     "output_type": "stream",
     "text": [
      "Enter string: mecagoenlaostia\n",
      "MECAGOENLAOSTIA\n"
     ]
    }
   ],
   "source": [
    "#7\n",
    "a=input(\"Enter string: \").strip()\n",
    "if not(len(str(a))%2):\n",
    "    print(\"{}\".format(a.lower()))\n",
    "else:\n",
    "    print(\"{}\".format(a.upper()))"
   ]
  },
  {
   "cell_type": "code",
   "execution_count": 50,
   "metadata": {},
   "outputs": [
    {
     "name": "stdout",
     "output_type": "stream",
     "text": [
      "Enter the name of the meal: tomatos, onions and eggs\n",
      "Non-Veg\n"
     ]
    }
   ],
   "source": [
    "#8\n",
    "a=input(\"Enter the name of the meal: \").strip()\n",
    "\n",
    "if not(\"egg\" in a):\n",
    "    print(\"Veg\")\n",
    "else:\n",
    "    print(\"Non-Veg\")"
   ]
  },
  {
   "cell_type": "code",
   "execution_count": null,
   "metadata": {},
   "outputs": [],
   "source": [
    "#9\n",
    "True      True\n",
    "'Weird !!' [4,3,2,1]"
   ]
  },
  {
   "cell_type": "code",
   "execution_count": 55,
   "metadata": {},
   "outputs": [
    {
     "name": "stdout",
     "output_type": "stream",
     "text": [
      "Firs subject's mark: 99\n",
      "Second subject's mark: 85\n",
      "Third subject's mark: 65\n",
      "Fourth subject's mark: 40\n",
      "Fifth subject's mark: 20\n",
      "Grade A\n",
      "Grade B\n",
      "Grade C\n",
      "Grade D\n",
      "Grade D\n"
     ]
    }
   ],
   "source": [
    "#10\n",
    "\n",
    "a=int(input(\"Firs subject's mark: \").strip())\n",
    "b=int(input(\"Second subject's mark: \").strip())\n",
    "c=int(input(\"Third subject's mark: \").strip())\n",
    "d=int(input(\"Fourth subject's mark: \").strip())\n",
    "e=int(input(\"Fifth subject's mark: \").strip())\n",
    "\n",
    "for mark in [a,b,c,d,e]:\n",
    "\n",
    "    if (mark>= 90):\n",
    "        print(\"Grade A\")\n",
    "    elif (mark>=80 and mark<89):\n",
    "        print(\"Grade B\")\n",
    "    elif (mark>=60 and mark<79):\n",
    "        print(\"Grade C\")\n",
    "    elif (mark<60):\n",
    "        print(\"Grade D\")\n",
    "\n",
    "\n"
   ]
  },
  {
   "cell_type": "code",
   "execution_count": 56,
   "metadata": {},
   "outputs": [
    {
     "name": "stdout",
     "output_type": "stream",
     "text": [
      "Enter your salary: 600000\n",
      "Enter your Age: 55\n",
      "You pay 10% tax\n"
     ]
    }
   ],
   "source": [
    "#11\n",
    "s=int(input(\"Enter your salary: \").strip())\n",
    "a=int(input(\"Enter your Age: \").strip())\n",
    "\n",
    "if s<=250000:\n",
    "    if a<60:\n",
    "        print(\"You pay 0% tax\")\n",
    "    else:\n",
    "        print(\"You pay 0% tax\")\n",
    "elif s>250000 and s<=500000:\n",
    "    if a<60:\n",
    "        print(\"You pay 5% tax\")\n",
    "    else:\n",
    "        print(\"You pay 3% tax\")\n",
    "elif s>500000 and s<1000000:\n",
    "    if a<60:\n",
    "        print(\"You pay 10% tax\")\n",
    "    else:\n",
    "        print(\"You pay 8% tax\")\n",
    "elif s>1000000:\n",
    "    if a<60:\n",
    "        print(\"You pay 15% tax\")\n",
    "    else:\n",
    "        print(\"You pay 12% tax\")"
   ]
  },
  {
   "cell_type": "code",
   "execution_count": 61,
   "metadata": {},
   "outputs": [
    {
     "name": "stdout",
     "output_type": "stream",
     "text": [
      "10\n",
      "10\n",
      "10\n",
      "OMG\n"
     ]
    }
   ],
   "source": [
    "#12\n",
    "print(20 if not 1==1 else 10)\n",
    "print(30 if not 1==1 else 20 if 'a' < 'A' else 10)\n",
    "print(40 if not 1==1 else 30 if 'a' < 'A' else 20 if '' else 10)\n",
    "print('no' if not 1==1 else ('No' if 'a' <'A' else('OMG' if 'oh!!' else 'No')) )"
   ]
  },
  {
   "cell_type": "code",
   "execution_count": 70,
   "metadata": {},
   "outputs": [
    {
     "name": "stdout",
     "output_type": "stream",
     "text": [
      "Input your height in meters: 1.8\n",
      "Input your weight in kilogram: 70\n",
      "Your BMI is: 21.605, You are Normal\n"
     ]
    }
   ],
   "source": [
    "#13\n",
    "def bmi():\n",
    "    height = float(input(\"Input your height in meters: \"))\n",
    "    weight = float(input(\"Input your weight in kilogram: \"))\n",
    "    return(round(weight / (height * height), 3))\n",
    "bm=bmi()\n",
    "\n",
    "if bm <=18.5:\n",
    "    print(\"Your BMI is: {}, You have Thinness\".format(bm))\n",
    "elif bm >18.5 and bm <=25:\n",
    "    print(\"Your BMI is: {}, You are Normal\".format(bm))\n",
    "else :\n",
    "    print(\"Your BMI is: {}, You are Overweight\".format(bm))"
   ]
  },
  {
   "cell_type": "code",
   "execution_count": 78,
   "metadata": {},
   "outputs": [
    {
     "name": "stdout",
     "output_type": "stream",
     "text": [
      "The age of the first person: 50\n",
      "The age of the second person: 80\n",
      "The age of the third person: 20\n",
      "The second person is the oldest and the third person is the youngest\n"
     ]
    }
   ],
   "source": [
    "#14\n",
    "a=int(input(\"The age of the first person: \").strip())\n",
    "b=int(input(\"The age of the second person: \").strip())\n",
    "c=int(input(\"The age of the third person: \").strip())\n",
    "\n",
    "\n",
    "if a>b>c:\n",
    "    print(\"The first person is the oldest and the third person is the youngest\")\n",
    "elif a>c>b:\n",
    "    print(\"The first person is the oldest and the second person is the youngest\")\n",
    "elif b>c>a :\n",
    "    print(\"The second person is the oldest and the first person is the youngest\")\n",
    "elif b>a>c :\n",
    "    print(\"The second person is the oldest and the third person is the youngest\")\n",
    "elif c>a>b :\n",
    "    print(\"The third person is the oldest and the second person is the youngest\")\n",
    "elif c>b>a :\n",
    "    print(\"The third person is the oldest and the first person is the youngest\")\n"
   ]
  },
  {
   "cell_type": "code",
   "execution_count": 81,
   "metadata": {},
   "outputs": [
    {
     "name": "stdout",
     "output_type": "stream",
     "text": [
      "Enter the first number: 35\n",
      "35 is divisible by 5 and 7\n"
     ]
    }
   ],
   "source": [
    "#15\n",
    "# 1\n",
    "a=int(input(\"Enter the first number: \").strip())\n",
    "if not(a%5) and not(a%7):\n",
    "    print(\"{} is divisible by 5 and 7\".format(a))\n",
    "else:\n",
    "    print(\"{} is not divisible by 5 and 7\".format(a))"
   ]
  }
 ],
 "metadata": {
  "kernelspec": {
   "display_name": "Python 3",
   "language": "python",
   "name": "python3"
  },
  "language_info": {
   "codemirror_mode": {
    "name": "ipython",
    "version": 3
   },
   "file_extension": ".py",
   "mimetype": "text/x-python",
   "name": "python",
   "nbconvert_exporter": "python",
   "pygments_lexer": "ipython3",
   "version": "3.5.6"
  }
 },
 "nbformat": 4,
 "nbformat_minor": 4
}
