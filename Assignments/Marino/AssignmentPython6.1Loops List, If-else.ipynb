{
 "cells": [
  {
   "cell_type": "code",
   "execution_count": 2,
   "metadata": {},
   "outputs": [
    {
     "name": "stdout",
     "output_type": "stream",
     "text": [
      "Enter the string: la concha de la lora\n",
      "l \n",
      "a \n",
      "  \n",
      "c \n",
      "o \n",
      "n \n",
      "c \n",
      "h \n",
      "a \n",
      "  \n",
      "d \n",
      "e \n",
      "  \n",
      "l \n",
      "a \n",
      "  \n",
      "l \n",
      "o \n",
      "r \n",
      "a \n"
     ]
    }
   ],
   "source": [
    "#1 \n",
    "a=(input(\"Enter the string: \").strip())\n",
    "\n",
    "for i in list(a):\n",
    "    print(\"{} \".format(i))"
   ]
  },
  {
   "cell_type": "code",
   "execution_count": 4,
   "metadata": {},
   "outputs": [
    {
     "name": "stdout",
     "output_type": "stream",
     "text": [
      "Enter the string: la concha de la lora\n",
      "108 \n",
      "97 \n",
      "32 \n",
      "99 \n",
      "111 \n",
      "110 \n",
      "99 \n",
      "104 \n",
      "97 \n",
      "32 \n",
      "100 \n",
      "101 \n",
      "32 \n",
      "108 \n",
      "97 \n",
      "32 \n",
      "108 \n",
      "111 \n",
      "114 \n",
      "97 \n"
     ]
    }
   ],
   "source": [
    "#2\n",
    "a=(input(\"Enter the string: \").strip())\n",
    "\n",
    "for i in list(a):\n",
    "    print(\"{} \".format(ord(i)))"
   ]
  },
  {
   "cell_type": "code",
   "execution_count": 31,
   "metadata": {},
   "outputs": [
    {
     "name": "stdout",
     "output_type": "stream",
     "text": [
      "How many numbers you want in the list?: 4\n",
      "Entrer the 1 number\n",
      "5\n",
      "Entrer the 2 number\n",
      "7\n",
      "Entrer the 3 number\n",
      "4\n",
      "Entrer the 4 number\n",
      "10\n",
      "The sum of the odd numbers is 12\n"
     ]
    }
   ],
   "source": [
    "#3\n",
    "n=int(input(\"How many numbers you want in the list?: \").strip())\n",
    "l=[]\n",
    "for i in range(n):\n",
    "    print(\"Entrer the {} number\".format(i+1))\n",
    "    nn=int(input().strip())\n",
    "    l.append(nn  )\n",
    "s=0\n",
    "for i in l:\n",
    "    if i%2:\n",
    "        s+=i\n",
    "\n",
    "print(\"The sum of the odd numbers is {}\".format(s))"
   ]
  },
  {
   "cell_type": "code",
   "execution_count": 43,
   "metadata": {},
   "outputs": [
    {
     "name": "stdout",
     "output_type": "stream",
     "text": [
      "How many numbers you want in the list?: 5\n",
      "Entrer the 1 number\n",
      "20\n",
      "Entrer the 2 number\n",
      "30\n",
      "Entrer the 3 number\n",
      "1\n",
      "Entrer the 4 number\n",
      "55\n",
      "Entrer the 5 number\n",
      "32\n",
      "Input a number to search: 55\n",
      "The element is in the position 4\n"
     ]
    }
   ],
   "source": [
    "#4\n",
    "n=int(input(\"How many numbers you want in the list?: \").strip())\n",
    "l=[]\n",
    "for i in range(n):\n",
    "    print(\"Entrer the {} number\".format(i+1))\n",
    "    nn=int(input().strip())\n",
    "    l.append(nn  )\n",
    "l=tuple(l)\n",
    "n=int(input(\"Input a number to search: \").strip())\n",
    "\n",
    "try:\n",
    "    a=l.index(n)\n",
    "    print(\"The element is in the position {}\".format(a+1))\n",
    "except:\n",
    "    print(\"The element is not in the tuple\")"
   ]
  },
  {
   "cell_type": "code",
   "execution_count": 65,
   "metadata": {},
   "outputs": [
    {
     "name": "stdout",
     "output_type": "stream",
     "text": [
      "The list is\n",
      "[0.5120914009342774, 0.5042492445859689, 0.6909767073529577, 0.6344799704780135, 0.39686045441646556, 0.9021389612208914, 0.43191464380883204, 0.818481811342667, 0.27471791328293993, 0.1774687748789887]\n",
      "\n",
      "Their sum is 5.343379882302002\n",
      "\n",
      "Their average is 0.5343379882302002\n",
      "Only elements in even position\n",
      " [0.5120914009342774, 0.6909767073529577, 0.39686045441646556, 0.43191464380883204, 0.27471791328293993]\n"
     ]
    }
   ],
   "source": [
    "#5\n",
    "import random\n",
    "n=[]\n",
    "s=0\n",
    "for i in range(10):\n",
    "    n.append(random.random())\n",
    "    s+=n[-1]\n",
    "print(\"The list is\\n{}\\n\\nTheir sum is {}\\n\\nTheir average is {}\\nOnly elements in even position\\n {}\".format(n,s,s/10,n[0::2]) )"
   ]
  },
  {
   "cell_type": "code",
   "execution_count": 66,
   "metadata": {},
   "outputs": [
    {
     "name": "stdout",
     "output_type": "stream",
     "text": [
      "Entrer the 1 number\n",
      "1\n",
      "Entrer the 2 number\n",
      "2\n",
      "Entrer the 3 number\n",
      "3\n",
      "Entrer the 4 number\n",
      "4\n",
      "Entrer the 5 number\n",
      "5\n",
      "Entrer the 6 number\n",
      "6\n",
      "Entrer the 7 number\n",
      "7\n",
      "Entrer the 8 number\n",
      "8\n",
      "Entrer the 9 number\n",
      "9\n",
      "Entrer the 10 number\n",
      "10\n",
      "The list is\n",
      "[1, 2, 3, 4, 5, 6, 7, 8, 9, 10]\n",
      "\n",
      "Their sum is 55\n"
     ]
    }
   ],
   "source": [
    "#6\n",
    "\n",
    "n=10\n",
    "l=[]\n",
    "s=0\n",
    "for i in range(n):\n",
    "    print(\"Entrer the {} number\".format(i+1))\n",
    "    nn=int(input().strip())\n",
    "    l.append(nn  )\n",
    "    s+=l[-1]\n",
    "\n",
    "\n",
    "print(\"The list is\\n{}\\n\\nTheir sum is {}\".format(l,s,s/10) )"
   ]
  },
  {
   "cell_type": "code",
   "execution_count": 70,
   "metadata": {},
   "outputs": [
    {
     "name": "stdout",
     "output_type": "stream",
     "text": [
      "Enter the  number: 7\n",
      "7 x 1 = 7\n",
      "7 x 2 = 14\n",
      "7 x 3 = 21\n",
      "7 x 4 = 28\n",
      "7 x 5 = 35\n",
      "7 x 6 = 42\n",
      "7 x 7 = 49\n",
      "7 x 8 = 56\n",
      "7 x 9 = 63\n",
      "7 x 10 = 70\n"
     ]
    }
   ],
   "source": [
    "#7\n",
    "a=int(input(\"Enter the  number: \").strip())\n",
    "for i in range(1,11):\n",
    "    print(\"{} x {} = {}\".format(a,i,a*i))\n"
   ]
  },
  {
   "cell_type": "code",
   "execution_count": 72,
   "metadata": {},
   "outputs": [
    {
     "name": "stdout",
     "output_type": "stream",
     "text": [
      "Enter the string: me cago en la ostia\n",
      "There are 4 blank spaces\n"
     ]
    }
   ],
   "source": [
    "#8\n",
    "a=(input(\"Enter the string: \").strip())\n",
    "c=0\n",
    "a=list(a)\n",
    "for i in range(len(a)):\n",
    "    if a[i]==\" \":\n",
    "        c+=1\n",
    "        \n",
    "print(\"There are {} blank spaces\".format(c))\n",
    "    "
   ]
  },
  {
   "cell_type": "code",
   "execution_count": 75,
   "metadata": {},
   "outputs": [
    {
     "name": "stdout",
     "output_type": "stream",
     "text": [
      "Enter the string: Me cagO en la Ostia\n",
      "There are 8 vowels\n"
     ]
    }
   ],
   "source": [
    "#9\n",
    "a=(input(\"Enter the string: \").strip())\n",
    "c=0\n",
    "a=list(a)\n",
    "for i in range(len(a)):\n",
    "    if a[i].lower()==\"a\" or a[i].lower()==\"e\" or a[i].lower()==\"i\" or a[i].lower()==\"o\" or a[i].lower()==\"u\":\n",
    "        c+=1\n",
    "        \n",
    "print(\"There are {} vowels\".format(c))"
   ]
  },
  {
   "cell_type": "code",
   "execution_count": 81,
   "metadata": {},
   "outputs": [
    {
     "name": "stdout",
     "output_type": "stream",
     "text": [
      "Enter the string: me cago en la ostua\n",
      "The new string is: m_ c_g_ _n l_ _st__\n"
     ]
    }
   ],
   "source": [
    "#10\n",
    "a=(input(\"Enter the string: \").strip())\n",
    "c=0\n",
    "a=list(a)\n",
    "s=\"\"\n",
    "for i in range(len(a)):\n",
    "    if a[i].lower()==\"a\" or a[i].lower()==\"e\" or a[i].lower()==\"i\" or a[i].lower()==\"o\" or a[i].lower()==\"u\":\n",
    "        a[i]='_'\n",
    "    s+=a[i]    \n",
    "print(\"The new string is: {}\".format(s))"
   ]
  },
  {
   "cell_type": "code",
   "execution_count": null,
   "metadata": {},
   "outputs": [],
   "source": [
    "#11\n",
    "0 1 2 3 4 Loop Ends               0 1 2 3 4"
   ]
  },
  {
   "cell_type": "code",
   "execution_count": 91,
   "metadata": {},
   "outputs": [
    {
     "name": "stdout",
     "output_type": "stream",
     "text": [
      "*****\n",
      "*****\n",
      "*****\n",
      "*****\n",
      "*****\n",
      "\n",
      "\n",
      "1\n",
      "22\n",
      "333\n",
      "4444\n",
      "55555\n",
      "122333444455555**\n",
      "***\n",
      "****\n",
      "*****\n",
      "******\n"
     ]
    }
   ],
   "source": [
    "#11\n",
    "for i1 in range(1,6):\n",
    "    for i2 in range(5):\n",
    "        print('*', end='')\n",
    "    print()\n",
    "print(\"\\n\")\n",
    "for i1 in range(1,6):\n",
    "    print(str(i1)*i1)\n",
    "\n",
    "for i1 in range(1,6):\n",
    "    for i2 in range(i1):\n",
    "        print(i1, end='')\n",
    "    print\n",
    "    \n",
    "for i1 in range(1,6):\n",
    "    for i2 in range(i1+1):\n",
    "        print('*', end='')\n",
    "    print()"
   ]
  }
 ],
 "metadata": {
  "kernelspec": {
   "display_name": "Python 3",
   "language": "python",
   "name": "python3"
  },
  "language_info": {
   "codemirror_mode": {
    "name": "ipython",
    "version": 3
   },
   "file_extension": ".py",
   "mimetype": "text/x-python",
   "name": "python",
   "nbconvert_exporter": "python",
   "pygments_lexer": "ipython3",
   "version": "3.5.6"
  }
 },
 "nbformat": 4,
 "nbformat_minor": 4
}
