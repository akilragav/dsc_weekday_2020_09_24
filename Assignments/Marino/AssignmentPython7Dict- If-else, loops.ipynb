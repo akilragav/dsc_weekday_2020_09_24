{
 "cells": [
  {
   "cell_type": "code",
   "execution_count": 8,
   "metadata": {},
   "outputs": [
    {
     "name": "stdout",
     "output_type": "stream",
     "text": [
      "{1: -1, 2: -2, 3: -3, 4: -4, 5: -5}\n",
      "{1: -1, 2: -2, 3: -3, 4: -4, 5: -5}\n"
     ]
    }
   ],
   "source": [
    "#1\n",
    "d1={1:-1,2:-2,3:-3,4:-4,5:-5}\n",
    "print(d1)\n",
    "d2={}\n",
    "for ii in range(5):\n",
    "    d2[ii+1]=-1*(ii+1)\n",
    "print(d2)"
   ]
  },
  {
   "cell_type": "code",
   "execution_count": 28,
   "metadata": {},
   "outputs": [
    {
     "name": "stdout",
     "output_type": "stream",
     "text": [
      "{'x': 2, 'y': 3}\n"
     ]
    }
   ],
   "source": [
    "#2\n",
    "\n",
    "#d = {1=2, 2=3}\n",
    "d = {1:2, 2:3} #works\n",
    "#d = {1,2; 2,3}\n",
    "d = {(1,2),(2,3)} #works\n",
    "#d = {'a':'A', 'b':'B',c:[1234]}\n",
    "d = {'a':'A', 'b':'B','c':[1234]} #works\n",
    "d = dict([(1,2),(2,3)]) #works\n",
    "d = dict(((1,2),(2,3)))  #works\n",
    "d = dict([(1,2),(2,3)])  #works\n",
    "d = dict(x=2,y=3)  #works\n",
    "#d = dict('x'=2,'y'=3)\n",
    "#d = dict(1=2, 2=3)\n",
    "print(d)"
   ]
  },
  {
   "cell_type": "code",
   "execution_count": 33,
   "metadata": {},
   "outputs": [
    {
     "name": "stdout",
     "output_type": "stream",
     "text": [
      "Help on class zip in module builtins:\n",
      "\n",
      "class zip(object)\n",
      " |  zip(iter1 [,iter2 [...]]) --> zip object\n",
      " |  \n",
      " |  Return a zip object whose .__next__() method returns a tuple where\n",
      " |  the i-th element comes from the i-th iterable argument.  The .__next__()\n",
      " |  method continues until the shortest iterable in the argument sequence\n",
      " |  is exhausted and then it raises StopIteration.\n",
      " |  \n",
      " |  Methods defined here:\n",
      " |  \n",
      " |  __getattribute__(self, name, /)\n",
      " |      Return getattr(self, name).\n",
      " |  \n",
      " |  __iter__(self, /)\n",
      " |      Implement iter(self).\n",
      " |  \n",
      " |  __new__(*args, **kwargs) from builtins.type\n",
      " |      Create and return a new object.  See help(type) for accurate signature.\n",
      " |  \n",
      " |  __next__(self, /)\n",
      " |      Implement next(self).\n",
      " |  \n",
      " |  __reduce__(...)\n",
      " |      Return state information for pickling.\n",
      "\n",
      "{1: 10, 2: 20, 3: 30, 4: 40}\n"
     ]
    }
   ],
   "source": [
    "#3\n",
    "help(zip)\n",
    "l1=[1,2,3,4]\n",
    "l2=[10,20,30,40]\n",
    "d=dict(zip(l1,l2))\n",
    "print(d)"
   ]
  },
  {
   "cell_type": "code",
   "execution_count": 73,
   "metadata": {},
   "outputs": [
    {
     "name": "stdout",
     "output_type": "stream",
     "text": [
      "{'R': 82, 'I': 73, 'F': 70, 'M': 77, 'Q': 81, 'Z': 90, 'L': 76, 'J': 74, 'D': 68, 'B': 66, 'P': 80, 'Y': 89, 'U': 85, 'T': 84, 'N': 78, 'O': 79, 'V': 86, 'C': 67, 'A': 65, 'E': 69, 'K': 75, 'W': 87, 'X': 88, 'H': 72, 'G': 71, 'S': 83}\n",
      "\n",
      "{'R': 82, 'I': 73, 'F': 70, 'M': 77, 'Q': 81, 'Z': 90, 'L': 76, 'J': 74, 'D': 68, 'B': 66, 'P': 80, 'Y': 89, 'U': 85, 'T': 84, 'N': 78, 'O': 79, 'V': 86, 'C': 67, 'A': 65, 'E': 69, 'K': 75, 'W': 87, 'X': 88, 'H': 72, 'G': 71, 'S': 83}\n"
     ]
    }
   ],
   "source": [
    "#4\n",
    "import string\n",
    "alphabet = string.ascii_lowercase.upper()\n",
    "ascii_val=[]\n",
    "d={}\n",
    "for ii in range(26):\n",
    "    ascii_val.append( ord((alphabet[ii])) )\n",
    "    d[alphabet[ii]]=(ord((alphabet[ii])))\n",
    "print(d)\n",
    "print()\n",
    "d=dict(zip(alphabet,ascii_val))\n",
    "print(d)"
   ]
  },
  {
   "cell_type": "code",
   "execution_count": 78,
   "metadata": {},
   "outputs": [
    {
     "name": "stdout",
     "output_type": "stream",
     "text": [
      "Enter a number: 9\n",
      "nine\n",
      "\n",
      "dict_keys([0, 1, 2, 3, 4, 5, 6, 7, 8, 9])\n",
      "dict_values(['zero', 'one', 'two', 'three', 'four', 'five', 'six', 'seven', 'eight', 'nine'])\n"
     ]
    }
   ],
   "source": [
    "#5\n",
    "d={0:'zero',1:'one',2:'two',3:'three',4:'four',5:'five',6:'six',7:'seven',8:'eight',9:'nine'}\n",
    "number=int(input(\"Enter a number: \"))\n",
    "print(d[number])\n",
    "\n",
    "print()\n",
    "print(d.keys())\n",
    "print(d.values())"
   ]
  },
  {
   "cell_type": "code",
   "execution_count": 79,
   "metadata": {},
   "outputs": [
    {
     "name": "stdout",
     "output_type": "stream",
     "text": [
      "{'A': 'Apple', 'C': 'Cat', 'D': 'Dog', 'B': 'Ball'}\n",
      "{'A': 'Apple', 'D': 'Dog'}\n"
     ]
    }
   ],
   "source": [
    "#6\n",
    "l1 = ['A', 'B', 'C', 'D']\n",
    "l2 = ['Apple', 'Ball', 'Cat', 'Dog']\n",
    "d1 = dict(zip(l1,l2))\n",
    "print(d1)\n",
    "d2 = dict(list(d1.items())[::2])\n",
    "print(d2)"
   ]
  },
  {
   "cell_type": "code",
   "execution_count": 111,
   "metadata": {},
   "outputs": [
    {
     "name": "stdout",
     "output_type": "stream",
     "text": [
      "Enter a string: Beautiful Day\n",
      " a:2\n",
      " e:1\n",
      " i:1\n",
      " o:0\n",
      " u:2\n"
     ]
    }
   ],
   "source": [
    "#7\n",
    "d={'a':0,'e':0,'i':0,'o':0,'u':0}\n",
    "s=input(\"Enter a string: \")\n",
    "for ii in s.lower():\n",
    "    if ii in d:\n",
    "        d[ii]+=1\n",
    "print(\" a:{}\\n e:{}\\n i:{}\\n o:{}\\n u:{}\" .format( d['a'], d['e'],d['i'],d['o'],d['u']))\n"
   ]
  },
  {
   "cell_type": "code",
   "execution_count": 108,
   "metadata": {},
   "outputs": [
    {
     "name": "stdout",
     "output_type": "stream",
     "text": [
      "Enter a string: Beautiful Day\n",
      " a:2 \n",
      " b:1 \n",
      " c:0 \n",
      " d:1 \n",
      " e:1 \n",
      " f:1 \n",
      " g:0 \n",
      " h:0 \n",
      " i:1 \n",
      " j:0 \n",
      " k:0 \n",
      " l:1 \n",
      " m:0 \n",
      " n:0 \n",
      " o:0 \n",
      " p:0 \n",
      " q:0 \n",
      " r:0 \n",
      " s:0 \n",
      " t:1 \n",
      " u:2 \n",
      " v:0 \n",
      " w:0 \n",
      " x:0 \n",
      " y:1 \n",
      " z:0 \n"
     ]
    }
   ],
   "source": [
    "#8\n",
    "import string\n",
    "alphabet = string.ascii_lowercase\n",
    "val=list([0]*(len(alphabet)))\n",
    "\n",
    "d=dict(zip(alphabet,val))\n",
    "s=input(\"Enter a string: \")\n",
    "for ii in s.lower():\n",
    "    if ii in d:\n",
    "        d[ii]+=1\n",
    "for ii in alphabet:\n",
    "    print(\" {}:{} \" .format(ii,d[ii] ))"
   ]
  },
  {
   "cell_type": "code",
   "execution_count": 118,
   "metadata": {},
   "outputs": [
    {
     "name": "stdout",
     "output_type": "stream",
     "text": [
      "Enter a string: count the words in the sentence in\n",
      " count:1 \n",
      " sentence:1 \n",
      " in:2 \n",
      " the:2 \n",
      " words:1 \n"
     ]
    }
   ],
   "source": [
    "s=input(\"Enter a string: \")\n",
    "words= s.split(' ')\n",
    "val=list([0]*(len(alphabet)))\n",
    "d=dict(zip(words,val))\n",
    "\n",
    "for ii in s.lower().split(' '):\n",
    "    if ii in d:\n",
    "        d[ii]+=1        \n",
    "for ii in d:\n",
    "    print(\" {}:{} \" .format(ii,d[ii] ))\n",
    "\n"
   ]
  }
 ],
 "metadata": {
  "kernelspec": {
   "display_name": "Python 3",
   "language": "python",
   "name": "python3"
  },
  "language_info": {
   "codemirror_mode": {
    "name": "ipython",
    "version": 3
   },
   "file_extension": ".py",
   "mimetype": "text/x-python",
   "name": "python",
   "nbconvert_exporter": "python",
   "pygments_lexer": "ipython3",
   "version": "3.5.6"
  }
 },
 "nbformat": 4,
 "nbformat_minor": 4
}
