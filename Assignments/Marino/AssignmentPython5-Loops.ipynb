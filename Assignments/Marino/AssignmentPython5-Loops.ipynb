{
 "cells": [
  {
   "cell_type": "code",
   "execution_count": 7,
   "metadata": {},
   "outputs": [
    {
     "name": "stdout",
     "output_type": "stream",
     "text": [
      "Input a number: 5\n",
      "1\n",
      "2\n",
      "3\n",
      "4\n",
      "5\n"
     ]
    }
   ],
   "source": [
    "#1\n",
    "x=int(input(\"Input a number: \").strip())\n",
    "for i in range(x):\n",
    "    print(\"{}\" .format(i+1))"
   ]
  },
  {
   "cell_type": "code",
   "execution_count": 9,
   "metadata": {},
   "outputs": [
    {
     "name": "stdout",
     "output_type": "stream",
     "text": [
      "Input a number: 100\n",
      "5050\n"
     ]
    }
   ],
   "source": [
    "#2\n",
    "x=int(input(\"Input a number: \").strip())\n",
    "s=0\n",
    "for i in range(x):\n",
    "    s+=i+1\n",
    "print(\"{}\" .format(s))\n"
   ]
  },
  {
   "cell_type": "code",
   "execution_count": 14,
   "metadata": {},
   "outputs": [
    {
     "name": "stdout",
     "output_type": "stream",
     "text": [
      "Input a number: 5\n",
      "5\n",
      "4\n",
      "3\n",
      "2\n",
      "1\n"
     ]
    }
   ],
   "source": [
    "#3\n",
    "x=int(input(\"Input a number: \").strip())\n",
    "for i in range(x+1,1,-1):\n",
    "    print(\"{}\" .format(i-1))"
   ]
  },
  {
   "cell_type": "code",
   "execution_count": 38,
   "metadata": {},
   "outputs": [
    {
     "name": "stdout",
     "output_type": "stream",
     "text": [
      "Input a number: 5\n",
      "120\n"
     ]
    }
   ],
   "source": [
    "#4\n",
    "x=int(input(\"Input a number: \").strip())\n",
    "s=1\n",
    "if x!=0:\n",
    "    for i in range(1,x+1):\n",
    "        s*=i\n",
    "print(\"{}\" .format(s))\n"
   ]
  },
  {
   "cell_type": "code",
   "execution_count": 59,
   "metadata": {},
   "outputs": [
    {
     "name": "stdout",
     "output_type": "stream",
     "text": [
      "Input a number: 5\n",
      "1\n",
      "1\n",
      "2\n",
      "3\n",
      "5\n"
     ]
    }
   ],
   "source": [
    "#5\n",
    "a=int(input(\"Input a number: \").strip())\n",
    "f=0                                        \n",
    "s=1\n",
    "if a<=0:\n",
    "    print(\"wrong input\")\n",
    "else:\n",
    "    print(\"{}\" .format(s)) \n",
    "    for x in range(2,a+1):\n",
    "        n=f+s                           \n",
    "        print(\"{}\" .format(n))\n",
    "        f=s\n",
    "        s=n\n"
   ]
  },
  {
   "cell_type": "code",
   "execution_count": 61,
   "metadata": {},
   "outputs": [
    {
     "name": "stdout",
     "output_type": "stream",
     "text": [
      "Input a number: 351232139\n",
      "3\n",
      "5\n",
      "1\n",
      "2\n",
      "3\n",
      "2\n",
      "1\n",
      "3\n",
      "9\n"
     ]
    }
   ],
   "source": [
    "#6\n",
    "x=input(\"Input a number: \").strip()\n",
    "for i in range(len(x)):\n",
    "    print(x[i])"
   ]
  },
  {
   "cell_type": "code",
   "execution_count": 65,
   "metadata": {},
   "outputs": [
    {
     "name": "stdout",
     "output_type": "stream",
     "text": [
      "Input a number: 123456789\n",
      "45\n"
     ]
    }
   ],
   "source": [
    "#7\n",
    "x=\n",
    "s=0\n",
    "for i in range(len(x)):\n",
    "    s+=int(x[i])\n",
    "print(s)"
   ]
  },
  {
   "cell_type": "code",
   "execution_count": 69,
   "metadata": {},
   "outputs": [
    {
     "name": "stdout",
     "output_type": "stream",
     "text": [
      "Input a number: 5\n",
      "153\n"
     ]
    }
   ],
   "source": [
    "#8\n",
    "f=0\n",
    "s=1\n",
    "m=int(input(\"Input a number: \").strip())\n",
    "for k in range (1,m+1):\n",
    "    s=1\n",
    "    for i in range (1,k+1):\n",
    "        s=i*s\n",
    "    f=f+s\n",
    "print(f)"
   ]
  },
  {
   "cell_type": "code",
   "execution_count": 72,
   "metadata": {},
   "outputs": [
    {
     "name": "stdout",
     "output_type": "stream",
     "text": [
      "Input base: 4\n",
      "Input exponent: 4\n",
      "256\n"
     ]
    }
   ],
   "source": [
    "#9\n",
    "\n",
    "a=int(input(\"Input base: \").strip())\n",
    "b=int(input(\"Input exponent: \").strip())\n",
    "\n",
    "s=1\n",
    "for i in range(b):\n",
    "    s*=a \n",
    "print(s)"
   ]
  },
  {
   "cell_type": "code",
   "execution_count": 37,
   "metadata": {},
   "outputs": [
    {
     "name": "stdout",
     "output_type": "stream",
     "text": [
      "* \r\n",
      "* * \r\n",
      "* * * \r\n",
      "* * * * \r\n",
      "* * * * * \r\n",
      "\n",
      "\n",
      "* * * * *  \n",
      "* * * *  \n",
      "* * *  \n",
      "* *  \n",
      "*  \n",
      " \n",
      "\n",
      "\n",
      "        * \n",
      "      * * \n",
      "    * * * \n",
      "  * * * * \n",
      "* * * * * \n",
      "\n",
      "\n",
      "      *   \n",
      "     *  *   \n",
      "    *  *  *   \n",
      "   *  *  *  *   \n"
     ]
    }
   ],
   "source": [
    "#10\n",
    "r = 5\n",
    "for i in range(0, r):\n",
    "    for j in range(0, i + 1):\n",
    "        print(\"*\", end=' ')\n",
    "\n",
    "    print(\"\\r\")\n",
    "\n",
    "print('\\n')\n",
    "r = 5\n",
    "for i in range(r + 1, 0, -1):\n",
    "    for j in range(0, i - 1):\n",
    "        print(\"*\", end=' ')\n",
    "    print(\" \")\n",
    "\n",
    "\n",
    "\n",
    "print('\\n')\n",
    "i = 5\n",
    "k = 2 * i - 2\n",
    "for i in range(0, i):\n",
    "    for j in range(0, k):\n",
    "        print(end=\" \")\n",
    "    k = k - 2\n",
    "    for j in range(0, i + 1):\n",
    "        print(\"* \", end=\"\")\n",
    "    print(\"\")\n",
    "    \n",
    "    \n",
    "        \n",
    "print('\\n')\n",
    "\n",
    "s = 4\n",
    "m = (2 * s) - 2\n",
    "for i in range(0, s):\n",
    "    for j in range(0, m):\n",
    "        print(end=\" \")\n",
    "    m = m - 1  \n",
    "    for j in range(0, i + 1):\n",
    "        print(\"* \", end=' ')\n",
    "    print(\" \")"
   ]
  },
  {
   "cell_type": "code",
   "execution_count": 86,
   "metadata": {},
   "outputs": [
    {
     "name": "stdout",
     "output_type": "stream",
     "text": [
      "1\n",
      "22\n",
      "333\n",
      "4444\n",
      "55555\n",
      "\n",
      "\n",
      "1\n",
      "12\n",
      "123\n",
      "1234\n",
      "12345\n",
      "\n",
      "\n",
      "55555\r\n",
      "4444\r\n",
      "333\r\n",
      "22\r\n",
      "1\r\n",
      "          \n",
      "        1 \n",
      "      2 2 \n",
      "    3 3 3 \n",
      "  4 4 4 4 \n",
      "5 5 5 5 5 \n"
     ]
    }
   ],
   "source": [
    "#11\n",
    "r = 5\n",
    "for i in range(1, r+1):\n",
    "    for j in range(0, i ):\n",
    "        print(i , end='')\n",
    "    print()\n",
    "    \n",
    "print('\\n')\n",
    "\n",
    "r = 5\n",
    "for r in range(1, r+1):\n",
    "    for column in range(1, r + 1):\n",
    "        print(column, end='')\n",
    "    print(\"\")\n",
    "    \n",
    "print('\\n')\n",
    "\n",
    "r = 5\n",
    "for i in range(r, 0, -1):\n",
    "    n = i\n",
    "    for j in range(0, i):\n",
    "        print(n, end='')\n",
    "    print(\"\\r\")\n",
    "    \n",
    "\n",
    "\n",
    "i = 6\n",
    "k = 2 * i - 2\n",
    "for i in range(0, i):\n",
    "    for j in range(0, k):\n",
    "        print(end=\" \")\n",
    "    k = k - 2\n",
    "    for j in range(1, i + 1):\n",
    "        print(i, end=\" \")\n",
    "    print(\"\")"
   ]
  },
  {
   "cell_type": "code",
   "execution_count": 111,
   "metadata": {},
   "outputs": [
    {
     "name": "stdout",
     "output_type": "stream",
     "text": [
      "\n",
      "A\n",
      "AB\n",
      "ABC\n",
      "ABCD\n",
      "ABCDE\n",
      "\n",
      "\n",
      "\n",
      "A\n",
      "BC\n",
      "DEF\n",
      "GHIJ\n",
      "KLMNO\n",
      "\n",
      "\n",
      "\n",
      "A\n",
      "BB\n",
      "CCC\n",
      "DDDD\n",
      "EEEEE\n",
      "\n",
      "\n",
      "        A  \n",
      "       B A  \n",
      "      C B A  \n",
      "     D C B A  \n",
      "    E D C B A  \n"
     ]
    }
   ],
   "source": [
    "#12\n",
    "\n",
    "import string\n",
    "alphabet_string = string.ascii_uppercase\n",
    "r = 5\n",
    "for r in range(0, r+1):\n",
    "    for column in range(0, r ):\n",
    "        print(alphabet_string[column], end='')\n",
    "    print(\"\")\n",
    "    \n",
    "print('\\n')\n",
    "\n",
    "\n",
    "alphabet_string = string.ascii_uppercase\n",
    "r = 5\n",
    "k=0\n",
    "for r in range(0, r+1):\n",
    "    for column in range(0, r ):\n",
    "        print(alphabet_string[k], end='')\n",
    "        k+=1\n",
    "    print(\"\")\n",
    "    \n",
    "print('\\n')\n",
    "\n",
    "\n",
    "alphabet_string = string.ascii_uppercase\n",
    "r = 5\n",
    "\n",
    "for r in range(0, r+1):\n",
    "    for column in range(0, r ):\n",
    "        print(alphabet_string[r-1], end='')\n",
    "    print(\"\")\n",
    "    \n",
    "print('\\n')\n",
    "\n",
    "alphabet_string = string.ascii_uppercase\n",
    "s = 5\n",
    "m = (2 * s) - 2\n",
    "for i in range(0, s):\n",
    "    for j in range(0, m):\n",
    "        print(end=\" \")\n",
    "    m = m - 1  \n",
    "    for j in range(0, i + 1):\n",
    "        print(alphabet_string[i-j], end=' ')\n",
    "    print(\" \")"
   ]
  }
 ],
 "metadata": {
  "kernelspec": {
   "display_name": "Python 3",
   "language": "python",
   "name": "python3"
  },
  "language_info": {
   "codemirror_mode": {
    "name": "ipython",
    "version": 3
   },
   "file_extension": ".py",
   "mimetype": "text/x-python",
   "name": "python",
   "nbconvert_exporter": "python",
   "pygments_lexer": "ipython3",
   "version": "3.5.6"
  }
 },
 "nbformat": 4,
 "nbformat_minor": 4
}
