{
 "cells": [
  {
   "cell_type": "code",
   "execution_count": 7,
   "metadata": {},
   "outputs": [
    {
     "name": "stdout",
     "output_type": "stream",
     "text": [
      "Input a number: 5\n",
      "1\n",
      "2\n",
      "3\n",
      "4\n",
      "5\n"
     ]
    }
   ],
   "source": [
    "#1\n",
    "x=int(input(\"Input a number: \").strip())\n",
    "for i in range(x):\n",
    "    print(\"{}\" .format(i+1))"
   ]
  },
  {
   "cell_type": "code",
   "execution_count": 9,
   "metadata": {},
   "outputs": [
    {
     "name": "stdout",
     "output_type": "stream",
     "text": [
      "Input a number: 100\n",
      "5050\n"
     ]
    }
   ],
   "source": [
    "#2\n",
    "x=int(input(\"Input a number: \").strip())\n",
    "s=0\n",
    "for i in range(x):\n",
    "    s+=i+1\n",
    "print(\"{}\" .format(s))\n"
   ]
  },
  {
   "cell_type": "code",
   "execution_count": 14,
   "metadata": {},
   "outputs": [
    {
     "name": "stdout",
     "output_type": "stream",
     "text": [
      "Input a number: 5\n",
      "5\n",
      "4\n",
      "3\n",
      "2\n",
      "1\n"
     ]
    }
   ],
   "source": [
    "#3\n",
    "x=int(input(\"Input a number: \").strip())\n",
    "for i in range(x+1,1,-1):\n",
    "    print(\"{}\" .format(i-1))"
   ]
  },
  {
   "cell_type": "code",
   "execution_count": 38,
   "metadata": {},
   "outputs": [
    {
     "name": "stdout",
     "output_type": "stream",
     "text": [
      "Input a number: 5\n",
      "120\n"
     ]
    }
   ],
   "source": [
    "#4\n",
    "x=int(input(\"Input a number: \").strip())\n",
    "s=1\n",
    "if x!=0:\n",
    "    for i in range(1,x+1):\n",
    "        s*=i\n",
    "print(\"{}\" .format(s))\n"
   ]
  },
  {
   "cell_type": "code",
   "execution_count": 59,
   "metadata": {},
   "outputs": [
    {
     "name": "stdout",
     "output_type": "stream",
     "text": [
      "Input a number: 5\n",
      "1\n",
      "1\n",
      "2\n",
      "3\n",
      "5\n"
     ]
    }
   ],
   "source": [
    "#5\n",
    "a=int(input(\"Input a number: \").strip())\n",
    "f=0                                        \n",
    "s=1\n",
    "if a<=0:\n",
    "    print(\"wrong input\")\n",
    "else:\n",
    "    print(\"{}\" .format(s)) \n",
    "    for x in range(2,a+1):\n",
    "        n=f+s                           \n",
    "        print(\"{}\" .format(n))\n",
    "        f=s\n",
    "        s=n\n"
   ]
  },
  {
   "cell_type": "code",
   "execution_count": 61,
   "metadata": {},
   "outputs": [
    {
     "name": "stdout",
     "output_type": "stream",
     "text": [
      "Input a number: 351232139\n",
      "3\n",
      "5\n",
      "1\n",
      "2\n",
      "3\n",
      "2\n",
      "1\n",
      "3\n",
      "9\n"
     ]
    }
   ],
   "source": [
    "#6\n",
    "x=input(\"Input a number: \").strip()\n",
    "for i in range(len(x)):\n",
    "    print(x[i])"
   ]
  },
  {
   "cell_type": "code",
   "execution_count": 65,
   "metadata": {},
   "outputs": [
    {
     "name": "stdout",
     "output_type": "stream",
     "text": [
      "Input a number: 123456789\n",
      "45\n"
     ]
    }
   ],
   "source": [
    "#7\n",
    "x=\n",
    "s=0\n",
    "for i in range(len(x)):\n",
    "    s+=int(x[i])\n",
    "print(s)"
   ]
  },
  {
   "cell_type": "code",
   "execution_count": 69,
   "metadata": {},
   "outputs": [
    {
     "name": "stdout",
     "output_type": "stream",
     "text": [
      "Input a number: 5\n",
      "153\n"
     ]
    }
   ],
   "source": [
    "#8\n",
    "f=0\n",
    "s=1\n",
    "m=int(input(\"Input a number: \").strip())\n",
    "for k in range (1,m+1):\n",
    "    s=1\n",
    "    for i in range (1,k+1):\n",
    "        s=i*s\n",
    "    f=f+s\n",
    "print(f)"
   ]
  },
  {
   "cell_type": "code",
   "execution_count": 72,
   "metadata": {},
   "outputs": [
    {
     "name": "stdout",
     "output_type": "stream",
     "text": [
      "Input base: 4\n",
      "Input exponent: 4\n",
      "256\n"
     ]
    }
   ],
   "source": [
    "#9\n",
    "\n",
    "a=int(input(\"Input base: \").strip())\n",
    "b=int(input(\"Input exponent: \").strip())\n",
    "\n",
    "s=1\n",
    "for i in range(b):\n",
    "    s*=a \n",
    "print(s)"
   ]
  },
  {
   "cell_type": "code",
   "execution_count": 110,
   "metadata": {},
   "outputs": [
    {
     "name": "stdout",
     "output_type": "stream",
     "text": [
      "*\n",
      "**\n",
      "***\n",
      "****\n",
      "*****\n",
      "\n",
      "\n",
      "*****\n",
      "****\n",
      "***\n",
      "**\n",
      "*\n",
      "\n",
      "\n",
      "   **\n",
      " ***\n",
      "**\n",
      "*\n",
      "*\n"
     ]
    }
   ],
   "source": [
    "#10\n",
    "s='*'\n",
    "for i in range(5):\n",
    "    print(s)\n",
    "    s+='*'\n",
    "\n",
    "print('\\n')\n",
    "s='******'\n",
    "for i in range(5):\n",
    "    print(s[:-i-1])\n",
    "\n",
    "print('\\n')\n",
    "s=\"    *\"\n",
    "for i in range(5):\n",
    "    \n",
    "    s=s[i+1:]\n",
    "    s+='*'\n",
    "    print(s)"
   ]
  },
  {
   "cell_type": "code",
   "execution_count": 104,
   "metadata": {},
   "outputs": [
    {
     "name": "stdout",
     "output_type": "stream",
     "text": [
      "   \n"
     ]
    }
   ],
   "source": []
  }
 ],
 "metadata": {
  "kernelspec": {
   "display_name": "Python 3",
   "language": "python",
   "name": "python3"
  },
  "language_info": {
   "codemirror_mode": {
    "name": "ipython",
    "version": 3
   },
   "file_extension": ".py",
   "mimetype": "text/x-python",
   "name": "python",
   "nbconvert_exporter": "python",
   "pygments_lexer": "ipython3",
   "version": "3.5.6"
  }
 },
 "nbformat": 4,
 "nbformat_minor": 4
}
