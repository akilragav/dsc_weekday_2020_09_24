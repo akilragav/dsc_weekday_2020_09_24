{
 "cells": [
  {
   "cell_type": "code",
   "execution_count": 3,
   "metadata": {},
   "outputs": [
    {
     "name": "stdout",
     "output_type": "stream",
     "text": [
      "Enter a number: 10\n",
      "Square: 100\n",
      "Inverse: 0.1\n",
      "Negative: -10\n"
     ]
    }
   ],
   "source": [
    "#1\n",
    "number = int(input('Enter a number: '))\n",
    "sqr = lambda number:number**2\n",
    "invr = lambda number:1/number\n",
    "n = lambda number:-1*number\n",
    "\n",
    "print('Square: {}'.format(sqr(number)))\n",
    "print('Inverse: {}'.format(invr(number)))\n",
    "print('Negative: {}'.format(n(number)))"
   ]
  },
  {
   "cell_type": "code",
   "execution_count": 6,
   "metadata": {},
   "outputs": [
    {
     "name": "stdout",
     "output_type": "stream",
     "text": [
      "100\n"
     ]
    }
   ],
   "source": [
    "#2\n",
    "import functools \n",
    "from functools import reduce as rd\n",
    "\n",
    "l=[2,1,5,100,7,10,20,33,6,8]\n",
    "max_l=rd(lambda a,b:b if b>a else a, l  )\n",
    "\n",
    "print(max_l)"
   ]
  },
  {
   "cell_type": "code",
   "execution_count": 38,
   "metadata": {},
   "outputs": [
    {
     "name": "stdout",
     "output_type": "stream",
     "text": [
      "[[1, 4, 16], [1.0, 0.25, 0.0625], [-1.0, -0.25, -0.0625]]\n"
     ]
    }
   ],
   "source": [
    "#3\n",
    "def map_multiple(f,l):\n",
    "    result=[]\n",
    "    for i in f:\n",
    "        r=(map(i,l))\n",
    "        l=list(r)\n",
    "        result.append(l)\n",
    "    return result\n",
    "    \n",
    "    \n",
    "functions=[sqr,invr,n]\n",
    "li=[1,2,4]\n",
    "\n",
    "print(map_multiple(functions,li))\n"
   ]
  },
  {
   "cell_type": "code",
   "execution_count": 33,
   "metadata": {},
   "outputs": [
    {
     "name": "stdout",
     "output_type": "stream",
     "text": [
      "50\n"
     ]
    }
   ],
   "source": [
    "#4\n",
    "f= lambda x,y:x if x>y else y\n",
    "l=[10 , 30 ,50 ,30 ,10]\n",
    "num=rd(f,l)\n",
    "print(num)"
   ]
  },
  {
   "cell_type": "code",
   "execution_count": 34,
   "metadata": {},
   "outputs": [
    {
     "name": "stdout",
     "output_type": "stream",
     "text": [
      "[1.0, 0.5, 0.25, 0.125]\n"
     ]
    }
   ],
   "source": [
    "#5\n",
    "functs = [lambda x: x**0.5, lambda x: 1/x]\n",
    "l = [1,4,16,64]\n",
    "ans = []\n",
    "for num in l:\n",
    "    res = num\n",
    "    for funct in functs:\n",
    "        res = funct(res)\n",
    "    ans.append(res)\n",
    "print(ans)"
   ]
  },
  {
   "cell_type": "code",
   "execution_count": 39,
   "metadata": {},
   "outputs": [
    {
     "name": "stdout",
     "output_type": "stream",
     "text": [
      "[12, 13, 5, 30]\n"
     ]
    }
   ],
   "source": [
    "#6\n",
    "l = ['abc',12,13,5,'sq',30,'sweq','pqr'] \n",
    "filt = list(filter(lambda i: isinstance(i, int), l))\n",
    "print(filt)"
   ]
  },
  {
   "cell_type": "code",
   "execution_count": 81,
   "metadata": {},
   "outputs": [
    {
     "name": "stdout",
     "output_type": "stream",
     "text": [
      "['1.778m', '2.032m', '0.3556m', '0.508m', '1.2192m']\n"
     ]
    }
   ],
   "source": [
    "#7\n",
    "def ft_m(v):\n",
    "    hm=0;\n",
    "    fm=0;\n",
    "    if 'ft' in v and 'in' in v:\n",
    "        h=v.split('ft');\n",
    "        f=h[1].split('in')\n",
    "    elif 'ft' in v:\n",
    "        h=v.split('ft');\n",
    "        f='0'\n",
    "    elif 'in' in v:\n",
    "        f=v.split('in')\n",
    "        h='0'\n",
    "        \n",
    "    hm=int(h[0])*0.3048\n",
    "    fm=int(f[0])*0.0254\n",
    "\n",
    "    return (str(hm+fm)+'m')\n",
    "\n",
    "heights = ['5ft10in', '5ft20in', '1ft2in','20in','4ft']\n",
    "print(list(map(ft_m, heights)))\n"
   ]
  },
  {
   "cell_type": "code",
   "execution_count": 82,
   "metadata": {},
   "outputs": [
    {
     "name": "stdout",
     "output_type": "stream",
     "text": [
      "['1.778m', '2.032m', '0.3556m', '0.508m', '1.2192m']\n"
     ]
    }
   ],
   "source": [
    "#8\n",
    "def my_map(f,l):\n",
    "    result=[]\n",
    "    for i in l:\n",
    "        result.append(f(i))\n",
    "    return(list(result))\n",
    "\n",
    "def ft_m(v):\n",
    "    hm=0;\n",
    "    fm=0;\n",
    "    if 'ft' in v and 'in' in v:\n",
    "        h=v.split('ft');\n",
    "        f=h[1].split('in')\n",
    "    elif 'ft' in v:\n",
    "        h=v.split('ft');\n",
    "        f='0'\n",
    "    elif 'in' in v:\n",
    "        f=v.split('in')\n",
    "        h='0'\n",
    "        \n",
    "    hm=int(h[0])*0.3048\n",
    "    fm=int(f[0])*0.0254\n",
    "\n",
    "    return (str(hm+fm)+'m')\n",
    "\n",
    "heights = ['5ft10in', '5ft20in', '1ft2in','20in','4ft']\n",
    "print(list(my_map(ft_m, heights)))"
   ]
  }
 ],
 "metadata": {
  "kernelspec": {
   "display_name": "Python 3",
   "language": "python",
   "name": "python3"
  },
  "language_info": {
   "codemirror_mode": {
    "name": "ipython",
    "version": 3
   },
   "file_extension": ".py",
   "mimetype": "text/x-python",
   "name": "python",
   "nbconvert_exporter": "python",
   "pygments_lexer": "ipython3",
   "version": "3.5.6"
  }
 },
 "nbformat": 4,
 "nbformat_minor": 4
}
