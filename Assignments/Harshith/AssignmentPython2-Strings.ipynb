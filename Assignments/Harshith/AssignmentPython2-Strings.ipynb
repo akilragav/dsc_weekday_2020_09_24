{
 "cells": [
  {
   "cell_type": "code",
   "execution_count": 20,
   "metadata": {},
   "outputs": [
    {
     "name": "stdout",
     "output_type": "stream",
     "text": [
      "d\n",
      "detneirO tcejbO si nohtyP\n",
      "Python is Object Oriente\n",
      "\n"
     ]
    }
   ],
   "source": [
    "# Prog 1 - Slicing [start:stop:step]        Note: default value of start is 0, stop is len(str) and step is 1\n",
    "\n",
    "s = 'Python is Object Oriented'\n",
    "print(s[-1])             # stop is -1\n",
    "print(s[::-1])           # start=0, stop=len(str), step=-1\n",
    "print(s[:-1])            # start=0, stop=-1\n",
    "print(s[1:1])            # start=1, stop=1 --> cannot start and stop at same position"
   ]
  },
  {
   "cell_type": "code",
   "execution_count": 101,
   "metadata": {},
   "outputs": [
    {
     "ename": "IndexError",
     "evalue": "string index out of range",
     "output_type": "error",
     "traceback": [
      "\u001b[1;31m---------------------------------------------------------------------------\u001b[0m",
      "\u001b[1;31mIndexError\u001b[0m                                Traceback (most recent call last)",
      "\u001b[1;32m<ipython-input-101-15e7df5d6d56>\u001b[0m in \u001b[0;36m<module>\u001b[1;34m\u001b[0m\n\u001b[0;32m      2\u001b[0m \u001b[1;33m\u001b[0m\u001b[0m\n\u001b[0;32m      3\u001b[0m \u001b[0ms\u001b[0m\u001b[1;33m=\u001b[0m\u001b[1;34m''\u001b[0m\u001b[1;33m\u001b[0m\u001b[1;33m\u001b[0m\u001b[0m\n\u001b[1;32m----> 4\u001b[1;33m \u001b[0mprint\u001b[0m\u001b[1;33m(\u001b[0m\u001b[0ms\u001b[0m\u001b[1;33m[\u001b[0m\u001b[1;36m1\u001b[0m\u001b[1;33m]\u001b[0m\u001b[1;33m)\u001b[0m\u001b[1;33m\u001b[0m\u001b[1;33m\u001b[0m\u001b[0m\n\u001b[0m",
      "\u001b[1;31mIndexError\u001b[0m: string index out of range"
     ]
    }
   ],
   "source": [
    "# Prog 2 - Error-> string index out of range\n",
    "\n",
    "s=''\n",
    "print(s[1])"
   ]
  },
  {
   "cell_type": "code",
   "execution_count": 36,
   "metadata": {},
   "outputs": [
    {
     "name": "stdout",
     "output_type": "stream",
     "text": [
      "a\n"
     ]
    }
   ],
   "source": [
    "# Prog 3 - Access element through index\n",
    "\n",
    "s='Harshith'\n",
    "#s[1]           # Output ->'a'\n",
    "print(s[1])     # Output -> a"
   ]
  },
  {
   "cell_type": "code",
   "execution_count": 49,
   "metadata": {},
   "outputs": [
    {
     "name": "stdout",
     "output_type": "stream",
     "text": [
      "6\n",
      "abc\n",
      "3\n"
     ]
    }
   ],
   "source": [
    "# Prog 4.a - Slicing\n",
    "\n",
    "s='a b cd'\n",
    "print(len(s))\n",
    "print(s[::2])    # step=2 ==> access every second element from start\n",
    "print(len(s[::2]))"
   ]
  },
  {
   "cell_type": "code",
   "execution_count": 65,
   "metadata": {},
   "outputs": [
    {
     "name": "stdout",
     "output_type": "stream",
     "text": [
      "['a#b#c#d#']\n",
      "['', '#b#c#d#']\n",
      "['a#b#c#', '#']\n",
      "['a', 'b', 'c', 'd', '']\n",
      "a$b$c$d$\n"
     ]
    }
   ],
   "source": [
    "# Prog 4.b - split() function and join() function\n",
    "\n",
    "s='a#b#c#d#'\n",
    "print(s.split())\n",
    "print(s.split('a'))\n",
    "print(s.split('d'))\n",
    "print(s.split('#'))\n",
    "\n",
    "l = s.split('#')\n",
    "s = '$'.join(l)\n",
    "print(s)"
   ]
  },
  {
   "cell_type": "code",
   "execution_count": 76,
   "metadata": {},
   "outputs": [
    {
     "name": "stdout",
     "output_type": "stream",
     "text": [
      "ai\n"
     ]
    }
   ],
   "source": [
    "# Prog 4.c - Slicing(advanced)\n",
    "\n",
    "s='Harshith'\n",
    "s=s[::-2][::-2]         # Harshith[::-2] ==> hisa[::-2] ==> ai\n",
    "print(s)"
   ]
  },
  {
   "cell_type": "code",
   "execution_count": 78,
   "metadata": {},
   "outputs": [
    {
     "name": "stdout",
     "output_type": "stream",
     "text": [
      "False\n"
     ]
    }
   ],
   "source": [
    "# Prog 4.d - 1>2\n",
    "\n",
    "print(1>2)"
   ]
  },
  {
   "cell_type": "code",
   "execution_count": 82,
   "metadata": {},
   "outputs": [
    {
     "name": "stdout",
     "output_type": "stream",
     "text": [
      "0,1,2\n"
     ]
    }
   ],
   "source": [
    "# Prog 4.e - print(sep=',') --> separator\n",
    "\n",
    "print(4%2, 5%2, 2%5, sep=',')"
   ]
  },
  {
   "cell_type": "code",
   "execution_count": 102,
   "metadata": {},
   "outputs": [
    {
     "name": "stdout",
     "output_type": "stream",
     "text": [
      "abcba\n",
      "ABCBA\n",
      "0,0,0,"
     ]
    }
   ],
   "source": [
    "# Prog 4.f - upper() function and count() function\n",
    "\n",
    "s='abcba'\n",
    "u=s.upper()\n",
    "print(s)\n",
    "print(u)\n",
    "print(s.count('A'), end=',')\n",
    "print(s.count('A',2,4), end=',')   \n",
    "print(s.count('a',2,4), end=',')    # index should before or after. But not just on the index"
   ]
  },
  {
   "cell_type": "code",
   "execution_count": 106,
   "metadata": {},
   "outputs": [
    {
     "name": "stdout",
     "output_type": "stream",
     "text": [
      "Enter a string : This is Python\n",
      "ThisisPython\n"
     ]
    }
   ],
   "source": [
    "# Prog 5 - input a string and remove all spaces from it\n",
    "\n",
    "s=input('Enter a string : ')\n",
    "r=s.replace(\" \",'')\n",
    "print(r)"
   ]
  },
  {
   "cell_type": "code",
   "execution_count": 107,
   "metadata": {},
   "outputs": [],
   "source": [
    "# Prog 6\n",
    "\n",
    "# Symbol [] denotes"
   ]
  },
  {
   "cell_type": "code",
   "execution_count": 117,
   "metadata": {},
   "outputs": [
    {
     "name": "stdout",
     "output_type": "stream",
     "text": [
      "['__add__', '__class__', '__contains__', '__delattr__', '__dir__', '__doc__', '__eq__', '__format__', '__ge__', '__getattribute__', '__getitem__', '__getnewargs__', '__gt__', '__hash__', '__init__', '__init_subclass__', '__iter__', '__le__', '__len__', '__lt__', '__mod__', '__mul__', '__ne__', '__new__', '__reduce__', '__reduce_ex__', '__repr__', '__rmod__', '__rmul__', '__setattr__', '__sizeof__', '__str__', '__subclasshook__', 'capitalize', 'casefold', 'center', 'count', 'encode', 'endswith', 'expandtabs', 'find', 'format', 'format_map', 'index', 'isalnum', 'isalpha', 'isascii', 'isdecimal', 'isdigit', 'isidentifier', 'islower', 'isnumeric', 'isprintable', 'isspace', 'istitle', 'isupper', 'join', 'ljust', 'lower', 'lstrip', 'maketrans', 'partition', 'replace', 'rfind', 'rindex', 'rjust', 'rpartition', 'rsplit', 'rstrip', 'split', 'splitlines', 'startswith', 'strip', 'swapcase', 'title', 'translate', 'upper', 'zfill']\n"
     ]
    }
   ],
   "source": [
    "# Prog 7 - Print all String methods \n",
    "\n",
    "s=\"\"\n",
    "print(dir(s))"
   ]
  },
  {
   "cell_type": "code",
   "execution_count": 130,
   "metadata": {},
   "outputs": [
    {
     "name": "stdout",
     "output_type": "stream",
     "text": [
      "True\n"
     ]
    }
   ],
   "source": [
    "# Prog 8 - Check if a rstrip method in string class (using in and find function)\n",
    "\n",
    "s=\"\"\n",
    "f=dir(s)\n",
    "print(\"rstrip\" in f)"
   ]
  },
  {
   "cell_type": "code",
   "execution_count": 138,
   "metadata": {},
   "outputs": [
    {
     "name": "stdout",
     "output_type": "stream",
     "text": [
      "\n",
      "*****\n",
      "  *  \n",
      "  *  \n",
      "  *  \n",
      "  *  \n",
      "\n",
      "\n",
      "*     *\n",
      "* * * *\n",
      "*  *  *\n",
      "*     *\n",
      "\n",
      "\n",
      "   _______\n",
      "   |      |   \n",
      "   o      |   \n",
      " / | \\    |\n",
      "  / \\     |\n",
      "__________|\n",
      "         \n",
      "\n"
     ]
    }
   ],
   "source": [
    "# Prog 9 - Print following patterns by storing it in a string variable Note : use '''triple quotation'''\n",
    "\n",
    "t='''\n",
    "*****\n",
    "  *  \n",
    "  *  \n",
    "  *  \n",
    "  *  \n",
    "'''\n",
    "print(t)\n",
    "\n",
    "m='''\n",
    "*     *\n",
    "* * * *\n",
    "*  *  *\n",
    "*     *\n",
    "'''\n",
    "print(m)\n",
    "\n",
    "hangman='''\n",
    "   _______\n",
    "   |      |   \n",
    "   o      |   \n",
    " / | \\    |\n",
    "  / \\     |\n",
    "__________|\n",
    "         \n",
    "'''\n",
    "print(hangman)"
   ]
  },
  {
   "cell_type": "code",
   "execution_count": 140,
   "metadata": {},
   "outputs": [
    {
     "name": "stdout",
     "output_type": "stream",
     "text": [
      "Enter a string : hi this is python\n",
      "hi\n",
      "this\n",
      "is\n",
      "python\n"
     ]
    }
   ],
   "source": [
    "# Prog 10 - Replace space with new line in a string and print --> replace() function\n",
    "\n",
    "s=input('Enter a string : ')\n",
    "str = s.replace(\" \",\"\\n\")\n",
    "print(str)"
   ]
  },
  {
   "cell_type": "code",
   "execution_count": 166,
   "metadata": {},
   "outputs": [
    {
     "name": "stdout",
     "output_type": "stream",
     "text": [
      "Enter first name and last name :  Harshith Prabhakar \n",
      "HARSHITH 8\n",
      "PRABHAKAR 9\n"
     ]
    }
   ],
   "source": [
    "# Prog 11 - Input complete name (first and last name sep with space) and print them separately along with their length\n",
    "#                                         --> strip() , split(), find(), upper() functions \n",
    "\n",
    "s=input(\"Enter first name and last name : \")\n",
    "str = s.strip()\n",
    "lst = str.split(\" \")\n",
    "i=0\n",
    "if(s.find(\" \")!=-1) :\n",
    "    while(i<len(lst)):\n",
    "       print(lst[i].upper(),len(lst[i]),sep=' ')\n",
    "       i=i+1\n",
    "else :\n",
    "    print(\"Please ensure there is space between first name and last name\")"
   ]
  },
  {
   "cell_type": "code",
   "execution_count": 184,
   "metadata": {},
   "outputs": [
    {
     "name": "stdout",
     "output_type": "stream",
     "text": [
      "Enter a string : asdfg\n",
      "2\n",
      "as fg\n"
     ]
    }
   ],
   "source": [
    "# Prog 12 - Input a string (of any length) and split it in two halves\n",
    "\n",
    "s=input(\"Enter a string : \")                       \n",
    "half_len = len(s)//2                    # floor division operator \"//\"\n",
    "if(len(s)%2!=0):                        # for odd length\n",
    "    fh, sh = s[:half_len],s[half_len+1:]\n",
    "    print(fh,sh)\n",
    "else:\n",
    "    fh, sh = s[:half_len],s[half_len:]\n",
    "    print(fh,sh)"
   ]
  }
 ],
 "metadata": {
  "kernelspec": {
   "display_name": "Python 3",
   "language": "python",
   "name": "python3"
  },
  "language_info": {
   "codemirror_mode": {
    "name": "ipython",
    "version": 3
   },
   "file_extension": ".py",
   "mimetype": "text/x-python",
   "name": "python",
   "nbconvert_exporter": "python",
   "pygments_lexer": "ipython3",
   "version": "3.8.3"
  }
 },
 "nbformat": 4,
 "nbformat_minor": 4
}
