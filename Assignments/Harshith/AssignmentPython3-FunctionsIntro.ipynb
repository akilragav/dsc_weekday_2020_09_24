{
 "cells": [
  {
   "cell_type": "code",
   "execution_count": 2,
   "metadata": {},
   "outputs": [
    {
     "name": "stdout",
     "output_type": "stream",
     "text": [
      "Enter a String(S1) : abc\n",
      "Enter a String(S2) : def\n",
      "S1 :  def\n",
      "S2 :  abc\n"
     ]
    }
   ],
   "source": [
    "# Prog1 - WAP to input 2 strings and swap the strings \n",
    "\n",
    "s1 = input(\"Enter a String(S1) : \")\n",
    "s2 = input(\"Enter a String(S2) : \")\n",
    "temp = s1\n",
    "s1 = s2\n",
    "s2 = temp\n",
    "print(\"S1 : \",s1)\n",
    "print(\"S2 : \",s2)\n"
   ]
  },
  {
   "cell_type": "code",
   "execution_count": 36,
   "metadata": {},
   "outputs": [
    {
     "name": "stdout",
     "output_type": "stream",
     "text": [
      "16.75\n"
     ]
    }
   ],
   "source": [
    "# Prog2 - WAP to generate 4 random numbers in the range 0-26 and print their average \n",
    "\n",
    "import random\n",
    "a = random.randint(0,26)\n",
    "b = random.randint(0,26)\n",
    "c = random.randint(0,26)\n",
    "d = random.randint(0,26)\n",
    "avg = (a + b + c + d)/4 \n",
    "print(avg)\n"
   ]
  },
  {
   "cell_type": "code",
   "execution_count": 62,
   "metadata": {},
   "outputs": [
    {
     "name": "stdout",
     "output_type": "stream",
     "text": [
      "i\n",
      "F\n"
     ]
    },
    {
     "ename": "TypeError",
     "evalue": "'int' object is not iterable",
     "output_type": "error",
     "traceback": [
      "\u001b[1;31m---------------------------------------------------------------------------\u001b[0m",
      "\u001b[1;31mTypeError\u001b[0m                                 Traceback (most recent call last)",
      "\u001b[1;32m<ipython-input-62-57b3068972da>\u001b[0m in \u001b[0;36m<module>\u001b[1;34m\u001b[0m\n\u001b[0;32m      6\u001b[0m \u001b[1;33m\u001b[0m\u001b[0m\n\u001b[0;32m      7\u001b[0m \u001b[1;33m\u001b[0m\u001b[0m\n\u001b[1;32m----> 8\u001b[1;33m \u001b[0mprint\u001b[0m\u001b[1;33m(\u001b[0m\u001b[0mrandom\u001b[0m\u001b[1;33m.\u001b[0m\u001b[0mchoices\u001b[0m\u001b[1;33m(\u001b[0m\u001b[0mstring\u001b[0m\u001b[1;33m.\u001b[0m\u001b[0mascii_lowercase\u001b[0m\u001b[1;33m,\u001b[0m\u001b[1;36m10\u001b[0m\u001b[1;33m)\u001b[0m\u001b[1;33m)\u001b[0m\u001b[1;33m\u001b[0m\u001b[1;33m\u001b[0m\u001b[0m\n\u001b[0m",
      "\u001b[1;32m~\\anaconda3\\lib\\random.py\u001b[0m in \u001b[0;36mchoices\u001b[1;34m(self, population, weights, cum_weights, k)\u001b[0m\n\u001b[0;32m    398\u001b[0m                 \u001b[0mn\u001b[0m \u001b[1;33m+=\u001b[0m \u001b[1;36m0.0\u001b[0m    \u001b[1;31m# convert to float for a small speed improvement\u001b[0m\u001b[1;33m\u001b[0m\u001b[1;33m\u001b[0m\u001b[0m\n\u001b[0;32m    399\u001b[0m                 \u001b[1;32mreturn\u001b[0m \u001b[1;33m[\u001b[0m\u001b[0mpopulation\u001b[0m\u001b[1;33m[\u001b[0m\u001b[0m_int\u001b[0m\u001b[1;33m(\u001b[0m\u001b[0mrandom\u001b[0m\u001b[1;33m(\u001b[0m\u001b[1;33m)\u001b[0m \u001b[1;33m*\u001b[0m \u001b[0mn\u001b[0m\u001b[1;33m)\u001b[0m\u001b[1;33m]\u001b[0m \u001b[1;32mfor\u001b[0m \u001b[0mi\u001b[0m \u001b[1;32min\u001b[0m \u001b[0m_repeat\u001b[0m\u001b[1;33m(\u001b[0m\u001b[1;32mNone\u001b[0m\u001b[1;33m,\u001b[0m \u001b[0mk\u001b[0m\u001b[1;33m)\u001b[0m\u001b[1;33m]\u001b[0m\u001b[1;33m\u001b[0m\u001b[1;33m\u001b[0m\u001b[0m\n\u001b[1;32m--> 400\u001b[1;33m             \u001b[0mcum_weights\u001b[0m \u001b[1;33m=\u001b[0m \u001b[0mlist\u001b[0m\u001b[1;33m(\u001b[0m\u001b[0m_accumulate\u001b[0m\u001b[1;33m(\u001b[0m\u001b[0mweights\u001b[0m\u001b[1;33m)\u001b[0m\u001b[1;33m)\u001b[0m\u001b[1;33m\u001b[0m\u001b[1;33m\u001b[0m\u001b[0m\n\u001b[0m\u001b[0;32m    401\u001b[0m         \u001b[1;32melif\u001b[0m \u001b[0mweights\u001b[0m \u001b[1;32mis\u001b[0m \u001b[1;32mnot\u001b[0m \u001b[1;32mNone\u001b[0m\u001b[1;33m:\u001b[0m\u001b[1;33m\u001b[0m\u001b[1;33m\u001b[0m\u001b[0m\n\u001b[0;32m    402\u001b[0m             \u001b[1;32mraise\u001b[0m \u001b[0mTypeError\u001b[0m\u001b[1;33m(\u001b[0m\u001b[1;34m'Cannot specify both weights and cumulative weights'\u001b[0m\u001b[1;33m)\u001b[0m\u001b[1;33m\u001b[0m\u001b[1;33m\u001b[0m\u001b[0m\n",
      "\u001b[1;31mTypeError\u001b[0m: 'int' object is not iterable"
     ]
    }
   ],
   "source": [
    "# Prog3 - WAP to generate and print a random uppercase or lowercase alphabet. Try these:\n",
    "        # • Create a string containing all alphabets and then select a random alphabet.\n",
    "        # • Check the module string \n",
    "\n",
    "import random\n",
    "import string\n",
    "\n",
    "print(random.choice(string.ascii_lowercase))\n",
    "print(random.choice(string.ascii_uppercase))\n",
    "\n",
    "\n",
    "print(random.choices(string.ascii_lowercase,10))"
   ]
  },
  {
   "cell_type": "code",
   "execution_count": 74,
   "metadata": {},
   "outputs": [
    {
     "name": "stdout",
     "output_type": "stream",
     "text": [
      "Enter principal : 1000\n",
      "Enter time : 2\n",
      "Enter rate of interest : 10\n",
      "Simple Interest :  200.0\n"
     ]
    }
   ],
   "source": [
    "# Prog4 - WAF get_si() that takes Principle, Rate and Time as arguments and returns the Simple Interest. \n",
    "\n",
    "def get_si(p,t,r):\n",
    "    return (p*t*r)/100\n",
    "\n",
    "principal = float(input(\"Enter principal : \"))\n",
    "time = float(input(\"Enter time : \"))\n",
    "rate = float(input(\"Enter rate of interest : \"))\n",
    "si = get_si(principal,time,rate)\n",
    "print(\"Simple Interest : \",si)"
   ]
  },
  {
   "cell_type": "code",
   "execution_count": 73,
   "metadata": {},
   "outputs": [
    {
     "name": "stdout",
     "output_type": "stream",
     "text": [
      "Enter principal : 1000\n",
      "Amount :  1100.0\n"
     ]
    }
   ],
   "source": [
    "# Prog5 - WAF get_amount() that takes Principle, Rate and Time as arguments and returns the Total amount \n",
    "        # using the get_si() function from above to calculate the SI. \n",
    "        # Also provide Rate = 10 and Time = 1 as default arguments. \n",
    "\n",
    "def get_si(p,t,r):\n",
    "    si = (p*t*r)/100\n",
    "    return si\n",
    "\n",
    "def get_amount(p,t=1,rate=10):\n",
    "    amount = p + get_si(p,t,rate)\n",
    "    return amount\n",
    "\n",
    "principal = float(input(\"Enter principal : \"))\n",
    "amount = get_amount(principal)\n",
    "print(\"Amount : \",amount)"
   ]
  },
  {
   "cell_type": "code",
   "execution_count": 83,
   "metadata": {},
   "outputs": [
    {
     "name": "stdout",
     "output_type": "stream",
     "text": [
      "Enter principal : 1000\n",
      "Enter time : 1\n",
      "Enter rate of interest : 2\n",
      "Compound Interest :  20.100000000000023\n"
     ]
    }
   ],
   "source": [
    "# Prog6 - WAF get_ci() that takes Principle, Rate and Time as arguments and returns the Compound Interest. \n",
    "\n",
    "def get_ci(principal,time,rate):\n",
    "    rate = rate/100\n",
    "    n=2\n",
    "    total_amount = principal*((1+rate/n)**(n*time))\n",
    "    comp_interest = total_amount-principal\n",
    "    return comp_interest\n",
    "\n",
    "principal = float(input(\"Enter principal : \"))\n",
    "time = float(input(\"Enter time : \"))\n",
    "rate = float(input(\"Enter rate of interest : \"))\n",
    "comp_interest = get_ci(principal,time,rate)\n",
    "print(\"Compound Interest : \",comp_interest)"
   ]
  },
  {
   "cell_type": "code",
   "execution_count": 90,
   "metadata": {},
   "outputs": [
    {
     "name": "stdout",
     "output_type": "stream",
     "text": [
      "Quotient :  3\n",
      "Remainder :  1\n"
     ]
    }
   ],
   "source": [
    "# Prog7 - WAP get_q_r() taking 2 numbers as parameters and returns the quotient and\n",
    "remainder in the form of a tuple. \n",
    "\n",
    "def get_q_r(a,b):\n",
    "    q = a//b\n",
    "    r = a%b\n",
    "    return q,r\n",
    "\n",
    "quotient, remainder = get_q_r(10,3)\n",
    "print(\"Quotient : \", quotient)\n",
    "print(\"Remainder : \", remainder)"
   ]
  },
  {
   "cell_type": "code",
   "execution_count": 7,
   "metadata": {},
   "outputs": [
    {
     "name": "stdout",
     "output_type": "stream",
     "text": [
      "Enter height : 4\n",
      "Enter base : 3\n"
     ]
    },
    {
     "data": {
      "text/plain": [
       "5.0"
      ]
     },
     "execution_count": 7,
     "metadata": {},
     "output_type": "execute_result"
    }
   ],
   "source": [
    "# Prog8 -  WAP to find the length of hypotenuse of a right angled triangle, input the height and base from user.\n",
    "\n",
    "height = float(input(\"Enter height : \"))\n",
    "base = float(input(\"Enter base : \"))\n",
    "\n",
    "import math \n",
    "\n",
    "def hyp_len(height,base):\n",
    "    hyp = math.sqrt(math.pow(height,2)+math.pow(base,2))\n",
    "    return hyp\n",
    "\n",
    "hyp_len(height,base)\n"
   ]
  },
  {
   "cell_type": "code",
   "execution_count": 48,
   "metadata": {},
   "outputs": [
    {
     "name": "stdout",
     "output_type": "stream",
     "text": [
      "Enter seconds : 100000\n",
      "1 day 3 hour 46 minute 40 second\n"
     ]
    }
   ],
   "source": [
    "# Prog9 - WAP to input number of seconds and print in days, hours, minutes and seconds\n",
    "        # ex: input = 10000\n",
    "        # Output = 0 day 2 hour 46 minute 40 second \n",
    "\n",
    "from datetime import datetime,timedelta        \n",
    " \n",
    "seconds = int(input(\"Enter seconds : \"))\n",
    "sec = timedelta(seconds=seconds)\n",
    "d = datetime(1,1,1) + sec\n",
    "print(f\"{d.day-1} day {d.hour} hour {d.minute} minute {d.second} second\")\n"
   ]
  },
  {
   "cell_type": "code",
   "execution_count": 50,
   "metadata": {},
   "outputs": [],
   "source": [
    "# Note:\n",
    "\n",
    "from datetime import datetime,timedelta\n",
    "\n",
    "#dir(datetime)\n",
    "#help(datetime)\n",
    "#help(timedelta)"
   ]
  },
  {
   "cell_type": "code",
   "execution_count": 52,
   "metadata": {},
   "outputs": [],
   "source": [
    "# Prog10 - Check your version of python interpreter without opening the interpreter \n",
    "         # (Which command needs to be used on the command line). \n",
    "\n",
    "python --version"
   ]
  },
  {
   "cell_type": "code",
   "execution_count": 54,
   "metadata": {},
   "outputs": [
    {
     "name": "stdout",
     "output_type": "stream",
     "text": [
      "2 -2\n"
     ]
    }
   ],
   "source": [
    "# Prog11 - . Find output: \n",
    "\n",
    "x = 2\n",
    "x *= 3\n",
    "x = x%4\n",
    "y = -x\n",
    "print(x,y)"
   ]
  },
  {
   "cell_type": "code",
   "execution_count": 58,
   "metadata": {},
   "outputs": [
    {
     "name": "stdout",
     "output_type": "stream",
     "text": [
      "None\n"
     ]
    }
   ],
   "source": [
    "# Prog12 - . Find output: \n",
    "\n",
    "def funct():    # behaves like empty return statement --> returns None\n",
    "    pass\n",
    "   \n",
    "\n",
    "print(funct())"
   ]
  },
  {
   "cell_type": "code",
   "execution_count": null,
   "metadata": {},
   "outputs": [],
   "source": [
    "# Prog 13 - Read and complete till Part-3: (Part-4 After OOPs)\n",
    "            # https://medium.com/the-python-diary/getting-around-complex-numbers-77308982178d"
   ]
  }
 ],
 "metadata": {
  "kernelspec": {
   "display_name": "Python 3",
   "language": "python",
   "name": "python3"
  },
  "language_info": {
   "codemirror_mode": {
    "name": "ipython",
    "version": 3
   },
   "file_extension": ".py",
   "mimetype": "text/x-python",
   "name": "python",
   "nbconvert_exporter": "python",
   "pygments_lexer": "ipython3",
   "version": "3.8.3"
  }
 },
 "nbformat": 4,
 "nbformat_minor": 4
}
