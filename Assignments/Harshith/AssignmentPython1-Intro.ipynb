{
 "cells": [
  {
   "cell_type": "code",
   "execution_count": 7,
   "metadata": {},
   "outputs": [
    {
     "name": "stdout",
     "output_type": "stream",
     "text": [
      "8 27\n"
     ]
    }
   ],
   "source": [
    "# Prog 1 - Length of string\n",
    "\n",
    "s1 = \"Harshith\"\n",
    "s2 = \"harshithprabhakar@gmail.com\"\n",
    "print(len(s1),len(s2))"
   ]
  },
  {
   "cell_type": "code",
   "execution_count": 8,
   "metadata": {},
   "outputs": [
    {
     "name": "stdout",
     "output_type": "stream",
     "text": [
      "Enter string : harshith\n",
      "harshith\n"
     ]
    }
   ],
   "source": [
    "# Prog 2 - To take a string as input\n",
    "\n",
    "in_data = input(\"Enter string : \")\n",
    "print(in_data)"
   ]
  },
  {
   "cell_type": "code",
   "execution_count": 16,
   "metadata": {},
   "outputs": [
    {
     "name": "stdout",
     "output_type": "stream",
     "text": [
      "Num1 : 1\n",
      "Num2 : 2\n",
      "3\n",
      "-1\n"
     ]
    }
   ],
   "source": [
    "# Prog 3 - Addition and sub of given two numbers\n",
    "\n",
    "num1 = int(input(\"Num1 : \"))\n",
    "num2 = int(input(\"Num2 : \"))\n",
    "print(num1 + num2)\n",
    "print(num1 - num2)"
   ]
  },
  {
   "cell_type": "code",
   "execution_count": 12,
   "metadata": {},
   "outputs": [
    {
     "name": "stdout",
     "output_type": "stream",
     "text": [
      "abcdef\n"
     ]
    }
   ],
   "source": [
    "# Prog 4 - Concat two strings\n",
    "\n",
    "s1 = \"abc\"\n",
    "s2 = \"def\"\n",
    "s3 = s1 + s2\n",
    "print(s3)"
   ]
  },
  {
   "cell_type": "code",
   "execution_count": null,
   "metadata": {},
   "outputs": [],
   "source": [
    "# Prog 5 - Concat two strings\n",
    "\n",
    "s1 = \"abc\"\n",
    "s2 = \"def\"\n",
    "s3 = s1 + s2\n",
    "print(s3)"
   ]
  },
  {
   "cell_type": "code",
   "execution_count": 13,
   "metadata": {},
   "outputs": [
    {
     "name": "stdout",
     "output_type": "stream",
     "text": [
      "abcabcabcabc\n"
     ]
    }
   ],
   "source": [
    "# Prog 6 - Strings\n",
    "\n",
    "s1 = \"abc\" * 4\n",
    "print(s1)"
   ]
  },
  {
   "cell_type": "code",
   "execution_count": 14,
   "metadata": {},
   "outputs": [
    {
     "name": "stdout",
     "output_type": "stream",
     "text": [
      "abc\n",
      "abc\n",
      "abc\n",
      "abc\n",
      "\n"
     ]
    }
   ],
   "source": [
    "# Prog 7 - Strings\n",
    "\n",
    "s1 = \"abc\\n\" * 4\n",
    "print(s1)"
   ]
  },
  {
   "cell_type": "code",
   "execution_count": 17,
   "metadata": {},
   "outputs": [
    {
     "name": "stdout",
     "output_type": "stream",
     "text": [
      "Enter a string : harshith\n",
      "Enter a number : 2\n",
      "harshith\n",
      "harshith\n",
      "\n"
     ]
    }
   ],
   "source": [
    "# Prog 8 - Strings\n",
    "\n",
    "s = input(\"Enter a string : \")\n",
    "s1 = s+\"\\n\"\n",
    "n = int(input(\"Enter a number : \"))\n",
    "print(s1*n)"
   ]
  },
  {
   "cell_type": "code",
   "execution_count": 20,
   "metadata": {},
   "outputs": [
    {
     "name": "stdout",
     "output_type": "stream",
     "text": [
      "Harshith\n",
      "None <class 'NoneType'>\n"
     ]
    }
   ],
   "source": [
    "# Prog 9 - Return of print function\n",
    "\n",
    "res = print(\"Harshith\")\n",
    "print(res, type(res))"
   ]
  },
  {
   "cell_type": "code",
   "execution_count": 22,
   "metadata": {},
   "outputs": [
    {
     "name": "stdout",
     "output_type": "stream",
     "text": [
      "27 <class 'int'>\n"
     ]
    }
   ],
   "source": [
    "# Prog 10 - Return of len function\n",
    "\n",
    "res = len(\"harshithprabhakar@gmail.com\")\n",
    "print(res, type(res))"
   ]
  },
  {
   "cell_type": "code",
   "execution_count": 23,
   "metadata": {},
   "outputs": [
    {
     "name": "stdout",
     "output_type": "stream",
     "text": [
      "<class 'str'>\n",
      "36\n"
     ]
    }
   ],
   "source": [
    "# Prog 11 - type and len function\n",
    "\n",
    "s1 = \"Harshith\"\n",
    "s2 = \"harshithprabhakar@gmail.com\"\n",
    "s3 = s1 + \"\\n\" + s2\n",
    "print(type(s3))\n",
    "print(len(s3))"
   ]
  },
  {
   "cell_type": "code",
   "execution_count": 29,
   "metadata": {},
   "outputs": [
    {
     "name": "stdout",
     "output_type": "stream",
     "text": [
      "Enter a number to calculate square root : 4\n",
      "Square root is  2.0\n"
     ]
    }
   ],
   "source": [
    "# Prog 12 - Calculate square root\n",
    "\n",
    "import math\n",
    "num = int(input(\"Enter a number to calculate square root : \"))\n",
    "print(\"Square root is \",math.sqrt(num))"
   ]
  },
  {
   "cell_type": "code",
   "execution_count": 31,
   "metadata": {},
   "outputs": [
    {
     "name": "stdout",
     "output_type": "stream",
     "text": [
      "Enter a number to calculate square root : 16\n",
      "Square root is  4.0\n"
     ]
    }
   ],
   "source": [
    "# Prog 13 - Calculate square root\n",
    "\n",
    "import math\n",
    "num = int(input(\"Enter a number to calculate square root : \"))\n",
    "print(\"Square root is \",math.sqrt(num))"
   ]
  },
  {
   "cell_type": "code",
   "execution_count": 34,
   "metadata": {},
   "outputs": [
    {
     "name": "stdout",
     "output_type": "stream",
     "text": [
      "Enter a number : 10\n",
      "Enter a number : 20\n",
      "Enter a number : 30\n",
      "Enter a number : 40\n",
      "25.0\n"
     ]
    }
   ],
   "source": [
    "# Prog 14 - Find average of 4 numbers\n",
    "\n",
    "num1 = int(input(\"Enter a number : \"))\n",
    "num2 = int(input(\"Enter a number : \"))\n",
    "num3 = int(input(\"Enter a number : \"))\n",
    "num4 = int(input(\"Enter a number : \"))\n",
    "print((num1+num2+num3+num4)/4)"
   ]
  },
  {
   "cell_type": "code",
   "execution_count": 42,
   "metadata": {},
   "outputs": [
    {
     "name": "stdout",
     "output_type": "stream",
     "text": [
      "304\n",
      "56.78\n",
      "6.708203932499369\n"
     ]
    }
   ],
   "source": [
    "# Prog 15 - abs function (Return the absolute value of the argument.)\n",
    "\n",
    "num_int = -304\n",
    "num_float = -56.78\n",
    "num_complex = (3+6j)\n",
    "print(abs(num_int))\n",
    "print(abs(num_float))\n",
    "print(abs(num_complex))"
   ]
  },
  {
   "cell_type": "code",
   "execution_count": 43,
   "metadata": {},
   "outputs": [
    {
     "name": "stdout",
     "output_type": "stream",
     "text": [
      "__main__\n"
     ]
    }
   ],
   "source": [
    "# Prog 16 -\n",
    "print(__name__)\n",
    "# output --> __main__"
   ]
  },
  {
   "cell_type": "code",
   "execution_count": 46,
   "metadata": {},
   "outputs": [
    {
     "name": "stdout",
     "output_type": "stream",
     "text": [
      "__main__\n"
     ]
    }
   ],
   "source": [
    "# Prog 17 - Special variable that returns current module details\n",
    "print(__name__)\n",
    "# output --> __main__"
   ]
  },
  {
   "cell_type": "code",
   "execution_count": 47,
   "metadata": {},
   "outputs": [],
   "source": [
    "# Prog 18 - Does dir(int) contain __name__ ?\n",
    "# dir(int) does not contain \"__name__\""
   ]
  },
  {
   "cell_type": "code",
   "execution_count": 48,
   "metadata": {},
   "outputs": [
    {
     "name": "stdout",
     "output_type": "stream",
     "text": [
      "__main__\n",
      "builtins\n",
      "int\n"
     ]
    }
   ],
   "source": [
    "# Prog 19\n",
    "print(__name__)\n",
    "print(__builtins__.__name__)\n",
    "print(int.__name__)"
   ]
  }
 ],
 "metadata": {
  "kernelspec": {
   "display_name": "Python 3",
   "language": "python",
   "name": "python3"
  },
  "language_info": {
   "codemirror_mode": {
    "name": "ipython",
    "version": 3
   },
   "file_extension": ".py",
   "mimetype": "text/x-python",
   "name": "python",
   "nbconvert_exporter": "python",
   "pygments_lexer": "ipython3",
   "version": "3.8.3"
  }
 },
 "nbformat": 4,
 "nbformat_minor": 4
}
