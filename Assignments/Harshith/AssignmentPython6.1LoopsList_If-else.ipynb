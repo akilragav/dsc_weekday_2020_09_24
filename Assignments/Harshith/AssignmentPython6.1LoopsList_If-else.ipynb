{
 "cells": [
  {
   "cell_type": "code",
   "execution_count": 7,
   "metadata": {},
   "outputs": [
    {
     "name": "stdout",
     "output_type": "stream",
     "text": [
      "Enter string : This is string\n",
      "T\n",
      "h\n",
      "i\n",
      "s\n",
      " \n",
      "i\n",
      "s\n",
      " \n",
      "s\n",
      "t\n",
      "r\n",
      "i\n",
      "n\n",
      "g\n"
     ]
    }
   ],
   "source": [
    "# Prog1 - WAP to input a string and print individual characters in the string using for loop.\n",
    "\n",
    "s = input(\"Enter string : \")\n",
    "for i in s:\n",
    "    print(i)"
   ]
  },
  {
   "cell_type": "code",
   "execution_count": 8,
   "metadata": {},
   "outputs": [
    {
     "name": "stdout",
     "output_type": "stream",
     "text": [
      "Enter string : This is string\n",
      "84\n",
      "104\n",
      "105\n",
      "115\n",
      "32\n",
      "105\n",
      "115\n",
      "32\n",
      "115\n",
      "116\n",
      "114\n",
      "105\n",
      "110\n",
      "103\n"
     ]
    }
   ],
   "source": [
    "# Prog2 - WAP to input a string and print the ASCII value of each character in the string.\n",
    "\n",
    "s = input(\"Enter string : \")\n",
    "for i in s:\n",
    "    print(ord(i))"
   ]
  },
  {
   "cell_type": "code",
   "execution_count": 73,
   "metadata": {},
   "outputs": [
    {
     "ename": "SyntaxError",
     "evalue": "invalid syntax (<ipython-input-73-e27e807cb2c1>, line 8)",
     "output_type": "error",
     "traceback": [
      "\u001b[1;36m  File \u001b[1;32m\"<ipython-input-73-e27e807cb2c1>\"\u001b[1;36m, line \u001b[1;32m8\u001b[0m\n\u001b[1;33m    abc = [14, 17, 25, 43, 37, 33, 27, 42, 50, 40]\u001b[0m\n\u001b[1;37m    ^\u001b[0m\n\u001b[1;31mSyntaxError\u001b[0m\u001b[1;31m:\u001b[0m invalid syntax\n"
     ]
    }
   ],
   "source": [
    "# Prog3 - Write a function that takes a list of numbers from user as argument and returns the sum of only odd numbers \n",
    "        # (Use only for loop. No need to use if statement).\n",
    "\n",
    "\n",
    "def sum_odd(ls):\n",
    "    ls_odd = list((filter(lambda x: (x % 2 != 0), list1))\n",
    "\n",
    "ls = [1,3,4,5,6]\n",
    "sum_odd(ls)\n",
    "print(ls_odd)\n",
    "     \n"
   ]
  },
  {
   "cell_type": "code",
   "execution_count": 49,
   "metadata": {},
   "outputs": [
    {
     "ename": "SyntaxError",
     "evalue": "invalid syntax (<ipython-input-49-2b2a8b9e895f>, line 4)",
     "output_type": "error",
     "traceback": [
      "\u001b[1;36m  File \u001b[1;32m\"<ipython-input-49-2b2a8b9e895f>\"\u001b[1;36m, line \u001b[1;32m4\u001b[0m\n\u001b[1;33m    a = []\u001b[0m\n\u001b[1;37m    ^\u001b[0m\n\u001b[1;31mSyntaxError\u001b[0m\u001b[1;31m:\u001b[0m invalid syntax\n"
     ]
    }
   ],
   "source": [
    "\n",
    "\n",
    "\n"
   ]
  },
  {
   "cell_type": "code",
   "execution_count": 30,
   "metadata": {},
   "outputs": [
    {
     "name": "stdout",
     "output_type": "stream",
     "text": [
      "Enter a number : 3\n",
      "Enter a number : 4\n",
      "Enter a number : 5\n",
      "Enter a number : 6\n",
      "Enter a number : 7\n",
      "(3, 4, 5, 6, 7)\n",
      "\n",
      "Enter a  number inside the tuple : 3\n",
      "Index of 3 = 0\n"
     ]
    }
   ],
   "source": [
    "# Prog4 - WAP to input a list of numbers and store in a tuple. Now input another number and print the index of \n",
    "        # this number in the tuple. [Use index function] \n",
    "\n",
    "ls = []\n",
    "for i in range(0,5):\n",
    "    ls.append(int(input(\"Enter a number : \")))\n",
    "    \n",
    "t = tuple(ls)\n",
    "print(t)\n",
    "\n",
    "print()\n",
    "n = int(input(\"Enter a  number inside the tuple : \"))\n",
    "print(f\"Index of {n} = {t.index(n)}\")"
   ]
  },
  {
   "cell_type": "code",
   "execution_count": 69,
   "metadata": {},
   "outputs": [
    {
     "name": "stdout",
     "output_type": "stream",
     "text": [
      "[14, 17, 25, 43, 37, 33, 27, 42, 50, 40]\n",
      "328\n",
      "32.8\n"
     ]
    }
   ],
   "source": [
    "# Prog5 - Create a list of 10 random numbers and then print the list, sum of all numbers and average. Use a for loop. \n",
    "        # Also print elements at only even indexes in the list. \n",
    "     \n",
    "import random\n",
    "l=[]\n",
    "for i in range(0,10):\n",
    "    l.append(random.randint(1,50))\n",
    "print(l)\n",
    "print(sum(l))\n",
    "print(sum(l)/10)\n",
    "\n",
    "l.clear()"
   ]
  },
  {
   "cell_type": "code",
   "execution_count": 79,
   "metadata": {},
   "outputs": [
    {
     "name": "stdout",
     "output_type": "stream",
     "text": [
      "Enter number : 2\n",
      "Enter number : 3\n",
      "Enter number : 4\n",
      "Enter number : 5\n",
      "Enter number : 6\n",
      "Enter number : 7\n",
      "Enter number : 8\n",
      "Enter number : 8\n",
      "Enter number : 2\n",
      "Enter number : 9\n",
      "[2, 3, 4, 5, 6, 7, 8, 8, 2, 9]\n",
      "54\n"
     ]
    }
   ],
   "source": [
    "# Prog6 - WAP to input 10 numbers repeatedly (using range based for loop) and store them in a list. \n",
    "        # Print the list and sum of numbers in the list. \n",
    "\n",
    "for i in range(0,10):\n",
    "    l.append(int(input(\"Enter number : \")))\n",
    "print(l)\n",
    "print(sum(l))\n",
    "l.clear()"
   ]
  },
  {
   "cell_type": "code",
   "execution_count": 81,
   "metadata": {},
   "outputs": [
    {
     "name": "stdout",
     "output_type": "stream",
     "text": [
      "Enter number : 345\n",
      "345 X 1 = 345\n",
      "345 X 2 = 690\n",
      "345 X 3 = 1035\n",
      "345 X 4 = 1380\n",
      "345 X 5 = 1725\n",
      "345 X 6 = 2070\n",
      "345 X 7 = 2415\n",
      "345 X 8 = 2760\n",
      "345 X 9 = 3105\n",
      "345 X 10 = 3450\n"
     ]
    }
   ],
   "source": [
    "# Prog7 - WAP to input a number and print its table. Ex: if user enters the number as 7, output should be \"7 X 1 = 7\"\n",
    "\n",
    "n = int(input(\"Enter number : \"))\n",
    "for i in range(1,11):\n",
    "    print(f\"{n} X {i} = {n*i}\")"
   ]
  },
  {
   "cell_type": "code",
   "execution_count": 89,
   "metadata": {},
   "outputs": [
    {
     "name": "stdout",
     "output_type": "stream",
     "text": [
      "Enter string : This is a string\n",
      "3\n"
     ]
    }
   ],
   "source": [
    "# Prog8 - WAP to print total number of spaces in a string (Use for loop to iterate over the string. \n",
    "        # Don’t use count function). \n",
    "\n",
    "s = input(\"Enter string : \")\n",
    "# s.count(\" \")\n",
    "\n",
    "count = 0\n",
    "for i in s:\n",
    "    if(i==\" \"):\n",
    "        count+=1\n",
    "print(count)"
   ]
  },
  {
   "cell_type": "code",
   "execution_count": 111,
   "metadata": {},
   "outputs": [
    {
     "name": "stdout",
     "output_type": "stream",
     "text": [
      "Enter string : This is a string\n",
      "4\n",
      "this is a string\n"
     ]
    }
   ],
   "source": [
    "# Prog9 - WAP to input a string and count number of vowels in the string. \n",
    "        # [Note: it should work for both capital and small alphabets]\n",
    "    \n",
    "s = input(\"Enter string : \")\n",
    "s = s.lower()\n",
    "count = 0\n",
    "for i in s:\n",
    "    if(i==\"a\" or i==\"e\" or i==\"i\" or i==\"o\" or i==\"u\"):\n",
    "        count+=1\n",
    "        s.replace(i,\"_\")        # strings are immutable\n",
    "print(count)\n",
    "print(s)\n"
   ]
  },
  {
   "cell_type": "code",
   "execution_count": 129,
   "metadata": {},
   "outputs": [
    {
     "name": "stdout",
     "output_type": "stream",
     "text": [
      "Enter string : This is a string\n",
      "['t', 'h', 'i', 's', ' ', 'i', 's', ' ', 'a', ' ', 's', 't', 'r', 'i', 'n', 'g']\n",
      "['t', 'h', '_', 's', ' ', '_', 's', ' ', '_', ' ', 's', 't', 'r', '_', 'n', 'g']\n",
      "th_s _s _ str_ng\n"
     ]
    }
   ],
   "source": [
    "# Prog10 - WAP to input a string and replace all vowels with ‘_’.\n",
    "        # [Hint: Convert string to list. Remember!! Strings are immutable. Replace in the list and then join]\n",
    "\n",
    "s = input(\"Enter string : \")\n",
    "s = s.lower()\n",
    "l = []\n",
    "l.extend(s)\n",
    "print(l)\n",
    "\n",
    "for i in l: \n",
    "    if(i==\"a\" or i==\"e\" or i==\"i\" or i==\"o\" or i==\"u\"):\n",
    "        index = l.index(i)\n",
    "        l.pop(index)\n",
    "        l.insert(index,\"_\")\n",
    "print(l)\n",
    "\n",
    "s = \"\".join(l)\n",
    "print(s)"
   ]
  },
  {
   "cell_type": "code",
   "execution_count": 130,
   "metadata": {},
   "outputs": [
    {
     "name": "stdout",
     "output_type": "stream",
     "text": [
      "Num :  0\n",
      "Loop ends\n"
     ]
    }
   ],
   "source": [
    "# Prog11 - Find output: \n",
    "\n",
    "# (i)\n",
    "for num in range(10):\n",
    "    print(\"Num : \", num)\n",
    "    if num % 4 == 0:\n",
    "        break\n",
    "print(\"Loop Ends\")\n"
   ]
  },
  {
   "cell_type": "code",
   "execution_count": 131,
   "metadata": {},
   "outputs": [
    {
     "name": "stdout",
     "output_type": "stream",
     "text": [
      "Num :  0\n"
     ]
    },
    {
     "ename": "SystemExit",
     "evalue": "",
     "output_type": "error",
     "traceback": [
      "An exception has occurred, use %tb to see the full traceback.\n",
      "\u001b[1;31mSystemExit\u001b[0m\n"
     ]
    },
    {
     "name": "stderr",
     "output_type": "stream",
     "text": [
      "C:\\Users\\harsh\\anaconda3\\lib\\site-packages\\IPython\\core\\interactiveshell.py:3351: UserWarning: To exit: use 'exit', 'quit', or Ctrl-D.\n",
      "  warn(\"To exit: use 'exit', 'quit', or Ctrl-D.\", stacklevel=1)\n"
     ]
    }
   ],
   "source": [
    "# (ii)\n",
    "import sys\n",
    "for num in range(10):\n",
    "    print(\"Num : \", num)\n",
    "    if num%4 == 0 :\n",
    "        sys.exit()\n",
    "print(\"Loop Ends\")"
   ]
  },
  {
   "cell_type": "code",
   "execution_count": 133,
   "metadata": {},
   "outputs": [
    {
     "name": "stdout",
     "output_type": "stream",
     "text": [
      "*****\n",
      "*****\n",
      "*****\n",
      "*****\n",
      "*****\n"
     ]
    }
   ],
   "source": [
    "# Prog12 - Find the output of the following code snippets.\n",
    "\n",
    "# (i)\n",
    "for i1 in range(1,6):\n",
    "    for i2 in range(5):\n",
    "        print('*', end = '')\n",
    "    print()"
   ]
  },
  {
   "cell_type": "code",
   "execution_count": 135,
   "metadata": {},
   "outputs": [
    {
     "name": "stdout",
     "output_type": "stream",
     "text": [
      "1\n",
      "22\n",
      "333\n",
      "4444\n",
      "55555\n"
     ]
    }
   ],
   "source": [
    "# (ii)\n",
    "for i1 in range(1,6):\n",
    "    for i2 in range(i1):\n",
    "        print(i1, end = '')\n",
    "    print()"
   ]
  },
  {
   "cell_type": "code",
   "execution_count": 136,
   "metadata": {},
   "outputs": [
    {
     "ename": "TypeError",
     "evalue": "can't multiply sequence by non-int of type 'str'",
     "output_type": "error",
     "traceback": [
      "\u001b[1;31m---------------------------------------------------------------------------\u001b[0m",
      "\u001b[1;31mTypeError\u001b[0m                                 Traceback (most recent call last)",
      "\u001b[1;32m<ipython-input-136-499b0a5a67b8>\u001b[0m in \u001b[0;36m<module>\u001b[1;34m\u001b[0m\n\u001b[0;32m      1\u001b[0m \u001b[1;31m# (iii)\u001b[0m\u001b[1;33m\u001b[0m\u001b[1;33m\u001b[0m\u001b[1;33m\u001b[0m\u001b[0m\n\u001b[0;32m      2\u001b[0m \u001b[1;32mfor\u001b[0m \u001b[0mi1\u001b[0m \u001b[1;32min\u001b[0m \u001b[0mrange\u001b[0m\u001b[1;33m(\u001b[0m\u001b[1;36m1\u001b[0m\u001b[1;33m,\u001b[0m\u001b[1;36m6\u001b[0m\u001b[1;33m)\u001b[0m\u001b[1;33m:\u001b[0m\u001b[1;33m\u001b[0m\u001b[1;33m\u001b[0m\u001b[0m\n\u001b[1;32m----> 3\u001b[1;33m     \u001b[0mprint\u001b[0m\u001b[1;33m(\u001b[0m\u001b[0mstr\u001b[0m\u001b[1;33m(\u001b[0m\u001b[0mi\u001b[0m\u001b[1;33m)\u001b[0m\u001b[1;33m*\u001b[0m\u001b[0mi\u001b[0m\u001b[1;33m)\u001b[0m\u001b[1;33m\u001b[0m\u001b[1;33m\u001b[0m\u001b[0m\n\u001b[0m",
      "\u001b[1;31mTypeError\u001b[0m: can't multiply sequence by non-int of type 'str'"
     ]
    }
   ],
   "source": [
    "# (iii)\n",
    "for i1 in range(1,6):\n",
    "    print(str(i)*i)"
   ]
  },
  {
   "cell_type": "code",
   "execution_count": 138,
   "metadata": {},
   "outputs": [
    {
     "name": "stdout",
     "output_type": "stream",
     "text": [
      "**\n",
      "***\n",
      "****\n",
      "*****\n",
      "******\n"
     ]
    }
   ],
   "source": [
    "# (iv)\n",
    "for i1 in range(1,6):\n",
    "    for i2 in range(i1 + 1):\n",
    "        print('*', end = '')\n",
    "    print()"
   ]
  }
 ],
 "metadata": {
  "kernelspec": {
   "display_name": "Python 3",
   "language": "python",
   "name": "python3"
  },
  "language_info": {
   "codemirror_mode": {
    "name": "ipython",
    "version": 3
   },
   "file_extension": ".py",
   "mimetype": "text/x-python",
   "name": "python",
   "nbconvert_exporter": "python",
   "pygments_lexer": "ipython3",
   "version": "3.8.3"
  }
 },
 "nbformat": 4,
 "nbformat_minor": 4
}
