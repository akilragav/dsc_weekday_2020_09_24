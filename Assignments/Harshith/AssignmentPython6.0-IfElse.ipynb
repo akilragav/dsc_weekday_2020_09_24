{
 "cells": [
  {
   "cell_type": "code",
   "execution_count": 4,
   "metadata": {},
   "outputs": [
    {
     "name": "stdout",
     "output_type": "stream",
     "text": [
      "Enter dividend : 121\n",
      "Enter divisor : 11\n",
      "True\n"
     ]
    }
   ],
   "source": [
    "# Prog1 - WAP to input 2 numbers and check whether the first is divisible by the second and print true or false \n",
    "        # depending on the divisibility.\n",
    "    \n",
    "dividend = int(input(\"Enter dividend : \"))\n",
    "divisor = int(input(\"Enter divisor : \"))\n",
    "\n",
    "if(dividend%divisor==0):\n",
    "    print(\"True\")\n",
    "else:\n",
    "    print(\"False\")\n"
   ]
  },
  {
   "cell_type": "code",
   "execution_count": 11,
   "metadata": {},
   "outputs": [
    {
     "name": "stdout",
     "output_type": "stream",
     "text": [
      "Enter string : maLaYALam\n",
      "Its a palindrome\n"
     ]
    }
   ],
   "source": [
    "# Prog2 - In the palindrome example, make the code case insensitive.\n",
    "         # i.e. Naman should also be treated as a palindrome (HINT: first convert to either upper or lower case).\n",
    "    \n",
    "s1 = (input(\"Enter string : \")).upper()\n",
    "s2 = s1[::-1]\n",
    "if(s1==s2):\n",
    "    print(\"Its a palindrome\")\n",
    "else:\n",
    "    print(\"Its not a palindrome\")\n"
   ]
  },
  {
   "cell_type": "code",
   "execution_count": 21,
   "metadata": {},
   "outputs": [
    {
     "name": "stdout",
     "output_type": "stream",
     "text": [
      "Length of side 1 : 4\n",
      "Length of side 2 : 4\n",
      "Length of side 3 : 4\n",
      "Equilateral Triangle\n"
     ]
    }
   ],
   "source": [
    "# Prog3 - WAP to input the sides of a triangle and print whether equilateral (all sides equal), \n",
    "        # isosceles (2 sides equal), or scalene (no sides equal).\n",
    "    \n",
    "x = int(input(\"Length of side 1 : \"))\n",
    "y = int(input(\"Length of side 2 : \"))\n",
    "z = int(input(\"Length of side 3 : \"))\n",
    "\n",
    "if(x==y and y==z):\n",
    "    print(\"Equilateral Triangle\")\n",
    "elif(x==y or y==z or x==z):\n",
    "    print(\"Isosceles Triangle\")\n",
    "else:\n",
    "    print(\"Scalene Triangle\")"
   ]
  },
  {
   "cell_type": "code",
   "execution_count": 25,
   "metadata": {},
   "outputs": [
    {
     "name": "stdout",
     "output_type": "stream",
     "text": [
      "Enter number : 0\n",
      "Even\n"
     ]
    }
   ],
   "source": [
    "# Prog4 - WAP to input a number and print if it is even or odd. \n",
    "\n",
    "n = int(input(\"Enter number : \"))\n",
    "if(n%2==0):\n",
    "    print(\"Even\")\n",
    "else:\n",
    "    print(\"Odd\")"
   ]
  },
  {
   "cell_type": "code",
   "execution_count": 37,
   "metadata": {},
   "outputs": [
    {
     "name": "stdout",
     "output_type": "stream",
     "text": [
      "Enter age : 100\n",
      "Senior Citizen\n"
     ]
    }
   ],
   "source": [
    "# Prog5 - WAP to input age and print the respective text\n",
    "        # depending on the age ranges as present in the table.\n",
    "    \n",
    "age = int(input(\"Enter age : \"))\n",
    "if(age in range(0,13)):\n",
    "    print(\"Child\")\n",
    "elif(age in range(13,18)):\n",
    "    print(\"Teen\")\n",
    "elif(age in range(18,51)):\n",
    "    print(\"Adult\")\n",
    "elif(age in range(51,101)):\n",
    "    print(\"Senior Citizen\")\n",
    "elif(age>100):\n",
    "    print(\"Congratulations\")\n",
    "else:\n",
    "    print(\"Please enter valid age\")"
   ]
  },
  {
   "cell_type": "code",
   "execution_count": null,
   "metadata": {},
   "outputs": [],
   "source": [
    "# Prog6 - WAP to input year (check if user enters valid year. Should be 4-digit number and should not be negative) \n",
    "    # and print whether leap year or not. (If really interested in why you also have to check\n",
    "    # the divisibility by 400 just google the exact time it takes for the earth to revolve around the sub) \n",
    "\n"
   ]
  },
  {
   "cell_type": "code",
   "execution_count": 48,
   "metadata": {},
   "outputs": [
    {
     "name": "stdout",
     "output_type": "stream",
     "text": [
      "Enter string : as\n",
      "Lower case. String - as\n"
     ]
    }
   ],
   "source": [
    "# Prog7 - WAP to input a string and convert it to Upper Case if number of characters is odd \n",
    "         # and convert to lower case otherwise\n",
    "    \n",
    "s = input(\"Enter string : \")\n",
    "if(len(s)%2!=0):\n",
    "    case = \"Upper\"\n",
    "    s = s.upper()\n",
    "else:\n",
    "    case = \"Lower\"\n",
    "    s = s.lower()\n",
    "print(f\"{case} case. String - {s}\")"
   ]
  },
  {
   "cell_type": "code",
   "execution_count": 54,
   "metadata": {},
   "outputs": [
    {
     "name": "stdout",
     "output_type": "stream",
     "text": [
      "Enter string : bdh dgwgdy EGG\n",
      "Veg\n"
     ]
    }
   ],
   "source": [
    "# Prog8 - WAP to input a string and print Veg if the string doesn’t contain the word egg. \n",
    "        # Otherwise print Non-Veg. As usual eggs can be both big and small.\n",
    "    \n",
    "s = input(\"Enter string : \")\n",
    "\n",
    "if(\"egg\" not in s or \"EGG\" not in s):\n",
    "    print(\"Veg\")\n",
    "else:\n",
    "    print(\"Non veg\")"
   ]
  },
  {
   "cell_type": "code",
   "execution_count": 72,
   "metadata": {},
   "outputs": [
    {
     "name": "stdout",
     "output_type": "stream",
     "text": [
      "True\n",
      "True\n",
      "Weird\n",
      "[4, 3, 2, 1]\n"
     ]
    }
   ],
   "source": [
    "# Prog9 - Give output of: \n",
    "\n",
    "# (i)\n",
    "if not 1:\n",
    "    print(\"False\")\n",
    "else:\n",
    "    print(\"True\")\n",
    "\n",
    "# (ii)    \n",
    "if 1:\n",
    "    print(\"True\")\n",
    "else:\n",
    "    print(\"False\")\n",
    "    \n",
    "# (iii)\n",
    "if 'a'> 'A':\n",
    "    print(\"Weird\")\n",
    "else:\n",
    "    print(\"Makes sense\")\n",
    "\n",
    "# (iv)\n",
    "a = [1,2,3,4]\n",
    "if 1>1:\n",
    "    a = a[::-1]\n",
    "else:\n",
    "    a = a[-1::-1]\n",
    "print(a)"
   ]
  },
  {
   "cell_type": "code",
   "execution_count": 82,
   "metadata": {},
   "outputs": [
    {
     "name": "stdout",
     "output_type": "stream",
     "text": [
      "Sub1 marks : 80\n",
      "Sub2 marks : 80\n",
      "Sub3 marks : 87\n",
      "Sub4 marks : 86\n",
      "Sub5 marks : 78\n",
      "\n",
      "Grade B\n"
     ]
    }
   ],
   "source": [
    "# Prog10 - WAP to input marks in 5 subjects and print the grade as per following logic: \n",
    "\n",
    "sub1 = float(input(\"Sub1 marks : \"))\n",
    "sub2 = float(input(\"Sub2 marks : \"))\n",
    "sub3 = float(input(\"Sub3 marks : \"))\n",
    "sub4 = float(input(\"Sub4 marks : \"))\n",
    "sub5 = float(input(\"Sub5 marks : \"))\n",
    "\n",
    "percentage = int(((sub1+sub2+sub3+sub4+sub5)/500)*100)\n",
    "\n",
    "print()\n",
    "\n",
    "if(percentage in range(90,101)):\n",
    "     print(\"Grade A\")\n",
    "elif(percentage in range(80,90)):\n",
    "     print(\"Grade B\")\n",
    "elif(percentage in range(60,80)):\n",
    "     print(\"Grade C\")\n",
    "elif(percentage<60):\n",
    "     print(\"Grade F\")\n",
    "\n",
    "    "
   ]
  },
  {
   "cell_type": "code",
   "execution_count": 90,
   "metadata": {},
   "outputs": [
    {
     "name": "stdout",
     "output_type": "stream",
     "text": [
      "Enter age : 30\n",
      "Enter salary : 300000\n",
      "Tax =  15000.0\n"
     ]
    }
   ],
   "source": [
    "#  Prog11 - WAP to input age and salary and calculate Tax as per tax rates if following table: \n",
    "\n",
    "age = int(input(\"Enter age : \"))\n",
    "sal = int(input(\"Enter salary : \"))\n",
    "\n",
    "def calc_tax(sal,percent):\n",
    "    tax = sal*percent\n",
    "    print(\"Tax = \", tax)\n",
    "\n",
    "if(sal in range(0,250001)):\n",
    "    if(age<60):\n",
    "        calc_tax(sal,0) \n",
    "    elif(age>=60):\n",
    "        calc_tax(sal,0)  \n",
    "elif(sal in range(250001,500001)):\n",
    "    if(age<60):\n",
    "        calc_tax(sal,0.05) \n",
    "    elif(age>=60):\n",
    "        calc_tax(sal,0.03)\n",
    "elif(sal in range(500001,1000001)):\n",
    "    if(age<60):\n",
    "        calc_tax(sal,0.1) \n",
    "    elif(age>=60):\n",
    "        calc_tax(sal,0.08)\n",
    "elif(sal > 1000001):\n",
    "    if(age<60):\n",
    "        calc_tax(sal,0.15) \n",
    "    elif(age>=60):\n",
    "        calc_tax(sal,0.12)\n",
    "else:\n",
    "    print(\"Please enter valid salary\")\n"
   ]
  },
  {
   "cell_type": "code",
   "execution_count": 96,
   "metadata": {},
   "outputs": [
    {
     "name": "stdout",
     "output_type": "stream",
     "text": [
      "10\n",
      "10\n",
      "10\n",
      "OMG\n"
     ]
    }
   ],
   "source": [
    "# Prog12 - Try each of the below statements separately (remember difference between statement and expression) \n",
    "          # on the python interpreter and guess the output before trying:\n",
    "\n",
    "print(20 if not 1==1 else 10)  # Here (not 1==1) =>(not True) --> False --> Hence O/P = 10\n",
    "\n",
    "print(30 if not 1==1 else 20 if 'a'<'A' else 10) \n",
    "                                # (30 if not 1==1 else 20) will be considered as o/p for second \"if\". So o/p = 10\n",
    "\n",
    "print(40 if not 1==1 else 30 if 'a'<'A' else 20 if '' else 10) \n",
    "                                # empty string => False\n",
    "\n",
    "print('No' if not 1==1 else ('No' if 'a'<'A' else ('OMG' if 'oh!!' else 'No')))\n",
    "                                # Brackets will get executed first"
   ]
  },
  {
   "cell_type": "code",
   "execution_count": 105,
   "metadata": {},
   "outputs": [
    {
     "name": "stdout",
     "output_type": "stream",
     "text": [
      "Enter weight in kg : 60\n",
      "Enter height in cm : 160\n",
      "Normal weight\n"
     ]
    }
   ],
   "source": [
    "# Prog13 - WAF: bmi() that takes the weight in kg and height in cm of a person, calculates and returns the BMI.\n",
    "            # Write code that calls this function after taking height and weight as inputs and then prints\n",
    "            # underweight, normal, overweight or obese depending on the value of BMI.\n",
    "            # Refer this link for the ranges:\n",
    "            #  https://en.wikipedia.org/wiki/Body_mass_index\n",
    "            \n",
    "weight = float(input(\"Enter weight in kg : \"))\n",
    "height = float(input(\"Enter height in cm : \"))\n",
    "\n",
    "import math\n",
    "def bmi(weight, height):\n",
    "    return weight/(math.pow(height/100,2))\n",
    "\n",
    "bmi = bmi(weight, height)\n",
    "\n",
    "if(bmi < 18.5):\n",
    "    print(\"Underweight\")\n",
    "elif(bmi > 18.5 and bmi < 25):\n",
    "    print(\"Normal weight\")\n",
    "elif(bmi in range(25,31)):\n",
    "    print(\"Over weight\")\n",
    "elif(bmi > 30):\n",
    "    print(\"Obese\")\n",
    "else:\n",
    "    print(\"Please enter valid weight and height\")\n"
   ]
  },
  {
   "cell_type": "code",
   "execution_count": 111,
   "metadata": {},
   "outputs": [
    {
     "name": "stdout",
     "output_type": "stream",
     "text": [
      "A's age : 50\n",
      "B's age : 40\n",
      "C's age : 40\n",
      "A is oldest\n",
      "B is youngest\n"
     ]
    }
   ],
   "source": [
    "# Prog14 - Take input of age of 3 people by user and determine oldest and youngest among them.\n",
    "\n",
    "a = int(input(\"A's age : \"))\n",
    "b = int(input(\"B's age : \"))\n",
    "c = int(input(\"C's age : \"))\n",
    "\n",
    "if(a==b and a==c):\n",
    "    print(\"All ages are equal\")\n",
    "if(a>=b and a>=c):\n",
    "    print(\"A is oldest\")\n",
    "    print(\"C is youngest\" if b>=c else \"B is youngest\")      \n",
    "elif(b>a and b>c):\n",
    "    print(\"B is oldest\")\n",
    "    print(\"C is youngest\" if a>=c else \"A is youngest\") \n",
    "else:\n",
    "    print(\"C is oldest\")\n",
    "    print(\"B is youngest\" if a>=b else \"A is youngest\")"
   ]
  },
  {
   "cell_type": "code",
   "execution_count": 113,
   "metadata": {},
   "outputs": [
    {
     "name": "stdout",
     "output_type": "stream",
     "text": [
      "Enter number : 10\n",
      "Not divisible\n"
     ]
    }
   ],
   "source": [
    "# Prog15 - WAP to input a number and check if number is divisible by both 5 and 7.\n",
    "\n",
    "n = int(input(\"Enter number : \"))\n",
    "\n",
    "if(n%5==0 and n%7==0):\n",
    "    print(\"Divisible by both 5 and 7\")\n",
    "else:\n",
    "    print(\"Not divisible\")\n"
   ]
  }
 ],
 "metadata": {
  "kernelspec": {
   "display_name": "Python 3",
   "language": "python",
   "name": "python3"
  },
  "language_info": {
   "codemirror_mode": {
    "name": "ipython",
    "version": 3
   },
   "file_extension": ".py",
   "mimetype": "text/x-python",
   "name": "python",
   "nbconvert_exporter": "python",
   "pygments_lexer": "ipython3",
   "version": "3.8.3"
  }
 },
 "nbformat": 4,
 "nbformat_minor": 4
}
