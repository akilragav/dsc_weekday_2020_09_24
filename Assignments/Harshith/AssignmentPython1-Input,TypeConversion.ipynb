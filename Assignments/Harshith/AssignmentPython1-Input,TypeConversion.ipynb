{
 "cells": [
  {
   "cell_type": "code",
   "execution_count": 90,
   "metadata": {},
   "outputs": [
    {
     "name": "stdout",
     "output_type": "stream",
     "text": [
      "Enter the temperature in  Fahrenhiet : 140\n",
      "60.0\n"
     ]
    }
   ],
   "source": [
    "# Prog 1 - Input Temprature in Fahrenheit and display in Celsius.\n",
    "temp_Fahrenhiet = float(input(\"Enter the temperature in  Fahrenhiet : \"))\n",
    "print((temp_Fahrenhiet-32)*5/9)\n"
   ]
  },
  {
   "cell_type": "code",
   "execution_count": null,
   "metadata": {},
   "outputs": [],
   "source": [
    "# Prog 2 - Print square and cube of given number\n",
    "\n",
    "num = int(input(\"Enter a number to calculate square and cube : \"))\n",
    "square = num*num\n",
    "cube = num*num*num\n",
    "print(\"Square : \" + str(square))\n",
    "print(\"Cube : \" + str(cube))"
   ]
  },
  {
   "cell_type": "code",
   "execution_count": 18,
   "metadata": {},
   "outputs": [
    {
     "name": "stdout",
     "output_type": "stream",
     "text": [
      "Enter a numeric value for n : 3\n",
      "Enter a numeric value for m : 3\n",
      "Result:  18.0\n"
     ]
    }
   ],
   "source": [
    "# Prog 3 - Input: n,m and Output: n**2 + m**2\n",
    "\n",
    "n = input(\"Enter a numeric value for n : \")\n",
    "m = input(\"Enter a numeric value for m : \")\n",
    "if n.isdigit() and m.isdigit() :\n",
    "    result = (float(n)**2)+(float(m)**2)\n",
    "    print(\"Result: \", result)\n",
    "else :\n",
    "    print(\"Please enter numeric value\")"
   ]
  },
  {
   "cell_type": "code",
   "execution_count": 19,
   "metadata": {},
   "outputs": [
    {
     "name": "stdout",
     "output_type": "stream",
     "text": [
      "Enter a numeric value for m : d\n",
      "Enter a numeric value for n : d\n",
      "Please enter numeric value\n"
     ]
    }
   ],
   "source": [
    "# Prog 4.1 - Input: m,n and Output: m power n (using **)\n",
    "\n",
    "m = input(\"Enter a numeric value for m : \")\n",
    "n = input(\"Enter a numeric value for n : \")\n",
    "if n.isdigit() and m.isdigit() :\n",
    "    result = (float(m)**float(n))\n",
    "    print(\"Result of m power n : \", result)\n",
    "else :\n",
    "    print(\"Please enter numeric value\")"
   ]
  },
  {
   "cell_type": "code",
   "execution_count": 15,
   "metadata": {},
   "outputs": [
    {
     "name": "stdout",
     "output_type": "stream",
     "text": [
      "Enter a numeric value for m : 3\n",
      "Enter a numeric value for n : 2\n",
      "Result of m power n :  9.0\n"
     ]
    }
   ],
   "source": [
    "# Prog 4.2 - Input: m,n and Output: m power n (using pow function)\n",
    "\n",
    "m = input(\"Enter a numeric value for m : \")\n",
    "n = input(\"Enter a numeric value for n : \")\n",
    "if n.isdigit() and m.isdigit() :\n",
    "    result = (pow(float(m),float(n)))\n",
    "    print(\"Result of m power n : \", result)\n",
    "else :\n",
    "    print(\"Please enter numeric value\")"
   ]
  },
  {
   "cell_type": "code",
   "execution_count": 65,
   "metadata": {},
   "outputs": [
    {
     "name": "stdout",
     "output_type": "stream",
     "text": [
      "Enter principal amount : 1000\n",
      "Enter time period : 2\n",
      "Enter annual rate of interest : .5\n",
      "Simple Interest :  0.1\n",
      "Annual amount :  1010.0\n"
     ]
    }
   ],
   "source": [
    "# Prog 5 - Simple Interest Calculator\n",
    "\n",
    "principal_amount = float(input(\"Enter principal amount : \"))\n",
    "time = float(input(\"Enter time period : \"))\n",
    "interest = float(input(\"Enter annual rate of interest : \"))\n",
    "rate = interest/100\n",
    "simple_interest = (principal_amount*time*rate)/100\n",
    "total_amount = principal_amount*(1+(time*rate))\n",
    "print(\"Simple Interest : \", simple_interest)\n",
    "print(\"Total amount : \", total_amount)"
   ]
  },
  {
   "cell_type": "code",
   "execution_count": 68,
   "metadata": {},
   "outputs": [
    {
     "name": "stdout",
     "output_type": "stream",
     "text": [
      "Enter the principal amount: 1000\n",
      "Enter the time period (in years): 2\n",
      "Enter the annual rate of interest: 0.5\n",
      "Enter the number of times the interest applies per time period (annually,biannually,quaterly,..): 2\n",
      "The Compount Interest:  10.037562539062264\n",
      "Total amount:  1010.0375625390623\n"
     ]
    }
   ],
   "source": [
    "# Prog 6 - Compound Interest Calculator\n",
    "\n",
    "principal_amt = float(input(\"Enter the principal amount: \"))\n",
    "time = float(input(\"Enter the time period (in years): \"))\n",
    "rate = float(input(\"Enter the annual rate of interest: \"))\n",
    "rate = interest/100\n",
    "n = float(input(\"Enter the number of times the interest applies per time period (annually,biannually,quaterly,..): \"))\n",
    "total_amount = principal_amount*((1+rate/n)**(n*time))\n",
    "comp_interest = total_amount-principal_amt\n",
    "print(\"The Compount Interest: \", comp_interest)\n",
    "print(\"Total amount: \", total_amount)"
   ]
  },
  {
   "cell_type": "code",
   "execution_count": 71,
   "metadata": {},
   "outputs": [
    {
     "name": "stdout",
     "output_type": "stream",
     "text": [
      "Enter a natural number  : 6\n",
      "21\n"
     ]
    }
   ],
   "source": [
    "# Prog 7 - sum of first n natural numbers\n",
    "\n",
    "n = int(input(\"Enter a natural number  : \"))\n",
    "num = 1\n",
    "sum = 0\n",
    "while(num<=n):\n",
    "    sum = sum + num\n",
    "    num = num + 1\n",
    "print(sum)"
   ]
  },
  {
   "cell_type": "code",
   "execution_count": 76,
   "metadata": {},
   "outputs": [
    {
     "name": "stdout",
     "output_type": "stream",
     "text": [
      "Enter a number for A : 23\n",
      "Enter a number for B : 45\n",
      "A :  45\n",
      "B :  23\n"
     ]
    }
   ],
   "source": [
    "# Prog 8 - i) Swap numbers using temp\n",
    "\n",
    "num1 = int(input(\"Enter a number for A : \"))\n",
    "num2 = int(input(\"Enter a number for B : \"))\n",
    "temp = num1\n",
    "num1 = num2\n",
    "num2 = temp\n",
    "print(\"A : \", num1)\n",
    "print(\"B : \", num2)"
   ]
  },
  {
   "cell_type": "code",
   "execution_count": 78,
   "metadata": {},
   "outputs": [
    {
     "name": "stdout",
     "output_type": "stream",
     "text": [
      "Enter a number for A : 12\n",
      "Enter a number for B : 25\n",
      "A :  25\n",
      "B :  12\n"
     ]
    }
   ],
   "source": [
    "# Prog 8 - ii) Swap numbers in pythonic way\n",
    "\n",
    "num1 = int(input(\"Enter a number for A : \"))\n",
    "num2 = int(input(\"Enter a number for B : \"))\n",
    "num1, num2 = num2, num1\n",
    "print(\"A : \", num1)\n",
    "print(\"B : \", num2)"
   ]
  },
  {
   "cell_type": "code",
   "execution_count": 81,
   "metadata": {},
   "outputs": [
    {
     "name": "stdout",
     "output_type": "stream",
     "text": [
      "32\n"
     ]
    }
   ],
   "source": [
    "# Prog 9 - ord() function - Return the Unicode code point for a one-character string.\n",
    "print(ord(' '))"
   ]
  },
  {
   "cell_type": "code",
   "execution_count": 85,
   "metadata": {},
   "outputs": [
    {
     "name": "stdout",
     "output_type": "stream",
     "text": [
      "Enter a character to find the ASCII value :a\n",
      "97\n"
     ]
    }
   ],
   "source": [
    "# Prog 10 - ord() function - Return the Unicode code point for a one-character string.\n",
    "char = input(\"Enter a character to find the ASCII value : \")\n",
    "print(ord(char))"
   ]
  },
  {
   "cell_type": "code",
   "execution_count": 88,
   "metadata": {},
   "outputs": [
    {
     "name": "stdout",
     "output_type": "stream",
     "text": [
      "Enter area of circle : 25\n",
      "Radius of circle :  2.8216632399155017\n",
      "Circumference of circle :  17.720045146669353\n"
     ]
    }
   ],
   "source": [
    "# Prog 11 - Area of Circle\n",
    "area_of_circle = float(input(\"Enter area of circle : \"))\n",
    "import math\n",
    "radius = math.sqrt(area_of_circle/3.14)\n",
    "circumference = 2 * 3.14 * radius\n",
    "print(\"Radius of circle : \", radius)\n",
    "print(\"Circumference of circle : \", circumference)"
   ]
  },
  {
   "cell_type": "code",
   "execution_count": 89,
   "metadata": {},
   "outputs": [
    {
     "name": "stdout",
     "output_type": "stream",
     "text": [
      "Enter marks in following subjects\n",
      "Maths : 60\n",
      "Science : 50\n",
      "Social : 80\n",
      "English : 90\n",
      "Comp : 100\n",
      "Percentage : 76.0\n"
     ]
    }
   ],
   "source": [
    "# Prog12 - Calculate Percentage of based on marks of 5 subjects\n",
    "print(\"Enter marks in following subjects\")\n",
    "maths = int(input(\"Maths : \"))\n",
    "science = int(input(\"Science : \"))\n",
    "social = int(input(\"Social : \"))\n",
    "english = int(input(\"English : \"))\n",
    "comp = int(input(\"Comp : \"))\n",
    "percentage = ((maths + science + social + english + comp) / 500) * 100\n",
    "print(\"Percentage : \", percentage)"
   ]
  }
 ],
 "metadata": {
  "kernelspec": {
   "display_name": "Python 3",
   "language": "python",
   "name": "python3"
  },
  "language_info": {
   "codemirror_mode": {
    "name": "ipython",
    "version": 3
   },
   "file_extension": ".py",
   "mimetype": "text/x-python",
   "name": "python",
   "nbconvert_exporter": "python",
   "pygments_lexer": "ipython3",
   "version": "3.8.3"
  }
 },
 "nbformat": 4,
 "nbformat_minor": 4
}
