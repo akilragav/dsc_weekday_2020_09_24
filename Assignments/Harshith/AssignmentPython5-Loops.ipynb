{
 "cells": [
  {
   "cell_type": "code",
   "execution_count": 3,
   "metadata": {},
   "outputs": [
    {
     "name": "stdout",
     "output_type": "stream",
     "text": [
      "Enter n : 5\n",
      "0\n",
      "1\n",
      "2\n",
      "3\n",
      "4\n",
      "0\n",
      "1\n",
      "2\n",
      "3\n",
      "4\n"
     ]
    }
   ],
   "source": [
    "# Prog1 - WAP to print first n natural numbers (input n from user).\n",
    "\n",
    "# using while loop\n",
    "n = int(input(\"Enter n : \"))\n",
    "i=1\n",
    "while i<=n :\n",
    "   print(i) \n",
    "   i+=1  \n",
    "    \n",
    "# using for loop    \n",
    "for i in range(0,n+1):\n",
    "    print(i)\n",
    "    \n",
    "    \n",
    "# range(start, end, [step]) - end acts like between "
   ]
  },
  {
   "cell_type": "code",
   "execution_count": 5,
   "metadata": {},
   "outputs": [
    {
     "name": "stdout",
     "output_type": "stream",
     "text": [
      "Enter n : 5\n",
      "15\n"
     ]
    }
   ],
   "source": [
    "# Prog2 - WAP to find sum of first n natural numbers \n",
    "\n",
    "n = int(input(\"Enter n : \"))\n",
    "sum =0\n",
    "\n",
    "for i in range(1,n+1):\n",
    "    sum = sum + i\n",
    "    \n",
    "print(sum)    "
   ]
  },
  {
   "cell_type": "code",
   "execution_count": 7,
   "metadata": {},
   "outputs": [
    {
     "name": "stdout",
     "output_type": "stream",
     "text": [
      "Enter n : 5\n",
      "5 4 3 2 1 "
     ]
    }
   ],
   "source": [
    "# Prog3 - WAP to print first n natural numbers in reverse order.\n",
    "\n",
    "n = int(input(\"Enter n : \"))\n",
    "\n",
    "i=n\n",
    "while i>0:\n",
    "    print(i,end=\" \")\n",
    "    i-=1\n",
    "    "
   ]
  },
  {
   "cell_type": "code",
   "execution_count": 17,
   "metadata": {},
   "outputs": [
    {
     "name": "stdout",
     "output_type": "stream",
     "text": [
      "Enter n : 1\n",
      "1\n"
     ]
    }
   ],
   "source": [
    "# Prog4 - WAP to input a number and print its factorial.\n",
    "\n",
    "n = int(input(\"Enter n : \"))\n",
    "i=n\n",
    "fact=1\n",
    "while i>0:\n",
    "    fact = fact*(i)\n",
    "    i-=1\n",
    "print(fact)"
   ]
  },
  {
   "cell_type": "code",
   "execution_count": 20,
   "metadata": {},
   "outputs": [
    {
     "name": "stdout",
     "output_type": "stream",
     "text": [
      "Enter n : 10\n",
      "0\n",
      "1\n",
      "1\n",
      "2\n",
      "3\n",
      "5\n",
      "8\n"
     ]
    }
   ],
   "source": [
    "# Prog5 - WAP to print Fibonacci sequence till n.\n",
    "\n",
    "n = int(input(\"Enter n : \"))\n",
    "\n",
    "i=0\n",
    "j=1\n",
    "while i<n:\n",
    "    print(i)\n",
    "    i, j = j , i+j"
   ]
  },
  {
   "cell_type": "code",
   "execution_count": 33,
   "metadata": {},
   "outputs": [
    {
     "name": "stdout",
     "output_type": "stream",
     "text": [
      "Enter n : 123\n",
      "1\n",
      "2\n",
      "3\n"
     ]
    }
   ],
   "source": [
    "# Prog6 - WAP to print all digits of a number input from user.\n",
    "\n",
    "n = input(\"Enter n : \")\n",
    "\n",
    "for i in n:\n",
    "    print(i)"
   ]
  },
  {
   "cell_type": "code",
   "execution_count": 35,
   "metadata": {},
   "outputs": [
    {
     "name": "stdout",
     "output_type": "stream",
     "text": [
      "Enter n : 123\n",
      "6\n"
     ]
    }
   ],
   "source": [
    "# Prog7 - WAP to find sum of all digits of a number.\n",
    "\n",
    "n = int(input(\"Enter n : \"))\n",
    "\n",
    "digit=0\n",
    "sum=0\n",
    "while n>0:\n",
    "   digit = n%10\n",
    "   sum = sum + digit\n",
    "   n=n//10 \n",
    "\n",
    "print(sum)"
   ]
  },
  {
   "cell_type": "code",
   "execution_count": 48,
   "metadata": {},
   "outputs": [
    {
     "name": "stdout",
     "output_type": "stream",
     "text": [
      "Enter n : 5\n",
      "Sum :  153\n"
     ]
    }
   ],
   "source": [
    "# Prog8 - WAP to find sum of following series given n as input from user\n",
    "        # 1 + 2! + 3! + 4! + 5! + ….n!\n",
    "        # Where n! denotes the factorial of number n. \n",
    "        \n",
    "\n",
    "n = int(input(\"Enter n : \"))\n",
    "\n",
    "j=n\n",
    "\n",
    "i=1\n",
    "sum=0\n",
    "while i<=n:\n",
    "    j=i\n",
    "    fact=1\n",
    "    while j>0:\n",
    "        fact = fact*j\n",
    "        j-=1    \n",
    "    sum = sum + fact\n",
    "    i+=1\n",
    "print(\"Sum : \",sum)\n"
   ]
  },
  {
   "cell_type": "code",
   "execution_count": 50,
   "metadata": {},
   "outputs": [
    {
     "name": "stdout",
     "output_type": "stream",
     "text": [
      "Enter base : 2\n",
      "Enter exponent : 4\n",
      "16\n"
     ]
    }
   ],
   "source": [
    "# Prog9 - WAP to input base and exponent and print result without using inbuilt function pow(use for or while loop). \n",
    "\n",
    "base = int(input(\"Enter base : \"))\n",
    "expo = int(input(\"Enter exponent : \"))\n",
    "\n",
    "for i in range(1,expo):\n",
    "    pow = base**expo\n",
    "print(pow)    "
   ]
  },
  {
   "cell_type": "code",
   "execution_count": null,
   "metadata": {},
   "outputs": [],
   "source": [
    "# 10. Print following patterns: "
   ]
  },
  {
   "cell_type": "code",
   "execution_count": 70,
   "metadata": {},
   "outputs": [
    {
     "name": "stdout",
     "output_type": "stream",
     "text": [
      "* \n",
      "\n",
      "* * \n",
      "\n",
      "* * * \n",
      "\n",
      "* * * * \n",
      "\n",
      "* * * * * \n",
      "\n"
     ]
    }
   ],
   "source": [
    "for i in range(1,6):\n",
    "    for j in range(0,i):\n",
    "        print(\"*\", end=\" \")\n",
    "        i-=1\n",
    "    print(\"\\n\")    "
   ]
  },
  {
   "cell_type": "code",
   "execution_count": 5,
   "metadata": {},
   "outputs": [
    {
     "name": "stdout",
     "output_type": "stream",
     "text": [
      "            \n",
      "\n",
      "          * \n",
      "\n",
      "        * * \n",
      "\n",
      "      * * * \n",
      "\n",
      "    * * * * \n",
      "\n",
      "  * * * * * \n",
      "\n"
     ]
    }
   ],
   "source": [
    "for i in range(0,6):\n",
    "    for j in range(6,0,-1):\n",
    "        if(i<j):\n",
    "            print(\" \",end=\" \")\n",
    "        else:\n",
    "            print(\"*\", end=\" \")\n",
    "    print(\"\\n\")"
   ]
  },
  {
   "cell_type": "code",
   "execution_count": 90,
   "metadata": {},
   "outputs": [
    {
     "name": "stdout",
     "output_type": "stream",
     "text": [
      "Enter number of rows : 4\n",
      "   * \n",
      "\n",
      "  * * \n",
      "\n",
      " * * * \n",
      "\n",
      "* * * * \n",
      "\n"
     ]
    }
   ],
   "source": [
    "n = int(input(\"Enter number of rows : \"))\n",
    "s=n-1\n",
    "c=1\n",
    "\n",
    "for i in range(0,n):\n",
    "    for j in range(0,s):\n",
    "        print(\" \", end=\"\")\n",
    "    for j in range(0,c):\n",
    "        print(\"*\", end=\" \")\n",
    "    s-=1\n",
    "    c+=1\n",
    "    print(\"\\n\")"
   ]
  },
  {
   "cell_type": "code",
   "execution_count": null,
   "metadata": {},
   "outputs": [],
   "source": [
    "# 11. Print following number patterns: "
   ]
  },
  {
   "cell_type": "code",
   "execution_count": 23,
   "metadata": {},
   "outputs": [
    {
     "name": "stdout",
     "output_type": "stream",
     "text": [
      "1\n",
      "22\n",
      "333\n",
      "4444\n",
      "55555\n"
     ]
    }
   ],
   "source": [
    "\n",
    "for i in range(1,6):\n",
    "    print(i,end=\"\")\n",
    "    for j in range(0,i):\n",
    "        if(j!=0):\n",
    "            print(i,end=\"\")\n",
    "    print()"
   ]
  },
  {
   "cell_type": "code",
   "execution_count": 29,
   "metadata": {},
   "outputs": [
    {
     "name": "stdout",
     "output_type": "stream",
     "text": [
      "\n",
      "1\n",
      "12\n",
      "123\n",
      "1234\n",
      "12345\n"
     ]
    }
   ],
   "source": [
    "for i in range(1,7):\n",
    "    for j in range(0,i):\n",
    "        if(j!=0):\n",
    "            print(j,end=\"\")\n",
    "    print()"
   ]
  },
  {
   "cell_type": "code",
   "execution_count": 49,
   "metadata": {},
   "outputs": [
    {
     "name": "stdout",
     "output_type": "stream",
     "text": [
      "5\n",
      "44\n",
      "333\n",
      "2222\n",
      "11111\n"
     ]
    }
   ],
   "source": [
    "for i in range(5,0,-1):\n",
    "    print(i, end=\"\")\n",
    "    for j in range(i,5):\n",
    "        print(i, end=\"\")\n",
    "    print()"
   ]
  },
  {
   "cell_type": "code",
   "execution_count": 58,
   "metadata": {},
   "outputs": [
    {
     "name": "stdout",
     "output_type": "stream",
     "text": [
      "     1\n",
      "    22\n",
      "   333\n",
      "  4444\n",
      " 55555\n"
     ]
    }
   ],
   "source": [
    "for i in range(1,6):\n",
    "    for j in range(6,i,-1):\n",
    "        print(\" \", end=\"\")\n",
    "    for k in range(0,i):\n",
    "        print(i, end=\"\")\n",
    "    print()"
   ]
  },
  {
   "cell_type": "code",
   "execution_count": null,
   "metadata": {},
   "outputs": [],
   "source": [
    "# 12. Print following character patterns: "
   ]
  },
  {
   "cell_type": "code",
   "execution_count": 157,
   "metadata": {},
   "outputs": [
    {
     "name": "stdout",
     "output_type": "stream",
     "text": [
      "A\n",
      "AB\n",
      "ABC\n",
      "ABCD\n",
      "ABCDE\n"
     ]
    }
   ],
   "source": [
    "for i in range(1,6):\n",
    "    count=0\n",
    "    for j in range(i,0,-1):\n",
    "        print(chr(65+count),end=\"\")\n",
    "        count+=1\n",
    "    print()"
   ]
  },
  {
   "cell_type": "code",
   "execution_count": 102,
   "metadata": {},
   "outputs": [
    {
     "name": "stdout",
     "output_type": "stream",
     "text": [
      "A\n",
      "BC\n",
      "DEF\n",
      "GHIJ\n",
      "KLMNO\n"
     ]
    }
   ],
   "source": [
    "count=0\n",
    "for i in range(1,6):\n",
    "    for j in range(i,0,-1):\n",
    "        print(chr(65+count),end=\"\")\n",
    "        count+=1\n",
    "    print()"
   ]
  },
  {
   "cell_type": "code",
   "execution_count": 159,
   "metadata": {},
   "outputs": [
    {
     "name": "stdout",
     "output_type": "stream",
     "text": [
      "A\n",
      "BB\n",
      "CCC\n",
      "DDDD\n",
      "EEEEE\n"
     ]
    }
   ],
   "source": [
    "for i in range(1,6):\n",
    "    for j in range(0,i):\n",
    "        print(chr(64+i),end=\"\")\n",
    "    print()"
   ]
  },
  {
   "cell_type": "code",
   "execution_count": 156,
   "metadata": {},
   "outputs": [
    {
     "name": "stdout",
     "output_type": "stream",
     "text": [
      "     A\n",
      "    ABA\n",
      "   ABCBA\n",
      "  ABCDCBA\n",
      " ABCDEDCBA\n"
     ]
    }
   ],
   "source": [
    "for i in range(1,6):\n",
    "    for j in range(i,6):\n",
    "        print(\" \", end=\"\")\n",
    "    count=0\n",
    "    for k in range(i,0,-1):\n",
    "        print(chr(65+count), end=\"\")\n",
    "        count+=1\n",
    "    if(i!=1):\n",
    "        #print(count)\n",
    "        count_r=i-2\n",
    "        for l in range(0,i-1):\n",
    "            print(chr(65+count_r), end=\"\")\n",
    "            count_r-=1\n",
    "    print()"
   ]
  }
 ],
 "metadata": {
  "kernelspec": {
   "display_name": "Python 3",
   "language": "python",
   "name": "python3"
  },
  "language_info": {
   "codemirror_mode": {
    "name": "ipython",
    "version": 3
   },
   "file_extension": ".py",
   "mimetype": "text/x-python",
   "name": "python",
   "nbconvert_exporter": "python",
   "pygments_lexer": "ipython3",
   "version": "3.8.3"
  }
 },
 "nbformat": 4,
 "nbformat_minor": 4
}
