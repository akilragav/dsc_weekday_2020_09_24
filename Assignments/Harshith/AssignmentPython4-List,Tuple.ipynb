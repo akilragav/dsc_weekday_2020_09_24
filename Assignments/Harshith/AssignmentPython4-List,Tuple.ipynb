{
 "cells": [
  {
   "cell_type": "code",
   "execution_count": 40,
   "metadata": {},
   "outputs": [
    {
     "name": "stdout",
     "output_type": "stream",
     "text": [
      "[1, 2, 3, 4, 5]\n",
      "[1, 2, 3, 4, 5]\n"
     ]
    }
   ],
   "source": [
    "# Prog1 - Convert a Tuple t = (1,2,3,4,5) to a list.\n",
    "\n",
    "t = (1,2,3,4,5)\n",
    "l = []\n",
    "for i in t:\n",
    "    l.append(i)\n",
    "print(l)\n",
    "\n",
    "\n",
    "# OR (using extend())\n",
    "\n",
    "t = (1,2,3,4,5)\n",
    "l = []\n",
    "l.extend(t)\n",
    "print(l)"
   ]
  },
  {
   "cell_type": "code",
   "execution_count": 38,
   "metadata": {},
   "outputs": [
    {
     "name": "stdout",
     "output_type": "stream",
     "text": [
      "None\n",
      "[[1, 3, 5, 7], (8, 6, 4, 2)]\n"
     ]
    }
   ],
   "source": [
    "# Prog2 -  WAP to join a list and a tuple:\n",
    "          # L = [1,3,5,7]\n",
    "          # T = (8,6,4,2)\n",
    "        # Store the result in a list LS \n",
    "\n",
    "l = [1,3,5,7]\n",
    "t = (8,6,4,2)\n",
    "ls=[]\n",
    "print(ls.append(l))\n",
    "ls.append(t)\n",
    "print(ls)"
   ]
  },
  {
   "cell_type": "code",
   "execution_count": null,
   "metadata": {},
   "outputs": [],
   "source": [
    "# Prog3 - What is difference between list and tuple. \n",
    "\n",
    "List is mutable whereas tuple is immutable\n"
   ]
  },
  {
   "cell_type": "code",
   "execution_count": 56,
   "metadata": {},
   "outputs": [
    {
     "name": "stdout",
     "output_type": "stream",
     "text": [
      "Before reverse:  ['a', 'd', 'c', 'A', 'C']\n",
      "None\n",
      "After reverse:  ['C', 'A', 'c', 'd', 'a']\n",
      "Reverse using slicing :  ['C', 'A', 'c', 'd', 'a']\n"
     ]
    }
   ],
   "source": [
    "# Prog4 - Print the list in reverse order\n",
    "         # l = [‘a’, ‘d’, ‘c’, ‘A’, ‘C’] \n",
    "\n",
    "l = ['a', 'd', 'c', 'A', 'C']\n",
    "print(\"Before reverse: \",l)\n",
    "print(l.reverse())\n",
    "print(\"After reverse: \",l)\n",
    "\n",
    "\n",
    "# OR (using slicing - without modifying original list)\n",
    "\n",
    "l = ['a', 'd', 'c', 'A', 'C']\n",
    "print(\"Reverse using slicing : \", l[-1:-6:-1])\n",
    "\n"
   ]
  },
  {
   "cell_type": "code",
   "execution_count": 61,
   "metadata": {},
   "outputs": [
    {
     "data": {
      "text/plain": [
       "[11, 21, 31, 41]"
      ]
     },
     "execution_count": 61,
     "metadata": {},
     "output_type": "execute_result"
    }
   ],
   "source": [
    "# Prog5 - Print Elements at Odd indexes from a list (Do not use loop)\n",
    "         # l = [10,11,20, 21,30, 31, 40, 41] \n",
    "\n",
    "# Slicing    \n",
    "l = [10,11,20, 21,30, 31, 40, 41]\n",
    "l[1::2]"
   ]
  },
  {
   "cell_type": "code",
   "execution_count": 75,
   "metadata": {},
   "outputs": [
    {
     "name": "stdout",
     "output_type": "stream",
     "text": [
      "[1, 3, 5, 7]\n",
      "[1, 3, 5, 7]\n",
      "[1, 3, 5, 7]\n",
      "[1, 3, 5, 7]\n"
     ]
    }
   ],
   "source": [
    "# Prog6 - How many ways you can copy a list. \n",
    "\n",
    "# Way1 : Using copy() function\n",
    "l = [1,3,5,7]\n",
    "lst1 = l.copy()\n",
    "print(lst1)\n",
    "\n",
    "# Way2 : Using assignment operator\n",
    "lst2 = l\n",
    "print(lst2)\n",
    "\n",
    "# Way3 : Using for loop and append()\n",
    "lst3 = []\n",
    "for i in lst:\n",
    "    lst3.append(i)\n",
    "print(lst3)\n",
    "\n",
    "# Way4 : Using Slicing \n",
    "lst4 = lst[::]\n",
    "print(lst4)\n"
   ]
  },
  {
   "cell_type": "code",
   "execution_count": 77,
   "metadata": {},
   "outputs": [
    {
     "name": "stdout",
     "output_type": "stream",
     "text": [
      "a\n",
      "5\n"
     ]
    }
   ],
   "source": [
    "# Prog7 - Predict output :\n",
    "\n",
    "n_list = [\"Happy\", [2,0,1,5]]\n",
    "print(n_list[0][1])\n",
    "print(n_list[1][3])\n",
    "\n",
    "# Output - a\n",
    "#          5 "
   ]
  },
  {
   "cell_type": "code",
   "execution_count": 79,
   "metadata": {},
   "outputs": [
    {
     "name": "stdout",
     "output_type": "stream",
     "text": [
      "[1, 4, 6, 8]\n",
      "[1, 3, 5, 7]\n"
     ]
    }
   ],
   "source": [
    "# Prog8 - Predict output :\n",
    "\n",
    "odd = [2,4,6,8]\n",
    "odd[0] = 1\n",
    "print(odd)\n",
    "odd[1:4] = [3,5,7]        # Slicing considers end index as well. (Not like between)\n",
    "print(odd)\n",
    "\n",
    "# Output - [1,4,6,8]\n",
    "#          [1,3,5,7]        "
   ]
  },
  {
   "cell_type": "code",
   "execution_count": 82,
   "metadata": {},
   "outputs": [
    {
     "name": "stdout",
     "output_type": "stream",
     "text": [
      "[1, 3, 5, [7, 9]]\n",
      "[1, 3, 5, [7, 9], 11, 13]\n"
     ]
    }
   ],
   "source": [
    "# Prog9 - Predict output :                 ************** IMP ************\n",
    "\n",
    "odd = [1,3,5]\n",
    "odd.append([7,9])                       # append(*element*) --> adds element at the end of list\n",
    "print(odd)\n",
    "odd.extend([11,13])                     # extend(*seq*) --> add elements of sequence as individual elements\n",
    "print(odd)\n",
    "\n",
    "# Output -  [1,3,5,[7,9]]\n",
    "#           [1,3,5,[7,9],11,13]"
   ]
  },
  {
   "cell_type": "code",
   "execution_count": 86,
   "metadata": {},
   "outputs": [
    {
     "name": "stdout",
     "output_type": "stream",
     "text": [
      "<class 'tuple'>\n",
      "<class 'int'>\n",
      "<class 'int'>\n",
      "<class 'tuple'>\n"
     ]
    }
   ],
   "source": [
    "# Prog10 - Predict output :\n",
    "\n",
    "x = 1,2,3 ; print(type(x)) \n",
    "x = (1) ; print(type(x))     # <class 'int'>\n",
    "x = 1 ; print(type(x))\n",
    "x = 1, ; print(type(x))"
   ]
  },
  {
   "cell_type": "code",
   "execution_count": 88,
   "metadata": {},
   "outputs": [
    {
     "name": "stdout",
     "output_type": "stream",
     "text": [
      "[[1, 2, 3], [4, 5, 6], [7, 8, 9]]\n"
     ]
    }
   ],
   "source": [
    "# Prog11 - Try to represent a matrix with following data in python:\n",
    "\n"
   ]
  },
  {
   "cell_type": "code",
   "execution_count": 89,
   "metadata": {},
   "outputs": [
    {
     "name": "stdout",
     "output_type": "stream",
     "text": [
      "('s', 't', 'r', 'i', 'n', 'g')\n",
      "('g', 'n', 'i', 'r', 't', 's')\n",
      "('n', 's')\n"
     ]
    }
   ],
   "source": [
    "# Prog12 - Predict output \n",
    "\n",
    "t = tuple('string')\n",
    "print(t)\n",
    "print(t[::-1])\n",
    "print(t[::2][::-2])\n",
    "\n",
    "# Output - string\n",
    "#          gnirts\n",
    "#          string[::2] -->  srn[::-2]-->  ns"
   ]
  },
  {
   "cell_type": "code",
   "execution_count": 91,
   "metadata": {},
   "outputs": [
    {
     "name": "stdout",
     "output_type": "stream",
     "text": [
      "True\n",
      "False\n",
      "1\n",
      "3\n"
     ]
    }
   ],
   "source": [
    "# Prog13 - Predict output \n",
    "\n",
    "t = tuple([10,20,30,40,50,60])\n",
    "print(60 in t)\n",
    "print('60' in t)\n",
    "print(t.count(10))\n",
    "print(t.index(40))\n",
    "\n",
    "# Output - True\n",
    "#          False\n",
    "#          1\n",
    "#          3"
   ]
  },
  {
   "cell_type": "code",
   "execution_count": 95,
   "metadata": {},
   "outputs": [
    {
     "name": "stdout",
     "output_type": "stream",
     "text": [
      "Enter string : malayalam\n",
      "malayalam\n",
      "malayalam\n",
      "Its a palindrome\n"
     ]
    }
   ],
   "source": [
    "# Prog14 - Write a program to input a string and print if it is palindrome or not.\n",
    "\n",
    "s = input(\"Enter string : \")\n",
    "s_rev = s[::-1]\n",
    "print(s)\n",
    "print(s_rev)\n",
    "\n",
    "if(s==s_rev):\n",
    "    print(\"Its a palindrome\")\n",
    "else:\n",
    "    print(\"Its not a palindrome\")\n"
   ]
  },
  {
   "cell_type": "code",
   "execution_count": 123,
   "metadata": {},
   "outputs": [
    {
     "name": "stdout",
     "output_type": "stream",
     "text": [
      "[20, 15, 10, 5]\n",
      "[20, 15, 10, 5]\n"
     ]
    }
   ],
   "source": [
    "# Prog15 -  Use the range method and create a tuple containing the following values: (20, 15, 10, 5) \n",
    "\n",
    "l=[]\n",
    "for i in range(20,0,-5):\n",
    "    l.append(i)\n",
    "    \n",
    "t = (l)\n",
    "print(t)"
   ]
  },
  {
   "cell_type": "code",
   "execution_count": 125,
   "metadata": {},
   "outputs": [
    {
     "name": "stdout",
     "output_type": "stream",
     "text": [
      "Enter string : abcde\n",
      "['a', 'b', 'c', 'd', 'e']\n"
     ]
    }
   ],
   "source": [
    "# Prog16 - WAP to convert string to list of characters.\n",
    "\n",
    "s = input(\"Enter string : \")\n",
    "l=[]\n",
    "l.extend(s)\n",
    "print(l)"
   ]
  },
  {
   "cell_type": "code",
   "execution_count": 127,
   "metadata": {},
   "outputs": [
    {
     "name": "stdout",
     "output_type": "stream",
     "text": [
      "['1', '2'] <class 'list'>\n",
      "None <class 'NoneType'>\n",
      "<built-in method upper of str object at 0x000002A77BDEB5F0> <class 'builtin_function_or_method'>\n",
      "True <class 'bool'>\n"
     ]
    }
   ],
   "source": [
    "# Prog17 - What is the return type of: \n",
    "\n",
    "print('1 2'.split(), type('1 2'.split()))\n",
    "print([1,3,2].sort(), type([1,3,2].sort()))                     # <class 'NoneType'>\n",
    "print('abc'.upper, type('abc'.upper))\n",
    "print(1 in [1,2], type(1 in [1,2]))                             # <class 'bool'>"
   ]
  },
  {
   "cell_type": "code",
   "execution_count": 102,
   "metadata": {},
   "outputs": [
    {
     "data": {
      "text/plain": [
       "['__add__',\n",
       " '__class__',\n",
       " '__contains__',\n",
       " '__delattr__',\n",
       " '__dir__',\n",
       " '__doc__',\n",
       " '__eq__',\n",
       " '__format__',\n",
       " '__ge__',\n",
       " '__getattribute__',\n",
       " '__getitem__',\n",
       " '__getnewargs__',\n",
       " '__gt__',\n",
       " '__hash__',\n",
       " '__init__',\n",
       " '__init_subclass__',\n",
       " '__iter__',\n",
       " '__le__',\n",
       " '__len__',\n",
       " '__lt__',\n",
       " '__mul__',\n",
       " '__ne__',\n",
       " '__new__',\n",
       " '__reduce__',\n",
       " '__reduce_ex__',\n",
       " '__repr__',\n",
       " '__rmul__',\n",
       " '__setattr__',\n",
       " '__sizeof__',\n",
       " '__str__',\n",
       " '__subclasshook__',\n",
       " 'count',\n",
       " 'index']"
      ]
     },
     "execution_count": 102,
     "metadata": {},
     "output_type": "execute_result"
    }
   ],
   "source": [
    "t=()\n",
    "dir(t)"
   ]
  }
 ],
 "metadata": {
  "kernelspec": {
   "display_name": "Python 3",
   "language": "python",
   "name": "python3"
  },
  "language_info": {
   "codemirror_mode": {
    "name": "ipython",
    "version": 3
   },
   "file_extension": ".py",
   "mimetype": "text/x-python",
   "name": "python",
   "nbconvert_exporter": "python",
   "pygments_lexer": "ipython3",
   "version": "3.8.3"
  }
 },
 "nbformat": 4,
 "nbformat_minor": 4
}
