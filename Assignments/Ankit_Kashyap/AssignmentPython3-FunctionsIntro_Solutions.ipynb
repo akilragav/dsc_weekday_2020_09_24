{
 "cells": [
  {
   "cell_type": "code",
   "execution_count": 8,
   "metadata": {},
   "outputs": [
    {
     "name": "stdout",
     "output_type": "stream",
     "text": [
      "Enter the 1st string: abcder \n",
      "Enter the 2nd string: vfrde\n",
      "Orignal String:  abcder  vfrde\n",
      "Swapped String String:  vfrde abcder \n"
     ]
    }
   ],
   "source": [
    "# 1. WAP to input 2 strings and swap the strings \n",
    "def swap_string(str_A,str_B):\n",
    "    str_A,str_B=str_B,str_A\n",
    "    return str_A,str_B\n",
    "\n",
    "str_a=input(\"Enter the 1st string: \")\n",
    "str_b=input(\"Enter the 2nd string: \")\n",
    "print(\"Orignal String: \",str_a,str_b)\n",
    "res=swap_string(str_a,str_b)\n",
    "print(\"Swapped String String: \",res[0],res[1])"
   ]
  },
  {
   "cell_type": "code",
   "execution_count": 67,
   "metadata": {},
   "outputs": [
    {
     "data": {
      "text/plain": [
       "14.75"
      ]
     },
     "execution_count": 67,
     "metadata": {},
     "output_type": "execute_result"
    }
   ],
   "source": [
    "# 2. WAP to generate 4 random numbers in the range 0-26 and print their average \n",
    "import random\n",
    "def rand_4():\n",
    "    avg=0\n",
    "    res=[]\n",
    "    for i in range(1,5):\n",
    "        p=random.randint(0,26)\n",
    "        res.append(p)\n",
    "    avg=sum(res)/4\n",
    "    return avg\n",
    "\n",
    "print(\"The average of 4 random numbers is: \",rand_4())"
   ]
  },
  {
   "cell_type": "code",
   "execution_count": 117,
   "metadata": {},
   "outputs": [
    {
     "name": "stdout",
     "output_type": "stream",
     "text": [
      "Output using string containing all alphabets:  C\n",
      "Output using module string:  s\n"
     ]
    }
   ],
   "source": [
    "# 3. WAP to generate and print a random uppercase or lowercase alphabet. Try these:\n",
    "# • Create a string containing all alphabets and then select a random alphabet.\n",
    "# • Check the module string \n",
    "import string\n",
    "import random\n",
    "def method1():\n",
    "    a1=list(range(97,123))\n",
    "    a2=list(range(65,91))\n",
    "    a=a1+a2\n",
    "    c=[]\n",
    "    for i in range(len(a)):\n",
    "        b=chr(a[i])\n",
    "        c.append(b)\n",
    "    return c[random.randint(0,54)]\n",
    "\n",
    "def method2():\n",
    "    p=string.ascii_letters\n",
    "    return p[random.randint(0,54)]\n",
    "\n",
    "print('Output using string containing all alphabets: ',method1())\n",
    "print('Output using module string: ', method2())\n",
    "\n",
    "\n",
    "\n"
   ]
  },
  {
   "cell_type": "code",
   "execution_count": 121,
   "metadata": {},
   "outputs": [
    {
     "name": "stdout",
     "output_type": "stream",
     "text": [
      "Enter the principal amount: 100000\n",
      "Enter the rate of interest(in %): 10\n",
      "Enter the time period(in years): 1\n",
      "The Simple Interest is:  100.0\n"
     ]
    }
   ],
   "source": [
    "# 4. WAF get_si() that takes Principle, Rate and Time as arguments and returns the Simple\n",
    "# Interest. \n",
    "def get_si(pr,rt,ti):\n",
    "    si=(pr*(rt/100)*ti)/100\n",
    "    return si\n",
    "pr=float(input(\"Enter the principal amount: \"))\n",
    "rt=float(input(\"Enter the rate of interest(in %): \"))\n",
    "ti=float(input(\"Enter the time period(in years): \"))\n",
    "si=get_si(pr,rt,ti)\n",
    "print(\"The Simple Interest is: \",si)"
   ]
  },
  {
   "cell_type": "code",
   "execution_count": 120,
   "metadata": {},
   "outputs": [
    {
     "name": "stdout",
     "output_type": "stream",
     "text": [
      "Enter the principal amount: 100000\n",
      "Enter the rate of interest(in %): 15\n",
      "Enter the time period(in years): 5\n",
      "The total amount is:  100100.0\n"
     ]
    }
   ],
   "source": [
    "# 5. WAF get_amount() that takes Principle, Rate and Time as arguments and returns the\n",
    "# Total amount using the get_si() function from above to calculate the SI. Also provide\n",
    "# Rate = 10 and Time = 1 as default arguments. \n",
    "\n",
    "def get_amount(pr,rt=10,ti=1):\n",
    "    amount=pr+get_si(pr,rt=10,ti=1)\n",
    "    return amount\n",
    "pr=float(input(\"Enter the principal amount: \"))\n",
    "rt=float(input(\"Enter the rate of interest(in %): \"))\n",
    "ti=float(input(\"Enter the time period(in years): \"))\n",
    "amount=get_amount(pr,rt,ti)\n",
    "print(\"The total amount is: \",amount)"
   ]
  },
  {
   "cell_type": "code",
   "execution_count": 125,
   "metadata": {},
   "outputs": [
    {
     "name": "stdout",
     "output_type": "stream",
     "text": [
      "Enter the principal amount: 100000\n",
      "Enter the annual rate of interest: 15\n",
      "Enter the time period (in years): 5\n",
      "The Compount Interest is:  101135.71874999994\n"
     ]
    }
   ],
   "source": [
    "# 6. WAP get_ci() that takes Principle, Rate and Time as arguments and returns the\n",
    "# Compound Interest. \n",
    "def get_ci(pr,rt,ti):\n",
    "    amount= pr*((1+(rt/100))**(ti))\n",
    "    ci= amount-pr\n",
    "    return ci\n",
    "\n",
    "P_comp = float(input(\"Enter the principal amount: \"))\n",
    "R_comp = float(input(\"Enter the annual rate of interest: \"))\n",
    "T_comp = float(input(\"Enter the time period (in years): \"))\n",
    "print(\"The Compount Interest is: \",get_ci(P_comp,R_comp,T_comp))\n"
   ]
  },
  {
   "cell_type": "code",
   "execution_count": 127,
   "metadata": {},
   "outputs": [
    {
     "name": "stdout",
     "output_type": "stream",
     "text": [
      "Enter the first number: 25\n",
      "Enter the second number: 5\n",
      "The quotient and remainder are:  (5.0, 0.0) <class 'tuple'>\n"
     ]
    }
   ],
   "source": [
    "# 7. WAP get_q_r() taking 2 numbers as parameters and returns the quotient and\n",
    "# remainder in the form of a tuple. \n",
    "def get_q_r(num1,num2):\n",
    "    quo=num1/num2\n",
    "    rem=num1%num2\n",
    "    return quo,rem\n",
    "num1=float(input(\"Enter the first number: \"))\n",
    "num2=float(input(\"Enter the second number: \"))\n",
    "res=get_q_r(num1,num2)\n",
    "print(\"The quotient and remainder are: \",res,type(res))"
   ]
  },
  {
   "cell_type": "code",
   "execution_count": 129,
   "metadata": {},
   "outputs": [
    {
     "name": "stdout",
     "output_type": "stream",
     "text": [
      "Enter the height (in cm): 12\n",
      "Enter the base (in cm): 5\n",
      "The length of hypotenuse is: 13.0 cm\n"
     ]
    }
   ],
   "source": [
    "# 8. WAP to find the length of hypotenuse of a right angled triangle, input the height and\n",
    "# base from user. \n",
    "import math\n",
    "def hypo(height,base):\n",
    "    len_hyp=math.sqrt((height**2)+(base**2))\n",
    "    return len_hyp\n",
    "h=float(input(\"Enter the height (in cm): \"))\n",
    "b=float(input(\"Enter the base (in cm): \"))\n",
    "res11=hypo(h,b)\n",
    "print(f\"The length of hypotenuse is: {res11} cm\")"
   ]
  },
  {
   "cell_type": "code",
   "execution_count": 149,
   "metadata": {},
   "outputs": [
    {
     "name": "stdout",
     "output_type": "stream",
     "text": [
      "Enter the number of seconds: 1234567\n",
      "14 day 6 hour 56 minute 7 second\n"
     ]
    }
   ],
   "source": [
    "# 9. WAP to input number of seconds and print in days, hours, minutes and seconds\n",
    "# ex: input = 10000\n",
    "#  Output = 0 day 2 hour 46 minute 40 second \n",
    "def time(seconds):\n",
    "    sec=total_sec%60\n",
    "    min1=(total_sec%3600)//60\n",
    "    hour=(total_sec%86400)//3600\n",
    "    days=(total_sec%(24*86400))//86400\n",
    "    print(f\"{days} day {hour} hour {min1} minute {sec} second\")\n",
    "\n",
    "total_sec=int(input(\"Enter the number of seconds: \"))\n",
    "time(total_sec)\n"
   ]
  },
  {
   "cell_type": "code",
   "execution_count": null,
   "metadata": {},
   "outputs": [],
   "source": [
    "# 10. Check your version of python interpreter without opening the interpreter (Which\n",
    "# command needs to be used on the command line).\n",
    "\n",
    "sys.version"
   ]
  },
  {
   "cell_type": "code",
   "execution_count": 140,
   "metadata": {},
   "outputs": [
    {
     "name": "stdout",
     "output_type": "stream",
     "text": [
      "2 -2\n"
     ]
    }
   ],
   "source": [
    "# 11. Find output: \n",
    "X=2\n",
    "X *= 3\n",
    "X= X%4\n",
    "Y= -X\n",
    "print(X,Y) #2 -2\n"
   ]
  },
  {
   "cell_type": "code",
   "execution_count": 141,
   "metadata": {},
   "outputs": [
    {
     "name": "stdout",
     "output_type": "stream",
     "text": [
      "None\n"
     ]
    }
   ],
   "source": [
    "# 12. Find output:\n",
    "def funct():\n",
    "    pass\n",
    "print(funct())"
   ]
  },
  {
   "cell_type": "code",
   "execution_count": null,
   "metadata": {},
   "outputs": [],
   "source": [
    "# 13. Read and complete till Part-3: (Part-4 After OOPs)\n",
    "https://medium.com/the-python-diary/getting-around-complex-numbers-77308982178"
   ]
  }
 ],
 "metadata": {
  "kernelspec": {
   "display_name": "Python 3",
   "language": "python",
   "name": "python3"
  },
  "language_info": {
   "codemirror_mode": {
    "name": "ipython",
    "version": 3
   },
   "file_extension": ".py",
   "mimetype": "text/x-python",
   "name": "python",
   "nbconvert_exporter": "python",
   "pygments_lexer": "ipython3",
   "version": "3.7.4"
  }
 },
 "nbformat": 4,
 "nbformat_minor": 2
}
