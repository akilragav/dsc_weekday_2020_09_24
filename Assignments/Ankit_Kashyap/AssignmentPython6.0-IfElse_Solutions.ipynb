{
 "cells": [
  {
   "cell_type": "code",
   "execution_count": 22,
   "metadata": {},
   "outputs": [
    {
     "name": "stdout",
     "output_type": "stream",
     "text": [
      "Enter the 1st number: 12\n",
      "Enter the second numbera\n",
      "Divisibility result:  Enter a proper value\n"
     ]
    }
   ],
   "source": [
    "# 1. WAP to input 2 numbers and check whether the first is divisible by the second and print true or\n",
    "# false depending on the divisibility. \n",
    "\n",
    "def check_divisibility(num1,num2):\n",
    "    if (num1.replace('.','',1).isdigit() and num2.replace('.','',1).isdigit()):\n",
    "        num1=float(num1)\n",
    "        num2=float(num2)\n",
    "        if num1%num2==0:\n",
    "            return True\n",
    "        else:\n",
    "            return False\n",
    "    else:\n",
    "        return 'Enter a proper value'\n",
    "num1=input(\"Enter the 1st number: \")\n",
    "num2=input(\"Enter the second number\")\n",
    "print(\"Divisibility result: \",check_divisibility(num1,num2))\n",
    "    "
   ]
  },
  {
   "cell_type": "code",
   "execution_count": 10,
   "metadata": {},
   "outputs": [
    {
     "name": "stdout",
     "output_type": "stream",
     "text": [
      "Enter the string: #abc1221cba#\n",
      "The string is:  Palindrome\n"
     ]
    }
   ],
   "source": [
    "# 2. In the palindrome example, make the code case insensitive.\n",
    "#  i.e. Naman should also be treated as a palindrome (HINT: first convert to either upper or\n",
    "# lower case)\n",
    "def palindrome(n):\n",
    "    nn=n.casefold()\n",
    "    if nn[0:len(nn)]==nn[-1:-len(n)-1:-1]:\n",
    "        return 'Palindrome'\n",
    "    else:\n",
    "        return 'Not a palindrome'\n",
    "n=input(\"Enter the string: \")\n",
    "print('The string is: ',palindrome(n))"
   ]
  },
  {
   "cell_type": "code",
   "execution_count": 28,
   "metadata": {},
   "outputs": [
    {
     "name": "stdout",
     "output_type": "stream",
     "text": [
      "Enter the length of 1st side(in cm): 3.2\n",
      "Enter the length of 2nd side(in cm): 3.2\n",
      "Enter the length of 3rd side(in cm): 2\n",
      "Triangle Type:  Isosceles\n"
     ]
    }
   ],
   "source": [
    "# 3.WAP to input the sides of a triangle and print whether equilateral(all sides equal), \n",
    "#  isosceles (2 sides equal), or scalene (no sides equal).\n",
    "def triangle(a,b,c):\n",
    "    if (a.replace('.','',1).isdigit() and b.replace('.','',1).isdigit() and c.replace('.','',1).isdigit()):\n",
    "        a=float(a)\n",
    "        b=float(b)\n",
    "        c=float(c)\n",
    "        if (a+b>c and a+c>b and b+c>a):\n",
    "            if a==b==c:\n",
    "                return 'Equilateral'\n",
    "            elif (a==b!=c or a==c!=b or b==c!=a):\n",
    "                return 'Isosceles'\n",
    "            else:\n",
    "                return 'Scalene'\n",
    "        else:\n",
    "            return 'Not a Triagle'\n",
    "    else:\n",
    "        return 'Enter proper values of length'\n",
    "    \n",
    "a=input(\"Enter the length of 1st side(in cm): \")\n",
    "b=input(\"Enter the length of 2nd side(in cm): \")\n",
    "c=input(\"Enter the length of 3rd side(in cm): \")\n",
    "print(\"Triangle Type: \",triangle(a,b,c))"
   ]
  },
  {
   "cell_type": "code",
   "execution_count": 31,
   "metadata": {},
   "outputs": [
    {
     "name": "stdout",
     "output_type": "stream",
     "text": [
      "Enter the number: 2.2\n",
      "The number is:  Odd\n"
     ]
    }
   ],
   "source": [
    "# 4.WAP to input a number and print if it is even or odd. \n",
    "def even_odd(num11):\n",
    "    if (num11.replace('.','',1).isdigit()):\n",
    "        num11=float(num11)\n",
    "        if num11%2==0:\n",
    "            return 'Even'\n",
    "        else:\n",
    "            return 'Odd'\n",
    "    else:\n",
    "        return 'Enter a proper value'\n",
    "num11=input(\"Enter the number: \")\n",
    "print(\"The number is: \",even_odd(num11))"
   ]
  },
  {
   "cell_type": "code",
   "execution_count": 46,
   "metadata": {},
   "outputs": [
    {
     "name": "stdout",
     "output_type": "stream",
     "text": [
      "Enter the age (in years): 23\n",
      "Message:  Adult\n"
     ]
    }
   ],
   "source": [
    "# 5.WAP to input age and print the respective text\n",
    "# depending on the age ranges as present in the table.\n",
    "def age_text(age):\n",
    "    if (age.replace('.','',1).isdigit()):\n",
    "        age=int(age)\n",
    "        if (age in range(0,13)):\n",
    "            return 'Child'\n",
    "        elif (age in range(13,18)):\n",
    "            return 'Teen'\n",
    "        elif (age in range(18,51)):\n",
    "            return 'Adult'\n",
    "        elif (age in range(51,101)):\n",
    "                return 'Senior Citizen'\n",
    "        else:\n",
    "            return 'Congratulations'\n",
    "    else:\n",
    "        return 'Enter proper values of age'\n",
    "    \n",
    "age=input(\"Enter the age (in years): \")\n",
    "print(\"Message: \",age_text(age))"
   ]
  },
  {
   "cell_type": "code",
   "execution_count": 1,
   "metadata": {},
   "outputs": [
    {
     "name": "stdout",
     "output_type": "stream",
     "text": [
      "Enter the year to check: 1800\n",
      "The year entered is:  Not a Leap Year\n"
     ]
    }
   ],
   "source": [
    "# 6.WAP to input year (check if user enters valid year. \n",
    "# Should be 4-digit number and should not be negative) and print whether leap year or not.  \n",
    "# (If really interested in why you also have to check the divisibility by 400 just \n",
    "# google the exact time it takes for the earth to revolve around the sub)\n",
    "\n",
    "def leap_year(year):\n",
    "    if (year.replace('.','',1).isdigit() and len(year)==4):\n",
    "        year=int(year)\n",
    "        if(year%4==0) and (year%100!=0 or year%400==0):\n",
    "            return 'Leap year'\n",
    "        else:\n",
    "            return 'Not a Leap Year'\n",
    "    else:\n",
    "        return 'Enter proper value of year'\n",
    "\n",
    "year=input(\"Enter the year to check: \")\n",
    "print(\"The year entered is: \",leap_year(year))\n",
    "    "
   ]
  },
  {
   "cell_type": "code",
   "execution_count": 5,
   "metadata": {},
   "outputs": [
    {
     "name": "stdout",
     "output_type": "stream",
     "text": [
      "Enter the string: ab1\n",
      "The Resultant string is:  Enter a proper string\n"
     ]
    }
   ],
   "source": [
    "# 7. WAP to input a string and convert it to Upper Case if number of characters \n",
    "# is odd and convert to lower case otherwise.\n",
    "def convert_str(string1):\n",
    "    if string1.isalpha()==True:\n",
    "        if(len(string1)%2==0):\n",
    "            return string1.lower()\n",
    "        else:\n",
    "            return string1.upper()\n",
    "    else:\n",
    "        return 'Enter a proper string'\n",
    "\n",
    "string1=input(\"Enter the string: \")\n",
    "print(\"The Resultant string is: \",convert_str(string1))"
   ]
  },
  {
   "cell_type": "code",
   "execution_count": 4,
   "metadata": {},
   "outputs": [
    {
     "name": "stdout",
     "output_type": "stream",
     "text": [
      "Enter the string: EgG\n",
      "The result is:  Non-Veg\n"
     ]
    }
   ],
   "source": [
    "# 8.WAP to input a string and print Veg if the string doesn’t contain the word egg. \n",
    "# Otherwise print Non-Veg. As usual eggs can be both big and small. \n",
    "\n",
    "def veg_nonveg(string2):\n",
    "    str22='egg'\n",
    "    if str22.lower() in string2.lower():\n",
    "        return 'Non-Veg'\n",
    "    else:\n",
    "        return 'Veg'\n",
    "\n",
    "string2=input(\"Enter the string: \")\n",
    "print(\"The result is: \",veg_nonveg(string2))"
   ]
  },
  {
   "cell_type": "code",
   "execution_count": 11,
   "metadata": {},
   "outputs": [
    {
     "name": "stdout",
     "output_type": "stream",
     "text": [
      "True\n"
     ]
    }
   ],
   "source": [
    "# 9a.Give output of: \n",
    "if not 1:\n",
    "    print(False)\n",
    "else:\n",
    "    print(True) #true"
   ]
  },
  {
   "cell_type": "code",
   "execution_count": 12,
   "metadata": {},
   "outputs": [
    {
     "name": "stdout",
     "output_type": "stream",
     "text": [
      "True\n"
     ]
    }
   ],
   "source": [
    "# 9b.Give output of: \n",
    "if 1:\n",
    "    print(True)\n",
    "else:\n",
    "    print(False) #True"
   ]
  },
  {
   "cell_type": "code",
   "execution_count": 13,
   "metadata": {},
   "outputs": [
    {
     "name": "stdout",
     "output_type": "stream",
     "text": [
      "Weird\n"
     ]
    }
   ],
   "source": [
    "if 'a'>'A':\n",
    "    print('Weird')\n",
    "else:\n",
    "    print('Makes Sense') #Weird"
   ]
  },
  {
   "cell_type": "code",
   "execution_count": 14,
   "metadata": {},
   "outputs": [
    {
     "name": "stdout",
     "output_type": "stream",
     "text": [
      "[4, 3, 2, 1]\n"
     ]
    }
   ],
   "source": [
    "a=[1,2,3,4]\n",
    "if 1>1:\n",
    "    a=a[::-1]\n",
    "else:\n",
    "    a=a[-1::-1]\n",
    "print(a) #[4,3,2,1]"
   ]
  },
  {
   "cell_type": "code",
   "execution_count": 20,
   "metadata": {},
   "outputs": [
    {
     "name": "stdout",
     "output_type": "stream",
     "text": [
      "Enter the marks in 1st subject (out of 100): 89.9\n",
      "Enter the marks in 2nd subject (out of 100): 77.9\n",
      "Enter the marks in 3rd subject (out of 100): 98.2\n",
      "Enter the marks in 4th subject (out of 100): 91.6\n",
      "Enter the marks in 5th subject (out of 100): 90.2\n",
      " The grade is: Grade- A\n"
     ]
    }
   ],
   "source": [
    "# 10.WAP to input marks in 5 subjects and print the grade as per following logic:\n",
    "#     % between 90-100 Grade-A \n",
    "#     % between 80 - 89 Grade-B\n",
    "#     % between 60 - 79 Grade-C \n",
    "#     % < 60            Grade-F\n",
    "\n",
    "def grade(marka,markb,markc,markd,marke):\n",
    "    perc = round(((marka+markb+markc+markd+marke)/500)*100)\n",
    "    if perc in range(90,100):\n",
    "        return 'A'\n",
    "    elif perc in range(80,90):\n",
    "        return 'B'\n",
    "    elif perc in range(60,80):\n",
    "        return 'C'\n",
    "    elif perc <60:\n",
    "        return 'F'\n",
    "    else:\n",
    "        pass\n",
    "\n",
    "marka=float(input(\"Enter the marks in 1st subject (out of 100): \"))\n",
    "markb=float(input(\"Enter the marks in 2nd subject (out of 100): \"))\n",
    "markc=float(input(\"Enter the marks in 3rd subject (out of 100): \"))\n",
    "markd=float(input(\"Enter the marks in 4th subject (out of 100): \"))\n",
    "marke=float(input(\"Enter the marks in 5th subject (out of 100): \"))\n",
    "print(\" The grade is: Grade-\",grade(marka,markb,markc,markd,marke))"
   ]
  },
  {
   "cell_type": "code",
   "execution_count": 21,
   "metadata": {},
   "outputs": [
    {
     "name": "stdout",
     "output_type": "stream",
     "text": [
      "Enter the age in years: 23\n",
      "Enter the salary: 900000\n",
      "The Tax as per given age and salary is:  90000.0\n"
     ]
    }
   ],
   "source": [
    "# 11.WAP to input age and salary and calculate Tax as per tax rates if following table: \n",
    "def tax(age,salary):\n",
    "    if age<60:\n",
    "        if salary in range(0,250001):\n",
    "            return 0\n",
    "        elif salary in range(250001,500001):\n",
    "            return (0.05*salary)\n",
    "        elif salary in range(500001,1000001):\n",
    "            return (0.1*salary)\n",
    "        else:\n",
    "            return (0.15*salary)   \n",
    "    else:\n",
    "        if salary in range(0,250001):\n",
    "            return 0\n",
    "        elif salary in range(250001,500001):\n",
    "            return (0.03*salary)\n",
    "        elif salary in range(500001,1000001):\n",
    "            return (0.08*salary)\n",
    "        else:\n",
    "            return (0.12*salary)\n",
    "\n",
    "age=abs(int(input(\"Enter the age in years: \")))\n",
    "salary=abs(int(input(\"Enter the salary: \")))\n",
    "print(\"The Tax as per given age and salary is: \",tax(age,salary) )"
   ]
  },
  {
   "cell_type": "code",
   "execution_count": 32,
   "metadata": {},
   "outputs": [],
   "source": [
    "# 12.Try each of the below statements separately (remember difference between statement and expression) \n",
    "# on the python interpreter and guess the output before trying:\n",
    "# print(20 if not 1 == 1 else 10) #10\n",
    "# print(30 if not 1 == 1 else 20 if 'a'<'A' else 10) #10\n",
    "# print(40 if not 1 == 1 else 30 if 'a'<'A' else 20 if '' else 10) #10\n",
    "# print('No' if not 1 == 1 else ('No' if 'a'<'A' else ('OMG' if 'oh!!' else'No'))) #OMG "
   ]
  },
  {
   "cell_type": "code",
   "execution_count": 60,
   "metadata": {},
   "outputs": [
    {
     "name": "stdout",
     "output_type": "stream",
     "text": [
      "Enter the weight in kg80\n",
      "Enter the height in cm182\n",
      "The BMI range comes under:  Normal\n"
     ]
    }
   ],
   "source": [
    "# 13.WAF: bmi() that takes the weight in kg and height in cm of a person,\n",
    "#     calculates and returns the BMI. Write code that calls this function \n",
    "#     after taking height and weight as inputs and then prints underweight, \n",
    "#     normal, overweight or obese depending on the value of BMI. \n",
    "\n",
    "def bmi(weight,height):\n",
    "    heightm=height/100\n",
    "    bmi_r=round((weight/(heightm**2)))\n",
    "    if bmi_r in range(16,19):\n",
    "        return 'Underweight'\n",
    "    elif bmi_r in range(19,25):\n",
    "        return 'Normal'\n",
    "    elif bmi_r in range(25,31):\n",
    "        return 'Overweight'\n",
    "    elif bmi_r >30:\n",
    "        return 'Obese'\n",
    "    else:\n",
    "        return 'Severely Underweight'\n",
    "     \n",
    "weight=float(input(\"Enter the weight in kg\"))\n",
    "height=float(input(\"Enter the height in cm\"))\n",
    "print(\"The BMI range comes under: \",bmi(weight,height))"
   ]
  },
  {
   "cell_type": "code",
   "execution_count": 47,
   "metadata": {},
   "outputs": [
    {
     "name": "stdout",
     "output_type": "stream",
     "text": [
      "Enter the age in years: 23\n",
      "Enter the age in years: 21\n",
      "Enter the age in years: 22\n",
      "[23, 21, 22]\n",
      "[21, 22, 23]\n",
      "[21, 23]\n",
      "Youngest age: 21\n",
      "Oldest Age: 23\n"
     ]
    }
   ],
   "source": [
    "# 14.Take input of age of 3 people by user and determine oldest and youngest among them.\n",
    "def young_old(age1,age2,age3):\n",
    "    agel=[age1,age2,age3]\n",
    "    print(agel)\n",
    "    agel.sort()\n",
    "    print(agel)\n",
    "    agell=[]\n",
    "    agell.append(agel[0])\n",
    "    agell.append(agel[2])\n",
    "    print(agell)\n",
    "    return agell\n",
    "\n",
    "age1=int(input(\"Enter the age in years: \"))\n",
    "age2=int(input(\"Enter the age in years: \"))\n",
    "age3=int(input(\"Enter the age in years: \"))\n",
    "res=[]\n",
    "res=young_old(age1,age2,age3)\n",
    "print(f\"Youngest age: {res[0]}\\nOldest Age: {res[1]}\")\n",
    "\n",
    "    \n",
    "    \n",
    "    "
   ]
  },
  {
   "cell_type": "code",
   "execution_count": 51,
   "metadata": {},
   "outputs": [
    {
     "name": "stdout",
     "output_type": "stream",
     "text": [
      "Enter the number: 35\n",
      "The number:  Is Divisible\n"
     ]
    }
   ],
   "source": [
    "# 15.WAP to input a number and check if number is divisible by both 5 and 7.\n",
    "def divisible_5_7(num_a):\n",
    "    if num_a.isnumeric():\n",
    "        num_a=int(num_a)\n",
    "        if(num_a % 5 == 0 and num_a % 7== 0):\n",
    "            return 'Is Divisible'\n",
    "        else:\n",
    "            return 'Is Not Divisisble'\n",
    "    else:\n",
    "        return 'Enter proper values'\n",
    "\n",
    "num_a=input(\"Enter the number: \")\n",
    "print(\"The number: \",divisible_5_7(num_a))"
   ]
  }
 ],
 "metadata": {
  "kernelspec": {
   "display_name": "Python 3",
   "language": "python",
   "name": "python3"
  },
  "language_info": {
   "codemirror_mode": {
    "name": "ipython",
    "version": 3
   },
   "file_extension": ".py",
   "mimetype": "text/x-python",
   "name": "python",
   "nbconvert_exporter": "python",
   "pygments_lexer": "ipython3",
   "version": "3.7.4"
  }
 },
 "nbformat": 4,
 "nbformat_minor": 2
}
