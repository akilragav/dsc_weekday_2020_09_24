{
 "cells": [
  {
   "cell_type": "code",
   "execution_count": 2,
   "metadata": {},
   "outputs": [
    {
     "name": "stdout",
     "output_type": "stream",
     "text": [
      "d\n",
      "detneirO tcejbO si nohtyP\n",
      "Python is Object Oriente\n",
      "\n",
      "on is \n"
     ]
    }
   ],
   "source": [
    "# 1. Guess output of each slice:\n",
    "s= 'Python is Object Oriented'\n",
    "print(s[-1])    #d\n",
    "print(s[::-1])  #detneirO tcejbO si nohtyP\n",
    "print(s[:-1])   #Python is Object Oriented\n",
    "print(s[1:1])   #''\n",
    "print(s[4:10])  #on is \n",
    "\n"
   ]
  },
  {
   "cell_type": "code",
   "execution_count": 3,
   "metadata": {},
   "outputs": [
    {
     "ename": "IndexError",
     "evalue": "string index out of range",
     "output_type": "error",
     "traceback": [
      "\u001b[1;31m---------------------------------------------------------------------------\u001b[0m",
      "\u001b[1;31mIndexError\u001b[0m                                Traceback (most recent call last)",
      "\u001b[1;32m<ipython-input-3-0aea7f16232a>\u001b[0m in \u001b[0;36m<module>\u001b[1;34m\u001b[0m\n\u001b[0;32m      1\u001b[0m \u001b[1;31m# 2. What error do you see for following statements:\u001b[0m\u001b[1;33m\u001b[0m\u001b[1;33m\u001b[0m\u001b[1;33m\u001b[0m\u001b[0m\n\u001b[0;32m      2\u001b[0m \u001b[0ms\u001b[0m\u001b[1;33m=\u001b[0m \u001b[1;34m''\u001b[0m\u001b[1;33m\u001b[0m\u001b[1;33m\u001b[0m\u001b[0m\n\u001b[1;32m----> 3\u001b[1;33m \u001b[0mprint\u001b[0m\u001b[1;33m(\u001b[0m\u001b[0ms\u001b[0m\u001b[1;33m[\u001b[0m\u001b[1;36m1\u001b[0m\u001b[1;33m]\u001b[0m\u001b[1;33m)\u001b[0m \u001b[1;31m#Value Error-Empty String\u001b[0m\u001b[1;33m\u001b[0m\u001b[1;33m\u001b[0m\u001b[0m\n\u001b[0m",
      "\u001b[1;31mIndexError\u001b[0m: string index out of range"
     ]
    }
   ],
   "source": [
    "# 2. What error do you see for following statements:\n",
    "s= ''\n",
    "print(s[1]) #Index Error-Out of range"
   ]
  },
  {
   "cell_type": "code",
   "execution_count": 1,
   "metadata": {},
   "outputs": [
    {
     "ename": "NameError",
     "evalue": "name 's' is not defined",
     "output_type": "error",
     "traceback": [
      "\u001b[1;31m---------------------------------------------------------------------------\u001b[0m",
      "\u001b[1;31mNameError\u001b[0m                                 Traceback (most recent call last)",
      "\u001b[1;32m<ipython-input-1-b6cccce2e22c>\u001b[0m in \u001b[0;36m<module>\u001b[1;34m\u001b[0m\n\u001b[0;32m      1\u001b[0m \u001b[1;31m# 3. Do you get any error for the following code, if not give the output:\u001b[0m\u001b[1;33m\u001b[0m\u001b[1;33m\u001b[0m\u001b[1;33m\u001b[0m\u001b[0m\n\u001b[0;32m      2\u001b[0m \u001b[0mS\u001b[0m\u001b[1;33m=\u001b[0m\u001b[1;34m'Gaurav'\u001b[0m\u001b[1;33m\u001b[0m\u001b[1;33m\u001b[0m\u001b[0m\n\u001b[1;32m----> 3\u001b[1;33m \u001b[0mprint\u001b[0m\u001b[1;33m(\u001b[0m\u001b[0ms\u001b[0m\u001b[1;33m[\u001b[0m\u001b[1;36m1\u001b[0m\u001b[1;33m]\u001b[0m\u001b[1;33m)\u001b[0m \u001b[1;31m#Name Error\u001b[0m\u001b[1;33m\u001b[0m\u001b[1;33m\u001b[0m\u001b[0m\n\u001b[0m",
      "\u001b[1;31mNameError\u001b[0m: name 's' is not defined"
     ]
    }
   ],
   "source": [
    "# 3. Do you get any error for the following code, if not give the output:\n",
    "S='Gaurav'\n",
    "print(s[1]) #Name Error "
   ]
  },
  {
   "cell_type": "code",
   "execution_count": 2,
   "metadata": {},
   "outputs": [
    {
     "name": "stdout",
     "output_type": "stream",
     "text": [
      "6\n",
      "abc\n",
      "3\n"
     ]
    }
   ],
   "source": [
    "# 4. Find output of the following:\n",
    "# a)\n",
    "s='a b cd'\n",
    "print(len(s))         #6\n",
    "print(s[::2])         #abc \n",
    "print(len(s[::2]))    #3\n"
   ]
  },
  {
   "cell_type": "code",
   "execution_count": 4,
   "metadata": {},
   "outputs": [
    {
     "name": "stdout",
     "output_type": "stream",
     "text": [
      "['a#b#c#d#']\n",
      "['a', 'b', 'c', 'd', '']\n",
      "a$b$c$d$\n"
     ]
    }
   ],
   "source": [
    "# b) \n",
    "s='a#b#c#d#'\n",
    "print(s.split())      # ['a#b#c#d#']\n",
    "print(s.split('#'))   # ['a','b','c','d']\n",
    "l=s.split('#')\n",
    "s='$'.join(l)\n",
    "print(s)              # a$b$c$d$"
   ]
  },
  {
   "cell_type": "code",
   "execution_count": 5,
   "metadata": {},
   "outputs": [
    {
     "name": "stdout",
     "output_type": "stream",
     "text": [
      "av\n"
     ]
    }
   ],
   "source": [
    "# c) \n",
    "S='Gaurav'\n",
    "S=S[::-2][::-2]\n",
    "print(S)   #av"
   ]
  },
  {
   "cell_type": "code",
   "execution_count": 7,
   "metadata": {},
   "outputs": [
    {
     "name": "stdout",
     "output_type": "stream",
     "text": [
      "False\n"
     ]
    }
   ],
   "source": [
    "#d) \n",
    "print(1>2)  #False \n"
   ]
  },
  {
   "cell_type": "code",
   "execution_count": 8,
   "metadata": {},
   "outputs": [
    {
     "name": "stdout",
     "output_type": "stream",
     "text": [
      "0,1,2\n"
     ]
    }
   ],
   "source": [
    "# e) \n",
    "print(4%2, 5%2, 2%5, sep=',') #0,1,2"
   ]
  },
  {
   "cell_type": "code",
   "execution_count": 9,
   "metadata": {},
   "outputs": [
    {
     "name": "stdout",
     "output_type": "stream",
     "text": [
      "abcba\n",
      "0 ,0 ,0 ,"
     ]
    }
   ],
   "source": [
    "# f) \n",
    "s='abcba'\n",
    "s.upper()\n",
    "print(s)                                # ABCBA\n",
    "print(s.count('A'), end = ' ,')         # 0 ,0 ,0 ,\n",
    "print(s.count('A', 2,4) , end = ' ,')\n",
    "print(s.count('a', 2,4) , end = ' ,') "
   ]
  },
  {
   "cell_type": "code",
   "execution_count": 16,
   "metadata": {},
   "outputs": [
    {
     "name": "stdout",
     "output_type": "stream",
     "text": [
      "Enter a string:  abc jki kloi po#ayhi_tyop  yuinm \n",
      "abcjkikloipo#ayhi_tyopyuinm\n"
     ]
    }
   ],
   "source": [
    "# 5. WAP to input a string and remove all spaces from it. \n",
    "str1=input('Enter a string: ')\n",
    "str1= str1.split(' ')\n",
    "str1=''.join(str1)\n",
    "print(str1)"
   ]
  },
  {
   "cell_type": "code",
   "execution_count": null,
   "metadata": {},
   "outputs": [],
   "source": [
    "# 6. What does this symbol denote:\n",
    "# [] \n",
    "# Square bracket\n",
    "# 1. Used for element assignment in mutable objects\n",
    "# 2. List cration\n",
    "# 3. Element traversing"
   ]
  },
  {
   "cell_type": "code",
   "execution_count": 17,
   "metadata": {},
   "outputs": [
    {
     "name": "stdout",
     "output_type": "stream",
     "text": [
      "['__add__', '__class__', '__contains__', '__delattr__', '__dir__', '__doc__', '__eq__', '__format__', '__ge__', '__getattribute__', '__getitem__', '__getnewargs__', '__gt__', '__hash__', '__init__', '__init_subclass__', '__iter__', '__le__', '__len__', '__lt__', '__mod__', '__mul__', '__ne__', '__new__', '__reduce__', '__reduce_ex__', '__repr__', '__rmod__', '__rmul__', '__setattr__', '__sizeof__', '__str__', '__subclasshook__', 'capitalize', 'casefold', 'center', 'count', 'encode', 'endswith', 'expandtabs', 'find', 'format', 'format_map', 'index', 'isalnum', 'isalpha', 'isascii', 'isdecimal', 'isdigit', 'isidentifier', 'islower', 'isnumeric', 'isprintable', 'isspace', 'istitle', 'isupper', 'join', 'ljust', 'lower', 'lstrip', 'maketrans', 'partition', 'replace', 'rfind', 'rindex', 'rjust', 'rpartition', 'rsplit', 'rstrip', 'split', 'splitlines', 'startswith', 'strip', 'swapcase', 'title', 'translate', 'upper', 'zfill']\n"
     ]
    }
   ],
   "source": [
    "# 7. WAP to print all methods(functions/operations) available in a string (Hint : dir()) \n",
    "print(dir(str))"
   ]
  },
  {
   "cell_type": "code",
   "execution_count": 26,
   "metadata": {},
   "outputs": [
    {
     "name": "stdout",
     "output_type": "stream",
     "text": [
      "It is found\n"
     ]
    }
   ],
   "source": [
    "# 8. Write statement to check if rstrip method is available in the str class.\n",
    "# (Hint : Use the find function or in) \n",
    "a=dir(str)\n",
    "if ('rstrip' in a) == 1:\n",
    "    print(\"It is found\")\n",
    "else:\n",
    "    print(\"Not Found\")"
   ]
  },
  {
   "cell_type": "code",
   "execution_count": 30,
   "metadata": {},
   "outputs": [
    {
     "name": "stdout",
     "output_type": "stream",
     "text": [
      "*****\n",
      "  *  \n",
      "  *  \n",
      "  *  \n",
      "  *  \n"
     ]
    }
   ],
   "source": [
    "# 9. WAP to store the following patterns in a string variable and then print them: \n",
    "a1='*'\n",
    "a2=' '\n",
    "print(a1*5)\n",
    "print(a2*2 + a1 + a2*2)\n",
    "print(a2*2 + a1 + a2*2)\n",
    "print(a2*2 + a1 + a2*2)\n",
    "print(a2*2 + a1 + a2*2)"
   ]
  },
  {
   "cell_type": "code",
   "execution_count": 31,
   "metadata": {},
   "outputs": [
    {
     "name": "stdout",
     "output_type": "stream",
     "text": [
      "*     *\n",
      "* * * *\n",
      "*  *  *\n",
      "*     *\n"
     ]
    }
   ],
   "source": [
    "print(a1 + a2*5 + a1)\n",
    "print((a1 + a2 )*3 + a1)\n",
    "print(a1 + a2*2 + a1 + a2*2 + a1)\n",
    "print(a1 + a2*5 + a1)"
   ]
  },
  {
   "cell_type": "code",
   "execution_count": 63,
   "metadata": {},
   "outputs": [
    {
     "name": "stdout",
     "output_type": "stream",
     "text": [
      "  ____________\n",
      "  |          |\n",
      "  o          |\n",
      " /|\\         |\n",
      " / \\         |\n",
      "_____________|\n"
     ]
    }
   ],
   "source": [
    "a3= '_'\n",
    "a4='|'\n",
    "a5='o'\n",
    "a6='/'\n",
    "a7= \"\\\\\"\n",
    "\n",
    "print(a2*2+a3*12)\n",
    "print(a2*2+a4 + a2*10 + a4)\n",
    "print(a2*2+a5 + a2*10 + a4)\n",
    "print(a2*1+a6+a4+a7 + a2*9 + a4)\n",
    "print(a2+a6+a2+a7 + a2*9 + a4)\n",
    "print(a3*13 + a4)\n"
   ]
  },
  {
   "cell_type": "code",
   "execution_count": 69,
   "metadata": {},
   "outputs": [
    {
     "name": "stdout",
     "output_type": "stream",
     "text": [
      "Enter the string:  abc frd gtyu iop  ion    b\n",
      "\n",
      "abc\n",
      "frd\n",
      "gtyu\n",
      "iop\n",
      "\n",
      "ion\n",
      "\n",
      "\n",
      "\n",
      "b\n"
     ]
    }
   ],
   "source": [
    "# 10. WAP to input a string and replace all space with new lines (\\n) and print again. \n",
    "s1=input(\"Enter the string: \")\n",
    "print(s1.replace(' ',\"\\n\"))"
   ]
  },
  {
   "cell_type": "code",
   "execution_count": 105,
   "metadata": {},
   "outputs": [
    {
     "name": "stdout",
     "output_type": "stream",
     "text": [
      "Enter your complete name(first and last name separated by space)Ankit Kashyap\n",
      "ANKIT 5\n",
      "KASHYAP 7\n"
     ]
    }
   ],
   "source": [
    "# 11. WAP to input complete name(first and last name separated by space) and print first and last\n",
    "# name separately along with their length in upper case. \n",
    "name=input(\"Enter your complete name(first and last name separated by space)\").strip()\n",
    "if name.find(' ')!=-1:\n",
    "    name=name.split(' ')\n",
    "    print\n",
    "    print(name[0].upper(),len(name[0]), sep=' ')\n",
    "    print(name[1].upper(),len(name[1]), sep=' ')\n",
    "else:\n",
    "    print(\"Enter the name in the correct format\")"
   ]
  },
  {
   "cell_type": "code",
   "execution_count": 104,
   "metadata": {},
   "outputs": [
    {
     "name": "stdout",
     "output_type": "stream",
     "text": [
      "Enter the string: string\n",
      "S1 = str\n",
      "S2 = ing\n"
     ]
    }
   ],
   "source": [
    "# 12. WAP to input a string and split it into 2 halves. The string can be of any length\n",
    "# Ex-1: Input = “String”\n",
    "# S1 = Str\n",
    "#  S2 = ing \n",
    "\n",
    "s2=input(\"Enter the string: \")\n",
    "m=len(s2)\n",
    "if m%2==0:\n",
    "    S1=s2.split(s2[m//2])\n",
    "    S1[1]=s2[m//2]+S1[1]\n",
    "    print(f\"S1 = {S1[0]}\\nS2 = {S1[1]}\")\n",
    "else:\n",
    "    S1=s2.split(s2[m//2])\n",
    "    print(f\"S1 = {S1[0]}\\nS2 = {S1[1]}\")"
   ]
  }
 ],
 "metadata": {
  "kernelspec": {
   "display_name": "Python 3",
   "language": "python",
   "name": "python3"
  }
 },
 "nbformat": 4,
 "nbformat_minor": 2
}
