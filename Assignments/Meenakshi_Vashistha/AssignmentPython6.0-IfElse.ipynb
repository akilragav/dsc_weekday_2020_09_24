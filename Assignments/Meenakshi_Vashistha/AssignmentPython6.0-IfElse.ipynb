{
 "cells": [
  {
   "cell_type": "code",
   "execution_count": 25,
   "metadata": {},
   "outputs": [
    {
     "name": "stdout",
     "output_type": "stream",
     "text": [
      "input a number:7\n",
      "input a number:5\n",
      "False\n"
     ]
    }
   ],
   "source": [
    "# 1. WAP to input 2 numbers and check whether the first is divisible by the second and print true or false depending on \n",
    "#the divisibility.\n",
    "\n",
    "def div(n1,n2):\n",
    "    if n1%n2==0:\n",
    "        return True\n",
    "    else:\n",
    "        return False\n",
    "\n",
    "    \n",
    "x=int(input(\"input a number:\"))\n",
    "y=int(input(\"input a number:\"))\n",
    "t=(x,y)    # made as a tuple containing elements (x,y)\n",
    "n1,n2=t    # unpacking of tuple\n",
    "          \n",
    "r=div(n1,n2)\n",
    "print(r)          \n"
   ]
  },
  {
   "cell_type": "code",
   "execution_count": 2,
   "metadata": {},
   "outputs": [
    {
     "name": "stdout",
     "output_type": "stream",
     "text": [
      "Enter String to check Palindrome: adedA\n",
      "ADEDA 'is Palindrome'\n"
     ]
    }
   ],
   "source": [
    "#2. In the palindrome example, make the code case insensitive. i.e. Naman should also be treated as a palindrome \n",
    "#(HINT: first convert to either upper or lower case).\n",
    "\n",
    "x=input(\"Enter String to check Palindrome: \").upper()\n",
    "\n",
    "if x[0::]==x[::-1]:\n",
    "    print(f\"{x} 'is Palindrome'\")\n",
    "else:\n",
    "    print(f\"{x} 'is not a palindrome'\")\n"
   ]
  },
  {
   "cell_type": "code",
   "execution_count": 21,
   "metadata": {},
   "outputs": [
    {
     "name": "stdout",
     "output_type": "stream",
     "text": [
      "input a 1st side of a triangle:2\n",
      "input a 2nd side of a triangle:3\n",
      "input a 3rd side of a triangle:5\n",
      "scalene triangle\n"
     ]
    }
   ],
   "source": [
    "#3. WAP to input the sides of a triangle and print whether equilateral(all sides equal), isosceles (2 sides equal),\n",
    "#or scalene (no sides equal).\n",
    "\n",
    "def tri(s1,s2,s3):\n",
    "     if (s1==s2==s3):\n",
    "        print(\"equilateral triangle\")\n",
    "     elif(s1!=s2!=s3):\n",
    "        print(\"scalene triangle\")\n",
    "     else:\n",
    "        print(\"isoceles triangle\")\n",
    "    \n",
    "x=int(input(\"input a 1st side of a triangle:\"))\n",
    "y=int(input(\"input a 2nd side of a triangle:\"))  \n",
    "z=int(input(\"input a 3rd side of a triangle:\"))  \n",
    "\n",
    "tri(x,y,z)"
   ]
  },
  {
   "cell_type": "code",
   "execution_count": 23,
   "metadata": {},
   "outputs": [
    {
     "name": "stdout",
     "output_type": "stream",
     "text": [
      "input a number:7\n",
      "Odd\n"
     ]
    }
   ],
   "source": [
    "#4. WAP to input a number and print if it is even or odd.\n",
    " \n",
    "def div(n1):\n",
    "    if n1%2==0:\n",
    "        print(\"Even\") \n",
    "    else:\n",
    "        print(\"Odd\")\n",
    "        \n",
    "x=int(input(\"input a number:\"))\n",
    "div(x)"
   ]
  },
  {
   "cell_type": "code",
   "execution_count": 32,
   "metadata": {},
   "outputs": [
    {
     "name": "stdout",
     "output_type": "stream",
     "text": [
      "input an age:24\n",
      "Adult\n"
     ]
    }
   ],
   "source": [
    "#5. WAP to input age and print the respective text depending on the age ranges as present in the table.\n",
    "# Age Text to be displayed\n",
    "# 0-12 Child \n",
    "# 13-17 Teen \n",
    "# 18-50 Adult \n",
    "# 51-100 Senior Citizen \n",
    "# age > 100 Congratulations\n",
    "\n",
    "def Age(age):\n",
    "    if 0<=age<=12:\n",
    "        print(\"Child\")\n",
    "    elif 13<=age<=17:\n",
    "        print(\"Teen\")\n",
    "    elif 18<=age<=50:\n",
    "        print(\"Adult\")\n",
    "    elif 51<=age<=100:\n",
    "        print(\"Senior Citizen\")\n",
    "    else :\n",
    "        print(\"Congratulations\")\n",
    "        \n",
    "        \n",
    "x=int(input(\"input an age:\"))\n",
    "Age(x)        \n"
   ]
  },
  {
   "cell_type": "code",
   "execution_count": 42,
   "metadata": {},
   "outputs": [
    {
     "name": "stdout",
     "output_type": "stream",
     "text": [
      "input an year:2000\n",
      "Leap year\n"
     ]
    }
   ],
   "source": [
    "# 6. WAP to input year (check if user enters valid year. Should be 4-digit number and should not be negative) and \n",
    "#print whether leap year or not. (If really interested in why you also have to check the divisibility by 400 just google\n",
    "#the exact time it takes for the earth to revolve around the sub)\n",
    "\n",
    "def year(yr):\n",
    "    if(len(str(yr))==4 and yr>0):\n",
    "        if (yr%400==0) or (yr%100!=0 and yr/4==0):\n",
    "            print(\"Leap year\")\n",
    "        else:\n",
    "            print(\"Not a leap year\")\n",
    "    \n",
    "    else:\n",
    "        print(\"Enter valid year\")\n",
    "    \n",
    "x=int(input(\"input an year:\"))\n",
    "year(x)\n"
   ]
  },
  {
   "cell_type": "code",
   "execution_count": 43,
   "metadata": {},
   "outputs": [
    {
     "name": "stdout",
     "output_type": "stream",
     "text": [
      "enter a string:anant\n",
      "As number of characters are odd, so Uppercase: ANANT\n"
     ]
    }
   ],
   "source": [
    "# 7.WAP to input a string and convert it to Upper Case if number of characters is odd and convert to lower case otherwise.\n",
    "\n",
    "def case(strg):\n",
    "    if (len(strg)%2)!=0 :   \n",
    "        u=strg.upper()\n",
    "        print(\"As number of characters are odd, so Uppercase:\",u)\n",
    "    else:\n",
    "        l=strg.lower()\n",
    "        print(\"As number of characters are even, so Lowercase:\",l)\n",
    "\n",
    "\n",
    "x=input(\"enter a string:\")\n",
    "case(x)"
   ]
  },
  {
   "cell_type": "code",
   "execution_count": 44,
   "metadata": {},
   "outputs": [
    {
     "name": "stdout",
     "output_type": "stream",
     "text": [
      "enter a string:ghsnjfugvnb egghtf gg\n",
      "Non-Veg\n"
     ]
    }
   ],
   "source": [
    "# 8. WAP to input a string and print Veg if the string doesn’t contain the word egg. Otherwise print Non-Veg. As usual \n",
    "#eggs can be both big and small.\n",
    "\n",
    "x=input(\"enter a string:\")\n",
    "if \"egg\" in x:\n",
    "     print(\"Non-Veg\")\n",
    "else:\n",
    "    print(\"Veg\")\n"
   ]
  },
  {
   "cell_type": "code",
   "execution_count": 45,
   "metadata": {},
   "outputs": [
    {
     "name": "stdout",
     "output_type": "stream",
     "text": [
      "True\n"
     ]
    }
   ],
   "source": [
    "# 9. Give output of:\n",
    "\n",
    "if not 1:            # not 1 means not \"True\", i.e. \"False\"   (0)\n",
    "    print(\"False\")\n",
    "else:                #  print \"True\"\n",
    "    print(\"True\")"
   ]
  },
  {
   "cell_type": "code",
   "execution_count": 46,
   "metadata": {},
   "outputs": [
    {
     "name": "stdout",
     "output_type": "stream",
     "text": [
      "True\n"
     ]
    }
   ],
   "source": [
    "if 1:\n",
    "    print(\"True\")\n",
    "else:\n",
    "    print(\"False\")"
   ]
  },
  {
   "cell_type": "code",
   "execution_count": 47,
   "metadata": {},
   "outputs": [
    {
     "name": "stdout",
     "output_type": "stream",
     "text": [
      "Weird !!\n"
     ]
    }
   ],
   "source": [
    "if 'a' >'A':       # ordinal value of 'a' is 97 and of 'A' is 65\n",
    "    print(\"Weird !!\")\n",
    "else:\n",
    "    print(\"Makes Sense\")"
   ]
  },
  {
   "cell_type": "code",
   "execution_count": 50,
   "metadata": {},
   "outputs": [
    {
     "name": "stdout",
     "output_type": "stream",
     "text": [
      "[4, 3, 2, 1]\n"
     ]
    }
   ],
   "source": [
    "a=[1,2,3,4]\n",
    "if 1>1:      # 1:---all elements from index 1--2,3,4\n",
    "    a=a[::-1]  # default start and stop with -1 step--- 4,3,2,1\n",
    "else:\n",
    "    a=a[-1::-1]  # start=-1, stop=default, step=-1----4,3,2,1\n",
    "    print(a)"
   ]
  },
  {
   "cell_type": "code",
   "execution_count": 71,
   "metadata": {},
   "outputs": [
    {
     "name": "stdout",
     "output_type": "stream",
     "text": [
      "enter marks of subject:33\n",
      "enter marks of subject:55\n",
      "enter marks of subject:33\n",
      "enter marks of subject:22\n",
      "enter marks of subject:55\n",
      "39.6 %\n",
      "Grade- F\n"
     ]
    }
   ],
   "source": [
    "# 10. WAP to input marks in 5 subjects and print the grade as per following logic: \n",
    "# % between 90-100 Grade-A \n",
    "# % between 80 - 89 Grade-B \n",
    "# % between 60 - 79 Grade-C \n",
    "# % < 60 Grade-F\n",
    "\n",
    "def mar(s):\n",
    "    if 90<=s<=100 :\n",
    "        print(\"Grade- A\")\n",
    "    elif 80<=s<=89 :\n",
    "        print(\"Grade- B\")\n",
    "    elif 60<=s<=79 :\n",
    "        print(\"Grade- C\")\n",
    "    elif s<60 :\n",
    "        print(\"Grade- F\")\n",
    "\n",
    "        \n",
    "l=[]\n",
    "for x in range(0,5):\n",
    "    m=int(input(\"enter marks of subject:\"))\n",
    "    l.append(m)\n",
    "    \n",
    "res=sum(l)/5\n",
    "print(res, \"%\")        \n",
    "mar(res)\n"
   ]
  },
  {
   "cell_type": "code",
   "execution_count": 108,
   "metadata": {},
   "outputs": [
    {
     "name": "stdout",
     "output_type": "stream",
     "text": [
      "enter an age:56\n",
      "enter a salary range:300000\n",
      "tax percent rate: 0.05\n",
      "tax: 15000.0\n"
     ]
    }
   ],
   "source": [
    "# 11. WAP to input age and salary and calculate Tax as per tax rates if following table:\n",
    "\n",
    "\n",
    "\n",
    "def taxing(a,s):\n",
    "    r=1\n",
    "    \n",
    "    if a<60 and 0<=s<=250000:\n",
    "        r=0    #tax percent\n",
    "        print(\"tax percent rate:\",r)\n",
    "        tax=r*s\n",
    "        print(\"tax:\",tax)\n",
    "    elif a<60 and 250001<=s<=500000:\n",
    "        r=0.05\n",
    "        print(\"tax percent rate:\",r)\n",
    "        tax=r*s\n",
    "        print(\"tax:\",tax)\n",
    "    elif a<60 and 500001<=s<=1000000:\n",
    "        r=0.1\n",
    "        print(\"tax percent rate:\",r)\n",
    "        tax=r*s\n",
    "        print(\"tax:\",tax)  \n",
    "    elif a<60 and 1000001<=s:\n",
    "        r=0.15\n",
    "        print(\"tax percent rate:\",r)\n",
    "        tax=r*s\n",
    "        print(\"tax:\",tax)\n",
    "    elif a>=60 and 0<=s<=250001:\n",
    "        r=0\n",
    "        print(\"tax percent rate:\",r)\n",
    "        print(\"tax:\",tax)    \n",
    "    elif a>=60 and 250001<=s<=500000:\n",
    "        r=0.03\n",
    "        print(\"tax percent rate:\",r)\n",
    "        tax=r*s\n",
    "        print(\"tax:\",tax)\n",
    "    elif a>=60 and 500001<=s<=1000000:\n",
    "        r=0.08\n",
    "        print(\"tax percent rate:\",r)\n",
    "        tax=r*s\n",
    "        print(\"tax:\",tax)\n",
    "    elif a>=60 and 1000001<=s:\n",
    "        r=0.12\n",
    "        print(\"tax percent rate:\",r)\n",
    "        tax=r*s\n",
    "        print(\"tax:\",tax)    \n",
    "x=int(input(\"enter an age:\"))\n",
    "y=int(input(\"enter a salary range:\"))\n",
    "taxing(x,y)\n"
   ]
  },
  {
   "cell_type": "code",
   "execution_count": 1,
   "metadata": {},
   "outputs": [
    {
     "name": "stdout",
     "output_type": "stream",
     "text": [
      "10\n",
      "10\n",
      "10\n",
      "OMG\n"
     ]
    }
   ],
   "source": [
    "# 12. Try each of the below statements separately (remember difference between statement and expression) on the python \n",
    "#interpreter and guess the output before trying:\n",
    "\n",
    "print(20 if not 1==1 else 10)    # it means, print 20 if 1==1 is not true (orFalse), but it is true so \"if\" won't execute \n",
    "print(30 if not 1==1 else 20 if 'a'<'A' else 10)\n",
    "print(40 if not 1==1 else 30 if 'a'<'A' else 20 if '' else 10)\n",
    "print('No' if not 1==1 else ('No' if 'a'<'A' else ('OMG' if 'oh!!' else 'No')))"
   ]
  },
  {
   "cell_type": "code",
   "execution_count": 96,
   "metadata": {},
   "outputs": [
    {
     "name": "stdout",
     "output_type": "stream",
     "text": [
      "enter a weight in kg:55\n",
      "enter a height in cm:160.02\n",
      "weight(kg):\t55\theight(m):\t1.6002\n",
      "BMI: 21.0 kg/m2\n",
      "Normal\n"
     ]
    }
   ],
   "source": [
    "# 13. WAF: bmi() that takes the weight in kg and height in cm of a person, calculates and returns the BMI. \n",
    "# Write code that calls this function after taking height and weight as inputs and then prints \n",
    "# underweight, normal, overweight or obese depending on the value of BMI. \n",
    "# Refer this link for the ranges: \n",
    "#  https://en.wikipedia.org/wiki/Body_mass_index\n",
    "\n",
    "\n",
    "def bmi(w,h):\n",
    "    hm=h/100  # 'h' is a height in cm, 'hm' is a height in m\n",
    "    bm=w//(hm*hm) \n",
    "    print(\"weight(kg):\",w,\"height(m):\",hm, sep='\\t')\n",
    "    print(\"BMI:\",bm,\"kg/m2\")\n",
    "    if 18.5<=bm<25 :\n",
    "        print(\"Normal\")\n",
    "    elif bm<18.5 :\n",
    "        print(\"Underweight\")\n",
    "    elif 25<=bm<=30 :      \n",
    "        print(\"Overweight\")\n",
    "    elif bm>30:\n",
    "        print(\"Obese\")\n",
    "    \n",
    "    \n",
    "n=int(input(\"enter a weight in kg:\"))\n",
    "m=float(input(\"enter a height in cm:\"))\n",
    "bmi(n,m)\n",
    "    "
   ]
  },
  {
   "cell_type": "code",
   "execution_count": 83,
   "metadata": {},
   "outputs": [
    {
     "name": "stdout",
     "output_type": "stream",
     "text": [
      "enter age:67\n",
      "enter age:39\n",
      "enter age:80\n",
      "oldest: 80\n",
      "youngest: 39\n"
     ]
    }
   ],
   "source": [
    "# 14. Take input of age of 3 people by user and determine oldest and youngest among them.\n",
    "\n",
    "l=[]\n",
    "for x in range(0,3):\n",
    "    m1=int(input(\"enter age:\"))\n",
    "    l.append(m1)\n",
    "    \n",
    "print(\"oldest:\",max(l))  \n",
    "print(\"youngest:\",min(l))\n"
   ]
  },
  {
   "cell_type": "code",
   "execution_count": 85,
   "metadata": {},
   "outputs": [
    {
     "name": "stdout",
     "output_type": "stream",
     "text": [
      "enter a number:56\n",
      "number is not divisible by both 5 and 7\n"
     ]
    }
   ],
   "source": [
    "### 15. WAP to input a number and check if number is divisible by both 5 and 7.\n",
    "\n",
    "n=int(input(\"enter a number:\"))\n",
    "\n",
    "if n%5==0 and n%7==0:\n",
    "    print(\"number is divisible by both 5 and 7\")\n",
    "else:\n",
    "    print(\"number is not divisible by both 5 and 7\")"
   ]
  },
  {
   "cell_type": "code",
   "execution_count": null,
   "metadata": {},
   "outputs": [],
   "source": []
  }
 ],
 "metadata": {
  "kernelspec": {
   "display_name": "Python 3",
   "language": "python",
   "name": "python3"
  },
  "language_info": {
   "codemirror_mode": {
    "name": "ipython",
    "version": 3
   },
   "file_extension": ".py",
   "mimetype": "text/x-python",
   "name": "python",
   "nbconvert_exporter": "python",
   "pygments_lexer": "ipython3",
   "version": "3.8.3"
  }
 },
 "nbformat": 4,
 "nbformat_minor": 4
}
