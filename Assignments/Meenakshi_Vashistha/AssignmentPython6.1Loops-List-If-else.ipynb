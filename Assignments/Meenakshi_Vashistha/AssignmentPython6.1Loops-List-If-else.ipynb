{
 "cells": [
  {
   "cell_type": "code",
   "execution_count": 6,
   "metadata": {},
   "outputs": [
    {
     "name": "stdout",
     "output_type": "stream",
     "text": [
      "enter a string:hello\n",
      "h\te\tl\tl\to\t"
     ]
    }
   ],
   "source": [
    "# 1. WAP to input a string and print individual characters in the string using for loop.\n",
    "\n",
    "s=input(\"enter a string:\")\n",
    "for i in range(len(s)):\n",
    "        print(s[i], end='\\t')"
   ]
  },
  {
   "cell_type": "code",
   "execution_count": 10,
   "metadata": {},
   "outputs": [
    {
     "name": "stdout",
     "output_type": "stream",
     "text": [
      "enter a string:Alias\n",
      "A 65\n",
      "l 108\n",
      "i 105\n",
      "a 97\n",
      "s 115\n"
     ]
    }
   ],
   "source": [
    "#2. WAP to input a string and print the ASCII value of each character in the string.\n",
    "\n",
    "s=input(\"enter a string:\")\n",
    "for i in range(len(s)):\n",
    "        print(s[i], ord(s[i]))"
   ]
  },
  {
   "cell_type": "code",
   "execution_count": 36,
   "metadata": {},
   "outputs": [
    {
     "name": "stdout",
     "output_type": "stream",
     "text": [
      "enter numbers:12345\n",
      "15\n"
     ]
    }
   ],
   "source": [
    "# 3. Write a function that takes a list of numbers from user as argument and returns the sum of only odd numbers\n",
    "#(Use only for loop. No need to use if statement).\n",
    "\n",
    "\n",
    "def func(sample):\n",
    "    a=list(sample)\n",
    "    s=0\n",
    "    for i in range(len(a)):\n",
    "        s+=int(a[i])    \n",
    "        \n",
    "    return s\n",
    "    \n",
    "n=input(\"enter numbers:\")\n",
    "\n",
    "r=func(n)\n",
    "print(r)"
   ]
  },
  {
   "cell_type": "code",
   "execution_count": 68,
   "metadata": {},
   "outputs": [
    {
     "name": "stdout",
     "output_type": "stream",
     "text": [
      "enter numbers:1864796\n",
      "('1', '8', '6', '4', '7', '9', '6')\n",
      "enter num:4\n",
      "index of entered number: 3\n"
     ]
    }
   ],
   "source": [
    "# 4. WAP to input a list of numbers and store in a tuple. Now input another number and print the index of this number \n",
    "#in the tuple. [Use index function]\n",
    "\n",
    "n=tuple(input(\"enter numbers:\"))\n",
    "print(n)\n",
    "n1=input(\"enter num:\")\n",
    "print(\"index of entered number:\", n.index(n1))\n"
   ]
  },
  {
   "cell_type": "code",
   "execution_count": 125,
   "metadata": {},
   "outputs": [
    {
     "name": "stdout",
     "output_type": "stream",
     "text": [
      "list [1, 4, 4, 6, 1, 1, 10, 2, 10, 5]\n",
      "sum 44\n",
      "average 4.4\n",
      "elements at even indexes: [1, 4, 1, 10, 10]\n"
     ]
    }
   ],
   "source": [
    "# 5. Create a list of 10 random numbers and then print the list, sum of all numbers and average. Use a for loop. \n",
    "#Also print elements at only even indexes in the list.\n",
    "\n",
    "import random\n",
    "\n",
    "l=[]\n",
    "for i in range(0,10):\n",
    "    \n",
    "    a=random.randint(1,10)     \n",
    "    l.append(a)\n",
    "    \n",
    "    \n",
    "print(\"list\", l)\n",
    "print(\"sum\", sum(l))\n",
    "print(\"average\",sum(l)/10)\n",
    "print(\"elements at even indexes:\",l[::2])    \n",
    "\n",
    "    "
   ]
  },
  {
   "cell_type": "code",
   "execution_count": 129,
   "metadata": {},
   "outputs": [
    {
     "name": "stdout",
     "output_type": "stream",
     "text": [
      "enter a number:10\n",
      "enter a number:10\n",
      "enter a number:101\n",
      "enter a number:10\n",
      "enter a number:194\n",
      "enter a number:47\n",
      "enter a number:6\n",
      "enter a number:27\n",
      "enter a number:27\n",
      "enter a number:6\n",
      "list [10, 10, 101, 10, 194, 47, 6, 27, 27, 6]\n",
      "sum 438\n"
     ]
    }
   ],
   "source": [
    "# 6. WAP to input 10 numbers repeatedly (using range based for loop) and store them in a list. Print the list and \n",
    "#sum of numbers in the list.\n",
    "l=[]\n",
    "for i in range(0,10):\n",
    "        n=int(input(\"enter a number:\"))\n",
    "        l.append(n)      \n",
    "print(\"list\",l)\n",
    "print(\"sum\",sum(l))"
   ]
  },
  {
   "cell_type": "code",
   "execution_count": 133,
   "metadata": {},
   "outputs": [
    {
     "name": "stdout",
     "output_type": "stream",
     "text": [
      "enter a number:4\n",
      "4 * 1 = 4\n",
      "4 * 2 = 8\n",
      "4 * 3 = 12\n",
      "4 * 4 = 16\n",
      "4 * 5 = 20\n",
      "4 * 6 = 24\n",
      "4 * 7 = 28\n",
      "4 * 8 = 32\n",
      "4 * 9 = 36\n",
      "4 * 10 = 40\n"
     ]
    }
   ],
   "source": [
    "# 7. WAP to input a number and print its table.\n",
    "\n",
    "n=int(input(\"enter a number:\"))\n",
    "\n",
    "for i in range(1,11):\n",
    "    t=n*i\n",
    "    print(n,\"*\",i,\"=\",t)"
   ]
  },
  {
   "cell_type": "code",
   "execution_count": 142,
   "metadata": {},
   "outputs": [
    {
     "name": "stdout",
     "output_type": "stream",
     "text": [
      "enter a string:Hi how are you\n",
      "number of spaces: 3\n"
     ]
    }
   ],
   "source": [
    "# 8. WAP to print total number of spaces in a string (Use for loop to iterate over the string. Don’t use count function).\n",
    "\n",
    "s=input(\"enter a string:\")\n",
    "n=0\n",
    "for i in range(1,len(s)):\n",
    "    if ord(s[i])==32:\n",
    "        n+=1\n",
    "        \n",
    "print(\"number of spaces:\", n)\n",
    "       "
   ]
  },
  {
   "cell_type": "code",
   "execution_count": 164,
   "metadata": {},
   "outputs": [
    {
     "name": "stdout",
     "output_type": "stream",
     "text": [
      "enter a string:aeiohyuib\n",
      "number of vowels in a string: 6\n"
     ]
    }
   ],
   "source": [
    "#9. WAP to input a string and count number of vowels in the string. [Note: it should work for both capital and small \n",
    "#alphabets]\n",
    "\n",
    "s=input(\"enter a string:\").lower()\n",
    "\n",
    "x=s.count('a')\n",
    "y=s.count('e')\n",
    "z=s.count('i')\n",
    "w=s.count('o')\n",
    "v=s.count('u')\n",
    "        \n",
    "print(\"number of vowels in a string:\", x+y+z+w+v)\n",
    "\n",
    "# other way:\n",
    "\n",
    "c=0\n",
    "\n",
    "s=input(\"enter a string:\").lower()\n",
    "for i in range(0,len(s)):\n",
    "    if s[i]=='a' or s[i]=='e'or s[i]=='i' or s[i]=='o' or s[i]=='u':\n",
    "        c+=1\n",
    "print(\"number of vowels in a string:\",c)"
   ]
  },
  {
   "cell_type": "code",
   "execution_count": 47,
   "metadata": {},
   "outputs": [
    {
     "name": "stdout",
     "output_type": "stream",
     "text": [
      "enter a string:MansiV\n",
      "m_ns_v\n"
     ]
    }
   ],
   "source": [
    "# 10. WAP to input a string and replace all vowels with ‘_’. \n",
    "#[Hint: Convert string to list. Remember!! Strings are immutable. Replace in the list and then join]\n",
    "\n",
    "s=list(input(\"enter a string:\").lower())\n",
    "\n",
    "for i in range(0,len(s)):\n",
    "     if s[i]=='a' or s[i]=='e' or s[i]=='i' or s[i]=='o' or s[i]=='u' :\n",
    "        \n",
    "         s[i]=\"_\"\n",
    "         #print(s)\n",
    "        \n",
    "print(\"\".join(s))   \n"
   ]
  },
  {
   "cell_type": "code",
   "execution_count": 48,
   "metadata": {},
   "outputs": [
    {
     "name": "stdout",
     "output_type": "stream",
     "text": [
      "Num:  0\n",
      "Loop Ends\n"
     ]
    }
   ],
   "source": [
    "# 11. Find output:\n",
    "\n",
    "for num in range(10):  # 0-9\n",
    "    print(\"Num: \", num) \n",
    "    if num % 4 == 0:\n",
    "        break          # break when num=0 since 0%4==0 ...so, o/p-0\n",
    "print(\"Loop Ends\")        "
   ]
  },
  {
   "cell_type": "code",
   "execution_count": 51,
   "metadata": {},
   "outputs": [
    {
     "name": "stdout",
     "output_type": "stream",
     "text": [
      "Num:  0\n"
     ]
    },
    {
     "ename": "SystemExit",
     "evalue": "",
     "output_type": "error",
     "traceback": [
      "An exception has occurred, use %tb to see the full traceback.\n",
      "\u001b[1;31mSystemExit\u001b[0m\n"
     ]
    }
   ],
   "source": [
    "#The sys.exit() function allows the developer to exit from Python. \n",
    "#The exit function takes an optional argument, typically an integer, that gives an exit status.\n",
    "\n",
    "import sys\n",
    "for num in range(10):  # 0-9\n",
    "    print(\"Num: \", num) \n",
    "    if num % 4 == 0:\n",
    "        sys.exit()\n",
    "print(\"Loop Ends\") "
   ]
  },
  {
   "cell_type": "code",
   "execution_count": 53,
   "metadata": {},
   "outputs": [
    {
     "name": "stdout",
     "output_type": "stream",
     "text": [
      "*****\n",
      "*****\n",
      "*****\n",
      "*****\n",
      "*****\n"
     ]
    }
   ],
   "source": [
    "# 12. Find the output of the following code snippets.\n",
    " \n",
    "for i1 in range(1,6):\n",
    "    for i2 in range(5):\n",
    "        print(\"*\",end='')\n",
    "    print()    \n"
   ]
  },
  {
   "cell_type": "code",
   "execution_count": 54,
   "metadata": {},
   "outputs": [
    {
     "name": "stdout",
     "output_type": "stream",
     "text": [
      "1\n",
      "22\n",
      "333\n",
      "4444\n",
      "55555\n"
     ]
    }
   ],
   "source": [
    "for i1 in range(1,6):\n",
    "    print(str(i1)*i1)\n",
    "    "
   ]
  },
  {
   "cell_type": "code",
   "execution_count": 57,
   "metadata": {},
   "outputs": [
    {
     "name": "stdout",
     "output_type": "stream",
     "text": [
      "122333444455555\n"
     ]
    }
   ],
   "source": [
    "for i1 in range(1,6):     # for i1-> 1         2\n",
    "    for i2 in range(i1):  # for i2 in range(1) for i2 in range(2)--means this loop will run 2 times-0,1\n",
    "        print(i1, end='') # print(1)- 1        print (2)- 22\n",
    "    print()               \n",
    "    "
   ]
  },
  {
   "cell_type": "code",
   "execution_count": 58,
   "metadata": {},
   "outputs": [
    {
     "name": "stdout",
     "output_type": "stream",
     "text": [
      "**\n",
      "***\n",
      "****\n",
      "*****\n",
      "******\n"
     ]
    }
   ],
   "source": [
    "for i1 in range(1,6):   # i1->1                 i1->2\n",
    "    for i2 in range(i1+1): # for i2 in range(2) for i2 in range(3)\n",
    "        print(\"*\",end='')  # **                 ***\n",
    "    print() "
   ]
  },
  {
   "cell_type": "code",
   "execution_count": null,
   "metadata": {},
   "outputs": [],
   "source": []
  }
 ],
 "metadata": {
  "kernelspec": {
   "display_name": "Python 3",
   "language": "python",
   "name": "python3"
  },
  "language_info": {
   "codemirror_mode": {
    "name": "ipython",
    "version": 3
   },
   "file_extension": ".py",
   "mimetype": "text/x-python",
   "name": "python",
   "nbconvert_exporter": "python",
   "pygments_lexer": "ipython3",
   "version": "3.8.3"
  }
 },
 "nbformat": 4,
 "nbformat_minor": 4
}
