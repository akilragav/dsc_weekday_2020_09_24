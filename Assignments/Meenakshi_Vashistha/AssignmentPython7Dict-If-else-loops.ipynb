{
 "cells": [
  {
   "cell_type": "code",
   "execution_count": 5,
   "metadata": {},
   "outputs": [
    {
     "name": "stdout",
     "output_type": "stream",
     "text": [
      "{1: -1, 2: -2, 3: -3, 4: -4, 5: -5}\n"
     ]
    }
   ],
   "source": [
    "# 1. WAP to create a dictionary of numbers mapped to their negative value for numbers from 1-5. \n",
    "# The dictionary should contain something like this: \n",
    "# Do with both with and without range based for loop. \n",
    "# {1:-1,2:-2,3:-3….}\n",
    "\n",
    "\n",
    "# without for loop\n",
    "\n",
    "# d={1:-1,2:-2,3:-3,4:-4,5:-5}\n",
    "# print(d)\n",
    "\n",
    "# with range based for loop\n",
    "d={}\n",
    "for i in range(1,6):\n",
    "    d[i]=-i\n",
    "    #print(d[i], type(d))\n",
    "print(d)    "
   ]
  },
  {
   "cell_type": "code",
   "execution_count": 129,
   "metadata": {},
   "outputs": [],
   "source": [
    "# 2. Check which of the following declarations will work\n",
    "\n",
    "# d={1=2,2=3}   # d={1=2,2=3} SyntaxError: invalid syntax\n",
    "# d={1:2, 2:3}   # it will work, keys-1,2 , value of key 1= 2, value of key 2=3\n",
    "# d={1,2:2,3}     # invalid syntax\n",
    "# d={'a':'A', 'b':1, c:[1234]} # NameError: name 'c' is not defined, it should be written like 'c'\n",
    "# d={'a':'A', 'b':1, 'c':[1234]}\n",
    "# d=dict([(1,2), (2,3)])  # it will work {1: 2, 2: 3}\n",
    "# d=dict(((1,2), (2,3)))  # it will work {1: 2, 2: 3}\n",
    "# d=dict((1,2), (2,3)])    # closing parenthesis ']' does not match opening parenthesis '('\n",
    "# d=dict(x=2, y=3)    # {'x': 2, 'y': 3}\n",
    "# d=dict('x'=2,'y'=3)   # SyntaxError:expression cannot contain assignment, perhaps you meant \"==\"?\n",
    "# d=dict(1=2,2=3)    # SyntaxError: expression cannot contain assignment, perhaps you meant \"==\"?\n",
    "\n"
   ]
  },
  {
   "cell_type": "code",
   "execution_count": 23,
   "metadata": {},
   "outputs": [
    {
     "name": "stdout",
     "output_type": "stream",
     "text": [
      "{1: 10, 2: 20, 3: 30, 4: 40}\n"
     ]
    }
   ],
   "source": [
    "# 3. Read help for zip and write a program that has two lists \n",
    "l1 = [1,2,3,4] \n",
    "l2 = [10,20,30,40]\n",
    "# And converts them to a dictionary d containing { 1:10,2:20 …….}\n",
    "\n",
    "d=dict(zip(l1,l2))\n",
    "print(d)\n"
   ]
  },
  {
   "cell_type": "code",
   "execution_count": 28,
   "metadata": {},
   "outputs": [
    {
     "name": "stdout",
     "output_type": "stream",
     "text": [
      "{'A': 65, 'B': 66, 'C': 67, 'D': 68, 'E': 69, 'F': 70, 'G': 71, 'H': 72, 'I': 73, 'J': 74, 'K': 75, 'L': 76, 'M': 77, 'N': 78, 'O': 79, 'P': 80, 'Q': 81, 'R': 82, 'S': 83, 'T': 84, 'U': 85, 'V': 86, 'W': 87, 'X': 88, 'Y': 89, 'Z': 90}\n"
     ]
    }
   ],
   "source": [
    "# 4. Use range based for loop to store all upper case alphabets and their corresponding ASCII values in the dictionary d. \n",
    "#The result should be d = {‘A’: 65, ‘B’:66,….}\n",
    "\n",
    "d={}\n",
    "for i in range(65,91):\n",
    "    d[chr(i)]=i\n",
    "print (d)  "
   ]
  },
  {
   "cell_type": "code",
   "execution_count": 93,
   "metadata": {},
   "outputs": [
    {
     "name": "stdout",
     "output_type": "stream",
     "text": [
      "enter a number:6\n",
      "corresponding word format: six\n",
      "dict_keys([0, 1, 2, 3, 4, 5, 6, 7, 8, 9])\n",
      "dict_values(['zero', 'one', 'two', 'three', 'four', 'five', 'six', 'seven', 'eight', 'nine'])\n",
      "dict_items([(0, 'zero'), (1, 'one'), (2, 'two'), (3, 'three'), (4, 'four'), (5, 'five'), (6, 'six'), (7, 'seven'), (8, 'eight'), (9, 'nine')])\n"
     ]
    }
   ],
   "source": [
    "# 5. Create a mapping of number to word from 0-9. (0:’zero’……)\n",
    "# • Ask user for a single digit number and print the corresponding word format. \n",
    "# • Print all keys of above dictionary \n",
    "# • Print all Values of a dictionary \n",
    "# • Print all Key and Value pairs of above dictionary\n",
    "\n",
    "n=int(input(\"enter a number:\"))\n",
    "d={}\n",
    "l=[\"zero\",\"one\",\"two\",\"three\",\"four\",\"five\",\"six\",\"seven\",\"eight\",\"nine\"]\n",
    "for i in range(10):\n",
    "        d[i]=l[i]\n",
    "        \n",
    "# print(d)\n",
    "print(\"corresponding word format:\",d[n])\n",
    "print(d.keys())\n",
    "print(d.values())\n",
    "print(d.items())"
   ]
  },
  {
   "cell_type": "code",
   "execution_count": 97,
   "metadata": {},
   "outputs": [
    {
     "name": "stdout",
     "output_type": "stream",
     "text": [
      "{'A': 'Apple', 'B': 'Ball', 'C': 'Cat', 'D': 'Dog'}\n",
      "[('A', 'Apple'), ('C', 'Cat')]\n"
     ]
    }
   ],
   "source": [
    "# 6. Predict Output of:\n",
    "\n",
    "l1=['A','B','C','D']\n",
    "l2=['Apple','Ball','Cat','Dog']\n",
    "d1=dict(zip(l1,l2)) # zip method combine objects from 2 list\n",
    "print(d1)   # {'A': 'Apple', 'B': 'Ball', 'C': 'Cat', 'D': 'Dog'}\n",
    "d2=(list(d1.items())[::2])   # list(d1.items())-[('A', 'Apple'), ('B', 'Ball'), ('C', 'Cat'), ('D', 'Dog')] [::2]---o/p\n",
    "print(d2)   # [('A', 'Apple'), ('C', 'Cat')]\n"
   ]
  },
  {
   "cell_type": "code",
   "execution_count": 3,
   "metadata": {},
   "outputs": [],
   "source": [
    "# 7. WAP to input a string and count occurrence of each vowel in a string. \n",
    "# Ex: if user enters: \n",
    "#  “Beautiful Day” \n",
    "# Output should Be: \n",
    "#  a:2 \n",
    "#  e:1 \n",
    "#  I :1 \n",
    "#  o:0 \n",
    "#  u:2\n",
    "\n"
   ]
  },
  {
   "cell_type": "code",
   "execution_count": 10,
   "metadata": {},
   "outputs": [
    {
     "name": "stdout",
     "output_type": "stream",
     "text": [
      "enter a string:Oh Beautiful Day !\n",
      "o : 1\n",
      "e : 1\n",
      "a : 2\n",
      "u : 2\n",
      "i : 1\n",
      "u : 2\n",
      "a : 2\n",
      "{'o': 1, 'e': 1, 'a': 2, 'u': 2, 'i': 1}\n",
      "Done !!!\n"
     ]
    }
   ],
   "source": [
    "s=input(\"enter a string:\").lower()\n",
    "\n",
    "x=s.count('a')\n",
    "y=s.count('e')\n",
    "z=s.count('i')\n",
    "w=s.count('o')\n",
    "v=s.count('u')\n",
    "\n",
    "d={}\n",
    "\n",
    "for i in s:\n",
    "    if i=='a':\n",
    "        d[i]=x\n",
    "        print(i,\":\",x)\n",
    "    elif i=='e':\n",
    "        d[i]=y\n",
    "        print(i,\":\",y)\n",
    "    elif i=='i':\n",
    "        d[i]=z\n",
    "        print(i,\":\",z)\n",
    "    elif i=='o':\n",
    "        d[i]=w\n",
    "        print(i,\":\",w) \n",
    "    elif i=='u':\n",
    "        d[i]=v\n",
    "        print(i,\":\",v) \n",
    "#     else:\n",
    "#         print(\"no vowel\")\n",
    "print(d)\n",
    "print(\"Done !!!\")"
   ]
  },
  {
   "cell_type": "code",
   "execution_count": 7,
   "metadata": {},
   "outputs": [
    {
     "name": "stdout",
     "output_type": "stream",
     "text": [
      "enter a string:Oh Beautiful Day !\n",
      "{'o': 1, 'e': 1, 'a': 2, 'u': 2, 'i': 1}\n",
      "o : 1\n",
      "e : 1\n",
      "a : 2\n",
      "u : 2\n",
      "i : 1\n",
      "Done !!!\n"
     ]
    }
   ],
   "source": [
    "s=input(\"enter a string:\").lower()\n",
    "d={}\n",
    "\n",
    "vowels = set(\"aeiou\")\n",
    "for i in s:\n",
    "    if i in vowels:\n",
    "        d[i] = d.get(i, 0 )  + 1\n",
    "print(d)\n",
    "\n",
    "for k, v in d.items():\n",
    "    print(k,\":\", v)\n",
    "print(\"Done !!!\")"
   ]
  },
  {
   "cell_type": "code",
   "execution_count": null,
   "metadata": {},
   "outputs": [],
   "source": []
  }
 ],
 "metadata": {
  "kernelspec": {
   "display_name": "Python 3",
   "language": "python",
   "name": "python3"
  },
  "language_info": {
   "codemirror_mode": {
    "name": "ipython",
    "version": 3
   },
   "file_extension": ".py",
   "mimetype": "text/x-python",
   "name": "python",
   "nbconvert_exporter": "python",
   "pygments_lexer": "ipython3",
   "version": "3.8.3"
  }
 },
 "nbformat": 4,
 "nbformat_minor": 4
}
