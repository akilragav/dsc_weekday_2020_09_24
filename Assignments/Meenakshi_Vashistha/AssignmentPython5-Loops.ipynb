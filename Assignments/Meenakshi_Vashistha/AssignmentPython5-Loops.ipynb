{
 "cells": [
  {
   "cell_type": "code",
   "execution_count": 6,
   "metadata": {},
   "outputs": [
    {
     "name": "stdout",
     "output_type": "stream",
     "text": [
      "enter number:5\n",
      "natural numbers upto 5\n",
      "1\n",
      "2\n",
      "3\n",
      "4\n",
      "5\n"
     ]
    }
   ],
   "source": [
    "#1. WAP to print first n natural numbers (input n from user).\n",
    "\n",
    "n=int(input(\"enter number:\"))\n",
    "print(f\"natural numbers upto {n}\")\n",
    "for i in range(1,n+1):\n",
    "    \n",
    "    print(i)\n"
   ]
  },
  {
   "cell_type": "code",
   "execution_count": 8,
   "metadata": {},
   "outputs": [
    {
     "name": "stdout",
     "output_type": "stream",
     "text": [
      "enter number:5\n",
      "sum of natural numbers upto 5\n",
      "15.0\n"
     ]
    }
   ],
   "source": [
    "# 2. WAP to find sum of first n natural numbers\n",
    "\n",
    "n=int(input(\"enter number:\"))\n",
    "print(f\"sum of natural numbers upto {n}\")\n",
    "\n",
    "for i in range(1,n+1):\n",
    "       s=(n*(n+1))/2\n",
    "print(s)\n",
    "\n",
    "    "
   ]
  },
  {
   "cell_type": "code",
   "execution_count": 46,
   "metadata": {},
   "outputs": [
    {
     "name": "stdout",
     "output_type": "stream",
     "text": [
      "enter number:6\n",
      "natural numbers upto 6: [1, 2, 3, 4, 5, 6]\n",
      "natural numbers in reverse order: [6, 5, 4, 3, 2, 1]\n"
     ]
    }
   ],
   "source": [
    "# 3. WAP to print first n natural numbers in reverse order.\n",
    "\n",
    "l=[]\n",
    "n=int(input(\"enter number:\"))\n",
    "for i in range(1,n+1):\n",
    "    l.append(i)\n",
    "    \n",
    "print(f\"natural numbers upto {n}:\", l)\n",
    "print(\"natural numbers in reverse order:\", l[::-1])"
   ]
  },
  {
   "cell_type": "code",
   "execution_count": 51,
   "metadata": {},
   "outputs": [
    {
     "name": "stdout",
     "output_type": "stream",
     "text": [
      "enter number:5\n",
      "factorial of a number: 120\n"
     ]
    }
   ],
   "source": [
    "# 4. WAP to input a number and print its factorial.\n",
    "n=int(input(\"enter number:\"))\n",
    "i=0\n",
    "f=1\n",
    "while(i<n):\n",
    "    f=f*(n-i)\n",
    "    i+=1\n",
    "print(\"factorial of a number:\",f)    "
   ]
  },
  {
   "cell_type": "code",
   "execution_count": 158,
   "metadata": {},
   "outputs": [
    {
     "name": "stdout",
     "output_type": "stream",
     "text": [
      "enter number:10\n",
      "1 1 2 3 5 8 13 "
     ]
    }
   ],
   "source": [
    "# 5. WAP to print Fibonacci sequence till n.\n",
    "\n",
    "#0, 1, 1, 2, 3, 5, 8, 13, 21, 34, ...\n",
    "\n",
    "x=0\n",
    "y=1\n",
    "z=0\n",
    "n=int(input(\"enter number:\"))\n",
    "while z<=n:\n",
    "    x=y\n",
    "    y=z\n",
    "    z=x+y\n",
    "  \n",
    "    print(z, end=' ')\n",
    "\n"
   ]
  },
  {
   "cell_type": "code",
   "execution_count": 56,
   "metadata": {},
   "outputs": [
    {
     "name": "stdout",
     "output_type": "stream",
     "text": [
      "enter number:879\n",
      "8\n",
      "7\n",
      "9\n"
     ]
    }
   ],
   "source": [
    "# 6. WAP to print all digits of a number input from user.\n",
    "\n",
    "\n",
    "n=input(\"enter number:\")\n",
    "\n",
    "for i in range(len(n)):\n",
    "    print(n[i])\n"
   ]
  },
  {
   "cell_type": "code",
   "execution_count": 61,
   "metadata": {},
   "outputs": [
    {
     "name": "stdout",
     "output_type": "stream",
     "text": [
      "enter number:432\n",
      "sum of entered numbers: 9\n"
     ]
    }
   ],
   "source": [
    "# 7. WAP to find sum of all digits of a number.\n",
    "\n",
    "n=input(\"enter number:\")\n",
    "s=0\n",
    "for i in range(len(n)):\n",
    "    \n",
    "    s+=int(n[i])\n",
    "print(\"sum of entered numbers:\",s)"
   ]
  },
  {
   "cell_type": "code",
   "execution_count": 1,
   "metadata": {},
   "outputs": [],
   "source": [
    "# 8. WAP to find sum of following series given n as input from user \n",
    "# 1 + 2! + 3! + 4! + 5! + ….n! \n",
    "# Where n! denotes the factorial of number n.\n",
    "\n"
   ]
  },
  {
   "cell_type": "code",
   "execution_count": 81,
   "metadata": {},
   "outputs": [
    {
     "name": "stdout",
     "output_type": "stream",
     "text": [
      "enter a base: 4\n",
      "enter an exponent: 3\n",
      "64\n"
     ]
    }
   ],
   "source": [
    "# 9. WAP to input base and exponent and print result without using inbuilt function pow(use for or while loop).\n",
    "\n",
    "def func(base,exp):\n",
    "    s=1 \n",
    "    for i in range(exp):\n",
    "        s*=base\n",
    "    return s\n",
    "\n",
    "x=int(input(\"enter a base: \"))\n",
    "y=int(input(\"enter an exponent: \"))\n",
    "z=func(x,y)\n",
    "print(z)"
   ]
  },
  {
   "cell_type": "code",
   "execution_count": 84,
   "metadata": {},
   "outputs": [
    {
     "name": "stdout",
     "output_type": "stream",
     "text": [
      "\n",
      "*\n",
      "**\n",
      "***\n",
      "****\n",
      "*****\n"
     ]
    }
   ],
   "source": [
    "#10.Print following patterns:\n",
    "\n",
    "for i in range(6):\n",
    "    for j in range(i):\n",
    "        print(\"*\", end='')\n",
    "    print()"
   ]
  },
  {
   "cell_type": "code",
   "execution_count": 181,
   "metadata": {},
   "outputs": [
    {
     "name": "stdout",
     "output_type": "stream",
     "text": [
      "******\n",
      "*****\n",
      "****\n",
      "***\n",
      "**\n",
      "*\n"
     ]
    }
   ],
   "source": [
    "for i in range(6,0,-1): # start at index 6, stop at 0 in reverse direction\n",
    "    for j in range(i):\n",
    "        print(\"*\", end='')\n",
    "    print()"
   ]
  },
  {
   "cell_type": "code",
   "execution_count": null,
   "metadata": {},
   "outputs": [],
   "source": [
    "\n"
   ]
  },
  {
   "cell_type": "code",
   "execution_count": null,
   "metadata": {},
   "outputs": [],
   "source": []
  },
  {
   "cell_type": "code",
   "execution_count": 88,
   "metadata": {},
   "outputs": [
    {
     "name": "stdout",
     "output_type": "stream",
     "text": [
      "1\n",
      "22\n",
      "333\n",
      "4444\n",
      "55555\n"
     ]
    }
   ],
   "source": [
    "for i in range(5):\n",
    "    for j in range(i+1):\n",
    "        print(i+1, end='')\n",
    "    print()"
   ]
  },
  {
   "cell_type": "code",
   "execution_count": 188,
   "metadata": {},
   "outputs": [
    {
     "name": "stdout",
     "output_type": "stream",
     "text": [
      "\n",
      "1\n",
      "12\n",
      "123\n",
      "1234\n",
      "12345\n"
     ]
    }
   ],
   "source": [
    "for i in range(6):\n",
    "    for j in range(i):\n",
    "        print(j+1,end='')\n",
    "        \n",
    "    print()      \n"
   ]
  },
  {
   "cell_type": "code",
   "execution_count": 17,
   "metadata": {},
   "outputs": [
    {
     "name": "stdout",
     "output_type": "stream",
     "text": [
      "5\n",
      "44\n",
      "333\n",
      "2222\n",
      "11111\n"
     ]
    }
   ],
   "source": [
    "\n",
    "for i in range(5):\n",
    "    for j in range(i+1):\n",
    "        print(5-i, end='')\n",
    "              \n",
    "    print()"
   ]
  },
  {
   "cell_type": "code",
   "execution_count": null,
   "metadata": {},
   "outputs": [],
   "source": []
  },
  {
   "cell_type": "code",
   "execution_count": 162,
   "metadata": {},
   "outputs": [
    {
     "name": "stdout",
     "output_type": "stream",
     "text": [
      "\n",
      "A\n",
      "AB\n",
      "ABC\n",
      "ABCD\n",
      "ABCDE\n"
     ]
    }
   ],
   "source": [
    "for i in range(6):\n",
    "    for j in range(i):\n",
    "        print(chr(65+j),end='')\n",
    "        \n",
    "    print()"
   ]
  },
  {
   "cell_type": "code",
   "execution_count": 214,
   "metadata": {},
   "outputs": [
    {
     "name": "stdout",
     "output_type": "stream",
     "text": [
      "\n",
      "A\n",
      "BC\n",
      "DEF\n",
      "GHIJ\n",
      "KLMNO\n"
     ]
    }
   ],
   "source": [
    "\n",
    "k=65\n",
    "for i in range(6):\n",
    "    for j in range(i):\n",
    "        print(chr(k),end='')# ????????????\n",
    "        k+=1\n",
    "        \n",
    "    print()"
   ]
  },
  {
   "cell_type": "code",
   "execution_count": 205,
   "metadata": {},
   "outputs": [
    {
     "name": "stdout",
     "output_type": "stream",
     "text": [
      "A\n",
      "BB\n",
      "CCC\n",
      "DDDD\n",
      "EEEEE\n"
     ]
    }
   ],
   "source": [
    "for i in range(5):\n",
    "    for j in range(i+1):\n",
    "        print(chr(65+i),end='')\n",
    "        \n",
    "    print()"
   ]
  },
  {
   "cell_type": "code",
   "execution_count": null,
   "metadata": {},
   "outputs": [],
   "source": []
  },
  {
   "cell_type": "code",
   "execution_count": null,
   "metadata": {},
   "outputs": [],
   "source": []
  }
 ],
 "metadata": {
  "kernelspec": {
   "display_name": "Python 3",
   "language": "python",
   "name": "python3"
  },
  "language_info": {
   "codemirror_mode": {
    "name": "ipython",
    "version": 3
   },
   "file_extension": ".py",
   "mimetype": "text/x-python",
   "name": "python",
   "nbconvert_exporter": "python",
   "pygments_lexer": "ipython3",
   "version": "3.8.3"
  }
 },
 "nbformat": 4,
 "nbformat_minor": 4
}
