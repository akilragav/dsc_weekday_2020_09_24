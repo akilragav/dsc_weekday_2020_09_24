{
 "cells": [
  {
   "cell_type": "markdown",
   "metadata": {},
   "source": [
    "## NUMPY\n",
    "- create a numpy array of 5 zeros.\n",
    "    - check datatype, itemsize and shape of above\n",
    "- create a numpy array of ones of shape (5,4)\n",
    "- create a matrix of shape 4,5 with numbers from 1-20\n",
    "- multiply all elements of above array by 10\n",
    "- print odd elements from array\n",
    "- replace all even elements by their negative\n",
    "  \n",
    "  \n",
    "  \n",
    "- create a linearly spaced matrix M1 of size 4x4 having values in range 1-16\n",
    "- create a transpose of above matrix call it M2\n",
    "- find sum of above matrix M3 = (M1 + M2)\n",
    "- Find Transpose of M3, Call it MT1. Check if M3 == MT1\n",
    "- find diffrence of M4 = (M1 - M2)\n",
    "- Find Transpose of M4, Call it MT2. Check if M4 == MT2. Also check if M4 == -MT2\n",
    "  \n",
    "\n",
    "- create a matrix (3x4) R1 of random numbers between 10-40\n",
    "- find min and max column wise\n",
    "- replace the last column with sum of all the columns\n",
    "\n",
    "\n",
    "- create a matrix (3x4) R1 of random numbers between 10-40\n",
    "- replace all even elements with nan in R1\n",
    "- count number of nan in R1\n",
    "\n",
    "\n",
    "\n",
    "- check output of this code  \n",
    "`a1 = np.arange(1,10).reshape(3,3)\n",
    "a2 = np.arange(11,20).reshape(3,3)\n",
    "a3 = np.append(a1,a2)\n",
    "print(a3)\n",
    "a3 = np.append(a1,a2, axis = 0)\n",
    "print(a3)\n",
    "a3 = np.append(a1,a2, axis = 1)\n",
    "print(a3)\n",
    "`\n"
   ]
  },
  {
   "cell_type": "code",
   "execution_count": 27,
   "metadata": {},
   "outputs": [
    {
     "name": "stdout",
     "output_type": "stream",
     "text": [
      "[0. 0. 0. 0. 0.]\n",
      "datatype of d: <class 'numpy.ndarray'>\n",
      "datatype of array elements: float64\n",
      "itemsize: 8\n",
      "shape: (5,)\n"
     ]
    }
   ],
   "source": [
    "#create a numpy array of 5 zeros.\n",
    "#check datatype, itemsize and shape of above\n",
    "\n",
    "import numpy as np\n",
    "#d=np.array([0,0,0,0,0])\n",
    "d=np.zeros(5)\n",
    "print(d)\n",
    "print(\"datatype of d:\", type(d))    # type(d) gives datatype of 'd'\n",
    "print(\"datatype of array elements:\" ,d.dtype)  # dtype gives datatype of d elements means array elements datatype\n",
    "print(\"itemsize:\" ,d.itemsize)  # size of item of array\n",
    "print(\"shape:\", d.shape)  # row, col"
   ]
  },
  {
   "cell_type": "code",
   "execution_count": 29,
   "metadata": {},
   "outputs": [
    {
     "name": "stdout",
     "output_type": "stream",
     "text": [
      "[[1. 1. 1. 1.]\n",
      " [1. 1. 1. 1.]\n",
      " [1. 1. 1. 1.]\n",
      " [1. 1. 1. 1.]\n",
      " [1. 1. 1. 1.]]\n",
      "(5, 4)\n"
     ]
    }
   ],
   "source": [
    "# create a numpy array of ones of shape (5,4)\n",
    "\n",
    "d=np.ones((5,4))\n",
    "print(d)\n",
    "print(d.shape)"
   ]
  },
  {
   "cell_type": "code",
   "execution_count": 32,
   "metadata": {},
   "outputs": [
    {
     "name": "stdout",
     "output_type": "stream",
     "text": [
      "[ 1  2  3  4  5  6  7  8  9 10 11 12 13 14 15 16 17 18 19 20]\n",
      "[[ 1  2  3  4  5]\n",
      " [ 6  7  8  9 10]\n",
      " [11 12 13 14 15]\n",
      " [16 17 18 19 20]]\n",
      "\n",
      "[[ 1  2  3  4  5]\n",
      " [ 6  7  8  9 10]\n",
      " [11 12 13 14 15]\n",
      " [16 17 18 19 20]]\n"
     ]
    }
   ],
   "source": [
    "# create a matrix of shape 4,5 with numbers from 1-20\n",
    "\n",
    "d=np.arange(1,21)\n",
    "print(d)\n",
    "r=d.reshape(4,5)\n",
    "print(r)\n",
    "print()\n",
    "a=np.arange(1,21).reshape(4,5)\n",
    "print(a)"
   ]
  },
  {
   "cell_type": "code",
   "execution_count": 33,
   "metadata": {},
   "outputs": [
    {
     "name": "stdout",
     "output_type": "stream",
     "text": [
      "[[ 10  20  30  40  50]\n",
      " [ 60  70  80  90 100]\n",
      " [110 120 130 140 150]\n",
      " [160 170 180 190 200]]\n"
     ]
    }
   ],
   "source": [
    "# multiply all elements of above array by 10\n",
    "\n",
    "print(a*10)\n"
   ]
  },
  {
   "cell_type": "code",
   "execution_count": 43,
   "metadata": {},
   "outputs": [
    {
     "name": "stdout",
     "output_type": "stream",
     "text": [
      "[[ 1  2  3  4  5]\n",
      " [ 6  7  8  9 10]\n",
      " [11 12 13 14 15]\n",
      " [16 17 18 19 20]]\n",
      "20\n",
      "odd elements: [ 1  3  5  7  9 11 13 15 17 19]\n",
      "[[  1  -2   3  -4   5]\n",
      " [ -6   7  -8   9 -10]\n",
      " [ 11 -12  13 -14  15]\n",
      " [-16  17 -18  19 -20]]\n"
     ]
    }
   ],
   "source": [
    "# print odd elements from array\n",
    "# replace all even elements by their negative\n",
    "\n",
    "a=np.arange(1,21).reshape(4,5)\n",
    "print(a)\n",
    "print(a.size)\n",
    "r=a%2==0\n",
    "# print(r)  # checking even values\n",
    "# print(~r)  # checking odd values\n",
    "print(\"odd elements:\", a[~r])\n",
    "a[r]=-a[r]\n",
    "print(a)\n"
   ]
  },
  {
   "cell_type": "code",
   "execution_count": 41,
   "metadata": {},
   "outputs": [
    {
     "name": "stdout",
     "output_type": "stream",
     "text": [
      "[[ 1.  2.  3.  4.]\n",
      " [ 5.  6.  7.  8.]\n",
      " [ 9. 10. 11. 12.]\n",
      " [13. 14. 15. 16.]]\n"
     ]
    }
   ],
   "source": [
    "#create a linearly spaced matrix M1 of size 4x4 having values in range 1-16\n",
    "\n",
    "import numpy as np\n",
    "# M1=np.linspace(1,16,16)\n",
    "# print(M1, len(M1))\n",
    "# print(M1.shape)\n",
    "# r=M1.reshape(4,4)\n",
    "# print(r)\n",
    "\n",
    "# other way\n",
    "M1=np.linspace(1,16,16).reshape(4,4)\n",
    "print(M1)"
   ]
  },
  {
   "cell_type": "code",
   "execution_count": 42,
   "metadata": {},
   "outputs": [
    {
     "name": "stdout",
     "output_type": "stream",
     "text": [
      "[[ 1.  5.  9. 13.]\n",
      " [ 2.  6. 10. 14.]\n",
      " [ 3.  7. 11. 15.]\n",
      " [ 4.  8. 12. 16.]]\n",
      "\n",
      "[[ 1.  5.  9. 13.]\n",
      " [ 2.  6. 10. 14.]\n",
      " [ 3.  7. 11. 15.]\n",
      " [ 4.  8. 12. 16.]]\n"
     ]
    }
   ],
   "source": [
    "# create a transpose of above matrix call it M2\n",
    "\n",
    "M2=np.transpose(M1)\n",
    "print(M2)\n",
    "print()\n",
    "#other way\n",
    "print(M1.T)\n"
   ]
  },
  {
   "cell_type": "code",
   "execution_count": 44,
   "metadata": {},
   "outputs": [
    {
     "name": "stdout",
     "output_type": "stream",
     "text": [
      "[[ 1.  2.  3.  4.]\n",
      " [ 5.  6.  7.  8.]\n",
      " [ 9. 10. 11. 12.]\n",
      " [13. 14. 15. 16.]]\n",
      "[[ 1.  5.  9. 13.]\n",
      " [ 2.  6. 10. 14.]\n",
      " [ 3.  7. 11. 15.]\n",
      " [ 4.  8. 12. 16.]]\n",
      "[[ 2.  7. 12. 17.]\n",
      " [ 7. 12. 17. 22.]\n",
      " [12. 17. 22. 27.]\n",
      " [17. 22. 27. 32.]]\n"
     ]
    }
   ],
   "source": [
    "# find sum of above matrix M3 = (M1 + M2)\n",
    "print(M1)\n",
    "print(M2)\n",
    "M3=M1+M2\n",
    "print(M3)"
   ]
  },
  {
   "cell_type": "code",
   "execution_count": 51,
   "metadata": {},
   "outputs": [
    {
     "name": "stdout",
     "output_type": "stream",
     "text": [
      "[[ 2.  7. 12. 17.]\n",
      " [ 7. 12. 17. 22.]\n",
      " [12. 17. 22. 27.]\n",
      " [17. 22. 27. 32.]]\n",
      "[[ True  True  True  True]\n",
      " [ True  True  True  True]\n",
      " [ True  True  True  True]\n",
      " [ True  True  True  True]]\n",
      "[[ 0. -3. -6. -9.]\n",
      " [ 3.  0. -3. -6.]\n",
      " [ 6.  3.  0. -3.]\n",
      " [ 9.  6.  3.  0.]]\n",
      "[[ 0.  3.  6.  9.]\n",
      " [-3.  0.  3.  6.]\n",
      " [-6. -3.  0.  3.]\n",
      " [-9. -6. -3.  0.]]\n",
      "[[ True False False False]\n",
      " [False  True False False]\n",
      " [False False  True False]\n",
      " [False False False  True]]\n",
      "[[ True  True  True  True]\n",
      " [ True  True  True  True]\n",
      " [ True  True  True  True]\n",
      " [ True  True  True  True]]\n"
     ]
    }
   ],
   "source": [
    "#Find Transpose of M3, Call it MT1. Check if M3 == MT1\n",
    "# find diffrence of M4 = (M1 - M2)\n",
    "# Find Transpose of M4, Call it MT2. Check if M4 == MT2. Also check if M4 == -MT2\n",
    "\n",
    "MT1=np.transpose(M3)\n",
    "print(MT1)\n",
    "print(M3 == MT1)\n",
    "M4=M1-M2\n",
    "print(M4)\n",
    "MT2=np.transpose(M4)\n",
    "print(MT2)\n",
    "print(M4==MT2)  # NOT EQUAL AS IT IS GIVING FALSE VALUES ALSO IN MATRIX\n",
    "print(M4== -MT2) # EQUAL AS ALL VALUES ARE TRUE"
   ]
  },
  {
   "cell_type": "code",
   "execution_count": 38,
   "metadata": {},
   "outputs": [
    {
     "name": "stdout",
     "output_type": "stream",
     "text": [
      "[[31 24 32 25]\n",
      " [20 21 35 25]\n",
      " [21 34 22 11]]\n"
     ]
    }
   ],
   "source": [
    "#create a matrix (3x4) R1 of random numbers between 10-40\n",
    "\n",
    "import numpy as np\n",
    "import random\n",
    "\n",
    "R1=np.random.randint(10,40,size=(3,4))\n",
    "print(R1)\n"
   ]
  },
  {
   "cell_type": "code",
   "execution_count": 40,
   "metadata": {},
   "outputs": [
    {
     "name": "stdout",
     "output_type": "stream",
     "text": [
      "[[15 35 10 19]\n",
      " [18 20 21 25]\n",
      " [29 19 38 34]]\n",
      "\n",
      "min column wise [15 19 10 19]\n",
      "max column wise [29 35 38 34]\n",
      "\n",
      "sum column wise [62 74 69 78]\n",
      "sum of last column 78\n",
      "\n",
      "replaced the last column with sum of all the columns\n",
      " [[15 35 10 78]\n",
      " [18 20 21 78]\n",
      " [29 19 38 78]]\n"
     ]
    }
   ],
   "source": [
    "# find min and max column wise\n",
    "\n",
    "R1=np.random.randint(10,40,size=(3,4))\n",
    "print(R1)\n",
    "print()\n",
    "print(\"min column wise\", np.min(R1,axis=0))\n",
    "print(\"max column wise\", np.max(R1, axis=0))\n",
    "print()\n",
    "\n",
    "# replace the last column with sum of all the columns\n",
    "\n",
    "a=np.sum(R1, axis=0)\n",
    "print(\"sum column wise\", a)\n",
    "print(\"sum of last column\", a[3])\n",
    "print()\n",
    "R1[:,3]=a[3]\n",
    "print(\"replaced the last column with sum of all the columns\\n\", R1)"
   ]
  },
  {
   "cell_type": "code",
   "execution_count": 75,
   "metadata": {},
   "outputs": [
    {
     "name": "stdout",
     "output_type": "stream",
     "text": [
      "[[27. 18. 17. 27.]\n",
      " [23. 17. 11. 16.]\n",
      " [39. 10. 12. 19.]] float64\n",
      "\n",
      "[[27. nan 17. 27.]\n",
      " [23. 17. 11. nan]\n",
      " [39. nan nan 19.]]\n",
      "[[False  True False False]\n",
      " [False False False  True]\n",
      " [False  True  True False]]\n",
      "4\n"
     ]
    }
   ],
   "source": [
    "# create a matrix (3x4) R1 of random numbers between 10-40\n",
    "# replace all even elements with nan in R1\n",
    "# count number of nan in R1\n",
    "\n",
    "R1=np.random.randint(10,40, size=(3,4)).astype(\"float64\")\n",
    "print(R1 , R1.dtype)\n",
    "print()\n",
    "a=R1%2==0\n",
    "R1[a]=np.nan\n",
    "print(R1)\n",
    "print(np.isnan(R1))\n",
    "print(np.isnan(R1).sum())"
   ]
  },
  {
   "cell_type": "code",
   "execution_count": 77,
   "metadata": {},
   "outputs": [
    {
     "name": "stdout",
     "output_type": "stream",
     "text": [
      "[ 1  2  3  4  5  6  7  8  9 11 12 13 14 15 16 17 18 19]\n",
      "[[ 1  2  3]\n",
      " [ 4  5  6]\n",
      " [ 7  8  9]\n",
      " [11 12 13]\n",
      " [14 15 16]\n",
      " [17 18 19]]\n",
      "[[ 1  2  3 11 12 13]\n",
      " [ 4  5  6 14 15 16]\n",
      " [ 7  8  9 17 18 19]]\n"
     ]
    }
   ],
   "source": [
    "# check output of this code\n",
    "\n",
    "a1 = np.arange(1,10).reshape(3,3) # create a matrix of 3*3 having random elements as an elements in the range of(1,10)\n",
    "a2 = np.arange(11,20).reshape(3,3)\n",
    "a3 = np.append(a1,a2)\n",
    "print(a3)\n",
    "a3 = np.append(a1,a2, axis = 0) # axis=0 means row wise, appending row wise\n",
    "print(a3)\n",
    "a3 = np.append(a1,a2, axis = 1) # axis=1 means column wise, appending col wise\n",
    "print(a3)"
   ]
  },
  {
   "cell_type": "code",
   "execution_count": null,
   "metadata": {},
   "outputs": [],
   "source": []
  }
 ],
 "metadata": {
  "kernelspec": {
   "display_name": "Python 3",
   "language": "python",
   "name": "python3"
  },
  "language_info": {
   "codemirror_mode": {
    "name": "ipython",
    "version": 3
   },
   "file_extension": ".py",
   "mimetype": "text/x-python",
   "name": "python",
   "nbconvert_exporter": "python",
   "pygments_lexer": "ipython3",
   "version": "3.8.3"
  }
 },
 "nbformat": 4,
 "nbformat_minor": 2
}
