{
 "cells": [
  {
   "cell_type": "code",
   "execution_count": 4,
   "metadata": {},
   "outputs": [
    {
     "name": "stdout",
     "output_type": "stream",
     "text": [
      "[1, 2, 3, 4, 5]\n"
     ]
    }
   ],
   "source": [
    "# 1. Convert a Tuple t = (1,2,3,4,5) to a list\n",
    "t=(1,2,3,4,5)\n",
    "#print(t)\n",
    "r=list(t)\n",
    "print(r)\n"
   ]
  },
  {
   "cell_type": "code",
   "execution_count": 15,
   "metadata": {},
   "outputs": [
    {
     "name": "stdout",
     "output_type": "stream",
     "text": [
      "[8, 6, 4, 2, 1, 3, 5, 7]\n"
     ]
    }
   ],
   "source": [
    "# 2. WAP to join a list and a tuple: \n",
    "L = [1,3,5,7] \n",
    "T = (8,6,4,2)\n",
    "LS= list(T)\n",
    "\n",
    "LS.extend(L)\n",
    "\n",
    "print(LS)\n"
   ]
  },
  {
   "cell_type": "code",
   "execution_count": null,
   "metadata": {},
   "outputs": [],
   "source": [
    "# 3. What is difference between list and tuple.\n",
    "\n",
    "List:\n",
    "    (i) List is mutable\n",
    "    (ii) It contains elements in [](square brackets)\n",
    "    \n",
    "Tuple:\n",
    "    (i) Tuple is immutable\n",
    "    (ii) It contains elements in ()(open brackets)"
   ]
  },
  {
   "cell_type": "code",
   "execution_count": 36,
   "metadata": {},
   "outputs": [
    {
     "name": "stdout",
     "output_type": "stream",
     "text": [
      "['C', 'A', 'c', 'd', 'a']\n"
     ]
    }
   ],
   "source": [
    "# 4. Print the list in reverse order  - l = [‘a’, ‘d’, ‘c’, ‘A’, ‘C’]\n",
    "\n",
    "l = ['a', 'd', 'c', 'A', 'C']\n",
    "m=l[::-1]\n",
    "print(m)    "
   ]
  },
  {
   "cell_type": "code",
   "execution_count": 37,
   "metadata": {},
   "outputs": [
    {
     "name": "stdout",
     "output_type": "stream",
     "text": [
      "[11, 21, 31, 41]\n"
     ]
    }
   ],
   "source": [
    "# 5. Print Elements at Odd indexes from a list (Do not use loop) - l = [10,11,20, 21,30, 31, 40, 41]\n",
    "    \n",
    "l = [10,11,20, 21,30, 31, 40, 41]\n",
    "m=l[1::2]\n",
    "print(m)"
   ]
  },
  {
   "cell_type": "code",
   "execution_count": null,
   "metadata": {},
   "outputs": [],
   "source": [
    "# 6. How many ways you can copy a list.\n",
    "\n",
    "Broadly, there are 2 types of copy- Shallow copy and Deep copy.\n",
    "(i) The following methods of copying lists are equivalent:\n",
    "    n = l[:], o = list(l) and p = copy.copy(l). Altering mutable elements of the original list l will affect these \n",
    "    shallow copies as well. \n",
    "    All the lists n, o and p are so-called shallow copies of the list l: they are new objects, but populated with the \n",
    "    references to child objects found in the original list l. Therefore altering the list itself through l.append(2) \n",
    "    does not alter the copies, but modifying the mutable elements already present in l does.\n",
    "(ii) The only truly independent copy is n = copy.deepcopy(l). Altering the elements (mutable or immutable) in the \n",
    "     original list l will not affect this copy.\n"
   ]
  },
  {
   "cell_type": "code",
   "execution_count": 40,
   "metadata": {},
   "outputs": [
    {
     "name": "stdout",
     "output_type": "stream",
     "text": [
      "a\n",
      "5\n"
     ]
    }
   ],
   "source": [
    "# 7. Predict output\n",
    "\n",
    "n_list=[\"Happy\", [2,0,1,5]]\n",
    "print(n_list[0][1])         # n_list[0]=\"Happy\"      Happy[1]=a\n",
    "print(n_list[1][3])         # n_list[1]=[2,0,1,5]    [2,0,1,5][3]=5\n"
   ]
  },
  {
   "cell_type": "code",
   "execution_count": 42,
   "metadata": {},
   "outputs": [
    {
     "name": "stdout",
     "output_type": "stream",
     "text": [
      "[1, 4, 6, 8]\n",
      "[1, 3, 5, 7]\n"
     ]
    }
   ],
   "source": [
    "# 8. Predict output\n",
    "\n",
    "odd=[2,4,6,8]\n",
    "odd[0] = 1\n",
    "print(odd)\n",
    "\n",
    "odd[1:4]=[3,5,7]  # index 1,2,3= 3,5,7\n",
    "print(odd)"
   ]
  },
  {
   "cell_type": "code",
   "execution_count": 43,
   "metadata": {},
   "outputs": [
    {
     "name": "stdout",
     "output_type": "stream",
     "text": [
      "[1, 3, 5, [7, 9]]\n",
      "[1, 3, 5, [7, 9], 11, 13]\n"
     ]
    }
   ],
   "source": [
    "# 9. Predict output\n",
    "\n",
    "odd=[1,3,5]\n",
    "odd.append([7,9])   # [1,3,5,[7,9]]\n",
    "print(odd)          # odd is changed\n",
    "odd.extend([11,13]) # [1,3,5,[7,9],11,13]\n",
    "print(odd)\n"
   ]
  },
  {
   "cell_type": "code",
   "execution_count": 44,
   "metadata": {},
   "outputs": [
    {
     "name": "stdout",
     "output_type": "stream",
     "text": [
      "<class 'tuple'>\n",
      "<class 'int'>\n",
      "<class 'int'>\n",
      "<class 'tuple'>\n"
     ]
    }
   ],
   "source": [
    "# 10. Predict output\n",
    "\n",
    "x=1,2,3          # tuple  -- as it is seqquence\n",
    "print(type(x))\n",
    "x=(1)\n",
    "print(type(x))   # integer\n",
    "x=1\n",
    "print(type(x))   # integer\n",
    "x=1,\n",
    "print(type(x))   # tuple\n",
    "\n"
   ]
  },
  {
   "cell_type": "code",
   "execution_count": 74,
   "metadata": {},
   "outputs": [
    {
     "name": "stdout",
     "output_type": "stream",
     "text": [
      "1\t2\t3\t\n",
      "4\t5\t6\t\n",
      "7\t8\t9\t"
     ]
    }
   ],
   "source": [
    "# 11. Try to represent a matrix with following data in python: \n",
    "# 1 2 3 \n",
    "# 4 5 6 \n",
    "# 7 8 9\n",
    "\n",
    "for x in range(1,10):\n",
    "    print(x, end='\\t')\n",
    "    \n",
    "    if x==3 or x==6:\n",
    "        print(sep='\\n')\n",
    "    "
   ]
  },
  {
   "cell_type": "code",
   "execution_count": 82,
   "metadata": {},
   "outputs": [
    {
     "name": "stdout",
     "output_type": "stream",
     "text": [
      "('s', 't', 'r', 'i', 'n', 'g')\n",
      "('g', 'n', 'i', 'r', 't', 's')\n",
      "('n', 's')\n"
     ]
    }
   ],
   "source": [
    "# 12. Predict output\n",
    "\n",
    "t=tuple('string')\n",
    "print(t)          #('string')\n",
    "print(t[::-1])    # start from -1 and end at 0 index-- reverse\n",
    "print(t[::2][::-2])  # t[::2]---- srn [::-2]----ns\n"
   ]
  },
  {
   "cell_type": "code",
   "execution_count": 83,
   "metadata": {},
   "outputs": [
    {
     "name": "stdout",
     "output_type": "stream",
     "text": [
      "True\n",
      "False\n",
      "1\n",
      "3\n"
     ]
    }
   ],
   "source": [
    "# 13. Predict output\n",
    "\n",
    "t=tuple([10,20,30,40,50,60])\n",
    "print(60 in t)     # integer 60 is present so True\n",
    "print('60' in t)   # string 60 '60' is not present so False \n",
    "print(t.count(10)) # count 10\n",
    "print(t.index(40)) #3"
   ]
  },
  {
   "cell_type": "code",
   "execution_count": 86,
   "metadata": {},
   "outputs": [
    {
     "name": "stdout",
     "output_type": "stream",
     "text": [
      "enter a string:maam\n",
      "string is pallindrome\n"
     ]
    }
   ],
   "source": [
    "# 14. Write a program to input a string and print if it is palindrome or not.\n",
    "\n",
    "s=input(\"enter a string:\")\n",
    "if (s[::]==s[::-1]):\n",
    "    print(\"string is pallindrome\")\n",
    "else: \n",
    "    print(\"string is not pallindrome\")"
   ]
  },
  {
   "cell_type": "code",
   "execution_count": 98,
   "metadata": {},
   "outputs": [
    {
     "name": "stdout",
     "output_type": "stream",
     "text": [
      "20\t15\t10\t5\t"
     ]
    }
   ],
   "source": [
    "# 15. Use the range method and create a tuple containing the following values: \n",
    "#(20, 15, 10, 5)\n",
    "\n",
    "for x in range(20,4,-5):\n",
    "    print(x, end='\\t')"
   ]
  },
  {
   "cell_type": "code",
   "execution_count": 125,
   "metadata": {},
   "outputs": [
    {
     "name": "stdout",
     "output_type": "stream",
     "text": [
      "enter a string:hello\n",
      "['h', 'e', 'l', 'l', 'o']\n"
     ]
    }
   ],
   "source": [
    "#16. WAP to convert string to list of characters.\n",
    "\n",
    "s=input(\"enter a string:\")\n",
    "p=list(s)\n",
    "print(p)"
   ]
  },
  {
   "cell_type": "code",
   "execution_count": 112,
   "metadata": {},
   "outputs": [
    {
     "name": "stdout",
     "output_type": "stream",
     "text": [
      "<class 'list'>\n",
      "<class 'NoneType'>\n",
      "<class 'str'>\n",
      "<class 'bool'>\n"
     ]
    }
   ],
   "source": [
    "# 17. what is the return type of:\n",
    "\n",
    "print(type('1 2'.split()))\n",
    "print(type([1,3,2].sort()))   # sorting is inplace function, so it change in list itself\n",
    "print(type('abc'.upper()))\n",
    "print(type(1 in [1,2]))"
   ]
  },
  {
   "cell_type": "code",
   "execution_count": null,
   "metadata": {},
   "outputs": [],
   "source": []
  }
 ],
 "metadata": {
  "kernelspec": {
   "display_name": "Python 3",
   "language": "python",
   "name": "python3"
  },
  "language_info": {
   "codemirror_mode": {
    "name": "ipython",
    "version": 3
   },
   "file_extension": ".py",
   "mimetype": "text/x-python",
   "name": "python",
   "nbconvert_exporter": "python",
   "pygments_lexer": "ipython3",
   "version": "3.8.3"
  }
 },
 "nbformat": 4,
 "nbformat_minor": 4
}
