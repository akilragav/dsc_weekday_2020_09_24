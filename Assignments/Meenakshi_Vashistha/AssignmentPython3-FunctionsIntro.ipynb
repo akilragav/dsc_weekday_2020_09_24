{
 "cells": [
  {
   "cell_type": "code",
   "execution_count": 3,
   "metadata": {},
   "outputs": [
    {
     "name": "stdout",
     "output_type": "stream",
     "text": [
      "enter 1st string:Vashistha\n",
      "enter 2nd string:Meenakshi\n",
      "After swapping\n",
      "1st string: Meenakshi \n",
      "2nd string: Vashistha\n"
     ]
    }
   ],
   "source": [
    "# 1. WAP to input 2 strings and swap the strings\n",
    "\n",
    "s1=input(\"enter 1st string:\")\n",
    "s2=input(\"enter 2nd string:\")\n",
    "s1,s2=s2,s1\n",
    "print(\"After swapping\\n1st string:\",s1,\"\\n2nd string:\",s2)"
   ]
  },
  {
   "cell_type": "code",
   "execution_count": 14,
   "metadata": {},
   "outputs": [
    {
     "name": "stdout",
     "output_type": "stream",
     "text": [
      "4 random numbers:23\t19\t7\t5 \n",
      "Average: 13.5\n"
     ]
    }
   ],
   "source": [
    "# 2. WAP to generate 4 random numbers in the range 0-26 and print their average\n",
    "\n",
    "import random\n",
    "l=[]\n",
    "i=0\n",
    "while(i<4):\n",
    "    a=random.randrange(0,26)\n",
    "    print(\"list element:\",a)\n",
    "    l.append(a)\n",
    "    i+=1\n",
    "print(l)\n",
    "\n",
    "avg=(l[0]+l[1]+l[2]+l[3])/4\n",
    "print(\"average of list elements:\",avg)\n",
    "    "
   ]
  },
  {
   "cell_type": "code",
   "execution_count": 2,
   "metadata": {},
   "outputs": [
    {
     "name": "stdout",
     "output_type": "stream",
     "text": [
      "U\n",
      "g\n"
     ]
    }
   ],
   "source": [
    "#3. WAP to generate and print a random uppercase or lowercase alphabet. Try these: \n",
    "#•Create a string containing all alphabets and then select a random alphabet. \n",
    "#• Check the module string\n",
    "import random\n",
    "import string\n",
    "print(random.choice(string.ascii_letters))\n",
    "\n",
    "s=\"jfhfdhdgdg\"\n",
    "print(random.choice(s))\n"
   ]
  },
  {
   "cell_type": "code",
   "execution_count": 19,
   "metadata": {},
   "outputs": [
    {
     "name": "stdout",
     "output_type": "stream",
     "text": [
      "enter principal:1\n",
      "enter rate of interest:2\n",
      "enter time:3\n",
      "0.06\n"
     ]
    }
   ],
   "source": [
    "# 4. WAF get_si() that takes Principle, Rate and Time as arguments and returns the Simple Interest.\n",
    "\n",
    "def get_si(p,r,t):\n",
    "    si=(p*r*t)/100\n",
    "    return si\n",
    "\n",
    "x=int(input(\"enter principal:\"))\n",
    "y=int(input(\"enter rate of interest:\"))\n",
    "z=int(input(\"enter time:\"))\n",
    "\n",
    "m=get_si(x,y,z)\n",
    "print(m)"
   ]
  },
  {
   "cell_type": "code",
   "execution_count": 27,
   "metadata": {},
   "outputs": [
    {
     "name": "stdout",
     "output_type": "stream",
     "text": [
      "enter principal:100\n",
      "10.0\n",
      "110.0\n"
     ]
    }
   ],
   "source": [
    "# 5. WAF get_amount() that takes Principle, Rate and Time as arguments and returns the \n",
    "# Total amount using the get_si() function from above to calculate the SI. Also provide \n",
    "# Rate = 10 and Time = 1 as default arguments.\n",
    "def get_si(p,r,t):\n",
    "    si=(p*r*t)/100\n",
    "    return si\n",
    "\n",
    "def get_amount(p,r,t):\n",
    "    amount=p+get_si(p,r,t)\n",
    "    return amount\n",
    "\n",
    "x=int(input(\"enter principal:\"))\n",
    "n=get_si(x,10,1)\n",
    "print(n)\n",
    "m=get_amount(x,10,1)\n",
    "print(m)"
   ]
  },
  {
   "cell_type": "code",
   "execution_count": 32,
   "metadata": {},
   "outputs": [
    {
     "name": "stdout",
     "output_type": "stream",
     "text": [
      "enter principal:1\n",
      "enter rate of interest:2\n",
      "enter time:3\n",
      "ci: 1.0612080000000002\n"
     ]
    }
   ],
   "source": [
    "#6. WAP get_ci() that takes Principle, Rate and Time as arguments and returns the Compound Interest.\n",
    "\n",
    "def get_ci(p,r,t):\n",
    "    ci=p*((1+(r/100))**t)\n",
    "    return ci\n",
    "\n",
    "x=int(input(\"enter principal:\"))\n",
    "y=int(input(\"enter rate of interest:\"))\n",
    "z=int(input(\"enter time:\"))\n",
    "m=get_ci(x,y,z)\n",
    "print(\"ci:\",m)\n"
   ]
  },
  {
   "cell_type": "code",
   "execution_count": 3,
   "metadata": {},
   "outputs": [
    {
     "name": "stdout",
     "output_type": "stream",
     "text": [
      "enter quotient:2\n",
      "enter remainder:4\n",
      "(2, 4)\n"
     ]
    }
   ],
   "source": [
    "#  7. WAP get_q_r() taking 2 numbers as parameters and returns the quotient and remainder in the form of a tuple.\n",
    "\n",
    "def get_q_r():\n",
    "    x=int(input(\"enter quotient:\"))\n",
    "    y=int(input(\"enter remainder:\")) \n",
    "    return(x,y)\n",
    "\n",
    "print(get_q_r())"
   ]
  },
  {
   "cell_type": "code",
   "execution_count": 36,
   "metadata": {},
   "outputs": [
    {
     "name": "stdout",
     "output_type": "stream",
     "text": [
      "enter height of triangle:6\n",
      "enter base of triangle:8\n",
      "length of hypotenuse: 10.0\n"
     ]
    }
   ],
   "source": [
    "# 8. WAP to find the length of hypotenuse of a right angled triangle, input the height and base from user.\n",
    "\n",
    "import math\n",
    "\n",
    "def rhs(b,c):\n",
    "    a=math.sqrt((b*b)+(c*c))\n",
    "    return a\n",
    "\n",
    "x=int(input(\"enter height of triangle:\"))\n",
    "y=int(input(\"enter base of triangle:\"))\n",
    "\n",
    "z=rhs(x,y)\n",
    "print(\"length of hypotenuse:\", z)\n"
   ]
  },
  {
   "cell_type": "code",
   "execution_count": 4,
   "metadata": {},
   "outputs": [
    {
     "name": "stdout",
     "output_type": "stream",
     "text": [
      "enter number of seconds:1234565\n",
      "14.0 day 6.0 hour 56.0 minute 5.0 second\n"
     ]
    }
   ],
   "source": [
    "#9. WAP to input number of seconds and print in days, hours, minutes and seconds \n",
    "# ex: input = 10000 \n",
    "#  Output = 0 day 2 hour 46 minute 40 second\n",
    "\n",
    "a=float(input(\"enter number of seconds:\"))\n",
    "if a<60:\n",
    "    day=0\n",
    "    hour=0\n",
    "    mint=0\n",
    "    sec=a\n",
    "    \n",
    "if 60<=a<3600:\n",
    "    day=0\n",
    "    hour=0\n",
    "    mint=a//60\n",
    "    sec=a%60\n",
    "    \n",
    "if 3600<=a<86400:\n",
    "    day=0\n",
    "    hour=a//3600\n",
    "    rem1=a%3600\n",
    "    mint=rem1//60\n",
    "    sec=rem1%60\n",
    "    \n",
    "if a>=86400:\n",
    "    day=a//86400\n",
    "    rem2=a%86400\n",
    "    hour=rem2//3600\n",
    "    rem3=rem2%3600\n",
    "    mint=rem3//60\n",
    "    sec=rem3%60\n",
    "\n",
    "print(day,\"day\",hour,\"hour\",mint,\"minute\",sec,\"second\")  \n",
    "    "
   ]
  },
  {
   "cell_type": "code",
   "execution_count": 38,
   "metadata": {},
   "outputs": [],
   "source": [
    "# 10. Check your version of python interpreter without opening the interpreter \n",
    "#(Which command needs to be used on the command line).\n",
    "\n",
    "\n",
    "python --version"
   ]
  },
  {
   "cell_type": "code",
   "execution_count": 39,
   "metadata": {},
   "outputs": [
    {
     "name": "stdout",
     "output_type": "stream",
     "text": [
      "2 -2\n"
     ]
    }
   ],
   "source": [
    "# 11.Find output:\n",
    "\n",
    "x = 2\n",
    "x *= 3  # x=6\n",
    "x = x%4 # 6%4 = 2\n",
    "y = -x  # y=-2\n",
    "print(x,y)  # 2, -2\n"
   ]
  },
  {
   "cell_type": "code",
   "execution_count": 41,
   "metadata": {},
   "outputs": [
    {
     "name": "stdout",
     "output_type": "stream",
     "text": [
      "None\n"
     ]
    }
   ],
   "source": [
    "# 12. Find output:\n",
    "\n",
    "def func():\n",
    "     pass\n",
    "\n",
    "print(func())   # every function is of None type"
   ]
  },
  {
   "cell_type": "code",
   "execution_count": null,
   "metadata": {},
   "outputs": [],
   "source": []
  }
 ],
 "metadata": {
  "kernelspec": {
   "display_name": "Python 3",
   "language": "python",
   "name": "python3"
  },
  "language_info": {
   "codemirror_mode": {
    "name": "ipython",
    "version": 3
   },
   "file_extension": ".py",
   "mimetype": "text/x-python",
   "name": "python",
   "nbconvert_exporter": "python",
   "pygments_lexer": "ipython3",
   "version": "3.8.3"
  }
 },
 "nbformat": 4,
 "nbformat_minor": 4
}
