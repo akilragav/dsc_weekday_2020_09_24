{
 "cells": [
  {
   "cell_type": "code",
   "execution_count": 1,
   "metadata": {},
   "outputs": [
    {
     "name": "stdout",
     "output_type": "stream",
     "text": [
      "d\n",
      "detneirO tcejbO si nohtyP\n",
      "Python is Object Oriente\n",
      "\n",
      "on is \n"
     ]
    }
   ],
   "source": [
    "s=('Python is Object Oriented')\n",
    "print(s[-1])\n",
    "print(s[::-1])\n",
    "print(s[:-1])\n",
    "print()\n",
    "print(s[4:10])"
   ]
  },
  {
   "cell_type": "code",
   "execution_count": 2,
   "metadata": {},
   "outputs": [
    {
     "name": "stdout",
     "output_type": "stream",
     "text": [
      "6\n",
      "abc\n",
      "3\n"
     ]
    }
   ],
   "source": [
    "s='a b cd'\n",
    "print(len(s))\n",
    "print(s[::2])\n",
    "print(len(s[::2]))"
   ]
  },
  {
   "cell_type": "code",
   "execution_count": 4,
   "metadata": {},
   "outputs": [
    {
     "name": "stdout",
     "output_type": "stream",
     "text": [
      "['a#b#c#d#']\n",
      "['a', 'b', 'c', 'd', '']\n",
      "a$b$c$d$\n"
     ]
    }
   ],
   "source": [
    "s='a#b#c#d#'\n",
    "print(s.split())\n",
    "print(s.split('#'))\n",
    "l=s.split('#')\n",
    "s='$'.join(l)\n",
    "print(s)"
   ]
  },
  {
   "cell_type": "code",
   "execution_count": 5,
   "metadata": {},
   "outputs": [
    {
     "name": "stdout",
     "output_type": "stream",
     "text": [
      "av\n"
     ]
    }
   ],
   "source": [
    "S='Gaurav'\n",
    "S=S[::-2][::-2]\n",
    "print(S)"
   ]
  },
  {
   "cell_type": "code",
   "execution_count": 7,
   "metadata": {},
   "outputs": [
    {
     "name": "stdout",
     "output_type": "stream",
     "text": [
      "False\n",
      "True\n"
     ]
    }
   ],
   "source": [
    "print(1>2)\n",
    "print(1<2)"
   ]
  },
  {
   "cell_type": "code",
   "execution_count": 11,
   "metadata": {},
   "outputs": [
    {
     "name": "stdout",
     "output_type": "stream",
     "text": [
      "0 , 1 , 2\n"
     ]
    }
   ],
   "source": [
    "print(4%2, 5%2, 2%5, sep=' , ')"
   ]
  },
  {
   "cell_type": "code",
   "execution_count": 20,
   "metadata": {},
   "outputs": [
    {
     "name": "stdout",
     "output_type": "stream",
     "text": [
      "abcde\n",
      "0,0 , 0 , "
     ]
    }
   ],
   "source": [
    "s='abcde'\n",
    "\n",
    "s.upper()\n",
    "print(s)\n",
    "print(s.count('A'), end=',')\n",
    "print(s.count('A',2,4),end=' , ')\n",
    "print(s.count('a',2,4),end=' , ')"
   ]
  },
  {
   "cell_type": "code",
   "execution_count": 23,
   "metadata": {},
   "outputs": [
    {
     "name": "stdout",
     "output_type": "stream",
     "text": [
      "Entre a stringThis is Joshi\n",
      "ThisisJoshi\n"
     ]
    }
   ],
   "source": [
    "#WAP to input a string and remove all spaces from it.\n",
    "a = input(\"Entre a string\")\n",
    "a=a.replace(' ','')\n",
    "print(a)"
   ]
  },
  {
   "cell_type": "code",
   "execution_count": null,
   "metadata": {},
   "outputs": [],
   "source": [
    "#This symbol[], is a symbol of list. List can be created by placing the sequence(many data types int, float, string) \n",
    "# inside the square bracket. List is mutable, can be modified.\n"
   ]
  },
  {
   "cell_type": "code",
   "execution_count": 24,
   "metadata": {},
   "outputs": [
    {
     "name": "stdout",
     "output_type": "stream",
     "text": [
      "['__add__', '__class__', '__contains__', '__delattr__', '__dir__', '__doc__', '__eq__', '__format__', '__ge__', '__getattribute__', '__getitem__', '__getnewargs__', '__gt__', '__hash__', '__init__', '__init_subclass__', '__iter__', '__le__', '__len__', '__lt__', '__mod__', '__mul__', '__ne__', '__new__', '__reduce__', '__reduce_ex__', '__repr__', '__rmod__', '__rmul__', '__setattr__', '__sizeof__', '__str__', '__subclasshook__', 'capitalize', 'casefold', 'center', 'count', 'encode', 'endswith', 'expandtabs', 'find', 'format', 'format_map', 'index', 'isalnum', 'isalpha', 'isascii', 'isdecimal', 'isdigit', 'isidentifier', 'islower', 'isnumeric', 'isprintable', 'isspace', 'istitle', 'isupper', 'join', 'ljust', 'lower', 'lstrip', 'maketrans', 'partition', 'replace', 'rfind', 'rindex', 'rjust', 'rpartition', 'rsplit', 'rstrip', 'split', 'splitlines', 'startswith', 'strip', 'swapcase', 'title', 'translate', 'upper', 'zfill']\n"
     ]
    }
   ],
   "source": [
    "#WAP to print all methods(functions/operations) available in a string (Hint : dir())\n",
    "\n",
    "#print(dir(str))"
   ]
  },
  {
   "cell_type": "code",
   "execution_count": 38,
   "metadata": {},
   "outputs": [
    {
     "name": "stdout",
     "output_type": "stream",
     "text": [
      "rstrip is available str\n"
     ]
    }
   ],
   "source": [
    "#Write statement to check if rstrip method is available in the str class.(Hint : Use the find function or inprint\n",
    "x= dir(str)\n",
    "#print(dir(str))\n",
    "if 'rstrip' in dir(str):\n",
    "    print(\"rstrip is available str\")\n",
    "else:\n",
    "    print(\"rstip is not availbe in str\")\n",
    "\n"
   ]
  },
  {
   "cell_type": "code",
   "execution_count": 39,
   "metadata": {},
   "outputs": [
    {
     "name": "stdout",
     "output_type": "stream",
     "text": [
      "*****\n",
      "  *  \n",
      "  *  \n",
      "  *  \n",
      "  *  \n"
     ]
    }
   ],
   "source": [
    "#WAP to store the following patterns in a string variable and then print them:\n",
    "\n",
    "for i in range(1):\n",
    "    print(\"*\"*5)\n",
    "for j in range(4):\n",
    "    print(\"  *  \")"
   ]
  },
  {
   "cell_type": "code",
   "execution_count": 41,
   "metadata": {},
   "outputs": [
    {
     "name": "stdout",
     "output_type": "stream",
     "text": [
      "*     *\n",
      "* * * *\n",
      "*  *  *\n",
      "*     *\n"
     ]
    }
   ],
   "source": [
    "for i in range(1):\n",
    "    print(\"*     *\")\n",
    "for j in range(1):\n",
    "    print(\"* * * *\")\n",
    "for k in range(1):\n",
    "    print(\"*  *  *\")\n",
    "for l in range(1):\n",
    "    print(\"*     *\")  "
   ]
  },
  {
   "cell_type": "code",
   "execution_count": 50,
   "metadata": {},
   "outputs": [
    {
     "name": "stdout",
     "output_type": "stream",
     "text": [
      "  ___________\n",
      "   |         |\n",
      "   o         |\n",
      "  /|\\        |\n",
      "  / \\        |\n",
      "_____________|\n"
     ]
    }
   ],
   "source": [
    "for i in range(1):\n",
    "    print(\"  ___________\")\n",
    "for j in range(1):\n",
    "    print(\"   |         |\")\n",
    "for k in range(1):\n",
    "    print(\"   o         |\")\n",
    "for l in range(1):\n",
    "    print(\"  /|\\        |\")\n",
    "for l in range(1):\n",
    "    print(\"  / \\        |\")\n",
    "for l in range(1):\n",
    "    print(\"_____________|\")\n",
    "    "
   ]
  },
  {
   "cell_type": "code",
   "execution_count": 54,
   "metadata": {},
   "outputs": [
    {
     "name": "stdout",
     "output_type": "stream",
     "text": [
      "Enter a string: WAP to input a string and replace all space with new lines (\\n) and print again\n",
      "WAP\n",
      "to\n",
      "input\n",
      "a\n",
      "string\n",
      "and\n",
      "replace\n",
      "all\n",
      "space\n",
      "with\n",
      "new\n",
      "lines\n",
      "(\\n)\n",
      "and\n",
      "print\n",
      "again\n"
     ]
    }
   ],
   "source": [
    "#WAP to input a string and replace all space with new lines (\\n) and print again.\n",
    "x=input(\"Enter a string: \")\n",
    "print(x.replace(' ','\\n'))"
   ]
  },
  {
   "cell_type": "code",
   "execution_count": 72,
   "metadata": {},
   "outputs": [
    {
     "name": "stdout",
     "output_type": "stream",
     "text": [
      "Enter your 1st name: this is not a code\n",
      "THIS 4\n",
      "IS 2\n",
      "NOT 3\n",
      "A 1\n",
      "CODE 4\n"
     ]
    }
   ],
   "source": [
    "#WAP to input complete name(first and last name separated by space) and print first and lastname separately \n",
    "#along with their length in upper case.\n",
    "\n",
    "a = input(\"Enter your 1st name: \")\n",
    "a=a.split()\n",
    "for i in a:\n",
    "    print(i.upper(), len(i))"
   ]
  },
  {
   "cell_type": "code",
   "execution_count": 80,
   "metadata": {},
   "outputs": [
    {
     "name": "stdout",
     "output_type": "stream",
     "text": [
      "enter a string:jjop\n",
      "jj\n",
      "op\n"
     ]
    }
   ],
   "source": [
    "#WAP to input a string and split it into 2 halves. The string can be of any length\n",
    "str2=input('enter a string:')\n",
    "num=len(str2)//2\n",
    "print(str2[:num])\n",
    "print(str2[num:])"
   ]
  }
 ],
 "metadata": {
  "kernelspec": {
   "display_name": "Python 3",
   "language": "python",
   "name": "python3"
  },
  "language_info": {
   "codemirror_mode": {
    "name": "ipython",
    "version": 3
   },
   "file_extension": ".py",
   "mimetype": "text/x-python",
   "name": "python",
   "nbconvert_exporter": "python",
   "pygments_lexer": "ipython3",
   "version": "3.8.3"
  }
 },
 "nbformat": 4,
 "nbformat_minor": 4
}
