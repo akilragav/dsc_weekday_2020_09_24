{
 "cells": [
  {
   "cell_type": "code",
   "execution_count": 12,
   "metadata": {},
   "outputs": [
    {
     "name": "stdout",
     "output_type": "stream",
     "text": [
      "Enter principle amount:100000\n",
      "Enter rate amount:2\n",
      "Enter time of amount:12\n",
      "Intrest amount: 24000.0\n"
     ]
    }
   ],
   "source": [
    "def si():\n",
    "    p= int(input(\"Enter principle amount:\"))\n",
    "    r= int(input(\"Enter rate amount:\"))\n",
    "    t= int(input(\"Enter time of amount:\"))\n",
    "    s = (p*t*r)/100\n",
    "    print(\"Intrest amount:\",s)\n",
    "    \n",
    "si()\n",
    "           \n",
    "    "
   ]
  },
  {
   "cell_type": "code",
   "execution_count": 21,
   "metadata": {},
   "outputs": [
    {
     "name": "stdout",
     "output_type": "stream",
     "text": [
      "Enter principle amount:10\n",
      "Enter rate amount:2\n",
      "Enter time of amount:3\n",
      "Intrest amount: 0.6\n"
     ]
    }
   ],
   "source": [
    "def si(p,r,t):\n",
    "    \n",
    "    s = (p*t*r)/100\n",
    "    print(\"Intrest amount:\",s)\n",
    "p= int(input(\"Enter principle amount:\"))\n",
    "r= int(input(\"Enter rate amount:\"))\n",
    "t= int(input(\"Enter time of amount:\"))\n",
    "\n",
    "\n",
    "\n",
    "si(10,2,3)\n",
    "     "
   ]
  },
  {
   "cell_type": "code",
   "execution_count": 22,
   "metadata": {},
   "outputs": [
    {
     "name": "stdout",
     "output_type": "stream",
     "text": [
      "Intrest amount: 0.6\n"
     ]
    }
   ],
   "source": [
    "si(10,2,3)"
   ]
  },
  {
   "cell_type": "code",
   "execution_count": 20,
   "metadata": {},
   "outputs": [
    {
     "name": "stdout",
     "output_type": "stream",
     "text": [
      "8\n"
     ]
    }
   ],
   "source": [
    "def my_pow(num1: float ,exp: int):\n",
    "    print(num1**exp)\n",
    "    \n",
    "my_pow(2,3)"
   ]
  }
 ],
 "metadata": {
  "kernelspec": {
   "display_name": "Python 3",
   "language": "python",
   "name": "python3"
  },
  "language_info": {
   "codemirror_mode": {
    "name": "ipython",
    "version": 3
   },
   "file_extension": ".py",
   "mimetype": "text/x-python",
   "name": "python",
   "nbconvert_exporter": "python",
   "pygments_lexer": "ipython3",
   "version": "3.8.3"
  }
 },
 "nbformat": 4,
 "nbformat_minor": 4
}
