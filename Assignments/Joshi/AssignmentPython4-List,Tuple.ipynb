{
 "cells": [
  {
   "cell_type": "code",
   "execution_count": 5,
   "metadata": {},
   "outputs": [
    {
     "name": "stdout",
     "output_type": "stream",
     "text": [
      "[1, 2, 3, 4, 5]\n",
      "<class 'tuple'> <class 'list'>\n"
     ]
    }
   ],
   "source": [
    "#Convert a Tuple t = (1,2,3,4,5) to a list\n",
    "s= (1,2,3,4,5)\n",
    "r = list(s)\n",
    "print(r,sep=',')\n",
    "print(type(s), type(r))"
   ]
  },
  {
   "cell_type": "code",
   "execution_count": 17,
   "metadata": {},
   "outputs": [
    {
     "name": "stdout",
     "output_type": "stream",
     "text": [
      "<class 'list'> <class 'tuple'> <class 'list'>\n",
      "[1, 3, 5, 7, 8, 6, 4, 2]\n"
     ]
    }
   ],
   "source": [
    "#WAP to join a list and a tuple:\n",
    "#L = [1,3,5,7]\n",
    "#T = (8,6,4,2)\n",
    "#Store the result in a list LS\n",
    "\n",
    "L=[1,3,5,7]\n",
    "T = (8,6,4,2) \n",
    "L1= list(T)\n",
    "print(type(L), type(T), type(L1))\n",
    "L.extend(L1)\n",
    "print(L)"
   ]
  },
  {
   "cell_type": "code",
   "execution_count": null,
   "metadata": {},
   "outputs": [],
   "source": [
    "#What is difference between list and tuple.\n",
    "#The literal syntax of tuples is shown by parentheses () whereas the literal syntax of lists is shown by square brackets [].\n",
    "#Lists has variable length, tuple has fixed length. List has mutable nature, tuple has immutable nature. \n",
    "#List has more functionality than the tuple."
   ]
  },
  {
   "cell_type": "code",
   "execution_count": 21,
   "metadata": {},
   "outputs": [
    {
     "name": "stdout",
     "output_type": "stream",
     "text": [
      "['C', 'A', 'c', 'd', 'a']\n",
      "None\n"
     ]
    }
   ],
   "source": [
    "#Print the list in reverse order\n",
    "#l = [‘a’, ‘d’, ‘c’, ‘A’, ‘C’]\n",
    "\n",
    "l = ['a', 'd', 'c', 'A', 'C']\n",
    "l.reverse()\n",
    "print(l)\n",
    "print(l.reverse())"
   ]
  },
  {
   "cell_type": "code",
   "execution_count": 26,
   "metadata": {},
   "outputs": [
    {
     "name": "stdout",
     "output_type": "stream",
     "text": [
      "odd indexs are:  [11, 21, 31, 41]\n"
     ]
    }
   ],
   "source": [
    "#Print Elements at Odd indexes from a list (Do not use loop)\n",
    "#l = [10,11,20, 21,30, 31, 40, 41]\n",
    "\n",
    "l= [10,11,20, 21,30, 31, 40, 41]\n",
    "odd_numbers = list(filter(lambda l: (l%2 != 0), l))\n",
    "print(\"odd indexs are: \", odd_numbers)"
   ]
  },
  {
   "cell_type": "code",
   "execution_count": null,
   "metadata": {},
   "outputs": [],
   "source": [
    "#How many ways you can copy a list.\n",
    "#There are two semantic ways to copy a list. A shallow copy creates a new list of the same objects, \n",
    "#a deep copy creates a new list containing new equivalent objects."
   ]
  },
  {
   "cell_type": "code",
   "execution_count": 29,
   "metadata": {},
   "outputs": [
    {
     "name": "stdout",
     "output_type": "stream",
     "text": [
      "HAPPY [1]\n",
      "[2, 0, 1, 5] [3]\n"
     ]
    }
   ],
   "source": [
    "#Predict output\n",
    "n_list = [\"HAPPY\", [2,0,1,5]]\n",
    "print(n_list[0],[1])\n",
    "print(n_list[1],[3])"
   ]
  },
  {
   "cell_type": "code",
   "execution_count": 32,
   "metadata": {},
   "outputs": [
    {
     "name": "stdout",
     "output_type": "stream",
     "text": [
      "[1, 4, 6, 8]\n",
      "\n",
      "[1, 3, 5, 7]\n"
     ]
    }
   ],
   "source": [
    "#Predict output\n",
    "odd = [2,4,6,8]\n",
    "odd[0] = 1\n",
    "print(odd)\n",
    "print()\n",
    "odd[1:4] = [3,5,7]\n",
    "print(odd)"
   ]
  },
  {
   "cell_type": "code",
   "execution_count": 37,
   "metadata": {},
   "outputs": [
    {
     "name": "stdout",
     "output_type": "stream",
     "text": [
      "[1, 3, 5, [7, 9]]\n",
      "<class 'list'>\n",
      "\n",
      "[1, 3, 5, [7, 9], 11, 13]\n",
      "<class 'list'>\n"
     ]
    }
   ],
   "source": [
    "#Predict output\n",
    "odd = [1,3,5]\n",
    "odd.append([7,9])\n",
    "print(odd)\n",
    "print(type(odd))\n",
    "print()\n",
    "odd.extend([11,13])\n",
    "print(odd)\n",
    "\n",
    "print(type(odd))"
   ]
  },
  {
   "cell_type": "code",
   "execution_count": 44,
   "metadata": {},
   "outputs": [
    {
     "name": "stdout",
     "output_type": "stream",
     "text": [
      "<class 'tuple'>\n",
      "<class 'int'>\n",
      "<class 'int'>\n",
      "<class 'tuple'>\n",
      "<class 'str'>\n",
      "<class 'str'>\n"
     ]
    }
   ],
   "source": [
    "#Predict output\n",
    "x = 1,2,3; print(type(x))\n",
    "x = (1); print(type(x))\n",
    "x = 1 ; print(type(x))\n",
    "x = 1,; print(type(x))\n",
    "x = 'a'; print(type(x))\n",
    "x = \"a\"; print(type(x))"
   ]
  },
  {
   "cell_type": "code",
   "execution_count": 57,
   "metadata": {},
   "outputs": [
    {
     "name": "stdout",
     "output_type": "stream",
     "text": [
      "[1, 2, 3]\n",
      "[4, 5, 6]\n",
      "[7, 8, 9]\n",
      "<class 'list'> <class 'list'> <class 'list'>\n"
     ]
    }
   ],
   "source": [
    "#Try to represent a matrix with following data in python:\n",
    "# 1    2    3\n",
    "# 4    5    6\n",
    "# 7    8    9\n",
    "x=[1,2,3]\n",
    "y=[4,5,6]\n",
    "z=[7,8,9]\n",
    "print(x, sep='   ')\n",
    "print(y, sep='   ')\n",
    "print(z, sep='   ')\n",
    "print(type(x),type(y), type(z))\n"
   ]
  },
  {
   "cell_type": "code",
   "execution_count": 60,
   "metadata": {},
   "outputs": [
    {
     "name": "stdout",
     "output_type": "stream",
     "text": [
      "('s', 't', 'r', 'i', 'n', 'g')\n",
      "('g', 'n', 'i', 'r', 't', 's')\n",
      "('n', 's')\n"
     ]
    }
   ],
   "source": [
    "#predict output\n",
    "t = tuple('string')\n",
    "print(t)\n",
    "print(t[: :-1])\n",
    "print(t[: :2][: :-2])"
   ]
  },
  {
   "cell_type": "code",
   "execution_count": 63,
   "metadata": {},
   "outputs": [
    {
     "name": "stdout",
     "output_type": "stream",
     "text": [
      "True\n",
      "False\n",
      "1\n",
      "3\n",
      "1\n"
     ]
    }
   ],
   "source": [
    "#predict output\n",
    "t =tuple([10,20,30,40,50,60])\n",
    "print(60 in t)\n",
    "print('60' in t)\n",
    "print(t.count(10))\n",
    "print(t.index(40))\n",
    "print(t.count(40))"
   ]
  },
  {
   "cell_type": "code",
   "execution_count": 74,
   "metadata": {},
   "outputs": [
    {
     "name": "stdout",
     "output_type": "stream",
     "text": [
      "enter a string: ABba\n",
      "its palindrome\n"
     ]
    }
   ],
   "source": [
    "#Write a program to input a string and print if it is palindrome or not.\n",
    "p= input(\"enter a string: \")\n",
    "s=p.lower()\n",
    "if s==s[: :-1]:\n",
    "    print(\"its palindrome\")\n",
    "else:\n",
    "    print(\"its  not palindrome\")"
   ]
  },
  {
   "cell_type": "code",
   "execution_count": 93,
   "metadata": {},
   "outputs": [
    {
     "name": "stdout",
     "output_type": "stream",
     "text": [
      "(20, 15, 10, 5, 0)\n"
     ]
    }
   ],
   "source": [
    "#Use the range method and create a tuple containing the following values:(20, 15, 10, 5)\n",
    "x= (range(21))\n",
    "y=tuple(x[: :-5])\n",
    "print(y)"
   ]
  },
  {
   "cell_type": "code",
   "execution_count": 100,
   "metadata": {},
   "outputs": [
    {
     "name": "stdout",
     "output_type": "stream",
     "text": [
      "enter a string: This is Joshi Babu\n",
      "<class 'str'>\n",
      "\n",
      "['T', 'h', 'i', 's', ' ', 'i', 's', ' ', 'J', 'o', 's', 'h', 'i', ' ', 'B', 'a', 'b', 'u'] <class 'list'>\n"
     ]
    }
   ],
   "source": [
    "#WAP to convert string to list of characters.\n",
    "x= input(\"enter a string: \")\n",
    "print(type(x))\n",
    "print()\n",
    "y= list(x)\n",
    "print(y, type(y))"
   ]
  },
  {
   "cell_type": "code",
   "execution_count": 101,
   "metadata": {},
   "outputs": [
    {
     "name": "stdout",
     "output_type": "stream",
     "text": [
      "<class 'list'>\n",
      "<class 'NoneType'>\n",
      "<class 'str'>\n",
      "<class 'bool'>\n"
     ]
    }
   ],
   "source": [
    "#What is the return type of:\n",
    "print(type('1,2'.split()))\n",
    "print(type([1,3,2].sort()))\n",
    "print(type('abc'.upper()))\n",
    "print(type(l in [1,2]))"
   ]
  }
 ],
 "metadata": {
  "kernelspec": {
   "display_name": "Python 3",
   "language": "python",
   "name": "python3"
  },
  "language_info": {
   "codemirror_mode": {
    "name": "ipython",
    "version": 3
   },
   "file_extension": ".py",
   "mimetype": "text/x-python",
   "name": "python",
   "nbconvert_exporter": "python",
   "pygments_lexer": "ipython3",
   "version": "3.8.3"
  }
 },
 "nbformat": 4,
 "nbformat_minor": 4
}
