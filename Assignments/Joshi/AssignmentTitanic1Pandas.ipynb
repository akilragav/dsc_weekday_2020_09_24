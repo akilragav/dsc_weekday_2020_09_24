{
 "cells": [
  {
   "cell_type": "markdown",
   "metadata": {},
   "source": [
    "|Variable|Definition|Key|\n",
    "|---|---|---|\n",
    "|survival|Survival|0 = No, 1 = Yes|\n",
    "|pclass|Ticket class|1 = 1st, 2 = 2nd, 3 = 3rd|\n",
    "|gender|gender ||\n",
    "|Age |Age in years| |\n",
    "|sibsp |number of siblings / spouses aboard|\t|\n",
    "|parch |number of parents / children aboard| |\n",
    "|ticket|Ticket number ||\n",
    "|fare | fare| \t|\n",
    "|cabin |Cabin number|\t|\n",
    "|embarked|Port of Embarkation|C = Cherbourg, Q = Queenstown, S = Southampton|\n",
    "|boat | Lifeboat||\n",
    "|body | Body Identification Number||\n",
    "|home.dest| Home/destination||"
   ]
  },
  {
   "cell_type": "markdown",
   "metadata": {},
   "source": []
  },
  {
   "cell_type": "markdown",
   "metadata": {},
   "source": [
    "- Read data and describe it\n",
    "- Find columns with missingdata\n",
    "- Print shape of dataset\n",
    "- drop columns with more than 25% missing data\n",
    "- drop columns having independent values(which do not affect the survival rate).\n",
    "\n",
    "\n",
    "- check data types of all columns\n",
    "- convert price to numeric\n",
    "- find columns still having missing/na values and also count of missing data\n",
    "- fill na with mean for fare and age column column.\n",
    "- drop na values for embarked column.\n",
    "- dump the dataframe to a csv file 'titanic_filtered.csv'.\n",
    "\n",
    "\n",
    "- for surviced column replace 0 with D and 1 with A\n",
    "- find the frequency of different values in survived column\n",
    "- group by gender and survived and see the counts in each category\n",
    "- find different pclass and no of people in each class\n",
    "\n",
    "- find top 5 people with highest values of age. Count no of male and females in the top 5\n",
    "- find max age male and female who survived\n",
    "- get average age by gender\n",
    "- get average age by people survived vs not-survived"
   ]
  },
  {
   "cell_type": "code",
   "execution_count": 25,
   "metadata": {},
   "outputs": [],
   "source": [
    "import pandas as pd\n",
    "import numpy as np\n",
    "tp=pd.read_csv(r'C:\\Users\\Admin\\Desktop\\joshi\\dsc_weekday_2020_09_24\\Assignments\\Assignment_TITANIC\\titanic_dataset.csv')\n",
    "#print(tp)"
   ]
  },
  {
   "cell_type": "code",
   "execution_count": 12,
   "metadata": {},
   "outputs": [
    {
     "name": "stdout",
     "output_type": "stream",
     "text": [
      "   Unnamed: 0  pclass  survived  \\\n",
      "0           0       1         1   \n",
      "1           1       1         1   \n",
      "2           2       1         0   \n",
      "3           3       1         0   \n",
      "4           4       1         0   \n",
      "\n",
      "                                              name  gender      age  sibsp  \\\n",
      "0                    Allen, Miss. Elisabeth Walton  female  29.0000      0   \n",
      "1                   Allison, Master. Hudson Trevor    male   0.9167      1   \n",
      "2                     Allison, Miss. Helen Loraine  female   2.0000      1   \n",
      "3             Allison, Mr. Hudson Joshua Creighton    male  30.0000      1   \n",
      "4  Allison, Mrs. Hudson J C (Bessie Waldo Daniels)  female  25.0000      1   \n",
      "\n",
      "   parch  ticket      fare    cabin embarked boat   body  \\\n",
      "0      0   24160  $211.34        B5        S    2    NaN   \n",
      "1      2  113781  $151.55   C22 C26        S   11    NaN   \n",
      "2      2  113781  $151.55   C22 C26        S  NaN    NaN   \n",
      "3      2  113781  $151.55   C22 C26        S  NaN  135.0   \n",
      "4      2  113781  $151.55   C22 C26        S  NaN    NaN   \n",
      "\n",
      "                         home.dest  \n",
      "0                     St Louis, MO  \n",
      "1  Montreal, PQ / Chesterville, ON  \n",
      "2  Montreal, PQ / Chesterville, ON  \n",
      "3  Montreal, PQ / Chesterville, ON  \n",
      "4  Montreal, PQ / Chesterville, ON  \n",
      "      Unnamed: 0  pclass  survived                       name  gender   age  \\\n",
      "1304        1304       3         0       Zabour, Miss. Hileni  female  14.5   \n",
      "1305        1305       3         0      Zabour, Miss. Thamine  female   NaN   \n",
      "1306        1306       3         0  Zakarian, Mr. Mapriededer    male  26.5   \n",
      "1307        1307       3         0        Zakarian, Mr. Ortin    male  27.0   \n",
      "1308        1308       3         0         Zimmerman, Mr. Leo    male  29.0   \n",
      "\n",
      "      sibsp  parch  ticket     fare cabin embarked boat   body home.dest  \n",
      "1304      1      0    2665  $14.45    NaN        C  NaN  328.0       NaN  \n",
      "1305      1      0    2665  $14.45    NaN        C  NaN    NaN       NaN  \n",
      "1306      0      0    2656   $7.23    NaN        C  NaN  304.0       NaN  \n",
      "1307      0      0    2670   $7.23    NaN        C  NaN    NaN       NaN  \n",
      "1308      0      0  315082   $7.88    NaN        S  NaN    NaN       NaN  \n",
      "\n"
     ]
    },
    {
     "data": {
      "text/html": [
       "<div>\n",
       "<style scoped>\n",
       "    .dataframe tbody tr th:only-of-type {\n",
       "        vertical-align: middle;\n",
       "    }\n",
       "\n",
       "    .dataframe tbody tr th {\n",
       "        vertical-align: top;\n",
       "    }\n",
       "\n",
       "    .dataframe thead th {\n",
       "        text-align: right;\n",
       "    }\n",
       "</style>\n",
       "<table border=\"1\" class=\"dataframe\">\n",
       "  <thead>\n",
       "    <tr style=\"text-align: right;\">\n",
       "      <th></th>\n",
       "      <th>Unnamed: 0</th>\n",
       "      <th>pclass</th>\n",
       "      <th>survived</th>\n",
       "      <th>age</th>\n",
       "      <th>sibsp</th>\n",
       "      <th>parch</th>\n",
       "      <th>body</th>\n",
       "    </tr>\n",
       "  </thead>\n",
       "  <tbody>\n",
       "    <tr>\n",
       "      <th>count</th>\n",
       "      <td>1309.000000</td>\n",
       "      <td>1309.000000</td>\n",
       "      <td>1309.000000</td>\n",
       "      <td>1046.000000</td>\n",
       "      <td>1309.000000</td>\n",
       "      <td>1309.000000</td>\n",
       "      <td>121.000000</td>\n",
       "    </tr>\n",
       "    <tr>\n",
       "      <th>mean</th>\n",
       "      <td>654.000000</td>\n",
       "      <td>2.294882</td>\n",
       "      <td>0.381971</td>\n",
       "      <td>29.881135</td>\n",
       "      <td>0.498854</td>\n",
       "      <td>0.385027</td>\n",
       "      <td>160.809917</td>\n",
       "    </tr>\n",
       "    <tr>\n",
       "      <th>std</th>\n",
       "      <td>378.020061</td>\n",
       "      <td>0.837836</td>\n",
       "      <td>0.486055</td>\n",
       "      <td>14.413500</td>\n",
       "      <td>1.041658</td>\n",
       "      <td>0.865560</td>\n",
       "      <td>97.696922</td>\n",
       "    </tr>\n",
       "    <tr>\n",
       "      <th>min</th>\n",
       "      <td>0.000000</td>\n",
       "      <td>1.000000</td>\n",
       "      <td>0.000000</td>\n",
       "      <td>0.166700</td>\n",
       "      <td>0.000000</td>\n",
       "      <td>0.000000</td>\n",
       "      <td>1.000000</td>\n",
       "    </tr>\n",
       "    <tr>\n",
       "      <th>25%</th>\n",
       "      <td>327.000000</td>\n",
       "      <td>2.000000</td>\n",
       "      <td>0.000000</td>\n",
       "      <td>21.000000</td>\n",
       "      <td>0.000000</td>\n",
       "      <td>0.000000</td>\n",
       "      <td>72.000000</td>\n",
       "    </tr>\n",
       "    <tr>\n",
       "      <th>50%</th>\n",
       "      <td>654.000000</td>\n",
       "      <td>3.000000</td>\n",
       "      <td>0.000000</td>\n",
       "      <td>28.000000</td>\n",
       "      <td>0.000000</td>\n",
       "      <td>0.000000</td>\n",
       "      <td>155.000000</td>\n",
       "    </tr>\n",
       "    <tr>\n",
       "      <th>75%</th>\n",
       "      <td>981.000000</td>\n",
       "      <td>3.000000</td>\n",
       "      <td>1.000000</td>\n",
       "      <td>39.000000</td>\n",
       "      <td>1.000000</td>\n",
       "      <td>0.000000</td>\n",
       "      <td>256.000000</td>\n",
       "    </tr>\n",
       "    <tr>\n",
       "      <th>max</th>\n",
       "      <td>1308.000000</td>\n",
       "      <td>3.000000</td>\n",
       "      <td>1.000000</td>\n",
       "      <td>80.000000</td>\n",
       "      <td>8.000000</td>\n",
       "      <td>9.000000</td>\n",
       "      <td>328.000000</td>\n",
       "    </tr>\n",
       "  </tbody>\n",
       "</table>\n",
       "</div>"
      ],
      "text/plain": [
       "        Unnamed: 0       pclass     survived          age        sibsp  \\\n",
       "count  1309.000000  1309.000000  1309.000000  1046.000000  1309.000000   \n",
       "mean    654.000000     2.294882     0.381971    29.881135     0.498854   \n",
       "std     378.020061     0.837836     0.486055    14.413500     1.041658   \n",
       "min       0.000000     1.000000     0.000000     0.166700     0.000000   \n",
       "25%     327.000000     2.000000     0.000000    21.000000     0.000000   \n",
       "50%     654.000000     3.000000     0.000000    28.000000     0.000000   \n",
       "75%     981.000000     3.000000     1.000000    39.000000     1.000000   \n",
       "max    1308.000000     3.000000     1.000000    80.000000     8.000000   \n",
       "\n",
       "             parch        body  \n",
       "count  1309.000000  121.000000  \n",
       "mean      0.385027  160.809917  \n",
       "std       0.865560   97.696922  \n",
       "min       0.000000    1.000000  \n",
       "25%       0.000000   72.000000  \n",
       "50%       0.000000  155.000000  \n",
       "75%       0.000000  256.000000  \n",
       "max       9.000000  328.000000  "
      ]
     },
     "execution_count": 12,
     "metadata": {},
     "output_type": "execute_result"
    }
   ],
   "source": [
    "#Read data and describe it\n",
    "print(tp.head())\n",
    "print(tp.tail())\n",
    "print()\n",
    "tp.describe()"
   ]
  },
  {
   "cell_type": "code",
   "execution_count": 21,
   "metadata": {},
   "outputs": [
    {
     "data": {
      "text/plain": [
       "Unnamed: 0    False\n",
       "pclass        False\n",
       "survived      False\n",
       "name          False\n",
       "gender        False\n",
       "age            True\n",
       "sibsp         False\n",
       "parch         False\n",
       "ticket        False\n",
       "fare           True\n",
       "cabin          True\n",
       "embarked       True\n",
       "boat           True\n",
       "body           True\n",
       "home.dest      True\n",
       "dtype: bool"
      ]
     },
     "execution_count": 21,
     "metadata": {},
     "output_type": "execute_result"
    }
   ],
   "source": [
    "tp.isna().any()"
   ]
  },
  {
   "cell_type": "code",
   "execution_count": 26,
   "metadata": {},
   "outputs": [
    {
     "name": "stdout",
     "output_type": "stream",
     "text": [
      "(1309, 15)\n"
     ]
    }
   ],
   "source": [
    "#Print shape of dataset\n",
    "print(tp.shape)"
   ]
  },
  {
   "cell_type": "code",
   "execution_count": 102,
   "metadata": {},
   "outputs": [
    {
     "name": "stdout",
     "output_type": "stream",
     "text": [
      "pclass       1309\n",
      "survived     1309\n",
      "name         1309\n",
      "gender       1309\n",
      "age          1046\n",
      "sibsp        1309\n",
      "parch        1309\n",
      "ticket       1309\n",
      "fare         1308\n",
      "cabin         295\n",
      "embarked     1307\n",
      "boat          486\n",
      "body          121\n",
      "home.dest     745\n",
      "dtype: int64\n",
      "\n",
      "pclass       100.000000\n",
      "survived     100.000000\n",
      "name         100.000000\n",
      "gender       100.000000\n",
      "age           79.908327\n",
      "sibsp        100.000000\n",
      "parch        100.000000\n",
      "ticket       100.000000\n",
      "fare          99.923606\n",
      "cabin         22.536287\n",
      "embarked      99.847212\n",
      "boat          37.127578\n",
      "body           9.243697\n",
      "home.dest     56.913675\n",
      "dtype: float64\n",
      "\n",
      "981.75\n",
      "\n",
      "pclass      1309\n",
      "survived    1309\n",
      "name        1309\n",
      "gender      1309\n",
      "age         1046\n",
      "sibsp       1309\n",
      "parch       1309\n",
      "ticket      1309\n",
      "fare        1308\n",
      "embarked    1307\n",
      "dtype: int64\n",
      "\n",
      "pclass      100.000000\n",
      "survived    100.000000\n",
      "name        100.000000\n",
      "gender      100.000000\n",
      "age          79.908327\n",
      "sibsp       100.000000\n",
      "parch       100.000000\n",
      "ticket      100.000000\n",
      "fare         99.923606\n",
      "embarked     99.847212\n",
      "dtype: float64\n"
     ]
    }
   ],
   "source": [
    "#drop columns with more than 25% missing data\n",
    "print(tp.count())\n",
    "print()\n",
    "print(tp.count()/tp.shape[0]*100)\n",
    "print()\n",
    "print(tp.shape[0]*0.75)\n",
    "print()\n",
    "tp= tp.dropna(thresh=981, axis=1)\n",
    "print(tp.count())\n",
    "print()\n",
    "print(tp.count()/tp.shape[0]*100)"
   ]
  },
  {
   "cell_type": "code",
   "execution_count": 48,
   "metadata": {},
   "outputs": [],
   "source": [
    "#drop columns having independent values(which do not affect the survival rate)."
   ]
  },
  {
   "cell_type": "code",
   "execution_count": 103,
   "metadata": {},
   "outputs": [
    {
     "data": {
      "text/plain": [
       "pclass        int64\n",
       "survived      int64\n",
       "name         object\n",
       "gender       object\n",
       "age         float64\n",
       "sibsp         int64\n",
       "parch         int64\n",
       "ticket       object\n",
       "fare        float64\n",
       "embarked     object\n",
       "dtype: object"
      ]
     },
     "execution_count": 103,
     "metadata": {},
     "output_type": "execute_result"
    }
   ],
   "source": [
    "#check data types of all columns\n",
    "tp.dtypes"
   ]
  },
  {
   "cell_type": "code",
   "execution_count": 106,
   "metadata": {},
   "outputs": [
    {
     "name": "stdout",
     "output_type": "stream",
     "text": [
      "9               PC 17609\n",
      "10              PC 17757\n",
      "11              PC 17757\n",
      "12              PC 17477\n",
      "15              PC 17318\n",
      "              ...       \n",
      "1284    SOTON/OQ 3101316\n",
      "1292       S.O./P.P. 751\n",
      "1293            A/5 2466\n",
      "1295    SOTON/OQ 3101317\n",
      "1297          A/4. 34244\n",
      "Name: ticket, Length: 352, dtype: object\n"
     ]
    }
   ],
   "source": [
    "#convert price to numeric\n",
    "print(tp.ticket[~tp.ticket.str.isnumeric()])\n",
    "tp.fare = tp.fare.replace(r\"\\$\", \"\", regex=True).astype('float')"
   ]
  },
  {
   "cell_type": "code",
   "execution_count": 107,
   "metadata": {},
   "outputs": [
    {
     "data": {
      "text/plain": [
       "pclass        0\n",
       "survived      0\n",
       "name          0\n",
       "gender        0\n",
       "age         263\n",
       "sibsp         0\n",
       "parch         0\n",
       "ticket        0\n",
       "fare          1\n",
       "embarked      2\n",
       "dtype: int64"
      ]
     },
     "execution_count": 107,
     "metadata": {},
     "output_type": "execute_result"
    }
   ],
   "source": [
    "#•\tfind columns still having missing/na values and also count of missing data\n",
    "tp.isna().sum()"
   ]
  },
  {
   "cell_type": "code",
   "execution_count": 111,
   "metadata": {},
   "outputs": [
    {
     "data": {
      "text/plain": [
       "pclass      0\n",
       "survived    0\n",
       "name        0\n",
       "gender      0\n",
       "age         0\n",
       "sibsp       0\n",
       "parch       0\n",
       "ticket      0\n",
       "fare        0\n",
       "embarked    2\n",
       "dtype: int64"
      ]
     },
     "execution_count": 111,
     "metadata": {},
     "output_type": "execute_result"
    }
   ],
   "source": [
    "#fill na with mean for fare and age column column.\n",
    "tp.fillna({'fare':tp.fare.mean(), 'age':tp.age.mean()}, inplace=True)\n",
    "tp.isna().sum()"
   ]
  },
  {
   "cell_type": "code",
   "execution_count": 153,
   "metadata": {},
   "outputs": [
    {
     "name": "stdout",
     "output_type": "stream",
     "text": [
      "pclass      0\n",
      "survived    0\n",
      "name        0\n",
      "gender      0\n",
      "age         0\n",
      "sibsp       0\n",
      "parch       0\n",
      "ticket      0\n",
      "fare        0\n",
      "embarked    0\n",
      "dtype: int64\n"
     ]
    },
    {
     "name": "stderr",
     "output_type": "stream",
     "text": [
      "<ipython-input-153-75b979619455>:2: SettingWithCopyWarning: \n",
      "A value is trying to be set on a copy of a slice from a DataFrame\n",
      "\n",
      "See the caveats in the documentation: https://pandas.pydata.org/pandas-docs/stable/user_guide/indexing.html#returning-a-view-versus-a-copy\n",
      "  tp.dropna(inplace = True)\n"
     ]
    },
    {
     "data": {
      "text/plain": [
       "(1307, 10)"
      ]
     },
     "execution_count": 153,
     "metadata": {},
     "output_type": "execute_result"
    }
   ],
   "source": [
    "#drop na values for embarked column.\n",
    "tp.dropna(inplace = True)\n",
    "print(tp.isna().sum())\n",
    "tp.shape"
   ]
  },
  {
   "cell_type": "code",
   "execution_count": 147,
   "metadata": {},
   "outputs": [],
   "source": [
    "#dump the dataframe to a csv file 'titanic_filtered.csv'.\n",
    "tp.to_csv(r'C:\\Users\\Admin\\Desktop\\joshi\\dsc_weekday_2020_09_24\\Assignments\\Assignment_TITANIC\\titanic_filtered_JB.csv')"
   ]
  },
  {
   "cell_type": "code",
   "execution_count": 150,
   "metadata": {},
   "outputs": [
    {
     "data": {
      "text/html": [
       "<div>\n",
       "<style scoped>\n",
       "    .dataframe tbody tr th:only-of-type {\n",
       "        vertical-align: middle;\n",
       "    }\n",
       "\n",
       "    .dataframe tbody tr th {\n",
       "        vertical-align: top;\n",
       "    }\n",
       "\n",
       "    .dataframe thead th {\n",
       "        text-align: right;\n",
       "    }\n",
       "</style>\n",
       "<table border=\"1\" class=\"dataframe\">\n",
       "  <thead>\n",
       "    <tr style=\"text-align: right;\">\n",
       "      <th></th>\n",
       "      <th>Unnamed: 0</th>\n",
       "      <th>pclass</th>\n",
       "      <th>survived</th>\n",
       "      <th>name</th>\n",
       "      <th>gender</th>\n",
       "      <th>age</th>\n",
       "      <th>sibsp</th>\n",
       "      <th>parch</th>\n",
       "      <th>ticket</th>\n",
       "      <th>fare</th>\n",
       "      <th>embarked</th>\n",
       "    </tr>\n",
       "  </thead>\n",
       "  <tbody>\n",
       "    <tr>\n",
       "      <th>0</th>\n",
       "      <td>0</td>\n",
       "      <td>1</td>\n",
       "      <td>1</td>\n",
       "      <td>Allen, Miss. Elisabeth Walton</td>\n",
       "      <td>female</td>\n",
       "      <td>29.000000</td>\n",
       "      <td>0</td>\n",
       "      <td>0</td>\n",
       "      <td>24160</td>\n",
       "      <td>211.34</td>\n",
       "      <td>S</td>\n",
       "    </tr>\n",
       "    <tr>\n",
       "      <th>1</th>\n",
       "      <td>1</td>\n",
       "      <td>1</td>\n",
       "      <td>1</td>\n",
       "      <td>Allison, Master. Hudson Trevor</td>\n",
       "      <td>male</td>\n",
       "      <td>0.916700</td>\n",
       "      <td>1</td>\n",
       "      <td>2</td>\n",
       "      <td>113781</td>\n",
       "      <td>151.55</td>\n",
       "      <td>S</td>\n",
       "    </tr>\n",
       "    <tr>\n",
       "      <th>2</th>\n",
       "      <td>2</td>\n",
       "      <td>1</td>\n",
       "      <td>0</td>\n",
       "      <td>Allison, Miss. Helen Loraine</td>\n",
       "      <td>female</td>\n",
       "      <td>2.000000</td>\n",
       "      <td>1</td>\n",
       "      <td>2</td>\n",
       "      <td>113781</td>\n",
       "      <td>151.55</td>\n",
       "      <td>S</td>\n",
       "    </tr>\n",
       "    <tr>\n",
       "      <th>3</th>\n",
       "      <td>3</td>\n",
       "      <td>1</td>\n",
       "      <td>0</td>\n",
       "      <td>Allison, Mr. Hudson Joshua Creighton</td>\n",
       "      <td>male</td>\n",
       "      <td>30.000000</td>\n",
       "      <td>1</td>\n",
       "      <td>2</td>\n",
       "      <td>113781</td>\n",
       "      <td>151.55</td>\n",
       "      <td>S</td>\n",
       "    </tr>\n",
       "    <tr>\n",
       "      <th>4</th>\n",
       "      <td>4</td>\n",
       "      <td>1</td>\n",
       "      <td>0</td>\n",
       "      <td>Allison, Mrs. Hudson J C (Bessie Waldo Daniels)</td>\n",
       "      <td>female</td>\n",
       "      <td>25.000000</td>\n",
       "      <td>1</td>\n",
       "      <td>2</td>\n",
       "      <td>113781</td>\n",
       "      <td>151.55</td>\n",
       "      <td>S</td>\n",
       "    </tr>\n",
       "    <tr>\n",
       "      <th>...</th>\n",
       "      <td>...</td>\n",
       "      <td>...</td>\n",
       "      <td>...</td>\n",
       "      <td>...</td>\n",
       "      <td>...</td>\n",
       "      <td>...</td>\n",
       "      <td>...</td>\n",
       "      <td>...</td>\n",
       "      <td>...</td>\n",
       "      <td>...</td>\n",
       "      <td>...</td>\n",
       "    </tr>\n",
       "    <tr>\n",
       "      <th>1302</th>\n",
       "      <td>1304</td>\n",
       "      <td>3</td>\n",
       "      <td>0</td>\n",
       "      <td>Zabour, Miss. Hileni</td>\n",
       "      <td>female</td>\n",
       "      <td>14.500000</td>\n",
       "      <td>1</td>\n",
       "      <td>0</td>\n",
       "      <td>2665</td>\n",
       "      <td>14.45</td>\n",
       "      <td>C</td>\n",
       "    </tr>\n",
       "    <tr>\n",
       "      <th>1303</th>\n",
       "      <td>1305</td>\n",
       "      <td>3</td>\n",
       "      <td>0</td>\n",
       "      <td>Zabour, Miss. Thamine</td>\n",
       "      <td>female</td>\n",
       "      <td>29.881135</td>\n",
       "      <td>1</td>\n",
       "      <td>0</td>\n",
       "      <td>2665</td>\n",
       "      <td>14.45</td>\n",
       "      <td>C</td>\n",
       "    </tr>\n",
       "    <tr>\n",
       "      <th>1304</th>\n",
       "      <td>1306</td>\n",
       "      <td>3</td>\n",
       "      <td>0</td>\n",
       "      <td>Zakarian, Mr. Mapriededer</td>\n",
       "      <td>male</td>\n",
       "      <td>26.500000</td>\n",
       "      <td>0</td>\n",
       "      <td>0</td>\n",
       "      <td>2656</td>\n",
       "      <td>7.23</td>\n",
       "      <td>C</td>\n",
       "    </tr>\n",
       "    <tr>\n",
       "      <th>1305</th>\n",
       "      <td>1307</td>\n",
       "      <td>3</td>\n",
       "      <td>0</td>\n",
       "      <td>Zakarian, Mr. Ortin</td>\n",
       "      <td>male</td>\n",
       "      <td>27.000000</td>\n",
       "      <td>0</td>\n",
       "      <td>0</td>\n",
       "      <td>2670</td>\n",
       "      <td>7.23</td>\n",
       "      <td>C</td>\n",
       "    </tr>\n",
       "    <tr>\n",
       "      <th>1306</th>\n",
       "      <td>1308</td>\n",
       "      <td>3</td>\n",
       "      <td>0</td>\n",
       "      <td>Zimmerman, Mr. Leo</td>\n",
       "      <td>male</td>\n",
       "      <td>29.000000</td>\n",
       "      <td>0</td>\n",
       "      <td>0</td>\n",
       "      <td>315082</td>\n",
       "      <td>7.88</td>\n",
       "      <td>S</td>\n",
       "    </tr>\n",
       "  </tbody>\n",
       "</table>\n",
       "<p>1307 rows × 11 columns</p>\n",
       "</div>"
      ],
      "text/plain": [
       "      Unnamed: 0  pclass  survived  \\\n",
       "0              0       1         1   \n",
       "1              1       1         1   \n",
       "2              2       1         0   \n",
       "3              3       1         0   \n",
       "4              4       1         0   \n",
       "...          ...     ...       ...   \n",
       "1302        1304       3         0   \n",
       "1303        1305       3         0   \n",
       "1304        1306       3         0   \n",
       "1305        1307       3         0   \n",
       "1306        1308       3         0   \n",
       "\n",
       "                                                 name  gender        age  \\\n",
       "0                       Allen, Miss. Elisabeth Walton  female  29.000000   \n",
       "1                      Allison, Master. Hudson Trevor    male   0.916700   \n",
       "2                        Allison, Miss. Helen Loraine  female   2.000000   \n",
       "3                Allison, Mr. Hudson Joshua Creighton    male  30.000000   \n",
       "4     Allison, Mrs. Hudson J C (Bessie Waldo Daniels)  female  25.000000   \n",
       "...                                               ...     ...        ...   \n",
       "1302                             Zabour, Miss. Hileni  female  14.500000   \n",
       "1303                            Zabour, Miss. Thamine  female  29.881135   \n",
       "1304                        Zakarian, Mr. Mapriededer    male  26.500000   \n",
       "1305                              Zakarian, Mr. Ortin    male  27.000000   \n",
       "1306                               Zimmerman, Mr. Leo    male  29.000000   \n",
       "\n",
       "      sibsp  parch  ticket    fare embarked  \n",
       "0         0      0   24160  211.34        S  \n",
       "1         1      2  113781  151.55        S  \n",
       "2         1      2  113781  151.55        S  \n",
       "3         1      2  113781  151.55        S  \n",
       "4         1      2  113781  151.55        S  \n",
       "...     ...    ...     ...     ...      ...  \n",
       "1302      1      0    2665   14.45        C  \n",
       "1303      1      0    2665   14.45        C  \n",
       "1304      0      0    2656    7.23        C  \n",
       "1305      0      0    2670    7.23        C  \n",
       "1306      0      0  315082    7.88        S  \n",
       "\n",
       "[1307 rows x 11 columns]"
      ]
     },
     "execution_count": 150,
     "metadata": {},
     "output_type": "execute_result"
    }
   ],
   "source": [
    "pd.read_csv(r'C:\\Users\\Admin\\Desktop\\joshi\\dsc_weekday_2020_09_24\\Assignments\\Assignment_TITANIC\\titanic_filtered_JB.csv')"
   ]
  },
  {
   "cell_type": "code",
   "execution_count": 154,
   "metadata": {},
   "outputs": [
    {
     "data": {
      "text/plain": [
       "(1307, 10)"
      ]
     },
     "execution_count": 154,
     "metadata": {},
     "output_type": "execute_result"
    }
   ],
   "source": [
    "tp.shape"
   ]
  },
  {
   "cell_type": "code",
   "execution_count": 157,
   "metadata": {},
   "outputs": [
    {
     "data": {
      "text/plain": [
       "Index(['pclass', 'survived', 'name', 'gender', 'age', 'sibsp', 'parch',\n",
       "       'ticket', 'fare', 'embarked'],\n",
       "      dtype='object')"
      ]
     },
     "execution_count": 157,
     "metadata": {},
     "output_type": "execute_result"
    }
   ],
   "source": [
    "tp.columns"
   ]
  },
  {
   "cell_type": "code",
   "execution_count": 167,
   "metadata": {},
   "outputs": [],
   "source": [
    "#for surviced column replace 0 with D and 1 with A\n",
    "tp.survived.replace({0:'D',1:'A'},inplace=True)\n",
    "tp.to_csv(r'C:\\Users\\Admin\\Desktop\\joshi\\dsc_weekday_2020_09_24\\Assignments\\Assignment_TITANIC\\titanic_filtered_JB1.csv')"
   ]
  },
  {
   "cell_type": "code",
   "execution_count": 170,
   "metadata": {},
   "outputs": [
    {
     "data": {
      "text/plain": [
       "D    809\n",
       "A    498\n",
       "Name: survived, dtype: int64"
      ]
     },
     "execution_count": 170,
     "metadata": {},
     "output_type": "execute_result"
    }
   ],
   "source": [
    "#find the frequency of different values in survived column\n",
    "tp.survived.value_counts()"
   ]
  },
  {
   "cell_type": "code",
   "execution_count": 191,
   "metadata": {},
   "outputs": [
    {
     "name": "stdout",
     "output_type": "stream",
     "text": [
      "gender  survived\n",
      "female  A           337\n",
      "        D           127\n",
      "male    A           161\n",
      "        D           682\n",
      "dtype: int64\n"
     ]
    }
   ],
   "source": [
    "#group by gender and survived and see the counts in each category\n",
    "grp=tp.groupby(['gender','survived'])\n",
    "print(grp.size())"
   ]
  },
  {
   "cell_type": "code",
   "execution_count": 189,
   "metadata": {},
   "outputs": [
    {
     "name": "stdout",
     "output_type": "stream",
     "text": [
      "pclass\n",
      "1    321\n",
      "2    277\n",
      "3    709\n",
      "dtype: int64\n"
     ]
    }
   ],
   "source": [
    "#find different pclass and no of people in each class\n",
    "tp.columns\n",
    "r= tp.groupby('pclass')\n",
    "print(r.size())"
   ]
  },
  {
   "cell_type": "code",
   "execution_count": 214,
   "metadata": {},
   "outputs": [
    {
     "name": "stdout",
     "output_type": "stream",
     "text": [
      "gender\n",
      "female    464\n",
      "male      843\n",
      "dtype: int64\n"
     ]
    },
    {
     "ename": "TypeError",
     "evalue": "'bool' object is not callable",
     "output_type": "error",
     "traceback": [
      "\u001b[1;31m---------------------------------------------------------------------------\u001b[0m",
      "\u001b[1;31mTypeError\u001b[0m                                 Traceback (most recent call last)",
      "\u001b[1;32m<ipython-input-214-a68494984cf0>\u001b[0m in \u001b[0;36m<module>\u001b[1;34m\u001b[0m\n\u001b[0;32m      2\u001b[0m \u001b[0mgen_grp\u001b[0m \u001b[1;33m=\u001b[0m \u001b[0mtp\u001b[0m\u001b[1;33m.\u001b[0m\u001b[0mgroupby\u001b[0m\u001b[1;33m(\u001b[0m\u001b[1;34m'gender'\u001b[0m\u001b[1;33m)\u001b[0m\u001b[1;33m\u001b[0m\u001b[1;33m\u001b[0m\u001b[0m\n\u001b[0;32m      3\u001b[0m \u001b[0mprint\u001b[0m\u001b[1;33m(\u001b[0m\u001b[0mgen_grp\u001b[0m\u001b[1;33m.\u001b[0m\u001b[0msize\u001b[0m\u001b[1;33m(\u001b[0m\u001b[1;33m)\u001b[0m\u001b[1;33m)\u001b[0m\u001b[1;33m\u001b[0m\u001b[1;33m\u001b[0m\u001b[0m\n\u001b[1;32m----> 4\u001b[1;33m \u001b[0mgen_grp\u001b[0m\u001b[1;33m=\u001b[0m\u001b[0mgen_grp\u001b[0m\u001b[1;33m.\u001b[0m\u001b[0msort\u001b[0m\u001b[1;33m(\u001b[0m\u001b[1;34m'age'\u001b[0m\u001b[1;33m,\u001b[0m\u001b[0mascending\u001b[0m\u001b[1;33m=\u001b[0m\u001b[1;32mTrue\u001b[0m\u001b[1;33m)\u001b[0m\u001b[1;33m.\u001b[0m\u001b[0mhead\u001b[0m\u001b[1;33m(\u001b[0m\u001b[1;33m)\u001b[0m\u001b[1;33m\u001b[0m\u001b[1;33m\u001b[0m\u001b[0m\n\u001b[0m\u001b[0;32m      5\u001b[0m \u001b[0mprint\u001b[0m\u001b[1;33m(\u001b[0m\u001b[0mgen_grp\u001b[0m\u001b[1;33m(\u001b[0m\u001b[1;33m)\u001b[0m\u001b[1;33m)\u001b[0m\u001b[1;33m\u001b[0m\u001b[1;33m\u001b[0m\u001b[0m\n",
      "\u001b[1;31mTypeError\u001b[0m: 'bool' object is not callable"
     ]
    }
   ],
   "source": [
    "#find top 5 people with highest values of age. Count no of male and females in the top 5\n",
    "gen_grp = tp.groupby('gender')\n",
    "print(gen_grp.size())\n",
    "gen_grp=gen_grp.sort('age',ascending=True).head()\n",
    "print(gen_grp())"
   ]
  },
  {
   "cell_type": "code",
   "execution_count": null,
   "metadata": {},
   "outputs": [],
   "source": []
  }
 ],
 "metadata": {
  "kernelspec": {
   "display_name": "Python 3",
   "language": "python",
   "name": "python3"
  },
  "language_info": {
   "codemirror_mode": {
    "name": "ipython",
    "version": 3
   },
   "file_extension": ".py",
   "mimetype": "text/x-python",
   "name": "python",
   "nbconvert_exporter": "python",
   "pygments_lexer": "ipython3",
   "version": "3.8.3"
  }
 },
 "nbformat": 4,
 "nbformat_minor": 2
}
