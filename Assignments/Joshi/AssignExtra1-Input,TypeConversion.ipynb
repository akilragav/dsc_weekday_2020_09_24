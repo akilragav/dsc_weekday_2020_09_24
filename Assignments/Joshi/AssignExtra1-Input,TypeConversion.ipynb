{
 "cells": [
  {
   "cell_type": "code",
   "execution_count": 2,
   "metadata": {},
   "outputs": [
    {
     "name": "stdout",
     "output_type": "stream",
     "text": [
      "Enter temperature in C:37.5\n",
      "Temperatur in F is: 99.5\n"
     ]
    }
   ],
   "source": [
    "#Input temperature in Fahrenheit in print in Celsius.\n",
    "temp = float(input(\"Enter temperature in C:\"))\n",
    "fer = (temp*(9/5))+ 32\n",
    "print(\"Temperatur in F is:\", fer)"
   ]
  },
  {
   "cell_type": "code",
   "execution_count": 13,
   "metadata": {},
   "outputs": [
    {
     "name": "stdout",
     "output_type": "stream",
     "text": [
      "Enter an number:6\n",
      "Square and Cube of entred number is: 36 216\n"
     ]
    }
   ],
   "source": [
    "#Write a program to input a number and print its square and cube.\n",
    "x= int(input(\"Enter an number:\"))\n",
    "y = pow(x,2)\n",
    "z = pow(x,3)\n",
    "print(\"Square and Cube of entred number is:\",y,z)"
   ]
  },
  {
   "cell_type": "code",
   "execution_count": 15,
   "metadata": {},
   "outputs": [
    {
     "name": "stdout",
     "output_type": "stream",
     "text": [
      "Enter an number:5\n",
      "Enter an number:6\n",
      "n2+m2: 61\n"
     ]
    }
   ],
   "source": [
    "#WAP to input a number n and a number m and print the result of following n2+m2\n",
    "n= int(input(\"Enter an number:\"))\n",
    "m= int(input(\"Enter an number:\"))\n",
    "print(\"n2+m2:\",(n**2)+(m**2))"
   ]
  },
  {
   "cell_type": "code",
   "execution_count": 17,
   "metadata": {},
   "outputs": [
    {
     "name": "stdout",
     "output_type": "stream",
     "text": [
      "Enter an number:4\n",
      "Enter an number:5\n",
      "m power n is: 1024\n",
      "m power n is: 1024\n"
     ]
    }
   ],
   "source": [
    "#WAP to input a numbers M and N and print result of MN. (use both ** and pow)\n",
    "m= int(input(\"Enter an number:\"))\n",
    "n=int(input(\"Enter an number:\"))\n",
    "print(\"m power n is:\", m**n)\n",
    "print(\"m power n is:\",pow(m,n))\n"
   ]
  },
  {
   "cell_type": "code",
   "execution_count": 23,
   "metadata": {},
   "outputs": [
    {
     "name": "stdout",
     "output_type": "stream",
     "text": [
      "Enter principle amount: 1100\n",
      "Rate of intrest: 2\n",
      "Enter time period: 3\n",
      "Intrest amount is: 66.0\n"
     ]
    }
   ],
   "source": [
    "#Write a simple interest calculator.\n",
    "s=int(input(\"Enter principle amount: \"))\n",
    "r=int(input(\"Rate of intrest: \"))\n",
    "t=int(input(\"Enter time period: \"))\n",
    "i = float((s*r*t)/100)\n",
    "print(\"Intrest amount is:\",i)"
   ]
  },
  {
   "cell_type": "code",
   "execution_count": 31,
   "metadata": {},
   "outputs": [
    {
     "name": "stdout",
     "output_type": "stream",
     "text": [
      "Enter principle amount: 100000\n",
      "Rate of intrest: 2\n",
      "Enter time period: 12\n",
      "number of times interest applied per time period2\n",
      "Intrest amount is: 1.0004801104161936e+120\n"
     ]
    }
   ],
   "source": [
    "#Input Principal, Rate, Time and print Compound Interest and Amount.\n",
    "s=int(input(\"Enter principle amount: \"))\n",
    "r=int(input(\"Rate of intrest: \"))\n",
    "t=int(input(\"Enter time period: \"))\n",
    "n= int(input(\"number of times interest applied per time period\"))\n",
    "j = float(pow((s+(1+(r/n))),(n*t)))\n",
    "print(\"Intrest amount is:\",j)"
   ]
  },
  {
   "cell_type": "code",
   "execution_count": 41,
   "metadata": {},
   "outputs": [
    {
     "name": "stdout",
     "output_type": "stream",
     "text": [
      "Enter the n numbers:5\n",
      "15\n"
     ]
    }
   ],
   "source": [
    "#WAP to print sum of first n natural numbers. (n needs to be taken as input).\n",
    "i= int(input(\"Enter the n numbers:\"))\n",
    "sum=0\n",
    "for j in range(0,i+1, 1):\n",
    "    sum=sum+j\n",
    "print(sum)\n"
   ]
  },
  {
   "cell_type": "code",
   "execution_count": 62,
   "metadata": {},
   "outputs": [
    {
     "name": "stdout",
     "output_type": "stream",
     "text": [
      "enter anumber:23\n",
      "enter anumber:45\n",
      "swaped numbers (a,b) are: 45 23\n",
      "in pythonic way: \n",
      " 1st number: 45 \n",
      "2nd number: 23\n"
     ]
    }
   ],
   "source": [
    "#WAP to input 2 numbers and swap them. (write using both normal logic with temp variable and also the pythonic way).\n",
    "a = int(input(\"enter anumber:\"))\n",
    "b = int(input(\"enter anumber:\"))\n",
    "c= b\n",
    "b = a\n",
    "a = c\n",
    "print(\"swaped numbers (a,b) are:\",a,b)\n",
    "a,b=b,a\n",
    "print(\"in pythonic way:\", '\\n', \"1st number:\", b, '\\n' \"2nd number:\", a)"
   ]
  },
  {
   "cell_type": "code",
   "execution_count": 71,
   "metadata": {},
   "outputs": [
    {
     "name": "stdout",
     "output_type": "stream",
     "text": [
      "Enter a single character:s\n",
      "115 s\n"
     ]
    }
   ],
   "source": [
    "#Input a single character and print its ascii values.\n",
    "x= input(\"Enter a single character:\")\n",
    "print(ord(x),x)"
   ]
  },
  {
   "cell_type": "code",
   "execution_count": 77,
   "metadata": {},
   "outputs": [
    {
     "name": "stdout",
     "output_type": "stream",
     "text": [
      "Enter area of circle:23\n",
      "Radius of circle is: 2.7057581899030048\n",
      "Circumference of Circle is: 17.00078010357939\n"
     ]
    }
   ],
   "source": [
    "#WAP that takes area of a circle and gives back the radius and circumference.\n",
    "\n",
    "a=float(input(\"Enter area of circle:\"))\n",
    "r= float(math.sqrt(a/math.pi))\n",
    "print(\"Radius of circle is:\",r)\n",
    "print(\"Circumference of Circle is:\",2*math.pi*r)\n"
   ]
  },
  {
   "cell_type": "code",
   "execution_count": 72,
   "metadata": {},
   "outputs": [
    {
     "name": "stdout",
     "output_type": "stream",
     "text": [
      "['__doc__', '__loader__', '__name__', '__package__', '__spec__', 'acos', 'acosh', 'asin', 'asinh', 'atan', 'atan2', 'atanh', 'ceil', 'comb', 'copysign', 'cos', 'cosh', 'degrees', 'dist', 'e', 'erf', 'erfc', 'exp', 'expm1', 'fabs', 'factorial', 'floor', 'fmod', 'frexp', 'fsum', 'gamma', 'gcd', 'hypot', 'inf', 'isclose', 'isfinite', 'isinf', 'isnan', 'isqrt', 'ldexp', 'lgamma', 'log', 'log10', 'log1p', 'log2', 'modf', 'nan', 'perm', 'pi', 'pow', 'prod', 'radians', 'remainder', 'sin', 'sinh', 'sqrt', 'tan', 'tanh', 'tau', 'trunc']\n"
     ]
    }
   ],
   "source": [
    "import math\n",
    "\n",
    "print(dir(math))"
   ]
  },
  {
   "cell_type": "code",
   "execution_count": 80,
   "metadata": {},
   "outputs": [
    {
     "name": "stdout",
     "output_type": "stream",
     "text": [
      "Enter marks gained in English:76\n",
      "Enter marks gained in Mathematics:54\n",
      "Enter marks gained in Science:76\n",
      "Enter marks gained in Social:89\n",
      "Enter marks gained in G.K:100\n",
      "Enter marks gained in Hindi:56\n",
      "Percentage gained= 75.16666666666667\n"
     ]
    }
   ],
   "source": [
    "#We need to input marks in 5 subjects out of 100 and print percentage.\n",
    "e=float(input(\"Enter marks gained in English:\"))\n",
    "m=float(input(\"Enter marks gained in Mathematics:\"))\n",
    "sci=float(input(\"Enter marks gained in Science:\"))\n",
    "soc=float(input(\"Enter marks gained in Social:\"))\n",
    "g=float(input(\"Enter marks gained in G.K:\"))\n",
    "h=float(input(\"Enter marks gained in Hindi:\"))\n",
    "p=((e+m+sci+soc+g+h)/600)*100\n",
    "\n",
    "print(\"Percentage gained=\",p)"
   ]
  },
  {
   "cell_type": "code",
   "execution_count": null,
   "metadata": {},
   "outputs": [],
   "source": []
  }
 ],
 "metadata": {
  "kernelspec": {
   "display_name": "Python 3",
   "language": "python",
   "name": "python3"
  },
  "language_info": {
   "codemirror_mode": {
    "name": "ipython",
    "version": 3
   },
   "file_extension": ".py",
   "mimetype": "text/x-python",
   "name": "python",
   "nbconvert_exporter": "python",
   "pygments_lexer": "ipython3",
   "version": "3.8.3"
  }
 },
 "nbformat": 4,
 "nbformat_minor": 4
}
