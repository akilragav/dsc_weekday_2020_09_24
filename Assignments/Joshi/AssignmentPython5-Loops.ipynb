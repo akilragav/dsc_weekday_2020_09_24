{
 "cells": [
  {
   "cell_type": "code",
   "execution_count": 11,
   "metadata": {},
   "outputs": [
    {
     "name": "stdout",
     "output_type": "stream",
     "text": [
      "Enter number n:6\n",
      "0\n",
      "1\n",
      "2\n",
      "3\n",
      "4\n",
      "5\n",
      "6\n"
     ]
    }
   ],
   "source": [
    "#AssignmentPython5-Loops\n",
    "\n",
    "x = int(input(\"Enter number n:\"))\n",
    "\n",
    "for i in range(0, x+1):\n",
    "    print(i)\n",
    "    \n",
    "   "
   ]
  },
  {
   "cell_type": "code",
   "execution_count": 22,
   "metadata": {},
   "outputs": [
    {
     "name": "stdout",
     "output_type": "stream",
     "text": [
      "Enter number n:5\n",
      "15.0\n"
     ]
    }
   ],
   "source": [
    "#WAP to find sum of first n natural numbers\n",
    "x = int(input(\"Enter number n:\"))\n",
    "\n",
    "for i in range(1, x+1):\n",
    "    s= (i*(i+1))/2\n",
    "\n",
    "print(s)\n",
    "    "
   ]
  },
  {
   "cell_type": "code",
   "execution_count": 40,
   "metadata": {},
   "outputs": [
    {
     "name": "stdout",
     "output_type": "stream",
     "text": [
      "Enter number n:6\n",
      "6\n",
      "5\n",
      "4\n",
      "3\n",
      "2\n",
      "1\n"
     ]
    }
   ],
   "source": [
    "#WAP to print first n natural numbers in reverse order.\n",
    "x = int(input(\"Enter number n:\"))\n",
    "\n",
    "for i in range(x,0,-1):\n",
    "    print(i)"
   ]
  },
  {
   "cell_type": "code",
   "execution_count": 65,
   "metadata": {},
   "outputs": [
    {
     "name": "stdout",
     "output_type": "stream",
     "text": [
      "enter a number:6\n",
      "Factorial of entered number is 720\n"
     ]
    }
   ],
   "source": [
    "#WAP to input a number and print its factorial.\n",
    "x = int(input(\"enter a number:\"))\n",
    "\n",
    "if x < 0:\n",
    "    print(\"Factorial does not exists\")\n",
    "elif x==0:\n",
    "    print(\"Factorial of 0 is 0\")\n",
    "    \n",
    "else:\n",
    "    for i in range(1,x):\n",
    "        x = x*i\n",
    "    print(f'Factorial of entered number is {x}')"
   ]
  },
  {
   "cell_type": "code",
   "execution_count": 80,
   "metadata": {},
   "outputs": [
    {
     "name": "stdout",
     "output_type": "stream",
     "text": [
      "enter a number:10\n",
      "0\n",
      "1\n",
      "2\n",
      "3\n",
      "5\n",
      "8\n",
      "13\n"
     ]
    }
   ],
   "source": [
    "#WAP to print Fibonacci sequence till n.\n",
    "n = int(input(\"enter a number:\"))\n",
    "x=0\n",
    "y=1\n",
    "z=x+y\n",
    "print(x)\n",
    "print(y)\n",
    "while z<=n:\n",
    "    x=y\n",
    "    y=z\n",
    "    z=x+y\n",
    "    print(z)\n"
   ]
  },
  {
   "cell_type": "code",
   "execution_count": 86,
   "metadata": {},
   "outputs": [
    {
     "name": "stdout",
     "output_type": "stream",
     "text": [
      "Enter a number: 7382110118\n",
      "7 3 8 2 1 1 0 1 1 8 "
     ]
    }
   ],
   "source": [
    "#WAP to print all digits of a number input from user.\n",
    "x = input(\"Enter a number: \")\n",
    "for i in x:\n",
    "    print(i, end=' ')"
   ]
  },
  {
   "cell_type": "code",
   "execution_count": 104,
   "metadata": {},
   "outputs": [
    {
     "name": "stdout",
     "output_type": "stream",
     "text": [
      "Enter a number: 7382110118\n",
      "32\n"
     ]
    }
   ],
   "source": [
    "#WAP to find sum of all digits of a number.\n",
    "x = input(\"Enter a number: \")\n",
    "y=0\n",
    "for i in x:\n",
    "    y += int(i)\n",
    "print(j)"
   ]
  },
  {
   "cell_type": "code",
   "execution_count": 111,
   "metadata": {},
   "outputs": [
    {
     "name": "stdout",
     "output_type": "stream",
     "text": [
      "enter a number:3\n"
     ]
    },
    {
     "ename": "TypeError",
     "evalue": "'str' object is not callable",
     "output_type": "error",
     "traceback": [
      "\u001b[1;31m---------------------------------------------------------------------------\u001b[0m",
      "\u001b[1;31mTypeError\u001b[0m                                 Traceback (most recent call last)",
      "\u001b[1;32m<ipython-input-111-2282f17c2276>\u001b[0m in \u001b[0;36m<module>\u001b[1;34m\u001b[0m\n\u001b[0;32m      7\u001b[0m     \u001b[1;32mfor\u001b[0m \u001b[0mi\u001b[0m \u001b[1;32min\u001b[0m \u001b[0mrange\u001b[0m\u001b[1;33m(\u001b[0m\u001b[1;36m1\u001b[0m\u001b[1;33m,\u001b[0m\u001b[0mx\u001b[0m\u001b[1;33m)\u001b[0m\u001b[1;33m:\u001b[0m\u001b[1;33m\u001b[0m\u001b[1;33m\u001b[0m\u001b[0m\n\u001b[0;32m      8\u001b[0m         \u001b[0mx\u001b[0m \u001b[1;33m=\u001b[0m \u001b[0mint\u001b[0m\u001b[1;33m(\u001b[0m\u001b[0mx\u001b[0m\u001b[1;33m*\u001b[0m\u001b[0mi\u001b[0m\u001b[1;33m)\u001b[0m\u001b[1;33m\u001b[0m\u001b[1;33m\u001b[0m\u001b[0m\n\u001b[1;32m----> 9\u001b[1;33m         \u001b[0mj\u001b[0m \u001b[1;33m+=\u001b[0m \u001b[0msum\u001b[0m\u001b[1;33m(\u001b[0m\u001b[0mi\u001b[0m\u001b[1;33m)\u001b[0m\u001b[1;33m\u001b[0m\u001b[1;33m\u001b[0m\u001b[0m\n\u001b[0m\u001b[0;32m     10\u001b[0m         \u001b[0mprint\u001b[0m\u001b[1;33m(\u001b[0m\u001b[1;34mf'Factorial of entered number is {j}'\u001b[0m\u001b[1;33m)\u001b[0m\u001b[1;33m\u001b[0m\u001b[1;33m\u001b[0m\u001b[0m\n",
      "\u001b[1;31mTypeError\u001b[0m: 'str' object is not callable"
     ]
    }
   ],
   "source": [
    "#WAP to find sum of following series given n as input from user\n",
    "#1 + 2! + 3! + 4! + 5! + ….n!\n",
    "#Where n! denotes the factorial of number n.\n",
    "x = int(input(\"enter a number:\"))\n",
    "j=0\n",
    "while True:\n",
    "    for i in range(1,x):\n",
    "        x = x*i\n",
    "        j += sum(i)\n",
    "        print(f'Factorial of entered number is {j}')"
   ]
  },
  {
   "cell_type": "code",
   "execution_count": 133,
   "metadata": {},
   "outputs": [
    {
     "name": "stdout",
     "output_type": "stream",
     "text": [
      "Enter Base number: 3\n",
      "Enter Exponent number: 3\n",
      "27\n"
     ]
    }
   ],
   "source": [
    "#WAP to input base and exponent and print result without using inbuilt function pow(use for or while loop).\n",
    "a = int(input(\"Enter Base number: \"))\n",
    "b = int(input(\"Enter Exponent number: \"))\n",
    "ans = 1\n",
    "for i in range(b):\n",
    "    ans*=a\n",
    "print(ans)\n",
    "    \n",
    "    \n"
   ]
  },
  {
   "cell_type": "code",
   "execution_count": null,
   "metadata": {},
   "outputs": [],
   "source": [
    "def power_func(base,expo):\n",
    "    res=1\n",
    "    for i in range(expo):\n",
    "        res*=base\n",
    "    return res\n",
    "\n",
    "base=int(input('Enter base:'))\n",
    "expo=int(input('Enter expo:'))\n",
    "print(power_func(base,expo))"
   ]
  },
  {
   "cell_type": "code",
   "execution_count": 149,
   "metadata": {},
   "outputs": [
    {
     "name": "stdout",
     "output_type": "stream",
     "text": [
      "enter a number:6\n",
      "\n",
      "*\n",
      "**\n",
      "***\n",
      "****\n",
      "*****\n",
      "******\n"
     ]
    }
   ],
   "source": [
    "x=int(input(\"enter a number:\"))\n",
    "\n",
    "for i in range(x+1):\n",
    "    print(\"*\"*i)\n",
    "    i= i+1\n",
    " "
   ]
  },
  {
   "cell_type": "code",
   "execution_count": 163,
   "metadata": {},
   "outputs": [
    {
     "name": "stdout",
     "output_type": "stream",
     "text": [
      "enter a number:6\n",
      "\n",
      "******\n",
      "*****\n",
      "****\n",
      "***\n",
      "**\n",
      "*\n"
     ]
    }
   ],
   "source": [
    "x=int(input(\"enter a number:\"))\n",
    "print()\n",
    "\n",
    "for i in range(x,0,-1):\n",
    "    print(\"*\"*i)\n",
    "          "
   ]
  }
 ],
 "metadata": {
  "kernelspec": {
   "display_name": "Python 3",
   "language": "python",
   "name": "python3"
  },
  "language_info": {
   "codemirror_mode": {
    "name": "ipython",
    "version": 3
   },
   "file_extension": ".py",
   "mimetype": "text/x-python",
   "name": "python",
   "nbconvert_exporter": "python",
   "pygments_lexer": "ipython3",
   "version": "3.8.3"
  }
 },
 "nbformat": 4,
 "nbformat_minor": 4
}
