{
 "cells": [
  {
   "cell_type": "code",
   "execution_count": 4,
   "metadata": {},
   "outputs": [
    {
     "name": "stdout",
     "output_type": "stream",
     "text": [
      "Enter 1st number10\n",
      "Enter 2nd number3\n",
      "False,1st number is not divisible by 2nd\n"
     ]
    }
   ],
   "source": [
    "#WAP to input 2 numbers and check whether the first is divisible by the second and print true or false \n",
    "#depending on the divisibility.\n",
    "x = float(input(\"Enter 1st number\"))\n",
    "y = float(input(\"Enter 2nd number\"))\n",
    "if x % y == 0:\n",
    "    print(\"True,1st number is divisible by 2nd\")\n",
    "else:\n",
    "    print(\"False,1st number is not divisible by 2nd\")"
   ]
  },
  {
   "cell_type": "code",
   "execution_count": 5,
   "metadata": {},
   "outputs": [
    {
     "name": "stdout",
     "output_type": "stream",
     "text": [
      "enter a string: Naman\n",
      "its palindrome\n"
     ]
    }
   ],
   "source": [
    "#In the palindrome example, make the code case insensitive.\n",
    "p= input(\"enter a string: \")\n",
    "s=p.lower()\n",
    "if s==s[: :-1]:\n",
    "    print(\"its palindrome\")\n",
    "else:\n",
    "    print(\"its  not palindrome\")"
   ]
  },
  {
   "cell_type": "code",
   "execution_count": 22,
   "metadata": {},
   "outputs": [
    {
     "name": "stdout",
     "output_type": "stream",
     "text": [
      "enter a s1 of tringle: 2\n",
      "enter a s2 of tringle: 2\n",
      "enter a s3 of tringle: 2\n",
      "its equilateral\n"
     ]
    }
   ],
   "source": [
    "#WAP to input the sides of a triangle and print whether equilateral(all sides equal), isosceles (2sides equal),\n",
    "#or scalene (no sides equal).\n",
    "x= input(\"enter a s1 of tringle: \")\n",
    "y= input(\"enter a s2 of tringle: \")\n",
    "z= input(\"enter a s3 of tringle: \")\n",
    "\n",
    "if x==y==z:\n",
    "    print(\"its equilateral\")\n",
    "elif x!=y and y!=z:\n",
    "    print(\"its scalene\")\n",
    "else:\n",
    "    print(\"its isosceles traingle\")\n"
   ]
  },
  {
   "cell_type": "code",
   "execution_count": 33,
   "metadata": {},
   "outputs": [
    {
     "name": "stdout",
     "output_type": "stream",
     "text": [
      "enter a number: 55\n",
      "its odd\n"
     ]
    }
   ],
   "source": [
    "#WAP to input a number and print if it is even or odd.\n",
    "a = float(input(\"enter a number: \"))\n",
    "if a%2==0:\n",
    "    print(\"its even\")\n",
    "else:\n",
    "    print(\"its odd\")"
   ]
  },
  {
   "cell_type": "code",
   "execution_count": 44,
   "metadata": {},
   "outputs": [
    {
     "name": "stdout",
     "output_type": "stream",
     "text": [
      "enter age: 23.4\n",
      "Adult\n"
     ]
    }
   ],
   "source": [
    "#WAP to input age and print the respective text depending on the age ranges as present in the table.\n",
    "a = float(input(\"enter age: \"))\n",
    "\n",
    "if 0 <=a<=12:\n",
    "    print(\"child\")\n",
    "elif 13<=a<=17:\n",
    "    print(\"Teen\")\n",
    "elif 18<=a<=50:\n",
    "    print(\"Adult\")\n",
    "elif 51<=a<=100:\n",
    "    print(\"Senior Citizen\")\n",
    "\n",
    "else:\n",
    "    print(\"conrtatulations\")"
   ]
  },
  {
   "cell_type": "code",
   "execution_count": 59,
   "metadata": {},
   "outputs": [
    {
     "name": "stdout",
     "output_type": "stream",
     "text": [
      "enter year: 123456\n",
      "Year should be 4 digits only\n"
     ]
    }
   ],
   "source": [
    "# WAP to input year (check if user enters valid year. Should be 4-digit number and should not be negative) \n",
    "# and print whether leap year or not.\n",
    "lp =int(input(\"enter year: \"))\n",
    "\n",
    "if len(str(lp)) == 4:\n",
    "    if lp%4 == 0:\n",
    "        print(\"its leap year\")\n",
    "    else:\n",
    "        print(\"its non leap year\")\n",
    "elif len(str(lp))<4:\n",
    "    print(\"enter minimum 4 digits\")\n",
    "else:\n",
    "    print(\"Year should be 4 digits only\")"
   ]
  },
  {
   "cell_type": "code",
   "execution_count": 66,
   "metadata": {},
   "outputs": [
    {
     "name": "stdout",
     "output_type": "stream",
     "text": [
      "Enter a string:JoshiG\n",
      "JOSHIG\n"
     ]
    }
   ],
   "source": [
    "#WAP to input a string and convert it to Upper Case if number of characters is odd and convert to lower case otherwise.\n",
    "name= input(\"Enter a string:\")\n",
    "if len(str(name))%2==0:\n",
    "    print(name.upper())\n",
    "    \n",
    "else:\n",
    "    print(name.lower())"
   ]
  },
  {
   "cell_type": "code",
   "execution_count": 73,
   "metadata": {},
   "outputs": [
    {
     "name": "stdout",
     "output_type": "stream",
     "text": [
      "Enter a string:Egg Biryani\n",
      "Non-Veg\n"
     ]
    }
   ],
   "source": [
    "# WAP to input a string and print Veg if the string doesn’t contain the word egg. Otherwise print\n",
    "# Non-Veg. As usual eggs can be both big and small.\n",
    "\n",
    "name= input(\"Enter a string:\")\n",
    "n1 = name.lower()\n",
    "\n",
    "if 'egg' in n1:\n",
    "    print(\"Non-Veg\")\n",
    "else:\n",
    "    print(\"Veg\")"
   ]
  },
  {
   "cell_type": "code",
   "execution_count": 77,
   "metadata": {},
   "outputs": [
    {
     "name": "stdout",
     "output_type": "stream",
     "text": [
      "True\n",
      "--------------------------------------------------------\n",
      "True\n",
      "--------------------------------------------------------\n",
      "Weird!!\n",
      "--------------------------------------------------------\n",
      "[4, 3, 2, 1]\n"
     ]
    }
   ],
   "source": [
    "if not 1:\n",
    "    print(\"False\")\n",
    "else:\n",
    "    print(\"True\")\n",
    "print(\"--------------------------------------------------------\")\n",
    "if 1:\n",
    "    print(\"True\")\n",
    "else:\n",
    "    print(\"False\")\n",
    "print(\"--------------------------------------------------------\")\n",
    "if 'a' > 'A':\n",
    "    print('Weird!!')\n",
    "else:\n",
    "    print('makes Sense')\n",
    "print(\"--------------------------------------------------------\")\n",
    "a = [1,2,3,4]\n",
    "if 1>1:\n",
    "    a = a[::-1]\n",
    "else:\n",
    "    a = a[-1::-1]\n",
    "print(a)"
   ]
  },
  {
   "cell_type": "code",
   "execution_count": 81,
   "metadata": {},
   "outputs": [
    {
     "name": "stdout",
     "output_type": "stream",
     "text": [
      "enter marks of s1: 75\n",
      "enter marks of s2: 75\n",
      "enter marks of s3: 75\n",
      "enter marks of s4: 75\n",
      "enter marks of s5: 75\n",
      "percentage gained 75.0\n",
      "Grade-c\n"
     ]
    }
   ],
   "source": [
    "# WAP to input marks in 5 subjects and print the grade as per following logic:\n",
    "# % between 90-100 Grade-A\n",
    "# % between 80 - 89 Grade-B\n",
    "# % between 60 - 79 Grade-C\n",
    "# % < 60 Grade-F\n",
    "\n",
    "s1 = float(input(\"enter marks of s1: \"))\n",
    "s2 = float(input(\"enter marks of s2: \"))\n",
    "s3 = float(input(\"enter marks of s3: \"))\n",
    "s4 = float(input(\"enter marks of s4: \"))\n",
    "s5 = float(input(\"enter marks of s5: \"))\n",
    "\n",
    "total_per=((s1+s2+s3+s4+s5)/500)*100\n",
    "print(f'percentage gained {total_per}')\n",
    "\n",
    "if 90 <=total_per<=100: \n",
    "    print(\"Grade-A\")\n",
    "elif 80 <=total_per<=89:\n",
    "    print(\"Grade-B\")\n",
    "elif 60 <=total_per<=79:\n",
    "    print(\"Grade-c\")\n",
    "else:\n",
    "    print(\"Grade-F\")"
   ]
  },
  {
   "cell_type": "code",
   "execution_count": 91,
   "metadata": {},
   "outputs": [
    {
     "name": "stdout",
     "output_type": "stream",
     "text": [
      "Enter age: 28\n",
      "Enter salary: 900000\n",
      "Tax=10%\n"
     ]
    }
   ],
   "source": [
    "# WAP to input age and salary and calculate Tax as per tax rates if following table:\n",
    "a = int(input(\"Enter age: \"))\n",
    "s = int(input(\"Enter salary: \"))\n",
    "\n",
    "if a < 60:\n",
    "    if s>=0 and s<=250000:\n",
    "        print(\"Tax=0%\")\n",
    "    elif s>=250001 and s<=500001:\n",
    "        print(\"Tax=5%\")\n",
    "    elif s>=500001 and s<=1000001:\n",
    "        print(\"Tax=10%\")\n",
    "    elif s>=1000001:\n",
    "        print(\"Tax=15%\")\n",
    "else:\n",
    "    if s>=0 and s<=250000:\n",
    "        print(\"Tax=0%\")\n",
    "    elif s>=250001 and s<=500000:\n",
    "        print(\"Tax=3%\")\n",
    "    elif s>=500001 and s<=1000000:\n",
    "        print(\"Tax=8%\")\n",
    "    elif s>1000000:\n",
    "        print(\"Tax=12%\")"
   ]
  }
 ],
 "metadata": {
  "kernelspec": {
   "display_name": "Python 3",
   "language": "python",
   "name": "python3"
  },
  "language_info": {
   "codemirror_mode": {
    "name": "ipython",
    "version": 3
   },
   "file_extension": ".py",
   "mimetype": "text/x-python",
   "name": "python",
   "nbconvert_exporter": "python",
   "pygments_lexer": "ipython3",
   "version": "3.8.3"
  }
 },
 "nbformat": 4,
 "nbformat_minor": 4
}
