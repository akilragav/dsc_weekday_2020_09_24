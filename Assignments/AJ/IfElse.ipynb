{
 "cells": [
  {
   "cell_type": "code",
   "execution_count": 4,
   "metadata": {},
   "outputs": [
    {
     "name": "stdout",
     "output_type": "stream",
     "text": [
      "Enter first number: 5\n",
      "Enter Second number: 3\n",
      "False\n"
     ]
    }
   ],
   "source": [
    "num1= int(input(\"Enter first number: \"))\n",
    "num2= int(input(\"Enter Second number: \"))\n",
    "res=False\n",
    "\n",
    "if num1%num2==0:\n",
    "    res=True\n",
    "    \n",
    "\n",
    "print(res)\n",
    "    "
   ]
  },
  {
   "cell_type": "code",
   "execution_count": 18,
   "metadata": {},
   "outputs": [
    {
     "name": "stdout",
     "output_type": "stream",
     "text": [
      "Ener String to check Palindrome: Mom\n",
      "mom 'Hurray its Palindrome'\n"
     ]
    }
   ],
   "source": [
    "userip=input(\"Ener String to check Palindrome: \").lower()\n",
    "\n",
    "if userip[0::]==userip[::-1]:\n",
    "    print(f\"{userip} 'Hurray its Palindrome'\")\n",
    "else:\n",
    "    print(f\"{userip} 'is not a palindrome'\")\n"
   ]
  },
  {
   "cell_type": "code",
   "execution_count": 26,
   "metadata": {},
   "outputs": [
    {
     "name": "stdout",
     "output_type": "stream",
     "text": [
      "Enter Length of side1 of a triangle 45\n",
      "Enter Length of side2 of a triangle 45\n",
      "Enter Length of side3 of a triangle 33\n",
      "isosceles\n"
     ]
    }
   ],
   "source": [
    "side1 = int(input(\"Enter Length of side1 of a triangle \"))\n",
    "side2 = int(input(\"Enter Length of side2 of a triangle \"))\n",
    "side3 = int(input(\"Enter Length of side3 of a triangle \"))\n",
    "\n",
    "Triangle =\"scalene\"\n",
    "\n",
    "if side1==side2 and side2==side3:\n",
    "    Triangle=\"equilateral\"\n",
    "elif side1==side2 or side2==side3 or side1==side3:\n",
    "    Triangle=\"isosceles\"\n",
    "    \n",
    "print(Triangle)\n",
    "    \n",
    "        \n",
    "    "
   ]
  },
  {
   "cell_type": "code",
   "execution_count": 28,
   "metadata": {},
   "outputs": [
    {
     "name": "stdout",
     "output_type": "stream",
     "text": [
      "Enter number to check even or odd:  44\n",
      "44 is Even\n"
     ]
    }
   ],
   "source": [
    "num1=int(input(\"Enter number to check even or odd:  \"))\n",
    "\n",
    "res=\"Odd\"\n",
    "\n",
    "if num1%2==0:\n",
    "    res=\"Even\"\n",
    "print(f\"{num1} is {res}\")"
   ]
  },
  {
   "cell_type": "code",
   "execution_count": 31,
   "metadata": {},
   "outputs": [
    {
     "name": "stdout",
     "output_type": "stream",
     "text": [
      "Please Enter Your Age: 22\n",
      "Adult\n"
     ]
    }
   ],
   "source": [
    "age = int(input(\"Please Enter Your Age: \"))\n",
    "\n",
    "if age<=12:\n",
    "    print(\"Childern\")\n",
    "elif age<=17:\n",
    "    print(\"Teen\")\n",
    "elif age<50:\n",
    "    print(\"Adult\")\n",
    "elif age<=100:\n",
    "    print(\"Senior Citizen\")\n",
    "else:\n",
    "    print(\"congratz\")"
   ]
  },
  {
   "cell_type": "code",
   "execution_count": 61,
   "metadata": {},
   "outputs": [
    {
     "name": "stdout",
     "output_type": "stream",
     "text": [
      "Please Enter year to check leap year: -1987\n",
      "please enter a valid year\n"
     ]
    }
   ],
   "source": [
    "year=int(input(\"Please Enter year to check leap year: \"))\n",
    "\n",
    "if year>0 and len(str(year))==4:\n",
    "    if year%4==0:\n",
    "        print(f\"{year} is a leap year\")\n",
    "    else:\n",
    "        print(f\"{year} is not a leap year\")\n",
    "else:\n",
    "    print(\"please enter a valid year\")\n",
    "\n",
    "        \n",
    "\n",
    "\n",
    "    \n",
    "       \n",
    "        \n"
   ]
  },
  {
   "cell_type": "code",
   "execution_count": 63,
   "metadata": {},
   "outputs": [
    {
     "name": "stdout",
     "output_type": "stream",
     "text": [
      "Please enter input: sdgh\n",
      "SDGH\n"
     ]
    }
   ],
   "source": [
    "ip=input(\"Please enter input: \")\n",
    "\n",
    "if len(ip)%2==0:\n",
    "    print(ip.upper())\n",
    "else:\n",
    "    print(ip.lower())"
   ]
  },
  {
   "cell_type": "code",
   "execution_count": null,
   "metadata": {},
   "outputs": [],
   "source": [
    "uip =input(\"please enter items list: \").lower()\n",
    "\n",
    "if uip.find(\"egg\")+1:\n",
    "    print(\"Its non veg\")\n",
    "else:\n",
    "    print(\"Its vegetarian\")"
   ]
  },
  {
   "cell_type": "code",
   "execution_count": 10,
   "metadata": {},
   "outputs": [
    {
     "name": "stdout",
     "output_type": "stream",
     "text": [
      "Please enter marks for sub-1:  99\n",
      "Please enter marks for sub-2:  87\n",
      "Please enter marks for sub-3:  88\n",
      "Please enter marks for sub-4:  99\n",
      "Please enter marks for sub-5:  75\n",
      "89.6\n",
      "Grade B\n"
     ]
    }
   ],
   "source": [
    "marks=[]\n",
    "\n",
    "for i in range(0,5):\n",
    "    score=input(f\"Please enter marks for sub-{i+1}:  \")\n",
    "    marks.append(score)\n",
    "\n",
    "total=0\n",
    "\n",
    "for i in marks:\n",
    "    total=total+int(i)\n",
    "\n",
    "grade = total/5\n",
    "print(grade)\n",
    "\n",
    "if grade>=90:\n",
    "    print(\"Grade A\")\n",
    "elif grade>=89:\n",
    "    print(\"Grade B\")\n",
    "elif grade>=60:\n",
    "    print(\"gGrade C\")\n",
    "else:\n",
    "    print(\"Grade F\")\n"
   ]
  },
  {
   "cell_type": "code",
   "execution_count": 17,
   "metadata": {},
   "outputs": [
    {
     "name": "stdout",
     "output_type": "stream",
     "text": [
      "Please Enter Your Age: 20\n",
      "Please Enter Your Yearly Salary: 160000\n",
      "No tax..\n",
      "Your ae is 20, Salary is 160000, so your tax is 0\n"
     ]
    }
   ],
   "source": [
    "age= int(input(\"Please Enter Your Age: \" ))\n",
    "sal = int(input(\"Please Enter Your Yearly Salary: \"))\n",
    "tax=0\n",
    "\n",
    "if sal<=250000:\n",
    "    print(\"No tax..\")\n",
    "    \n",
    "elif sal<=500000:\n",
    "    if age>60:\n",
    "        tax=(3/100)*sal\n",
    "    else:\n",
    "        tax=(5/100)*sal\n",
    "        \n",
    "elif sal<=1000000:\n",
    "    if age>60:\n",
    "        tax=(8/100)*sal\n",
    "    else:\n",
    "        tax=(10/100)*sal\n",
    "\n",
    "elif sal>1000000:\n",
    "      if age>60:\n",
    "        tax=(12/100)*sal\n",
    "      else:\n",
    "        tax=(15/100)*sal\n",
    "        \n",
    "print(f\"Your ae is {age}, Salary is {sal}, so your tax is {tax}\")\n",
    "        \n",
    "    "
   ]
  },
  {
   "cell_type": "code",
   "execution_count": 19,
   "metadata": {},
   "outputs": [
    {
     "name": "stdout",
     "output_type": "stream",
     "text": [
      "20\n"
     ]
    }
   ],
   "source": [
    "print( 20 if not 1==1 else 10 )"
   ]
  },
  {
   "cell_type": "code",
   "execution_count": 21,
   "metadata": {},
   "outputs": [
    {
     "name": "stdout",
     "output_type": "stream",
     "text": [
      "50.0\n"
     ]
    }
   ],
   "source": [
    "i=100\n",
    "print( i/2 if i>80 else i*2 )"
   ]
  },
  {
   "cell_type": "code",
   "execution_count": 24,
   "metadata": {},
   "outputs": [
    {
     "name": "stdout",
     "output_type": "stream",
     "text": [
      "10\n"
     ]
    }
   ],
   "source": [
    "print( 30 if not 1==1 else 20 if 'a' <'A' else 10 )"
   ]
  },
  {
   "cell_type": "code",
   "execution_count": 23,
   "metadata": {},
   "outputs": [
    {
     "name": "stdout",
     "output_type": "stream",
     "text": [
      "97 65\n"
     ]
    }
   ],
   "source": [
    "print(ord('a'),ord(\"A\"))"
   ]
  },
  {
   "cell_type": "code",
   "execution_count": 25,
   "metadata": {},
   "outputs": [
    {
     "name": "stdout",
     "output_type": "stream",
     "text": [
      "20\n"
     ]
    }
   ],
   "source": [
    "print( 30 if not 1==1 else 20 if 'a' >'A' else 10 )"
   ]
  },
  {
   "cell_type": "code",
   "execution_count": 26,
   "metadata": {},
   "outputs": [
    {
     "name": "stdout",
     "output_type": "stream",
     "text": [
      "30\n"
     ]
    }
   ],
   "source": [
    "print( 30 if 1==1 else 20 if 'a' >'A' else 10 )"
   ]
  },
  {
   "cell_type": "code",
   "execution_count": 30,
   "metadata": {},
   "outputs": [
    {
     "name": "stdout",
     "output_type": "stream",
     "text": [
      "10\n"
     ]
    }
   ],
   "source": [
    "print( 40 if not 1==1 else 30 if 'a' <'A' else 20 if '' else 10 )"
   ]
  },
  {
   "cell_type": "code",
   "execution_count": 31,
   "metadata": {},
   "outputs": [
    {
     "name": "stdout",
     "output_type": "stream",
     "text": [
      "20\n"
     ]
    }
   ],
   "source": [
    "print( 40 if not 1==1 else 30 if 'a' <'A' else 20 if 'hi' else 10 )"
   ]
  },
  {
   "cell_type": "code",
   "execution_count": 39,
   "metadata": {},
   "outputs": [
    {
     "name": "stdout",
     "output_type": "stream",
     "text": [
      "Please Enter your Weight in Kg's: 54\n",
      "Please enter your height in centimeters: 150\n",
      "Normal\n"
     ]
    }
   ],
   "source": [
    "Weight = int(input(\"Please Enter your Weight in Kg's: \"))\n",
    "Height = int(input(\"Please enter your height in centimeters: \")) / 100\n",
    "\n",
    "def BMI(Weight,Height):\n",
    "    BMI = Weight/(Height*Height)\n",
    "        \n",
    "    if BMI>=16 and BMI<18.5:\n",
    "        return \"Underweight\"\n",
    "    elif BMI>=18.5 and BMI<25:\n",
    "        return \"Normal\"\n",
    "    elif BMI>=25 and BMI<30:\n",
    "        return \"Overweight\"\n",
    "    \n",
    "print(BMI(Weight,Height))"
   ]
  },
  {
   "cell_type": "code",
   "execution_count": 45,
   "metadata": {},
   "outputs": [
    {
     "name": "stdout",
     "output_type": "stream",
     "text": [
      "Please enter any number: 24\n",
      "number 24 is not divisible by both 5 and 7\n"
     ]
    }
   ],
   "source": [
    "number = int(input(\"Please enter any number: \"))\n",
    "\n",
    "if number%5==0 and number%7==0:\n",
    "    print(f\"number {number} is divisible by both 5 and 7\")\n",
    "else:\n",
    "    print(f\"number {number} is not divisible by both 5 and 7\")\n"
   ]
  }
 ],
 "metadata": {
  "kernelspec": {
   "display_name": "Python 3",
   "language": "python",
   "name": "python3"
  },
  "language_info": {
   "codemirror_mode": {
    "name": "ipython",
    "version": 3
   },
   "file_extension": ".py",
   "mimetype": "text/x-python",
   "name": "python",
   "nbconvert_exporter": "python",
   "pygments_lexer": "ipython3",
   "version": "3.8.3"
  }
 },
 "nbformat": 4,
 "nbformat_minor": 4
}
