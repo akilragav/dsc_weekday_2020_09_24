{
 "cells": [
  {
   "cell_type": "code",
   "execution_count": 1,
   "metadata": {},
   "outputs": [
    {
     "name": "stdout",
     "output_type": "stream",
     "text": [
      "Enter 1st String: a\n",
      "Enter 2nd String: b\n",
      "1st string is a and 2nd string b\n",
      "Afte Swap 1st string is b and 2nd string a\n"
     ]
    }
   ],
   "source": [
    "str1 = input(\"Enter 1st String: \")\n",
    "str2 = input(\"Enter 2nd String: \")\n",
    "\n",
    "print(f\"1st string is {str1} and 2nd string {str2}\")\n",
    "\n",
    "str3 = str1\n",
    "str1=str2\n",
    "str2=str3\n",
    "\n",
    "print(f\"Afte Swap 1st string is {str1} and 2nd string {str2}\")\n",
    "\n"
   ]
  },
  {
   "cell_type": "code",
   "execution_count": 3,
   "metadata": {},
   "outputs": [
    {
     "name": "stdout",
     "output_type": "stream",
     "text": [
      "c\n",
      "a\n",
      "b\n"
     ]
    }
   ],
   "source": [
    "#x,y,z=y,x,z=y,z,x\n",
    "\n",
    "list1 =[\"a\",\"b\",\"c\"]\n",
    "list2=[]\n",
    "index=0\n",
    "for i in range(0,len(list1)):\n",
    "    print(list1[i-1])\n",
    "    #list2.append(i[index-1])\n",
    "\n",
    "\n",
    "    \n",
    "    "
   ]
  },
  {
   "cell_type": "code",
   "execution_count": 22,
   "metadata": {},
   "outputs": [
    {
     "name": "stdout",
     "output_type": "stream",
     "text": [
      "18\n",
      "11\n",
      "5\n",
      "16\n",
      "Average of random number is total/4\n"
     ]
    }
   ],
   "source": [
    "import random\n",
    "\n",
    "def randrange():\n",
    "    i=0\n",
    "    total=0\n",
    "    randnum=0\n",
    "    \n",
    "    while i<=3:\n",
    "           randnum =random.randint(0,26)\n",
    "           total=total+randnum\n",
    "           print(randnum)\n",
    "           i+=1\n",
    "    return f\"Average of random number is total/4\"\n",
    "    \n",
    " \n",
    "print(randrange())"
   ]
  },
  {
   "cell_type": "code",
   "execution_count": 30,
   "metadata": {},
   "outputs": [
    {
     "name": "stdout",
     "output_type": "stream",
     "text": [
      "q\n"
     ]
    }
   ],
   "source": [
    "import random\n",
    "\n",
    "def randchar():\n",
    "    char = chr(random.randint(65,123))\n",
    "    return char\n",
    "    \n",
    "    \n",
    "print(randchar())\n",
    "    "
   ]
  },
  {
   "cell_type": "code",
   "execution_count": 3,
   "metadata": {},
   "outputs": [
    {
     "name": "stdout",
     "output_type": "stream",
     "text": [
      "['', 'A', 'B', 'C', 'D', 'E', 'F', 'G', 'H', 'I', 'J', 'K', 'L', 'M', 'N', 'O', 'P', 'Q', 'R', 'S', 'T', 'U', 'V', 'W', 'X', 'Y', 'Z', 'a', 'b', 'c', 'd', 'e', 'f', 'g', 'h', 'i', 'j', 'k', 'l', 'm', 'n', 'o', 'p', 'q', 'r', 's', 't', 'u', 'v', 'w', 'x', 'y', 'z']\n",
      "w\n"
     ]
    }
   ],
   "source": [
    "import random\n",
    "\n",
    "def randchar():\n",
    "    alpha=''\n",
    "    for i in range(65,123):\n",
    "        if chr(i).isalpha():\n",
    "             alpha =alpha +','+chr(i)\n",
    "       \n",
    "    \n",
    "    alpha1=alpha.split(\",\")\n",
    "    print(alpha1)\n",
    "    return alpha1[random.randint(0,len(alpha1)+1)]\n",
    "        \n",
    "    \n",
    "    \n",
    "print(randchar())\n",
    "    "
   ]
  },
  {
   "cell_type": "code",
   "execution_count": 1,
   "metadata": {},
   "outputs": [
    {
     "name": "stdout",
     "output_type": "stream",
     "text": [
      "1000.0\n"
     ]
    }
   ],
   "source": [
    "def  get_si(P,R,T):\n",
    "    return P*R*T/100\n",
    "\n",
    "print(get_si(10000,5,2))"
   ]
  },
  {
   "cell_type": "code",
   "execution_count": 5,
   "metadata": {},
   "outputs": [
    {
     "name": "stdout",
     "output_type": "stream",
     "text": [
      "Total Amount to be paid including tax is 110000.0\n"
     ]
    }
   ],
   "source": [
    "def get_amount(P,R=10,T=1):\n",
    "    total=get_si(P,R,T)\n",
    "    \n",
    "    return f\"Total Amount to be paid including tax is {P+total}\"\n",
    "\n",
    "print(get_amount(100000))\n",
    "    "
   ]
  },
  {
   "cell_type": "code",
   "execution_count": 11,
   "metadata": {},
   "outputs": [
    {
     "name": "stdout",
     "output_type": "stream",
     "text": [
      "110250000.0\n"
     ]
    }
   ],
   "source": [
    "def get_ci(P,R,T):\n",
    "    return pow(P*(1+R/100),T)\n",
    "    \n",
    "print(get_ci(10000,5,2))"
   ]
  },
  {
   "cell_type": "code",
   "execution_count": 13,
   "metadata": {},
   "outputs": [
    {
     "name": "stdout",
     "output_type": "stream",
     "text": [
      "(0.5, 10)\n"
     ]
    }
   ],
   "source": [
    "\n",
    "def get_q_r(num1,num2):\n",
    "    return (num1/num2,num1%num2)\n",
    "\n",
    "print(get_q_r(10,20))"
   ]
  },
  {
   "cell_type": "code",
   "execution_count": 1,
   "metadata": {},
   "outputs": [
    {
     "name": "stdout",
     "output_type": "stream",
     "text": [
      "33.54101966249684\n"
     ]
    }
   ],
   "source": [
    "import math\n",
    "def hypotenuse(height,base):\n",
    "    return math.sqrt((height*height)+(base*base))\n",
    "\n",
    "print(hypotenuse(30,15))"
   ]
  },
  {
   "cell_type": "code",
   "execution_count": 83,
   "metadata": {},
   "outputs": [
    {
     "name": "stdout",
     "output_type": "stream",
     "text": [
      "5 days ,18 hours,8333.333333333334,8333.333333333332 mins\n"
     ]
    }
   ],
   "source": [
    "def Secs_to_Days(second):\n",
    "       hours=((second/60)/60)\n",
    "       days = hours//24\n",
    "       remaining_hours= hours-(24*days) \n",
    "       mins = ((24*60*days)+ (remaining_hours*60))\n",
    "           \n",
    "       return f\"{int(days)} days ,{int(remaining_hours)} hours,{second/60},{mins} mins\"\n",
    "\n",
    "print(Secs_to_Days(500000))"
   ]
  },
  {
   "cell_type": "code",
   "execution_count": 42,
   "metadata": {},
   "outputs": [
    {
     "name": "stdout",
     "output_type": "stream",
     "text": [
      "5 days 18 hours 53 minutes 20 seconds\n"
     ]
    }
   ],
   "source": [
    "def ConvertSectoDay(n): \n",
    "  \n",
    "    day = n // (24 * 3600) \n",
    "  \n",
    "    n = n % (24 * 3600) \n",
    "    hour = n // 3600\n",
    "  \n",
    "    n %= 3600\n",
    "    minutes = n // 60\n",
    "  \n",
    "    n %= 60\n",
    "    seconds = n \n",
    "      \n",
    "    print(day,\"days\", hour, \"hours\",  \n",
    "          minutes, \"minutes\", \n",
    "          seconds, \"seconds\") \n",
    "\n",
    "ConvertSectoDay(500000)"
   ]
  },
  {
   "cell_type": "code",
   "execution_count": null,
   "metadata": {},
   "outputs": [],
   "source": []
  }
 ],
 "metadata": {
  "kernelspec": {
   "display_name": "Python 3",
   "language": "python",
   "name": "python3"
  },
  "language_info": {
   "codemirror_mode": {
    "name": "ipython",
    "version": 3
   },
   "file_extension": ".py",
   "mimetype": "text/x-python",
   "name": "python",
   "nbconvert_exporter": "python",
   "pygments_lexer": "ipython3",
   "version": "3.8.3"
  }
 },
 "nbformat": 4,
 "nbformat_minor": 4
}
