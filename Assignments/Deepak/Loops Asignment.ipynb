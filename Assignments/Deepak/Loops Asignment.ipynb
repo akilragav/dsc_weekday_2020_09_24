{
 "cells": [
  {
   "cell_type": "code",
   "execution_count": 12,
   "metadata": {},
   "outputs": [
    {
     "name": "stdout",
     "output_type": "stream",
     "text": [
      "Enter value of n: 3\n",
      "1\n",
      "2\n",
      "3\n",
      "sum of natural no is =  6\n"
     ]
    }
   ],
   "source": [
    "# WAP to find sum of first n natural numbers\n",
    "n=int(input(\"Enter value of n: \"))\n",
    "sum = 0\n",
    "for i in range(1,n+1):\n",
    "    print(i)\n",
    "    sum = sum + i\n",
    "    ,\n",
    "print(\"sum of natural no is = \", sum)"
   ]
  },
  {
   "cell_type": "code",
   "execution_count": 15,
   "metadata": {},
   "outputs": [
    {
     "name": "stdout",
     "output_type": "stream",
     "text": [
      "Enter value of n: 5\n",
      "5\n",
      "4\n",
      "3\n",
      "2\n",
      "1\n"
     ]
    }
   ],
   "source": [
    "# 3. WAP to print first n natural numbers in reverse order.\n",
    "n=int(input(\"Enter value of n: \"))\n",
    "sum = 0\n",
    "for i in range(n,0,-1):\n",
    "    print(i)"
   ]
  },
  {
   "cell_type": "code",
   "execution_count": 21,
   "metadata": {},
   "outputs": [
    {
     "name": "stdout",
     "output_type": "stream",
     "text": [
      "Enter value of n: 5\n",
      "120\n"
     ]
    }
   ],
   "source": [
    "#WAP to input a number and print its factorial. \n",
    "n=int(input(\"Enter value of n: \"))\n",
    "fact=1\n",
    "for i in range(n,1,-1):\n",
    "    fact*=i\n",
    "print(fact)"
   ]
  },
  {
   "cell_type": "code",
   "execution_count": 22,
   "metadata": {},
   "outputs": [
    {
     "name": "stdout",
     "output_type": "stream",
     "text": [
      "Enter value of n: 5\n",
      "0 1 1 2 3 5 8 13 "
     ]
    }
   ],
   "source": [
    "#WAP to print Fibonacci sequence till n. \n",
    "n=int(input(\"Enter value of n: \"))\n",
    "x=0\n",
    "y=1\n",
    "print(x,y,end =' ')\n",
    "for i in range(n+1):\n",
    "    z=x+y\n",
    "    print(z,end=' ')\n",
    "    x=y\n",
    "    y=z\n",
    "    "
   ]
  },
  {
   "cell_type": "code",
   "execution_count": 28,
   "metadata": {},
   "outputs": [
    {
     "name": "stdout",
     "output_type": "stream",
     "text": [
      "enter a number: 56\n",
      "11\n"
     ]
    }
   ],
   "source": [
    "n = int(input(\"enter a number: \"))\n",
    "sum = 0\n",
    "\n",
    "while n>0:\n",
    "    s = n % 10\n",
    "    n = n//10\n",
    "    sum = sum + s\n",
    "    \n",
    "print(sum)"
   ]
  },
  {
   "cell_type": "code",
   "execution_count": null,
   "metadata": {},
   "outputs": [],
   "source": [
    "def fact(x):\n",
    "    fact=1\n",
    "    for i in range(x,0,-1):\n",
    "        fact*=i\n",
    "    return(x)\n",
    "n=int(input(\"Enter value of n: \"))\n",
    "for i in range(1,n+1):\n",
    "    f=fact(i)\n",
    "    print(\"Fact of {} is {}\".format(i,f))\n",
    "    s=s+f\n",
    "print(\"Sum: \",s)"
   ]
  },
  {
   "cell_type": "code",
   "execution_count": null,
   "metadata": {},
   "outputs": [],
   "source": [
    "#9. WAP to input base and exponent and print result without using inbuilt function pow(use for or\n",
    "#while loop). \n",
    "b=int(input(\"Enter value of base: \"))\n",
    "res=1\n",
    "ex=int(input(\"Enter value of exponent: \"))\n",
    "for i in range(1,ex+1):\n",
    "    res*=b\n",
    "print(\"Result: \",res)"
   ]
  },
  {
   "cell_type": "code",
   "execution_count": 43,
   "metadata": {},
   "outputs": [
    {
     "name": "stdout",
     "output_type": "stream",
     "text": [
      "* \n",
      "* * \n",
      "* * * \n",
      "* * * * \n",
      "* * * * * \n"
     ]
    }
   ],
   "source": [
    "for i in range(0,5):\n",
    "    for j in range(0,i+1):\n",
    "        print(\"*\",end = \" \")\n",
    "    print()\n",
    "        "
   ]
  },
  {
   "cell_type": "code",
   "execution_count": 42,
   "metadata": {},
   "outputs": [
    {
     "name": "stdout",
     "output_type": "stream",
     "text": [
      "* * * * * \n",
      "* * * * \n",
      "* * * \n",
      "* * \n",
      "* \n",
      "\n"
     ]
    }
   ],
   "source": [
    "for i in range(6,0,-1):\n",
    "    for j in range(0,i-1):\n",
    "        print(\"*\",end = \" \")\n",
    "    print()"
   ]
  },
  {
   "cell_type": "code",
   "execution_count": 51,
   "metadata": {},
   "outputs": [
    {
     "name": "stdout",
     "output_type": "stream",
     "text": [
      "        * \n",
      "      * * \n",
      "    * * * \n",
      "  * * * * \n",
      "* * * * * \n"
     ]
    }
   ],
   "source": [
    "rows = 5\n",
    "k = (2 * rows) - 2\n",
    "for i in range(0, rows):\n",
    "    for j in range(0, k):\n",
    "        print(end=\" \")\n",
    "    k = k - 2\n",
    "    for j in range(0, i + 1):\n",
    "        print(\"* \", end=\"\")\n",
    "    print(\"\")"
   ]
  },
  {
   "cell_type": "code",
   "execution_count": 53,
   "metadata": {},
   "outputs": [
    {
     "name": "stdout",
     "output_type": "stream",
     "text": [
      "        * \n",
      "       * * \n",
      "      * * * \n",
      "     * * * * \n",
      "    * * * * * \n"
     ]
    }
   ],
   "source": [
    "rows = 5\n",
    "k = (2 * rows) - 2\n",
    "for i in range(0, rows):\n",
    "    for j in range(0, k):\n",
    "        print(end=\" \")\n",
    "    k = k - 1\n",
    "    for j in range(0, i + 1):\n",
    "        print(\"* \", end=\"\")\n",
    "    print(\"\")"
   ]
  }
 ],
 "metadata": {
  "kernelspec": {
   "display_name": "Python 3",
   "language": "python",
   "name": "python3"
  },
  "language_info": {
   "codemirror_mode": {
    "name": "ipython",
    "version": 3
   },
   "file_extension": ".py",
   "mimetype": "text/x-python",
   "name": "python",
   "nbconvert_exporter": "python",
   "pygments_lexer": "ipython3",
   "version": "3.8.3"
  }
 },
 "nbformat": 4,
 "nbformat_minor": 4
}
