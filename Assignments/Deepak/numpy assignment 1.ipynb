{
 "cells": [
  {
   "cell_type": "code",
   "execution_count": 3,
   "metadata": {},
   "outputs": [
    {
     "name": "stdout",
     "output_type": "stream",
     "text": [
      "[0 0 0 0 0] <class 'numpy.ndarray'> int8\n",
      "(5,)\n",
      "1\n"
     ]
    }
   ],
   "source": [
    "# create a numpy array of 5 zeros.\n",
    "# check datatype, itemsize and shape of above\n",
    "import numpy as np\n",
    "d = np.array( [0,0,0,0,0], dtype=np.int8 )\n",
    "print(d, type(d), d.dtype)\n",
    "print(d.shape)\n",
    "print(d.itemsize)"
   ]
  },
  {
   "cell_type": "code",
   "execution_count": 9,
   "metadata": {},
   "outputs": [
    {
     "name": "stdout",
     "output_type": "stream",
     "text": [
      "[20 21 22 23 24 25 26 27 28 29 30 31 32 33 34 35 36 37 38 39] 20\n",
      "[[20 21 22 23]\n",
      " [24 25 26 27]\n",
      " [28 29 30 31]\n",
      " [32 33 34 35]\n",
      " [36 37 38 39]]\n"
     ]
    }
   ],
   "source": [
    "# create a numpy array of ones of shape (5,4)\n",
    "x = np.arange(20,40)\n",
    "print(x ,  len(x))\n",
    "r = x.reshape(5,4)\n",
    "print(r)"
   ]
  },
  {
   "cell_type": "code",
   "execution_count": 21,
   "metadata": {},
   "outputs": [
    {
     "name": "stdout",
     "output_type": "stream",
     "text": [
      "[[ 1  2  3  4  5]\n",
      " [ 6  7  8  9 10]\n",
      " [11 12 13 14 15]\n",
      " [16 17 18 19 20]]\n",
      "\n",
      "[[ 100  200  300  400  500]\n",
      " [ 600  700  800  900 1000]\n",
      " [1100 1200 1300 1400 1500]\n",
      " [1600 1700 1800 1900 2000]]\n",
      "\n",
      "[[ True False  True False  True]\n",
      " [False  True False  True False]\n",
      " [ True False  True False  True]\n",
      " [False  True False  True False]]\n",
      "\n",
      "[ 1  3  5  7  9 11 13 15 17 19]\n",
      "\n",
      "[[  1  -2   3  -4   5]\n",
      " [ -6   7  -8   9 -10]\n",
      " [ 11 -12  13 -14  15]\n",
      " [-16  17 -18  19 -20]]\n"
     ]
    }
   ],
   "source": [
    "# create a matrix of shape 4,5 with numbers from 1-21\n",
    "# multiply all elements of above array by 10 .\n",
    "# print odd elements from array\n",
    "#  replace all even elements by their negative\n",
    "a = np.arange(1,21).reshape(4,5)\n",
    "print(a)\n",
    "print()\n",
    "print(a*100)\n",
    "print()\n",
    "idx = a%2 != 0\n",
    "print(idx)\n",
    "print()\n",
    "print(a[idx])\n",
    "print()\n",
    "idy = a%2 == 0\n",
    "a[idy]= a[idy]*(-1)\n",
    "print(a)"
   ]
  },
  {
   "cell_type": "code",
   "execution_count": 38,
   "metadata": {},
   "outputs": [
    {
     "name": "stdout",
     "output_type": "stream",
     "text": [
      "[[ 1  2  3  4]\n",
      " [ 5  6  7  8]\n",
      " [ 9 10 11 12]\n",
      " [13 14 15 16]]\n",
      "\n",
      "[[ 1  5  9 13]\n",
      " [ 2  6 10 14]\n",
      " [ 3  7 11 15]\n",
      " [ 4  8 12 16]]\n",
      "\n",
      "[[ 2  7 12 17]\n",
      " [ 7 12 17 22]\n",
      " [12 17 22 27]\n",
      " [17 22 27 32]]\n",
      "\n",
      "[[ 2  7 12 17]\n",
      " [ 7 12 17 22]\n",
      " [12 17 22 27]\n",
      " [17 22 27 32]]\n",
      "\n",
      "[[ True  True  True  True]\n",
      " [ True  True  True  True]\n",
      " [ True  True  True  True]\n",
      " [ True  True  True  True]]\n",
      "\n",
      "[[ 0 -3 -6 -9]\n",
      " [ 3  0 -3 -6]\n",
      " [ 6  3  0 -3]\n",
      " [ 9  6  3  0]]\n",
      "\n",
      "[[ 0  3  6  9]\n",
      " [-3  0  3  6]\n",
      " [-6 -3  0  3]\n",
      " [-9 -6 -3  0]]\n",
      "\n",
      "[[ True False False False]\n",
      " [False  True False False]\n",
      " [False False  True False]\n",
      " [False False False  True]]\n",
      "[[ True  True  True  True]\n",
      " [ True  True  True  True]\n",
      " [ True  True  True  True]\n",
      " [ True  True  True  True]]\n"
     ]
    }
   ],
   "source": [
    "# create a linearly spaced matrix M1 of size 4x4 having values in range 1-16\n",
    "# - create a transpose of above matrix call it M2\n",
    "# - find sum of above matrix M3 = (M1 + M2)\n",
    "# - Find Transpose of M3, Call it MT1. Check if M3 == MT1\n",
    "# - find diffrence of M4 = (M1 - M2)\n",
    "# -Find Transpose of M4, Call it MT2. Check if M4 == MT2. Also check if M4 == -MT2\n",
    "m1 = np.arange(1,17).reshape(4,4)\n",
    "print(m1)\n",
    "print()\n",
    "m2 = m1.T\n",
    "print(m2)\n",
    "print()\n",
    "m3 = m1+m2\n",
    "print(m3)\n",
    "print()\n",
    "mt1 = m3.T\n",
    "print(m3)\n",
    "print()\n",
    "print(mt1 == m3)\n",
    "print()\n",
    "m4 = m1 - m2\n",
    "print(m4)\n",
    "print()\n",
    "mt2 = m4.T\n",
    "print(mt2)\n",
    "print()\n",
    "print(mt2==m4)\n",
    "print(mt2== -m4)"
   ]
  },
  {
   "cell_type": "code",
   "execution_count": 55,
   "metadata": {},
   "outputs": [
    {
     "name": "stdout",
     "output_type": "stream",
     "text": [
      "[[16 38 38 20]\n",
      " [21 33 39 20]\n",
      " [17 22 39 25]]\n",
      "[16 20 17] [38 39 39]\n",
      "\n",
      "[20 20 25]\n"
     ]
    }
   ],
   "source": [
    "# - create a matrix (3x4) R1 of random numbers between 10-40\n",
    "# - find min and max column wise\n",
    "# - replace the last column with sum of all the columns\n",
    "r1= np.random.randint(10,40 , size=(3,4))\n",
    "print(r1)\n",
    "print(r1.min(axis = 1),r1.max(axis = 1))\n",
    "\n",
    "print()\n",
    "column = r1[: , 3]\n",
    "print(column)\n"
   ]
  },
  {
   "cell_type": "code",
   "execution_count": 34,
   "metadata": {},
   "outputs": [
    {
     "name": "stdout",
     "output_type": "stream",
     "text": [
      "[[15 31 34 14]\n",
      " [14 21 39 31]\n",
      " [35 31 15 20]]\n",
      "\n",
      "\n",
      "[[False False  True  True]\n",
      " [ True False False False]\n",
      " [False False False  True]]\n",
      "\n",
      "[['15' '31' 'nan' 'nan']\n",
      " ['nan' '21' '39' '31']\n",
      " ['35' '31' '15' 'nan']]\n",
      "\n"
     ]
    }
   ],
   "source": [
    "# create a matrix (3x4) R1 of random numbers between 10-40\n",
    "# replace all even elements with nan in R1\n",
    "# count number of nan in R1\n",
    "import numpy as np\n",
    "r1  = np.random.randint(10,40, size=(3,4))\n",
    "print(r1)\n",
    "print()\n",
    "r2 = r1 % 2 == 0\n",
    "print()\n",
    "print(r2)\n",
    "\n",
    "\n",
    "\n",
    "w = np.where(r2, 'nan' , r1)\n",
    "print()\n",
    "print(w)\n",
    "print()\n"
   ]
  },
  {
   "cell_type": "code",
   "execution_count": 39,
   "metadata": {},
   "outputs": [
    {
     "name": "stdout",
     "output_type": "stream",
     "text": [
      "\n",
      "[ 1  2  3  4  5  6  7  8  9 11 12 13 14 15 16 17 18 19]\n",
      "\n",
      "[[ 1  2  3]\n",
      " [ 4  5  6]\n",
      " [ 7  8  9]\n",
      " [11 12 13]\n",
      " [14 15 16]\n",
      " [17 18 19]]\n",
      "\n",
      "[[ 1  2  3 11 12 13]\n",
      " [ 4  5  6 14 15 16]\n",
      " [ 7  8  9 17 18 19]]\n"
     ]
    }
   ],
   "source": [
    "# check output of this code\n",
    "a1 = np.arange(1,10).reshape(3,3)\n",
    "a2 = np.arange(11,20).reshape(3,3)\n",
    "print()\n",
    "a3 = np.append(a1,a2)\n",
    "print(a3)\n",
    "print()\n",
    "a3 = np.append(a1,a2, axis = 0)\n",
    "print(a3)\n",
    "print()\n",
    "a3 = np.append(a1,a2, axis = 1)\n",
    "print(a3)"
   ]
  },
  {
   "cell_type": "code",
   "execution_count": null,
   "metadata": {},
   "outputs": [],
   "source": []
  }
 ],
 "metadata": {
  "kernelspec": {
   "display_name": "Python 3",
   "language": "python",
   "name": "python3"
  },
  "language_info": {
   "codemirror_mode": {
    "name": "ipython",
    "version": 3
   },
   "file_extension": ".py",
   "mimetype": "text/x-python",
   "name": "python",
   "nbconvert_exporter": "python",
   "pygments_lexer": "ipython3",
   "version": "3.8.3"
  }
 },
 "nbformat": 4,
 "nbformat_minor": 4
}
