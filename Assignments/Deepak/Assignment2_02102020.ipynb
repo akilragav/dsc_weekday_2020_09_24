{
 "cells": [
  {
   "cell_type": "code",
   "execution_count": 2,
   "metadata": {},
   "outputs": [
    {
     "name": "stdout",
     "output_type": "stream",
     "text": [
      "enter a number:123\n",
      "6\n"
     ]
    }
   ],
   "source": [
    "# WAP to input a no. and find sum of all its digits\n",
    "n  = int(input(\"enter a number:\"))\n",
    "sum = 0\n",
    "while n>0:\n",
    "    sum = sum + int(n%10)\n",
    "    n = int(n/10)\n",
    "    \n",
    "print(sum)"
   ]
  },
  {
   "cell_type": "code",
   "execution_count": 14,
   "metadata": {},
   "outputs": [
    {
     "name": "stdout",
     "output_type": "stream",
     "text": [
      "Enter a string: deepak\n",
      "100 101 101 112 97 107 "
     ]
    }
   ],
   "source": [
    "#WAP to input a string and print oridnal value of each character\n",
    "\n",
    "str1 = str(input(\"Enter a string: \"))\n",
    "i = 0\n",
    "while   i < len(str1):\n",
    "    print(ord(str1[i]), end =\" \")\n",
    "    i += 1"
   ]
  },
  {
   "cell_type": "code",
   "execution_count": 16,
   "metadata": {},
   "outputs": [
    {
     "name": "stdout",
     "output_type": "stream",
     "text": [
      "Enter a string: deepak\n",
      "100 101 101 112 97 107 "
     ]
    }
   ],
   "source": [
    "#WAP to input a string and print oridnal value of each character\n",
    "str2 = str(input(\"Enter a string: \"))\n",
    "for i in range(len(str2)):\n",
    "    print(ord(str2[i]), end = \" \")"
   ]
  },
  {
   "cell_type": "code",
   "execution_count": null,
   "metadata": {},
   "outputs": [],
   "source": []
  }
 ],
 "metadata": {
  "kernelspec": {
   "display_name": "Python 3",
   "language": "python",
   "name": "python3"
  },
  "language_info": {
   "codemirror_mode": {
    "name": "ipython",
    "version": 3
   },
   "file_extension": ".py",
   "mimetype": "text/x-python",
   "name": "python",
   "nbconvert_exporter": "python",
   "pygments_lexer": "ipython3",
   "version": "3.8.3"
  }
 },
 "nbformat": 4,
 "nbformat_minor": 4
}
