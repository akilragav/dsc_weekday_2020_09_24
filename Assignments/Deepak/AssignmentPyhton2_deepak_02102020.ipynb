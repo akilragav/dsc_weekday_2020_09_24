{
 "cells": [
  {
   "cell_type": "code",
   "execution_count": 3,
   "metadata": {
    "scrolled": true
   },
   "outputs": [
    {
     "ename": "SyntaxError",
     "evalue": "invalid syntax (<ipython-input-3-9ca14fd03ab0>, line 3)",
     "output_type": "error",
     "traceback": [
      "\u001b[1;36m  File \u001b[1;32m\"<ipython-input-3-9ca14fd03ab0>\"\u001b[1;36m, line \u001b[1;32m3\u001b[0m\n\u001b[1;33m    1. s[-1] = d\u001b[0m\n\u001b[1;37m       ^\u001b[0m\n\u001b[1;31mSyntaxError\u001b[0m\u001b[1;31m:\u001b[0m invalid syntax\n"
     ]
    }
   ],
   "source": [
    "# # # Guess output of each slice:\n",
    "# # s=\"Python is Object Oriented\"\n",
    "# # 1. s[-1] = d\n",
    "# # 2. s[::-1]= 'detneirO tcejbO si nohtyP'\n",
    "# # 3. s[:-1] = 'Python is Object Oriente'\n",
    "# # 4. s[1:1] = ''\n",
    "# # 5. s[4:10] = 'on is '\n",
    "\n",
    "\n",
    "# # 2. What error do you see for following statements:\n",
    "# # s= ‘’\n",
    "# # print(s[1])\n",
    "# #  ans = invalid character in identifier\n",
    "    \n",
    "# # 3. Do you get any error for the following code, if not give the output:\n",
    "# # S=‘Gaurav’\n",
    "# # print(s[1])\n",
    "# #  ans - invalid character in identifier\n",
    "# # 4. Find output of the following:\n",
    "# # a) s=‘a b cd’\n",
    "# # print(len(s)) = 6\n",
    "# # print(s[::2]) = abc\n",
    "# # print(len(s[::2])) -= 3\n",
    "\n",
    "# # b) s=‘a#b#c#d#’\n",
    "# # print(s.split()) = ['a#b#c#d#']\n",
    "# # print(s.split(‘#’)) = ['a', 'b', 'c', 'd', '']\n",
    "# # l=s.split(‘#’)\n",
    "# # s=‘$’.join(l)\n",
    "# # print(s)\n",
    "# # ans - a$b$c$d$\n",
    "# # c) S=‘Gaurav’\n",
    "# # S=S[::-2][::-2]\n",
    "# # print(S\n",
    "# # ans = av\n",
    "# # d) print(1>2) = false\n",
    "\n",
    "# # e) print(4%2, 5%2, 2%5, sep=‘, ’)\n",
    "      \n",
    "# # ans  = 0,1,2 \n",
    "      \n",
    "# # f) s=‘abcba’\n",
    "# # s.upper() = 'ABcba'\n",
    "# # print(s) = 'abcba'\n",
    "# # print(s.count(‘A’), end = ‘ ,’) = 0,\n",
    "# # print(s.count(‘A’, 2,4) , end = ‘ ,’) = 0,\n",
    "# # print(s.count(‘a’, 2,4) , end = ‘ ,’) = 0,\n",
    "\n",
    "# 5. WAP to input a string and remove all spaces from it.\n",
    "# name  = str(input(\"enter a sentence: \"))\n",
    "# print(name.replace(\" \", \"\"))\n",
    "\n",
    "# 7.WAP to print all methods(functions/operations) available in a string (Hint : dir())\n",
    "\n",
    "# dir(\"str\")\n",
    "\n",
    "# 8. Write statement to check if rstrip method is available in the str class.\n",
    "# (Hint : Use the find function or in)\n",
    "\n",
    "# x = dir(\"str\")\n",
    "# y = \"rstrip\"\n",
    "# if y in x:\n",
    "#     print('rstrip is available in str class')\n",
    "# else:\n",
    "#     print(\"rstrip not\")\n",
    "\n",
    "# 12. WAP to input a string and split it into 2 halves. The string can be of any length\n",
    "    \n",
    "# x  = input(\"enter a string: \")\n",
    "# # # # # printing original string  \n",
    "# print(\"The original string is : \" + x) \n",
    "# first_str = x[:len(x)//2]\n",
    "# second_str = x[len(test_str)//2:]\n",
    "# print(\"first_str is \" ,first_str)\n",
    "# print(\"second_str is \" ,second_str)\n"
   ]
  },
  {
   "cell_type": "code",
   "execution_count": 12,
   "metadata": {},
   "outputs": [
    {
     "name": "stdout",
     "output_type": "stream",
     "text": [
      "0 , 1 , 2\n"
     ]
    }
   ],
   "source": []
  }
 ],
 "metadata": {
  "kernelspec": {
   "display_name": "Python 3",
   "language": "python",
   "name": "python3"
  },
  "language_info": {
   "codemirror_mode": {
    "name": "ipython",
    "version": 3
   },
   "file_extension": ".py",
   "mimetype": "text/x-python",
   "name": "python",
   "nbconvert_exporter": "python",
   "pygments_lexer": "ipython3",
   "version": "3.8.3"
  }
 },
 "nbformat": 4,
 "nbformat_minor": 4
}
