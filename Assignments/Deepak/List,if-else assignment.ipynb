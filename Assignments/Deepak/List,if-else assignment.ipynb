{
 "cells": [
  {
   "cell_type": "code",
   "execution_count": 1,
   "metadata": {},
   "outputs": [
    {
     "name": "stdout",
     "output_type": "stream",
     "text": [
      "(4, 6, 2, 8, 3, 1, 30)\n"
     ]
    }
   ],
   "source": [
    "# 4. WAP to input a list of numbers and store in a tuple. Now input another number and print the\n",
    "# index of this number in the tuple. [Use index function]\n",
    "x = (4, 6, 2, 8, 3, 1)\n",
    "y = list(x) \n",
    "#use different ways to add items in list\n",
    "y.append(30)\n",
    "x = tuple(y)\n",
    "print(x)"
   ]
  },
  {
   "cell_type": "code",
   "execution_count": 3,
   "metadata": {},
   "outputs": [
    {
     "name": "stdout",
     "output_type": "stream",
     "text": [
      "enter a string: deepak\n",
      "d\n",
      "e\n",
      "e\n",
      "p\n",
      "a\n",
      "k\n"
     ]
    }
   ],
   "source": [
    "1. WAP to input a string and print individual characters in the string using for loop.\n",
    "str1 = input(\"enter a string: \")\n",
    "for i in range(len(str1)):\n",
    "    print(str1[i])\n",
    "    i +=1"
   ]
  },
  {
   "cell_type": "code",
   "execution_count": 2,
   "metadata": {},
   "outputs": [
    {
     "name": "stdout",
     "output_type": "stream",
     "text": [
      "enter a string: deepak\n",
      "100\n",
      "101\n",
      "101\n",
      "112\n",
      "97\n",
      "107\n"
     ]
    }
   ],
   "source": [
    "# 2. WAP to input a string and print the ASCII value of each character in the string.\n",
    "str1 = input(\"enter a string: \")\n",
    "for i in range(len(str1)):\n",
    "    print(ord(str1[i]))\n",
    "    i +=1"
   ]
  },
  {
   "cell_type": "code",
   "execution_count": 3,
   "metadata": {},
   "outputs": [
    {
     "name": "stdout",
     "output_type": "stream",
     "text": [
      "81\n"
     ]
    }
   ],
   "source": [
    "# 3. Write a function that takes a list of numbers from user as argument and returns the sum of only\n",
    "# odd numbers (Use only for loop. No need to use if statement).\n",
    "def sum1(seq):\n",
    "    sum = 0\n",
    "    for i in range(len(seq)):\n",
    "        if seq[i] %2 == 1:\n",
    "            sum = sum + seq[i]\n",
    "    return sum\n",
    "\n",
    "s = sum1([3,6,7,11,10,20,25,35,40])\n",
    "print(s)"
   ]
  },
  {
   "cell_type": "code",
   "execution_count": null,
   "metadata": {},
   "outputs": [],
   "source": [
    "# 7. WAP to input a number and print its table. Ex: if user enters the number as 7, output should be\n",
    "n = int(input(\"Input a number: \"))\n",
    "\n",
    "# use for loop to iterate 10 times\n",
    "for i in range(1,11):\n",
    "   print(n,'x',i,'=',n*i)"
   ]
  },
  {
   "cell_type": "code",
   "execution_count": null,
   "metadata": {},
   "outputs": [],
   "source": [
    "# 8. WAP to print total number of spaces in a string (Use for loop to iterate over the string. Don’t use\n",
    "# count function\n",
    "str2 = input(\"enter a string: \")\n",
    "counter = 0\n",
    "for i in str2:\n",
    "    if i == ' ':\n",
    "        counter = counter+1\n",
    "        \n",
    "print(\"the no of blank space present in string is :\" , counter)"
   ]
  },
  {
   "cell_type": "code",
   "execution_count": null,
   "metadata": {},
   "outputs": [],
   "source": [
    "for num in range(10):\n",
    "    print(\"Num: \", num)\n",
    "    if num % 4 == 0:\n",
    "        break\n",
    "print(\"Loop Ends\")"
   ]
  }
 ],
 "metadata": {
  "kernelspec": {
   "display_name": "Python 3",
   "language": "python",
   "name": "python3"
  },
  "language_info": {
   "codemirror_mode": {
    "name": "ipython",
    "version": 3
   },
   "file_extension": ".py",
   "mimetype": "text/x-python",
   "name": "python",
   "nbconvert_exporter": "python",
   "pygments_lexer": "ipython3",
   "version": "3.8.3"
  }
 },
 "nbformat": 4,
 "nbformat_minor": 4
}
