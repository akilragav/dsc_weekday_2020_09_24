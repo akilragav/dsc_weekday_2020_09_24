{
 "cells": [
  {
   "cell_type": "code",
   "execution_count": 27,
   "metadata": {},
   "outputs": [
    {
     "name": "stdout",
     "output_type": "stream",
     "text": [
      "enter age :25\n",
      "25 years old is adult\n"
     ]
    }
   ],
   "source": [
    "# # # 1. WAP to input 2 numbers and check whether the first is divisible by the second and print true or\n",
    "# # # false depending on the divisibility.\n",
    "# # num1 = int(input(\"enter first number: \" ))\n",
    "# # num2 = int(input(\"enter second number: \"))\n",
    "# # if num1 % num2 == 0:\n",
    "# #      print(\"true\")\n",
    "# # else:\n",
    "# #     print(\"false\")\n",
    "    \n",
    "# # # 2. In the palindrome example, make the code case insensitive.\n",
    "# # # i.e. Naman should also be treated as a palindrome (HINT: first convert to either upper or\n",
    "# # # lower case).\n",
    "# # ans\n",
    "# # str1 = str(input(\"enter a string: \"))\n",
    "# # str2 = str1.upper()\n",
    "# # str3 = str2[::-1]\n",
    "# # if str2 == str3:\n",
    "# #     print(str1,\"is palindrome\")\n",
    "# # else:\n",
    "# #     print(str1,\"is not a palindrome\")\n",
    "\n",
    "# # 4. WAP to input a number and print if it is even or odd.\n",
    "# # num1 = int(input(\"enter first number: \" ))\n",
    "# # if num1%2 ==0 :\n",
    "# #      print(\"even\")\n",
    "# # else:\n",
    "# #      print(\"odd\")\n",
    "    \n",
    "# # # 5. WAP to input age and print the respective text\n",
    "# # depending on the age ranges as present in the table.\n",
    "# # Age..\n",
    "\n",
    "# age = int(input(\"enter age :\"))\n",
    "# if age>= 0 and age<=12:\n",
    "#     print(age,\"years old is child\")\n",
    "# elif age>= 13 and age<=17:\n",
    "#      print(age,\"years old is Teen\")\n",
    "# elif age>= 18 and age<=50:\n",
    "#      print(age,\"years old is adult\")\n",
    "# elif age>= 51 and age<=100:\n",
    "#      print(age,\"years old is senior citizen\")\n",
    "# elif age>100:\n",
    "#      print(age,\"years old is contratulations\")\n",
    "# else:\n",
    "#     print(age,\"is not a valid age\")\n",
    "\n",
    "    \n",
    "\n",
    "\n"
   ]
  },
  {
   "cell_type": "code",
   "execution_count": 10,
   "metadata": {},
   "outputs": [
    {
     "data": {
      "text/plain": [
       "'DEEPAK'"
      ]
     },
     "execution_count": 10,
     "metadata": {},
     "output_type": "execute_result"
    }
   ],
   "source": [
    "d = \"deepak\"\n",
    "d.upper()"
   ]
  },
  {
   "cell_type": "code",
   "execution_count": 17,
   "metadata": {},
   "outputs": [
    {
     "name": "stdout",
     "output_type": "stream",
     "text": [
      "enter first number: 4\n",
      "enter second number: 2\n",
      "true\n"
     ]
    }
   ],
   "source": [
    "num1 = int(input(\"enter first number: \" ))\n",
    "num2 = int(input(\"enter second number: \"))\n",
    "if num1 % num2 == 0:\n",
    "     print(\"true\")\n",
    "else:\n",
    "    print(\"false\")\n",
    "    "
   ]
  }
 ],
 "metadata": {
  "kernelspec": {
   "display_name": "Python 3",
   "language": "python",
   "name": "python3"
  },
  "language_info": {
   "codemirror_mode": {
    "name": "ipython",
    "version": 3
   },
   "file_extension": ".py",
   "mimetype": "text/x-python",
   "name": "python",
   "nbconvert_exporter": "python",
   "pygments_lexer": "ipython3",
   "version": "3.8.3"
  }
 },
 "nbformat": 4,
 "nbformat_minor": 4
}
