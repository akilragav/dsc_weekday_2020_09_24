{
 "cells": [
  {
   "cell_type": "markdown",
   "metadata": {},
   "source": [
    "s1='Gaurav'\n",
    "s2='tuteur.py@gmail.com'\n",
    "\n",
    "#print(len(s1),len(s2))"
   ]
  },
  {
   "cell_type": "code",
   "execution_count": 2,
   "metadata": {},
   "outputs": [
    {
     "name": "stdout",
     "output_type": "stream",
     "text": [
      "6 19\n"
     ]
    }
   ],
   "source": [
    "s1='Gaurav'\n",
    "s2='tuteur.py@gmail.com'\n",
    "\n",
    "print(len(s1),len(s2))"
   ]
  },
  {
   "cell_type": "code",
   "execution_count": 7,
   "metadata": {},
   "outputs": [
    {
     "name": "stdout",
     "output_type": "stream",
     "text": [
      "Enter nametest\n",
      "Length of entered string is 4\n"
     ]
    }
   ],
   "source": [
    "s1=input(\"Enter name\")\n",
    "print(\"Length of entered string is\",len(s1))"
   ]
  },
  {
   "cell_type": "code",
   "execution_count": 13,
   "metadata": {},
   "outputs": [
    {
     "name": "stdout",
     "output_type": "stream",
     "text": [
      "Enter first number20\n",
      "Enter second number5\n",
      "Sum of given numbers is: 25\n",
      "Difference is 15\n"
     ]
    }
   ],
   "source": [
    "s1=input(\"Enter first number\")\n",
    "s2=input(\"Enter second number\")\n",
    "sum1=int(s1)+int(s2)\n",
    "dif=int(s1)-int(s2)\n",
    "print(\"Sum of given numbers is:\",sum1)\n",
    "print(\"Difference is\",dif)"
   ]
  },
  {
   "cell_type": "code",
   "execution_count": 14,
   "metadata": {},
   "outputs": [
    {
     "name": "stdout",
     "output_type": "stream",
     "text": [
      "abde\n"
     ]
    }
   ],
   "source": [
    "s1='ab'\n",
    "s2='de'\n",
    "s3=s1+s2\n",
    "print(s3)"
   ]
  },
  {
   "cell_type": "code",
   "execution_count": 16,
   "metadata": {},
   "outputs": [
    {
     "name": "stdout",
     "output_type": "stream",
     "text": [
      "abababab\n"
     ]
    }
   ],
   "source": [
    "s1='ab'*4\n",
    "print(s1)"
   ]
  },
  {
   "cell_type": "code",
   "execution_count": 17,
   "metadata": {},
   "outputs": [
    {
     "name": "stdout",
     "output_type": "stream",
     "text": [
      "ab\n",
      "ab\n",
      "ab\n",
      "ab\n",
      "\n"
     ]
    }
   ],
   "source": [
    "s1='ab\\n'*4\n",
    "print(s1)"
   ]
  },
  {
   "cell_type": "markdown",
   "metadata": {},
   "source": [
    "#"
   ]
  },
  {
   "cell_type": "code",
   "execution_count": 21,
   "metadata": {},
   "outputs": [
    {
     "name": "stdout",
     "output_type": "stream",
     "text": [
      "enter namedeepa\n",
      "how many times to print5\n",
      "deepa\n",
      "deepa\n",
      "deepa\n",
      "deepa\n",
      "deepa\n",
      "\n"
     ]
    }
   ],
   "source": [
    "s1=input(\"enter name\")\n",
    "s2=input(\"how many times to print\")\n",
    "s1=s1+'\\n'\n",
    "print(s1*int(s2))"
   ]
  },
  {
   "cell_type": "raw",
   "metadata": {},
   "source": []
  },
  {
   "cell_type": "code",
   "execution_count": 22,
   "metadata": {},
   "outputs": [
    {
     "name": "stdout",
     "output_type": "stream",
     "text": [
      "Gaurav\n",
      "None\n"
     ]
    }
   ],
   "source": [
    "res=print(\"Gaurav\")\n",
    "print(res)"
   ]
  },
  {
   "cell_type": "code",
   "execution_count": 23,
   "metadata": {},
   "outputs": [
    {
     "name": "stdout",
     "output_type": "stream",
     "text": [
      "<class 'int'>\n"
     ]
    }
   ],
   "source": [
    "res=len('tuter.py@gmail.com')\n",
    "print(type(res))"
   ]
  },
  {
   "cell_type": "code",
   "execution_count": 24,
   "metadata": {},
   "outputs": [
    {
     "name": "stdout",
     "output_type": "stream",
     "text": [
      "<class 'str'>\n",
      "26\n"
     ]
    }
   ],
   "source": [
    "s1='Gaurav'\n",
    "s2='tuteur.py@gmail.com'\n",
    "s3=s1+'\\n'+s2\n",
    "print(type(s3))\n",
    "print(len(s3))"
   ]
  },
  {
   "cell_type": "code",
   "execution_count": 26,
   "metadata": {},
   "outputs": [
    {
     "name": "stdout",
     "output_type": "stream",
     "text": [
      "enter number9\n",
      "sqroot is  3.0\n"
     ]
    }
   ],
   "source": [
    "import math\n",
    "\n",
    "s1=input(\"enter number\")\n",
    "print(\"sqroot is \",math.sqrt(int(s1)))"
   ]
  },
  {
   "cell_type": "code",
   "execution_count": 2,
   "metadata": {},
   "outputs": [
    {
     "name": "stdout",
     "output_type": "stream",
     "text": [
      "enter number5\n",
      "enter number5\n",
      "enter number5\n",
      "enter number5\n",
      "5.0\n"
     ]
    }
   ],
   "source": [
    "s1=input(\"enter number\")\n",
    "s2=input(\"enter number\")\n",
    "s3=input(\"enter number\")\n",
    "s4=input(\"enter number\")\n",
    "avg=int(s1)+int(s2)+int(s3)+int(s4)\n",
    "print(avg/4)"
   ]
  },
  {
   "cell_type": "code",
   "execution_count": 4,
   "metadata": {},
   "outputs": [
    {
     "name": "stdout",
     "output_type": "stream",
     "text": [
      "__main__\n",
      "builtins\n",
      "int\n"
     ]
    }
   ],
   "source": [
    "print(__name__)\n",
    "print(__builtins__.__name__)\n",
    "print(int.__name__)"
   ]
  }
 ],
 "metadata": {
  "kernelspec": {
   "display_name": "Python 3",
   "language": "python",
   "name": "python3"
  },
  "language_info": {
   "codemirror_mode": {
    "name": "ipython",
    "version": 3
   },
   "file_extension": ".py",
   "mimetype": "text/x-python",
   "name": "python",
   "nbconvert_exporter": "python",
   "pygments_lexer": "ipython3",
   "version": "3.8.3"
  }
 },
 "nbformat": 4,
 "nbformat_minor": 4
}
