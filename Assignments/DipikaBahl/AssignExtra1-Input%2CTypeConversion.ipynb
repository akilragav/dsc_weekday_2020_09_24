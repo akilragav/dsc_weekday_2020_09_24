{
 "cells": [
  {
   "cell_type": "code",
   "execution_count": 8,
   "metadata": {},
   "outputs": [
    {
     "name": "stdout",
     "output_type": "stream",
     "text": [
      "Enter temperature in farenheit100\n",
      "temperature in celcius is  37.77777777777778\n"
     ]
    }
   ],
   "source": [
    "#input temperature in farenheit and print in celcius\n",
    "\n",
    "s1=input(\"Enter temperature in farenheit\").strip()\n",
    "\n",
    "celtemp=(int(s1)-32)*5/9\n",
    "print(\"temperature in celcius is \",celtemp)"
   ]
  },
  {
   "cell_type": "code",
   "execution_count": 10,
   "metadata": {},
   "outputs": [
    {
     "name": "stdout",
     "output_type": "stream",
     "text": [
      "Enter number2\n",
      "square is 4 cube is 8\n"
     ]
    }
   ],
   "source": [
    "# Write a program to input a number and print its square and cube. \n",
    "s1=input(\"Enter number\").strip()\n",
    "sq=pow(int(s1),2)\n",
    "cu=pow(int(s1),3)\n",
    "print(f\"square is {sq} cube is {cu}\")"
   ]
  },
  {
   "cell_type": "code",
   "execution_count": 19,
   "metadata": {},
   "outputs": [
    {
     "name": "stdout",
     "output_type": "stream",
     "text": [
      "enter first numbera\n",
      "enter second number4\n",
      "not a number\n"
     ]
    }
   ],
   "source": [
    "\"\"\" WAP to input a number n and a number m and print the result of following \n",
    "n square+m square\n",
    "\"\"\"\n",
    "\n",
    "s1=input(\"enter first number\").strip()\n",
    "s2=input(\"enter second number\").strip()\n",
    "if s1.isdigit() and s2.isdigit():\n",
    "    add=pow(int(s1),2)+pow(int(s2),2)\n",
    "    print(\"answer is \",add)\n",
    "else:\n",
    "    print(\"not a number\")"
   ]
  },
  {
   "cell_type": "code",
   "execution_count": 22,
   "metadata": {},
   "outputs": [
    {
     "name": "stdout",
     "output_type": "stream",
     "text": [
      "enter first number5\n",
      "enter second number6\n",
      "answer using pow is 15625 using ** is 15625\n"
     ]
    }
   ],
   "source": [
    "# 4. WAP to input a numbers M and N and print result of M raise to n\n",
    "s1=input(\"enter first number\").strip()\n",
    "s2=input(\"enter second number\").strip()\n",
    "if s1.isdigit() and s2.isdigit():\n",
    "    add=pow(int(s1),int(s2))\n",
    "    add1=int(s1)**int(s2)\n",
    "    print(\"answer using pow is\",add,\"using ** is\",add1)\n",
    "else:\n",
    "    print(\"not a number\")\n",
    "\n"
   ]
  },
  {
   "cell_type": "code",
   "execution_count": 38,
   "metadata": {},
   "outputs": [
    {
     "name": "stdout",
     "output_type": "stream",
     "text": [
      "Enter principal amount500\n",
      "rate of intrest5\n",
      "Enter time 10\n",
      "annual intrest is  250.0\n"
     ]
    }
   ],
   "source": [
    "#5. Write a simple interest calculator. \n",
    "#(p*r*t)/100\n",
    "\n",
    "p=input(\"Enter principal amount\").strip()\n",
    "r=input(\"rate of intrest\").strip()\n",
    "t=input(\"Enter time \").strip()\n",
    "annualintrest=(int(p)*int(r)*int(t))/100\n",
    "print(\"annual intrest is \",annualintrest)"
   ]
  },
  {
   "cell_type": "code",
   "execution_count": 51,
   "metadata": {},
   "outputs": [
    {
     "name": "stdout",
     "output_type": "stream",
     "text": [
      "Enter principal amount1200\n",
      "rate of intrest5.4\n",
      "Enter time 2\n",
      "compound intrest is: 1333.0992\n",
      "amount is : 2533.0992\n"
     ]
    }
   ],
   "source": [
    "#6. Input Principal, Rate, Time and print Compound Interest and Amount. \n",
    "p=input(\"Enter principal amount\").strip()\n",
    "r=input(\"rate of intrest\").strip()\n",
    "t=input(\"Enter time \").strip()\n",
    "ci =  float(p) * (pow((1 + float(r) / 100), float(t)))\n",
    "print(\"compound intrest is:\",ci)\n",
    "amount=ci+float(p)\n",
    "print(\"amount is :\",amount)"
   ]
  },
  {
   "cell_type": "code",
   "execution_count": 31,
   "metadata": {},
   "outputs": [
    {
     "name": "stdout",
     "output_type": "stream",
     "text": [
      "enter number4\n",
      "sum of first n numbers is: 10\n"
     ]
    }
   ],
   "source": [
    "#7. WAP to print sum of first n natural numbers. (n needs to be taken as input). \n",
    "\n",
    "s1=input(\"enter number\").strip()\n",
    "sum1=0\n",
    "for x in range(1, int(s1)+1):\n",
    "    sum1=sum1+x\n",
    "print(\"sum of first n numbers is:\",sum1)\n"
   ]
  },
  {
   "cell_type": "code",
   "execution_count": 33,
   "metadata": {},
   "outputs": [
    {
     "name": "stdout",
     "output_type": "stream",
     "text": [
      "enter first number5\n",
      "enter second number10\n",
      "swapped nos are no1 10 no2 5\n",
      "swapped nos are no1 5 no2 10\n"
     ]
    }
   ],
   "source": [
    "#WAP to input 2 numbers and swap them. (write using both normal logic with temp variable and\n",
    "#also the pythonic way). \n",
    "\n",
    "s1=input(\"enter first number\").strip()\n",
    "s2=input(\"enter second number\").strip()\n",
    "temp=int(s2)\n",
    "secno=int(s1)\n",
    "firstno=temp#\n",
    "print(\"swapped nos are no1\",firstno,\"no2\",secno)\n",
    "\n",
    "firstno,secno=secno,firstno\n",
    "print(\"swapped nos are no1\",firstno,\"no2\",secno)"
   ]
  },
  {
   "cell_type": "code",
   "execution_count": 44,
   "metadata": {},
   "outputs": [
    {
     "name": "stdout",
     "output_type": "stream",
     "text": [
      "Ascii values of white space char are :blank space: 32 \n",
      " tab: 9  \n",
      " newline: 10 \n",
      " carriage ret 13\n"
     ]
    }
   ],
   "source": [
    "#9. WAP to print ascii value of all white-space characters present in python. \n",
    "print(\"Ascii values of white space char are :blank space:\",ord(\" \"),\"\\n tab:\",ord(\"\\t\"),\" \\n newline:\",ord(\"\\n\"),\"\\n carriage ret\",ord(\"\\r\"))"
   ]
  },
  {
   "cell_type": "code",
   "execution_count": 34,
   "metadata": {},
   "outputs": [
    {
     "name": "stdout",
     "output_type": "stream",
     "text": [
      "enter charactera\n",
      "ascii of entered char is: 97\n"
     ]
    }
   ],
   "source": [
    "#10. Input a single character and print its ascii values. \n",
    "\n",
    "s1=input(\"enter character\").strip()\n",
    "print(\"ascii of entered char is:\",ord(s1))"
   ]
  },
  {
   "cell_type": "code",
   "execution_count": 37,
   "metadata": {},
   "outputs": [
    {
     "name": "stdout",
     "output_type": "stream",
     "text": [
      "area of the circle9\n",
      "radius is  1.6925694654695531\n"
     ]
    }
   ],
   "source": [
    "#11. WAP that takes area of a circle and gives back the radius and circumference. \n",
    "#area=pi*r*r\n",
    "#r=sqrt(area/3.14159)\n",
    "import math\n",
    "\n",
    "s1=input(\"area of the circle\").strip()\n",
    "r=math.sqrt(int(s1)/3.14159)\n",
    "print(\"radius is \",r)"
   ]
  },
  {
   "cell_type": "code",
   "execution_count": 40,
   "metadata": {},
   "outputs": [
    {
     "name": "stdout",
     "output_type": "stream",
     "text": [
      "enter marks of subject 150\n",
      "enter marks of subject 250\n",
      "enter marks of subject 350\n",
      "enter marks of subject 450\n",
      "enter marks of subject 550\n",
      "percentage is : 50.0\n"
     ]
    }
   ],
   "source": [
    "#12. We need to input marks in 5 subjects out of 100 and print percentage. \n",
    "\n",
    "s1=input(\"enter marks of subject 1\")\n",
    "s2=input(\"enter marks of subject 2\")\n",
    "s3=input(\"enter marks of subject 3\")\n",
    "s4=input(\"enter marks of subject 4\")\n",
    "s5=input(\"enter marks of subject 5\")\n",
    "perc=((int(s1)+int(s2)+int(s3)+int(s4)+int(s5))/500)*100\n",
    "print(\"percentage is :\",perc)\n"
   ]
  },
  {
   "cell_type": "code",
   "execution_count": null,
   "metadata": {},
   "outputs": [],
   "source": []
  }
 ],
 "metadata": {
  "kernelspec": {
   "display_name": "Python 3",
   "language": "python",
   "name": "python3"
  },
  "language_info": {
   "codemirror_mode": {
    "name": "ipython",
    "version": 3
   },
   "file_extension": ".py",
   "mimetype": "text/x-python",
   "name": "python",
   "nbconvert_exporter": "python",
   "pygments_lexer": "ipython3",
   "version": "3.8.3"
  }
 },
 "nbformat": 4,
 "nbformat_minor": 4
}
