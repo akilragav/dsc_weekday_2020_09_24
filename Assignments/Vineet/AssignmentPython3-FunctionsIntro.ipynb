{
 "cells": [
  {
   "cell_type": "code",
   "execution_count": 2,
   "metadata": {},
   "outputs": [
    {
     "name": "stdout",
     "output_type": "stream",
     "text": [
      "Enter first stringvineet\n",
      "Enter second stringjanbandhu\n",
      "Before swapping String1: vineet\n",
      "Before swapping String2: janbandhu\n",
      "After swapping String1: janbandhu\n",
      "After swapping String2: vineet\n"
     ]
    }
   ],
   "source": [
    "#. WAP to input 2 strings and swap the strings \n",
    "string1 = input(\"Enter first string\")\n",
    "string2 = input(\"Enter second string\")\n",
    "print(\"Before swapping String1: \" +string1)\n",
    "print(\"Before swapping String2: \" +string2)\n",
    "string1, string2 = string2, string1\n",
    "print(\"After swapping String1: \" +string1)\n",
    "print(\"After swapping String2: \" +string2)"
   ]
  },
  {
   "cell_type": "code",
   "execution_count": 36,
   "metadata": {},
   "outputs": [
    {
     "name": "stdout",
     "output_type": "stream",
     "text": [
      "10\n",
      "17\n",
      "10\n",
      "4\n",
      "41\n"
     ]
    }
   ],
   "source": [
    "#WAP to generate 4 random numbers in the range 0-26 and print their average \n",
    "import random\n",
    "\n",
    "def randnums():\n",
    "   numbers = [] \n",
    "   for count in range(4):\n",
    "        number = random.randint(0,26)\n",
    "        numbers.append(number)\n",
    "        print(number)\n",
    "   print(sum(numbers))\n",
    "randnums()\n",
    "    \n",
    "    "
   ]
  },
  {
   "cell_type": "code",
   "execution_count": 34,
   "metadata": {},
   "outputs": [
    {
     "name": "stdout",
     "output_type": "stream",
     "text": [
      "cN9my8wd4k\n"
     ]
    }
   ],
   "source": [
    "#WAP to generate and print a random uppercase or lowercase alphabet. Try these:\n",
    "#• Create a string containing all alphabets and then select a random alphabet.\n",
    "#• Check the module string \n",
    "import string\n",
    "import random\n",
    "def get_random_string(length):\n",
    "    random_list = []\n",
    "    for i in range(length):\n",
    "        random_list.append(random.choice(string.ascii_uppercase + string.digits + string.ascii_lowercase))\n",
    "    return ''.join(random_list)\n",
    "print(get_random_string(10))"
   ]
  },
  {
   "cell_type": "code",
   "execution_count": 45,
   "metadata": {},
   "outputs": [
    {
     "name": "stdout",
     "output_type": "stream",
     "text": [
      "Simple interest : 20.0\n"
     ]
    }
   ],
   "source": [
    "#WAF get_si() that takes Principle, Rate and Time as arguments and returns the Simple Interest. \n",
    "\n",
    "def get_si(principle,rate,time):\n",
    "    return ((principle*rate*time)/100)\n",
    "SI= get_si(100,2,10)\n",
    "print(\"Simple interest : {}\".format(SI))"
   ]
  },
  {
   "cell_type": "code",
   "execution_count": 46,
   "metadata": {},
   "outputs": [
    {
     "name": "stdout",
     "output_type": "stream",
     "text": [
      "Simple interest : 10.0\n"
     ]
    }
   ],
   "source": [
    "#WAF get_amount() that takes Principle, Rate and Time as arguments and returns the\n",
    "#Total amount using the get_si() function from above to calculate the SI. Also provide\n",
    "#Rate = 10 and Time = 1 as default arguments. \n",
    "def get_amount(principle,rate=10,time=1):\n",
    "    return ((principle*rate*time)/100)\n",
    "SI= get_amount(100)\n",
    "print(\"Simple interest : {}\".format(SI))"
   ]
  },
  {
   "cell_type": "code",
   "execution_count": 49,
   "metadata": {},
   "outputs": [
    {
     "name": "stdout",
     "output_type": "stream",
     "text": [
      " Please Enter the Principal Amount : 10\n",
      " Please Enter the Rate Of Interest   : 1\n",
      " Please Enter Time period in Years   : 2\n",
      "Compound Interest = 0.2010000000000005\n"
     ]
    }
   ],
   "source": [
    "#WAP get_ci() that takes Principle, Rate and Time as arguments and returns the Compound Interest. \n",
    "import math\n",
    "\n",
    "princ_amount = float(input(\" Please Enter the Principal Amount : \"))\n",
    "rate_of_int = float(input(\" Please Enter the Rate Of Interest   : \"))\n",
    "time_period = float(input(\" Please Enter Time period in Years   : \"))\n",
    "def get_CI(princ_amount,rate_of_int,time_period):\n",
    "    ci_future = princ_amount * (math.pow((1 + rate_of_int / 100), time_period)) \n",
    "    return  ci_future - princ_amount\n",
    "CI= get_CI(princ_amount,rate_of_int,time_period)\n",
    "\n",
    "print(\"Compound Interest = {}\".format(CI))"
   ]
  },
  {
   "cell_type": "code",
   "execution_count": 62,
   "metadata": {},
   "outputs": [
    {
     "name": "stdout",
     "output_type": "stream",
     "text": [
      "Quotient is: 0\n",
      "Remainder is: 10\n"
     ]
    }
   ],
   "source": [
    "#WAP get_q_r() taking 2 numbers as parameters and returns the quotient and\n",
    "#remainder in the form of a tuple.\n",
    "\n",
    "def get_q_r(a,b):\n",
    "    quotient=a//b\n",
    "    remainder=a%b\n",
    "    return quotient ,remainder\n",
    "q,r=get_q_r(10,20)\n",
    "print(\"Quotient is:\",q)\n",
    "print(\"Remainder is:\",r)"
   ]
  },
  {
   "cell_type": "code",
   "execution_count": 63,
   "metadata": {},
   "outputs": [
    {
     "name": "stdout",
     "output_type": "stream",
     "text": [
      "Input lengths of shorter triangle sides:\n",
      "a: 12\n",
      "b: 12\n",
      "The length of the hypotenuse is 16.97056274847714\n"
     ]
    }
   ],
   "source": [
    "#WAP to find the length of hypotenuse of a right angled triangle, input the height and base from user. \n",
    "from math import sqrt\n",
    "print(\"Input lengths of shorter triangle sides:\")\n",
    "a = float(input(\"a: \"))\n",
    "b = float(input(\"b: \"))\n",
    "\n",
    "c = sqrt(a**2 + b**2)\n",
    "print(\"The length of the hypotenuse is\", c )"
   ]
  },
  {
   "cell_type": "code",
   "execution_count": 65,
   "metadata": {},
   "outputs": [
    {
     "name": "stdout",
     "output_type": "stream",
     "text": [
      "Input time in seconds: 10000\n",
      "0 days:2 hour :46 minute :40 second\n"
     ]
    }
   ],
   "source": [
    "#WAP to input number of seconds and print in days, hours, minutes and seconds\n",
    "#ex: input = 10000\n",
    "# Output = 0 day 2 hour 46 minute 40 second \n",
    "\n",
    "time = float(input(\"Input time in seconds: \"))\n",
    "day = time // (24 * 3600)\n",
    "time = time % (24 * 3600)\n",
    "hour = time // 3600\n",
    "time %= 3600\n",
    "minutes = time // 60\n",
    "time %= 60\n",
    "seconds = time\n",
    "print(\"%d days:%d hour :%d minute :%d second\" % (day, hour, minutes, seconds))"
   ]
  },
  {
   "cell_type": "code",
   "execution_count": 67,
   "metadata": {},
   "outputs": [
    {
     "name": "stdout",
     "output_type": "stream",
     "text": [
      "3.8.3 (default, Jul  2 2020, 17:30:36) [MSC v.1916 64 bit (AMD64)]\n"
     ]
    }
   ],
   "source": [
    "import sys\n",
    "print(sys.version)\n"
   ]
  },
  {
   "cell_type": "code",
   "execution_count": 68,
   "metadata": {},
   "outputs": [
    {
     "name": "stdout",
     "output_type": "stream",
     "text": [
      "2 -2\n"
     ]
    }
   ],
   "source": [
    "x= 2\n",
    "x*=3\n",
    "x=x%4\n",
    "y=-x\n",
    "print(x,y)"
   ]
  },
  {
   "cell_type": "code",
   "execution_count": 69,
   "metadata": {},
   "outputs": [
    {
     "name": "stdout",
     "output_type": "stream",
     "text": [
      "None\n"
     ]
    }
   ],
   "source": [
    "def funct():\n",
    "    pass\n",
    "print(funct())"
   ]
  },
  {
   "cell_type": "code",
   "execution_count": null,
   "metadata": {},
   "outputs": [],
   "source": []
  }
 ],
 "metadata": {
  "kernelspec": {
   "display_name": "Python 3",
   "language": "python",
   "name": "python3"
  },
  "language_info": {
   "codemirror_mode": {
    "name": "ipython",
    "version": 3
   },
   "file_extension": ".py",
   "mimetype": "text/x-python",
   "name": "python",
   "nbconvert_exporter": "python",
   "pygments_lexer": "ipython3",
   "version": "3.8.3"
  }
 },
 "nbformat": 4,
 "nbformat_minor": 4
}
