{
 "cells": [
  {
   "cell_type": "code",
   "execution_count": 2,
   "metadata": {},
   "outputs": [
    {
     "name": "stdin",
     "output_type": "stream",
     "text": [
      "enter a string first\n",
      "enter another string second\n"
     ]
    },
    {
     "name": "stdout",
     "output_type": "stream",
     "text": [
      "second first\n",
      "first second\n"
     ]
    }
   ],
   "source": [
    "#write aprogrm to input two string and swap\n",
    "\n",
    "s1=input(\"enter a string\")\n",
    "s2=input(\"enter another string\")\n",
    "\n",
    "temp =s1\n",
    "s1=s2\n",
    "s2=temp\n",
    "\n",
    "print(s1,s2)\n",
    "\n",
    "s1,s2 =s2,s1\n",
    "print(s1,s2)"
   ]
  },
  {
   "cell_type": "code",
   "execution_count": null,
   "metadata": {},
   "outputs": [],
   "source": []
  },
  {
   "cell_type": "code",
   "execution_count": 14,
   "metadata": {},
   "outputs": [
    {
     "name": "stdout",
     "output_type": "stream",
     "text": [
      "average of 4 randmon numbers, 21\n"
     ]
    }
   ],
   "source": [
    "#write a program to generate 4 random numbers and generate their average\n",
    "\n",
    "import random\n",
    "i=0\n",
    "sum=0\n",
    "while (i<4):\n",
    "    sum=sum+random.randrange(0,26)\n",
    "    i=i+1\n",
    "    \n",
    "print('average of 4 randmon numbers,', sum//4)"
   ]
  },
  {
   "cell_type": "code",
   "execution_count": null,
   "metadata": {},
   "outputs": [],
   "source": []
  },
  {
   "cell_type": "code",
   "execution_count": 26,
   "metadata": {},
   "outputs": [
    {
     "name": "stdout",
     "output_type": "stream",
     "text": [
      "random letter L\n",
      "random letter s\n",
      "random letters B\n"
     ]
    }
   ],
   "source": [
    "#3. WAP to generate and print a random uppercase or lowercase alphabet. Try these: \n",
    "#•Create a string containing all alphabets and then select a random alphabet. \n",
    "#• Check the module string\n",
    "import random\n",
    "import string\n",
    "alp='abcdefghijklmnopqrstuvwxyz'+'abcdefghijklmnopqrstuvwxyz'.upper()\n",
    "\n",
    "print('random letter',alp[random.randrange(0,len(alp))])\n",
    "print('random letter',random.choice(alp))\n",
    "\n",
    "\n",
    "\n",
    "print('random letters',random.choice(string.ascii_letters))"
   ]
  },
  {
   "cell_type": "code",
   "execution_count": null,
   "metadata": {},
   "outputs": [],
   "source": []
  },
  {
   "cell_type": "code",
   "execution_count": 27,
   "metadata": {},
   "outputs": [
    {
     "data": {
      "text/plain": [
       "1.0"
      ]
     },
     "execution_count": 27,
     "metadata": {},
     "output_type": "execute_result"
    }
   ],
   "source": [
    "#4write a function for simple interest\n",
    "\n",
    "def get_si(p,t,r):\n",
    "    return p*t*r/100\n",
    "\n",
    "get_si(100,1,1)"
   ]
  },
  {
   "cell_type": "code",
   "execution_count": null,
   "metadata": {},
   "outputs": [],
   "source": []
  },
  {
   "cell_type": "code",
   "execution_count": 28,
   "metadata": {},
   "outputs": [
    {
     "data": {
      "text/plain": [
       "110.0"
      ]
     },
     "execution_count": 28,
     "metadata": {},
     "output_type": "execute_result"
    }
   ],
   "source": [
    "# 5. WAF get_amount() that takes Principle, Rate and Time as arguments and returns the \n",
    "# Total amount using the get_si() function from above to calculate the SI. Also provide \n",
    "# Rate = 10 and Time = 1 as default arguments.\n",
    "\n",
    "\n",
    "def get_si(p,t,r):\n",
    "    return p*t*r/100\n",
    "\n",
    "def get_amount(p,t,r):\n",
    "    return p+get_si(p,t,r)\n",
    "\n",
    "get_amount(100,1,10)"
   ]
  },
  {
   "cell_type": "code",
   "execution_count": null,
   "metadata": {},
   "outputs": [],
   "source": []
  },
  {
   "cell_type": "code",
   "execution_count": 30,
   "metadata": {},
   "outputs": [
    {
     "name": "stdout",
     "output_type": "stream",
     "text": [
      "102.01\n"
     ]
    }
   ],
   "source": [
    "#6. WAP for compound interest\n",
    "\n",
    "def get_ci(p,t,r):\n",
    "    return p*(1+r/100)**t\n",
    "\n",
    "print(get_ci(100,2,1))"
   ]
  },
  {
   "cell_type": "code",
   "execution_count": null,
   "metadata": {},
   "outputs": [],
   "source": []
  },
  {
   "cell_type": "code",
   "execution_count": 33,
   "metadata": {},
   "outputs": [
    {
     "name": "stdin",
     "output_type": "stream",
     "text": [
      "enter a num 9\n",
      "enter another num 2\n"
     ]
    },
    {
     "name": "stdout",
     "output_type": "stream",
     "text": [
      "(4, 1)\n"
     ]
    }
   ],
   "source": [
    "#  7. WAP get_q_r() taking 2 numbers as parameters and returns the quotient and remainder in the form of a tuple.\n",
    "def get_q_r():\n",
    "    n1 = int(input('enter a num'))\n",
    "    n2 = int(input('enter another num'))\n",
    "    return(n1//n2,n1%n2)\n",
    "\n",
    "print(get_q_r())"
   ]
  },
  {
   "cell_type": "code",
   "execution_count": null,
   "metadata": {},
   "outputs": [],
   "source": []
  },
  {
   "cell_type": "code",
   "execution_count": 35,
   "metadata": {},
   "outputs": [
    {
     "name": "stdin",
     "output_type": "stream",
     "text": [
      "enter length of triange 3\n",
      "enter heigth of triange 4\n"
     ]
    },
    {
     "name": "stdout",
     "output_type": "stream",
     "text": [
      "5.0\n"
     ]
    }
   ],
   "source": [
    "#find hte length of hypotenuse\n",
    "import math\n",
    "def hypotenuse(length, height):\n",
    "    return math.sqrt(length*length + height*height)\n",
    "\n",
    "length=int(input(\"enter length of triange\"))\n",
    "height=int(input(\"enter heigth of triange\"))\n",
    "print(hypotenuse(length, height))"
   ]
  },
  {
   "cell_type": "code",
   "execution_count": null,
   "metadata": {},
   "outputs": [],
   "source": []
  },
  {
   "cell_type": "code",
   "execution_count": 44,
   "metadata": {},
   "outputs": [
    {
     "name": "stdout",
     "output_type": "stream",
     "text": [
      "(0, 2, 46, 40)\n"
     ]
    }
   ],
   "source": [
    "\n",
    "#9. WAP to input number of seconds and print in days, hours, minutes and seconds \n",
    "# ex: input = 10000 \n",
    "#  Output = 0 day 2 hour 46 minute 40 second\n",
    "\n",
    "def getTime(sec):\n",
    "    days = sec//(86400)\n",
    "    hours = (sec - days*86400)//3600\n",
    "    mins = (sec - days*86400 - hours*3600)//60\n",
    "    sec = sec - days*86400 - hours*3600 - mins*60\n",
    "\n",
    "    return days,hours,mins,sec\n",
    "\n",
    "print(getTime(10000))"
   ]
  },
  {
   "cell_type": "code",
   "execution_count": null,
   "metadata": {},
   "outputs": [],
   "source": []
  },
  {
   "cell_type": "code",
   "execution_count": null,
   "metadata": {},
   "outputs": [],
   "source": []
  },
  {
   "cell_type": "code",
   "execution_count": null,
   "metadata": {},
   "outputs": [],
   "source": []
  },
  {
   "cell_type": "code",
   "execution_count": null,
   "metadata": {},
   "outputs": [],
   "source": []
  },
  {
   "cell_type": "code",
   "execution_count": null,
   "metadata": {},
   "outputs": [],
   "source": []
  },
  {
   "cell_type": "code",
   "execution_count": null,
   "metadata": {},
   "outputs": [],
   "source": [
    "# 10. Check your version of python interpreter without opening the interpreter \n",
    "#(Which command needs to be used on the command line).\n",
    "\n",
    "\n",
    "python --version\n"
   ]
  },
  {
   "cell_type": "code",
   "execution_count": null,
   "metadata": {},
   "outputs": [],
   "source": []
  },
  {
   "cell_type": "code",
   "execution_count": 39,
   "metadata": {},
   "outputs": [
    {
     "name": "stdout",
     "output_type": "stream",
     "text": [
      "2 -2\n"
     ]
    }
   ],
   "source": [
    "# 11.Find output:\n",
    "\n",
    "x = 2\n",
    "x *= 3  # x=6\n",
    "x = x%4 # 6%4 = 2\n",
    "y = -x  # y=-2\n",
    "print(x,y)  # 2, -2"
   ]
  },
  {
   "cell_type": "code",
   "execution_count": null,
   "metadata": {},
   "outputs": [],
   "source": []
  },
  {
   "cell_type": "code",
   "execution_count": 40,
   "metadata": {},
   "outputs": [
    {
     "name": "stdout",
     "output_type": "stream",
     "text": [
      "None\n"
     ]
    }
   ],
   "source": [
    "# 12. Find output:\n",
    "\n",
    "def func():\n",
    "     pass\n",
    "\n",
    "print(func())  "
   ]
  },
  {
   "cell_type": "code",
   "execution_count": null,
   "metadata": {},
   "outputs": [],
   "source": []
  },
  {
   "cell_type": "code",
   "execution_count": null,
   "metadata": {},
   "outputs": [],
   "source": []
  },
  {
   "cell_type": "code",
   "execution_count": null,
   "metadata": {},
   "outputs": [],
   "source": []
  },
  {
   "cell_type": "code",
   "execution_count": null,
   "metadata": {},
   "outputs": [],
   "source": []
  },
  {
   "cell_type": "code",
   "execution_count": null,
   "metadata": {},
   "outputs": [],
   "source": []
  },
  {
   "cell_type": "code",
   "execution_count": null,
   "metadata": {},
   "outputs": [],
   "source": []
  },
  {
   "cell_type": "code",
   "execution_count": null,
   "metadata": {},
   "outputs": [],
   "source": []
  },
  {
   "cell_type": "code",
   "execution_count": null,
   "metadata": {},
   "outputs": [],
   "source": []
  },
  {
   "cell_type": "code",
   "execution_count": null,
   "metadata": {},
   "outputs": [],
   "source": []
  },
  {
   "cell_type": "code",
   "execution_count": null,
   "metadata": {},
   "outputs": [],
   "source": []
  },
  {
   "cell_type": "code",
   "execution_count": null,
   "metadata": {},
   "outputs": [],
   "source": []
  },
  {
   "cell_type": "code",
   "execution_count": null,
   "metadata": {},
   "outputs": [],
   "source": []
  },
  {
   "cell_type": "code",
   "execution_count": null,
   "metadata": {},
   "outputs": [],
   "source": []
  },
  {
   "cell_type": "code",
   "execution_count": null,
   "metadata": {},
   "outputs": [],
   "source": []
  },
  {
   "cell_type": "code",
   "execution_count": null,
   "metadata": {},
   "outputs": [],
   "source": []
  },
  {
   "cell_type": "code",
   "execution_count": null,
   "metadata": {},
   "outputs": [],
   "source": []
  },
  {
   "cell_type": "code",
   "execution_count": null,
   "metadata": {},
   "outputs": [],
   "source": []
  },
  {
   "cell_type": "code",
   "execution_count": null,
   "metadata": {},
   "outputs": [],
   "source": []
  },
  {
   "cell_type": "code",
   "execution_count": null,
   "metadata": {},
   "outputs": [],
   "source": []
  },
  {
   "cell_type": "code",
   "execution_count": null,
   "metadata": {},
   "outputs": [],
   "source": []
  },
  {
   "cell_type": "code",
   "execution_count": null,
   "metadata": {},
   "outputs": [],
   "source": []
  },
  {
   "cell_type": "code",
   "execution_count": null,
   "metadata": {},
   "outputs": [],
   "source": []
  }
 ],
 "metadata": {
  "kernelspec": {
   "display_name": "Python 3",
   "language": "python",
   "name": "python3"
  },
  "language_info": {
   "codemirror_mode": {
    "name": "ipython",
    "version": 3
   },
   "file_extension": ".py",
   "mimetype": "text/x-python",
   "name": "python",
   "nbconvert_exporter": "python",
   "pygments_lexer": "ipython3",
   "version": "3.8.3"
  }
 },
 "nbformat": 4,
 "nbformat_minor": 4
}
