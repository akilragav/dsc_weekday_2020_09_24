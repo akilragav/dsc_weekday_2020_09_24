{
 "cells": [
  {
   "cell_type": "code",
   "execution_count": 2,
   "metadata": {},
   "outputs": [
    {
     "name": "stdin",
     "output_type": "stream",
     "text": [
      "Enter  p:   1\n",
      "Enter  r:   2\n",
      "Enter  t:   3\n"
     ]
    },
    {
     "name": "stdout",
     "output_type": "stream",
     "text": [
      "0.06\n",
      "1.06\n"
     ]
    }
   ],
   "source": [
    "# simple  interest : v3\n",
    "# (p*r*t)/100\n",
    "def amount(p,r,t):\n",
    "    return p + si(p,r,t)\n",
    "\n",
    "def si(p, r, t):\n",
    "    res  = (p*r*t)/100\n",
    "    return res\n",
    "\n",
    "x = int(input(\"Enter  p:  \"))\n",
    "y = int(input(\"Enter  r:  \"))\n",
    "z = int(input(\"Enter  t:  \"))\n",
    "print(si(x,y,z))\n",
    "a = amount(x,y,z)\n",
    "print(a)"
   ]
  },
  {
   "cell_type": "code",
   "execution_count": null,
   "metadata": {},
   "outputs": [],
   "source": []
  },
  {
   "cell_type": "code",
   "execution_count": 8,
   "metadata": {},
   "outputs": [
    {
     "name": "stdout",
     "output_type": "stream",
     "text": [
      "14\n",
      "Funct 15\n",
      "15\n"
     ]
    }
   ],
   "source": [
    "def funct():\n",
    "    #x=123\n",
    "    global x\n",
    "    x = x + 1 # read and write : global\n",
    "    print(\"Funct\", x) # reading value of x\n",
    "\n",
    "# python can have multiple variables with same name in different scopes\n",
    "#x = 10 # global x\n",
    "print(x)    \n",
    "funct()\n",
    "print(x)"
   ]
  },
  {
   "cell_type": "code",
   "execution_count": null,
   "metadata": {},
   "outputs": [],
   "source": []
  },
  {
   "cell_type": "code",
   "execution_count": null,
   "metadata": {},
   "outputs": [],
   "source": []
  },
  {
   "cell_type": "code",
   "execution_count": null,
   "metadata": {},
   "outputs": [],
   "source": []
  },
  {
   "cell_type": "code",
   "execution_count": null,
   "metadata": {},
   "outputs": [],
   "source": []
  },
  {
   "cell_type": "code",
   "execution_count": null,
   "metadata": {},
   "outputs": [],
   "source": []
  },
  {
   "cell_type": "code",
   "execution_count": null,
   "metadata": {},
   "outputs": [],
   "source": []
  }
 ],
 "metadata": {
  "kernelspec": {
   "display_name": "Python 3",
   "language": "python",
   "name": "python3"
  },
  "language_info": {
   "codemirror_mode": {
    "name": "ipython",
    "version": 3
   },
   "file_extension": ".py",
   "mimetype": "text/x-python",
   "name": "python",
   "nbconvert_exporter": "python",
   "pygments_lexer": "ipython3",
   "version": "3.8.3"
  }
 },
 "nbformat": 4,
 "nbformat_minor": 4
}
